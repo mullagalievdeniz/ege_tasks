{
  "nbformat": 4,
  "nbformat_minor": 0,
  "metadata": {
    "colab": {
      "provenance": [],
      "authorship_tag": "ABX9TyPOB6U78wJ92UjQJ9mdIMyI",
      "include_colab_link": true
    },
    "kernelspec": {
      "name": "python3",
      "display_name": "Python 3"
    },
    "language_info": {
      "name": "python"
    }
  },
  "cells": [
    {
      "cell_type": "markdown",
      "metadata": {
        "id": "view-in-github",
        "colab_type": "text"
      },
      "source": [
        "<a href=\"https://colab.research.google.com/github/mullagalievdeniz/ege_tasks/blob/main/tasks.ipynb\" target=\"_parent\"><img src=\"https://colab.research.google.com/assets/colab-badge.svg\" alt=\"Open In Colab\"/></a>"
      ]
    },
    {
      "cell_type": "markdown",
      "source": [
        "ЕГЭ по информатике"
      ],
      "metadata": {
        "id": "yaNzfdz56SvO"
      }
    },
    {
      "cell_type": "markdown",
      "source": [
        "#9 задание"
      ],
      "metadata": {
        "id": "4cSEgorIhZ00"
      }
    },
    {
      "cell_type": "markdown",
      "source": [
        "найдите количество троек, которые могут образовать арифиметическую прогресссию, и разность которых не равна 0"
      ],
      "metadata": {
        "id": "S8TbjmSgkMVS"
      }
    },
    {
      "cell_type": "code",
      "source": [
        "file = open('file.txt').readline()\n",
        "c = 0\n",
        "for i in file:\n",
        "  l = sorted(int(num) for num in i.split())\n",
        "  if l[2] - l[1] == l[1] - l[0] and l[1] - l[0] != 0:\n",
        "    c+=1\n",
        "print(c)\n",
        "\n"
      ],
      "metadata": {
        "colab": {
          "base_uri": "https://localhost:8080/",
          "height": 245
        },
        "id": "ToUGuai2heIP",
        "outputId": "1904cefc-179a-4617-9819-75ef06a77bcb"
      },
      "execution_count": null,
      "outputs": [
        {
          "output_type": "error",
          "ename": "FileNotFoundError",
          "evalue": "[Errno 2] No such file or directory: 'file.txt'",
          "traceback": [
            "\u001b[0;31m---------------------------------------------------------------------------\u001b[0m",
            "\u001b[0;31mFileNotFoundError\u001b[0m                         Traceback (most recent call last)",
            "\u001b[0;32m<ipython-input-9-84a5ddfc38ff>\u001b[0m in \u001b[0;36m<cell line: 1>\u001b[0;34m()\u001b[0m\n\u001b[0;32m----> 1\u001b[0;31m \u001b[0mfile\u001b[0m \u001b[0;34m=\u001b[0m \u001b[0mopen\u001b[0m\u001b[0;34m(\u001b[0m\u001b[0;34m'file.txt'\u001b[0m\u001b[0;34m)\u001b[0m\u001b[0;34m.\u001b[0m\u001b[0mreadline\u001b[0m\u001b[0;34m(\u001b[0m\u001b[0;34m)\u001b[0m\u001b[0;34m\u001b[0m\u001b[0;34m\u001b[0m\u001b[0m\n\u001b[0m\u001b[1;32m      2\u001b[0m \u001b[0mc\u001b[0m \u001b[0;34m=\u001b[0m \u001b[0;36m0\u001b[0m\u001b[0;34m\u001b[0m\u001b[0;34m\u001b[0m\u001b[0m\n\u001b[1;32m      3\u001b[0m \u001b[0;32mfor\u001b[0m \u001b[0mi\u001b[0m \u001b[0;32min\u001b[0m \u001b[0mfile\u001b[0m\u001b[0;34m:\u001b[0m\u001b[0;34m\u001b[0m\u001b[0;34m\u001b[0m\u001b[0m\n\u001b[1;32m      4\u001b[0m   \u001b[0ml\u001b[0m \u001b[0;34m=\u001b[0m \u001b[0msorted\u001b[0m\u001b[0;34m(\u001b[0m\u001b[0mint\u001b[0m\u001b[0;34m(\u001b[0m\u001b[0mnum\u001b[0m\u001b[0;34m)\u001b[0m \u001b[0;32mfor\u001b[0m \u001b[0mnum\u001b[0m \u001b[0;32min\u001b[0m \u001b[0mi\u001b[0m\u001b[0;34m.\u001b[0m\u001b[0msplit\u001b[0m\u001b[0;34m(\u001b[0m\u001b[0;34m)\u001b[0m\u001b[0;34m)\u001b[0m\u001b[0;34m\u001b[0m\u001b[0;34m\u001b[0m\u001b[0m\n\u001b[1;32m      5\u001b[0m   \u001b[0;32mif\u001b[0m \u001b[0ml\u001b[0m\u001b[0;34m[\u001b[0m\u001b[0;36m2\u001b[0m\u001b[0;34m]\u001b[0m \u001b[0;34m-\u001b[0m \u001b[0ml\u001b[0m\u001b[0;34m[\u001b[0m\u001b[0;36m1\u001b[0m\u001b[0;34m]\u001b[0m \u001b[0;34m==\u001b[0m \u001b[0ml\u001b[0m\u001b[0;34m[\u001b[0m\u001b[0;36m1\u001b[0m\u001b[0;34m]\u001b[0m \u001b[0;34m-\u001b[0m \u001b[0ml\u001b[0m\u001b[0;34m[\u001b[0m\u001b[0;36m0\u001b[0m\u001b[0;34m]\u001b[0m \u001b[0;32mand\u001b[0m \u001b[0ml\u001b[0m\u001b[0;34m[\u001b[0m\u001b[0;36m1\u001b[0m\u001b[0;34m]\u001b[0m \u001b[0;34m-\u001b[0m \u001b[0ml\u001b[0m\u001b[0;34m[\u001b[0m\u001b[0;36m0\u001b[0m\u001b[0;34m]\u001b[0m \u001b[0;34m!=\u001b[0m \u001b[0;36m0\u001b[0m\u001b[0;34m:\u001b[0m\u001b[0;34m\u001b[0m\u001b[0;34m\u001b[0m\u001b[0m\n",
            "\u001b[0;31mFileNotFoundError\u001b[0m: [Errno 2] No such file or directory: 'file.txt'"
          ]
        }
      ]
    },
    {
      "cell_type": "code",
      "source": [
        "file = open('file.txt').readline()\n",
        "c = 0\n",
        "for i in file:\n",
        "  l = sorted(int(num) for num in i.split())\n",
        "  if l[3] > l[2] + l[1] + l[0]:\n",
        "    if l[0] + l[1] == l[2] + l[3] or l[0] + l[2] == l[1] + l[3] or l[0] + l[3] == l[1] + l[2]:\n",
        "      c+=1\n",
        "print(c)\n",
        "\n"
      ],
      "metadata": {
        "id": "VF0WzocNk4Ha"
      },
      "execution_count": null,
      "outputs": []
    },
    {
      "cell_type": "code",
      "source": [
        "file = open('9-227.txt')\n",
        "count = 0\n",
        "for i in file:\n",
        "  num_list = sorted(int(num) for num in i.split())\n",
        "  print(num_list)\n",
        "  a = set(num_list)\n",
        "  if len(a) == 3:\n",
        "    sum_1 = num_list[0] + num_list[1]\n",
        "    sum_2 = num_list[2] + num_list[3]\n",
        "    if sum_2 / sum_1 > 2:\n",
        "      if max(num_list) % min(num_list) != 0:\n",
        "        count += 1\n",
        "print(count)\n",
        "\n",
        "\n"
      ],
      "metadata": {
        "id": "T-S4MO-4nRIF"
      },
      "execution_count": null,
      "outputs": []
    },
    {
      "cell_type": "code",
      "source": [
        "from collections import Counter\n",
        "\n",
        "file = open('9-226.txt')\n",
        "count = 0\n",
        "sums = {}\n",
        "ans = {}\n",
        "\n",
        "for i in file:\n",
        "  count += 1\n",
        "  sums[count] = sorted(int(num) for num in i.split())\n",
        "\n",
        "for key in sums:\n",
        "  #count = Counter(sums[key])\n",
        "  count = set(sums[key])\n",
        "  if len(count) == 5:\n",
        "    #print((''.join(map(str, sums[key]))))\n",
        "    if (''.join(map(str, sums[key]))).count(str(max(sums[key]))) == 1:\n",
        "      ans[key] = sum(sums[key])\n",
        "\n",
        "\n",
        "\n",
        "print(ans)"
      ],
      "metadata": {
        "colab": {
          "base_uri": "https://localhost:8080/",
          "height": 384
        },
        "id": "2-s7dhs_zRdB",
        "outputId": "bf140103-72c7-4730-d15a-44710ab8f9ac"
      },
      "execution_count": null,
      "outputs": [
        {
          "output_type": "error",
          "ename": "FileNotFoundError",
          "evalue": "[Errno 2] No such file or directory: '9-226.txt'",
          "traceback": [
            "\u001b[0;31m---------------------------------------------------------------------------\u001b[0m",
            "\u001b[0;31mFileNotFoundError\u001b[0m                         Traceback (most recent call last)",
            "\u001b[0;32m<ipython-input-1-d83b44b7fd51>\u001b[0m in \u001b[0;36m<cell line: 3>\u001b[0;34m()\u001b[0m\n\u001b[1;32m      1\u001b[0m \u001b[0;32mfrom\u001b[0m \u001b[0mcollections\u001b[0m \u001b[0;32mimport\u001b[0m \u001b[0mCounter\u001b[0m\u001b[0;34m\u001b[0m\u001b[0;34m\u001b[0m\u001b[0m\n\u001b[1;32m      2\u001b[0m \u001b[0;34m\u001b[0m\u001b[0m\n\u001b[0;32m----> 3\u001b[0;31m \u001b[0mfile\u001b[0m \u001b[0;34m=\u001b[0m \u001b[0mopen\u001b[0m\u001b[0;34m(\u001b[0m\u001b[0;34m'9-226.txt'\u001b[0m\u001b[0;34m)\u001b[0m\u001b[0;34m\u001b[0m\u001b[0;34m\u001b[0m\u001b[0m\n\u001b[0m\u001b[1;32m      4\u001b[0m \u001b[0mcount\u001b[0m \u001b[0;34m=\u001b[0m \u001b[0;36m0\u001b[0m\u001b[0;34m\u001b[0m\u001b[0;34m\u001b[0m\u001b[0m\n\u001b[1;32m      5\u001b[0m \u001b[0msums\u001b[0m \u001b[0;34m=\u001b[0m \u001b[0;34m{\u001b[0m\u001b[0;34m}\u001b[0m\u001b[0;34m\u001b[0m\u001b[0;34m\u001b[0m\u001b[0m\n",
            "\u001b[0;31mFileNotFoundError\u001b[0m: [Errno 2] No such file or directory: '9-226.txt'"
          ]
        }
      ]
    },
    {
      "cell_type": "markdown",
      "source": [],
      "metadata": {
        "id": "jf82pd9Wkxmm"
      }
    },
    {
      "cell_type": "markdown",
      "source": [
        "# 24 задание\n"
      ],
      "metadata": {
        "id": "m_N7K1SEb5Zy"
      }
    },
    {
      "cell_type": "markdown",
      "source": [
        "Текстовый файл 24-279.txt состоит не более чем из 106 символов и содержит только заглавные буквы латинского алфавита и десятичные цифры. Определите максимальное количество идущих подряд символов, которые могут представлять запись числа в шестнадцатеричной системе счисления. Незначащие нули учитывать не следует."
      ],
      "metadata": {
        "id": "VsO-07b1Wlz5"
      }
    },
    {
      "cell_type": "code",
      "source": [
        "file = open('24-279.txt').readline()\n",
        "c = m = 0\n",
        "\n",
        "def check(s):\n",
        "  if s in '0123456789ABCDEF':\n",
        "    return True\n",
        "  else:\n",
        "    return False\n",
        "\n",
        "\n",
        "for i in range(len(file)):\n",
        "  if check(file[i]):\n",
        "    c += 1\n",
        "  else:\n",
        "    c = 0\n",
        "  m = max(m, c)\n",
        "\n",
        "print(m)\n",
        "\n"
      ],
      "metadata": {
        "id": "Kr0GoAaLkl73",
        "colab": {
          "base_uri": "https://localhost:8080/"
        },
        "outputId": "19984655-2394-447d-a772-9aab8cd7d975"
      },
      "execution_count": null,
      "outputs": [
        {
          "output_type": "stream",
          "name": "stdout",
          "text": [
            "21\n"
          ]
        }
      ]
    },
    {
      "cell_type": "markdown",
      "source": [
        "Цепочка из символов латинского алфавита A B C D E F. Найдите длину самой длинной подцепочки, состоящей из из символов A C D F (в произвольном порядке)"
      ],
      "metadata": {
        "id": "nXFZg2Nqb-9m"
      }
    },
    {
      "cell_type": "code",
      "source": [
        "file = open('text.file').readline()\n",
        "file = file.replace('B', ' ').replace('E', ' ')\n",
        "print(max(len(nums) for nums in file.split()))"
      ],
      "metadata": {
        "id": "_eaTQuj4b8S2"
      },
      "execution_count": null,
      "outputs": []
    },
    {
      "cell_type": "markdown",
      "source": [
        "состоят из X Y Z, каждые 2 соседних символа различны"
      ],
      "metadata": {
        "id": "-OQ4GEM9biBx"
      }
    },
    {
      "cell_type": "code",
      "source": [
        "file = open('24.txt')\n",
        "text = file.read().strip()\n",
        "\n",
        "for c in 'XYZ':\n",
        "  while 'XX' in s:\n",
        "    s = s.replace(c*2, c + ' ' + c)\n",
        "w = s.split()\n",
        "n = len(max(W, key=len))\n",
        "print(m)"
      ],
      "metadata": {
        "id": "5HI_dteybheZ"
      },
      "execution_count": null,
      "outputs": []
    },
    {
      "cell_type": "code",
      "source": [
        "file = open('24-1.txt').readline()\n",
        "c = m = 1\n",
        "for i in range(len(file)-1):\n",
        "  if file[i] == file[i+1]:\n",
        "    c += 1\n",
        "    m = max(m, c)\n",
        "  else:\n",
        "    c = 1\n",
        "print(m)\n"
      ],
      "metadata": {
        "id": "f1Dj1Re7fMxb"
      },
      "execution_count": null,
      "outputs": []
    },
    {
      "cell_type": "code",
      "source": [
        "file = open('k7a-4.txt').readline()\n",
        "c = m = 1\n",
        "\n",
        "for i in range(len(file)):\n",
        "  if file[i] != 'D':\n",
        "    c += 1\n",
        "    m = max(m, c)\n",
        "  else:\n",
        "    c = 0\n",
        "\n",
        "print(m)"
      ],
      "metadata": {
        "colab": {
          "base_uri": "https://localhost:8080/"
        },
        "id": "jk6QqVnEcmzp",
        "outputId": "8c617b17-ee83-48cb-e55e-effcdc45636d"
      },
      "execution_count": null,
      "outputs": [
        {
          "output_type": "stream",
          "name": "stdout",
          "text": [
            "44\n"
          ]
        }
      ]
    },
    {
      "cell_type": "markdown",
      "source": [
        "не содержащей символа D"
      ],
      "metadata": {
        "id": "FQpSrrHMivOD"
      }
    },
    {
      "cell_type": "code",
      "source": [
        "file = open('24.txt')\n",
        "text = file.read().strip()\n",
        "words = text.split('D')\n",
        "print(len(max(words, key=len)))"
      ],
      "metadata": {
        "id": "Ytu6HjW0i1xq"
      },
      "execution_count": null,
      "outputs": []
    },
    {
      "cell_type": "code",
      "source": [
        "file = open('k7a-1.txt').readline()\n",
        "c = m = 1\n",
        "for i in range(len(file)):\n",
        "  if file[i] == 'D' or file[i] == 'E':\n",
        "    c = 0\n",
        "  else:\n",
        "    c += 1\n",
        "    m = max(m, c)\n",
        "\n",
        "print(m)"
      ],
      "metadata": {
        "id": "KCYF3infkFPa",
        "colab": {
          "base_uri": "https://localhost:8080/"
        },
        "outputId": "2e049b1f-545f-46da-fc2a-9da8194c4c85"
      },
      "execution_count": null,
      "outputs": [
        {
          "output_type": "stream",
          "name": "stdout",
          "text": [
            "16\n"
          ]
        }
      ]
    },
    {
      "cell_type": "code",
      "source": [
        "string = open(\"24.txt\").readline().replace(\"D\", \" \").replace(\"E\", \" \")\n",
        "words = string.split()\n",
        "print(len(max(words, key=len)))"
      ],
      "metadata": {
        "id": "3qFpGiFyoj2Z"
      },
      "execution_count": null,
      "outputs": []
    },
    {
      "cell_type": "code",
      "source": [
        "import re\n",
        "file = open('24.txt').read()\n",
        "string_list = re.findall(r'A.*?A', file)\n",
        "print(len(string_list))"
      ],
      "metadata": {
        "colab": {
          "base_uri": "https://localhost:8080/",
          "height": 227
        },
        "id": "dPSVy4b2sK7F",
        "outputId": "ad99e14d-69b0-446f-a38b-4965b81dc502"
      },
      "execution_count": null,
      "outputs": [
        {
          "output_type": "error",
          "ename": "FileNotFoundError",
          "evalue": "[Errno 2] No such file or directory: '24.txt'",
          "traceback": [
            "\u001b[0;31m---------------------------------------------------------------------------\u001b[0m",
            "\u001b[0;31mFileNotFoundError\u001b[0m                         Traceback (most recent call last)",
            "\u001b[0;32m<ipython-input-2-e71e664f40be>\u001b[0m in \u001b[0;36m<cell line: 2>\u001b[0;34m()\u001b[0m\n\u001b[1;32m      1\u001b[0m \u001b[0;32mimport\u001b[0m \u001b[0mre\u001b[0m\u001b[0;34m\u001b[0m\u001b[0;34m\u001b[0m\u001b[0m\n\u001b[0;32m----> 2\u001b[0;31m \u001b[0mfile\u001b[0m \u001b[0;34m=\u001b[0m \u001b[0mopen\u001b[0m\u001b[0;34m(\u001b[0m\u001b[0;34m'24.txt'\u001b[0m\u001b[0;34m)\u001b[0m\u001b[0;34m.\u001b[0m\u001b[0mread\u001b[0m\u001b[0;34m(\u001b[0m\u001b[0;34m)\u001b[0m\u001b[0;34m\u001b[0m\u001b[0;34m\u001b[0m\u001b[0m\n\u001b[0m\u001b[1;32m      3\u001b[0m \u001b[0mstring_list\u001b[0m \u001b[0;34m=\u001b[0m \u001b[0mre\u001b[0m\u001b[0;34m.\u001b[0m\u001b[0mfindall\u001b[0m\u001b[0;34m(\u001b[0m\u001b[0;34mr'A.*?A'\u001b[0m\u001b[0;34m,\u001b[0m \u001b[0mfile\u001b[0m\u001b[0;34m)\u001b[0m\u001b[0;34m\u001b[0m\u001b[0;34m\u001b[0m\u001b[0m\n\u001b[1;32m      4\u001b[0m \u001b[0mprint\u001b[0m\u001b[0;34m(\u001b[0m\u001b[0mlen\u001b[0m\u001b[0;34m(\u001b[0m\u001b[0mstring_list\u001b[0m\u001b[0;34m)\u001b[0m\u001b[0;34m)\u001b[0m\u001b[0;34m\u001b[0m\u001b[0;34m\u001b[0m\u001b[0m\n",
            "\u001b[0;31mFileNotFoundError\u001b[0m: [Errno 2] No such file or directory: '24.txt'"
          ]
        }
      ]
    },
    {
      "cell_type": "markdown",
      "source": [
        "минимальная длина AF подстроки. АF подстрока - последовательность символов ABCDEF ограниченные в начале символом A, а в конце символом F"
      ],
      "metadata": {
        "id": "O8hkHp4aosNB"
      }
    },
    {
      "cell_type": "code",
      "source": [
        "file = open('24.txt').read().rstrip()\n",
        "\n",
        "state = 1 # ждём A и игнорируем буквы F\n",
        "for c in file:\n",
        "  if state == 1:\n",
        "    if c == 'A':\n",
        "      n = 1\n",
        "      state = 2 # теперь ждём F\n",
        "  elif state == 2:\n",
        "    if c == 'A':\n",
        "      n = 1\n",
        "    elif c != 'F':\n",
        "      n += 1\n",
        "      state = 1\n",
        "      if n != 2:  #больше чем AF\n",
        "        m = min(m , n)\n",
        "    else:\n",
        "      n += 1\n",
        "\n",
        "print(m)\n"
      ],
      "metadata": {
        "id": "_xIKvJbfpKIr"
      },
      "execution_count": null,
      "outputs": []
    },
    {
      "cell_type": "code",
      "source": [
        "file = open(\"24-2.txt\")\n",
        "text = file.read().rstrip()\n",
        "wait_F = False\n",
        "m = len(text)\n",
        "for c in text:\n",
        "    if c == 'A':\n",
        "        n = 1\n",
        "        wait_F = True\n",
        "    elif wait_F:\n",
        "        n += 1\n",
        "        if c == 'F':\n",
        "            wait_F = False\n",
        "            if n != 2:  # больше чем AF\n",
        "                m = min(m, n)\n",
        "print(m)"
      ],
      "metadata": {
        "id": "lVaMA7cXwl0U"
      },
      "execution_count": null,
      "outputs": []
    },
    {
      "cell_type": "markdown",
      "source": [
        "Файл содержит только заглавные буквы. Определить максимальное количество идущих подряд символов, среди которых нет сочетания ST\n",
        "\n",
        "S может включаться в подстроку"
      ],
      "metadata": {
        "id": "M6fG778HdSTu"
      }
    },
    {
      "cell_type": "code",
      "source": [
        "file = open('24.txt').readline()\n",
        "file = file.replace('ST', 'S T')\n",
        "answer = []\n",
        "for i in file.split():\n",
        "  answer.append(len(i))\n",
        "\n",
        "print(max(answer))\n"
      ],
      "metadata": {
        "id": "aAYKbeSNc2LF"
      },
      "execution_count": null,
      "outputs": []
    },
    {
      "cell_type": "markdown",
      "source": [
        "среди которых нет сочеитания KEGE"
      ],
      "metadata": {
        "id": "UaPDIGyGeXWX"
      }
    },
    {
      "cell_type": "code",
      "source": [
        "file = open('24.txt').readline()\n",
        "file = file.replace('KEGE', 'KEG EGE')\n",
        "answer = []\n",
        "for i in file.split():\n",
        "  answer.append(len(i))\n",
        "\n",
        "print(max(answer))"
      ],
      "metadata": {
        "colab": {
          "base_uri": "https://localhost:8080/"
        },
        "id": "P2Ra17oId-HY",
        "outputId": "bf11af42-4f0f-4cd1-c2ec-98da7182d285"
      },
      "execution_count": null,
      "outputs": [
        {
          "output_type": "stream",
          "name": "stdout",
          "text": [
            "['abcdfghjk', 'j', 'l', 'llls;l', 'l;ls;l', ';ls;l;ls;l', ';ls;l;sl;', ';l;']\n"
          ]
        }
      ]
    },
    {
      "cell_type": "markdown",
      "source": [
        "нет сочетания символов PPP\n",
        "\n",
        "(если сочетане начинается и заканчивается на одну и ту же букву, необходимо сделать несколько замен в цикле!)"
      ],
      "metadata": {
        "id": "DZ28KGVRflXf"
      }
    },
    {
      "cell_type": "code",
      "source": [
        "file = open('24.txt').readline()\n",
        "while 'PPP' in file:\n",
        "  file = file.replace('PPP', 'PP PP')\n",
        "\n",
        "answer = []\n",
        "for word in file.split():\n",
        "  answer.append(len(word))\n",
        "\n",
        "print(max(answer))"
      ],
      "metadata": {
        "id": "X_EiCFxIfUQy"
      },
      "execution_count": null,
      "outputs": []
    },
    {
      "cell_type": "markdown",
      "source": [
        "Буквы латинского алфавита и десятичные цифры. Найти длину последовательности, состоящей из одинаковых символов. Если несколько цепочек подходящей длины, возьмите первую из них. Выведите символ из которого строитсмя подцепочка и через пробел - длину"
      ],
      "metadata": {
        "id": "ndicEuR_i5Aw"
      }
    },
    {
      "cell_type": "code",
      "source": [
        "file = open('24.txt').readline()\n",
        "c = m = 1 # строка состоит минимум из 1 символа\n",
        "char = ''\n",
        "for i in range(len(file)-1):\n",
        "  if file[i] == file[i+1]:\n",
        "    c += 1\n",
        "    if c > m:\n",
        "      m = c\n",
        "      char = file[i]\n",
        "  else:\n",
        "    c = 1\n",
        "\n",
        "print(char, m)\n"
      ],
      "metadata": {
        "id": "Xsern0VdiAOZ"
      },
      "execution_count": null,
      "outputs": []
    },
    {
      "cell_type": "code",
      "source": [
        "file = open('24-263.txt').readline()\n",
        "c = m = 1\n",
        "\n",
        "for i in range(len(file)-1):\n",
        "  if file[i] != file[i+1]:\n",
        "    c += 1\n",
        "    if c > m:\n",
        "      m = c\n",
        "  else:\n",
        "    c = 1\n",
        "\n",
        "print(m)"
      ],
      "metadata": {
        "colab": {
          "base_uri": "https://localhost:8080/"
        },
        "id": "dHntgvlukSAH",
        "outputId": "a67f0902-65cb-407c-c4dc-a4b80207cd90"
      },
      "execution_count": null,
      "outputs": [
        {
          "output_type": "stream",
          "name": "stdout",
          "text": [
            "302\n"
          ]
        }
      ]
    },
    {
      "cell_type": "code",
      "source": [
        "s = open('24-264.txt').readline()\n",
        "c = m = 1\n",
        "\n",
        "\n",
        "def check(a):\n",
        "  try:\n",
        "    ts = int(a)\n",
        "    return False\n",
        "  except Exception:\n",
        "    return True\n",
        "\n",
        "\n",
        "for i in range(len(s)-1):\n",
        "  a1 = check(s[i])\n",
        "  a2 = check(s[i+1])\n",
        "  if a1 != a2:\n",
        "    c += 1\n",
        "    m = max(m, c)\n",
        "  else:\n",
        "    c = 1\n",
        "\n",
        "print(m)\n",
        "\n",
        "\n"
      ],
      "metadata": {
        "colab": {
          "base_uri": "https://localhost:8080/"
        },
        "id": "Yd-8xOtwmuA8",
        "outputId": "120d4cf2-424a-4d26-a937-ff077d4479c1"
      },
      "execution_count": null,
      "outputs": [
        {
          "output_type": "stream",
          "name": "stdout",
          "text": [
            "18\n"
          ]
        }
      ]
    },
    {
      "cell_type": "markdown",
      "source": [
        "максимальная длина цепочки EBCFEBCF (последний фрагмент может быть неполным)"
      ],
      "metadata": {
        "id": "GHzmsxyOxyfA"
      }
    },
    {
      "cell_type": "code",
      "source": [
        "file = open('24.txt').read().strip()\n",
        "pattern = 'EBCF'\n",
        "for i in range(len(s)):\n",
        "  if s[i] in pattern:\n",
        "    pos = pattern.find(s[i])\n",
        "    if pattern[pos-1] == s[i-1]:  # предыдущая буква\n",
        "      n += 1\n",
        "    else:\n",
        "      n = 0\n"
      ],
      "metadata": {
        "id": "5uIEC1Scyukd"
      },
      "execution_count": null,
      "outputs": []
    },
    {
      "cell_type": "code",
      "source": [
        "file = open(\"k7b-4.txt\")\n",
        "pattern = \"EBCF\"\n",
        "s = file.read().rstrip()\n",
        "n = -10\n",
        "m = 0\n",
        "for i in range(1, len(s)):\n",
        "    # если слева от текущей та, которая слева по паттерну:\n",
        "    if s[i] in \"EBCF\" and s[i-1] == \"EBCF\"[\"EBCF\".find(s[i])-1]:\n",
        "        n += 1\n",
        "        m = max(m, n)\n",
        "    elif s[i] == 'E':\n",
        "        n = 1\n",
        "print(m)"
      ],
      "metadata": {
        "id": "3zxzNSKw1ktW"
      },
      "execution_count": null,
      "outputs": []
    },
    {
      "cell_type": "markdown",
      "source": [
        "Опеделите максимальное количество символов, идущих друг за другом в строго возрастающем порядке"
      ],
      "metadata": {
        "id": "bwmoadJ8geY1"
      }
    },
    {
      "cell_type": "code",
      "source": [
        "s = open('24.txt').readline()\n",
        "c = m = 1\n",
        "\n",
        "for i in range(len(s)-1):\n",
        "  if s[i] < i[i+1]:\n",
        "    c += 1\n",
        "    m = max(c, m)\n",
        "  else:\n",
        "    c = 1\n",
        "\n",
        "print(m)"
      ],
      "metadata": {
        "id": "uNRz-uo3goHQ"
      },
      "execution_count": null,
      "outputs": []
    },
    {
      "cell_type": "markdown",
      "source": [
        "Максимальное количество символов, идущих обратном в алфавитном порядке X Y Z"
      ],
      "metadata": {
        "id": "ioPTFrBPjTZx"
      }
    },
    {
      "cell_type": "code",
      "source": [
        "s = open('24.txt').readline()\n",
        "c = m = 1\n",
        "\n",
        "for i in range(len(s)-1):\n",
        "  if s[i+1] <= s[i]:\n",
        "    c+=1\n",
        "    m = max(m, c)\n",
        "  else:\n",
        "    c = 1\n",
        "print(m)"
      ],
      "metadata": {
        "id": "mtmqDjr3jp_X"
      },
      "execution_count": null,
      "outputs": []
    },
    {
      "cell_type": "markdown",
      "source": [
        "Строка из заглавных латинских букв X Y Z, определите максимальное количество идущих пар символов ZX или ZY"
      ],
      "metadata": {
        "id": "Dntl4U9ikpE2"
      }
    },
    {
      "cell_type": "code",
      "source": [
        "s = open('22.txt').readline()\n",
        "s = s.replace('ZX', '*').replace('ZY', '*')\n",
        "s = s.replace('X', ' ').replace('Y', ' ').replace('Z', ' ')\n",
        "answer = []\n",
        "for c in s.split():\n",
        "  answer.append(len(c))\n",
        "\n",
        "print(max(answer))\n"
      ],
      "metadata": {
        "colab": {
          "base_uri": "https://localhost:8080/"
        },
        "id": "AqTEWfifkEnM",
        "outputId": "e248c39d-9375-4e28-88e9-1e134dc7d563"
      },
      "execution_count": null,
      "outputs": [
        {
          "output_type": "execute_result",
          "data": {
            "text/plain": [
              "True"
            ]
          },
          "metadata": {},
          "execution_count": 7
        }
      ]
    },
    {
      "cell_type": "code",
      "source": [
        "s = open('24_12254.txt').readline()\n",
        "c = m = 1\n",
        "\n",
        "for i in range(len(s)-1):\n",
        "  if (s[i] + s[i+1]) in ['SQ', 'RS', 'QR']:\n",
        "    c+=1\n",
        "    m = max(c, m)\n",
        "  else:\n",
        "    c = 1\n",
        "\n",
        "print(m)"
      ],
      "metadata": {
        "colab": {
          "base_uri": "https://localhost:8080/"
        },
        "id": "_Dy6Ao9lli6X",
        "outputId": "0aff9288-94c6-4668-f890-675d8cb1b888"
      },
      "execution_count": null,
      "outputs": [
        {
          "output_type": "stream",
          "name": "stdout",
          "text": [
            "54\n"
          ]
        }
      ]
    },
    {
      "cell_type": "markdown",
      "source": [
        "Текстовый файл состоит из символов T, U, V, W, X, Y и Z.\n",
        "\n",
        "Определите в прилагаемом файле минимальное количество идущих подряд символов (длину непрерывной подпоследовательности), среди которых символ X встречается не менее 500 раз, а символ Y не встречается совсем.\n",
        "\n",
        "Для выполнения этого задания следует написать программу."
      ],
      "metadata": {
        "id": "CYdVpT1AsOdT"
      }
    },
    {
      "cell_type": "code",
      "source": [
        "s = open('24_11954.txt').readline()\n",
        "s = s.replace('Y', ' ')\n",
        "answer = []\n",
        "for i in s.split():\n",
        "  if i.count('X') > 500:\n",
        "    print('d')\n",
        "    answer.append(len(i))\n",
        "\n",
        "print(min(answer))\n"
      ],
      "metadata": {
        "colab": {
          "base_uri": "https://localhost:8080/"
        },
        "id": "co3LE7URp-2l",
        "outputId": "6479b0ad-af28-4764-a8e0-7e0ff56f8d5e"
      },
      "execution_count": null,
      "outputs": [
        {
          "output_type": "stream",
          "name": "stdout",
          "text": [
            "d\n",
            "68507\n"
          ]
        }
      ]
    },
    {
      "cell_type": "markdown",
      "source": [
        "определите количество строк, в которых буква K встречается чаще, чем буква U"
      ],
      "metadata": {
        "id": "ukfVzv8cgGl6"
      }
    },
    {
      "cell_type": "code",
      "source": [
        "file = open('24.txt', encoding='utf8')\n",
        "n = 0\n",
        "for line in file.read():  #split() //  splitlines()\n",
        "  if line.count('K') > line.count('U'):\n",
        "    n+=1\n",
        "\n",
        "print(n)"
      ],
      "metadata": {
        "id": "nUddMDmVf-yw"
      },
      "execution_count": null,
      "outputs": []
    },
    {
      "cell_type": "markdown",
      "source": [
        "длину самой длинной подцепочки, состоящей из одинкаовых символов"
      ],
      "metadata": {
        "id": "VZCTAzshpGj_"
      }
    },
    {
      "cell_type": "code",
      "source": [
        "file = open('z.txt')\n",
        "file = file.read()\n",
        "n = m = 0\n",
        "\n",
        "\n",
        "for i in range(1, len(file)):\n",
        "  if file[i] == file[i-1]:\n",
        "    n += 1\n",
        "    m = max(n, m)\n",
        "  else:\n",
        "    n = 1\n",
        "\n",
        "\n",
        "print(m)"
      ],
      "metadata": {
        "id": "O1_Gy7ZAnRuq",
        "colab": {
          "base_uri": "https://localhost:8080/"
        },
        "outputId": "fb91d967-5f48-4c07-b525-a9152a9c07fc"
      },
      "execution_count": null,
      "outputs": [
        {
          "output_type": "stream",
          "name": "stdout",
          "text": [
            "4\n"
          ]
        }
      ]
    },
    {
      "cell_type": "markdown",
      "source": [
        "максимальная длина последовательности, состоящей ищ символов S (хоты бы 1 символ есть в подстроке)"
      ],
      "metadata": {
        "id": "XbzUEcyls41H"
      }
    },
    {
      "cell_type": "code",
      "source": [
        "file = open('24-5.txt')\n",
        "file = file.read().rstrip()\n",
        "\n",
        "n = m = 0\n",
        "\n",
        "for i in range(0, len(file)):  #начинаем с индекса 0, т.к нет i-1\n",
        "  if file[i] == 'R':\n",
        "    n+=1\n",
        "  else:\n",
        "    n = 0\n",
        "  m = max(m, n)\n",
        "\n",
        "print(m)"
      ],
      "metadata": {
        "id": "H-uZaP1bsOgc",
        "colab": {
          "base_uri": "https://localhost:8080/"
        },
        "outputId": "522e0a6b-cbe3-4af0-86ca-bbbae091a1fe"
      },
      "execution_count": null,
      "outputs": [
        {
          "output_type": "stream",
          "name": "stdout",
          "text": [
            "10\n"
          ]
        }
      ]
    },
    {
      "cell_type": "code",
      "source": [
        "file = open('24-5.txt').readline()\n",
        "c = m = 1\n",
        "for i in range(len(file)):\n",
        "  if file[i] == 'R':\n",
        "    c += 1\n",
        "  else:\n",
        "    c = 0\n",
        "  m = max(m , c)\n",
        "\n",
        "print(m)"
      ],
      "metadata": {
        "colab": {
          "base_uri": "https://localhost:8080/"
        },
        "id": "P88YOFnMgzoP",
        "outputId": "e85b993c-bf13-4153-82e8-33df173fcd1e"
      },
      "execution_count": null,
      "outputs": [
        {
          "output_type": "stream",
          "name": "stdout",
          "text": [
            "10\n"
          ]
        }
      ]
    },
    {
      "cell_type": "code",
      "source": [
        "file = open('24.txt')\n",
        "file = file.read().rstrip()\n",
        "\n",
        "words = file.replace('R', ' ').replace('T', ' ').split()\n",
        "print(max(words, key=len))"
      ],
      "metadata": {
        "id": "6mN6O61fuibx"
      },
      "execution_count": null,
      "outputs": []
    },
    {
      "cell_type": "markdown",
      "source": [
        "FSWZ ровно 3 буквы F, не обязательно стоящие рядом"
      ],
      "metadata": {
        "id": "CQFeMq_0xZA9"
      }
    },
    {
      "cell_type": "code",
      "source": [
        "file = open('24.txt')\n",
        "text = file.read().rstrip()\n",
        "\n",
        "words = text.split('F')\n",
        "A = [len(word) for word in words]\n",
        "for i in range(len(A)):\n",
        "  x = A[i] + A[i+1] + A[i+2] + A[i+3] + 3\n",
        "  m = max(m , x)\n",
        "\n",
        "print(m)"
      ],
      "metadata": {
        "id": "qILvbc9vw8h5"
      },
      "execution_count": null,
      "outputs": []
    },
    {
      "cell_type": "markdown",
      "source": [
        "Определите длину подстроки, в которой комбинация AB встречается ровно 21 раз"
      ],
      "metadata": {
        "id": "7HXQ0iCxsQod"
      }
    },
    {
      "cell_type": "code",
      "source": [
        "\n",
        "s = 'ABSHGSABDABKKJKJABSDJDHJHDJHABABAJHDJHJDHABABA'\n",
        "s = s.split('AB')\n",
        "print(s)\n",
        "for i in range(len(s)-21):\n",
        "  c = 0\n",
        "  for j in range(i, i+22):\n",
        "    c+=len(s[j])\n",
        "  m = max(m, c)\n",
        "\n",
        "print(m)"
      ],
      "metadata": {
        "colab": {
          "base_uri": "https://localhost:8080/"
        },
        "id": "i1j7xfaYsRrU",
        "outputId": "19be117c-2b20-463e-ea04-2eef65d4367b"
      },
      "execution_count": null,
      "outputs": [
        {
          "output_type": "stream",
          "name": "stdout",
          "text": [
            "['', 'SHGS', 'D', 'KKJKJ', 'SDJDHJHDJH', '', 'AJHDJHJDH', '', 'A']\n",
            "54\n"
          ]
        }
      ]
    },
    {
      "cell_type": "code",
      "source": [
        "file = open('24-3.txt').readline()\n",
        "c = m = 1\n",
        "for i in range(len(file)-1):\n",
        "  if ord(file[i]) < ord(file[i+1]):\n",
        "    c += 1\n",
        "    m = max(m, c)\n",
        "  else:\n",
        "    c = 1\n",
        "\n",
        "print(m)\n"
      ],
      "metadata": {
        "colab": {
          "base_uri": "https://localhost:8080/"
        },
        "id": "KMKLQlAWzuBe",
        "outputId": "385d8299-36e4-470c-9374-87efacc9bea4"
      },
      "execution_count": null,
      "outputs": [
        {
          "output_type": "stream",
          "name": "stdout",
          "text": [
            "6\n"
          ]
        }
      ]
    },
    {
      "cell_type": "code",
      "source": [
        "file = open('24-1.txt').readline()\n",
        "\n",
        "c= m = 1\n",
        "for i in range(len(file)-1):\n",
        "  if file[i+1] < file[i]:\n",
        "    c += 1\n",
        "    m = max(m,c)\n",
        "  else:\n",
        "    c = 1\n",
        "\n",
        "print(m)"
      ],
      "metadata": {
        "colab": {
          "base_uri": "https://localhost:8080/"
        },
        "id": "TCIOv_02fFfV",
        "outputId": "ab78bc01-fe8c-416c-f50a-0e8aed2f78c6"
      },
      "execution_count": null,
      "outputs": [
        {
          "output_type": "stream",
          "name": "stdout",
          "text": [
            "8\n"
          ]
        }
      ]
    },
    {
      "cell_type": "markdown",
      "source": [
        "#14 задание\n"
      ],
      "metadata": {
        "id": "qzjtppUUDHgN"
      }
    },
    {
      "cell_type": "markdown",
      "source": [],
      "metadata": {
        "id": "WOK1zR3DIHK_"
      }
    },
    {
      "cell_type": "code",
      "source": [
        "x = 9**12 + 3**8 - 3\n",
        "s = ''\n",
        "while x != 0:\n",
        "  s += str(x % 3)\n",
        "  x = x // 3\n",
        "\n",
        "s = s[::-1]\n",
        "print(s.count('2'))\n"
      ],
      "metadata": {
        "colab": {
          "base_uri": "https://localhost:8080/"
        },
        "id": "QFynWI4qqcrE",
        "outputId": "02a9673d-56fa-4a25-a125-a15bc2450d6e"
      },
      "execution_count": null,
      "outputs": [
        {
          "output_type": "stream",
          "name": "stdout",
          "text": [
            "7\n"
          ]
        }
      ]
    },
    {
      "cell_type": "code",
      "source": [
        "for x in '0123456':\n",
        "  for y in '0123456':\n",
        "    number = int(y+x+'320', 7) + int('1'+x+'3'+y+'3', 9)\n",
        "    if number % 181 == 0:\n",
        "      print(number//181)"
      ],
      "metadata": {
        "colab": {
          "base_uri": "https://localhost:8080/"
        },
        "id": "pmZEtuHfrM7Y",
        "outputId": "68ab45a3-e2c9-45f8-f540-07cc10be1e9b"
      },
      "execution_count": null,
      "outputs": [
        {
          "output_type": "stream",
          "name": "stdout",
          "text": [
            "148\n"
          ]
        }
      ]
    },
    {
      "cell_type": "code",
      "source": [
        "for x in '0123456789A':\n",
        "  number = int('95' + x + '2', 11) + int(x + '458', 12)\n",
        "  if number % 136 == 0:\n",
        "    print(number // 136)"
      ],
      "metadata": {
        "colab": {
          "base_uri": "https://localhost:8080/"
        },
        "id": "GJAyxonDsPjt",
        "outputId": "04b6a09f-573e-4691-c5c8-2358a0db757e"
      },
      "execution_count": null,
      "outputs": [
        {
          "output_type": "stream",
          "name": "stdout",
          "text": [
            "174\n"
          ]
        }
      ]
    },
    {
      "cell_type": "code",
      "source": [
        "answer = []\n",
        "for x in '0123456789ABCDEFGHI':\n",
        "  num = int(f'78{x}79643', 19) + int(f'25{x}43', 19) + int(f'63{x}5', 19)\n",
        "  if num % 18 == 0:\n",
        "    answer.append(num//18)\n",
        "\n",
        "print(min(answer))"
      ],
      "metadata": {
        "colab": {
          "base_uri": "https://localhost:8080/"
        },
        "id": "HPFoJ6L2udb1",
        "outputId": "1c9ac5db-93b4-4ee7-e0b9-a62581fd4531"
      },
      "execution_count": null,
      "outputs": [
        {
          "output_type": "stream",
          "name": "stdout",
          "text": [
            "368599039\n"
          ]
        }
      ]
    },
    {
      "cell_type": "code",
      "source": [
        "x = 125**4 + 25**8 - 30\n",
        "s = ''\n",
        "while x != 0:\n",
        "  s += str(x % 5)\n",
        "  x = x // 5\n",
        "s = s[::-1]\n",
        "print(s.count('4'))"
      ],
      "metadata": {
        "colab": {
          "base_uri": "https://localhost:8080/"
        },
        "id": "V1p8WbsysxBA",
        "outputId": "ea4df0f5-2323-45a4-ec15-ec6f4b35d0e6"
      },
      "execution_count": null,
      "outputs": [
        {
          "output_type": "stream",
          "name": "stdout",
          "text": [
            "10\n"
          ]
        }
      ]
    },
    {
      "cell_type": "code",
      "source": [
        "for x in '0123456789A':\n",
        "  for y in '0123456789A':\n",
        "    number = int(f'{x}341{y}', 11) + int(f'56{x}1{y}', 19)\n",
        "    if number % 305 == 0:\n",
        "      print(number // 305)"
      ],
      "metadata": {
        "colab": {
          "base_uri": "https://localhost:8080/"
        },
        "id": "UZ1TnkDDtTe7",
        "outputId": "1b315fe1-5935-4295-bdb6-31f31e53b457"
      },
      "execution_count": null,
      "outputs": [
        {
          "output_type": "stream",
          "name": "stdout",
          "text": [
            "2778\n"
          ]
        }
      ]
    },
    {
      "cell_type": "code",
      "source": [
        "n = 0\n",
        "x = 216 ** 10 + 6 ** 12 - 24\n",
        "while x != 0:\n",
        "  d = x % 6  # последняя цифра в 6-ричной сс\n",
        "  if d == 0:  # обработка этой цифры\n",
        "    n += 1\n",
        "  x = x // 6  # её зачёркивание и извлечение\n",
        "print(n)"
      ],
      "metadata": {
        "colab": {
          "base_uri": "https://localhost:8080/"
        },
        "id": "pZUXkhcyIQ5g",
        "outputId": "8cb3dedc-6cca-4138-b136-0a77766c4ab5"
      },
      "execution_count": null,
      "outputs": [
        {
          "output_type": "stream",
          "name": "stdout",
          "text": [
            "19\n"
          ]
        }
      ]
    },
    {
      "cell_type": "code",
      "source": [
        "n = 0\n",
        "x = 216 ** 10 + 6 ** 12 - 24\n",
        "while x != 0:\n",
        "  d = x % 6  # последняя цифра в 6-ричной сс\n",
        "  if d == 0:  # обработка этой цифры\n",
        "    n += 1\n",
        "  x = x // 6  # её зачёркивание и извлечение\n",
        "print(n)"
      ],
      "metadata": {
        "id": "ihvRb9DHJpaf"
      },
      "execution_count": null,
      "outputs": []
    },
    {
      "cell_type": "code",
      "source": [
        "x = 4**2014 + 2**2015 - 8\n",
        "count = 0\n",
        "while x:\n",
        " if x % 2 == 1: count += 1\n",
        " x //= 2\n",
        "print( count )"
      ],
      "metadata": {
        "colab": {
          "base_uri": "https://localhost:8080/"
        },
        "id": "1kWJfF3bDKHW",
        "outputId": "74d53c70-52d3-4b2c-b00c-1f8e146fe594"
      },
      "execution_count": null,
      "outputs": [
        {
          "output_type": "stream",
          "name": "stdout",
          "text": [
            "2013\n"
          ]
        }
      ]
    },
    {
      "cell_type": "code",
      "source": [
        "for n in range(4, 20):\n",
        "  if int('132', n) + 0o13 == int('124', n+1):\n",
        "    print(n)"
      ],
      "metadata": {
        "colab": {
          "base_uri": "https://localhost:8080/"
        },
        "id": "o-eKia3TJy78",
        "outputId": "d240702c-4a17-4e52-c45f-013824b12347"
      },
      "execution_count": null,
      "outputs": [
        {
          "output_type": "stream",
          "name": "stdout",
          "text": [
            "6\n"
          ]
        }
      ]
    },
    {
      "cell_type": "code",
      "source": [
        "x = 49**7 + 7**21 - 7\n",
        "count = 0\n",
        "while x > 0:\n",
        "  if x % 7 == 6:\n",
        "    count +=1\n",
        "  x //=7\n",
        "  print(count)"
      ],
      "metadata": {
        "id": "NraX2y1oAIBI"
      },
      "execution_count": null,
      "outputs": []
    },
    {
      "cell_type": "code",
      "source": [
        "s = 4**512 + 8**512 - 2**128 - 250\n",
        "x = bin(s) [2:]\n",
        "n = x.count(\"0\")\n",
        "print (n)"
      ],
      "metadata": {
        "colab": {
          "base_uri": "https://localhost:8080/"
        },
        "id": "S4Y-bej_EGCe",
        "outputId": "f7088f67-899d-4680-80b7-fa5ba08dd748"
      },
      "execution_count": null,
      "outputs": [
        {
          "output_type": "stream",
          "name": "stdout",
          "text": [
            "519\n"
          ]
        }
      ]
    },
    {
      "cell_type": "code",
      "source": [
        "x = 3 * 4 ** 38 + 2 * 4 ** 23 + 4 ** 20 + 3*4**5 + 2 * 4 ** 4 +1\n",
        "hex(x)[2:].count('0')"
      ],
      "metadata": {
        "colab": {
          "base_uri": "https://localhost:8080/"
        },
        "id": "MNaFGNY_FHZe",
        "outputId": "a40ab8f3-89f6-4b10-c486-68f87ad52993"
      },
      "execution_count": null,
      "outputs": [
        {
          "output_type": "execute_result",
          "data": {
            "text/plain": [
              "15"
            ]
          },
          "metadata": {},
          "execution_count": 6
        }
      ]
    },
    {
      "cell_type": "code",
      "source": [
        "x = 4 ** 2014 - 2 ** 2015 - 8\n",
        "b = bin(x)[2:]\n",
        "print(b.count('1'))"
      ],
      "metadata": {
        "colab": {
          "base_uri": "https://localhost:8080/"
        },
        "id": "5UCbJGaMGJB2",
        "outputId": "746f20f5-9d97-4443-e9e9-12dc24f03404"
      },
      "execution_count": null,
      "outputs": [
        {
          "output_type": "stream",
          "name": "stdout",
          "text": [
            "4024\n"
          ]
        }
      ]
    },
    {
      "cell_type": "code",
      "source": [
        "x = 9 ** 11 * 81 ** 5 - 27 ** 3 - 27\n",
        "count = 0\n",
        "while x > 0:\n",
        "  if x % 3 == 2:\n",
        "    count += 1\n",
        "  x //= 3\n",
        "\n",
        "print(count)"
      ],
      "metadata": {
        "id": "hLnbnX4xFlOU",
        "colab": {
          "base_uri": "https://localhost:8080/"
        },
        "outputId": "9ebad026-9007-4168-e981-465f8727364e"
      },
      "execution_count": null,
      "outputs": [
        {
          "output_type": "stream",
          "name": "stdout",
          "text": [
            "38\n"
          ]
        }
      ]
    },
    {
      "cell_type": "code",
      "source": [],
      "metadata": {
        "id": "8xrixJSfORCS"
      },
      "execution_count": null,
      "outputs": []
    },
    {
      "cell_type": "markdown",
      "source": [
        "Значение арифметического выражения:  записали в системе счисления с основанием 6. При этом в записи оказалось 20 цифр 5. При каком минимальном целом положительном X это возможно?"
      ],
      "metadata": {
        "id": "MTKpKp6RXkVQ"
      }
    },
    {
      "cell_type": "code",
      "source": [
        "for x in range(1, 1000):\n",
        "    y = 216 ** 5 + 36 ** 2 - x\n",
        "    s = \"\"\n",
        "    while y != 0:\n",
        "        s += str(y % 6)\n",
        "        y //= 6\n",
        "    s = s[::-1]\n",
        "    if s.count(\"20\") == 5:\n",
        "        print(x)\n",
        "        break"
      ],
      "metadata": {
        "id": "ZWMhzbjeWwrw"
      },
      "execution_count": null,
      "outputs": []
    },
    {
      "cell_type": "code",
      "source": [
        "answer = []\n",
        "for x in range(0, 10000):\n",
        "  y = 512 ** 12 + 2 ** 12 - x\n",
        "  s = ''\n",
        "  while y != 0:\n",
        "    s += str(y%8)\n",
        "    y  //= 8\n",
        "    s = s[::1]\n",
        "    if s.count('0') == 33:\n",
        "      answer.append(x)\n",
        "      break\n",
        "\n",
        "print(max(answer))"
      ],
      "metadata": {
        "colab": {
          "base_uri": "https://localhost:8080/"
        },
        "id": "XHKRuu-pXsyo",
        "outputId": "8e139c48-5d01-473b-cc93-6dfaa458cec3"
      },
      "execution_count": null,
      "outputs": [
        {
          "output_type": "stream",
          "name": "stdout",
          "text": [
            "4096\n"
          ]
        }
      ]
    },
    {
      "cell_type": "code",
      "source": [
        "for x in '0123456789abcdfgh':\n",
        "  a = int(f'9009{x}', 18) + int(f'2257{x}', 18)\n",
        "  if a % 15 == 0:\n",
        "    print(x, a//15)"
      ],
      "metadata": {
        "colab": {
          "base_uri": "https://localhost:8080/"
        },
        "id": "ZQ9MKgF0cNXZ",
        "outputId": "c7371765-1056-4115-863d-56a92030c9d4"
      },
      "execution_count": null,
      "outputs": [
        {
          "output_type": "stream",
          "name": "stdout",
          "text": [
            "6 77888\n"
          ]
        }
      ]
    },
    {
      "cell_type": "code",
      "source": [
        "for n in range(2, 40):\n",
        "  if n ** 2 + 2*n + 3 == 9 * (n+2) + 3:\n",
        "    print(n)"
      ],
      "metadata": {
        "colab": {
          "base_uri": "https://localhost:8080/"
        },
        "id": "ToCtY4JYdFOe",
        "outputId": "8f6e3b15-5f1a-498e-bae6-5b57cfd18aeb"
      },
      "execution_count": null,
      "outputs": [
        {
          "output_type": "stream",
          "name": "stdout",
          "text": [
            "9\n"
          ]
        }
      ]
    },
    {
      "cell_type": "code",
      "source": [
        "for n in range(2, 40):\n",
        "  if 56 % n == 1 and 45 % n == 1:\n",
        "    print(n)"
      ],
      "metadata": {
        "colab": {
          "base_uri": "https://localhost:8080/"
        },
        "id": "soj2PWmJdm2P",
        "outputId": "5b9b7f9d-2bc2-4f9e-c017-a03912efa68c"
      },
      "execution_count": null,
      "outputs": [
        {
          "output_type": "stream",
          "name": "stdout",
          "text": [
            "11\n"
          ]
        }
      ]
    },
    {
      "cell_type": "code",
      "source": [
        "x = 17 ** 5 + 85 ** 8 - 10\n",
        "a = []\n",
        "while x > 0:\n",
        "  a = [x%17]\n",
        "  x //= 17\n",
        "print(a.count(16))"
      ],
      "metadata": {
        "colab": {
          "base_uri": "https://localhost:8080/"
        },
        "id": "4kJcKNNheGxe",
        "outputId": "66609ba1-0b48-45e9-ca67-fcbe36b3cb1f"
      },
      "execution_count": null,
      "outputs": [
        {
          "output_type": "stream",
          "name": "stdout",
          "text": [
            "0\n"
          ]
        }
      ]
    },
    {
      "cell_type": "code",
      "source": [
        "for x in '0123456789abcdfg':\n",
        "  y = int('1B4' + x + '6', 17) + int('1'+x+'2'+x, 17)\n",
        "  if y % 19 == 0:\n",
        "    print(x, y//19)"
      ],
      "metadata": {
        "colab": {
          "base_uri": "https://localhost:8080/"
        },
        "id": "VYxEarULfP4L",
        "outputId": "88525563-387a-465e-ec3c-cc3cd9cd5aad"
      },
      "execution_count": null,
      "outputs": [
        {
          "output_type": "stream",
          "name": "stdout",
          "text": [
            "8 7691\n"
          ]
        }
      ]
    },
    {
      "cell_type": "code",
      "source": [
        "for x in '0123456789abcdfg':\n",
        "  y = int('1'+x+'2'+x+'9', 17) + int('3' + x + 'C1' + x, 17)\n",
        "  if y % 12 == 0:\n",
        "    print(y//12)"
      ],
      "metadata": {
        "colab": {
          "base_uri": "https://localhost:8080/"
        },
        "id": "WA_n3fpxJ5vg",
        "outputId": "658e46d0-3b8f-471c-cae3-f896cc475451"
      },
      "execution_count": null,
      "outputs": [
        {
          "output_type": "stream",
          "name": "stdout",
          "text": [
            "29000\n",
            "31461\n",
            "33922\n",
            "36383\n",
            "38844\n",
            "41305\n"
          ]
        }
      ]
    },
    {
      "cell_type": "code",
      "source": [
        "ans = []\n",
        "for x in range(1, 10000):\n",
        "  y = 343 ** 8 + 49 ** 2 - x\n",
        "  s = ''\n",
        "  while y != 0:\n",
        "    s += str(y%7)\n",
        "    y //= 7\n",
        "    s = s[::1]\n",
        "    if s.count('0') == 21:\n",
        "      ans.append(x)\n",
        "      break\n",
        "print(max(ans))"
      ],
      "metadata": {
        "colab": {
          "base_uri": "https://localhost:8080/"
        },
        "id": "SdqnkVxJK9fh",
        "outputId": "c95a1003-067c-44b4-d1de-83604f4ef67f"
      },
      "execution_count": null,
      "outputs": [
        {
          "output_type": "stream",
          "name": "stdout",
          "text": [
            "2401\n"
          ]
        }
      ]
    },
    {
      "cell_type": "code",
      "source": [
        "for x in '0123456789abcdefg':\n",
        "  y = int(f'8{x}5678', 25) + int(f'457{x}69', 25) + int(f'145{x}1', 25)\n",
        "  if y % 23 == 0:\n",
        "      print(x, y // 23)\n"
      ],
      "metadata": {
        "id": "8NYbwqi_MaXj"
      },
      "execution_count": null,
      "outputs": []
    },
    {
      "cell_type": "code",
      "source": [
        "x = (9**7)+(3**21) - 19\n",
        "s = ''\n",
        "while x != 0:\n",
        "    s += str(x % 3)\n",
        "    x //= 3\n",
        "s = s[::-1]\n",
        "print(s.count(\"2\"))"
      ],
      "metadata": {
        "colab": {
          "base_uri": "https://localhost:8080/"
        },
        "id": "ZUfHtw9CpPQS",
        "outputId": "25bfb35d-3f89-4bd4-f823-bc91b879cb9b"
      },
      "execution_count": null,
      "outputs": [
        {
          "output_type": "stream",
          "name": "stdout",
          "text": [
            "13\n"
          ]
        }
      ]
    },
    {
      "cell_type": "code",
      "source": [
        "result_search = []\n",
        "for x in '0123456789AB':\n",
        "    for y in '0123456789AB':\n",
        "        t = int(y + 'AA' + x, 12) + int(x + '02' + y, 14)\n",
        "        if t % 80 == 0:\n",
        "            result_search.append(t)\n",
        "if result_search:\n",
        "    print(min(result_search) // 80)"
      ],
      "metadata": {
        "id": "vcSW4DZWrds0"
      },
      "execution_count": null,
      "outputs": []
    },
    {
      "cell_type": "code",
      "source": [
        "ans = []\n",
        "for y in '0123456789ABCDE':\n",
        "  s = int(f'ABCD{y}', 15) + int(f'123{y}4', 15)\n",
        "  if s % 14 == 0:\n",
        "    ans.append(s//14)\n",
        "\n",
        "print(min(ans))"
      ],
      "metadata": {
        "colab": {
          "base_uri": "https://localhost:8080/"
        },
        "id": "g8Oqu27fv8_c",
        "outputId": "cc3244ac-0b92-470e-9237-ffdf4852535b"
      },
      "execution_count": null,
      "outputs": [
        {
          "output_type": "stream",
          "name": "stdout",
          "text": [
            "43166\n"
          ]
        }
      ]
    },
    {
      "cell_type": "code",
      "source": [
        "for x in '0123456789abcdfg':\n",
        "  y = int('1B4' + x + '6', 17) + int('1'+x+'2'+x, 17)\n",
        "  if y % 19 == 0:\n",
        "    print(x, y//19)"
      ],
      "metadata": {
        "colab": {
          "base_uri": "https://localhost:8080/"
        },
        "id": "efMmavj7glsw",
        "outputId": "f69fb0e0-aa21-4978-dce4-3b4670211504"
      },
      "execution_count": null,
      "outputs": [
        {
          "output_type": "stream",
          "name": "stdout",
          "text": [
            "8 7691\n"
          ]
        }
      ]
    },
    {
      "cell_type": "code",
      "source": [
        "for x in '0123456789abcde':\n",
        "  y = int('97968' + x + '15', 15) + int('7' + x + '233', 15)\n",
        "  if y % 14 == 0:\n",
        "    print(x, y//14)"
      ],
      "metadata": {
        "colab": {
          "base_uri": "https://localhost:8080/"
        },
        "id": "zdi5dB7FG_ak",
        "outputId": "f5b42b89-3ab0-4545-904a-d0ac60976df7"
      },
      "execution_count": null,
      "outputs": [
        {
          "output_type": "stream",
          "name": "stdout",
          "text": [
            "5 116071912\n",
            "c 116073712\n"
          ]
        }
      ]
    },
    {
      "cell_type": "markdown",
      "source": [
        "Значение арифметического выражения: 4910 + 730 – 49— записали в системе счисления с основанием 7. Сколько цифр «6» содержится в этой записи?\n"
      ],
      "metadata": {
        "id": "XKJtLqn8TsVs"
      }
    },
    {
      "cell_type": "code",
      "source": [
        "x = 49**10 + 7**30 - 49\n",
        "s = ''\n",
        "while x != 0:\n",
        "    s += str(x % 7)\n",
        "    x //= 7\n",
        "s = s[::-1]\n",
        "print(s.count(\"6\"))"
      ],
      "metadata": {
        "colab": {
          "base_uri": "https://localhost:8080/"
        },
        "id": "7GMHe6i5TkfG",
        "outputId": "f1d7668d-f56d-4c03-d5bc-730865b88fbd"
      },
      "execution_count": null,
      "outputs": [
        {
          "output_type": "stream",
          "name": "stdout",
          "text": [
            "18\n"
          ]
        }
      ]
    },
    {
      "cell_type": "markdown",
      "source": [
        "# 13 задание\n"
      ],
      "metadata": {
        "id": "35VddDrDlSLw"
      }
    },
    {
      "cell_type": "code",
      "source": [
        "from ipaddress import *\n",
        "net = ip_network('135.12.171.214/255.255.248.0', 0)\n",
        "print(net)"
      ],
      "metadata": {
        "id": "zYert5qllVEf",
        "colab": {
          "base_uri": "https://localhost:8080/"
        },
        "outputId": "4d6e1b84-5cb9-42b2-a9d9-2954b9bd95a8"
      },
      "execution_count": null,
      "outputs": [
        {
          "output_type": "stream",
          "name": "stdout",
          "text": [
            "135.12.168.0/21\n"
          ]
        }
      ]
    },
    {
      "cell_type": "markdown",
      "source": [
        "Сколько ip адресов имеют ровно 2 одинвковых по значению байта:?"
      ],
      "metadata": {
        "id": "Dn5jsUzDMwnb"
      }
    },
    {
      "cell_type": "code",
      "source": [
        "from ipaddress import *\n",
        "k = 0\n",
        "net = ip_network('117.32.0.0/255.224.0.0')\n",
        "for ip in net.hosts():\n",
        "  b = str(ip).split('.')\n",
        "  if len(set(b)) == 3:\n",
        "    k += 1\n",
        "\n",
        "print(k)"
      ],
      "metadata": {
        "colab": {
          "base_uri": "https://localhost:8080/"
        },
        "id": "gWiuOd_NMNyf",
        "outputId": "af47cf76-9dca-42fe-b8ec-6a00eb3edfc8"
      },
      "execution_count": null,
      "outputs": [
        {
          "output_type": "stream",
          "name": "stdout",
          "text": [
            "40638\n"
          ]
        }
      ]
    },
    {
      "cell_type": "code",
      "source": [
        "from ipaddress import *\n",
        "net = ip_network('192.168.32.160/255.255.255.240')\n",
        "c = 0\n",
        "for ip in net.hosts:\n",
        "  ip_list = list(map(int, str(ip).split('.')))\n",
        "  ip_list = [bin(new_ip)[2:] for new_ip in ip_list]\n",
        "  if ''.join(ip_list).count('0') > 21:\n",
        "    c+=1\n",
        "print(c)"
      ],
      "metadata": {
        "colab": {
          "base_uri": "https://localhost:8080/",
          "height": 245
        },
        "id": "6ZdpBmXYoHRf",
        "outputId": "2842545b-d0b6-42e4-d855-1f4fce2cb44d"
      },
      "execution_count": null,
      "outputs": [
        {
          "output_type": "error",
          "ename": "TypeError",
          "evalue": "'method' object is not iterable",
          "traceback": [
            "\u001b[0;31m---------------------------------------------------------------------------\u001b[0m",
            "\u001b[0;31mTypeError\u001b[0m                                 Traceback (most recent call last)",
            "\u001b[0;32m<ipython-input-36-a955f9bc056b>\u001b[0m in \u001b[0;36m<cell line: 4>\u001b[0;34m()\u001b[0m\n\u001b[1;32m      2\u001b[0m \u001b[0mnet\u001b[0m \u001b[0;34m=\u001b[0m \u001b[0mip_network\u001b[0m\u001b[0;34m(\u001b[0m\u001b[0;34m'192.168.32.160/255.255.255.240'\u001b[0m\u001b[0;34m)\u001b[0m\u001b[0;34m\u001b[0m\u001b[0;34m\u001b[0m\u001b[0m\n\u001b[1;32m      3\u001b[0m \u001b[0mc\u001b[0m \u001b[0;34m=\u001b[0m \u001b[0;36m0\u001b[0m\u001b[0;34m\u001b[0m\u001b[0;34m\u001b[0m\u001b[0m\n\u001b[0;32m----> 4\u001b[0;31m \u001b[0;32mfor\u001b[0m \u001b[0mip\u001b[0m \u001b[0;32min\u001b[0m \u001b[0mnet\u001b[0m\u001b[0;34m.\u001b[0m\u001b[0mhosts\u001b[0m\u001b[0;34m:\u001b[0m\u001b[0;34m\u001b[0m\u001b[0;34m\u001b[0m\u001b[0m\n\u001b[0m\u001b[1;32m      5\u001b[0m   \u001b[0mip_list\u001b[0m \u001b[0;34m=\u001b[0m \u001b[0mlist\u001b[0m\u001b[0;34m(\u001b[0m\u001b[0mmap\u001b[0m\u001b[0;34m(\u001b[0m\u001b[0mint\u001b[0m\u001b[0;34m,\u001b[0m \u001b[0mstr\u001b[0m\u001b[0;34m(\u001b[0m\u001b[0mip\u001b[0m\u001b[0;34m)\u001b[0m\u001b[0;34m.\u001b[0m\u001b[0msplit\u001b[0m\u001b[0;34m(\u001b[0m\u001b[0;34m'.'\u001b[0m\u001b[0;34m)\u001b[0m\u001b[0;34m)\u001b[0m\u001b[0;34m)\u001b[0m\u001b[0;34m\u001b[0m\u001b[0;34m\u001b[0m\u001b[0m\n\u001b[1;32m      6\u001b[0m   \u001b[0mip_list\u001b[0m \u001b[0;34m=\u001b[0m \u001b[0;34m[\u001b[0m\u001b[0mbin\u001b[0m\u001b[0;34m(\u001b[0m\u001b[0mnew_ip\u001b[0m\u001b[0;34m)\u001b[0m\u001b[0;34m[\u001b[0m\u001b[0;36m2\u001b[0m\u001b[0;34m:\u001b[0m\u001b[0;34m]\u001b[0m \u001b[0;32mfor\u001b[0m \u001b[0mnew_ip\u001b[0m \u001b[0;32min\u001b[0m \u001b[0mip_list\u001b[0m\u001b[0;34m]\u001b[0m\u001b[0;34m\u001b[0m\u001b[0;34m\u001b[0m\u001b[0m\n",
            "\u001b[0;31mTypeError\u001b[0m: 'method' object is not iterable"
          ]
        }
      ]
    },
    {
      "cell_type": "code",
      "source": [
        "from ipaddress import *\n",
        "k = 0\n",
        "net = ip_network('98.116.0.0/255.252.0.0', 0)\n",
        "for ip in net:\n",
        "  ip_list = str(ip).split('.')\n",
        "  ip_list = list(map(int, ip_list))\n",
        "  binary_ip_list = []\n",
        "  for new_ip in ip_list:\n",
        "    binary_ip_list.append(bin(new_ip)[2:])\n",
        "  binary_ip = ''.join(binary_ip_list)\n",
        "  if binary_ip.count('0') % 2 == 0:\n",
        "    k+=1\n",
        "\n",
        "print(k)\n",
        "\n"
      ],
      "metadata": {
        "colab": {
          "base_uri": "https://localhost:8080/"
        },
        "id": "6ZD5Rk55F5cv",
        "outputId": "d24a9843-3ded-44a3-e7b4-b1726c9af81f"
      },
      "execution_count": null,
      "outputs": [
        {
          "output_type": "stream",
          "name": "stdout",
          "text": [
            "131072\n"
          ]
        }
      ]
    },
    {
      "cell_type": "code",
      "source": [
        "from ipaddress import *\n",
        "k = 0\n",
        "\n",
        "net = ip_network('142.108.56.118/255.255.255.240', 0)\n",
        "for ip in net:\n",
        "  ip_list = list(map(int, str(ip).split('.')))\n",
        "  binary_ips = [bin(new_ip)[2:] for new_ip in ip_list]\n",
        "  print(binary_ips, type(binary_ips[0]))\n",
        "  if binary_ips[0].count('1') + binary_ips[1].count('1') < binary_ips[2].count('1') + binary_ips[3].count('1'):\n",
        "    k += 1\n",
        "\n",
        "print(k)\n"
      ],
      "metadata": {
        "colab": {
          "base_uri": "https://localhost:8080/"
        },
        "id": "Y524wJ5NJo1q",
        "outputId": "ae957f04-b8f0-4164-c488-df235d7019fb"
      },
      "execution_count": null,
      "outputs": [
        {
          "output_type": "stream",
          "name": "stdout",
          "text": [
            "['10001110', '1101100', '111000', '1110000'] <class 'str'>\n",
            "['10001110', '1101100', '111000', '1110001'] <class 'str'>\n",
            "['10001110', '1101100', '111000', '1110010'] <class 'str'>\n",
            "['10001110', '1101100', '111000', '1110011'] <class 'str'>\n",
            "['10001110', '1101100', '111000', '1110100'] <class 'str'>\n",
            "['10001110', '1101100', '111000', '1110101'] <class 'str'>\n",
            "['10001110', '1101100', '111000', '1110110'] <class 'str'>\n",
            "['10001110', '1101100', '111000', '1110111'] <class 'str'>\n",
            "['10001110', '1101100', '111000', '1111000'] <class 'str'>\n",
            "['10001110', '1101100', '111000', '1111001'] <class 'str'>\n",
            "['10001110', '1101100', '111000', '1111010'] <class 'str'>\n",
            "['10001110', '1101100', '111000', '1111011'] <class 'str'>\n",
            "['10001110', '1101100', '111000', '1111100'] <class 'str'>\n",
            "['10001110', '1101100', '111000', '1111101'] <class 'str'>\n",
            "['10001110', '1101100', '111000', '1111110'] <class 'str'>\n",
            "['10001110', '1101100', '111000', '1111111'] <class 'str'>\n",
            "5\n"
          ]
        }
      ]
    },
    {
      "cell_type": "code",
      "source": [
        "from ipaddress import *\n",
        "ans = []\n",
        "\n",
        "net = ip_network('249.0.33.87/255.252.0.0', 0)\n",
        "for ip in net"
      ],
      "metadata": {
        "id": "0EThEmCVJo8U"
      },
      "execution_count": null,
      "outputs": []
    },
    {
      "cell_type": "code",
      "source": [
        "from ipaddress import *\n",
        "net = ip_network('217.9.142.131/255.255.192.0', 0)\n",
        "print(net)"
      ],
      "metadata": {
        "colab": {
          "base_uri": "https://localhost:8080/"
        },
        "id": "RqybuCzhROtP",
        "outputId": "86f0276f-d915-463e-c220-3de95a82503e"
      },
      "execution_count": null,
      "outputs": [
        {
          "output_type": "stream",
          "name": "stdout",
          "text": [
            "217.9.128.0/18\n"
          ]
        }
      ]
    },
    {
      "cell_type": "code",
      "source": [
        "from ipaddress import *\n",
        "for mask in range(33):\n",
        "  net = ip_network(f'156.32.140.138/{mask}', 0)\n",
        "  print(net, net.netmask)"
      ],
      "metadata": {
        "colab": {
          "base_uri": "https://localhost:8080/"
        },
        "id": "ZzsxWtfrRs_T",
        "outputId": "ec36e610-c67f-41fe-93ac-7e426823719c"
      },
      "execution_count": null,
      "outputs": [
        {
          "output_type": "stream",
          "name": "stdout",
          "text": [
            "0.0.0.0/0 0.0.0.0\n",
            "128.0.0.0/1 128.0.0.0\n",
            "128.0.0.0/2 192.0.0.0\n",
            "128.0.0.0/3 224.0.0.0\n",
            "144.0.0.0/4 240.0.0.0\n",
            "152.0.0.0/5 248.0.0.0\n",
            "156.0.0.0/6 252.0.0.0\n",
            "156.0.0.0/7 254.0.0.0\n",
            "156.0.0.0/8 255.0.0.0\n",
            "156.0.0.0/9 255.128.0.0\n",
            "156.0.0.0/10 255.192.0.0\n",
            "156.32.0.0/11 255.224.0.0\n",
            "156.32.0.0/12 255.240.0.0\n",
            "156.32.0.0/13 255.248.0.0\n",
            "156.32.0.0/14 255.252.0.0\n",
            "156.32.0.0/15 255.254.0.0\n",
            "156.32.0.0/16 255.255.0.0\n",
            "156.32.128.0/17 255.255.128.0\n",
            "156.32.128.0/18 255.255.192.0\n",
            "156.32.128.0/19 255.255.224.0\n",
            "156.32.128.0/20 255.255.240.0\n",
            "156.32.136.0/21 255.255.248.0\n",
            "156.32.140.0/22 255.255.252.0\n",
            "156.32.140.0/23 255.255.254.0\n",
            "156.32.140.0/24 255.255.255.0\n",
            "156.32.140.128/25 255.255.255.128\n",
            "156.32.140.128/26 255.255.255.192\n",
            "156.32.140.128/27 255.255.255.224\n",
            "156.32.140.128/28 255.255.255.240\n",
            "156.32.140.136/29 255.255.255.248\n",
            "156.32.140.136/30 255.255.255.252\n",
            "156.32.140.138/31 255.255.255.254\n",
            "156.32.140.138/32 255.255.255.255\n"
          ]
        }
      ]
    },
    {
      "cell_type": "code",
      "source": [
        "from ipaddress import *\n",
        "for i in range(33):\n",
        "  net = ip_network('224.184.32.160/255.255.255.240', 0)\n",
        "  print(net)"
      ],
      "metadata": {
        "colab": {
          "base_uri": "https://localhost:8080/"
        },
        "id": "i4H7qwfISmBh",
        "outputId": "9729f461-92fa-48de-a092-daa5b9ed48b7"
      },
      "execution_count": null,
      "outputs": [
        {
          "output_type": "stream",
          "name": "stdout",
          "text": [
            "224.184.32.160/28\n",
            "224.184.32.160/28\n",
            "224.184.32.160/28\n",
            "224.184.32.160/28\n",
            "224.184.32.160/28\n",
            "224.184.32.160/28\n",
            "224.184.32.160/28\n",
            "224.184.32.160/28\n",
            "224.184.32.160/28\n",
            "224.184.32.160/28\n",
            "224.184.32.160/28\n",
            "224.184.32.160/28\n",
            "224.184.32.160/28\n",
            "224.184.32.160/28\n",
            "224.184.32.160/28\n",
            "224.184.32.160/28\n",
            "224.184.32.160/28\n",
            "224.184.32.160/28\n",
            "224.184.32.160/28\n",
            "224.184.32.160/28\n",
            "224.184.32.160/28\n",
            "224.184.32.160/28\n",
            "224.184.32.160/28\n",
            "224.184.32.160/28\n",
            "224.184.32.160/28\n",
            "224.184.32.160/28\n",
            "224.184.32.160/28\n",
            "224.184.32.160/28\n",
            "224.184.32.160/28\n",
            "224.184.32.160/28\n",
            "224.184.32.160/28\n",
            "224.184.32.160/28\n",
            "224.184.32.160/28\n"
          ]
        }
      ]
    },
    {
      "cell_type": "code",
      "source": [
        "from ipaddress import *\n",
        "ans = []\n",
        "for mask in range(14):\n",
        "  net = ip_network(f'255.255.255.240/{mask}', 0)\n",
        "  print(net, net.netmask)\n",
        "  ans.append(net)\n",
        "\n",
        "print(len(ans))"
      ],
      "metadata": {
        "id": "EtMfM_dtiizo"
      },
      "execution_count": null,
      "outputs": []
    },
    {
      "cell_type": "markdown",
      "source": [
        "для узла с адресом 111.81.208.27 адрес в сети равен 111.81.192.0 Чему равно наименьшее возможное занчение третьего слева байта маски?"
      ],
      "metadata": {
        "id": "emWqlrRm1f9F"
      }
    },
    {
      "cell_type": "code",
      "source": [
        "from ipaddress import *\n",
        "for mask in range(33):\n",
        "  net = ip_network(f'111.81.208.27/{mask}', 0)\n",
        "  print(net, net.netmask)"
      ],
      "metadata": {
        "colab": {
          "base_uri": "https://localhost:8080/"
        },
        "id": "oOrHdBi80xoj",
        "outputId": "ed68ce3d-d0da-40de-bd7a-5af507d85429"
      },
      "execution_count": null,
      "outputs": [
        {
          "output_type": "stream",
          "name": "stdout",
          "text": [
            "0.0.0.0/0 0.0.0.0\n",
            "0.0.0.0/1 128.0.0.0\n",
            "64.0.0.0/2 192.0.0.0\n",
            "96.0.0.0/3 224.0.0.0\n",
            "96.0.0.0/4 240.0.0.0\n",
            "104.0.0.0/5 248.0.0.0\n",
            "108.0.0.0/6 252.0.0.0\n",
            "110.0.0.0/7 254.0.0.0\n",
            "111.0.0.0/8 255.0.0.0\n",
            "111.0.0.0/9 255.128.0.0\n",
            "111.64.0.0/10 255.192.0.0\n",
            "111.64.0.0/11 255.224.0.0\n",
            "111.80.0.0/12 255.240.0.0\n",
            "111.80.0.0/13 255.248.0.0\n",
            "111.80.0.0/14 255.252.0.0\n",
            "111.80.0.0/15 255.254.0.0\n",
            "111.81.0.0/16 255.255.0.0\n",
            "111.81.128.0/17 255.255.128.0\n",
            "111.81.192.0/18 255.255.192.0\n",
            "111.81.192.0/19 255.255.224.0\n",
            "111.81.208.0/20 255.255.240.0\n",
            "111.81.208.0/21 255.255.248.0\n",
            "111.81.208.0/22 255.255.252.0\n",
            "111.81.208.0/23 255.255.254.0\n",
            "111.81.208.0/24 255.255.255.0\n",
            "111.81.208.0/25 255.255.255.128\n",
            "111.81.208.0/26 255.255.255.192\n",
            "111.81.208.0/27 255.255.255.224\n",
            "111.81.208.16/28 255.255.255.240\n",
            "111.81.208.24/29 255.255.255.248\n",
            "111.81.208.24/30 255.255.255.252\n",
            "111.81.208.26/31 255.255.255.254\n",
            "111.81.208.27/32 255.255.255.255\n"
          ]
        }
      ]
    },
    {
      "cell_type": "markdown",
      "source": [
        "Для узла с ip адресом 148.195.140.28 адрес сети равен 148.195.140.0. Найдите наименьшее количество единиц в двочиной запси маски подсети"
      ],
      "metadata": {
        "id": "iOP9Okvw403x"
      }
    },
    {
      "cell_type": "code",
      "source": [
        "from ipaddress import *\n",
        "ans = []\n",
        "for mask in range(33):\n",
        "  net = ip_network(f'148.195.140.28/{mask}', 0)\n",
        "  print(net)\n",
        "\n"
      ],
      "metadata": {
        "colab": {
          "base_uri": "https://localhost:8080/"
        },
        "id": "sEJ3N0oC11XF",
        "outputId": "c96e473a-cb31-4f33-866c-dabfcce08447"
      },
      "execution_count": null,
      "outputs": [
        {
          "output_type": "stream",
          "name": "stdout",
          "text": [
            "0.0.0.0/0\n",
            "128.0.0.0/1\n",
            "128.0.0.0/2\n",
            "128.0.0.0/3\n",
            "144.0.0.0/4\n",
            "144.0.0.0/5\n",
            "148.0.0.0/6\n",
            "148.0.0.0/7\n",
            "148.0.0.0/8\n",
            "148.128.0.0/9\n",
            "148.192.0.0/10\n",
            "148.192.0.0/11\n",
            "148.192.0.0/12\n",
            "148.192.0.0/13\n",
            "148.192.0.0/14\n",
            "148.194.0.0/15\n",
            "148.195.0.0/16\n",
            "148.195.128.0/17\n",
            "148.195.128.0/18\n",
            "148.195.128.0/19\n",
            "148.195.128.0/20\n",
            "148.195.136.0/21\n",
            "148.195.140.0/22\n",
            "148.195.140.0/23\n",
            "148.195.140.0/24\n",
            "148.195.140.0/25\n",
            "148.195.140.0/26\n",
            "148.195.140.0/27\n",
            "148.195.140.16/28\n",
            "148.195.140.24/29\n",
            "148.195.140.28/30\n",
            "148.195.140.28/31\n",
            "148.195.140.28/32\n"
          ]
        }
      ]
    },
    {
      "cell_type": "code",
      "source": [
        "from ipaddress import *\n",
        "\n",
        "for mask in range(33):\n",
        "  net = ip_network(f'')"
      ],
      "metadata": {
        "id": "i3KTXcX930hM"
      },
      "execution_count": null,
      "outputs": []
    },
    {
      "cell_type": "code",
      "source": [
        "print('.'.join(f'{x:>08b}' for x in [148, 195, 140, 28]))\n",
        "print()\n",
        "print('.'.join(f'{x:>08b}' for x in [148, 195, 140, 0]))"
      ],
      "metadata": {
        "colab": {
          "base_uri": "https://localhost:8080/"
        },
        "id": "vs4PATtu3ZZV",
        "outputId": "17e43028-3ed9-48cd-c162-912041675ee3"
      },
      "execution_count": null,
      "outputs": [
        {
          "output_type": "stream",
          "name": "stdout",
          "text": [
            "10010100.11000011.10001100.00011100\n",
            "\n",
            "10010100.11000011.10001100.00000000\n"
          ]
        }
      ]
    },
    {
      "cell_type": "markdown",
      "source": [
        "Задание 2"
      ],
      "metadata": {
        "id": "QC6nJvEkw8tD"
      }
    },
    {
      "cell_type": "code",
      "source": [
        "print('x y w z')\n",
        "for x in range(0, 2):\n",
        "  for y in range(0, 2):\n",
        "    for w in range(0, 2):\n",
        "      for z in range(0, 2):\n",
        "        if not((not(x) == z) <= (y == (w or x))):\n",
        "              print(x, y, w, z)"
      ],
      "metadata": {
        "colab": {
          "base_uri": "https://localhost:8080/"
        },
        "id": "YeN6yuj8w-sf",
        "outputId": "3643d407-aa6f-4328-b3cb-3aad81201816"
      },
      "execution_count": null,
      "outputs": [
        {
          "output_type": "stream",
          "name": "stdout",
          "text": [
            "x y w z\n",
            "0 0 1 1\n",
            "0 1 0 1\n",
            "1 0 0 0\n",
            "1 0 1 0\n"
          ]
        }
      ]
    },
    {
      "cell_type": "code",
      "source": [
        "print('x y w z')\n",
        "for x in range(0, 2):\n",
        "  for y in range(0, 2):\n",
        "    for w in range(0, 2):\n",
        "      for z in range(0, 2):\n",
        "        if (not(x) or z) and not(not(w) or y) and not(y):\n",
        "              print(x, y, w, z)"
      ],
      "metadata": {
        "colab": {
          "base_uri": "https://localhost:8080/"
        },
        "id": "1A-ruLzkX_dy",
        "outputId": "ab7159e7-b0f1-46df-f159-5a8ab1eaf036"
      },
      "execution_count": null,
      "outputs": [
        {
          "output_type": "stream",
          "name": "stdout",
          "text": [
            "x y w z\n",
            "0 0 1 0\n",
            "0 0 1 1\n",
            "1 0 1 1\n"
          ]
        }
      ]
    },
    {
      "cell_type": "markdown",
      "source": [
        "# 17 задание\n"
      ],
      "metadata": {
        "id": "vC-97IGmN6iH"
      }
    },
    {
      "cell_type": "code",
      "execution_count": null,
      "metadata": {
        "id": "yH1H0AJl382R"
      },
      "outputs": [],
      "source": [
        "a = [int(x) for x in open('17.txt')]\n",
        "ans = []\n",
        "\n",
        "for i in range(len(a)-1):\n",
        "  if abs(a[i]%3)==0 or abs(a[i+1]%3)==0:\n",
        "    ans.append(a[i]+a[i+1])\n",
        "\n",
        "print(len(ans), max(ans))"
      ]
    },
    {
      "cell_type": "code",
      "source": [
        "a = [int(x) for x in open('17.txt')]\n",
        "ans =[]\n",
        "for i in range(len(a)-1):\n",
        "  if a[i-1]-a[i]%2==0 and (a[i]%31==0 or a[i+1]%31==0):\n",
        "    ans.append(a[i]+a[i+1])\n",
        "print(len(ans), max(ans))"
      ],
      "metadata": {
        "id": "Yz8KWTPw_cct"
      },
      "execution_count": null,
      "outputs": []
    },
    {
      "cell_type": "code",
      "source": [
        "count = m = 0\n",
        "f = open('17.txt')\n",
        "l = [int(i) for i in f]\n",
        "for i in range(len(l) - 1):\n",
        "    for j in range(i + 1, len(l)):\n",
        "        if l[i] * l[j] % 26 == 0:\n",
        "            count += 1\n",
        "            m = max(m, l[i] + l[j])\n",
        "print(count, m)"
      ],
      "metadata": {
        "colab": {
          "base_uri": "https://localhost:8080/"
        },
        "id": "os1GnEEC0igx",
        "outputId": "dc0cdf31-271f-48a8-89f3-1be5b9f19487"
      },
      "execution_count": null,
      "outputs": [
        {
          "output_type": "stream",
          "name": "stdout",
          "text": [
            "5678937 19984\n"
          ]
        }
      ]
    },
    {
      "cell_type": "code",
      "source": [
        "count = m = 0\n",
        "a = [int(x) for x in open('17.txt')]\n",
        "for i in range(len(a) - 1):\n",
        "  for l in range(i+1, len(a)):\n",
        "    if (a[i] + a [l]) % 126 == 0:\n",
        "      count =+ 1\n",
        "      m = max(m, a[i]+a[l])\n",
        "\n",
        "print(count, m)\n"
      ],
      "metadata": {
        "colab": {
          "base_uri": "https://localhost:8080/"
        },
        "id": "USITeSQ93pwe",
        "outputId": "021c7e27-c9ff-4a38-ff3d-c17cafe056b3"
      },
      "execution_count": null,
      "outputs": [
        {
          "output_type": "stream",
          "name": "stdout",
          "text": [
            "1 19908\n"
          ]
        }
      ]
    },
    {
      "cell_type": "code",
      "source": [
        "from math import sqrt\n",
        "k = []\n",
        "a = [int(x) for x in open('17.txt')]\n",
        "for i in range(len(a)-2):\n",
        "  if (sqrt(a[i]*a[i] + a[i+1]*a[i+1]) == sqrt(a[i+2] * a[i+2])):\n",
        "    k.append(a[i] + a[i+1] + a[i+2])\n",
        "\n",
        "try:\n",
        "  print(len(k), max(k))\n",
        "except Exception as ValueError:\n",
        "    print(0, 0)"
      ],
      "metadata": {
        "id": "Y609gFbecSl_",
        "colab": {
          "base_uri": "https://localhost:8080/"
        },
        "outputId": "dbbc8153-5600-4f5a-93cf-a6433bd057e6"
      },
      "execution_count": null,
      "outputs": [
        {
          "output_type": "stream",
          "name": "stdout",
          "text": [
            "0 0\n"
          ]
        }
      ]
    },
    {
      "cell_type": "markdown",
      "source": [
        "В файле содержится последовательность из 10 000 целых положительных чисел. Каждое число не превышает 10 000. Определите и запишите в ответе сначала количество пар элементов последовательности, для которых произведение элементов не кратно 14, затем максимальную из сумм элементов таких пар. В данной задаче под парой подразумевается два различных элемента последовательности. Порядок элементов в паре не важен."
      ],
      "metadata": {
        "id": "gWMrnhOGJVke"
      }
    },
    {
      "cell_type": "code",
      "source": [
        "a = [int(x) for x in open('17.txt')]\n",
        "k = []\n",
        "count = 0\n",
        "for i in range(len(a)-1):\n",
        "  for j in range(i+1, len(a)):\n",
        "    if a[i] * a[j] % 14 != 0:\n",
        "      count += 1\n",
        "      k.append(a[i] + a[i+1])\n",
        "\n",
        "print(len(k), max(k))\n",
        "print(count)"
      ],
      "metadata": {
        "colab": {
          "base_uri": "https://localhost:8080/"
        },
        "id": "2XKoGatrGp-y",
        "outputId": "bc2c575e-624b-4899-d116-105265a6ca5f"
      },
      "execution_count": null,
      "outputs": [
        {
          "output_type": "stream",
          "name": "stdout",
          "text": [
            "40436496 19873\n",
            "40436496\n"
          ]
        }
      ]
    },
    {
      "cell_type": "markdown",
      "source": [
        "Файл содержит последовательность целых чисел, по модулю не превышающих 10 000. Назовём парой два идущих подряд элемента последовательности.\n",
        "\n",
        "Задание 17\n",
        "\n",
        "Определите количество пар, для которых выполняются следующие условия:\n",
        "\n",
        "— запись элементов пары заканчивается одной и той же цифрой;\n",
        "\n",
        "— ровно один элемент из пары делится без остатка на 7;\n",
        "\n",
        "— сумма квадратов элементов пары не превышает квадрат наименьшего из элементов последовательности, запись которых заканчивается цифрой 7.\n",
        "\n",
        "В ответе запишите два числа: сначала количество найденных пар, затем максимальную величину суммы квадратов элементов этих пар."
      ],
      "metadata": {
        "id": "gO7abqUAMdVP"
      }
    },
    {
      "cell_type": "code",
      "source": [
        "a = [int(x) for x in open('17.txt')]\n",
        "k = []\n",
        "p = []\n",
        "\n",
        "for n in range(len(a)):\n",
        "  if str(a[n])[-1] == '7':\n",
        "    p.append(n)\n",
        "\n",
        "for i in range(len(a)-1):\n",
        "  if str(a[i])[-1] == str(a[i+1])[-1]:\n",
        "    if abs(a[i]) % 7 == 0 or abs(a[i+1]) % 7 == 0:\n",
        "      if (abs(a[i]) * abs(a[i]) + abs(a[i+1]) * abs(a[i+1]))<= min(p):\n",
        "        k.append(abs(a[i]) * abs(a[i]) + abs(a[i+1]) * abs(a[i+1]))\n",
        "\n",
        "print(len(k), max(k))\n"
      ],
      "metadata": {
        "colab": {
          "base_uri": "https://localhost:8080/",
          "height": 245
        },
        "id": "zbHmTgkOJYc4",
        "outputId": "62f6f53c-5f8a-4777-d59d-36b8059baf69"
      },
      "execution_count": null,
      "outputs": [
        {
          "output_type": "error",
          "ename": "FileNotFoundError",
          "evalue": "ignored",
          "traceback": [
            "\u001b[0;31m---------------------------------------------------------------------------\u001b[0m",
            "\u001b[0;31mFileNotFoundError\u001b[0m                         Traceback (most recent call last)",
            "\u001b[0;32m<ipython-input-1-8137c7a3a666>\u001b[0m in \u001b[0;36m<cell line: 1>\u001b[0;34m()\u001b[0m\n\u001b[0;32m----> 1\u001b[0;31m \u001b[0ma\u001b[0m \u001b[0;34m=\u001b[0m \u001b[0;34m[\u001b[0m\u001b[0mint\u001b[0m\u001b[0;34m(\u001b[0m\u001b[0mx\u001b[0m\u001b[0;34m)\u001b[0m \u001b[0;32mfor\u001b[0m \u001b[0mx\u001b[0m \u001b[0;32min\u001b[0m \u001b[0mopen\u001b[0m\u001b[0;34m(\u001b[0m\u001b[0;34m'17.txt'\u001b[0m\u001b[0;34m)\u001b[0m\u001b[0;34m]\u001b[0m\u001b[0;34m\u001b[0m\u001b[0;34m\u001b[0m\u001b[0m\n\u001b[0m\u001b[1;32m      2\u001b[0m \u001b[0mk\u001b[0m \u001b[0;34m=\u001b[0m \u001b[0;34m[\u001b[0m\u001b[0;34m]\u001b[0m\u001b[0;34m\u001b[0m\u001b[0;34m\u001b[0m\u001b[0m\n\u001b[1;32m      3\u001b[0m \u001b[0mp\u001b[0m \u001b[0;34m=\u001b[0m \u001b[0;34m[\u001b[0m\u001b[0;34m]\u001b[0m\u001b[0;34m\u001b[0m\u001b[0;34m\u001b[0m\u001b[0m\n\u001b[1;32m      4\u001b[0m \u001b[0;34m\u001b[0m\u001b[0m\n\u001b[1;32m      5\u001b[0m \u001b[0;32mfor\u001b[0m \u001b[0mn\u001b[0m \u001b[0;32min\u001b[0m \u001b[0mrange\u001b[0m\u001b[0;34m(\u001b[0m\u001b[0mlen\u001b[0m\u001b[0;34m(\u001b[0m\u001b[0ma\u001b[0m\u001b[0;34m)\u001b[0m\u001b[0;34m)\u001b[0m\u001b[0;34m:\u001b[0m\u001b[0;34m\u001b[0m\u001b[0;34m\u001b[0m\u001b[0m\n",
            "\u001b[0;31mFileNotFoundError\u001b[0m: [Errno 2] No such file or directory: '17.txt'"
          ]
        }
      ]
    },
    {
      "cell_type": "code",
      "source": [
        "a = [int(x) for x in open('17.txt')]\n",
        "k = []\n",
        "z = []\n",
        "b = 0\n",
        "maxx = 0\n",
        "\n",
        "for x in range(0, len(a)):\n",
        "  if a[x] % 2 != 0:\n",
        "    z.append(a[x])\n",
        "\n",
        "med = sum(z) // len(z)\n",
        "print(med)\n",
        "\n",
        "for i in range(len(a)-1):\n",
        "  if (a[i] % 5 == 0 and a[i+1] < med) or (a[i+1] % 5 == 0 and a[i] < med):\n",
        "    k.append(a[i] + a[i+1])\n",
        "    b += 1\n",
        "    if a[i] + a[i+1] > maxx:\n",
        "      maxx = a[i] + a[i+1]\n",
        "\n",
        "\n",
        "print(len(k), max(k))\n",
        "print(b, maxx)"
      ],
      "metadata": {
        "id": "n6brAlFsJTTy",
        "colab": {
          "base_uri": "https://localhost:8080/"
        },
        "outputId": "caf64682-f913-4388-9e0f-8131f792db11"
      },
      "execution_count": null,
      "outputs": [
        {
          "output_type": "stream",
          "name": "stdout",
          "text": [
            "5044\n",
            "1061 14847\n",
            "1061 14847\n"
          ]
        }
      ]
    },
    {
      "cell_type": "code",
      "source": [
        "a = [int(x) for x in open('17.txt')]\n",
        "ans = []\n",
        "\n",
        "for i in range(len(a)-1):\n",
        "  if (a[i] + a[i+1]) % 3 == 0 and (a[i]+a[i+1]) % 6 != 0 and abs(a[i] * a[i+1])%10 == 8:\n",
        "    ans.append(a[i] + a[i+1])\n",
        "print(len(ans), max(ans))"
      ],
      "metadata": {
        "colab": {
          "base_uri": "https://localhost:8080/"
        },
        "id": "FkRFtAJ9J6O4",
        "outputId": "da9a8132-0739-409e-a53f-3885be382586"
      },
      "execution_count": null,
      "outputs": [
        {
          "output_type": "stream",
          "name": "stdout",
          "text": [
            "1061 14847\n"
          ]
        }
      ]
    },
    {
      "cell_type": "markdown",
      "source": [
        "Количество троек"
      ],
      "metadata": {
        "id": "jMgaKct8MlZZ"
      }
    },
    {
      "cell_type": "code",
      "source": [
        "a = [int(x) for x in open('17.txt')]\n",
        "ans = []\n",
        "for i in range(len(a) - 2):\n",
        "  if (a[i] * a[i+1] * a[i+2]) % 7 == 0 and abs(a[i] + a[i+1] + a[i+2]) % 10 == 6:\n",
        "    ans.append(a[i] + a[i+1] + a[i+2])\n",
        "\n",
        "print(len(ans), max(ans))"
      ],
      "metadata": {
        "id": "K-yMOJjUMiuv"
      },
      "execution_count": null,
      "outputs": []
    },
    {
      "cell_type": "code",
      "source": [
        "a = [int(x) for x in open('17.txt')]\n",
        "ans = []\n",
        "ans2 = []\n",
        "for i in range(len(a) - 2):\n",
        "  if (a[i] * a[i+1] * a[i+2]) % 7 == 0 and abs(a[i] + a[i+1] + a[i+2]) % 10 == 6:\n",
        "    ans.append(a[i] + a[i+1] + a[i+2])\n",
        "    ans2.append(a[i] * a[i+1] * a[i+2])\n",
        "\n",
        "print(len(ans), max(ans))"
      ],
      "metadata": {
        "id": "ropvQalIN5WS"
      },
      "execution_count": null,
      "outputs": []
    },
    {
      "cell_type": "code",
      "source": [
        "a = [int(x) for x in open('17.txt')]\n",
        "ans = []\n",
        "for i in range(len(a)):\n",
        "  #if oct(a[i])[-1] == '7' and oct(a[i])[-2]!='2' пример восьмиричной записи\n",
        "  if a[i] % 8 == 7 and a[i] // 8 % 8 !=2:  #последняя цифра 7, а предпоследняя не 2. На 8 т.к восьмиричная запись чисел\n",
        "\n",
        "     ans.append(a[i])"
      ],
      "metadata": {
        "id": "28p3kj4eOnlV"
      },
      "execution_count": null,
      "outputs": []
    },
    {
      "cell_type": "markdown",
      "source": [
        "множество элементов последовательности, для которых сумма цифр кратна 3"
      ],
      "metadata": {
        "id": "Df_ZPA0QQYl8"
      }
    },
    {
      "cell_type": "code",
      "source": [
        "a = [int(x) for x in open('17.txt')]\n",
        "ans = []\n",
        "\n",
        "for i in range(len(a)):\n",
        "  s = sum(map(int, str(a[i])))\n",
        "  #s = sum(int(x) for x in str(a[i]))\n",
        "  if s % 3 == 0:\n",
        "    ans.append(a[i])\n",
        "\n",
        "\n",
        "print(len(ans), max(ans))"
      ],
      "metadata": {
        "id": "Wt1JE4mkQXDK"
      },
      "execution_count": null,
      "outputs": []
    },
    {
      "cell_type": "markdown",
      "source": [
        "следующие условия: - запись в троичной системе содержит 3 двойки, запись в семиричной системе не содержит нулей"
      ],
      "metadata": {
        "id": "Dy9WOL_NRSqZ"
      }
    },
    {
      "cell_type": "code",
      "source": [
        "a = [int(x) for x in open('17.txt')]\n",
        "ans = []\n",
        "\n",
        "def f(x):\n",
        "  k = 0\n",
        "  while x > 0:\n",
        "    # провека наличия 3 двоек в троичной системе\n",
        "    if x % 3 == 2: k +=1\n",
        "    x = x // 3\n",
        "  return k == 3 # если True - k=3\n",
        "def g(x):\n",
        "  k = 0\n",
        "  while x > 0:\n",
        "    # провека наличия нулей в семиричной системе\n",
        "    if x % 7 == 0: k +=1\n",
        "    x = x // 7\n",
        "  return k == 0 # если True - k=7\n",
        "\n",
        "for i in range(len(a)):\n",
        "  if f(a[i]) and g(a[i]):\n",
        "    ans.append(a[i])\n",
        "\n",
        "\n",
        "print(len(ans), min(ans))"
      ],
      "metadata": {
        "id": "_8xDV0WBRf89"
      },
      "execution_count": null,
      "outputs": []
    },
    {
      "cell_type": "markdown",
      "source": [
        "многоэтапный поиск\n",
        "\n",
        "\n",
        "(оба элемента больше, чем среднее арифметичнское всех чисел в файле)"
      ],
      "metadata": {
        "id": "T7BIXyUzTsDS"
      }
    },
    {
      "cell_type": "code",
      "source": [
        "a = [int(x) for x in open('17.txt')]\n",
        "ans = []\n",
        "avg = sum(a) / len(a) #считаем среднее арифметическое\n",
        "for i in range(len(a) - 1):\n",
        "  if a[i] > avg and a[i+1] > avg and abs(a[i] + a[i+1]) % 100==31:\n",
        "    ans.append(a[i] + a[i + 1])\n",
        "\n",
        "print(len(ans), max(ans))\n"
      ],
      "metadata": {
        "id": "eWX3cSXTUEmN"
      },
      "execution_count": null,
      "outputs": []
    },
    {
      "cell_type": "code",
      "source": [
        "a = [int(x) for x in open('17.txt')]\n",
        "ans = []\n",
        "\n",
        "mx = max([x for x in a if x%2!=0])\n",
        "mn = min([x for x in a if x%2!=0])\n",
        "\n",
        "for i in range(len(a) - 1):\n",
        "  if (a[i] + a[i+1]) % 2 == 0 and a[i] + a[i+1] > mn+mx:\n",
        "    ans.append(a[i] + a[i+1])\n",
        "\n",
        "print(len(a), min(ans))\n",
        "\n"
      ],
      "metadata": {
        "id": "UeyyHXOPbRYY"
      },
      "execution_count": null,
      "outputs": []
    },
    {
      "cell_type": "markdown",
      "source": [
        "Определите и запишите в ответе сначала количество пар элементов, в которых сумма квадратов элементов пары имеет нечётное значение, меньшее 80, затем среди таких пар определите пару с максимальной суммой элементов и запишите минимальное из чисел в ней"
      ],
      "metadata": {
        "id": "JbetwewnlaB2"
      }
    },
    {
      "cell_type": "code",
      "source": [
        "a = [int(x) for x in open('17.txt')]\n",
        "ans = []\n",
        "\n",
        "for i in range(len(a) - 1):\n",
        "  if (a[i] ** 2 + a[i+1]**2) % 2 !=0 and a[i]**2 + a[i+1]**2 <80:\n",
        "    ans.append([a[i], a[i+1]])\n",
        "\n",
        "M = max(ans, key=sum)\n",
        "print(len(ans), M)"
      ],
      "metadata": {
        "id": "F5ID0eukjZfq"
      },
      "execution_count": null,
      "outputs": []
    },
    {
      "cell_type": "markdown",
      "source": [],
      "metadata": {
        "id": "DLrl-6vi0W1B"
      }
    },
    {
      "cell_type": "markdown",
      "source": [
        "# 16 Задание"
      ],
      "metadata": {
        "id": "m1uLkKvMyqPG"
      }
    },
    {
      "cell_type": "code",
      "source": [
        "def F(n):\n",
        "  if n == 1:\n",
        "    return 5\n",
        "  elif n == 2:\n",
        "    return 5\n",
        "  elif n > 2:\n",
        "    return 5*F(n-1) - 4*F(n-2)\n",
        "\n",
        "print(F(13))"
      ],
      "metadata": {
        "colab": {
          "base_uri": "https://localhost:8080/"
        },
        "id": "e917qKNbx2KH",
        "outputId": "193c7d49-606c-46b2-c8a4-abbbeda61a2a"
      },
      "execution_count": null,
      "outputs": [
        {
          "output_type": "stream",
          "name": "stdout",
          "text": [
            "5\n"
          ]
        }
      ]
    },
    {
      "cell_type": "code",
      "source": [
        "import sys\n",
        "sys.setrecursionlimit(100000000)\n",
        "def F(n):\n",
        "  if n == 1:\n",
        "    return 4\n",
        "  elif n > 1:\n",
        "    return 3*n + F(n-1)\n",
        "\n",
        "print(F(1049)-F(1023))"
      ],
      "metadata": {
        "colab": {
          "base_uri": "https://localhost:8080/"
        },
        "id": "50B9eJCsqiAM",
        "outputId": "71667f32-e138-44ba-e02b-d00bbc3c9b6b"
      },
      "execution_count": null,
      "outputs": [
        {
          "output_type": "stream",
          "name": "stdout",
          "text": [
            "80847\n"
          ]
        }
      ]
    },
    {
      "cell_type": "code",
      "source": [
        "def F(n):\n",
        "  if n == 1:\n",
        "    return 1\n",
        "  elif n > 1:\n",
        "    return  F(n-1) * n\n",
        "\n",
        "print(F(5))"
      ],
      "metadata": {
        "colab": {
          "base_uri": "https://localhost:8080/"
        },
        "id": "xg14ExZhzmxt",
        "outputId": "401ea4eb-4da6-45c9-9477-99ecfc7bcd42"
      },
      "execution_count": null,
      "outputs": [
        {
          "output_type": "stream",
          "name": "stdout",
          "text": [
            "120\n"
          ]
        }
      ]
    },
    {
      "cell_type": "code",
      "source": [
        "def F(n):\n",
        "  if n <= 2:\n",
        "    return 1\n",
        "  elif n > 2:\n",
        "    return F(n-1)+3*F(n-2)\n",
        "\n",
        "print(F(7))\n"
      ],
      "metadata": {
        "colab": {
          "base_uri": "https://localhost:8080/"
        },
        "id": "mLtHW-Pgz58L",
        "outputId": "ceafb61e-e441-40a8-8641-30a3126f7b4b"
      },
      "execution_count": null,
      "outputs": [
        {
          "output_type": "stream",
          "name": "stdout",
          "text": [
            "97\n"
          ]
        }
      ]
    },
    {
      "cell_type": "code",
      "source": [
        "def F(n):\n",
        "  if n <= 1:\n",
        "    return 42\n",
        "  elif n>1 and n % 2 == 0:\n",
        "     return F(n-2) + F(n-3)\n",
        "  else:\n",
        "     return F(n-1) + F(n-3)\n",
        "\n",
        "print(F(99))"
      ],
      "metadata": {
        "id": "l0JfKKHKxJwf"
      },
      "execution_count": null,
      "outputs": []
    },
    {
      "cell_type": "code",
      "source": [
        "def F(n):\n",
        "    if n == 1:\n",
        "        return 4\n",
        "    result = 0\n",
        "    for i in range(1, n+1):\n",
        "        result += 3*i\n",
        "    return result\n",
        "\n",
        "print(F(1049) - F(1023))\n"
      ],
      "metadata": {
        "colab": {
          "base_uri": "https://localhost:8080/"
        },
        "id": "doYCQCYiZPFZ",
        "outputId": "8797d94d-c4cf-4959-ffd1-ee58b159f271"
      },
      "execution_count": null,
      "outputs": [
        {
          "output_type": "stream",
          "name": "stdout",
          "text": [
            "80847\n"
          ]
        }
      ]
    },
    {
      "cell_type": "code",
      "source": [
        "def F(n):\n",
        "  if n == 1:\n",
        "    return 1\n",
        "  elif n > 1:\n",
        "    return 3 * F(n-1) + 2 + n\n",
        "\n",
        "print(F(3))"
      ],
      "metadata": {
        "colab": {
          "base_uri": "https://localhost:8080/"
        },
        "id": "hVL24ffMhxQD",
        "outputId": "f193c63f-1709-496e-9d37-b33b32e8fe21"
      },
      "execution_count": null,
      "outputs": [
        {
          "output_type": "stream",
          "name": "stdout",
          "text": [
            "26\n"
          ]
        }
      ]
    },
    {
      "cell_type": "code",
      "source": [
        "def F(n):\n",
        "  if n == 1:\n",
        "    return 1\n",
        "  elif n == 2:\n",
        "    return 1\n",
        "  elif n > 2:\n",
        "    return F(n-1) * n + F(n-2) * (n-1)\n",
        "\n",
        "print(F(7))"
      ],
      "metadata": {
        "colab": {
          "base_uri": "https://localhost:8080/"
        },
        "id": "EKtaIHTtiOdw",
        "outputId": "30838dfa-2560-4912-b6d0-285f086ff90d"
      },
      "execution_count": null,
      "outputs": [
        {
          "output_type": "stream",
          "name": "stdout",
          "text": [
            "7285\n"
          ]
        }
      ]
    },
    {
      "cell_type": "code",
      "source": [
        "def F(n):\n",
        "  if n >= 2025:\n",
        "    return n\n",
        "  elif n < 2025:\n",
        "    return n + F(n+2)\n",
        "\n",
        "print(F(2022)-F(2023))"
      ],
      "metadata": {
        "colab": {
          "base_uri": "https://localhost:8080/"
        },
        "id": "fb3zwVjCjLkL",
        "outputId": "0ac42d62-ea36-46a6-9b23-e142ff3cca0a"
      },
      "execution_count": null,
      "outputs": [
        {
          "output_type": "stream",
          "name": "stdout",
          "text": [
            "2024\n"
          ]
        }
      ]
    },
    {
      "cell_type": "markdown",
      "source": [
        "Две рекурсивные функции"
      ],
      "metadata": {
        "id": "piH2BB9nkS8P"
      }
    },
    {
      "cell_type": "code",
      "source": [
        "def F(n):\n",
        "  if n <= 2:\n",
        "    return 1\n",
        "  return G(n-2)\n",
        "\n",
        "def G(n):\n",
        "  if n <= 1:\n",
        "    return 1\n",
        "  return F(n-1) + n + 1\n",
        "\n",
        "print(F(8))\n"
      ],
      "metadata": {
        "colab": {
          "base_uri": "https://localhost:8080/"
        },
        "id": "U-wei_qHkIf8",
        "outputId": "a12f8dd9-b5c4-49c9-8418-b4ccc34bcc72"
      },
      "execution_count": null,
      "outputs": [
        {
          "output_type": "stream",
          "name": "stdout",
          "text": [
            "12\n"
          ]
        }
      ]
    },
    {
      "cell_type": "code",
      "source": [
        "def F(n):\n",
        "  if n <= 5:\n",
        "    return 2 * n\n",
        "  elif n > 5 and n % 2 == 0:\n",
        "    return F(n-2) + 2 * F(n//2) - n\n",
        "  elif n > 5 and n % 2 != 0:\n",
        "    return F(n-1) + F(n-2) + n\n",
        "\n",
        "print(F(79)+F(98))"
      ],
      "metadata": {
        "colab": {
          "base_uri": "https://localhost:8080/"
        },
        "id": "3qfEBrGHlGQS",
        "outputId": "54bd9b43-4732-49be-e1c9-3174206086be"
      },
      "execution_count": null,
      "outputs": [
        {
          "output_type": "stream",
          "name": "stdout",
          "text": [
            "1657159\n"
          ]
        }
      ]
    },
    {
      "cell_type": "markdown",
      "source": [
        "как перевести в математическую формулу?\n",
        "если n > 1  -- 1\n",
        "если n >= 1: 2 + F(n-1) + F(n-2)"
      ],
      "metadata": {
        "id": "i_RwHtA_ogLa"
      }
    },
    {
      "cell_type": "code",
      "source": [
        "def F(n):\n",
        "  print('*')\n",
        "  if n >= 1:\n",
        "    print('*')\n",
        "    F(n-1)\n",
        "    F(n-2)"
      ],
      "metadata": {
        "id": "VMW6kFkWmwaj"
      },
      "execution_count": null,
      "outputs": []
    },
    {
      "cell_type": "code",
      "source": [
        "'''\n",
        "def F(n):\n",
        "  print(3*n)\n",
        "  if n > 1:\n",
        "    print(n-2)\n",
        "    F(n-1)\n",
        "    F(n-2)\n",
        "'''\n",
        "\n",
        "def f(n):\n",
        "  s = 3*n\n",
        "  if n > 1:\n",
        "    s+= n-2\n",
        "    s += f(n-1)\n",
        "    s += f(n-2)\n",
        "  return s\n",
        "\n",
        "for n in range(30):\n",
        "  print(n, f(n))\n",
        "\n"
      ],
      "metadata": {
        "colab": {
          "base_uri": "https://localhost:8080/"
        },
        "id": "JHd6Ciqape29",
        "outputId": "214f7011-8ed8-4783-bfe2-bd9230e1575c"
      },
      "execution_count": null,
      "outputs": [
        {
          "output_type": "stream",
          "name": "stdout",
          "text": [
            "0 0\n",
            "1 3\n",
            "2 9\n",
            "3 22\n",
            "4 45\n",
            "5 85\n",
            "6 152\n",
            "7 263\n",
            "8 445\n",
            "9 742\n",
            "10 1225\n",
            "11 2009\n",
            "12 3280\n",
            "13 5339\n",
            "14 8673\n",
            "15 14070\n",
            "16 22805\n",
            "17 36941\n",
            "18 59816\n",
            "19 96831\n",
            "20 156725\n",
            "21 253638\n",
            "22 410449\n",
            "23 664177\n",
            "24 1074720\n",
            "25 1738995\n",
            "26 2813817\n",
            "27 4552918\n",
            "28 7366845\n",
            "29 11919877\n"
          ]
        }
      ]
    },
    {
      "cell_type": "code",
      "source": [
        "def F(n):\n",
        "  s = 2*n + 1\n",
        "  if n > 1:\n",
        "    s += 3*n - 8\n",
        "    s += F(n-1)\n",
        "    s += F(n-4)\n",
        "\n",
        "  return s\n",
        "\n",
        "for i in range(1, 50):\n",
        "  print(i, F(i))"
      ],
      "metadata": {
        "colab": {
          "base_uri": "https://localhost:8080/"
        },
        "id": "h0zaxJUs4hy8",
        "outputId": "ddef49ce-2507-4258-9dae-d630db41bc76"
      },
      "execution_count": null,
      "outputs": [
        {
          "output_type": "stream",
          "name": "stdout",
          "text": [
            "1 3\n",
            "2 3\n",
            "3 10\n",
            "4 24\n",
            "5 45\n",
            "6 71\n",
            "7 109\n",
            "8 166\n",
            "9 249\n",
            "10 363\n",
            "11 520\n",
            "12 739\n",
            "13 1046\n",
            "14 1472\n",
            "15 2060\n",
            "16 2872\n",
            "17 3996\n",
            "18 5551\n",
            "19 7699\n",
            "20 10664\n",
            "21 14758\n",
            "22 20412\n",
            "23 28219\n",
            "24 38996\n",
            "25 53872\n",
            "26 74407\n",
            "27 102754\n",
            "28 141883\n",
            "29 195893\n",
            "30 270443\n",
            "31 373345\n",
            "32 515381\n",
            "33 711432\n",
            "34 982038\n",
            "35 1355551\n",
            "36 1871105\n",
            "37 2582715\n",
            "38 3564936\n",
            "39 4920675\n",
            "40 6791973\n",
            "41 9374886\n",
            "42 12940025\n",
            "43 17860908\n",
            "44 24653094\n",
            "45 34028198\n",
            "46 46968446\n",
            "47 64829582\n",
            "48 89482909\n",
            "49 123511345\n"
          ]
        }
      ]
    },
    {
      "cell_type": "code",
      "source": [
        "def G(n):\n",
        "  print(n)\n",
        "  if n % 3 != 0:\n",
        "    G(n-1)\n",
        "    G(n//2)\n",
        "\n",
        "G(14)"
      ],
      "metadata": {
        "colab": {
          "base_uri": "https://localhost:8080/"
        },
        "id": "kAUf-eaoxozA",
        "outputId": "0d3f165d-2abf-4052-e88f-6c2ff5503672"
      },
      "execution_count": null,
      "outputs": [
        {
          "output_type": "stream",
          "name": "stdout",
          "text": [
            "14\n",
            "13\n",
            "12\n",
            "6\n",
            "7\n",
            "6\n",
            "3\n"
          ]
        }
      ]
    },
    {
      "cell_type": "markdown",
      "source": [
        "обозначим через mod(a, b)..."
      ],
      "metadata": {
        "id": "RMhn61HCy6Mt"
      }
    },
    {
      "cell_type": "code",
      "source": [
        "def F(n):\n",
        "  if n == 0:\n",
        "    return 1\n",
        "  elif n % 5 == 0:\n",
        "    return n // 5 + F(n//5)\n",
        "  else:\n",
        "    return n % 5 + F(n-1)\n",
        "n = 0\n",
        "while F(n) != 2021:\n",
        "  n+=1\n",
        "print(n)"
      ],
      "metadata": {
        "colab": {
          "base_uri": "https://localhost:8080/"
        },
        "id": "Xg9nvlC6yYLI",
        "outputId": "8f300906-40dd-440f-cae2-1f3dc13aaa51"
      },
      "execution_count": null,
      "outputs": [
        {
          "output_type": "stream",
          "name": "stdout",
          "text": [
            "7972\n"
          ]
        }
      ]
    },
    {
      "cell_type": "code",
      "source": [
        "def F(n):\n",
        "  if n < 2:\n",
        "    return 1\n",
        "  elif n % 2 == 0 and n > 1:\n",
        "    return 2*F(n-1)\n",
        "  elif n % 2 != 0 and n > 1:\n",
        "    return 4*n + F(n-2)\n",
        "\n",
        "print(F(45))"
      ],
      "metadata": {
        "colab": {
          "base_uri": "https://localhost:8080/"
        },
        "id": "mRVtW95iWfd0",
        "outputId": "b7746c24-0ea7-463f-dfdc-77e195652541"
      },
      "execution_count": null,
      "outputs": [
        {
          "output_type": "stream",
          "name": "stdout",
          "text": [
            "2113\n"
          ]
        }
      ]
    },
    {
      "cell_type": "code",
      "source": [
        "def F(n):\n",
        "  if n == 1:\n",
        "    return G(n)\n",
        "  elif n > 1:\n",
        "    k = G(n-1)\n",
        "    return F(n-1) - 2 * k\n",
        "\n",
        "def G(n):\n",
        "  if n > 1:\n",
        "    return F(n-1) + G(n-1) + n\n",
        "\n",
        "print(G(36))"
      ],
      "metadata": {
        "colab": {
          "base_uri": "https://localhost:8080/",
          "height": 355
        },
        "id": "Ob6KQXOVW2GU",
        "outputId": "60ecba40-5789-42ec-d36c-95f24d367e34"
      },
      "execution_count": null,
      "outputs": [
        {
          "output_type": "error",
          "ename": "TypeError",
          "evalue": "ignored",
          "traceback": [
            "\u001b[0;31m---------------------------------------------------------------------------\u001b[0m",
            "\u001b[0;31mTypeError\u001b[0m                                 Traceback (most recent call last)",
            "\u001b[0;32m<ipython-input-7-31a8ae2ecc86>\u001b[0m in \u001b[0;36m<cell line: 12>\u001b[0;34m()\u001b[0m\n\u001b[1;32m     10\u001b[0m     \u001b[0;32mreturn\u001b[0m \u001b[0mF\u001b[0m\u001b[0;34m(\u001b[0m\u001b[0mn\u001b[0m\u001b[0;34m-\u001b[0m\u001b[0;36m1\u001b[0m\u001b[0;34m)\u001b[0m \u001b[0;34m+\u001b[0m \u001b[0mG\u001b[0m\u001b[0;34m(\u001b[0m\u001b[0mn\u001b[0m\u001b[0;34m-\u001b[0m\u001b[0;36m1\u001b[0m\u001b[0;34m)\u001b[0m \u001b[0;34m+\u001b[0m \u001b[0mn\u001b[0m\u001b[0;34m\u001b[0m\u001b[0;34m\u001b[0m\u001b[0m\n\u001b[1;32m     11\u001b[0m \u001b[0;34m\u001b[0m\u001b[0m\n\u001b[0;32m---> 12\u001b[0;31m \u001b[0mprint\u001b[0m\u001b[0;34m(\u001b[0m\u001b[0mG\u001b[0m\u001b[0;34m(\u001b[0m\u001b[0;36m36\u001b[0m\u001b[0;34m)\u001b[0m\u001b[0;34m)\u001b[0m\u001b[0;34m\u001b[0m\u001b[0;34m\u001b[0m\u001b[0m\n\u001b[0m",
            "\u001b[0;32m<ipython-input-7-31a8ae2ecc86>\u001b[0m in \u001b[0;36mG\u001b[0;34m(n)\u001b[0m\n\u001b[1;32m      8\u001b[0m \u001b[0;32mdef\u001b[0m \u001b[0mG\u001b[0m\u001b[0;34m(\u001b[0m\u001b[0mn\u001b[0m\u001b[0;34m)\u001b[0m\u001b[0;34m:\u001b[0m\u001b[0;34m\u001b[0m\u001b[0;34m\u001b[0m\u001b[0m\n\u001b[1;32m      9\u001b[0m   \u001b[0;32mif\u001b[0m \u001b[0mn\u001b[0m \u001b[0;34m>\u001b[0m \u001b[0;36m1\u001b[0m\u001b[0;34m:\u001b[0m\u001b[0;34m\u001b[0m\u001b[0;34m\u001b[0m\u001b[0m\n\u001b[0;32m---> 10\u001b[0;31m     \u001b[0;32mreturn\u001b[0m \u001b[0mF\u001b[0m\u001b[0;34m(\u001b[0m\u001b[0mn\u001b[0m\u001b[0;34m-\u001b[0m\u001b[0;36m1\u001b[0m\u001b[0;34m)\u001b[0m \u001b[0;34m+\u001b[0m \u001b[0mG\u001b[0m\u001b[0;34m(\u001b[0m\u001b[0mn\u001b[0m\u001b[0;34m-\u001b[0m\u001b[0;36m1\u001b[0m\u001b[0;34m)\u001b[0m \u001b[0;34m+\u001b[0m \u001b[0mn\u001b[0m\u001b[0;34m\u001b[0m\u001b[0;34m\u001b[0m\u001b[0m\n\u001b[0m\u001b[1;32m     11\u001b[0m \u001b[0;34m\u001b[0m\u001b[0m\n\u001b[1;32m     12\u001b[0m \u001b[0mprint\u001b[0m\u001b[0;34m(\u001b[0m\u001b[0mG\u001b[0m\u001b[0;34m(\u001b[0m\u001b[0;36m36\u001b[0m\u001b[0;34m)\u001b[0m\u001b[0;34m)\u001b[0m\u001b[0;34m\u001b[0m\u001b[0;34m\u001b[0m\u001b[0m\n",
            "\u001b[0;32m<ipython-input-7-31a8ae2ecc86>\u001b[0m in \u001b[0;36mF\u001b[0;34m(n)\u001b[0m\n\u001b[1;32m      3\u001b[0m     \u001b[0;32mreturn\u001b[0m \u001b[0mG\u001b[0m\u001b[0;34m(\u001b[0m\u001b[0mn\u001b[0m\u001b[0;34m)\u001b[0m\u001b[0;34m\u001b[0m\u001b[0;34m\u001b[0m\u001b[0m\n\u001b[1;32m      4\u001b[0m   \u001b[0;32melif\u001b[0m \u001b[0mn\u001b[0m \u001b[0;34m>\u001b[0m \u001b[0;36m1\u001b[0m\u001b[0;34m:\u001b[0m\u001b[0;34m\u001b[0m\u001b[0;34m\u001b[0m\u001b[0m\n\u001b[0;32m----> 5\u001b[0;31m     \u001b[0mk\u001b[0m \u001b[0;34m=\u001b[0m \u001b[0mG\u001b[0m\u001b[0;34m(\u001b[0m\u001b[0mn\u001b[0m\u001b[0;34m-\u001b[0m\u001b[0;36m1\u001b[0m\u001b[0;34m)\u001b[0m\u001b[0;34m\u001b[0m\u001b[0;34m\u001b[0m\u001b[0m\n\u001b[0m\u001b[1;32m      6\u001b[0m     \u001b[0;32mreturn\u001b[0m \u001b[0mF\u001b[0m\u001b[0;34m(\u001b[0m\u001b[0mn\u001b[0m\u001b[0;34m-\u001b[0m\u001b[0;36m1\u001b[0m\u001b[0;34m)\u001b[0m \u001b[0;34m-\u001b[0m \u001b[0;36m2\u001b[0m \u001b[0;34m*\u001b[0m \u001b[0mk\u001b[0m\u001b[0;34m\u001b[0m\u001b[0;34m\u001b[0m\u001b[0m\n\u001b[1;32m      7\u001b[0m \u001b[0;34m\u001b[0m\u001b[0m\n",
            "\u001b[0;32m<ipython-input-7-31a8ae2ecc86>\u001b[0m in \u001b[0;36mG\u001b[0;34m(n)\u001b[0m\n\u001b[1;32m      8\u001b[0m \u001b[0;32mdef\u001b[0m \u001b[0mG\u001b[0m\u001b[0;34m(\u001b[0m\u001b[0mn\u001b[0m\u001b[0;34m)\u001b[0m\u001b[0;34m:\u001b[0m\u001b[0;34m\u001b[0m\u001b[0;34m\u001b[0m\u001b[0m\n\u001b[1;32m      9\u001b[0m   \u001b[0;32mif\u001b[0m \u001b[0mn\u001b[0m \u001b[0;34m>\u001b[0m \u001b[0;36m1\u001b[0m\u001b[0;34m:\u001b[0m\u001b[0;34m\u001b[0m\u001b[0;34m\u001b[0m\u001b[0m\n\u001b[0;32m---> 10\u001b[0;31m     \u001b[0;32mreturn\u001b[0m \u001b[0mF\u001b[0m\u001b[0;34m(\u001b[0m\u001b[0mn\u001b[0m\u001b[0;34m-\u001b[0m\u001b[0;36m1\u001b[0m\u001b[0;34m)\u001b[0m \u001b[0;34m+\u001b[0m \u001b[0mG\u001b[0m\u001b[0;34m(\u001b[0m\u001b[0mn\u001b[0m\u001b[0;34m-\u001b[0m\u001b[0;36m1\u001b[0m\u001b[0;34m)\u001b[0m \u001b[0;34m+\u001b[0m \u001b[0mn\u001b[0m\u001b[0;34m\u001b[0m\u001b[0;34m\u001b[0m\u001b[0m\n\u001b[0m\u001b[1;32m     11\u001b[0m \u001b[0;34m\u001b[0m\u001b[0m\n\u001b[1;32m     12\u001b[0m \u001b[0mprint\u001b[0m\u001b[0;34m(\u001b[0m\u001b[0mG\u001b[0m\u001b[0;34m(\u001b[0m\u001b[0;36m36\u001b[0m\u001b[0;34m)\u001b[0m\u001b[0;34m)\u001b[0m\u001b[0;34m\u001b[0m\u001b[0;34m\u001b[0m\u001b[0m\n",
            "\u001b[0;32m<ipython-input-7-31a8ae2ecc86>\u001b[0m in \u001b[0;36mF\u001b[0;34m(n)\u001b[0m\n\u001b[1;32m      3\u001b[0m     \u001b[0;32mreturn\u001b[0m \u001b[0mG\u001b[0m\u001b[0;34m(\u001b[0m\u001b[0mn\u001b[0m\u001b[0;34m)\u001b[0m\u001b[0;34m\u001b[0m\u001b[0;34m\u001b[0m\u001b[0m\n\u001b[1;32m      4\u001b[0m   \u001b[0;32melif\u001b[0m \u001b[0mn\u001b[0m \u001b[0;34m>\u001b[0m \u001b[0;36m1\u001b[0m\u001b[0;34m:\u001b[0m\u001b[0;34m\u001b[0m\u001b[0;34m\u001b[0m\u001b[0m\n\u001b[0;32m----> 5\u001b[0;31m     \u001b[0mk\u001b[0m \u001b[0;34m=\u001b[0m \u001b[0mG\u001b[0m\u001b[0;34m(\u001b[0m\u001b[0mn\u001b[0m\u001b[0;34m-\u001b[0m\u001b[0;36m1\u001b[0m\u001b[0;34m)\u001b[0m\u001b[0;34m\u001b[0m\u001b[0;34m\u001b[0m\u001b[0m\n\u001b[0m\u001b[1;32m      6\u001b[0m     \u001b[0;32mreturn\u001b[0m \u001b[0mF\u001b[0m\u001b[0;34m(\u001b[0m\u001b[0mn\u001b[0m\u001b[0;34m-\u001b[0m\u001b[0;36m1\u001b[0m\u001b[0;34m)\u001b[0m \u001b[0;34m-\u001b[0m \u001b[0;36m2\u001b[0m \u001b[0;34m*\u001b[0m \u001b[0mk\u001b[0m\u001b[0;34m\u001b[0m\u001b[0;34m\u001b[0m\u001b[0m\n\u001b[1;32m      7\u001b[0m \u001b[0;34m\u001b[0m\u001b[0m\n",
            "\u001b[0;32m<ipython-input-7-31a8ae2ecc86>\u001b[0m in \u001b[0;36mG\u001b[0;34m(n)\u001b[0m\n\u001b[1;32m      8\u001b[0m \u001b[0;32mdef\u001b[0m \u001b[0mG\u001b[0m\u001b[0;34m(\u001b[0m\u001b[0mn\u001b[0m\u001b[0;34m)\u001b[0m\u001b[0;34m:\u001b[0m\u001b[0;34m\u001b[0m\u001b[0;34m\u001b[0m\u001b[0m\n\u001b[1;32m      9\u001b[0m   \u001b[0;32mif\u001b[0m \u001b[0mn\u001b[0m \u001b[0;34m>\u001b[0m \u001b[0;36m1\u001b[0m\u001b[0;34m:\u001b[0m\u001b[0;34m\u001b[0m\u001b[0;34m\u001b[0m\u001b[0m\n\u001b[0;32m---> 10\u001b[0;31m     \u001b[0;32mreturn\u001b[0m \u001b[0mF\u001b[0m\u001b[0;34m(\u001b[0m\u001b[0mn\u001b[0m\u001b[0;34m-\u001b[0m\u001b[0;36m1\u001b[0m\u001b[0;34m)\u001b[0m \u001b[0;34m+\u001b[0m \u001b[0mG\u001b[0m\u001b[0;34m(\u001b[0m\u001b[0mn\u001b[0m\u001b[0;34m-\u001b[0m\u001b[0;36m1\u001b[0m\u001b[0;34m)\u001b[0m \u001b[0;34m+\u001b[0m \u001b[0mn\u001b[0m\u001b[0;34m\u001b[0m\u001b[0;34m\u001b[0m\u001b[0m\n\u001b[0m\u001b[1;32m     11\u001b[0m \u001b[0;34m\u001b[0m\u001b[0m\n\u001b[1;32m     12\u001b[0m \u001b[0mprint\u001b[0m\u001b[0;34m(\u001b[0m\u001b[0mG\u001b[0m\u001b[0;34m(\u001b[0m\u001b[0;36m36\u001b[0m\u001b[0;34m)\u001b[0m\u001b[0;34m)\u001b[0m\u001b[0;34m\u001b[0m\u001b[0;34m\u001b[0m\u001b[0m\n",
            "\u001b[0;32m<ipython-input-7-31a8ae2ecc86>\u001b[0m in \u001b[0;36mF\u001b[0;34m(n)\u001b[0m\n\u001b[1;32m      3\u001b[0m     \u001b[0;32mreturn\u001b[0m \u001b[0mG\u001b[0m\u001b[0;34m(\u001b[0m\u001b[0mn\u001b[0m\u001b[0;34m)\u001b[0m\u001b[0;34m\u001b[0m\u001b[0;34m\u001b[0m\u001b[0m\n\u001b[1;32m      4\u001b[0m   \u001b[0;32melif\u001b[0m \u001b[0mn\u001b[0m \u001b[0;34m>\u001b[0m \u001b[0;36m1\u001b[0m\u001b[0;34m:\u001b[0m\u001b[0;34m\u001b[0m\u001b[0;34m\u001b[0m\u001b[0m\n\u001b[0;32m----> 5\u001b[0;31m     \u001b[0mk\u001b[0m \u001b[0;34m=\u001b[0m \u001b[0mG\u001b[0m\u001b[0;34m(\u001b[0m\u001b[0mn\u001b[0m\u001b[0;34m-\u001b[0m\u001b[0;36m1\u001b[0m\u001b[0;34m)\u001b[0m\u001b[0;34m\u001b[0m\u001b[0;34m\u001b[0m\u001b[0m\n\u001b[0m\u001b[1;32m      6\u001b[0m     \u001b[0;32mreturn\u001b[0m \u001b[0mF\u001b[0m\u001b[0;34m(\u001b[0m\u001b[0mn\u001b[0m\u001b[0;34m-\u001b[0m\u001b[0;36m1\u001b[0m\u001b[0;34m)\u001b[0m \u001b[0;34m-\u001b[0m \u001b[0;36m2\u001b[0m \u001b[0;34m*\u001b[0m \u001b[0mk\u001b[0m\u001b[0;34m\u001b[0m\u001b[0;34m\u001b[0m\u001b[0m\n\u001b[1;32m      7\u001b[0m \u001b[0;34m\u001b[0m\u001b[0m\n",
            "\u001b[0;32m<ipython-input-7-31a8ae2ecc86>\u001b[0m in \u001b[0;36mG\u001b[0;34m(n)\u001b[0m\n\u001b[1;32m      8\u001b[0m \u001b[0;32mdef\u001b[0m \u001b[0mG\u001b[0m\u001b[0;34m(\u001b[0m\u001b[0mn\u001b[0m\u001b[0;34m)\u001b[0m\u001b[0;34m:\u001b[0m\u001b[0;34m\u001b[0m\u001b[0;34m\u001b[0m\u001b[0m\n\u001b[1;32m      9\u001b[0m   \u001b[0;32mif\u001b[0m \u001b[0mn\u001b[0m \u001b[0;34m>\u001b[0m \u001b[0;36m1\u001b[0m\u001b[0;34m:\u001b[0m\u001b[0;34m\u001b[0m\u001b[0;34m\u001b[0m\u001b[0m\n\u001b[0;32m---> 10\u001b[0;31m     \u001b[0;32mreturn\u001b[0m \u001b[0mF\u001b[0m\u001b[0;34m(\u001b[0m\u001b[0mn\u001b[0m\u001b[0;34m-\u001b[0m\u001b[0;36m1\u001b[0m\u001b[0;34m)\u001b[0m \u001b[0;34m+\u001b[0m \u001b[0mG\u001b[0m\u001b[0;34m(\u001b[0m\u001b[0mn\u001b[0m\u001b[0;34m-\u001b[0m\u001b[0;36m1\u001b[0m\u001b[0;34m)\u001b[0m \u001b[0;34m+\u001b[0m \u001b[0mn\u001b[0m\u001b[0;34m\u001b[0m\u001b[0;34m\u001b[0m\u001b[0m\n\u001b[0m\u001b[1;32m     11\u001b[0m \u001b[0;34m\u001b[0m\u001b[0m\n\u001b[1;32m     12\u001b[0m \u001b[0mprint\u001b[0m\u001b[0;34m(\u001b[0m\u001b[0mG\u001b[0m\u001b[0;34m(\u001b[0m\u001b[0;36m36\u001b[0m\u001b[0;34m)\u001b[0m\u001b[0;34m)\u001b[0m\u001b[0;34m\u001b[0m\u001b[0;34m\u001b[0m\u001b[0m\n",
            "\u001b[0;32m<ipython-input-7-31a8ae2ecc86>\u001b[0m in \u001b[0;36mF\u001b[0;34m(n)\u001b[0m\n\u001b[1;32m      3\u001b[0m     \u001b[0;32mreturn\u001b[0m \u001b[0mG\u001b[0m\u001b[0;34m(\u001b[0m\u001b[0mn\u001b[0m\u001b[0;34m)\u001b[0m\u001b[0;34m\u001b[0m\u001b[0;34m\u001b[0m\u001b[0m\n\u001b[1;32m      4\u001b[0m   \u001b[0;32melif\u001b[0m \u001b[0mn\u001b[0m \u001b[0;34m>\u001b[0m \u001b[0;36m1\u001b[0m\u001b[0;34m:\u001b[0m\u001b[0;34m\u001b[0m\u001b[0;34m\u001b[0m\u001b[0m\n\u001b[0;32m----> 5\u001b[0;31m     \u001b[0mk\u001b[0m \u001b[0;34m=\u001b[0m \u001b[0mG\u001b[0m\u001b[0;34m(\u001b[0m\u001b[0mn\u001b[0m\u001b[0;34m-\u001b[0m\u001b[0;36m1\u001b[0m\u001b[0;34m)\u001b[0m\u001b[0;34m\u001b[0m\u001b[0;34m\u001b[0m\u001b[0m\n\u001b[0m\u001b[1;32m      6\u001b[0m     \u001b[0;32mreturn\u001b[0m \u001b[0mF\u001b[0m\u001b[0;34m(\u001b[0m\u001b[0mn\u001b[0m\u001b[0;34m-\u001b[0m\u001b[0;36m1\u001b[0m\u001b[0;34m)\u001b[0m \u001b[0;34m-\u001b[0m \u001b[0;36m2\u001b[0m \u001b[0;34m*\u001b[0m \u001b[0mk\u001b[0m\u001b[0;34m\u001b[0m\u001b[0;34m\u001b[0m\u001b[0m\n\u001b[1;32m      7\u001b[0m \u001b[0;34m\u001b[0m\u001b[0m\n",
            "\u001b[0;32m<ipython-input-7-31a8ae2ecc86>\u001b[0m in \u001b[0;36mG\u001b[0;34m(n)\u001b[0m\n\u001b[1;32m      8\u001b[0m \u001b[0;32mdef\u001b[0m \u001b[0mG\u001b[0m\u001b[0;34m(\u001b[0m\u001b[0mn\u001b[0m\u001b[0;34m)\u001b[0m\u001b[0;34m:\u001b[0m\u001b[0;34m\u001b[0m\u001b[0;34m\u001b[0m\u001b[0m\n\u001b[1;32m      9\u001b[0m   \u001b[0;32mif\u001b[0m \u001b[0mn\u001b[0m \u001b[0;34m>\u001b[0m \u001b[0;36m1\u001b[0m\u001b[0;34m:\u001b[0m\u001b[0;34m\u001b[0m\u001b[0;34m\u001b[0m\u001b[0m\n\u001b[0;32m---> 10\u001b[0;31m     \u001b[0;32mreturn\u001b[0m \u001b[0mF\u001b[0m\u001b[0;34m(\u001b[0m\u001b[0mn\u001b[0m\u001b[0;34m-\u001b[0m\u001b[0;36m1\u001b[0m\u001b[0;34m)\u001b[0m \u001b[0;34m+\u001b[0m \u001b[0mG\u001b[0m\u001b[0;34m(\u001b[0m\u001b[0mn\u001b[0m\u001b[0;34m-\u001b[0m\u001b[0;36m1\u001b[0m\u001b[0;34m)\u001b[0m \u001b[0;34m+\u001b[0m \u001b[0mn\u001b[0m\u001b[0;34m\u001b[0m\u001b[0;34m\u001b[0m\u001b[0m\n\u001b[0m\u001b[1;32m     11\u001b[0m \u001b[0;34m\u001b[0m\u001b[0m\n\u001b[1;32m     12\u001b[0m \u001b[0mprint\u001b[0m\u001b[0;34m(\u001b[0m\u001b[0mG\u001b[0m\u001b[0;34m(\u001b[0m\u001b[0;36m36\u001b[0m\u001b[0;34m)\u001b[0m\u001b[0;34m)\u001b[0m\u001b[0;34m\u001b[0m\u001b[0;34m\u001b[0m\u001b[0m\n",
            "\u001b[0;32m<ipython-input-7-31a8ae2ecc86>\u001b[0m in \u001b[0;36mF\u001b[0;34m(n)\u001b[0m\n\u001b[1;32m      3\u001b[0m     \u001b[0;32mreturn\u001b[0m \u001b[0mG\u001b[0m\u001b[0;34m(\u001b[0m\u001b[0mn\u001b[0m\u001b[0;34m)\u001b[0m\u001b[0;34m\u001b[0m\u001b[0;34m\u001b[0m\u001b[0m\n\u001b[1;32m      4\u001b[0m   \u001b[0;32melif\u001b[0m \u001b[0mn\u001b[0m \u001b[0;34m>\u001b[0m \u001b[0;36m1\u001b[0m\u001b[0;34m:\u001b[0m\u001b[0;34m\u001b[0m\u001b[0;34m\u001b[0m\u001b[0m\n\u001b[0;32m----> 5\u001b[0;31m     \u001b[0mk\u001b[0m \u001b[0;34m=\u001b[0m \u001b[0mG\u001b[0m\u001b[0;34m(\u001b[0m\u001b[0mn\u001b[0m\u001b[0;34m-\u001b[0m\u001b[0;36m1\u001b[0m\u001b[0;34m)\u001b[0m\u001b[0;34m\u001b[0m\u001b[0;34m\u001b[0m\u001b[0m\n\u001b[0m\u001b[1;32m      6\u001b[0m     \u001b[0;32mreturn\u001b[0m \u001b[0mF\u001b[0m\u001b[0;34m(\u001b[0m\u001b[0mn\u001b[0m\u001b[0;34m-\u001b[0m\u001b[0;36m1\u001b[0m\u001b[0;34m)\u001b[0m \u001b[0;34m-\u001b[0m \u001b[0;36m2\u001b[0m \u001b[0;34m*\u001b[0m \u001b[0mk\u001b[0m\u001b[0;34m\u001b[0m\u001b[0;34m\u001b[0m\u001b[0m\n\u001b[1;32m      7\u001b[0m \u001b[0;34m\u001b[0m\u001b[0m\n",
            "\u001b[0;32m<ipython-input-7-31a8ae2ecc86>\u001b[0m in \u001b[0;36mG\u001b[0;34m(n)\u001b[0m\n\u001b[1;32m      8\u001b[0m \u001b[0;32mdef\u001b[0m \u001b[0mG\u001b[0m\u001b[0;34m(\u001b[0m\u001b[0mn\u001b[0m\u001b[0;34m)\u001b[0m\u001b[0;34m:\u001b[0m\u001b[0;34m\u001b[0m\u001b[0;34m\u001b[0m\u001b[0m\n\u001b[1;32m      9\u001b[0m   \u001b[0;32mif\u001b[0m \u001b[0mn\u001b[0m \u001b[0;34m>\u001b[0m \u001b[0;36m1\u001b[0m\u001b[0;34m:\u001b[0m\u001b[0;34m\u001b[0m\u001b[0;34m\u001b[0m\u001b[0m\n\u001b[0;32m---> 10\u001b[0;31m     \u001b[0;32mreturn\u001b[0m \u001b[0mF\u001b[0m\u001b[0;34m(\u001b[0m\u001b[0mn\u001b[0m\u001b[0;34m-\u001b[0m\u001b[0;36m1\u001b[0m\u001b[0;34m)\u001b[0m \u001b[0;34m+\u001b[0m \u001b[0mG\u001b[0m\u001b[0;34m(\u001b[0m\u001b[0mn\u001b[0m\u001b[0;34m-\u001b[0m\u001b[0;36m1\u001b[0m\u001b[0;34m)\u001b[0m \u001b[0;34m+\u001b[0m \u001b[0mn\u001b[0m\u001b[0;34m\u001b[0m\u001b[0;34m\u001b[0m\u001b[0m\n\u001b[0m\u001b[1;32m     11\u001b[0m \u001b[0;34m\u001b[0m\u001b[0m\n\u001b[1;32m     12\u001b[0m \u001b[0mprint\u001b[0m\u001b[0;34m(\u001b[0m\u001b[0mG\u001b[0m\u001b[0;34m(\u001b[0m\u001b[0;36m36\u001b[0m\u001b[0;34m)\u001b[0m\u001b[0;34m)\u001b[0m\u001b[0;34m\u001b[0m\u001b[0;34m\u001b[0m\u001b[0m\n",
            "\u001b[0;32m<ipython-input-7-31a8ae2ecc86>\u001b[0m in \u001b[0;36mF\u001b[0;34m(n)\u001b[0m\n\u001b[1;32m      3\u001b[0m     \u001b[0;32mreturn\u001b[0m \u001b[0mG\u001b[0m\u001b[0;34m(\u001b[0m\u001b[0mn\u001b[0m\u001b[0;34m)\u001b[0m\u001b[0;34m\u001b[0m\u001b[0;34m\u001b[0m\u001b[0m\n\u001b[1;32m      4\u001b[0m   \u001b[0;32melif\u001b[0m \u001b[0mn\u001b[0m \u001b[0;34m>\u001b[0m \u001b[0;36m1\u001b[0m\u001b[0;34m:\u001b[0m\u001b[0;34m\u001b[0m\u001b[0;34m\u001b[0m\u001b[0m\n\u001b[0;32m----> 5\u001b[0;31m     \u001b[0mk\u001b[0m \u001b[0;34m=\u001b[0m \u001b[0mG\u001b[0m\u001b[0;34m(\u001b[0m\u001b[0mn\u001b[0m\u001b[0;34m-\u001b[0m\u001b[0;36m1\u001b[0m\u001b[0;34m)\u001b[0m\u001b[0;34m\u001b[0m\u001b[0;34m\u001b[0m\u001b[0m\n\u001b[0m\u001b[1;32m      6\u001b[0m     \u001b[0;32mreturn\u001b[0m \u001b[0mF\u001b[0m\u001b[0;34m(\u001b[0m\u001b[0mn\u001b[0m\u001b[0;34m-\u001b[0m\u001b[0;36m1\u001b[0m\u001b[0;34m)\u001b[0m \u001b[0;34m-\u001b[0m \u001b[0;36m2\u001b[0m \u001b[0;34m*\u001b[0m \u001b[0mk\u001b[0m\u001b[0;34m\u001b[0m\u001b[0;34m\u001b[0m\u001b[0m\n\u001b[1;32m      7\u001b[0m \u001b[0;34m\u001b[0m\u001b[0m\n",
            "\u001b[0;32m<ipython-input-7-31a8ae2ecc86>\u001b[0m in \u001b[0;36mG\u001b[0;34m(n)\u001b[0m\n\u001b[1;32m      8\u001b[0m \u001b[0;32mdef\u001b[0m \u001b[0mG\u001b[0m\u001b[0;34m(\u001b[0m\u001b[0mn\u001b[0m\u001b[0;34m)\u001b[0m\u001b[0;34m:\u001b[0m\u001b[0;34m\u001b[0m\u001b[0;34m\u001b[0m\u001b[0m\n\u001b[1;32m      9\u001b[0m   \u001b[0;32mif\u001b[0m \u001b[0mn\u001b[0m \u001b[0;34m>\u001b[0m \u001b[0;36m1\u001b[0m\u001b[0;34m:\u001b[0m\u001b[0;34m\u001b[0m\u001b[0;34m\u001b[0m\u001b[0m\n\u001b[0;32m---> 10\u001b[0;31m     \u001b[0;32mreturn\u001b[0m \u001b[0mF\u001b[0m\u001b[0;34m(\u001b[0m\u001b[0mn\u001b[0m\u001b[0;34m-\u001b[0m\u001b[0;36m1\u001b[0m\u001b[0;34m)\u001b[0m \u001b[0;34m+\u001b[0m \u001b[0mG\u001b[0m\u001b[0;34m(\u001b[0m\u001b[0mn\u001b[0m\u001b[0;34m-\u001b[0m\u001b[0;36m1\u001b[0m\u001b[0;34m)\u001b[0m \u001b[0;34m+\u001b[0m \u001b[0mn\u001b[0m\u001b[0;34m\u001b[0m\u001b[0;34m\u001b[0m\u001b[0m\n\u001b[0m\u001b[1;32m     11\u001b[0m \u001b[0;34m\u001b[0m\u001b[0m\n\u001b[1;32m     12\u001b[0m \u001b[0mprint\u001b[0m\u001b[0;34m(\u001b[0m\u001b[0mG\u001b[0m\u001b[0;34m(\u001b[0m\u001b[0;36m36\u001b[0m\u001b[0;34m)\u001b[0m\u001b[0;34m)\u001b[0m\u001b[0;34m\u001b[0m\u001b[0;34m\u001b[0m\u001b[0m\n",
            "\u001b[0;32m<ipython-input-7-31a8ae2ecc86>\u001b[0m in \u001b[0;36mF\u001b[0;34m(n)\u001b[0m\n\u001b[1;32m      3\u001b[0m     \u001b[0;32mreturn\u001b[0m \u001b[0mG\u001b[0m\u001b[0;34m(\u001b[0m\u001b[0mn\u001b[0m\u001b[0;34m)\u001b[0m\u001b[0;34m\u001b[0m\u001b[0;34m\u001b[0m\u001b[0m\n\u001b[1;32m      4\u001b[0m   \u001b[0;32melif\u001b[0m \u001b[0mn\u001b[0m \u001b[0;34m>\u001b[0m \u001b[0;36m1\u001b[0m\u001b[0;34m:\u001b[0m\u001b[0;34m\u001b[0m\u001b[0;34m\u001b[0m\u001b[0m\n\u001b[0;32m----> 5\u001b[0;31m     \u001b[0mk\u001b[0m \u001b[0;34m=\u001b[0m \u001b[0mG\u001b[0m\u001b[0;34m(\u001b[0m\u001b[0mn\u001b[0m\u001b[0;34m-\u001b[0m\u001b[0;36m1\u001b[0m\u001b[0;34m)\u001b[0m\u001b[0;34m\u001b[0m\u001b[0;34m\u001b[0m\u001b[0m\n\u001b[0m\u001b[1;32m      6\u001b[0m     \u001b[0;32mreturn\u001b[0m \u001b[0mF\u001b[0m\u001b[0;34m(\u001b[0m\u001b[0mn\u001b[0m\u001b[0;34m-\u001b[0m\u001b[0;36m1\u001b[0m\u001b[0;34m)\u001b[0m \u001b[0;34m-\u001b[0m \u001b[0;36m2\u001b[0m \u001b[0;34m*\u001b[0m \u001b[0mk\u001b[0m\u001b[0;34m\u001b[0m\u001b[0;34m\u001b[0m\u001b[0m\n\u001b[1;32m      7\u001b[0m \u001b[0;34m\u001b[0m\u001b[0m\n",
            "\u001b[0;32m<ipython-input-7-31a8ae2ecc86>\u001b[0m in \u001b[0;36mG\u001b[0;34m(n)\u001b[0m\n\u001b[1;32m      8\u001b[0m \u001b[0;32mdef\u001b[0m \u001b[0mG\u001b[0m\u001b[0;34m(\u001b[0m\u001b[0mn\u001b[0m\u001b[0;34m)\u001b[0m\u001b[0;34m:\u001b[0m\u001b[0;34m\u001b[0m\u001b[0;34m\u001b[0m\u001b[0m\n\u001b[1;32m      9\u001b[0m   \u001b[0;32mif\u001b[0m \u001b[0mn\u001b[0m \u001b[0;34m>\u001b[0m \u001b[0;36m1\u001b[0m\u001b[0;34m:\u001b[0m\u001b[0;34m\u001b[0m\u001b[0;34m\u001b[0m\u001b[0m\n\u001b[0;32m---> 10\u001b[0;31m     \u001b[0;32mreturn\u001b[0m \u001b[0mF\u001b[0m\u001b[0;34m(\u001b[0m\u001b[0mn\u001b[0m\u001b[0;34m-\u001b[0m\u001b[0;36m1\u001b[0m\u001b[0;34m)\u001b[0m \u001b[0;34m+\u001b[0m \u001b[0mG\u001b[0m\u001b[0;34m(\u001b[0m\u001b[0mn\u001b[0m\u001b[0;34m-\u001b[0m\u001b[0;36m1\u001b[0m\u001b[0;34m)\u001b[0m \u001b[0;34m+\u001b[0m \u001b[0mn\u001b[0m\u001b[0;34m\u001b[0m\u001b[0;34m\u001b[0m\u001b[0m\n\u001b[0m\u001b[1;32m     11\u001b[0m \u001b[0;34m\u001b[0m\u001b[0m\n\u001b[1;32m     12\u001b[0m \u001b[0mprint\u001b[0m\u001b[0;34m(\u001b[0m\u001b[0mG\u001b[0m\u001b[0;34m(\u001b[0m\u001b[0;36m36\u001b[0m\u001b[0;34m)\u001b[0m\u001b[0;34m)\u001b[0m\u001b[0;34m\u001b[0m\u001b[0;34m\u001b[0m\u001b[0m\n",
            "\u001b[0;32m<ipython-input-7-31a8ae2ecc86>\u001b[0m in \u001b[0;36mF\u001b[0;34m(n)\u001b[0m\n\u001b[1;32m      3\u001b[0m     \u001b[0;32mreturn\u001b[0m \u001b[0mG\u001b[0m\u001b[0;34m(\u001b[0m\u001b[0mn\u001b[0m\u001b[0;34m)\u001b[0m\u001b[0;34m\u001b[0m\u001b[0;34m\u001b[0m\u001b[0m\n\u001b[1;32m      4\u001b[0m   \u001b[0;32melif\u001b[0m \u001b[0mn\u001b[0m \u001b[0;34m>\u001b[0m \u001b[0;36m1\u001b[0m\u001b[0;34m:\u001b[0m\u001b[0;34m\u001b[0m\u001b[0;34m\u001b[0m\u001b[0m\n\u001b[0;32m----> 5\u001b[0;31m     \u001b[0mk\u001b[0m \u001b[0;34m=\u001b[0m \u001b[0mG\u001b[0m\u001b[0;34m(\u001b[0m\u001b[0mn\u001b[0m\u001b[0;34m-\u001b[0m\u001b[0;36m1\u001b[0m\u001b[0;34m)\u001b[0m\u001b[0;34m\u001b[0m\u001b[0;34m\u001b[0m\u001b[0m\n\u001b[0m\u001b[1;32m      6\u001b[0m     \u001b[0;32mreturn\u001b[0m \u001b[0mF\u001b[0m\u001b[0;34m(\u001b[0m\u001b[0mn\u001b[0m\u001b[0;34m-\u001b[0m\u001b[0;36m1\u001b[0m\u001b[0;34m)\u001b[0m \u001b[0;34m-\u001b[0m \u001b[0;36m2\u001b[0m \u001b[0;34m*\u001b[0m \u001b[0mk\u001b[0m\u001b[0;34m\u001b[0m\u001b[0;34m\u001b[0m\u001b[0m\n\u001b[1;32m      7\u001b[0m \u001b[0;34m\u001b[0m\u001b[0m\n",
            "\u001b[0;32m<ipython-input-7-31a8ae2ecc86>\u001b[0m in \u001b[0;36mG\u001b[0;34m(n)\u001b[0m\n\u001b[1;32m      8\u001b[0m \u001b[0;32mdef\u001b[0m \u001b[0mG\u001b[0m\u001b[0;34m(\u001b[0m\u001b[0mn\u001b[0m\u001b[0;34m)\u001b[0m\u001b[0;34m:\u001b[0m\u001b[0;34m\u001b[0m\u001b[0;34m\u001b[0m\u001b[0m\n\u001b[1;32m      9\u001b[0m   \u001b[0;32mif\u001b[0m \u001b[0mn\u001b[0m \u001b[0;34m>\u001b[0m \u001b[0;36m1\u001b[0m\u001b[0;34m:\u001b[0m\u001b[0;34m\u001b[0m\u001b[0;34m\u001b[0m\u001b[0m\n\u001b[0;32m---> 10\u001b[0;31m     \u001b[0;32mreturn\u001b[0m \u001b[0mF\u001b[0m\u001b[0;34m(\u001b[0m\u001b[0mn\u001b[0m\u001b[0;34m-\u001b[0m\u001b[0;36m1\u001b[0m\u001b[0;34m)\u001b[0m \u001b[0;34m+\u001b[0m \u001b[0mG\u001b[0m\u001b[0;34m(\u001b[0m\u001b[0mn\u001b[0m\u001b[0;34m-\u001b[0m\u001b[0;36m1\u001b[0m\u001b[0;34m)\u001b[0m \u001b[0;34m+\u001b[0m \u001b[0mn\u001b[0m\u001b[0;34m\u001b[0m\u001b[0;34m\u001b[0m\u001b[0m\n\u001b[0m\u001b[1;32m     11\u001b[0m \u001b[0;34m\u001b[0m\u001b[0m\n\u001b[1;32m     12\u001b[0m \u001b[0mprint\u001b[0m\u001b[0;34m(\u001b[0m\u001b[0mG\u001b[0m\u001b[0;34m(\u001b[0m\u001b[0;36m36\u001b[0m\u001b[0;34m)\u001b[0m\u001b[0;34m)\u001b[0m\u001b[0;34m\u001b[0m\u001b[0;34m\u001b[0m\u001b[0m\n",
            "\u001b[0;32m<ipython-input-7-31a8ae2ecc86>\u001b[0m in \u001b[0;36mF\u001b[0;34m(n)\u001b[0m\n\u001b[1;32m      3\u001b[0m     \u001b[0;32mreturn\u001b[0m \u001b[0mG\u001b[0m\u001b[0;34m(\u001b[0m\u001b[0mn\u001b[0m\u001b[0;34m)\u001b[0m\u001b[0;34m\u001b[0m\u001b[0;34m\u001b[0m\u001b[0m\n\u001b[1;32m      4\u001b[0m   \u001b[0;32melif\u001b[0m \u001b[0mn\u001b[0m \u001b[0;34m>\u001b[0m \u001b[0;36m1\u001b[0m\u001b[0;34m:\u001b[0m\u001b[0;34m\u001b[0m\u001b[0;34m\u001b[0m\u001b[0m\n\u001b[0;32m----> 5\u001b[0;31m     \u001b[0mk\u001b[0m \u001b[0;34m=\u001b[0m \u001b[0mG\u001b[0m\u001b[0;34m(\u001b[0m\u001b[0mn\u001b[0m\u001b[0;34m-\u001b[0m\u001b[0;36m1\u001b[0m\u001b[0;34m)\u001b[0m\u001b[0;34m\u001b[0m\u001b[0;34m\u001b[0m\u001b[0m\n\u001b[0m\u001b[1;32m      6\u001b[0m     \u001b[0;32mreturn\u001b[0m \u001b[0mF\u001b[0m\u001b[0;34m(\u001b[0m\u001b[0mn\u001b[0m\u001b[0;34m-\u001b[0m\u001b[0;36m1\u001b[0m\u001b[0;34m)\u001b[0m \u001b[0;34m-\u001b[0m \u001b[0;36m2\u001b[0m \u001b[0;34m*\u001b[0m \u001b[0mk\u001b[0m\u001b[0;34m\u001b[0m\u001b[0;34m\u001b[0m\u001b[0m\n\u001b[1;32m      7\u001b[0m \u001b[0;34m\u001b[0m\u001b[0m\n",
            "\u001b[0;32m<ipython-input-7-31a8ae2ecc86>\u001b[0m in \u001b[0;36mG\u001b[0;34m(n)\u001b[0m\n\u001b[1;32m      8\u001b[0m \u001b[0;32mdef\u001b[0m \u001b[0mG\u001b[0m\u001b[0;34m(\u001b[0m\u001b[0mn\u001b[0m\u001b[0;34m)\u001b[0m\u001b[0;34m:\u001b[0m\u001b[0;34m\u001b[0m\u001b[0;34m\u001b[0m\u001b[0m\n\u001b[1;32m      9\u001b[0m   \u001b[0;32mif\u001b[0m \u001b[0mn\u001b[0m \u001b[0;34m>\u001b[0m \u001b[0;36m1\u001b[0m\u001b[0;34m:\u001b[0m\u001b[0;34m\u001b[0m\u001b[0;34m\u001b[0m\u001b[0m\n\u001b[0;32m---> 10\u001b[0;31m     \u001b[0;32mreturn\u001b[0m \u001b[0mF\u001b[0m\u001b[0;34m(\u001b[0m\u001b[0mn\u001b[0m\u001b[0;34m-\u001b[0m\u001b[0;36m1\u001b[0m\u001b[0;34m)\u001b[0m \u001b[0;34m+\u001b[0m \u001b[0mG\u001b[0m\u001b[0;34m(\u001b[0m\u001b[0mn\u001b[0m\u001b[0;34m-\u001b[0m\u001b[0;36m1\u001b[0m\u001b[0;34m)\u001b[0m \u001b[0;34m+\u001b[0m \u001b[0mn\u001b[0m\u001b[0;34m\u001b[0m\u001b[0;34m\u001b[0m\u001b[0m\n\u001b[0m\u001b[1;32m     11\u001b[0m \u001b[0;34m\u001b[0m\u001b[0m\n\u001b[1;32m     12\u001b[0m \u001b[0mprint\u001b[0m\u001b[0;34m(\u001b[0m\u001b[0mG\u001b[0m\u001b[0;34m(\u001b[0m\u001b[0;36m36\u001b[0m\u001b[0;34m)\u001b[0m\u001b[0;34m)\u001b[0m\u001b[0;34m\u001b[0m\u001b[0;34m\u001b[0m\u001b[0m\n",
            "\u001b[0;32m<ipython-input-7-31a8ae2ecc86>\u001b[0m in \u001b[0;36mF\u001b[0;34m(n)\u001b[0m\n\u001b[1;32m      3\u001b[0m     \u001b[0;32mreturn\u001b[0m \u001b[0mG\u001b[0m\u001b[0;34m(\u001b[0m\u001b[0mn\u001b[0m\u001b[0;34m)\u001b[0m\u001b[0;34m\u001b[0m\u001b[0;34m\u001b[0m\u001b[0m\n\u001b[1;32m      4\u001b[0m   \u001b[0;32melif\u001b[0m \u001b[0mn\u001b[0m \u001b[0;34m>\u001b[0m \u001b[0;36m1\u001b[0m\u001b[0;34m:\u001b[0m\u001b[0;34m\u001b[0m\u001b[0;34m\u001b[0m\u001b[0m\n\u001b[0;32m----> 5\u001b[0;31m     \u001b[0mk\u001b[0m \u001b[0;34m=\u001b[0m \u001b[0mG\u001b[0m\u001b[0;34m(\u001b[0m\u001b[0mn\u001b[0m\u001b[0;34m-\u001b[0m\u001b[0;36m1\u001b[0m\u001b[0;34m)\u001b[0m\u001b[0;34m\u001b[0m\u001b[0;34m\u001b[0m\u001b[0m\n\u001b[0m\u001b[1;32m      6\u001b[0m     \u001b[0;32mreturn\u001b[0m \u001b[0mF\u001b[0m\u001b[0;34m(\u001b[0m\u001b[0mn\u001b[0m\u001b[0;34m-\u001b[0m\u001b[0;36m1\u001b[0m\u001b[0;34m)\u001b[0m \u001b[0;34m-\u001b[0m \u001b[0;36m2\u001b[0m \u001b[0;34m*\u001b[0m \u001b[0mk\u001b[0m\u001b[0;34m\u001b[0m\u001b[0;34m\u001b[0m\u001b[0m\n\u001b[1;32m      7\u001b[0m \u001b[0;34m\u001b[0m\u001b[0m\n",
            "\u001b[0;32m<ipython-input-7-31a8ae2ecc86>\u001b[0m in \u001b[0;36mG\u001b[0;34m(n)\u001b[0m\n\u001b[1;32m      8\u001b[0m \u001b[0;32mdef\u001b[0m \u001b[0mG\u001b[0m\u001b[0;34m(\u001b[0m\u001b[0mn\u001b[0m\u001b[0;34m)\u001b[0m\u001b[0;34m:\u001b[0m\u001b[0;34m\u001b[0m\u001b[0;34m\u001b[0m\u001b[0m\n\u001b[1;32m      9\u001b[0m   \u001b[0;32mif\u001b[0m \u001b[0mn\u001b[0m \u001b[0;34m>\u001b[0m \u001b[0;36m1\u001b[0m\u001b[0;34m:\u001b[0m\u001b[0;34m\u001b[0m\u001b[0;34m\u001b[0m\u001b[0m\n\u001b[0;32m---> 10\u001b[0;31m     \u001b[0;32mreturn\u001b[0m \u001b[0mF\u001b[0m\u001b[0;34m(\u001b[0m\u001b[0mn\u001b[0m\u001b[0;34m-\u001b[0m\u001b[0;36m1\u001b[0m\u001b[0;34m)\u001b[0m \u001b[0;34m+\u001b[0m \u001b[0mG\u001b[0m\u001b[0;34m(\u001b[0m\u001b[0mn\u001b[0m\u001b[0;34m-\u001b[0m\u001b[0;36m1\u001b[0m\u001b[0;34m)\u001b[0m \u001b[0;34m+\u001b[0m \u001b[0mn\u001b[0m\u001b[0;34m\u001b[0m\u001b[0;34m\u001b[0m\u001b[0m\n\u001b[0m\u001b[1;32m     11\u001b[0m \u001b[0;34m\u001b[0m\u001b[0m\n\u001b[1;32m     12\u001b[0m \u001b[0mprint\u001b[0m\u001b[0;34m(\u001b[0m\u001b[0mG\u001b[0m\u001b[0;34m(\u001b[0m\u001b[0;36m36\u001b[0m\u001b[0;34m)\u001b[0m\u001b[0;34m)\u001b[0m\u001b[0;34m\u001b[0m\u001b[0;34m\u001b[0m\u001b[0m\n",
            "\u001b[0;32m<ipython-input-7-31a8ae2ecc86>\u001b[0m in \u001b[0;36mF\u001b[0;34m(n)\u001b[0m\n\u001b[1;32m      3\u001b[0m     \u001b[0;32mreturn\u001b[0m \u001b[0mG\u001b[0m\u001b[0;34m(\u001b[0m\u001b[0mn\u001b[0m\u001b[0;34m)\u001b[0m\u001b[0;34m\u001b[0m\u001b[0;34m\u001b[0m\u001b[0m\n\u001b[1;32m      4\u001b[0m   \u001b[0;32melif\u001b[0m \u001b[0mn\u001b[0m \u001b[0;34m>\u001b[0m \u001b[0;36m1\u001b[0m\u001b[0;34m:\u001b[0m\u001b[0;34m\u001b[0m\u001b[0;34m\u001b[0m\u001b[0m\n\u001b[0;32m----> 5\u001b[0;31m     \u001b[0mk\u001b[0m \u001b[0;34m=\u001b[0m \u001b[0mG\u001b[0m\u001b[0;34m(\u001b[0m\u001b[0mn\u001b[0m\u001b[0;34m-\u001b[0m\u001b[0;36m1\u001b[0m\u001b[0;34m)\u001b[0m\u001b[0;34m\u001b[0m\u001b[0;34m\u001b[0m\u001b[0m\n\u001b[0m\u001b[1;32m      6\u001b[0m     \u001b[0;32mreturn\u001b[0m \u001b[0mF\u001b[0m\u001b[0;34m(\u001b[0m\u001b[0mn\u001b[0m\u001b[0;34m-\u001b[0m\u001b[0;36m1\u001b[0m\u001b[0;34m)\u001b[0m \u001b[0;34m-\u001b[0m \u001b[0;36m2\u001b[0m \u001b[0;34m*\u001b[0m \u001b[0mk\u001b[0m\u001b[0;34m\u001b[0m\u001b[0;34m\u001b[0m\u001b[0m\n\u001b[1;32m      7\u001b[0m \u001b[0;34m\u001b[0m\u001b[0m\n",
            "\u001b[0;32m<ipython-input-7-31a8ae2ecc86>\u001b[0m in \u001b[0;36mG\u001b[0;34m(n)\u001b[0m\n\u001b[1;32m      8\u001b[0m \u001b[0;32mdef\u001b[0m \u001b[0mG\u001b[0m\u001b[0;34m(\u001b[0m\u001b[0mn\u001b[0m\u001b[0;34m)\u001b[0m\u001b[0;34m:\u001b[0m\u001b[0;34m\u001b[0m\u001b[0;34m\u001b[0m\u001b[0m\n\u001b[1;32m      9\u001b[0m   \u001b[0;32mif\u001b[0m \u001b[0mn\u001b[0m \u001b[0;34m>\u001b[0m \u001b[0;36m1\u001b[0m\u001b[0;34m:\u001b[0m\u001b[0;34m\u001b[0m\u001b[0;34m\u001b[0m\u001b[0m\n\u001b[0;32m---> 10\u001b[0;31m     \u001b[0;32mreturn\u001b[0m \u001b[0mF\u001b[0m\u001b[0;34m(\u001b[0m\u001b[0mn\u001b[0m\u001b[0;34m-\u001b[0m\u001b[0;36m1\u001b[0m\u001b[0;34m)\u001b[0m \u001b[0;34m+\u001b[0m \u001b[0mG\u001b[0m\u001b[0;34m(\u001b[0m\u001b[0mn\u001b[0m\u001b[0;34m-\u001b[0m\u001b[0;36m1\u001b[0m\u001b[0;34m)\u001b[0m \u001b[0;34m+\u001b[0m \u001b[0mn\u001b[0m\u001b[0;34m\u001b[0m\u001b[0;34m\u001b[0m\u001b[0m\n\u001b[0m\u001b[1;32m     11\u001b[0m \u001b[0;34m\u001b[0m\u001b[0m\n\u001b[1;32m     12\u001b[0m \u001b[0mprint\u001b[0m\u001b[0;34m(\u001b[0m\u001b[0mG\u001b[0m\u001b[0;34m(\u001b[0m\u001b[0;36m36\u001b[0m\u001b[0;34m)\u001b[0m\u001b[0;34m)\u001b[0m\u001b[0;34m\u001b[0m\u001b[0;34m\u001b[0m\u001b[0m\n",
            "\u001b[0;32m<ipython-input-7-31a8ae2ecc86>\u001b[0m in \u001b[0;36mF\u001b[0;34m(n)\u001b[0m\n\u001b[1;32m      3\u001b[0m     \u001b[0;32mreturn\u001b[0m \u001b[0mG\u001b[0m\u001b[0;34m(\u001b[0m\u001b[0mn\u001b[0m\u001b[0;34m)\u001b[0m\u001b[0;34m\u001b[0m\u001b[0;34m\u001b[0m\u001b[0m\n\u001b[1;32m      4\u001b[0m   \u001b[0;32melif\u001b[0m \u001b[0mn\u001b[0m \u001b[0;34m>\u001b[0m \u001b[0;36m1\u001b[0m\u001b[0;34m:\u001b[0m\u001b[0;34m\u001b[0m\u001b[0;34m\u001b[0m\u001b[0m\n\u001b[0;32m----> 5\u001b[0;31m     \u001b[0mk\u001b[0m \u001b[0;34m=\u001b[0m \u001b[0mG\u001b[0m\u001b[0;34m(\u001b[0m\u001b[0mn\u001b[0m\u001b[0;34m-\u001b[0m\u001b[0;36m1\u001b[0m\u001b[0;34m)\u001b[0m\u001b[0;34m\u001b[0m\u001b[0;34m\u001b[0m\u001b[0m\n\u001b[0m\u001b[1;32m      6\u001b[0m     \u001b[0;32mreturn\u001b[0m \u001b[0mF\u001b[0m\u001b[0;34m(\u001b[0m\u001b[0mn\u001b[0m\u001b[0;34m-\u001b[0m\u001b[0;36m1\u001b[0m\u001b[0;34m)\u001b[0m \u001b[0;34m-\u001b[0m \u001b[0;36m2\u001b[0m \u001b[0;34m*\u001b[0m \u001b[0mk\u001b[0m\u001b[0;34m\u001b[0m\u001b[0;34m\u001b[0m\u001b[0m\n\u001b[1;32m      7\u001b[0m \u001b[0;34m\u001b[0m\u001b[0m\n",
            "\u001b[0;32m<ipython-input-7-31a8ae2ecc86>\u001b[0m in \u001b[0;36mG\u001b[0;34m(n)\u001b[0m\n\u001b[1;32m      8\u001b[0m \u001b[0;32mdef\u001b[0m \u001b[0mG\u001b[0m\u001b[0;34m(\u001b[0m\u001b[0mn\u001b[0m\u001b[0;34m)\u001b[0m\u001b[0;34m:\u001b[0m\u001b[0;34m\u001b[0m\u001b[0;34m\u001b[0m\u001b[0m\n\u001b[1;32m      9\u001b[0m   \u001b[0;32mif\u001b[0m \u001b[0mn\u001b[0m \u001b[0;34m>\u001b[0m \u001b[0;36m1\u001b[0m\u001b[0;34m:\u001b[0m\u001b[0;34m\u001b[0m\u001b[0;34m\u001b[0m\u001b[0m\n\u001b[0;32m---> 10\u001b[0;31m     \u001b[0;32mreturn\u001b[0m \u001b[0mF\u001b[0m\u001b[0;34m(\u001b[0m\u001b[0mn\u001b[0m\u001b[0;34m-\u001b[0m\u001b[0;36m1\u001b[0m\u001b[0;34m)\u001b[0m \u001b[0;34m+\u001b[0m \u001b[0mG\u001b[0m\u001b[0;34m(\u001b[0m\u001b[0mn\u001b[0m\u001b[0;34m-\u001b[0m\u001b[0;36m1\u001b[0m\u001b[0;34m)\u001b[0m \u001b[0;34m+\u001b[0m \u001b[0mn\u001b[0m\u001b[0;34m\u001b[0m\u001b[0;34m\u001b[0m\u001b[0m\n\u001b[0m\u001b[1;32m     11\u001b[0m \u001b[0;34m\u001b[0m\u001b[0m\n\u001b[1;32m     12\u001b[0m \u001b[0mprint\u001b[0m\u001b[0;34m(\u001b[0m\u001b[0mG\u001b[0m\u001b[0;34m(\u001b[0m\u001b[0;36m36\u001b[0m\u001b[0;34m)\u001b[0m\u001b[0;34m)\u001b[0m\u001b[0;34m\u001b[0m\u001b[0;34m\u001b[0m\u001b[0m\n",
            "\u001b[0;32m<ipython-input-7-31a8ae2ecc86>\u001b[0m in \u001b[0;36mF\u001b[0;34m(n)\u001b[0m\n\u001b[1;32m      3\u001b[0m     \u001b[0;32mreturn\u001b[0m \u001b[0mG\u001b[0m\u001b[0;34m(\u001b[0m\u001b[0mn\u001b[0m\u001b[0;34m)\u001b[0m\u001b[0;34m\u001b[0m\u001b[0;34m\u001b[0m\u001b[0m\n\u001b[1;32m      4\u001b[0m   \u001b[0;32melif\u001b[0m \u001b[0mn\u001b[0m \u001b[0;34m>\u001b[0m \u001b[0;36m1\u001b[0m\u001b[0;34m:\u001b[0m\u001b[0;34m\u001b[0m\u001b[0;34m\u001b[0m\u001b[0m\n\u001b[0;32m----> 5\u001b[0;31m     \u001b[0mk\u001b[0m \u001b[0;34m=\u001b[0m \u001b[0mG\u001b[0m\u001b[0;34m(\u001b[0m\u001b[0mn\u001b[0m\u001b[0;34m-\u001b[0m\u001b[0;36m1\u001b[0m\u001b[0;34m)\u001b[0m\u001b[0;34m\u001b[0m\u001b[0;34m\u001b[0m\u001b[0m\n\u001b[0m\u001b[1;32m      6\u001b[0m     \u001b[0;32mreturn\u001b[0m \u001b[0mF\u001b[0m\u001b[0;34m(\u001b[0m\u001b[0mn\u001b[0m\u001b[0;34m-\u001b[0m\u001b[0;36m1\u001b[0m\u001b[0;34m)\u001b[0m \u001b[0;34m-\u001b[0m \u001b[0;36m2\u001b[0m \u001b[0;34m*\u001b[0m \u001b[0mk\u001b[0m\u001b[0;34m\u001b[0m\u001b[0;34m\u001b[0m\u001b[0m\n\u001b[1;32m      7\u001b[0m \u001b[0;34m\u001b[0m\u001b[0m\n",
            "\u001b[0;32m<ipython-input-7-31a8ae2ecc86>\u001b[0m in \u001b[0;36mG\u001b[0;34m(n)\u001b[0m\n\u001b[1;32m      8\u001b[0m \u001b[0;32mdef\u001b[0m \u001b[0mG\u001b[0m\u001b[0;34m(\u001b[0m\u001b[0mn\u001b[0m\u001b[0;34m)\u001b[0m\u001b[0;34m:\u001b[0m\u001b[0;34m\u001b[0m\u001b[0;34m\u001b[0m\u001b[0m\n\u001b[1;32m      9\u001b[0m   \u001b[0;32mif\u001b[0m \u001b[0mn\u001b[0m \u001b[0;34m>\u001b[0m \u001b[0;36m1\u001b[0m\u001b[0;34m:\u001b[0m\u001b[0;34m\u001b[0m\u001b[0;34m\u001b[0m\u001b[0m\n\u001b[0;32m---> 10\u001b[0;31m     \u001b[0;32mreturn\u001b[0m \u001b[0mF\u001b[0m\u001b[0;34m(\u001b[0m\u001b[0mn\u001b[0m\u001b[0;34m-\u001b[0m\u001b[0;36m1\u001b[0m\u001b[0;34m)\u001b[0m \u001b[0;34m+\u001b[0m \u001b[0mG\u001b[0m\u001b[0;34m(\u001b[0m\u001b[0mn\u001b[0m\u001b[0;34m-\u001b[0m\u001b[0;36m1\u001b[0m\u001b[0;34m)\u001b[0m \u001b[0;34m+\u001b[0m \u001b[0mn\u001b[0m\u001b[0;34m\u001b[0m\u001b[0;34m\u001b[0m\u001b[0m\n\u001b[0m\u001b[1;32m     11\u001b[0m \u001b[0;34m\u001b[0m\u001b[0m\n\u001b[1;32m     12\u001b[0m \u001b[0mprint\u001b[0m\u001b[0;34m(\u001b[0m\u001b[0mG\u001b[0m\u001b[0;34m(\u001b[0m\u001b[0;36m36\u001b[0m\u001b[0;34m)\u001b[0m\u001b[0;34m)\u001b[0m\u001b[0;34m\u001b[0m\u001b[0;34m\u001b[0m\u001b[0m\n",
            "\u001b[0;32m<ipython-input-7-31a8ae2ecc86>\u001b[0m in \u001b[0;36mF\u001b[0;34m(n)\u001b[0m\n\u001b[1;32m      3\u001b[0m     \u001b[0;32mreturn\u001b[0m \u001b[0mG\u001b[0m\u001b[0;34m(\u001b[0m\u001b[0mn\u001b[0m\u001b[0;34m)\u001b[0m\u001b[0;34m\u001b[0m\u001b[0;34m\u001b[0m\u001b[0m\n\u001b[1;32m      4\u001b[0m   \u001b[0;32melif\u001b[0m \u001b[0mn\u001b[0m \u001b[0;34m>\u001b[0m \u001b[0;36m1\u001b[0m\u001b[0;34m:\u001b[0m\u001b[0;34m\u001b[0m\u001b[0;34m\u001b[0m\u001b[0m\n\u001b[0;32m----> 5\u001b[0;31m     \u001b[0mk\u001b[0m \u001b[0;34m=\u001b[0m \u001b[0mG\u001b[0m\u001b[0;34m(\u001b[0m\u001b[0mn\u001b[0m\u001b[0;34m-\u001b[0m\u001b[0;36m1\u001b[0m\u001b[0;34m)\u001b[0m\u001b[0;34m\u001b[0m\u001b[0;34m\u001b[0m\u001b[0m\n\u001b[0m\u001b[1;32m      6\u001b[0m     \u001b[0;32mreturn\u001b[0m \u001b[0mF\u001b[0m\u001b[0;34m(\u001b[0m\u001b[0mn\u001b[0m\u001b[0;34m-\u001b[0m\u001b[0;36m1\u001b[0m\u001b[0;34m)\u001b[0m \u001b[0;34m-\u001b[0m \u001b[0;36m2\u001b[0m \u001b[0;34m*\u001b[0m \u001b[0mk\u001b[0m\u001b[0;34m\u001b[0m\u001b[0;34m\u001b[0m\u001b[0m\n\u001b[1;32m      7\u001b[0m \u001b[0;34m\u001b[0m\u001b[0m\n",
            "\u001b[0;32m<ipython-input-7-31a8ae2ecc86>\u001b[0m in \u001b[0;36mG\u001b[0;34m(n)\u001b[0m\n\u001b[1;32m      8\u001b[0m \u001b[0;32mdef\u001b[0m \u001b[0mG\u001b[0m\u001b[0;34m(\u001b[0m\u001b[0mn\u001b[0m\u001b[0;34m)\u001b[0m\u001b[0;34m:\u001b[0m\u001b[0;34m\u001b[0m\u001b[0;34m\u001b[0m\u001b[0m\n\u001b[1;32m      9\u001b[0m   \u001b[0;32mif\u001b[0m \u001b[0mn\u001b[0m \u001b[0;34m>\u001b[0m \u001b[0;36m1\u001b[0m\u001b[0;34m:\u001b[0m\u001b[0;34m\u001b[0m\u001b[0;34m\u001b[0m\u001b[0m\n\u001b[0;32m---> 10\u001b[0;31m     \u001b[0;32mreturn\u001b[0m \u001b[0mF\u001b[0m\u001b[0;34m(\u001b[0m\u001b[0mn\u001b[0m\u001b[0;34m-\u001b[0m\u001b[0;36m1\u001b[0m\u001b[0;34m)\u001b[0m \u001b[0;34m+\u001b[0m \u001b[0mG\u001b[0m\u001b[0;34m(\u001b[0m\u001b[0mn\u001b[0m\u001b[0;34m-\u001b[0m\u001b[0;36m1\u001b[0m\u001b[0;34m)\u001b[0m \u001b[0;34m+\u001b[0m \u001b[0mn\u001b[0m\u001b[0;34m\u001b[0m\u001b[0;34m\u001b[0m\u001b[0m\n\u001b[0m\u001b[1;32m     11\u001b[0m \u001b[0;34m\u001b[0m\u001b[0m\n\u001b[1;32m     12\u001b[0m \u001b[0mprint\u001b[0m\u001b[0;34m(\u001b[0m\u001b[0mG\u001b[0m\u001b[0;34m(\u001b[0m\u001b[0;36m36\u001b[0m\u001b[0;34m)\u001b[0m\u001b[0;34m)\u001b[0m\u001b[0;34m\u001b[0m\u001b[0;34m\u001b[0m\u001b[0m\n",
            "\u001b[0;32m<ipython-input-7-31a8ae2ecc86>\u001b[0m in \u001b[0;36mF\u001b[0;34m(n)\u001b[0m\n\u001b[1;32m      3\u001b[0m     \u001b[0;32mreturn\u001b[0m \u001b[0mG\u001b[0m\u001b[0;34m(\u001b[0m\u001b[0mn\u001b[0m\u001b[0;34m)\u001b[0m\u001b[0;34m\u001b[0m\u001b[0;34m\u001b[0m\u001b[0m\n\u001b[1;32m      4\u001b[0m   \u001b[0;32melif\u001b[0m \u001b[0mn\u001b[0m \u001b[0;34m>\u001b[0m \u001b[0;36m1\u001b[0m\u001b[0;34m:\u001b[0m\u001b[0;34m\u001b[0m\u001b[0;34m\u001b[0m\u001b[0m\n\u001b[0;32m----> 5\u001b[0;31m     \u001b[0mk\u001b[0m \u001b[0;34m=\u001b[0m \u001b[0mG\u001b[0m\u001b[0;34m(\u001b[0m\u001b[0mn\u001b[0m\u001b[0;34m-\u001b[0m\u001b[0;36m1\u001b[0m\u001b[0;34m)\u001b[0m\u001b[0;34m\u001b[0m\u001b[0;34m\u001b[0m\u001b[0m\n\u001b[0m\u001b[1;32m      6\u001b[0m     \u001b[0;32mreturn\u001b[0m \u001b[0mF\u001b[0m\u001b[0;34m(\u001b[0m\u001b[0mn\u001b[0m\u001b[0;34m-\u001b[0m\u001b[0;36m1\u001b[0m\u001b[0;34m)\u001b[0m \u001b[0;34m-\u001b[0m \u001b[0;36m2\u001b[0m \u001b[0;34m*\u001b[0m \u001b[0mk\u001b[0m\u001b[0;34m\u001b[0m\u001b[0;34m\u001b[0m\u001b[0m\n\u001b[1;32m      7\u001b[0m \u001b[0;34m\u001b[0m\u001b[0m\n",
            "\u001b[0;32m<ipython-input-7-31a8ae2ecc86>\u001b[0m in \u001b[0;36mG\u001b[0;34m(n)\u001b[0m\n\u001b[1;32m      8\u001b[0m \u001b[0;32mdef\u001b[0m \u001b[0mG\u001b[0m\u001b[0;34m(\u001b[0m\u001b[0mn\u001b[0m\u001b[0;34m)\u001b[0m\u001b[0;34m:\u001b[0m\u001b[0;34m\u001b[0m\u001b[0;34m\u001b[0m\u001b[0m\n\u001b[1;32m      9\u001b[0m   \u001b[0;32mif\u001b[0m \u001b[0mn\u001b[0m \u001b[0;34m>\u001b[0m \u001b[0;36m1\u001b[0m\u001b[0;34m:\u001b[0m\u001b[0;34m\u001b[0m\u001b[0;34m\u001b[0m\u001b[0m\n\u001b[0;32m---> 10\u001b[0;31m     \u001b[0;32mreturn\u001b[0m \u001b[0mF\u001b[0m\u001b[0;34m(\u001b[0m\u001b[0mn\u001b[0m\u001b[0;34m-\u001b[0m\u001b[0;36m1\u001b[0m\u001b[0;34m)\u001b[0m \u001b[0;34m+\u001b[0m \u001b[0mG\u001b[0m\u001b[0;34m(\u001b[0m\u001b[0mn\u001b[0m\u001b[0;34m-\u001b[0m\u001b[0;36m1\u001b[0m\u001b[0;34m)\u001b[0m \u001b[0;34m+\u001b[0m \u001b[0mn\u001b[0m\u001b[0;34m\u001b[0m\u001b[0;34m\u001b[0m\u001b[0m\n\u001b[0m\u001b[1;32m     11\u001b[0m \u001b[0;34m\u001b[0m\u001b[0m\n\u001b[1;32m     12\u001b[0m \u001b[0mprint\u001b[0m\u001b[0;34m(\u001b[0m\u001b[0mG\u001b[0m\u001b[0;34m(\u001b[0m\u001b[0;36m36\u001b[0m\u001b[0;34m)\u001b[0m\u001b[0;34m)\u001b[0m\u001b[0;34m\u001b[0m\u001b[0;34m\u001b[0m\u001b[0m\n",
            "\u001b[0;32m<ipython-input-7-31a8ae2ecc86>\u001b[0m in \u001b[0;36mF\u001b[0;34m(n)\u001b[0m\n\u001b[1;32m      3\u001b[0m     \u001b[0;32mreturn\u001b[0m \u001b[0mG\u001b[0m\u001b[0;34m(\u001b[0m\u001b[0mn\u001b[0m\u001b[0;34m)\u001b[0m\u001b[0;34m\u001b[0m\u001b[0;34m\u001b[0m\u001b[0m\n\u001b[1;32m      4\u001b[0m   \u001b[0;32melif\u001b[0m \u001b[0mn\u001b[0m \u001b[0;34m>\u001b[0m \u001b[0;36m1\u001b[0m\u001b[0;34m:\u001b[0m\u001b[0;34m\u001b[0m\u001b[0;34m\u001b[0m\u001b[0m\n\u001b[0;32m----> 5\u001b[0;31m     \u001b[0mk\u001b[0m \u001b[0;34m=\u001b[0m \u001b[0mG\u001b[0m\u001b[0;34m(\u001b[0m\u001b[0mn\u001b[0m\u001b[0;34m-\u001b[0m\u001b[0;36m1\u001b[0m\u001b[0;34m)\u001b[0m\u001b[0;34m\u001b[0m\u001b[0;34m\u001b[0m\u001b[0m\n\u001b[0m\u001b[1;32m      6\u001b[0m     \u001b[0;32mreturn\u001b[0m \u001b[0mF\u001b[0m\u001b[0;34m(\u001b[0m\u001b[0mn\u001b[0m\u001b[0;34m-\u001b[0m\u001b[0;36m1\u001b[0m\u001b[0;34m)\u001b[0m \u001b[0;34m-\u001b[0m \u001b[0;36m2\u001b[0m \u001b[0;34m*\u001b[0m \u001b[0mk\u001b[0m\u001b[0;34m\u001b[0m\u001b[0;34m\u001b[0m\u001b[0m\n\u001b[1;32m      7\u001b[0m \u001b[0;34m\u001b[0m\u001b[0m\n",
            "\u001b[0;32m<ipython-input-7-31a8ae2ecc86>\u001b[0m in \u001b[0;36mG\u001b[0;34m(n)\u001b[0m\n\u001b[1;32m      8\u001b[0m \u001b[0;32mdef\u001b[0m \u001b[0mG\u001b[0m\u001b[0;34m(\u001b[0m\u001b[0mn\u001b[0m\u001b[0;34m)\u001b[0m\u001b[0;34m:\u001b[0m\u001b[0;34m\u001b[0m\u001b[0;34m\u001b[0m\u001b[0m\n\u001b[1;32m      9\u001b[0m   \u001b[0;32mif\u001b[0m \u001b[0mn\u001b[0m \u001b[0;34m>\u001b[0m \u001b[0;36m1\u001b[0m\u001b[0;34m:\u001b[0m\u001b[0;34m\u001b[0m\u001b[0;34m\u001b[0m\u001b[0m\n\u001b[0;32m---> 10\u001b[0;31m     \u001b[0;32mreturn\u001b[0m \u001b[0mF\u001b[0m\u001b[0;34m(\u001b[0m\u001b[0mn\u001b[0m\u001b[0;34m-\u001b[0m\u001b[0;36m1\u001b[0m\u001b[0;34m)\u001b[0m \u001b[0;34m+\u001b[0m \u001b[0mG\u001b[0m\u001b[0;34m(\u001b[0m\u001b[0mn\u001b[0m\u001b[0;34m-\u001b[0m\u001b[0;36m1\u001b[0m\u001b[0;34m)\u001b[0m \u001b[0;34m+\u001b[0m \u001b[0mn\u001b[0m\u001b[0;34m\u001b[0m\u001b[0;34m\u001b[0m\u001b[0m\n\u001b[0m\u001b[1;32m     11\u001b[0m \u001b[0;34m\u001b[0m\u001b[0m\n\u001b[1;32m     12\u001b[0m \u001b[0mprint\u001b[0m\u001b[0;34m(\u001b[0m\u001b[0mG\u001b[0m\u001b[0;34m(\u001b[0m\u001b[0;36m36\u001b[0m\u001b[0;34m)\u001b[0m\u001b[0;34m)\u001b[0m\u001b[0;34m\u001b[0m\u001b[0;34m\u001b[0m\u001b[0m\n",
            "\u001b[0;32m<ipython-input-7-31a8ae2ecc86>\u001b[0m in \u001b[0;36mF\u001b[0;34m(n)\u001b[0m\n\u001b[1;32m      3\u001b[0m     \u001b[0;32mreturn\u001b[0m \u001b[0mG\u001b[0m\u001b[0;34m(\u001b[0m\u001b[0mn\u001b[0m\u001b[0;34m)\u001b[0m\u001b[0;34m\u001b[0m\u001b[0;34m\u001b[0m\u001b[0m\n\u001b[1;32m      4\u001b[0m   \u001b[0;32melif\u001b[0m \u001b[0mn\u001b[0m \u001b[0;34m>\u001b[0m \u001b[0;36m1\u001b[0m\u001b[0;34m:\u001b[0m\u001b[0;34m\u001b[0m\u001b[0;34m\u001b[0m\u001b[0m\n\u001b[0;32m----> 5\u001b[0;31m     \u001b[0mk\u001b[0m \u001b[0;34m=\u001b[0m \u001b[0mG\u001b[0m\u001b[0;34m(\u001b[0m\u001b[0mn\u001b[0m\u001b[0;34m-\u001b[0m\u001b[0;36m1\u001b[0m\u001b[0;34m)\u001b[0m\u001b[0;34m\u001b[0m\u001b[0;34m\u001b[0m\u001b[0m\n\u001b[0m\u001b[1;32m      6\u001b[0m     \u001b[0;32mreturn\u001b[0m \u001b[0mF\u001b[0m\u001b[0;34m(\u001b[0m\u001b[0mn\u001b[0m\u001b[0;34m-\u001b[0m\u001b[0;36m1\u001b[0m\u001b[0;34m)\u001b[0m \u001b[0;34m-\u001b[0m \u001b[0;36m2\u001b[0m \u001b[0;34m*\u001b[0m \u001b[0mk\u001b[0m\u001b[0;34m\u001b[0m\u001b[0;34m\u001b[0m\u001b[0m\n\u001b[1;32m      7\u001b[0m \u001b[0;34m\u001b[0m\u001b[0m\n",
            "\u001b[0;32m<ipython-input-7-31a8ae2ecc86>\u001b[0m in \u001b[0;36mG\u001b[0;34m(n)\u001b[0m\n\u001b[1;32m      8\u001b[0m \u001b[0;32mdef\u001b[0m \u001b[0mG\u001b[0m\u001b[0;34m(\u001b[0m\u001b[0mn\u001b[0m\u001b[0;34m)\u001b[0m\u001b[0;34m:\u001b[0m\u001b[0;34m\u001b[0m\u001b[0;34m\u001b[0m\u001b[0m\n\u001b[1;32m      9\u001b[0m   \u001b[0;32mif\u001b[0m \u001b[0mn\u001b[0m \u001b[0;34m>\u001b[0m \u001b[0;36m1\u001b[0m\u001b[0;34m:\u001b[0m\u001b[0;34m\u001b[0m\u001b[0;34m\u001b[0m\u001b[0m\n\u001b[0;32m---> 10\u001b[0;31m     \u001b[0;32mreturn\u001b[0m \u001b[0mF\u001b[0m\u001b[0;34m(\u001b[0m\u001b[0mn\u001b[0m\u001b[0;34m-\u001b[0m\u001b[0;36m1\u001b[0m\u001b[0;34m)\u001b[0m \u001b[0;34m+\u001b[0m \u001b[0mG\u001b[0m\u001b[0;34m(\u001b[0m\u001b[0mn\u001b[0m\u001b[0;34m-\u001b[0m\u001b[0;36m1\u001b[0m\u001b[0;34m)\u001b[0m \u001b[0;34m+\u001b[0m \u001b[0mn\u001b[0m\u001b[0;34m\u001b[0m\u001b[0;34m\u001b[0m\u001b[0m\n\u001b[0m\u001b[1;32m     11\u001b[0m \u001b[0;34m\u001b[0m\u001b[0m\n\u001b[1;32m     12\u001b[0m \u001b[0mprint\u001b[0m\u001b[0;34m(\u001b[0m\u001b[0mG\u001b[0m\u001b[0;34m(\u001b[0m\u001b[0;36m36\u001b[0m\u001b[0;34m)\u001b[0m\u001b[0;34m)\u001b[0m\u001b[0;34m\u001b[0m\u001b[0;34m\u001b[0m\u001b[0m\n",
            "\u001b[0;31mTypeError\u001b[0m: unsupported operand type(s) for +: 'NoneType' and 'NoneType'"
          ]
        }
      ]
    },
    {
      "cell_type": "code",
      "source": [
        "def F(n):\n",
        "  if n == 1:\n",
        "    return 1\n",
        "  elif n == 2:\n",
        "    return 1\n",
        "  elif n % 2 == 0 and n > 2:\n",
        "    return n * F(n-1) + 2\n",
        "  elif n > 2 and n % 2 != 0:\n",
        "    return 1 + F(n-2) + F(n-1)\n",
        "\n",
        "print(F(9))"
      ],
      "metadata": {
        "colab": {
          "base_uri": "https://localhost:8080/"
        },
        "id": "ZyeIr0OEXbwW",
        "outputId": "b5222c68-c17a-46a0-eeb7-a539419e1bf8"
      },
      "execution_count": null,
      "outputs": [
        {
          "output_type": "stream",
          "name": "stdout",
          "text": [
            "1164\n"
          ]
        }
      ]
    },
    {
      "cell_type": "code",
      "source": [
        "def F(n):\n",
        "  if n < 4:\n",
        "    return n-1\n",
        "  elif n >= 4 and n % 3 == 0:\n",
        "    return n + 2*F(n-1)\n",
        "  elif n >= 4 and n % 3 != 0:\n",
        "    return F(n-2) + F(n-3)\n",
        "\n",
        "print(sum(map(int, str(F(25)))))"
      ],
      "metadata": {
        "colab": {
          "base_uri": "https://localhost:8080/"
        },
        "id": "utmYz0uyz3zw",
        "outputId": "f189b4f7-9273-4731-db0d-ddec484c6c8b"
      },
      "execution_count": null,
      "outputs": [
        {
          "output_type": "stream",
          "name": "stdout",
          "text": [
            "13\n"
          ]
        }
      ]
    },
    {
      "cell_type": "code",
      "source": [
        "ans = []\n",
        "def F(n):\n",
        "  ans.append('*')\n",
        "  if n >=1:\n",
        "    ans.append('*')\n",
        "    F(n-1)\n",
        "    F(n-2)\n",
        "    ans.append('*')\n",
        "\n",
        "F(35)\n",
        "print(len(ans))"
      ],
      "metadata": {
        "colab": {
          "base_uri": "https://localhost:8080/"
        },
        "id": "Vs6jmFZu0onT",
        "outputId": "dd1052f1-fb7c-4308-a341-bd4a57a6537c"
      },
      "execution_count": null,
      "outputs": [
        {
          "output_type": "stream",
          "name": "stdout",
          "text": [
            "96631265\n"
          ]
        }
      ]
    },
    {
      "cell_type": "code",
      "source": [
        "F = [None] * 5000\n",
        "for n in range(0, 4):\n",
        "    F[n] = n - 1\n",
        "for n in range(4, 5000, 2):\n",
        "    F[n] = F[n-2] + n/2 - F[n-4]\n",
        "\n",
        "print(F[4952] + 2*F[4958] + F[4964])"
      ],
      "metadata": {
        "id": "tUWndlQp4Ss3",
        "colab": {
          "base_uri": "https://localhost:8080/"
        },
        "outputId": "f64e1f51-1459-451d-9cf9-6ab27eab1a95"
      },
      "execution_count": null,
      "outputs": [
        {
          "output_type": "stream",
          "name": "stdout",
          "text": [
            "9920.0\n"
          ]
        }
      ]
    },
    {
      "cell_type": "code",
      "source": [
        "def F(n):\n",
        "  if n == 1:\n",
        "    return 1\n",
        "  if n > 1:\n",
        "    return F(n-1) - G(n-1)\n",
        "\n",
        "def G(n):\n",
        "  if n == 1:\n",
        "    return 0\n",
        "  if n > 1:\n",
        "    return G(n-1) - F(n-1)\n",
        "\n",
        "print(G(34))"
      ],
      "metadata": {
        "colab": {
          "base_uri": "https://localhost:8080/",
          "height": 355
        },
        "id": "PmTAL4u31pNB",
        "outputId": "5e13683c-2286-4427-ca3e-c94d43ad59c7"
      },
      "execution_count": null,
      "outputs": [
        {
          "output_type": "error",
          "ename": "KeyboardInterrupt",
          "evalue": "ignored",
          "traceback": [
            "\u001b[0;31m---------------------------------------------------------------------------\u001b[0m",
            "\u001b[0;31mKeyboardInterrupt\u001b[0m                         Traceback (most recent call last)",
            "\u001b[0;32m<ipython-input-9-6e928990425e>\u001b[0m in \u001b[0;36m<cell line: 13>\u001b[0;34m()\u001b[0m\n\u001b[1;32m     11\u001b[0m     \u001b[0;32mreturn\u001b[0m \u001b[0mG\u001b[0m\u001b[0;34m(\u001b[0m\u001b[0mn\u001b[0m\u001b[0;34m-\u001b[0m\u001b[0;36m1\u001b[0m\u001b[0;34m)\u001b[0m \u001b[0;34m-\u001b[0m \u001b[0mF\u001b[0m\u001b[0;34m(\u001b[0m\u001b[0mn\u001b[0m\u001b[0;34m-\u001b[0m\u001b[0;36m1\u001b[0m\u001b[0;34m)\u001b[0m\u001b[0;34m\u001b[0m\u001b[0;34m\u001b[0m\u001b[0m\n\u001b[1;32m     12\u001b[0m \u001b[0;34m\u001b[0m\u001b[0m\n\u001b[0;32m---> 13\u001b[0;31m \u001b[0mprint\u001b[0m\u001b[0;34m(\u001b[0m\u001b[0mG\u001b[0m\u001b[0;34m(\u001b[0m\u001b[0;36m34\u001b[0m\u001b[0;34m)\u001b[0m\u001b[0;34m)\u001b[0m\u001b[0;34m\u001b[0m\u001b[0;34m\u001b[0m\u001b[0m\n\u001b[0m",
            "\u001b[0;32m<ipython-input-9-6e928990425e>\u001b[0m in \u001b[0;36mG\u001b[0;34m(n)\u001b[0m\n\u001b[1;32m      9\u001b[0m     \u001b[0;32mreturn\u001b[0m \u001b[0;36m0\u001b[0m\u001b[0;34m\u001b[0m\u001b[0;34m\u001b[0m\u001b[0m\n\u001b[1;32m     10\u001b[0m   \u001b[0;32mif\u001b[0m \u001b[0mn\u001b[0m \u001b[0;34m>\u001b[0m \u001b[0;36m1\u001b[0m\u001b[0;34m:\u001b[0m\u001b[0;34m\u001b[0m\u001b[0;34m\u001b[0m\u001b[0m\n\u001b[0;32m---> 11\u001b[0;31m     \u001b[0;32mreturn\u001b[0m \u001b[0mG\u001b[0m\u001b[0;34m(\u001b[0m\u001b[0mn\u001b[0m\u001b[0;34m-\u001b[0m\u001b[0;36m1\u001b[0m\u001b[0;34m)\u001b[0m \u001b[0;34m-\u001b[0m \u001b[0mF\u001b[0m\u001b[0;34m(\u001b[0m\u001b[0mn\u001b[0m\u001b[0;34m-\u001b[0m\u001b[0;36m1\u001b[0m\u001b[0;34m)\u001b[0m\u001b[0;34m\u001b[0m\u001b[0;34m\u001b[0m\u001b[0m\n\u001b[0m\u001b[1;32m     12\u001b[0m \u001b[0;34m\u001b[0m\u001b[0m\n\u001b[1;32m     13\u001b[0m \u001b[0mprint\u001b[0m\u001b[0;34m(\u001b[0m\u001b[0mG\u001b[0m\u001b[0;34m(\u001b[0m\u001b[0;36m34\u001b[0m\u001b[0;34m)\u001b[0m\u001b[0;34m)\u001b[0m\u001b[0;34m\u001b[0m\u001b[0;34m\u001b[0m\u001b[0m\n",
            "\u001b[0;32m<ipython-input-9-6e928990425e>\u001b[0m in \u001b[0;36mG\u001b[0;34m(n)\u001b[0m\n\u001b[1;32m      9\u001b[0m     \u001b[0;32mreturn\u001b[0m \u001b[0;36m0\u001b[0m\u001b[0;34m\u001b[0m\u001b[0;34m\u001b[0m\u001b[0m\n\u001b[1;32m     10\u001b[0m   \u001b[0;32mif\u001b[0m \u001b[0mn\u001b[0m \u001b[0;34m>\u001b[0m \u001b[0;36m1\u001b[0m\u001b[0;34m:\u001b[0m\u001b[0;34m\u001b[0m\u001b[0;34m\u001b[0m\u001b[0m\n\u001b[0;32m---> 11\u001b[0;31m     \u001b[0;32mreturn\u001b[0m \u001b[0mG\u001b[0m\u001b[0;34m(\u001b[0m\u001b[0mn\u001b[0m\u001b[0;34m-\u001b[0m\u001b[0;36m1\u001b[0m\u001b[0;34m)\u001b[0m \u001b[0;34m-\u001b[0m \u001b[0mF\u001b[0m\u001b[0;34m(\u001b[0m\u001b[0mn\u001b[0m\u001b[0;34m-\u001b[0m\u001b[0;36m1\u001b[0m\u001b[0;34m)\u001b[0m\u001b[0;34m\u001b[0m\u001b[0;34m\u001b[0m\u001b[0m\n\u001b[0m\u001b[1;32m     12\u001b[0m \u001b[0;34m\u001b[0m\u001b[0m\n\u001b[1;32m     13\u001b[0m \u001b[0mprint\u001b[0m\u001b[0;34m(\u001b[0m\u001b[0mG\u001b[0m\u001b[0;34m(\u001b[0m\u001b[0;36m34\u001b[0m\u001b[0;34m)\u001b[0m\u001b[0;34m)\u001b[0m\u001b[0;34m\u001b[0m\u001b[0;34m\u001b[0m\u001b[0m\n",
            "\u001b[0;32m<ipython-input-9-6e928990425e>\u001b[0m in \u001b[0;36mG\u001b[0;34m(n)\u001b[0m\n\u001b[1;32m      9\u001b[0m     \u001b[0;32mreturn\u001b[0m \u001b[0;36m0\u001b[0m\u001b[0;34m\u001b[0m\u001b[0;34m\u001b[0m\u001b[0m\n\u001b[1;32m     10\u001b[0m   \u001b[0;32mif\u001b[0m \u001b[0mn\u001b[0m \u001b[0;34m>\u001b[0m \u001b[0;36m1\u001b[0m\u001b[0;34m:\u001b[0m\u001b[0;34m\u001b[0m\u001b[0;34m\u001b[0m\u001b[0m\n\u001b[0;32m---> 11\u001b[0;31m     \u001b[0;32mreturn\u001b[0m \u001b[0mG\u001b[0m\u001b[0;34m(\u001b[0m\u001b[0mn\u001b[0m\u001b[0;34m-\u001b[0m\u001b[0;36m1\u001b[0m\u001b[0;34m)\u001b[0m \u001b[0;34m-\u001b[0m \u001b[0mF\u001b[0m\u001b[0;34m(\u001b[0m\u001b[0mn\u001b[0m\u001b[0;34m-\u001b[0m\u001b[0;36m1\u001b[0m\u001b[0;34m)\u001b[0m\u001b[0;34m\u001b[0m\u001b[0;34m\u001b[0m\u001b[0m\n\u001b[0m\u001b[1;32m     12\u001b[0m \u001b[0;34m\u001b[0m\u001b[0m\n\u001b[1;32m     13\u001b[0m \u001b[0mprint\u001b[0m\u001b[0;34m(\u001b[0m\u001b[0mG\u001b[0m\u001b[0;34m(\u001b[0m\u001b[0;36m34\u001b[0m\u001b[0;34m)\u001b[0m\u001b[0;34m)\u001b[0m\u001b[0;34m\u001b[0m\u001b[0;34m\u001b[0m\u001b[0m\n",
            "\u001b[0;32m<ipython-input-9-6e928990425e>\u001b[0m in \u001b[0;36mG\u001b[0;34m(n)\u001b[0m\n\u001b[1;32m      9\u001b[0m     \u001b[0;32mreturn\u001b[0m \u001b[0;36m0\u001b[0m\u001b[0;34m\u001b[0m\u001b[0;34m\u001b[0m\u001b[0m\n\u001b[1;32m     10\u001b[0m   \u001b[0;32mif\u001b[0m \u001b[0mn\u001b[0m \u001b[0;34m>\u001b[0m \u001b[0;36m1\u001b[0m\u001b[0;34m:\u001b[0m\u001b[0;34m\u001b[0m\u001b[0;34m\u001b[0m\u001b[0m\n\u001b[0;32m---> 11\u001b[0;31m     \u001b[0;32mreturn\u001b[0m \u001b[0mG\u001b[0m\u001b[0;34m(\u001b[0m\u001b[0mn\u001b[0m\u001b[0;34m-\u001b[0m\u001b[0;36m1\u001b[0m\u001b[0;34m)\u001b[0m \u001b[0;34m-\u001b[0m \u001b[0mF\u001b[0m\u001b[0;34m(\u001b[0m\u001b[0mn\u001b[0m\u001b[0;34m-\u001b[0m\u001b[0;36m1\u001b[0m\u001b[0;34m)\u001b[0m\u001b[0;34m\u001b[0m\u001b[0;34m\u001b[0m\u001b[0m\n\u001b[0m\u001b[1;32m     12\u001b[0m \u001b[0;34m\u001b[0m\u001b[0m\n\u001b[1;32m     13\u001b[0m \u001b[0mprint\u001b[0m\u001b[0;34m(\u001b[0m\u001b[0mG\u001b[0m\u001b[0;34m(\u001b[0m\u001b[0;36m34\u001b[0m\u001b[0;34m)\u001b[0m\u001b[0;34m)\u001b[0m\u001b[0;34m\u001b[0m\u001b[0;34m\u001b[0m\u001b[0m\n",
            "\u001b[0;32m<ipython-input-9-6e928990425e>\u001b[0m in \u001b[0;36mG\u001b[0;34m(n)\u001b[0m\n\u001b[1;32m      9\u001b[0m     \u001b[0;32mreturn\u001b[0m \u001b[0;36m0\u001b[0m\u001b[0;34m\u001b[0m\u001b[0;34m\u001b[0m\u001b[0m\n\u001b[1;32m     10\u001b[0m   \u001b[0;32mif\u001b[0m \u001b[0mn\u001b[0m \u001b[0;34m>\u001b[0m \u001b[0;36m1\u001b[0m\u001b[0;34m:\u001b[0m\u001b[0;34m\u001b[0m\u001b[0;34m\u001b[0m\u001b[0m\n\u001b[0;32m---> 11\u001b[0;31m     \u001b[0;32mreturn\u001b[0m \u001b[0mG\u001b[0m\u001b[0;34m(\u001b[0m\u001b[0mn\u001b[0m\u001b[0;34m-\u001b[0m\u001b[0;36m1\u001b[0m\u001b[0;34m)\u001b[0m \u001b[0;34m-\u001b[0m \u001b[0mF\u001b[0m\u001b[0;34m(\u001b[0m\u001b[0mn\u001b[0m\u001b[0;34m-\u001b[0m\u001b[0;36m1\u001b[0m\u001b[0;34m)\u001b[0m\u001b[0;34m\u001b[0m\u001b[0;34m\u001b[0m\u001b[0m\n\u001b[0m\u001b[1;32m     12\u001b[0m \u001b[0;34m\u001b[0m\u001b[0m\n\u001b[1;32m     13\u001b[0m \u001b[0mprint\u001b[0m\u001b[0;34m(\u001b[0m\u001b[0mG\u001b[0m\u001b[0;34m(\u001b[0m\u001b[0;36m34\u001b[0m\u001b[0;34m)\u001b[0m\u001b[0;34m)\u001b[0m\u001b[0;34m\u001b[0m\u001b[0;34m\u001b[0m\u001b[0m\n",
            "\u001b[0;32m<ipython-input-9-6e928990425e>\u001b[0m in \u001b[0;36mG\u001b[0;34m(n)\u001b[0m\n\u001b[1;32m      9\u001b[0m     \u001b[0;32mreturn\u001b[0m \u001b[0;36m0\u001b[0m\u001b[0;34m\u001b[0m\u001b[0;34m\u001b[0m\u001b[0m\n\u001b[1;32m     10\u001b[0m   \u001b[0;32mif\u001b[0m \u001b[0mn\u001b[0m \u001b[0;34m>\u001b[0m \u001b[0;36m1\u001b[0m\u001b[0;34m:\u001b[0m\u001b[0;34m\u001b[0m\u001b[0;34m\u001b[0m\u001b[0m\n\u001b[0;32m---> 11\u001b[0;31m     \u001b[0;32mreturn\u001b[0m \u001b[0mG\u001b[0m\u001b[0;34m(\u001b[0m\u001b[0mn\u001b[0m\u001b[0;34m-\u001b[0m\u001b[0;36m1\u001b[0m\u001b[0;34m)\u001b[0m \u001b[0;34m-\u001b[0m \u001b[0mF\u001b[0m\u001b[0;34m(\u001b[0m\u001b[0mn\u001b[0m\u001b[0;34m-\u001b[0m\u001b[0;36m1\u001b[0m\u001b[0;34m)\u001b[0m\u001b[0;34m\u001b[0m\u001b[0;34m\u001b[0m\u001b[0m\n\u001b[0m\u001b[1;32m     12\u001b[0m \u001b[0;34m\u001b[0m\u001b[0m\n\u001b[1;32m     13\u001b[0m \u001b[0mprint\u001b[0m\u001b[0;34m(\u001b[0m\u001b[0mG\u001b[0m\u001b[0;34m(\u001b[0m\u001b[0;36m34\u001b[0m\u001b[0;34m)\u001b[0m\u001b[0;34m)\u001b[0m\u001b[0;34m\u001b[0m\u001b[0;34m\u001b[0m\u001b[0m\n",
            "\u001b[0;32m<ipython-input-9-6e928990425e>\u001b[0m in \u001b[0;36mG\u001b[0;34m(n)\u001b[0m\n\u001b[1;32m      9\u001b[0m     \u001b[0;32mreturn\u001b[0m \u001b[0;36m0\u001b[0m\u001b[0;34m\u001b[0m\u001b[0;34m\u001b[0m\u001b[0m\n\u001b[1;32m     10\u001b[0m   \u001b[0;32mif\u001b[0m \u001b[0mn\u001b[0m \u001b[0;34m>\u001b[0m \u001b[0;36m1\u001b[0m\u001b[0;34m:\u001b[0m\u001b[0;34m\u001b[0m\u001b[0;34m\u001b[0m\u001b[0m\n\u001b[0;32m---> 11\u001b[0;31m     \u001b[0;32mreturn\u001b[0m \u001b[0mG\u001b[0m\u001b[0;34m(\u001b[0m\u001b[0mn\u001b[0m\u001b[0;34m-\u001b[0m\u001b[0;36m1\u001b[0m\u001b[0;34m)\u001b[0m \u001b[0;34m-\u001b[0m \u001b[0mF\u001b[0m\u001b[0;34m(\u001b[0m\u001b[0mn\u001b[0m\u001b[0;34m-\u001b[0m\u001b[0;36m1\u001b[0m\u001b[0;34m)\u001b[0m\u001b[0;34m\u001b[0m\u001b[0;34m\u001b[0m\u001b[0m\n\u001b[0m\u001b[1;32m     12\u001b[0m \u001b[0;34m\u001b[0m\u001b[0m\n\u001b[1;32m     13\u001b[0m \u001b[0mprint\u001b[0m\u001b[0;34m(\u001b[0m\u001b[0mG\u001b[0m\u001b[0;34m(\u001b[0m\u001b[0;36m34\u001b[0m\u001b[0;34m)\u001b[0m\u001b[0;34m)\u001b[0m\u001b[0;34m\u001b[0m\u001b[0;34m\u001b[0m\u001b[0m\n",
            "\u001b[0;32m<ipython-input-9-6e928990425e>\u001b[0m in \u001b[0;36mG\u001b[0;34m(n)\u001b[0m\n\u001b[1;32m      9\u001b[0m     \u001b[0;32mreturn\u001b[0m \u001b[0;36m0\u001b[0m\u001b[0;34m\u001b[0m\u001b[0;34m\u001b[0m\u001b[0m\n\u001b[1;32m     10\u001b[0m   \u001b[0;32mif\u001b[0m \u001b[0mn\u001b[0m \u001b[0;34m>\u001b[0m \u001b[0;36m1\u001b[0m\u001b[0;34m:\u001b[0m\u001b[0;34m\u001b[0m\u001b[0;34m\u001b[0m\u001b[0m\n\u001b[0;32m---> 11\u001b[0;31m     \u001b[0;32mreturn\u001b[0m \u001b[0mG\u001b[0m\u001b[0;34m(\u001b[0m\u001b[0mn\u001b[0m\u001b[0;34m-\u001b[0m\u001b[0;36m1\u001b[0m\u001b[0;34m)\u001b[0m \u001b[0;34m-\u001b[0m \u001b[0mF\u001b[0m\u001b[0;34m(\u001b[0m\u001b[0mn\u001b[0m\u001b[0;34m-\u001b[0m\u001b[0;36m1\u001b[0m\u001b[0;34m)\u001b[0m\u001b[0;34m\u001b[0m\u001b[0;34m\u001b[0m\u001b[0m\n\u001b[0m\u001b[1;32m     12\u001b[0m \u001b[0;34m\u001b[0m\u001b[0m\n\u001b[1;32m     13\u001b[0m \u001b[0mprint\u001b[0m\u001b[0;34m(\u001b[0m\u001b[0mG\u001b[0m\u001b[0;34m(\u001b[0m\u001b[0;36m34\u001b[0m\u001b[0;34m)\u001b[0m\u001b[0;34m)\u001b[0m\u001b[0;34m\u001b[0m\u001b[0;34m\u001b[0m\u001b[0m\n",
            "\u001b[0;32m<ipython-input-9-6e928990425e>\u001b[0m in \u001b[0;36mG\u001b[0;34m(n)\u001b[0m\n\u001b[1;32m      9\u001b[0m     \u001b[0;32mreturn\u001b[0m \u001b[0;36m0\u001b[0m\u001b[0;34m\u001b[0m\u001b[0;34m\u001b[0m\u001b[0m\n\u001b[1;32m     10\u001b[0m   \u001b[0;32mif\u001b[0m \u001b[0mn\u001b[0m \u001b[0;34m>\u001b[0m \u001b[0;36m1\u001b[0m\u001b[0;34m:\u001b[0m\u001b[0;34m\u001b[0m\u001b[0;34m\u001b[0m\u001b[0m\n\u001b[0;32m---> 11\u001b[0;31m     \u001b[0;32mreturn\u001b[0m \u001b[0mG\u001b[0m\u001b[0;34m(\u001b[0m\u001b[0mn\u001b[0m\u001b[0;34m-\u001b[0m\u001b[0;36m1\u001b[0m\u001b[0;34m)\u001b[0m \u001b[0;34m-\u001b[0m \u001b[0mF\u001b[0m\u001b[0;34m(\u001b[0m\u001b[0mn\u001b[0m\u001b[0;34m-\u001b[0m\u001b[0;36m1\u001b[0m\u001b[0;34m)\u001b[0m\u001b[0;34m\u001b[0m\u001b[0;34m\u001b[0m\u001b[0m\n\u001b[0m\u001b[1;32m     12\u001b[0m \u001b[0;34m\u001b[0m\u001b[0m\n\u001b[1;32m     13\u001b[0m \u001b[0mprint\u001b[0m\u001b[0;34m(\u001b[0m\u001b[0mG\u001b[0m\u001b[0;34m(\u001b[0m\u001b[0;36m34\u001b[0m\u001b[0;34m)\u001b[0m\u001b[0;34m)\u001b[0m\u001b[0;34m\u001b[0m\u001b[0;34m\u001b[0m\u001b[0m\n",
            "\u001b[0;32m<ipython-input-9-6e928990425e>\u001b[0m in \u001b[0;36mF\u001b[0;34m(n)\u001b[0m\n\u001b[1;32m      3\u001b[0m     \u001b[0;32mreturn\u001b[0m \u001b[0;36m1\u001b[0m\u001b[0;34m\u001b[0m\u001b[0;34m\u001b[0m\u001b[0m\n\u001b[1;32m      4\u001b[0m   \u001b[0;32mif\u001b[0m \u001b[0mn\u001b[0m \u001b[0;34m>\u001b[0m \u001b[0;36m1\u001b[0m\u001b[0;34m:\u001b[0m\u001b[0;34m\u001b[0m\u001b[0;34m\u001b[0m\u001b[0m\n\u001b[0;32m----> 5\u001b[0;31m     \u001b[0;32mreturn\u001b[0m \u001b[0mF\u001b[0m\u001b[0;34m(\u001b[0m\u001b[0mn\u001b[0m\u001b[0;34m-\u001b[0m\u001b[0;36m1\u001b[0m\u001b[0;34m)\u001b[0m \u001b[0;34m-\u001b[0m \u001b[0mG\u001b[0m\u001b[0;34m(\u001b[0m\u001b[0mn\u001b[0m\u001b[0;34m-\u001b[0m\u001b[0;36m1\u001b[0m\u001b[0;34m)\u001b[0m\u001b[0;34m\u001b[0m\u001b[0;34m\u001b[0m\u001b[0m\n\u001b[0m\u001b[1;32m      6\u001b[0m \u001b[0;34m\u001b[0m\u001b[0m\n\u001b[1;32m      7\u001b[0m \u001b[0;32mdef\u001b[0m \u001b[0mG\u001b[0m\u001b[0;34m(\u001b[0m\u001b[0mn\u001b[0m\u001b[0;34m)\u001b[0m\u001b[0;34m:\u001b[0m\u001b[0;34m\u001b[0m\u001b[0;34m\u001b[0m\u001b[0m\n",
            "\u001b[0;32m<ipython-input-9-6e928990425e>\u001b[0m in \u001b[0;36mG\u001b[0;34m(n)\u001b[0m\n\u001b[1;32m      9\u001b[0m     \u001b[0;32mreturn\u001b[0m \u001b[0;36m0\u001b[0m\u001b[0;34m\u001b[0m\u001b[0;34m\u001b[0m\u001b[0m\n\u001b[1;32m     10\u001b[0m   \u001b[0;32mif\u001b[0m \u001b[0mn\u001b[0m \u001b[0;34m>\u001b[0m \u001b[0;36m1\u001b[0m\u001b[0;34m:\u001b[0m\u001b[0;34m\u001b[0m\u001b[0;34m\u001b[0m\u001b[0m\n\u001b[0;32m---> 11\u001b[0;31m     \u001b[0;32mreturn\u001b[0m \u001b[0mG\u001b[0m\u001b[0;34m(\u001b[0m\u001b[0mn\u001b[0m\u001b[0;34m-\u001b[0m\u001b[0;36m1\u001b[0m\u001b[0;34m)\u001b[0m \u001b[0;34m-\u001b[0m \u001b[0mF\u001b[0m\u001b[0;34m(\u001b[0m\u001b[0mn\u001b[0m\u001b[0;34m-\u001b[0m\u001b[0;36m1\u001b[0m\u001b[0;34m)\u001b[0m\u001b[0;34m\u001b[0m\u001b[0;34m\u001b[0m\u001b[0m\n\u001b[0m\u001b[1;32m     12\u001b[0m \u001b[0;34m\u001b[0m\u001b[0m\n\u001b[1;32m     13\u001b[0m \u001b[0mprint\u001b[0m\u001b[0;34m(\u001b[0m\u001b[0mG\u001b[0m\u001b[0;34m(\u001b[0m\u001b[0;36m34\u001b[0m\u001b[0;34m)\u001b[0m\u001b[0;34m)\u001b[0m\u001b[0;34m\u001b[0m\u001b[0;34m\u001b[0m\u001b[0m\n",
            "\u001b[0;32m<ipython-input-9-6e928990425e>\u001b[0m in \u001b[0;36mG\u001b[0;34m(n)\u001b[0m\n\u001b[1;32m      9\u001b[0m     \u001b[0;32mreturn\u001b[0m \u001b[0;36m0\u001b[0m\u001b[0;34m\u001b[0m\u001b[0;34m\u001b[0m\u001b[0m\n\u001b[1;32m     10\u001b[0m   \u001b[0;32mif\u001b[0m \u001b[0mn\u001b[0m \u001b[0;34m>\u001b[0m \u001b[0;36m1\u001b[0m\u001b[0;34m:\u001b[0m\u001b[0;34m\u001b[0m\u001b[0;34m\u001b[0m\u001b[0m\n\u001b[0;32m---> 11\u001b[0;31m     \u001b[0;32mreturn\u001b[0m \u001b[0mG\u001b[0m\u001b[0;34m(\u001b[0m\u001b[0mn\u001b[0m\u001b[0;34m-\u001b[0m\u001b[0;36m1\u001b[0m\u001b[0;34m)\u001b[0m \u001b[0;34m-\u001b[0m \u001b[0mF\u001b[0m\u001b[0;34m(\u001b[0m\u001b[0mn\u001b[0m\u001b[0;34m-\u001b[0m\u001b[0;36m1\u001b[0m\u001b[0;34m)\u001b[0m\u001b[0;34m\u001b[0m\u001b[0;34m\u001b[0m\u001b[0m\n\u001b[0m\u001b[1;32m     12\u001b[0m \u001b[0;34m\u001b[0m\u001b[0m\n\u001b[1;32m     13\u001b[0m \u001b[0mprint\u001b[0m\u001b[0;34m(\u001b[0m\u001b[0mG\u001b[0m\u001b[0;34m(\u001b[0m\u001b[0;36m34\u001b[0m\u001b[0;34m)\u001b[0m\u001b[0;34m)\u001b[0m\u001b[0;34m\u001b[0m\u001b[0;34m\u001b[0m\u001b[0m\n",
            "\u001b[0;32m<ipython-input-9-6e928990425e>\u001b[0m in \u001b[0;36mG\u001b[0;34m(n)\u001b[0m\n\u001b[1;32m      9\u001b[0m     \u001b[0;32mreturn\u001b[0m \u001b[0;36m0\u001b[0m\u001b[0;34m\u001b[0m\u001b[0;34m\u001b[0m\u001b[0m\n\u001b[1;32m     10\u001b[0m   \u001b[0;32mif\u001b[0m \u001b[0mn\u001b[0m \u001b[0;34m>\u001b[0m \u001b[0;36m1\u001b[0m\u001b[0;34m:\u001b[0m\u001b[0;34m\u001b[0m\u001b[0;34m\u001b[0m\u001b[0m\n\u001b[0;32m---> 11\u001b[0;31m     \u001b[0;32mreturn\u001b[0m \u001b[0mG\u001b[0m\u001b[0;34m(\u001b[0m\u001b[0mn\u001b[0m\u001b[0;34m-\u001b[0m\u001b[0;36m1\u001b[0m\u001b[0;34m)\u001b[0m \u001b[0;34m-\u001b[0m \u001b[0mF\u001b[0m\u001b[0;34m(\u001b[0m\u001b[0mn\u001b[0m\u001b[0;34m-\u001b[0m\u001b[0;36m1\u001b[0m\u001b[0;34m)\u001b[0m\u001b[0;34m\u001b[0m\u001b[0;34m\u001b[0m\u001b[0m\n\u001b[0m\u001b[1;32m     12\u001b[0m \u001b[0;34m\u001b[0m\u001b[0m\n\u001b[1;32m     13\u001b[0m \u001b[0mprint\u001b[0m\u001b[0;34m(\u001b[0m\u001b[0mG\u001b[0m\u001b[0;34m(\u001b[0m\u001b[0;36m34\u001b[0m\u001b[0;34m)\u001b[0m\u001b[0;34m)\u001b[0m\u001b[0;34m\u001b[0m\u001b[0;34m\u001b[0m\u001b[0m\n",
            "\u001b[0;32m<ipython-input-9-6e928990425e>\u001b[0m in \u001b[0;36mF\u001b[0;34m(n)\u001b[0m\n\u001b[1;32m      3\u001b[0m     \u001b[0;32mreturn\u001b[0m \u001b[0;36m1\u001b[0m\u001b[0;34m\u001b[0m\u001b[0;34m\u001b[0m\u001b[0m\n\u001b[1;32m      4\u001b[0m   \u001b[0;32mif\u001b[0m \u001b[0mn\u001b[0m \u001b[0;34m>\u001b[0m \u001b[0;36m1\u001b[0m\u001b[0;34m:\u001b[0m\u001b[0;34m\u001b[0m\u001b[0;34m\u001b[0m\u001b[0m\n\u001b[0;32m----> 5\u001b[0;31m     \u001b[0;32mreturn\u001b[0m \u001b[0mF\u001b[0m\u001b[0;34m(\u001b[0m\u001b[0mn\u001b[0m\u001b[0;34m-\u001b[0m\u001b[0;36m1\u001b[0m\u001b[0;34m)\u001b[0m \u001b[0;34m-\u001b[0m \u001b[0mG\u001b[0m\u001b[0;34m(\u001b[0m\u001b[0mn\u001b[0m\u001b[0;34m-\u001b[0m\u001b[0;36m1\u001b[0m\u001b[0;34m)\u001b[0m\u001b[0;34m\u001b[0m\u001b[0;34m\u001b[0m\u001b[0m\n\u001b[0m\u001b[1;32m      6\u001b[0m \u001b[0;34m\u001b[0m\u001b[0m\n\u001b[1;32m      7\u001b[0m \u001b[0;32mdef\u001b[0m \u001b[0mG\u001b[0m\u001b[0;34m(\u001b[0m\u001b[0mn\u001b[0m\u001b[0;34m)\u001b[0m\u001b[0;34m:\u001b[0m\u001b[0;34m\u001b[0m\u001b[0;34m\u001b[0m\u001b[0m\n",
            "\u001b[0;32m<ipython-input-9-6e928990425e>\u001b[0m in \u001b[0;36mG\u001b[0;34m(n)\u001b[0m\n\u001b[1;32m      9\u001b[0m     \u001b[0;32mreturn\u001b[0m \u001b[0;36m0\u001b[0m\u001b[0;34m\u001b[0m\u001b[0;34m\u001b[0m\u001b[0m\n\u001b[1;32m     10\u001b[0m   \u001b[0;32mif\u001b[0m \u001b[0mn\u001b[0m \u001b[0;34m>\u001b[0m \u001b[0;36m1\u001b[0m\u001b[0;34m:\u001b[0m\u001b[0;34m\u001b[0m\u001b[0;34m\u001b[0m\u001b[0m\n\u001b[0;32m---> 11\u001b[0;31m     \u001b[0;32mreturn\u001b[0m \u001b[0mG\u001b[0m\u001b[0;34m(\u001b[0m\u001b[0mn\u001b[0m\u001b[0;34m-\u001b[0m\u001b[0;36m1\u001b[0m\u001b[0;34m)\u001b[0m \u001b[0;34m-\u001b[0m \u001b[0mF\u001b[0m\u001b[0;34m(\u001b[0m\u001b[0mn\u001b[0m\u001b[0;34m-\u001b[0m\u001b[0;36m1\u001b[0m\u001b[0;34m)\u001b[0m\u001b[0;34m\u001b[0m\u001b[0;34m\u001b[0m\u001b[0m\n\u001b[0m\u001b[1;32m     12\u001b[0m \u001b[0;34m\u001b[0m\u001b[0m\n\u001b[1;32m     13\u001b[0m \u001b[0mprint\u001b[0m\u001b[0;34m(\u001b[0m\u001b[0mG\u001b[0m\u001b[0;34m(\u001b[0m\u001b[0;36m34\u001b[0m\u001b[0;34m)\u001b[0m\u001b[0;34m)\u001b[0m\u001b[0;34m\u001b[0m\u001b[0;34m\u001b[0m\u001b[0m\n",
            "\u001b[0;32m<ipython-input-9-6e928990425e>\u001b[0m in \u001b[0;36mG\u001b[0;34m(n)\u001b[0m\n\u001b[1;32m      9\u001b[0m     \u001b[0;32mreturn\u001b[0m \u001b[0;36m0\u001b[0m\u001b[0;34m\u001b[0m\u001b[0;34m\u001b[0m\u001b[0m\n\u001b[1;32m     10\u001b[0m   \u001b[0;32mif\u001b[0m \u001b[0mn\u001b[0m \u001b[0;34m>\u001b[0m \u001b[0;36m1\u001b[0m\u001b[0;34m:\u001b[0m\u001b[0;34m\u001b[0m\u001b[0;34m\u001b[0m\u001b[0m\n\u001b[0;32m---> 11\u001b[0;31m     \u001b[0;32mreturn\u001b[0m \u001b[0mG\u001b[0m\u001b[0;34m(\u001b[0m\u001b[0mn\u001b[0m\u001b[0;34m-\u001b[0m\u001b[0;36m1\u001b[0m\u001b[0;34m)\u001b[0m \u001b[0;34m-\u001b[0m \u001b[0mF\u001b[0m\u001b[0;34m(\u001b[0m\u001b[0mn\u001b[0m\u001b[0;34m-\u001b[0m\u001b[0;36m1\u001b[0m\u001b[0;34m)\u001b[0m\u001b[0;34m\u001b[0m\u001b[0;34m\u001b[0m\u001b[0m\n\u001b[0m\u001b[1;32m     12\u001b[0m \u001b[0;34m\u001b[0m\u001b[0m\n\u001b[1;32m     13\u001b[0m \u001b[0mprint\u001b[0m\u001b[0;34m(\u001b[0m\u001b[0mG\u001b[0m\u001b[0;34m(\u001b[0m\u001b[0;36m34\u001b[0m\u001b[0;34m)\u001b[0m\u001b[0;34m)\u001b[0m\u001b[0;34m\u001b[0m\u001b[0;34m\u001b[0m\u001b[0m\n",
            "\u001b[0;32m<ipython-input-9-6e928990425e>\u001b[0m in \u001b[0;36mF\u001b[0;34m(n)\u001b[0m\n\u001b[1;32m      3\u001b[0m     \u001b[0;32mreturn\u001b[0m \u001b[0;36m1\u001b[0m\u001b[0;34m\u001b[0m\u001b[0;34m\u001b[0m\u001b[0m\n\u001b[1;32m      4\u001b[0m   \u001b[0;32mif\u001b[0m \u001b[0mn\u001b[0m \u001b[0;34m>\u001b[0m \u001b[0;36m1\u001b[0m\u001b[0;34m:\u001b[0m\u001b[0;34m\u001b[0m\u001b[0;34m\u001b[0m\u001b[0m\n\u001b[0;32m----> 5\u001b[0;31m     \u001b[0;32mreturn\u001b[0m \u001b[0mF\u001b[0m\u001b[0;34m(\u001b[0m\u001b[0mn\u001b[0m\u001b[0;34m-\u001b[0m\u001b[0;36m1\u001b[0m\u001b[0;34m)\u001b[0m \u001b[0;34m-\u001b[0m \u001b[0mG\u001b[0m\u001b[0;34m(\u001b[0m\u001b[0mn\u001b[0m\u001b[0;34m-\u001b[0m\u001b[0;36m1\u001b[0m\u001b[0;34m)\u001b[0m\u001b[0;34m\u001b[0m\u001b[0;34m\u001b[0m\u001b[0m\n\u001b[0m\u001b[1;32m      6\u001b[0m \u001b[0;34m\u001b[0m\u001b[0m\n\u001b[1;32m      7\u001b[0m \u001b[0;32mdef\u001b[0m \u001b[0mG\u001b[0m\u001b[0;34m(\u001b[0m\u001b[0mn\u001b[0m\u001b[0;34m)\u001b[0m\u001b[0;34m:\u001b[0m\u001b[0;34m\u001b[0m\u001b[0;34m\u001b[0m\u001b[0m\n",
            "\u001b[0;32m<ipython-input-9-6e928990425e>\u001b[0m in \u001b[0;36mF\u001b[0;34m(n)\u001b[0m\n\u001b[1;32m      3\u001b[0m     \u001b[0;32mreturn\u001b[0m \u001b[0;36m1\u001b[0m\u001b[0;34m\u001b[0m\u001b[0;34m\u001b[0m\u001b[0m\n\u001b[1;32m      4\u001b[0m   \u001b[0;32mif\u001b[0m \u001b[0mn\u001b[0m \u001b[0;34m>\u001b[0m \u001b[0;36m1\u001b[0m\u001b[0;34m:\u001b[0m\u001b[0;34m\u001b[0m\u001b[0;34m\u001b[0m\u001b[0m\n\u001b[0;32m----> 5\u001b[0;31m     \u001b[0;32mreturn\u001b[0m \u001b[0mF\u001b[0m\u001b[0;34m(\u001b[0m\u001b[0mn\u001b[0m\u001b[0;34m-\u001b[0m\u001b[0;36m1\u001b[0m\u001b[0;34m)\u001b[0m \u001b[0;34m-\u001b[0m \u001b[0mG\u001b[0m\u001b[0;34m(\u001b[0m\u001b[0mn\u001b[0m\u001b[0;34m-\u001b[0m\u001b[0;36m1\u001b[0m\u001b[0;34m)\u001b[0m\u001b[0;34m\u001b[0m\u001b[0;34m\u001b[0m\u001b[0m\n\u001b[0m\u001b[1;32m      6\u001b[0m \u001b[0;34m\u001b[0m\u001b[0m\n\u001b[1;32m      7\u001b[0m \u001b[0;32mdef\u001b[0m \u001b[0mG\u001b[0m\u001b[0;34m(\u001b[0m\u001b[0mn\u001b[0m\u001b[0;34m)\u001b[0m\u001b[0;34m:\u001b[0m\u001b[0;34m\u001b[0m\u001b[0;34m\u001b[0m\u001b[0m\n",
            "\u001b[0;32m<ipython-input-9-6e928990425e>\u001b[0m in \u001b[0;36mG\u001b[0;34m(n)\u001b[0m\n\u001b[1;32m      9\u001b[0m     \u001b[0;32mreturn\u001b[0m \u001b[0;36m0\u001b[0m\u001b[0;34m\u001b[0m\u001b[0;34m\u001b[0m\u001b[0m\n\u001b[1;32m     10\u001b[0m   \u001b[0;32mif\u001b[0m \u001b[0mn\u001b[0m \u001b[0;34m>\u001b[0m \u001b[0;36m1\u001b[0m\u001b[0;34m:\u001b[0m\u001b[0;34m\u001b[0m\u001b[0;34m\u001b[0m\u001b[0m\n\u001b[0;32m---> 11\u001b[0;31m     \u001b[0;32mreturn\u001b[0m \u001b[0mG\u001b[0m\u001b[0;34m(\u001b[0m\u001b[0mn\u001b[0m\u001b[0;34m-\u001b[0m\u001b[0;36m1\u001b[0m\u001b[0;34m)\u001b[0m \u001b[0;34m-\u001b[0m \u001b[0mF\u001b[0m\u001b[0;34m(\u001b[0m\u001b[0mn\u001b[0m\u001b[0;34m-\u001b[0m\u001b[0;36m1\u001b[0m\u001b[0;34m)\u001b[0m\u001b[0;34m\u001b[0m\u001b[0;34m\u001b[0m\u001b[0m\n\u001b[0m\u001b[1;32m     12\u001b[0m \u001b[0;34m\u001b[0m\u001b[0m\n\u001b[1;32m     13\u001b[0m \u001b[0mprint\u001b[0m\u001b[0;34m(\u001b[0m\u001b[0mG\u001b[0m\u001b[0;34m(\u001b[0m\u001b[0;36m34\u001b[0m\u001b[0;34m)\u001b[0m\u001b[0;34m)\u001b[0m\u001b[0;34m\u001b[0m\u001b[0;34m\u001b[0m\u001b[0m\n",
            "\u001b[0;32m<ipython-input-9-6e928990425e>\u001b[0m in \u001b[0;36mF\u001b[0;34m(n)\u001b[0m\n\u001b[1;32m      3\u001b[0m     \u001b[0;32mreturn\u001b[0m \u001b[0;36m1\u001b[0m\u001b[0;34m\u001b[0m\u001b[0;34m\u001b[0m\u001b[0m\n\u001b[1;32m      4\u001b[0m   \u001b[0;32mif\u001b[0m \u001b[0mn\u001b[0m \u001b[0;34m>\u001b[0m \u001b[0;36m1\u001b[0m\u001b[0;34m:\u001b[0m\u001b[0;34m\u001b[0m\u001b[0;34m\u001b[0m\u001b[0m\n\u001b[0;32m----> 5\u001b[0;31m     \u001b[0;32mreturn\u001b[0m \u001b[0mF\u001b[0m\u001b[0;34m(\u001b[0m\u001b[0mn\u001b[0m\u001b[0;34m-\u001b[0m\u001b[0;36m1\u001b[0m\u001b[0;34m)\u001b[0m \u001b[0;34m-\u001b[0m \u001b[0mG\u001b[0m\u001b[0;34m(\u001b[0m\u001b[0mn\u001b[0m\u001b[0;34m-\u001b[0m\u001b[0;36m1\u001b[0m\u001b[0;34m)\u001b[0m\u001b[0;34m\u001b[0m\u001b[0;34m\u001b[0m\u001b[0m\n\u001b[0m\u001b[1;32m      6\u001b[0m \u001b[0;34m\u001b[0m\u001b[0m\n\u001b[1;32m      7\u001b[0m \u001b[0;32mdef\u001b[0m \u001b[0mG\u001b[0m\u001b[0;34m(\u001b[0m\u001b[0mn\u001b[0m\u001b[0;34m)\u001b[0m\u001b[0;34m:\u001b[0m\u001b[0;34m\u001b[0m\u001b[0;34m\u001b[0m\u001b[0m\n",
            "\u001b[0;32m<ipython-input-9-6e928990425e>\u001b[0m in \u001b[0;36mF\u001b[0;34m(n)\u001b[0m\n\u001b[1;32m      3\u001b[0m     \u001b[0;32mreturn\u001b[0m \u001b[0;36m1\u001b[0m\u001b[0;34m\u001b[0m\u001b[0;34m\u001b[0m\u001b[0m\n\u001b[1;32m      4\u001b[0m   \u001b[0;32mif\u001b[0m \u001b[0mn\u001b[0m \u001b[0;34m>\u001b[0m \u001b[0;36m1\u001b[0m\u001b[0;34m:\u001b[0m\u001b[0;34m\u001b[0m\u001b[0;34m\u001b[0m\u001b[0m\n\u001b[0;32m----> 5\u001b[0;31m     \u001b[0;32mreturn\u001b[0m \u001b[0mF\u001b[0m\u001b[0;34m(\u001b[0m\u001b[0mn\u001b[0m\u001b[0;34m-\u001b[0m\u001b[0;36m1\u001b[0m\u001b[0;34m)\u001b[0m \u001b[0;34m-\u001b[0m \u001b[0mG\u001b[0m\u001b[0;34m(\u001b[0m\u001b[0mn\u001b[0m\u001b[0;34m-\u001b[0m\u001b[0;36m1\u001b[0m\u001b[0;34m)\u001b[0m\u001b[0;34m\u001b[0m\u001b[0;34m\u001b[0m\u001b[0m\n\u001b[0m\u001b[1;32m      6\u001b[0m \u001b[0;34m\u001b[0m\u001b[0m\n\u001b[1;32m      7\u001b[0m \u001b[0;32mdef\u001b[0m \u001b[0mG\u001b[0m\u001b[0;34m(\u001b[0m\u001b[0mn\u001b[0m\u001b[0;34m)\u001b[0m\u001b[0;34m:\u001b[0m\u001b[0;34m\u001b[0m\u001b[0;34m\u001b[0m\u001b[0m\n",
            "\u001b[0;32m<ipython-input-9-6e928990425e>\u001b[0m in \u001b[0;36mF\u001b[0;34m(n)\u001b[0m\n\u001b[1;32m      3\u001b[0m     \u001b[0;32mreturn\u001b[0m \u001b[0;36m1\u001b[0m\u001b[0;34m\u001b[0m\u001b[0;34m\u001b[0m\u001b[0m\n\u001b[1;32m      4\u001b[0m   \u001b[0;32mif\u001b[0m \u001b[0mn\u001b[0m \u001b[0;34m>\u001b[0m \u001b[0;36m1\u001b[0m\u001b[0;34m:\u001b[0m\u001b[0;34m\u001b[0m\u001b[0;34m\u001b[0m\u001b[0m\n\u001b[0;32m----> 5\u001b[0;31m     \u001b[0;32mreturn\u001b[0m \u001b[0mF\u001b[0m\u001b[0;34m(\u001b[0m\u001b[0mn\u001b[0m\u001b[0;34m-\u001b[0m\u001b[0;36m1\u001b[0m\u001b[0;34m)\u001b[0m \u001b[0;34m-\u001b[0m \u001b[0mG\u001b[0m\u001b[0;34m(\u001b[0m\u001b[0mn\u001b[0m\u001b[0;34m-\u001b[0m\u001b[0;36m1\u001b[0m\u001b[0;34m)\u001b[0m\u001b[0;34m\u001b[0m\u001b[0;34m\u001b[0m\u001b[0m\n\u001b[0m\u001b[1;32m      6\u001b[0m \u001b[0;34m\u001b[0m\u001b[0m\n\u001b[1;32m      7\u001b[0m \u001b[0;32mdef\u001b[0m \u001b[0mG\u001b[0m\u001b[0;34m(\u001b[0m\u001b[0mn\u001b[0m\u001b[0;34m)\u001b[0m\u001b[0;34m:\u001b[0m\u001b[0;34m\u001b[0m\u001b[0;34m\u001b[0m\u001b[0m\n",
            "\u001b[0;32m<ipython-input-9-6e928990425e>\u001b[0m in \u001b[0;36mG\u001b[0;34m(n)\u001b[0m\n\u001b[1;32m      9\u001b[0m     \u001b[0;32mreturn\u001b[0m \u001b[0;36m0\u001b[0m\u001b[0;34m\u001b[0m\u001b[0;34m\u001b[0m\u001b[0m\n\u001b[1;32m     10\u001b[0m   \u001b[0;32mif\u001b[0m \u001b[0mn\u001b[0m \u001b[0;34m>\u001b[0m \u001b[0;36m1\u001b[0m\u001b[0;34m:\u001b[0m\u001b[0;34m\u001b[0m\u001b[0;34m\u001b[0m\u001b[0m\n\u001b[0;32m---> 11\u001b[0;31m     \u001b[0;32mreturn\u001b[0m \u001b[0mG\u001b[0m\u001b[0;34m(\u001b[0m\u001b[0mn\u001b[0m\u001b[0;34m-\u001b[0m\u001b[0;36m1\u001b[0m\u001b[0;34m)\u001b[0m \u001b[0;34m-\u001b[0m \u001b[0mF\u001b[0m\u001b[0;34m(\u001b[0m\u001b[0mn\u001b[0m\u001b[0;34m-\u001b[0m\u001b[0;36m1\u001b[0m\u001b[0;34m)\u001b[0m\u001b[0;34m\u001b[0m\u001b[0;34m\u001b[0m\u001b[0m\n\u001b[0m\u001b[1;32m     12\u001b[0m \u001b[0;34m\u001b[0m\u001b[0m\n\u001b[1;32m     13\u001b[0m \u001b[0mprint\u001b[0m\u001b[0;34m(\u001b[0m\u001b[0mG\u001b[0m\u001b[0;34m(\u001b[0m\u001b[0;36m34\u001b[0m\u001b[0;34m)\u001b[0m\u001b[0;34m)\u001b[0m\u001b[0;34m\u001b[0m\u001b[0;34m\u001b[0m\u001b[0m\n",
            "\u001b[0;32m<ipython-input-9-6e928990425e>\u001b[0m in \u001b[0;36mG\u001b[0;34m(n)\u001b[0m\n\u001b[1;32m      9\u001b[0m     \u001b[0;32mreturn\u001b[0m \u001b[0;36m0\u001b[0m\u001b[0;34m\u001b[0m\u001b[0;34m\u001b[0m\u001b[0m\n\u001b[1;32m     10\u001b[0m   \u001b[0;32mif\u001b[0m \u001b[0mn\u001b[0m \u001b[0;34m>\u001b[0m \u001b[0;36m1\u001b[0m\u001b[0;34m:\u001b[0m\u001b[0;34m\u001b[0m\u001b[0;34m\u001b[0m\u001b[0m\n\u001b[0;32m---> 11\u001b[0;31m     \u001b[0;32mreturn\u001b[0m \u001b[0mG\u001b[0m\u001b[0;34m(\u001b[0m\u001b[0mn\u001b[0m\u001b[0;34m-\u001b[0m\u001b[0;36m1\u001b[0m\u001b[0;34m)\u001b[0m \u001b[0;34m-\u001b[0m \u001b[0mF\u001b[0m\u001b[0;34m(\u001b[0m\u001b[0mn\u001b[0m\u001b[0;34m-\u001b[0m\u001b[0;36m1\u001b[0m\u001b[0;34m)\u001b[0m\u001b[0;34m\u001b[0m\u001b[0;34m\u001b[0m\u001b[0m\n\u001b[0m\u001b[1;32m     12\u001b[0m \u001b[0;34m\u001b[0m\u001b[0m\n\u001b[1;32m     13\u001b[0m \u001b[0mprint\u001b[0m\u001b[0;34m(\u001b[0m\u001b[0mG\u001b[0m\u001b[0;34m(\u001b[0m\u001b[0;36m34\u001b[0m\u001b[0;34m)\u001b[0m\u001b[0;34m)\u001b[0m\u001b[0;34m\u001b[0m\u001b[0;34m\u001b[0m\u001b[0m\n",
            "\u001b[0;32m<ipython-input-9-6e928990425e>\u001b[0m in \u001b[0;36mF\u001b[0;34m(n)\u001b[0m\n\u001b[1;32m      3\u001b[0m     \u001b[0;32mreturn\u001b[0m \u001b[0;36m1\u001b[0m\u001b[0;34m\u001b[0m\u001b[0;34m\u001b[0m\u001b[0m\n\u001b[1;32m      4\u001b[0m   \u001b[0;32mif\u001b[0m \u001b[0mn\u001b[0m \u001b[0;34m>\u001b[0m \u001b[0;36m1\u001b[0m\u001b[0;34m:\u001b[0m\u001b[0;34m\u001b[0m\u001b[0;34m\u001b[0m\u001b[0m\n\u001b[0;32m----> 5\u001b[0;31m     \u001b[0;32mreturn\u001b[0m \u001b[0mF\u001b[0m\u001b[0;34m(\u001b[0m\u001b[0mn\u001b[0m\u001b[0;34m-\u001b[0m\u001b[0;36m1\u001b[0m\u001b[0;34m)\u001b[0m \u001b[0;34m-\u001b[0m \u001b[0mG\u001b[0m\u001b[0;34m(\u001b[0m\u001b[0mn\u001b[0m\u001b[0;34m-\u001b[0m\u001b[0;36m1\u001b[0m\u001b[0;34m)\u001b[0m\u001b[0;34m\u001b[0m\u001b[0;34m\u001b[0m\u001b[0m\n\u001b[0m\u001b[1;32m      6\u001b[0m \u001b[0;34m\u001b[0m\u001b[0m\n\u001b[1;32m      7\u001b[0m \u001b[0;32mdef\u001b[0m \u001b[0mG\u001b[0m\u001b[0;34m(\u001b[0m\u001b[0mn\u001b[0m\u001b[0;34m)\u001b[0m\u001b[0;34m:\u001b[0m\u001b[0;34m\u001b[0m\u001b[0;34m\u001b[0m\u001b[0m\n",
            "\u001b[0;32m<ipython-input-9-6e928990425e>\u001b[0m in \u001b[0;36mG\u001b[0;34m(n)\u001b[0m\n\u001b[1;32m      9\u001b[0m     \u001b[0;32mreturn\u001b[0m \u001b[0;36m0\u001b[0m\u001b[0;34m\u001b[0m\u001b[0;34m\u001b[0m\u001b[0m\n\u001b[1;32m     10\u001b[0m   \u001b[0;32mif\u001b[0m \u001b[0mn\u001b[0m \u001b[0;34m>\u001b[0m \u001b[0;36m1\u001b[0m\u001b[0;34m:\u001b[0m\u001b[0;34m\u001b[0m\u001b[0;34m\u001b[0m\u001b[0m\n\u001b[0;32m---> 11\u001b[0;31m     \u001b[0;32mreturn\u001b[0m \u001b[0mG\u001b[0m\u001b[0;34m(\u001b[0m\u001b[0mn\u001b[0m\u001b[0;34m-\u001b[0m\u001b[0;36m1\u001b[0m\u001b[0;34m)\u001b[0m \u001b[0;34m-\u001b[0m \u001b[0mF\u001b[0m\u001b[0;34m(\u001b[0m\u001b[0mn\u001b[0m\u001b[0;34m-\u001b[0m\u001b[0;36m1\u001b[0m\u001b[0;34m)\u001b[0m\u001b[0;34m\u001b[0m\u001b[0;34m\u001b[0m\u001b[0m\n\u001b[0m\u001b[1;32m     12\u001b[0m \u001b[0;34m\u001b[0m\u001b[0m\n\u001b[1;32m     13\u001b[0m \u001b[0mprint\u001b[0m\u001b[0;34m(\u001b[0m\u001b[0mG\u001b[0m\u001b[0;34m(\u001b[0m\u001b[0;36m34\u001b[0m\u001b[0;34m)\u001b[0m\u001b[0;34m)\u001b[0m\u001b[0;34m\u001b[0m\u001b[0;34m\u001b[0m\u001b[0m\n",
            "\u001b[0;32m<ipython-input-9-6e928990425e>\u001b[0m in \u001b[0;36mF\u001b[0;34m(n)\u001b[0m\n\u001b[1;32m      3\u001b[0m     \u001b[0;32mreturn\u001b[0m \u001b[0;36m1\u001b[0m\u001b[0;34m\u001b[0m\u001b[0;34m\u001b[0m\u001b[0m\n\u001b[1;32m      4\u001b[0m   \u001b[0;32mif\u001b[0m \u001b[0mn\u001b[0m \u001b[0;34m>\u001b[0m \u001b[0;36m1\u001b[0m\u001b[0;34m:\u001b[0m\u001b[0;34m\u001b[0m\u001b[0;34m\u001b[0m\u001b[0m\n\u001b[0;32m----> 5\u001b[0;31m     \u001b[0;32mreturn\u001b[0m \u001b[0mF\u001b[0m\u001b[0;34m(\u001b[0m\u001b[0mn\u001b[0m\u001b[0;34m-\u001b[0m\u001b[0;36m1\u001b[0m\u001b[0;34m)\u001b[0m \u001b[0;34m-\u001b[0m \u001b[0mG\u001b[0m\u001b[0;34m(\u001b[0m\u001b[0mn\u001b[0m\u001b[0;34m-\u001b[0m\u001b[0;36m1\u001b[0m\u001b[0;34m)\u001b[0m\u001b[0;34m\u001b[0m\u001b[0;34m\u001b[0m\u001b[0m\n\u001b[0m\u001b[1;32m      6\u001b[0m \u001b[0;34m\u001b[0m\u001b[0m\n\u001b[1;32m      7\u001b[0m \u001b[0;32mdef\u001b[0m \u001b[0mG\u001b[0m\u001b[0;34m(\u001b[0m\u001b[0mn\u001b[0m\u001b[0;34m)\u001b[0m\u001b[0;34m:\u001b[0m\u001b[0;34m\u001b[0m\u001b[0;34m\u001b[0m\u001b[0m\n",
            "\u001b[0;32m<ipython-input-9-6e928990425e>\u001b[0m in \u001b[0;36mG\u001b[0;34m(n)\u001b[0m\n\u001b[1;32m      9\u001b[0m     \u001b[0;32mreturn\u001b[0m \u001b[0;36m0\u001b[0m\u001b[0;34m\u001b[0m\u001b[0;34m\u001b[0m\u001b[0m\n\u001b[1;32m     10\u001b[0m   \u001b[0;32mif\u001b[0m \u001b[0mn\u001b[0m \u001b[0;34m>\u001b[0m \u001b[0;36m1\u001b[0m\u001b[0;34m:\u001b[0m\u001b[0;34m\u001b[0m\u001b[0;34m\u001b[0m\u001b[0m\n\u001b[0;32m---> 11\u001b[0;31m     \u001b[0;32mreturn\u001b[0m \u001b[0mG\u001b[0m\u001b[0;34m(\u001b[0m\u001b[0mn\u001b[0m\u001b[0;34m-\u001b[0m\u001b[0;36m1\u001b[0m\u001b[0;34m)\u001b[0m \u001b[0;34m-\u001b[0m \u001b[0mF\u001b[0m\u001b[0;34m(\u001b[0m\u001b[0mn\u001b[0m\u001b[0;34m-\u001b[0m\u001b[0;36m1\u001b[0m\u001b[0;34m)\u001b[0m\u001b[0;34m\u001b[0m\u001b[0;34m\u001b[0m\u001b[0m\n\u001b[0m\u001b[1;32m     12\u001b[0m \u001b[0;34m\u001b[0m\u001b[0m\n\u001b[1;32m     13\u001b[0m \u001b[0mprint\u001b[0m\u001b[0;34m(\u001b[0m\u001b[0mG\u001b[0m\u001b[0;34m(\u001b[0m\u001b[0;36m34\u001b[0m\u001b[0;34m)\u001b[0m\u001b[0;34m)\u001b[0m\u001b[0;34m\u001b[0m\u001b[0;34m\u001b[0m\u001b[0m\n",
            "\u001b[0;32m<ipython-input-9-6e928990425e>\u001b[0m in \u001b[0;36mG\u001b[0;34m(n)\u001b[0m\n\u001b[1;32m      9\u001b[0m     \u001b[0;32mreturn\u001b[0m \u001b[0;36m0\u001b[0m\u001b[0;34m\u001b[0m\u001b[0;34m\u001b[0m\u001b[0m\n\u001b[1;32m     10\u001b[0m   \u001b[0;32mif\u001b[0m \u001b[0mn\u001b[0m \u001b[0;34m>\u001b[0m \u001b[0;36m1\u001b[0m\u001b[0;34m:\u001b[0m\u001b[0;34m\u001b[0m\u001b[0;34m\u001b[0m\u001b[0m\n\u001b[0;32m---> 11\u001b[0;31m     \u001b[0;32mreturn\u001b[0m \u001b[0mG\u001b[0m\u001b[0;34m(\u001b[0m\u001b[0mn\u001b[0m\u001b[0;34m-\u001b[0m\u001b[0;36m1\u001b[0m\u001b[0;34m)\u001b[0m \u001b[0;34m-\u001b[0m \u001b[0mF\u001b[0m\u001b[0;34m(\u001b[0m\u001b[0mn\u001b[0m\u001b[0;34m-\u001b[0m\u001b[0;36m1\u001b[0m\u001b[0;34m)\u001b[0m\u001b[0;34m\u001b[0m\u001b[0;34m\u001b[0m\u001b[0m\n\u001b[0m\u001b[1;32m     12\u001b[0m \u001b[0;34m\u001b[0m\u001b[0m\n\u001b[1;32m     13\u001b[0m \u001b[0mprint\u001b[0m\u001b[0;34m(\u001b[0m\u001b[0mG\u001b[0m\u001b[0;34m(\u001b[0m\u001b[0;36m34\u001b[0m\u001b[0;34m)\u001b[0m\u001b[0;34m)\u001b[0m\u001b[0;34m\u001b[0m\u001b[0;34m\u001b[0m\u001b[0m\n",
            "\u001b[0;32m<ipython-input-9-6e928990425e>\u001b[0m in \u001b[0;36mG\u001b[0;34m(n)\u001b[0m\n\u001b[1;32m      9\u001b[0m     \u001b[0;32mreturn\u001b[0m \u001b[0;36m0\u001b[0m\u001b[0;34m\u001b[0m\u001b[0;34m\u001b[0m\u001b[0m\n\u001b[1;32m     10\u001b[0m   \u001b[0;32mif\u001b[0m \u001b[0mn\u001b[0m \u001b[0;34m>\u001b[0m \u001b[0;36m1\u001b[0m\u001b[0;34m:\u001b[0m\u001b[0;34m\u001b[0m\u001b[0;34m\u001b[0m\u001b[0m\n\u001b[0;32m---> 11\u001b[0;31m     \u001b[0;32mreturn\u001b[0m \u001b[0mG\u001b[0m\u001b[0;34m(\u001b[0m\u001b[0mn\u001b[0m\u001b[0;34m-\u001b[0m\u001b[0;36m1\u001b[0m\u001b[0;34m)\u001b[0m \u001b[0;34m-\u001b[0m \u001b[0mF\u001b[0m\u001b[0;34m(\u001b[0m\u001b[0mn\u001b[0m\u001b[0;34m-\u001b[0m\u001b[0;36m1\u001b[0m\u001b[0;34m)\u001b[0m\u001b[0;34m\u001b[0m\u001b[0;34m\u001b[0m\u001b[0m\n\u001b[0m\u001b[1;32m     12\u001b[0m \u001b[0;34m\u001b[0m\u001b[0m\n\u001b[1;32m     13\u001b[0m \u001b[0mprint\u001b[0m\u001b[0;34m(\u001b[0m\u001b[0mG\u001b[0m\u001b[0;34m(\u001b[0m\u001b[0;36m34\u001b[0m\u001b[0;34m)\u001b[0m\u001b[0;34m)\u001b[0m\u001b[0;34m\u001b[0m\u001b[0;34m\u001b[0m\u001b[0m\n",
            "\u001b[0;32m<ipython-input-9-6e928990425e>\u001b[0m in \u001b[0;36mG\u001b[0;34m(n)\u001b[0m\n\u001b[1;32m      9\u001b[0m     \u001b[0;32mreturn\u001b[0m \u001b[0;36m0\u001b[0m\u001b[0;34m\u001b[0m\u001b[0;34m\u001b[0m\u001b[0m\n\u001b[1;32m     10\u001b[0m   \u001b[0;32mif\u001b[0m \u001b[0mn\u001b[0m \u001b[0;34m>\u001b[0m \u001b[0;36m1\u001b[0m\u001b[0;34m:\u001b[0m\u001b[0;34m\u001b[0m\u001b[0;34m\u001b[0m\u001b[0m\n\u001b[0;32m---> 11\u001b[0;31m     \u001b[0;32mreturn\u001b[0m \u001b[0mG\u001b[0m\u001b[0;34m(\u001b[0m\u001b[0mn\u001b[0m\u001b[0;34m-\u001b[0m\u001b[0;36m1\u001b[0m\u001b[0;34m)\u001b[0m \u001b[0;34m-\u001b[0m \u001b[0mF\u001b[0m\u001b[0;34m(\u001b[0m\u001b[0mn\u001b[0m\u001b[0;34m-\u001b[0m\u001b[0;36m1\u001b[0m\u001b[0;34m)\u001b[0m\u001b[0;34m\u001b[0m\u001b[0;34m\u001b[0m\u001b[0m\n\u001b[0m\u001b[1;32m     12\u001b[0m \u001b[0;34m\u001b[0m\u001b[0m\n\u001b[1;32m     13\u001b[0m \u001b[0mprint\u001b[0m\u001b[0;34m(\u001b[0m\u001b[0mG\u001b[0m\u001b[0;34m(\u001b[0m\u001b[0;36m34\u001b[0m\u001b[0;34m)\u001b[0m\u001b[0;34m)\u001b[0m\u001b[0;34m\u001b[0m\u001b[0;34m\u001b[0m\u001b[0m\n",
            "\u001b[0;32m<ipython-input-9-6e928990425e>\u001b[0m in \u001b[0;36mG\u001b[0;34m(n)\u001b[0m\n\u001b[1;32m      9\u001b[0m     \u001b[0;32mreturn\u001b[0m \u001b[0;36m0\u001b[0m\u001b[0;34m\u001b[0m\u001b[0;34m\u001b[0m\u001b[0m\n\u001b[1;32m     10\u001b[0m   \u001b[0;32mif\u001b[0m \u001b[0mn\u001b[0m \u001b[0;34m>\u001b[0m \u001b[0;36m1\u001b[0m\u001b[0;34m:\u001b[0m\u001b[0;34m\u001b[0m\u001b[0;34m\u001b[0m\u001b[0m\n\u001b[0;32m---> 11\u001b[0;31m     \u001b[0;32mreturn\u001b[0m \u001b[0mG\u001b[0m\u001b[0;34m(\u001b[0m\u001b[0mn\u001b[0m\u001b[0;34m-\u001b[0m\u001b[0;36m1\u001b[0m\u001b[0;34m)\u001b[0m \u001b[0;34m-\u001b[0m \u001b[0mF\u001b[0m\u001b[0;34m(\u001b[0m\u001b[0mn\u001b[0m\u001b[0;34m-\u001b[0m\u001b[0;36m1\u001b[0m\u001b[0;34m)\u001b[0m\u001b[0;34m\u001b[0m\u001b[0;34m\u001b[0m\u001b[0m\n\u001b[0m\u001b[1;32m     12\u001b[0m \u001b[0;34m\u001b[0m\u001b[0m\n\u001b[1;32m     13\u001b[0m \u001b[0mprint\u001b[0m\u001b[0;34m(\u001b[0m\u001b[0mG\u001b[0m\u001b[0;34m(\u001b[0m\u001b[0;36m34\u001b[0m\u001b[0;34m)\u001b[0m\u001b[0;34m)\u001b[0m\u001b[0;34m\u001b[0m\u001b[0;34m\u001b[0m\u001b[0m\n",
            "\u001b[0;31mKeyboardInterrupt\u001b[0m: "
          ]
        }
      ]
    },
    {
      "cell_type": "markdown",
      "source": [
        "**5 задание**"
      ],
      "metadata": {
        "id": "1k-oLHBfdnPg"
      }
    },
    {
      "cell_type": "markdown",
      "source": [
        "На вход алгоритма подаётся натуральное число N. Алгоритм строит по нему новое число R следующим образом.\n",
        "\n",
        "1.  Строится двоичная запись числа N.\n",
        "\n",
        "2.  К этой записи дописываются справа ещё два разряда по следующему правилу:\n",
        "\n",
        "а)  складываются все цифры двоичной записи числа N, и остаток от деления суммы на 2 дописывается в конец числа (справа). Например, запись 11100 преобразуется в запись 111001;\n",
        "\n",
        "б)  над этой записью производятся те же действия  — справа дописывается остаток от деления суммы цифр на 2.\n",
        "\n",
        "Полученная таким образом запись (в ней на два разряда больше, чем в записи исходного числа N) является двоичной записью результирующего числа R.\n",
        "\n",
        "Укажите такое наименьшее число N, для которого результат работы алгоритма больше числа 77. В ответе это число запишите в десятичной системе счисления."
      ],
      "metadata": {
        "id": "1S3GzCD4gcDG"
      }
    },
    {
      "cell_type": "code",
      "source": [
        "def f(s):\n",
        "    summa = 0\n",
        "    for i in range(len(s)):\n",
        "        summa += int(s[i])\n",
        "    return summa\n",
        "for n in range(1, 100):\n",
        "    s = bin(n)[2:]  # перевод в двоичную систему\n",
        "    s = str(s)\n",
        "    s = s + str(f(s) % 2)\n",
        "    s = s + str(f(s) % 2)\n",
        "    r = int(s, 2)  # перевод в десятичную систему\n",
        "    if r > 77:\n",
        "        print(n)\n",
        "        break"
      ],
      "metadata": {
        "colab": {
          "base_uri": "https://localhost:8080/"
        },
        "id": "eM_fPhREdpN6",
        "outputId": "08481501-c64b-4d84-fbb2-6a9193c964c2"
      },
      "execution_count": null,
      "outputs": [
        {
          "output_type": "stream",
          "name": "stdout",
          "text": [
            "19\n"
          ]
        }
      ]
    },
    {
      "cell_type": "code",
      "source": [
        "for n in range(2, 100): # на­чи­на­ем с 2, так как число 1 имеет толь­ко одну цифру\n",
        "    s = bin(n)[2:]  # пе­ре­вод в дво­ич­ную си­сте­му\n",
        "    s = str(s)\n",
        "    s += str(s.count(\"1\") % 2)\n",
        "    s += str(s.count(\"1\") % 2)\n",
        "    r = int(s, 2)  # пе­ре­вод в де­ся­тич­ную си­сте­му\n",
        "    if r > 170:\n",
        "        print(n)\n",
        "        break"
      ],
      "metadata": {
        "id": "z6kzT4Vrgi48",
        "colab": {
          "base_uri": "https://localhost:8080/"
        },
        "outputId": "83e90e11-e036-418f-b69d-6a7ed1297e7a"
      },
      "execution_count": null,
      "outputs": [
        {
          "output_type": "stream",
          "name": "stdout",
          "text": [
            "43\n"
          ]
        }
      ]
    },
    {
      "cell_type": "code",
      "source": [
        "for i in range(1000, 10000):\n",
        "  f = str(i)\n",
        "  s1 = int(f[0]) * int(f[1])\n",
        "  s2 = int(f[2]) * int(f[3])\n",
        "  if s1 > s2:\n",
        "    h = str(s1) + str(s2)\n",
        "  else:\n",
        "    h = str(s2) + str(s1)\n",
        "  if int(h) == 124:\n",
        "    print(i)"
      ],
      "metadata": {
        "id": "LE97SUkyU086"
      },
      "execution_count": null,
      "outputs": []
    },
    {
      "cell_type": "markdown",
      "source": [
        "На вход алгоритма подается натуральное число N. Алгоритм строит по нему новое число R следующим образом.\n",
        "\n",
        "1)  Строится троичная запись числа N.\n",
        "\n",
        "2)  Если N не кратно 3, то остаток от деления на 3 умножается на 5, переводится в троичную запись и дописывается в конец числа.\n",
        "\n",
        "3)  Результат R переводится в десятичную систему счисления и выводится на экран.\n",
        "\n",
        "Укажите минимальное число N, после обработки которого автомат получается число, большее 146."
      ],
      "metadata": {
        "id": "i27xY8ASZ0ku"
      }
    },
    {
      "cell_type": "code",
      "source": [
        "for i in range(1, 100):\n",
        "    n = i\n",
        "    m = 0\n",
        "    r = 0\n",
        "    s = \"\"\n",
        "    t = \"\"\n",
        "    while n > 0: # пе­ре­вод в тро­ич­ную си­сте­му\n",
        "        s += str(n % 3)\n",
        "        n //= 3\n",
        "    s = s[::-1]\n",
        "    if i % 3 != 0:\n",
        "        m = i % 3 * 5\n",
        "        while m > 0:\n",
        "            t += str(m % 3)\n",
        "            m //= 3\n",
        "        t = t[::-1]\n",
        "    s += t\n",
        "    r = int(s,3)\n",
        "    if r > 146:\n",
        "        print(i)\n",
        "        break"
      ],
      "metadata": {
        "colab": {
          "base_uri": "https://localhost:8080/"
        },
        "id": "61QyzJ24YEgx",
        "outputId": "09504a03-53d4-4796-89e3-176af639b733"
      },
      "execution_count": null,
      "outputs": [
        {
          "output_type": "stream",
          "name": "stdout",
          "text": [
            "8\n"
          ]
        }
      ]
    },
    {
      "cell_type": "code",
      "source": [
        "n = 0\n",
        "s = 0\n",
        "while s <= 35:\n",
        "  n += 1\n",
        "  s += 4\n",
        "print(n)"
      ],
      "metadata": {
        "colab": {
          "base_uri": "https://localhost:8080/"
        },
        "id": "C_KAG_oLjbF1",
        "outputId": "13c4b355-450a-458a-b892-bcdd8f82359b"
      },
      "execution_count": null,
      "outputs": [
        {
          "output_type": "stream",
          "name": "stdout",
          "text": [
            "9\n"
          ]
        }
      ]
    },
    {
      "cell_type": "code",
      "source": [
        "ans = []\n",
        "for i in range(0, 1000):\n",
        "  n = bin(i)[2:]\n",
        "  if sum(map(int, str(n))) % 2 == 0:\n",
        "    n1 = '10' + str(n)\n",
        "    n2 = n1[0:-1] + '1'\n",
        "  elif sum(map(int, str(n))) % 2 != 0:\n",
        "    n1 = '1' + str(n)\n",
        "    n2 = n1[0:-2] + '10'\n",
        "\n",
        "  r = int(n2, 2)\n",
        "  if r > 60:\n",
        "    ans.append(r)\n",
        "\n",
        "\n",
        "print(min(ans))\n"
      ],
      "metadata": {
        "colab": {
          "base_uri": "https://localhost:8080/"
        },
        "id": "kX4msg3Ncjdt",
        "outputId": "3e80f787-460a-43a8-e2d0-216432a8046c"
      },
      "execution_count": null,
      "outputs": [
        {
          "output_type": "stream",
          "name": "stdout",
          "text": [
            "62\n"
          ]
        }
      ]
    },
    {
      "cell_type": "code",
      "source": [
        "a = '1110'\n",
        "print(int(a, 2))"
      ],
      "metadata": {
        "colab": {
          "base_uri": "https://localhost:8080/"
        },
        "id": "lMuEhlF-d0jN",
        "outputId": "79d9ab78-121d-455e-e582-15ef54def880"
      },
      "execution_count": null,
      "outputs": [
        {
          "output_type": "stream",
          "name": "stdout",
          "text": [
            "14\n"
          ]
        }
      ]
    },
    {
      "cell_type": "markdown",
      "source": [
        "Прикол задание 27))"
      ],
      "metadata": {
        "id": "zom4eTp88fkK"
      }
    },
    {
      "cell_type": "code",
      "source": [
        "f = open('27-A.txt')\n",
        "s = f.readlines()\n",
        "count = 0\n",
        "for i in range(1, len(s)):\n",
        "    for j in range(i, len(s)):\n",
        "        if (int(s[i]) * int(s[j])) % 1000000 == 0 and i != j and (int(s[i]) * int(s[j])) % 10000000 != 0:\n",
        "            count += 1\n",
        "print(count)"
      ],
      "metadata": {
        "id": "_pe1wvhP8huZ",
        "colab": {
          "base_uri": "https://localhost:8080/"
        },
        "outputId": "5ae8b3dd-15de-4b04-c888-309df5fec6da"
      },
      "execution_count": null,
      "outputs": [
        {
          "output_type": "stream",
          "name": "stdout",
          "text": [
            "89\n"
          ]
        }
      ]
    },
    {
      "cell_type": "markdown",
      "source": [
        "Задание 24"
      ],
      "metadata": {
        "id": "eok63-nPAFrq"
      }
    },
    {
      "cell_type": "code",
      "source": [
        "from collections import Counter\n",
        "l = ''\n",
        "f = open('24.txt').read()\n",
        "for i in range(len(f)-2):\n",
        "    if f[i] == f[i+1]:\n",
        "        l += f[i+2]\n",
        "print(Counter(l).most_common()[0][0])"
      ],
      "metadata": {
        "colab": {
          "base_uri": "https://localhost:8080/"
        },
        "id": "g3VaeqIg-9hK",
        "outputId": "c4d84d82-ed4b-432d-d6a6-17b3f6c3737c"
      },
      "execution_count": null,
      "outputs": [
        {
          "output_type": "stream",
          "name": "stdout",
          "text": [
            "K\n"
          ]
        }
      ]
    },
    {
      "cell_type": "code",
      "source": [
        "h = open('24.txt').read()\n",
        "for i in range(len(f)-2):\n",
        "  if f[i] == 'A' and f[i+1] == 'B':\n",
        "    while"
      ],
      "metadata": {
        "id": "9eonn0XmAUu8"
      },
      "execution_count": null,
      "outputs": []
    },
    {
      "cell_type": "markdown",
      "source": [
        "# 12 задание"
      ],
      "metadata": {
        "id": "luJ1EuomNobK"
      }
    },
    {
      "cell_type": "code",
      "source": [
        "ans = []\n",
        "for n in range(3, 10000):\n",
        "  s = '5'+n*'2'\n",
        "  while '52' in s or '2222' in s or '1122' in s:\n",
        "    if '52' in s:\n",
        "      s = s.replace('52', '11')\n",
        "    elif '2222' in s:\n",
        "      s = s.replace('2222', '5')\n",
        "    elif '1122' in s:\n",
        "      s = s.replace('1122', '25')\n",
        "\n",
        "    if sum(map(int, s)) == 64:\n",
        "      ans.append(n)\n",
        "\n",
        "print(max(ans))"
      ],
      "metadata": {
        "colab": {
          "base_uri": "https://localhost:8080/"
        },
        "id": "-ZcwiiiofT7x",
        "outputId": "4c91b2e6-96e9-40ff-f0b6-6f3d94514fc9"
      },
      "execution_count": null,
      "outputs": [
        {
          "output_type": "stream",
          "name": "stdout",
          "text": [
            "56\n"
          ]
        }
      ]
    },
    {
      "cell_type": "code",
      "source": [
        "for n in range(4, 10000):\n",
        "    s = '1' + '8' * n\n",
        "    while '18' in s or '388' in s or '888' in s:\n",
        "        if '18' in s:\n",
        "            s = s.replace('18', '8', 1)\n",
        "        if '388' in s:\n",
        "            s = s.replace('388', '81', 1)\n",
        "        if '888' in s:\n",
        "            s = s.replace('888', '3', 1)\n",
        "    if s.count(\"1\") == 3:\n",
        "        print(n)\n",
        "        break"
      ],
      "metadata": {
        "id": "J5XUGXjmkjtM"
      },
      "execution_count": null,
      "outputs": []
    },
    {
      "cell_type": "code",
      "source": [
        "limit = 50\n",
        "for x in range(limit):\n",
        "  for y in range(limit):\n",
        "    for z in range(limit):\n",
        "      s = '0' + '1'*x + '2'*y + '3'*z + '0'\n",
        "      while '00' not in s:\n",
        "        s = s.replace('01', '210', 1)\n",
        "        s = s.replace('02', '3101', 1)\n",
        "        s = s.replace('03', '2012', 1)\n",
        "\n",
        "      if (s.count('1') == 111 and s.count('2') == 101 and s.count('3') == 35):\n",
        "        print(x+y+z+2)\n"
      ],
      "metadata": {
        "id": "VhcdMaW0C-GG"
      },
      "execution_count": null,
      "outputs": []
    },
    {
      "cell_type": "code",
      "source": [
        "s = '8' * 58\n",
        "while '2222' in s or '8888' in s:\n",
        "  if '2222' in s:\n",
        "    s = s.replace('2222', '88', 1)\n",
        "  else:\n",
        "    s = s.replace('8888', '22', 1)\n",
        "\n",
        "print(s)"
      ],
      "metadata": {
        "id": "FvWmvoEENxoC"
      },
      "execution_count": null,
      "outputs": []
    },
    {
      "cell_type": "code",
      "source": [
        "for n in range(0, 100):\n",
        "  s = '>' + '1'*37 + '2'*n + '3'*37\n",
        "  while '>1' in s or '>2' in s or '>3' in s:\n",
        "    if '>1' in s:\n",
        "      s = s.replace('>1', '33>', 1)\n",
        "    elif '>2' in s:\n",
        "      s = s.replace('>2', '2>')\n",
        "    elif '>3' in s:\n",
        "      s = s.replace('>3', '1>', 1)\n",
        "\n",
        "  sk = s.count('1') + s.count('2')*2 + s.count('3')*3\n",
        "  if sk % 17 == 0:\n",
        "    print(n)\n"
      ],
      "metadata": {
        "id": "MER88hmnN4tT"
      },
      "execution_count": null,
      "outputs": []
    },
    {
      "cell_type": "code",
      "source": [
        "for n in range(0, 1000):\n",
        "  s = '7' + '1'*(n+1) + '2'*(n+2) + '3'*(n+3)\n",
        "  while '71' in s or '72' in s or '73' in s:\n",
        "    if '71' in s:\n",
        "      s = s.replace('71', '227')\n",
        "    elif '72' in s:\n",
        "      s = s.replace('72', '37')\n",
        "    elif '73' in s:\n",
        "      s = s.replace('73', '17')\n",
        "\n",
        "    if int(s) == 9*n:\n",
        "      print(n)"
      ],
      "metadata": {
        "colab": {
          "base_uri": "https://localhost:8080/",
          "height": 245
        },
        "id": "ADg6F1Nz1fEp",
        "outputId": "ed925eff-ec0a-4c13-8d9f-47c86fb9a592"
      },
      "execution_count": null,
      "outputs": [
        {
          "output_type": "error",
          "ename": "KeyboardInterrupt",
          "evalue": "",
          "traceback": [
            "\u001b[0;31m---------------------------------------------------------------------------\u001b[0m",
            "\u001b[0;31mKeyboardInterrupt\u001b[0m                         Traceback (most recent call last)",
            "\u001b[0;32m<ipython-input-2-8713bab37922>\u001b[0m in \u001b[0;36m<cell line: 1>\u001b[0;34m()\u001b[0m\n\u001b[1;32m      3\u001b[0m   \u001b[0;32mwhile\u001b[0m \u001b[0;34m'71'\u001b[0m \u001b[0;32min\u001b[0m \u001b[0ms\u001b[0m \u001b[0;32mor\u001b[0m \u001b[0;34m'72'\u001b[0m \u001b[0;32min\u001b[0m \u001b[0ms\u001b[0m \u001b[0;32mor\u001b[0m \u001b[0;34m'73'\u001b[0m \u001b[0;32min\u001b[0m \u001b[0ms\u001b[0m\u001b[0;34m:\u001b[0m\u001b[0;34m\u001b[0m\u001b[0;34m\u001b[0m\u001b[0m\n\u001b[1;32m      4\u001b[0m     \u001b[0;32mif\u001b[0m \u001b[0;34m'71'\u001b[0m \u001b[0;32min\u001b[0m \u001b[0ms\u001b[0m\u001b[0;34m:\u001b[0m\u001b[0;34m\u001b[0m\u001b[0;34m\u001b[0m\u001b[0m\n\u001b[0;32m----> 5\u001b[0;31m       \u001b[0ms\u001b[0m \u001b[0;34m=\u001b[0m \u001b[0ms\u001b[0m\u001b[0;34m.\u001b[0m\u001b[0mreplace\u001b[0m\u001b[0;34m(\u001b[0m\u001b[0;34m'71'\u001b[0m\u001b[0;34m,\u001b[0m \u001b[0;34m'227'\u001b[0m\u001b[0;34m)\u001b[0m\u001b[0;34m\u001b[0m\u001b[0;34m\u001b[0m\u001b[0m\n\u001b[0m\u001b[1;32m      6\u001b[0m     \u001b[0;32melif\u001b[0m \u001b[0;34m'72'\u001b[0m \u001b[0;32min\u001b[0m \u001b[0ms\u001b[0m\u001b[0;34m:\u001b[0m\u001b[0;34m\u001b[0m\u001b[0;34m\u001b[0m\u001b[0m\n\u001b[1;32m      7\u001b[0m       \u001b[0ms\u001b[0m \u001b[0;34m=\u001b[0m \u001b[0ms\u001b[0m\u001b[0;34m.\u001b[0m\u001b[0mreplace\u001b[0m\u001b[0;34m(\u001b[0m\u001b[0;34m'72'\u001b[0m\u001b[0;34m,\u001b[0m \u001b[0;34m'37'\u001b[0m\u001b[0;34m)\u001b[0m\u001b[0;34m\u001b[0m\u001b[0;34m\u001b[0m\u001b[0m\n",
            "\u001b[0;31mKeyboardInterrupt\u001b[0m: "
          ]
        }
      ]
    },
    {
      "cell_type": "code",
      "source": [
        "for x in range(50):\n",
        "  for y in range(50):\n",
        "    for z in range(50):\n",
        "      s = '0' + '1'*x + '2'*y + '3'*z + '0'\n",
        "      while '01' in s or '02' in s or '03' in s:\n",
        "        s = s.replace('01', '310', 1)\n",
        "        s = s.replace('02', '1201', 1)\n",
        "        s = s.replace('03', '3022', 1)\n",
        "\n",
        "      if(s.count('1')==59 and s.count('2')==25 and s.count('3')==42 and '0' in s):\n",
        "        print(x)"
      ],
      "metadata": {
        "id": "udeuY4g6N5iS"
      },
      "execution_count": null,
      "outputs": []
    },
    {
      "cell_type": "code",
      "source": [
        "s = '>' + 10*'1' + 20*'2' + 30*'3'\n",
        "while '>1' in s or '>2' in s or '>3' in s:\n",
        "  if '>1' in s:\n",
        "    s = s.replace('>1', '22>', 1)\n",
        "  if '>2' in s:\n",
        "    s = s.replace('>2', '2>', 1)\n",
        "  if '>3' in s:\n",
        "    s = s.replace('>3', '1>', 1)\n",
        "\n",
        "print(sum(int(d) for d in s if d != '>'))"
      ],
      "metadata": {
        "colab": {
          "base_uri": "https://localhost:8080/"
        },
        "id": "jINDIJMSrsT6",
        "outputId": "db0e704a-43a6-40a2-e1ba-eddf3e377c92"
      },
      "execution_count": null,
      "outputs": [
        {
          "output_type": "stream",
          "name": "stdout",
          "text": [
            "110\n"
          ]
        }
      ]
    },
    {
      "cell_type": "markdown",
      "source": [
        "Исполнитель Редактор получает на вход строку цифр и преобразует её. Редактор может выполнять две команды, в обеих командах v и w обозначают цепочки цифр.\n",
        "\n",
        "А)  заменить (v, w).\n",
        "\n",
        "Эта команда заменяет в строке первое слева вхождение цепочки v на цепочку w. Например, выполнение команды\n",
        "\n",
        "заменить (111, 27)\n",
        "\n",
        "преобразует строку 05111150 в строку 0527150.\n",
        "\n",
        "Если в строке нет вхождений цепочки v, то выполнение команды заменить (v, w) не меняет эту строку.\n",
        "\n",
        "Б)  нашлось (v).\n",
        "\n",
        "Эта команда проверяет, встречается ли цепочка v в строке исполнителя Редактор. Если она встречается, то команда возвращает логическое значение «истина», в противном случае возвращает значение «ложь». Строка исполнителя при этом не изменяется.\n",
        "\n",
        "\n",
        "\n",
        "Дана программа для редактора:\n",
        "\n",
        "\n",
        "\n",
        "НАЧАЛО\n",
        "\n",
        "   ПОКА НЕ нашлось (00)\n",
        "\n",
        "      заменить (012, 30)\n",
        "\n",
        "      ЕСЛИ нашлось (011)\n",
        "\n",
        "      ТО\n",
        "\n",
        "          заменить (011, 20)\n",
        "\n",
        "          заменить (022, 40)\n",
        "\n",
        "      ИНАЧЕ\n",
        "\n",
        "          заменить (01, 10)\n",
        "\n",
        "          заменить (02, 101)\n",
        "\n",
        "      КОНЕЦ ЕСЛИ\n",
        "\n",
        "   КОНЕЦ ПОКА\n",
        "\n",
        "КОНЕЦ\n",
        "\n",
        "\n",
        "\n",
        "Известно, что исходная строка A содержала ровно два нуля  — на первом и на последнем месте, а также по 10 единиц и двоек. После выполнения данной программы получилась строка B, содержащая 6 единиц и 5 двоек. Какое наибольшее количество четвёрок может быть в строке B?\n",
        "\n",
        "Спрятать решение\n",
        "Решение."
      ],
      "metadata": {
        "id": "BMB3Z4sEQ0gH"
      }
    },
    {
      "cell_type": "code",
      "source": [
        "from itertools import product\n",
        "b=0\n",
        "for i in product ('12', repeat=20):\n",
        "    s='0'+ ''.join(i) + '0'\n",
        "    if s.count('1') == 10 and s.count('2') == 10:\n",
        "        while not '00' in s:\n",
        "            s = s.replace('012','30')\n",
        "            if '011' in s:\n",
        "                s = s.replace('011','20')\n",
        "                s = s.replace('022','40')\n",
        "            else:\n",
        "                s = s.replace('01','10')\n",
        "                s = s.replace('02','101')\n",
        "        if s.count('1') == 6 and s.count('2') == 5:\n",
        "            b=max(b,s.count('4'))\n",
        "print(b)"
      ],
      "metadata": {
        "colab": {
          "base_uri": "https://localhost:8080/"
        },
        "id": "EbdWhq7zQ-cp",
        "outputId": "a17a6b35-452c-4d5b-cd94-99d970489571"
      },
      "execution_count": null,
      "outputs": [
        {
          "output_type": "stream",
          "name": "stdout",
          "text": [
            "2\n"
          ]
        }
      ]
    },
    {
      "cell_type": "code",
      "source": [
        "b = 0\n",
        "for x in range(50):\n",
        "  for i in range(50):\n",
        "    s = '0' + '1'*x + 2*'y' + '0'\n",
        "    while not '00' in s:\n",
        "      s = s.replace('012', '30', 1)\n",
        "    if '011' in s:\n",
        "      s = s.replace('011', '20', 1)\n",
        "      s = s.replace('022', '40', 1)\n",
        "    else:\n",
        "      s = s.replace('01', '10', 1)\n",
        "      s = s.replace('02', '101', 1)\n",
        "\n",
        "    if(s.count('1') == 6 and s.count('2') == 5):\n",
        "      b = max(b, s.count('4'))\n",
        "\n",
        "print(b)"
      ],
      "metadata": {
        "id": "N0w38xiROEl0"
      },
      "execution_count": null,
      "outputs": []
    },
    {
      "cell_type": "code",
      "source": [
        "ans = []\n",
        "for n in range(4, 10000+1):\n",
        "  s = '1' + n*'2'\n",
        "  while '12' in s or '3322' in s or '2222' in s:\n",
        "    if '12' in s:\n",
        "      s = s.replace('12', '33', 1)\n",
        "    elif '2222' in s:\n",
        "      s = s.replace('2222', '1', 1)\n",
        "    elif '3322' in s:\n",
        "      s = s.replace('3322', '21', 1)\n",
        "\n",
        "    if sum(map(int, s)) == 218:\n",
        "      ans.append(n)\n",
        "      print(n)\n",
        "\n",
        "\n",
        "print(min(ans))\n",
        "\n",
        "\n",
        "\n"
      ],
      "metadata": {
        "colab": {
          "base_uri": "https://localhost:8080/",
          "height": 887
        },
        "id": "1vIVkomn3WnJ",
        "outputId": "5176abee-d51e-473c-badb-6118c29726f3"
      },
      "execution_count": null,
      "outputs": [
        {
          "output_type": "stream",
          "name": "stdout",
          "text": [
            "107\n",
            "109\n",
            "111\n",
            "113\n",
            "115\n",
            "117\n",
            "119\n",
            "121\n",
            "123\n",
            "125\n",
            "127\n",
            "129\n",
            "131\n",
            "133\n",
            "135\n",
            "137\n",
            "139\n",
            "141\n",
            "143\n",
            "145\n",
            "147\n",
            "149\n",
            "151\n",
            "153\n",
            "155\n",
            "157\n",
            "159\n",
            "161\n",
            "163\n",
            "165\n",
            "167\n",
            "169\n",
            "171\n",
            "173\n",
            "175\n",
            "177\n",
            "179\n"
          ]
        },
        {
          "output_type": "error",
          "ename": "KeyboardInterrupt",
          "evalue": "",
          "traceback": [
            "\u001b[0;31m---------------------------------------------------------------------------\u001b[0m",
            "\u001b[0;31mKeyboardInterrupt\u001b[0m                         Traceback (most recent call last)",
            "\u001b[0;32m<ipython-input-9-900d56794c34>\u001b[0m in \u001b[0;36m<cell line: 2>\u001b[0;34m()\u001b[0m\n\u001b[1;32m     10\u001b[0m       \u001b[0ms\u001b[0m \u001b[0;34m=\u001b[0m \u001b[0ms\u001b[0m\u001b[0;34m.\u001b[0m\u001b[0mreplace\u001b[0m\u001b[0;34m(\u001b[0m\u001b[0;34m'3322'\u001b[0m\u001b[0;34m,\u001b[0m \u001b[0;34m'21'\u001b[0m\u001b[0;34m,\u001b[0m \u001b[0;36m1\u001b[0m\u001b[0;34m)\u001b[0m\u001b[0;34m\u001b[0m\u001b[0;34m\u001b[0m\u001b[0m\n\u001b[1;32m     11\u001b[0m \u001b[0;34m\u001b[0m\u001b[0m\n\u001b[0;32m---> 12\u001b[0;31m     \u001b[0;32mif\u001b[0m \u001b[0msum\u001b[0m\u001b[0;34m(\u001b[0m\u001b[0mmap\u001b[0m\u001b[0;34m(\u001b[0m\u001b[0mint\u001b[0m\u001b[0;34m,\u001b[0m \u001b[0ms\u001b[0m\u001b[0;34m)\u001b[0m\u001b[0;34m)\u001b[0m \u001b[0;34m==\u001b[0m \u001b[0;36m218\u001b[0m\u001b[0;34m:\u001b[0m\u001b[0;34m\u001b[0m\u001b[0;34m\u001b[0m\u001b[0m\n\u001b[0m\u001b[1;32m     13\u001b[0m       \u001b[0mans\u001b[0m\u001b[0;34m.\u001b[0m\u001b[0mappend\u001b[0m\u001b[0;34m(\u001b[0m\u001b[0mn\u001b[0m\u001b[0;34m)\u001b[0m\u001b[0;34m\u001b[0m\u001b[0;34m\u001b[0m\u001b[0m\n\u001b[1;32m     14\u001b[0m       \u001b[0mprint\u001b[0m\u001b[0;34m(\u001b[0m\u001b[0mn\u001b[0m\u001b[0;34m)\u001b[0m\u001b[0;34m\u001b[0m\u001b[0;34m\u001b[0m\u001b[0m\n",
            "\u001b[0;31mKeyboardInterrupt\u001b[0m: "
          ]
        }
      ]
    },
    {
      "cell_type": "markdown",
      "source": [
        "# 5 Задание\n"
      ],
      "metadata": {
        "id": "bUEXZ1DQ1y60"
      }
    },
    {
      "cell_type": "code",
      "source": [
        "A = set()\n",
        "for N in range(500, 5000):\n",
        "  N2 = bin(N)[2:]\n",
        "  x2 = N2[1:].lstrip('0')\n",
        "  if x2 == '': x2 = '0'\n",
        "  x = int(x2, 2)\n",
        "  A.add(N - x)\n",
        "print(A)\n",
        "print(len(A))\n"
      ],
      "metadata": {
        "colab": {
          "base_uri": "https://localhost:8080/"
        },
        "id": "pN6tktT113ch",
        "outputId": "bdba61ce-1222-4e3d-d268-53c47ae4d41e"
      },
      "execution_count": null,
      "outputs": [
        {
          "output_type": "stream",
          "name": "stdout",
          "text": [
            "{256, 512, 4096, 2048, 1024}\n",
            "5\n"
          ]
        }
      ]
    },
    {
      "cell_type": "code",
      "source": [
        "for x in range(0, 100):\n",
        "  a = str(x % 2)\n",
        "  b = str(x % 3)\n",
        "  c = str(x % 5)\n",
        "  num = int(a+b+c)\n",
        "  if num == 104:\n",
        "    print(x)"
      ],
      "metadata": {
        "colab": {
          "base_uri": "https://localhost:8080/"
        },
        "id": "AconENES6nNF",
        "outputId": "d1b8f4b7-34cf-45a1-beee-04648a65def7"
      },
      "execution_count": null,
      "outputs": [
        {
          "output_type": "stream",
          "name": "stdout",
          "text": [
            "9\n",
            "39\n",
            "69\n",
            "99\n"
          ]
        }
      ]
    },
    {
      "cell_type": "code",
      "source": [
        "s = ''\n",
        "for i in range(1, 100):\n",
        "  n2 = bin(i)[2:]\n",
        "  if i % 3 == 0:\n",
        "    n2 = n2 + str(n2[-3:])\n",
        "  else:\n",
        "    k = (i % 3) * 3\n",
        "    t = bin(k)[2:]\n",
        "    n2 = n2 + str(t)\n",
        "  if int(n2, 2) > 75:\n",
        "    print(i)\n",
        "    break"
      ],
      "metadata": {
        "colab": {
          "base_uri": "https://localhost:8080/"
        },
        "id": "mHpgTaYpBnkt",
        "outputId": "e64415a5-6e83-4a4c-ee36-62eab79357d8"
      },
      "execution_count": null,
      "outputs": [
        {
          "output_type": "stream",
          "name": "stdout",
          "text": [
            "11\n"
          ]
        }
      ]
    },
    {
      "cell_type": "code",
      "source": [
        "for i in range(2, 1000):\n",
        "  if i % 4 == 0:\n",
        "    a1 = i / 2\n",
        "  else:\n",
        "    a1 = i -1\n",
        "\n",
        "  if a1 % 5 == 0:\n",
        "    a2 = a1 / 5\n",
        "  else:\n",
        "    a2 = a1 - 1\n",
        "\n",
        "  if a2 % 3 == 0:\n",
        "    a3 = a2 / 3\n",
        "  else:\n",
        "    a3 = a2 -1\n",
        "\n",
        "  if a3 == 3:\n",
        "    print(i)"
      ],
      "metadata": {
        "colab": {
          "base_uri": "https://localhost:8080/"
        },
        "id": "7q8kWVMrLq8n",
        "outputId": "dae6728a-a451-4a06-84a6-a1a857cddd0a"
      },
      "execution_count": null,
      "outputs": [
        {
          "output_type": "stream",
          "name": "stdout",
          "text": [
            "21\n",
            "40\n",
            "46\n"
          ]
        }
      ]
    },
    {
      "cell_type": "code",
      "source": [
        "a = '123456'\n",
        "print(a[-1])"
      ],
      "metadata": {
        "colab": {
          "base_uri": "https://localhost:8080/"
        },
        "id": "I9t0oqxCByns",
        "outputId": "e68f01cd-9c41-4c40-f9c8-655b47214cee"
      },
      "execution_count": null,
      "outputs": [
        {
          "output_type": "stream",
          "name": "stdout",
          "text": [
            "6\n"
          ]
        }
      ]
    },
    {
      "cell_type": "code",
      "source": [
        "for i in range(1, 100):\n",
        "  n2 = bin(i)[2:]\n",
        "  n3 = str(n2) + str(n2)[-1]\n",
        "  if n3.count('1') % 2 == 0:\n",
        "    n3 = n3 + '0'\n",
        "  else:\n",
        "    n3 = n3 + '1'\n",
        "\n",
        "  if n3.count('1') % 2 == 0:\n",
        "    n3 = n3 + '0'\n",
        "  else:\n",
        "    n3 = n3 + '1'\n",
        "\n",
        "  r = int(n3, 2)\n",
        "  if r > 150:\n",
        "    print(i)\n"
      ],
      "metadata": {
        "id": "6lw5e4CQ87B7"
      },
      "execution_count": null,
      "outputs": []
    },
    {
      "cell_type": "code",
      "source": [
        "for i in range(0, 100):\n",
        "  n = bin(i)[2:]\n",
        "  if i % 2 == 0:\n",
        "    n1 = str(n) + '01'\n",
        "  else:\n",
        "    n1 = str(n) + '10'\n",
        "\n",
        "  r = int(n1, 2)\n",
        "  if r > 73:\n",
        "    print(i)"
      ],
      "metadata": {
        "id": "0_EWZV2GCbR4"
      },
      "execution_count": null,
      "outputs": []
    },
    {
      "cell_type": "code",
      "source": [
        "for i in range(0, 100):\n",
        "  n = bin(i)[2:]\n",
        "  n1 = str(n) + str(n)[-1]\n",
        "  if n1.count('1') % 2 == 0:\n",
        "    n2 = n1 + '0'\n",
        "  else:\n",
        "    n2 = n1 + '1'\n",
        "  if n2.count('1') % 2 == 0:\n",
        "    n2 = n2 + '0'\n",
        "  else:\n",
        "    n2 = n2 + '1'\n",
        "\n",
        "    r = int(n2, 2)\n",
        "    if r > 150:\n",
        "      print(i)\n",
        "\n"
      ],
      "metadata": {
        "id": "mksRbd22CbZN"
      },
      "execution_count": null,
      "outputs": []
    },
    {
      "cell_type": "code",
      "source": [
        "for i in range(1, 100):\n",
        "  n2 = bin(i)[2:]\n",
        "  n3 = str(n2) + str(n2)[-1]\n",
        "  if n3.count('1') % 2 == 0:\n",
        "    n3 = n3 + '0'\n",
        "  else:\n",
        "    n3 = n3 + '1'\n",
        "\n",
        "  if n3.count('1') % 2 == 0:\n",
        "    n4 = n3 + '0'\n",
        "  else:\n",
        "    n4 = n3 + '1'\n",
        "\n",
        "  r = int(n4, 2)\n",
        "  if r > 150:\n",
        "    print(i)\n"
      ],
      "metadata": {
        "id": "zTRBHVNkgxCN"
      },
      "execution_count": null,
      "outputs": []
    },
    {
      "cell_type": "markdown",
      "source": [
        "# 8 задание\n"
      ],
      "metadata": {
        "id": "dib34oZX-8fC"
      }
    },
    {
      "cell_type": "code",
      "source": [
        "count = 0\n",
        "for a in \"кран\":\n",
        "  for b in \"кран\":\n",
        "    for c in \"кран\":\n",
        "      X = a + b + c\n",
        "      if \"а\" in X:\n",
        "          count += 1\n",
        "print(count)"
      ],
      "metadata": {
        "id": "WUCXOuZQ-_sd"
      },
      "execution_count": null,
      "outputs": []
    },
    {
      "cell_type": "code",
      "source": [
        "from itertools import product\n",
        "count = 0\n",
        "for p in product('0123', repeat=3):\n",
        "  if int(p[0]) - 1 >= int(p[1]):\n",
        "    if int(p[1]) - 1 >= int(p[2]):\n",
        "      count += 1\n",
        "\n",
        "print(count)\n"
      ],
      "metadata": {
        "colab": {
          "base_uri": "https://localhost:8080/"
        },
        "id": "hD2-MSre-lKF",
        "outputId": "8499ddf1-3baf-499d-da03-dac30b0fae46"
      },
      "execution_count": null,
      "outputs": [
        {
          "output_type": "stream",
          "name": "stdout",
          "text": [
            "4\n"
          ]
        }
      ]
    },
    {
      "cell_type": "markdown",
      "source": [
        "Шифр кодового замка представляет собой последовательность из пяти символов, каждый из которых является цифрой от 1 до 4. Сколько различных вариантов шифра можно задать, если известно, что цифра 1 встречается ровно два раза, а каждая из других допустимых цифр может встречаться в шифре любое количество раз или не встречаться совсем?"
      ],
      "metadata": {
        "id": "jOR7NfL_VpD6"
      }
    },
    {
      "cell_type": "code",
      "source": [
        "from itertools import product\n",
        "count = 0\n",
        "a = '1234'\n",
        "for p in product(a, repeat=5):\n",
        "  if p.count('1') == 2:\n",
        "    count += 1\n",
        "\n",
        "print(count)\n"
      ],
      "metadata": {
        "colab": {
          "base_uri": "https://localhost:8080/"
        },
        "id": "dLAauMGTVqfz",
        "outputId": "82772391-faaf-4377-ca7b-742851478874"
      },
      "execution_count": null,
      "outputs": [
        {
          "output_type": "stream",
          "name": "stdout",
          "text": [
            "270\n"
          ]
        }
      ]
    },
    {
      "cell_type": "code",
      "source": [
        "from itertools import *\n",
        "d = dict(zip((''.join(p) for p in product('АБЗИ', repeat=4)), count(1)))\n",
        "print(d['ИЗБА'])"
      ],
      "metadata": {
        "colab": {
          "base_uri": "https://localhost:8080/"
        },
        "id": "YZZTKF0sKGub",
        "outputId": "8c272133-a903-47b9-8da8-19de24bd31bc"
      },
      "execution_count": null,
      "outputs": [
        {
          "output_type": "stream",
          "name": "stdout",
          "text": [
            "229\n"
          ]
        }
      ]
    },
    {
      "cell_type": "code",
      "source": [
        "k = 0\n",
        "for p in itertools.product('ЧИСТЫЙРАЗУМ', repeat=5):\n",
        "  if p.count('Й') <= 1:\n",
        "    k += 1\n",
        "print(k)"
      ],
      "metadata": {
        "colab": {
          "base_uri": "https://localhost:8080/"
        },
        "id": "UDEimXg0LLk0",
        "outputId": "7e4c4a28-dfbd-4fbc-cb3c-98acc3454800"
      },
      "execution_count": null,
      "outputs": [
        {
          "output_type": "stream",
          "name": "stdout",
          "text": [
            "150000\n"
          ]
        }
      ]
    },
    {
      "cell_type": "code",
      "source": [],
      "metadata": {
        "id": "F9-JFpbZMsAT"
      },
      "execution_count": null,
      "outputs": []
    },
    {
      "cell_type": "code",
      "source": [
        "k= 0\n",
        "for p in itertools.product('КAСТ', repeat=5):\n",
        "  if p.count('A') == 1 or p.count('A') == 2:\n",
        "    k += 1\n",
        "\n",
        "print(k)"
      ],
      "metadata": {
        "colab": {
          "base_uri": "https://localhost:8080/",
          "height": 245
        },
        "id": "jaoVYxSuHs3d",
        "outputId": "a3872606-da38-4f50-a350-04fcccb35ba0"
      },
      "execution_count": null,
      "outputs": [
        {
          "output_type": "error",
          "ename": "NameError",
          "evalue": "ignored",
          "traceback": [
            "\u001b[0;31m---------------------------------------------------------------------------\u001b[0m",
            "\u001b[0;31mNameError\u001b[0m                                 Traceback (most recent call last)",
            "\u001b[0;32m<ipython-input-5-1f40917df623>\u001b[0m in \u001b[0;36m<cell line: 2>\u001b[0;34m()\u001b[0m\n\u001b[1;32m      1\u001b[0m \u001b[0mk\u001b[0m\u001b[0;34m=\u001b[0m \u001b[0;36m0\u001b[0m\u001b[0;34m\u001b[0m\u001b[0;34m\u001b[0m\u001b[0m\n\u001b[0;32m----> 2\u001b[0;31m \u001b[0;32mfor\u001b[0m \u001b[0mp\u001b[0m \u001b[0;32min\u001b[0m \u001b[0mitertools\u001b[0m\u001b[0;34m.\u001b[0m\u001b[0mproduct\u001b[0m\u001b[0;34m(\u001b[0m\u001b[0;34m'КAСТ'\u001b[0m\u001b[0;34m,\u001b[0m \u001b[0mrepeat\u001b[0m\u001b[0;34m=\u001b[0m\u001b[0;36m5\u001b[0m\u001b[0;34m)\u001b[0m\u001b[0;34m:\u001b[0m\u001b[0;34m\u001b[0m\u001b[0;34m\u001b[0m\u001b[0m\n\u001b[0m\u001b[1;32m      3\u001b[0m   \u001b[0;32mif\u001b[0m \u001b[0mp\u001b[0m\u001b[0;34m.\u001b[0m\u001b[0mcount\u001b[0m\u001b[0;34m(\u001b[0m\u001b[0;34m'A'\u001b[0m\u001b[0;34m)\u001b[0m \u001b[0;34m==\u001b[0m \u001b[0;36m1\u001b[0m \u001b[0;32mor\u001b[0m \u001b[0mp\u001b[0m\u001b[0;34m.\u001b[0m\u001b[0mcount\u001b[0m\u001b[0;34m(\u001b[0m\u001b[0;34m'A'\u001b[0m\u001b[0;34m)\u001b[0m \u001b[0;34m==\u001b[0m \u001b[0;36m2\u001b[0m\u001b[0;34m:\u001b[0m\u001b[0;34m\u001b[0m\u001b[0;34m\u001b[0m\u001b[0m\n\u001b[1;32m      4\u001b[0m     \u001b[0mk\u001b[0m \u001b[0;34m+=\u001b[0m \u001b[0;36m1\u001b[0m\u001b[0;34m\u001b[0m\u001b[0;34m\u001b[0m\u001b[0m\n\u001b[1;32m      5\u001b[0m \u001b[0;34m\u001b[0m\u001b[0m\n",
            "\u001b[0;31mNameError\u001b[0m: name 'itertools' is not defined"
          ]
        }
      ]
    },
    {
      "cell_type": "code",
      "source": [
        "from itertools import *\n",
        "S = set(''.join(p) for p in permutations(\"KAПKAН\"))\n",
        "s1 = {word for word in S if 'AA' not in word}\n",
        "s2 = {word for word in s1 if 'KK' not in word}\n",
        "print(len(s2))"
      ],
      "metadata": {
        "colab": {
          "base_uri": "https://localhost:8080/"
        },
        "id": "p9d5fgsrSZeh",
        "outputId": "21f3be98-3caa-445a-cecc-0b143505a6e8"
      },
      "execution_count": null,
      "outputs": [
        {
          "output_type": "stream",
          "name": "stdout",
          "text": [
            "84\n"
          ]
        }
      ]
    },
    {
      "cell_type": "code",
      "source": [
        "\n",
        "d = dict(zip((''.join(p) for p in product(\"АКЛОШ\", repeat=5)), count(1)))\n",
        "d[\"ШКОЛА\"]"
      ],
      "metadata": {
        "colab": {
          "base_uri": "https://localhost:8080/"
        },
        "id": "U0BEOgBdUrdB",
        "outputId": "4d7759cd-28fd-4da1-f8e1-1356749e9251"
      },
      "execution_count": null,
      "outputs": [
        {
          "output_type": "execute_result",
          "data": {
            "text/plain": [
              "2711"
            ]
          },
          "metadata": {},
          "execution_count": 18
        }
      ]
    },
    {
      "cell_type": "code",
      "source": [
        "n = 0\n",
        "for a in \"аклош\":\n",
        "  for b in \"аклош\":\n",
        "    for c in \"аклош\":\n",
        "      for d in \"аклош\":\n",
        "        for e in \"аклош\":\n",
        "          x = a + b + c + d + e\n",
        "          n += 1\n",
        "          if x == 'школа':\n",
        "            print(n)\n"
      ],
      "metadata": {
        "colab": {
          "base_uri": "https://localhost:8080/"
        },
        "id": "GQ4sDYjLXbbd",
        "outputId": "7c6164f2-b3b9-4ebc-b246-2605b341999d"
      },
      "execution_count": null,
      "outputs": [
        {
          "output_type": "stream",
          "name": "stdout",
          "text": [
            "2711\n"
          ]
        }
      ]
    },
    {
      "cell_type": "code",
      "source": [
        "k = 0\n",
        "for x in range(0o10000, 0o100000):\n",
        "    s = oct(x)[2:]\n",
        "    if (s.count('6') == 1\n",
        "        and all(b + '6' not in s for b in '1357')\n",
        "        and all('6' + b not in s for b in '1357')):\n",
        "        k += 1\n",
        "print(k)"
      ],
      "metadata": {
        "colab": {
          "base_uri": "https://localhost:8080/"
        },
        "id": "7NeMa8Oiaw-d",
        "outputId": "4b11c0d9-4264-469a-a549-38b7588c7996"
      },
      "execution_count": null,
      "outputs": [
        {
          "output_type": "stream",
          "name": "stdout",
          "text": [
            "2961\n"
          ]
        }
      ]
    },
    {
      "cell_type": "code",
      "source": [
        "from itertools import *\n",
        "a = permutations('ФОКСИК')\n",
        "b = set(a)\n",
        "k = 0\n",
        "for c in b:\n",
        "  w = ''.join(c)\n",
        "  if w.count('ОИ') or w.count('ИО') > 0:\n",
        "    k += 1\n",
        "print(len(b) - k)\n"
      ],
      "metadata": {
        "colab": {
          "base_uri": "https://localhost:8080/"
        },
        "id": "CiEM3bENKfNk",
        "outputId": "3dcf23bb-50bb-4356-9fda-0a05c19098ce"
      },
      "execution_count": null,
      "outputs": [
        {
          "output_type": "stream",
          "name": "stdout",
          "text": [
            "240\n"
          ]
        }
      ]
    },
    {
      "cell_type": "code",
      "source": [
        "from itertools import *\n",
        "print(sum(1 for p in product(\"КАСТ\", repeat=3) if \"А\" in p))"
      ],
      "metadata": {
        "id": "BZzORtkbI_Xc",
        "colab": {
          "base_uri": "https://localhost:8080/"
        },
        "outputId": "c4c8e094-6142-471c-b56d-fddebafd3665"
      },
      "execution_count": null,
      "outputs": [
        {
          "output_type": "stream",
          "name": "stdout",
          "text": [
            "37\n"
          ]
        }
      ]
    },
    {
      "cell_type": "code",
      "source": [
        "import itertools\n",
        "for x, y in itertools.pairwise([0, 1, 2, 3, 4, 5, 6, 7, 8, 9]):\n",
        "  print(x, y)"
      ],
      "metadata": {
        "colab": {
          "base_uri": "https://localhost:8080/"
        },
        "id": "yhEEtb_fD89s",
        "outputId": "c8c32134-a282-4ea9-9871-e42111466d43"
      },
      "execution_count": null,
      "outputs": [
        {
          "output_type": "stream",
          "name": "stdout",
          "text": [
            "0 1\n",
            "1 2\n",
            "2 3\n",
            "3 4\n",
            "4 5\n",
            "5 6\n",
            "6 7\n",
            "7 8\n",
            "8 9\n"
          ]
        }
      ]
    },
    {
      "cell_type": "code",
      "source": [
        "s = itertools.permutations('ABCDE')\n",
        "while True:\n",
        "  print(next(s))"
      ],
      "metadata": {
        "id": "12BpSXl0GhC1"
      },
      "execution_count": null,
      "outputs": []
    },
    {
      "cell_type": "code",
      "source": [
        "import itertools\n",
        "r = []\n",
        "count = 0\n",
        "s = itertools.product('КРОТ', repeat=6)\n",
        "for i in s:\n",
        "  r.append(i)\n",
        "\n",
        "for n in r:\n",
        "  if n.count('О') == 1:\n",
        "    count += 1\n",
        "print(count)\n"
      ],
      "metadata": {
        "colab": {
          "base_uri": "https://localhost:8080/"
        },
        "id": "oZi3IW9bq7bk",
        "outputId": "1f23e93c-501b-45fa-fc54-53111a2c842d"
      },
      "execution_count": null,
      "outputs": [
        {
          "output_type": "stream",
          "name": "stdout",
          "text": [
            "1458\n"
          ]
        }
      ]
    },
    {
      "cell_type": "code",
      "source": [
        "import itertools\n",
        "s = itertools.product('ЭТАН', repeat = 5)\n",
        "a = []\n",
        "count = 0\n",
        "\n",
        "for i in s:\n",
        "  a.append(i)\n",
        "\n",
        "for n in a:\n",
        "  if (n.count('Э') == 1 and n.count('А') == 0) or (n.count('Э') == 0 and n.count('А') == 1):\n",
        "    count += 1\n",
        "\n",
        "print(count)"
      ],
      "metadata": {
        "colab": {
          "base_uri": "https://localhost:8080/"
        },
        "id": "LjLH7NHYsd-Y",
        "outputId": "cae022dc-37e9-4c40-ffb7-72a55e48d507"
      },
      "execution_count": null,
      "outputs": [
        {
          "output_type": "stream",
          "name": "stdout",
          "text": [
            "160\n"
          ]
        }
      ]
    },
    {
      "cell_type": "code",
      "source": [
        "d = dict(zip((''.join(p) for p in product(\"АИКР\", repeat=5)), count(1)))\n",
        "d[\"АКИРИ\"]"
      ],
      "metadata": {
        "colab": {
          "base_uri": "https://localhost:8080/"
        },
        "id": "Z6KgYqucvn0q",
        "outputId": "4c845f6a-9775-4fc8-c7aa-078916184d45"
      },
      "execution_count": null,
      "outputs": [
        {
          "output_type": "execute_result",
          "data": {
            "text/plain": [
              "158"
            ]
          },
          "metadata": {},
          "execution_count": 19
        }
      ]
    },
    {
      "cell_type": "code",
      "source": [
        "d = dict(zip((''.join(p) for p in product('КОСФ', repeat=4)), count(1)))\n",
        "print(d['ФОКС'])"
      ],
      "metadata": {
        "colab": {
          "base_uri": "https://localhost:8080/"
        },
        "id": "mhBVXeyixdBb",
        "outputId": "6188a0d4-1efa-4367-fbfe-7d21197325dd"
      },
      "execution_count": null,
      "outputs": [
        {
          "output_type": "stream",
          "name": "stdout",
          "text": [
            "211\n"
          ]
        }
      ]
    },
    {
      "cell_type": "code",
      "source": [
        "d = dict((zip(''.join(p) for p in product(''))))"
      ],
      "metadata": {
        "id": "a70ZsPary8GG"
      },
      "execution_count": null,
      "outputs": []
    },
    {
      "cell_type": "code",
      "source": [
        "from itertools import *\n",
        "k=0\n",
        "for p in product('ЁИКЛНОС',repeat=5):\n",
        "  k+=1\n",
        "  p=''.join(p)\n",
        "  if p.count('Ё')>=2 and p[0]!='О' and p[1]=='К':\n",
        "    print(p,k)"
      ],
      "metadata": {
        "id": "3yrJWo8-OzAf"
      },
      "execution_count": null,
      "outputs": []
    },
    {
      "cell_type": "code",
      "source": [
        "k = 0\n",
        "for p in itertools.product('ДЕВИАЦИЯ', repeat=8):\n",
        "  if (p[0] == 'Е' or p[0] == 'И' or p[0] == 'А' or p[0] == 'Я') and (p[-1] == 'Д' or p[-1] == 'В' or p[-1] == 'Ц'):\n",
        "    if p.count('ДЕ') >= 1:\n",
        "      k+=1\n",
        "print(k)"
      ],
      "metadata": {
        "colab": {
          "base_uri": "https://localhost:8080/"
        },
        "id": "LuvFcbBjO606",
        "outputId": "9eb968dc-d5f0-4eae-ec21-fe69c7342d72"
      },
      "execution_count": null,
      "outputs": [
        {
          "output_type": "stream",
          "name": "stdout",
          "text": [
            "0\n"
          ]
        }
      ]
    },
    {
      "cell_type": "code",
      "source": [
        "import itertools\n",
        "k = 0\n",
        "for word in itertools.product('ЛЕТО', repeat=4):\n",
        "  if word[0] == 'Л' or word[0] == 'Т':\n",
        "    k += 1\n",
        "\n",
        "print(k)"
      ],
      "metadata": {
        "colab": {
          "base_uri": "https://localhost:8080/"
        },
        "id": "ucEcCtHCHOCw",
        "outputId": "51ab41fc-333c-4267-b1df-a93f95c582ed"
      },
      "execution_count": null,
      "outputs": [
        {
          "output_type": "stream",
          "name": "stdout",
          "text": [
            "128\n"
          ]
        }
      ]
    },
    {
      "cell_type": "code",
      "source": [
        "import itertools\n",
        "k = 0\n",
        "for word in itertools.product('КУМА', repeat = 5):\n",
        "  if (word[0] == 'К' or word[0] == 'М') and (word[-1] == 'А' or word[-1] == 'У'):\n",
        "    k += 1\n",
        "\n",
        "print(k)"
      ],
      "metadata": {
        "colab": {
          "base_uri": "https://localhost:8080/"
        },
        "id": "x075sWW6Hpe4",
        "outputId": "48af6673-96d4-45cd-d357-6243c256c9fd"
      },
      "execution_count": null,
      "outputs": [
        {
          "output_type": "stream",
          "name": "stdout",
          "text": [
            "256\n"
          ]
        }
      ]
    },
    {
      "cell_type": "code",
      "source": [
        "import itertools\n",
        "k = 0\n",
        "for word in itertools.product('АВСХ', repeat = 5):\n",
        "  if (word[0] != 'Х' and word[1] != 'Х' and word[2] != 'Х' and word[3] != 'Х') and (word[4] == 'Х' or word[4] != 'Х'):\n",
        "    k+=1\n",
        "\n",
        "print(k)"
      ],
      "metadata": {
        "colab": {
          "base_uri": "https://localhost:8080/"
        },
        "id": "FZZIP37wIGWu",
        "outputId": "8972667a-b51a-4709-b7d0-af737378cfcc"
      },
      "execution_count": null,
      "outputs": [
        {
          "output_type": "stream",
          "name": "stdout",
          "text": [
            "324\n"
          ]
        }
      ]
    },
    {
      "cell_type": "code",
      "source": [
        "import itertools\n",
        "k = 0\n",
        "for word in itertools.product('АБВГЭЮЯ', repeat=5):\n",
        "  if (word[0] == 'Э' or word[0] == 'Ю' or word[0] == 'Я') and (word[1] != 'Э' and word[1] != 'Ю' and word[1] != 'Я' and word[2] != 'Э' and word[2] != 'Ю' and word[2] != 'Я' and\n",
        "                                                               word[3] != 'Э' and word[3] != 'Ю' and word[3] != 'Я') and (word[4] == 'Э' or word[4] == 'Ю' or word[4] == 'Я'):\n",
        "                                                               k+=1\n",
        "print(k)"
      ],
      "metadata": {
        "colab": {
          "base_uri": "https://localhost:8080/"
        },
        "id": "eUCVoX_GI1YW",
        "outputId": "b1d055bf-e1cf-440e-b523-6ee8c39398bf"
      },
      "execution_count": null,
      "outputs": [
        {
          "output_type": "stream",
          "name": "stdout",
          "text": [
            "576\n"
          ]
        }
      ]
    },
    {
      "cell_type": "code",
      "source": [
        "import itertools\n",
        "k = 0\n",
        "\n",
        "for word in itertools.product('ТИМОФЕЙ', repeat = 5):\n",
        "  if word.count('Й') <= 1:\n",
        "    if word[0] != 'Й' and word[-1] != 'Й':\n",
        "      number = word.index('Й')\n",
        "      if word[number + 1] != 'И' and word[number - 1] != 'И':\n",
        "        k += 1\n",
        "\n",
        "\n",
        "print(k)"
      ],
      "metadata": {
        "colab": {
          "base_uri": "https://localhost:8080/",
          "height": 245
        },
        "id": "xM3c3nXnKCIP",
        "outputId": "b4335750-46cb-4940-8a0e-c9316f14c10a"
      },
      "execution_count": null,
      "outputs": [
        {
          "output_type": "error",
          "ename": "ValueError",
          "evalue": "ignored",
          "traceback": [
            "\u001b[0;31m---------------------------------------------------------------------------\u001b[0m",
            "\u001b[0;31mValueError\u001b[0m                                Traceback (most recent call last)",
            "\u001b[0;32m<ipython-input-26-67f028ba9898>\u001b[0m in \u001b[0;36m<cell line: 4>\u001b[0;34m()\u001b[0m\n\u001b[1;32m      5\u001b[0m   \u001b[0;32mif\u001b[0m \u001b[0mword\u001b[0m\u001b[0;34m.\u001b[0m\u001b[0mcount\u001b[0m\u001b[0;34m(\u001b[0m\u001b[0;34m'Й'\u001b[0m\u001b[0;34m)\u001b[0m \u001b[0;34m<=\u001b[0m \u001b[0;36m1\u001b[0m\u001b[0;34m:\u001b[0m\u001b[0;34m\u001b[0m\u001b[0;34m\u001b[0m\u001b[0m\n\u001b[1;32m      6\u001b[0m     \u001b[0;32mif\u001b[0m \u001b[0mword\u001b[0m\u001b[0;34m[\u001b[0m\u001b[0;36m0\u001b[0m\u001b[0;34m]\u001b[0m \u001b[0;34m!=\u001b[0m \u001b[0;34m'Й'\u001b[0m \u001b[0;32mand\u001b[0m \u001b[0mword\u001b[0m\u001b[0;34m[\u001b[0m\u001b[0;34m-\u001b[0m\u001b[0;36m1\u001b[0m\u001b[0;34m]\u001b[0m \u001b[0;34m!=\u001b[0m \u001b[0;34m'Й'\u001b[0m\u001b[0;34m:\u001b[0m\u001b[0;34m\u001b[0m\u001b[0;34m\u001b[0m\u001b[0m\n\u001b[0;32m----> 7\u001b[0;31m       \u001b[0mnumber\u001b[0m \u001b[0;34m=\u001b[0m \u001b[0mint\u001b[0m\u001b[0;34m(\u001b[0m\u001b[0mword\u001b[0m\u001b[0;34m.\u001b[0m\u001b[0mindex\u001b[0m\u001b[0;34m(\u001b[0m\u001b[0;34m'Й'\u001b[0m\u001b[0;34m)\u001b[0m\u001b[0;34m)\u001b[0m\u001b[0;34m\u001b[0m\u001b[0;34m\u001b[0m\u001b[0m\n\u001b[0m\u001b[1;32m      8\u001b[0m       \u001b[0;32mif\u001b[0m \u001b[0mword\u001b[0m\u001b[0;34m[\u001b[0m\u001b[0mnumber\u001b[0m \u001b[0;34m+\u001b[0m \u001b[0;36m1\u001b[0m\u001b[0;34m]\u001b[0m \u001b[0;34m!=\u001b[0m \u001b[0;34m'И'\u001b[0m \u001b[0;32mand\u001b[0m \u001b[0mword\u001b[0m\u001b[0;34m[\u001b[0m\u001b[0mnumber\u001b[0m \u001b[0;34m-\u001b[0m \u001b[0;36m1\u001b[0m\u001b[0;34m]\u001b[0m \u001b[0;34m!=\u001b[0m \u001b[0;34m'И'\u001b[0m\u001b[0;34m:\u001b[0m\u001b[0;34m\u001b[0m\u001b[0;34m\u001b[0m\u001b[0m\n\u001b[1;32m      9\u001b[0m         \u001b[0mk\u001b[0m \u001b[0;34m+=\u001b[0m \u001b[0;36m1\u001b[0m\u001b[0;34m\u001b[0m\u001b[0;34m\u001b[0m\u001b[0m\n",
            "\u001b[0;31mValueError\u001b[0m: tuple.index(x): x not in tuple"
          ]
        }
      ]
    },
    {
      "cell_type": "code",
      "source": [
        "import itertools\n",
        "k = 0\n",
        "\n",
        "for word in itertools.product('КАНТ', repeat=6):\n",
        "  if word.count('К') == 2:\n",
        "    k += 1\n",
        "\n",
        "\n",
        "print(k)"
      ],
      "metadata": {
        "colab": {
          "base_uri": "https://localhost:8080/"
        },
        "id": "Svwf98ByMWSn",
        "outputId": "d5edfc7b-aa51-4d19-f298-b4773290925d"
      },
      "execution_count": null,
      "outputs": [
        {
          "output_type": "stream",
          "name": "stdout",
          "text": [
            "1215\n"
          ]
        }
      ]
    },
    {
      "cell_type": "code",
      "source": [],
      "metadata": {
        "id": "oGXhiXGvM0yk"
      },
      "execution_count": null,
      "outputs": []
    },
    {
      "cell_type": "code",
      "source": [
        "counter = 0\n",
        "for a in 'АИЕЯ':\n",
        "  for middle in product('ДЕВИАЦЯ', repeat = 6):\n",
        "    for b in 'ДВЦ':\n",
        "      word = a + ''.join(middle) + b\n",
        "      if 'ДЕ' in word:\n",
        "        counter +=1\n",
        "\n",
        "print(counter)"
      ],
      "metadata": {
        "colab": {
          "base_uri": "https://localhost:8080/"
        },
        "id": "-aTTl7RSPo35",
        "outputId": "ae94d5ec-b5f0-409c-f8fa-a1cf690bc42f"
      },
      "execution_count": null,
      "outputs": [
        {
          "output_type": "stream",
          "name": "stdout",
          "text": [
            "140544\n"
          ]
        }
      ]
    },
    {
      "cell_type": "code",
      "source": [],
      "metadata": {
        "id": "_sKrBD_fGz1m"
      },
      "execution_count": null,
      "outputs": []
    },
    {
      "cell_type": "markdown",
      "source": [
        "# 23 задание\n"
      ],
      "metadata": {
        "id": "X4K7iHJ1Icn4"
      }
    },
    {
      "cell_type": "code",
      "source": [
        "def K(a, b):\n",
        "  if a==b:\n",
        "    return 1\n",
        "  elif a > b or a == 26 or b == 26:\n",
        "    return 0\n",
        "  else:\n",
        "    return K(a+1, b) + K(a*2+1, b)\n",
        "\n",
        "print(K(1, 27))\n"
      ],
      "metadata": {
        "colab": {
          "base_uri": "https://localhost:8080/"
        },
        "id": "Sy29hDTEUVyR",
        "outputId": "44d80d0f-51f5-444c-8668-509cebddded7"
      },
      "execution_count": null,
      "outputs": [
        {
          "output_type": "stream",
          "name": "stdout",
          "text": [
            "13\n"
          ]
        }
      ]
    },
    {
      "cell_type": "code",
      "source": [
        "def K(a, b):\n",
        "  if a == b:\n",
        "    return 1\n",
        "  elif a > b:\n",
        "    return 0\n",
        "  else:\n",
        "    return K(a+1, b) + K(a*2, b) + K(a*3, b)\n",
        "\n",
        "\n",
        "print(K(3, 89))"
      ],
      "metadata": {
        "colab": {
          "base_uri": "https://localhost:8080/"
        },
        "id": "1VQDhLhlrRZQ",
        "outputId": "3104429c-587e-4597-c96c-a1ce1d3048fb"
      },
      "execution_count": null,
      "outputs": [
        {
          "output_type": "stream",
          "name": "stdout",
          "text": [
            "3454\n"
          ]
        }
      ]
    },
    {
      "cell_type": "markdown",
      "source": [
        "Реккурентное решение"
      ],
      "metadata": {
        "id": "e_PrOKN1T8xA"
      }
    },
    {
      "cell_type": "code",
      "source": [
        "def K(a, b):\n",
        "  if a == b:\n",
        "    return 1\n",
        "  elif a > b:\n",
        "    return 0\n",
        "  else:\n",
        "    return K(a, b-1) + K(a, b-3)\n",
        "\n",
        "print(K(1, 14))"
      ],
      "metadata": {
        "colab": {
          "base_uri": "https://localhost:8080/"
        },
        "id": "S9sZJr6aIh5Q",
        "outputId": "7c23eff6-b6bb-48f4-9dc7-0fda7c4ed289"
      },
      "execution_count": null,
      "outputs": [
        {
          "output_type": "stream",
          "name": "stdout",
          "text": [
            "88\n"
          ]
        }
      ]
    },
    {
      "cell_type": "code",
      "source": [
        "def K(a, b):\n",
        "  if a == b:\n",
        "    return 1\n",
        "  elif a > b or b == 10 or a == 10:\n",
        "    return 0\n",
        "  else:\n",
        "    return K(a+1, b) + K(a*2, b)\n",
        "\n",
        "print(K(1, 25) * K(25, 28))\n"
      ],
      "metadata": {
        "colab": {
          "base_uri": "https://localhost:8080/"
        },
        "id": "mi-GUg43E7tA",
        "outputId": "71b88a39-1c3c-4757-fd6f-c6fac574c997"
      },
      "execution_count": null,
      "outputs": [
        {
          "output_type": "stream",
          "name": "stdout",
          "text": [
            "38\n"
          ]
        }
      ]
    },
    {
      "cell_type": "code",
      "source": [
        "def k(a, b):\n",
        "  if a == b:\n",
        "    return 1\n",
        "  elif a > b:\n",
        "    return 0\n",
        "  else:\n",
        "    return k(a*3, b) + k(a+2, b) + k(a+3, b)\n",
        "\n",
        "print(k(2, 15) * k(15, 21))"
      ],
      "metadata": {
        "colab": {
          "base_uri": "https://localhost:8080/"
        },
        "id": "cptmrP7dFuMs",
        "outputId": "fc54964a-7e30-4d09-f464-f796e97a15d6"
      },
      "execution_count": null,
      "outputs": [
        {
          "output_type": "stream",
          "name": "stdout",
          "text": [
            "46\n"
          ]
        }
      ]
    },
    {
      "cell_type": "code",
      "source": [
        "def k(a, b):\n",
        "  if a == b:\n",
        "    return 1\n",
        "  elif a > b:\n",
        "    return 0\n",
        "  else:\n",
        "    return k(a+3, b) + k(a+2, b) + k(a*2, b)\n",
        "\n",
        "print(k(10, 18) * k(18, 36))"
      ],
      "metadata": {
        "colab": {
          "base_uri": "https://localhost:8080/"
        },
        "id": "Wxwp50FdGHts",
        "outputId": "958b7e3f-c331-4bcc-cb0c-fe08007a54c6"
      },
      "execution_count": null,
      "outputs": [
        {
          "output_type": "stream",
          "name": "stdout",
          "text": [
            "264\n"
          ]
        }
      ]
    },
    {
      "cell_type": "code",
      "source": [
        "def k(a, b):\n",
        "  if a == b:\n",
        "    return 1\n",
        "  elif a > b or a == 18 or b == 18:\n",
        "    return 0\n",
        "  else:\n",
        "    return k(a+1, b) + k(a*2, b) + k(a*3, b)\n",
        "\n",
        "print(k(2, 12) * k(12, 36))"
      ],
      "metadata": {
        "colab": {
          "base_uri": "https://localhost:8080/"
        },
        "id": "KdKP76MMGimD",
        "outputId": "f491b686-a2bc-45c7-eea4-848a20e79297"
      },
      "execution_count": null,
      "outputs": [
        {
          "output_type": "stream",
          "name": "stdout",
          "text": [
            "105\n"
          ]
        }
      ]
    },
    {
      "cell_type": "code",
      "source": [
        "def k(a, b):\n",
        "  if a == b:\n",
        "    return 1\n",
        "  elif a > b or a == 24 or b == 24:\n",
        "    return 0\n",
        "  else:\n",
        "    return k(a+1, b) + k(a*2, b) + k(a*a, b)\n",
        "\n",
        "print(k(2, 16) * k(16, 38))"
      ],
      "metadata": {
        "colab": {
          "base_uri": "https://localhost:8080/"
        },
        "id": "vHy3vSWjJHbP",
        "outputId": "0e9d8ad5-26d8-4dd0-f60f-0aa388693dc6"
      },
      "execution_count": null,
      "outputs": [
        {
          "output_type": "stream",
          "name": "stdout",
          "text": [
            "116\n"
          ]
        }
      ]
    },
    {
      "cell_type": "code",
      "source": [
        "def k(a, b):\n",
        "  if a == b:\n",
        "    return 1\n",
        "  elif a > b or a == 18 or b == 18:\n",
        "    return 0\n",
        "  else:\n",
        "    return k(a+1, b) + k(a*2, b) + k(a*3, b)\n",
        "\n",
        "print(k(1, 12) * k(12, 39))"
      ],
      "metadata": {
        "colab": {
          "base_uri": "https://localhost:8080/"
        },
        "id": "nTDXusA1JkVL",
        "outputId": "6fc3f96b-8aeb-4da7-8aca-e5e4a6c78f85"
      },
      "execution_count": null,
      "outputs": [
        {
          "output_type": "stream",
          "name": "stdout",
          "text": [
            "304\n"
          ]
        }
      ]
    },
    {
      "cell_type": "code",
      "source": [
        "def k(a, b):\n",
        "  if a == b:\n",
        "    return 1\n",
        "  elif a > b:\n",
        "    return 0"
      ],
      "metadata": {
        "id": "pzbX8TbSKSKI"
      },
      "execution_count": null,
      "outputs": []
    },
    {
      "cell_type": "markdown",
      "source": [
        "Динамическое программирование"
      ],
      "metadata": {
        "id": "tBZiCoJYUBHo"
      }
    },
    {
      "cell_type": "code",
      "source": [
        "K = [0, 1, 1, 1] + [None] * 11\n",
        "# 0 способов попасть в 0, 1 способ в 1, 1 способ в 2, 1 способ в 3\n",
        "for n in range(4, 15):\n",
        "  K[n] = K[n-1] + K[n-3]\n",
        "\n",
        "print(K[14])"
      ],
      "metadata": {
        "colab": {
          "base_uri": "https://localhost:8080/"
        },
        "id": "p5_j7NXxUFih",
        "outputId": "4ce3079a-db73-4ed9-9cd6-276eacaea1c2"
      },
      "execution_count": null,
      "outputs": [
        {
          "output_type": "stream",
          "name": "stdout",
          "text": [
            "88\n"
          ]
        }
      ]
    },
    {
      "cell_type": "markdown",
      "source": [
        "прибавить 1, прибавить 2. исходное число 1 - результат 20, траектория содержит 10"
      ],
      "metadata": {
        "id": "R10o7z_jZU5L"
      }
    },
    {
      "cell_type": "code",
      "source": [
        "def K(a, b):\n",
        "  if a > b:\n",
        "    return 0\n",
        "  elif a == b:\n",
        "    return 1\n",
        "  else:\n",
        "    return K(a+1, b) + K(a*2, b)\n",
        "\n",
        "print(K(1, 10) * K(10, 20))"
      ],
      "metadata": {
        "colab": {
          "base_uri": "https://localhost:8080/"
        },
        "id": "tVnaQUsHYYYg",
        "outputId": "ea601930-d620-4cc4-b08f-6c18be1a3189"
      },
      "execution_count": null,
      "outputs": [
        {
          "output_type": "stream",
          "name": "stdout",
          "text": [
            "28\n"
          ]
        }
      ]
    },
    {
      "cell_type": "code",
      "source": [
        "\n",
        "K1 = [0, 1] * [None] * (20+1-2)\n",
        "# в город 1 - 1 способ, в город 0 - 0 способов\n",
        "K2 = [0] * 10 + [1] + [None] * (20+1-11)  # 0 и 20 включительно\n",
        "# из г.10 до 9 включительно 0 способов попасть\n",
        "###\n",
        "\n"
      ],
      "metadata": {
        "id": "rBWObeOecrQQ"
      },
      "execution_count": null,
      "outputs": []
    },
    {
      "cell_type": "code",
      "source": [
        "K1 = [None] * 21\n",
        "K1[0] = 0\n",
        "K1[1] = 1\n",
        "K10 = [None] * 21\n",
        "for i in range(0, 10):\n",
        "    K10[i] = 0\n",
        "K10[10] = 1"
      ],
      "metadata": {
        "colab": {
          "base_uri": "https://localhost:8080/",
          "height": 210
        },
        "id": "QPNPc2qSdkSf",
        "outputId": "534f7f23-a086-4d75-bef6-8d3abd6289c0"
      },
      "execution_count": null,
      "outputs": [
        {
          "output_type": "error",
          "ename": "TypeError",
          "evalue": "ignored",
          "traceback": [
            "\u001b[0;31m---------------------------------------------------------------------------\u001b[0m",
            "\u001b[0;31mTypeError\u001b[0m                                 Traceback (most recent call last)",
            "\u001b[0;32m<ipython-input-7-6e8ca921903c>\u001b[0m in \u001b[0;36m<cell line: 10>\u001b[0;34m()\u001b[0m\n\u001b[1;32m      8\u001b[0m \u001b[0mK10\u001b[0m\u001b[0;34m[\u001b[0m\u001b[0;36m10\u001b[0m\u001b[0;34m]\u001b[0m \u001b[0;34m=\u001b[0m \u001b[0;36m1\u001b[0m\u001b[0;34m\u001b[0m\u001b[0;34m\u001b[0m\u001b[0m\n\u001b[1;32m      9\u001b[0m \u001b[0;34m\u001b[0m\u001b[0m\n\u001b[0;32m---> 10\u001b[0;31m \u001b[0mprint\u001b[0m\u001b[0;34m(\u001b[0m\u001b[0mK1\u001b[0m\u001b[0;34m[\u001b[0m\u001b[0;36m10\u001b[0m\u001b[0;34m]\u001b[0m \u001b[0;34m*\u001b[0m \u001b[0mK10\u001b[0m\u001b[0;34m[\u001b[0m\u001b[0;36m20\u001b[0m\u001b[0;34m]\u001b[0m\u001b[0;34m)\u001b[0m\u001b[0;34m\u001b[0m\u001b[0;34m\u001b[0m\u001b[0m\n\u001b[0m",
            "\u001b[0;31mTypeError\u001b[0m: unsupported operand type(s) for *: 'NoneType' and 'NoneType'"
          ]
        }
      ]
    },
    {
      "cell_type": "code",
      "source": [
        "K1 = [None] * 21\n",
        "K1[0] = 0\n",
        "K1[1] = 1\n",
        "K10 = [None] * 21\n",
        "for i in range(0, 10):\n",
        "    K10[i] = 0\n",
        "K10[10] = 1"
      ],
      "metadata": {
        "id": "a8f7lhwlenYd"
      },
      "execution_count": null,
      "outputs": []
    },
    {
      "cell_type": "code",
      "source": [
        "K1 = [0] * 21\n",
        "K1[1] = 1\n",
        "for n in range(2, 21):\n",
        "    K1[n] = K1[n-1] + (0 if n % 2 == 1 else K1[n//2])\n",
        "K10 = [0] * 21\n",
        "K10[10] = 1\n",
        "for n in range(11, 21):\n",
        "    K10[n] = K10[n-1] + (0 if n % 2 == 1 else K10[n//2])\n",
        "print(K1[10] * K10[20])"
      ],
      "metadata": {
        "id": "VNtChQvIfr7b"
      },
      "execution_count": null,
      "outputs": []
    },
    {
      "cell_type": "markdown",
      "source": [
        "# 18 задание\n"
      ],
      "metadata": {
        "id": "Us2AnJNUYfpB"
      }
    },
    {
      "cell_type": "markdown",
      "source": [
        "=$Лист1.B2 + МАКС(A2; B1)"
      ],
      "metadata": {
        "id": "sbU5Bx-ZYlOd"
      }
    },
    {
      "cell_type": "markdown",
      "source": [
        "=$Лист1.E5 + МАКС(E4; D4)\n",
        "\n",
        "https://u.foxford.ngcdn.ru/uploads/inner_file/file/215820/30-11.xlsx\n"
      ],
      "metadata": {
        "id": "6bIe7A_qSjhI"
      }
    },
    {
      "cell_type": "markdown",
      "source": [
        "=A23+ЕСЛИ(ОСТАТ(A2;3)=0;A2;0)\n"
      ],
      "metadata": {
        "id": "FZhWdhVyWUhY"
      }
    },
    {
      "cell_type": "markdown",
      "source": [
        "# Занятия\n"
      ],
      "metadata": {
        "id": "LeMeb3HV-4Rj"
      }
    },
    {
      "cell_type": "code",
      "source": [
        "file = open('data1.txt')\n",
        "data = [float(x.replace(',', '.')) for x in file]\n",
        "maxsum = 0\n",
        "s = data[0]\n",
        "for i in range(1, len(data)):\n",
        "    if data[i] < data[i-1]:  # descending\n",
        "        s = s + data[i]\n",
        "    else:\n",
        "        s = data[i]\n",
        "    if s > maxsum:\n",
        "        maxsum = s\n",
        "print(maxsum)"
      ],
      "metadata": {
        "id": "oeZ6QZi--9ie"
      },
      "execution_count": null,
      "outputs": []
    },
    {
      "cell_type": "markdown",
      "source": [
        "7.12\n"
      ],
      "metadata": {
        "id": "DGsBIwSIexIo"
      }
    },
    {
      "cell_type": "code",
      "source": [],
      "metadata": {
        "id": "sVrRlYwkjUzL"
      },
      "execution_count": null,
      "outputs": []
    },
    {
      "cell_type": "markdown",
      "source": [
        "Сколько существует восьмеричных шестизначных чисел, в которых все цифры различны, никакие две чётные или две нечётные цифры не стоят рядом и десятичная запись которых делится на 5?"
      ],
      "metadata": {
        "id": "GoR3Cv1CDV76"
      }
    },
    {
      "cell_type": "code",
      "source": [
        "import itertools\n",
        "count = 0\n",
        "\n",
        "for num in itertools.product('01234567', repeat=6):\n",
        "  if num[0] != '0':\n",
        "    if len(set(num)) == 6:\n",
        "      for i in range(5):\n",
        "        if int(num[i]) % 2 != int(num[i+1]) % 2:\n",
        "          if int(num[i], 8) % 5 == 0:\n",
        "            count += 1\n",
        "\n",
        "\n",
        "print(count)"
      ],
      "metadata": {
        "colab": {
          "base_uri": "https://localhost:8080/"
        },
        "id": "dV5SOVe9C_dN",
        "outputId": "469d38aa-13a6-42d8-9cac-33626c3fea56"
      },
      "execution_count": null,
      "outputs": [
        {
          "output_type": "stream",
          "name": "stdout",
          "text": [
            "12240\n"
          ]
        }
      ]
    },
    {
      "cell_type": "code",
      "source": [
        "130977 / 297 - ceil((ceil(log2(1810)) * 213) / 8)"
      ],
      "metadata": {
        "id": "0K7aFYLyuIoy"
      },
      "execution_count": null,
      "outputs": []
    },
    {
      "cell_type": "markdown",
      "source": [
        "# Работа со строками"
      ],
      "metadata": {
        "id": "eaS3dHbAanod"
      }
    },
    {
      "cell_type": "code",
      "source": [
        "print(chr(1236))"
      ],
      "metadata": {
        "colab": {
          "base_uri": "https://localhost:8080/"
        },
        "id": "BjSahW49ar_i",
        "outputId": "6f696070-f6e3-476c-81b7-b54998603ffc"
      },
      "execution_count": null,
      "outputs": [
        {
          "output_type": "stream",
          "name": "stdout",
          "text": [
            "Ӕ\n"
          ]
        }
      ]
    },
    {
      "cell_type": "code",
      "source": [
        "print(ord('J'))"
      ],
      "metadata": {
        "colab": {
          "base_uri": "https://localhost:8080/"
        },
        "id": "of-wfdo3azKI",
        "outputId": "bbb16d65-c887-4cee-870e-1ef1572bb18f"
      },
      "execution_count": null,
      "outputs": [
        {
          "output_type": "stream",
          "name": "stdout",
          "text": [
            "74\n"
          ]
        }
      ]
    },
    {
      "cell_type": "code",
      "source": [
        "s = 'abracadabra'\n",
        "print(s.find('ra'))"
      ],
      "metadata": {
        "colab": {
          "base_uri": "https://localhost:8080/"
        },
        "id": "XnUcQnPcc3cm",
        "outputId": "96354077-20dc-4f1b-91bd-30dc8e570c3e"
      },
      "execution_count": null,
      "outputs": [
        {
          "output_type": "stream",
          "name": "stdout",
          "text": [
            "2\n"
          ]
        }
      ]
    },
    {
      "cell_type": "code",
      "source": [
        "print(s.rfind('ra'))\n"
      ],
      "metadata": {
        "id": "GsjFBmvFdQj9"
      },
      "execution_count": null,
      "outputs": []
    },
    {
      "cell_type": "code",
      "source": [
        "a = ['Допустим', ',', 'меня']\n",
        "a = map('*'.join, a)\n",
        "print(list(a))"
      ],
      "metadata": {
        "colab": {
          "base_uri": "https://localhost:8080/"
        },
        "id": "iWbwoZYWd6Vx",
        "outputId": "5ccde1d0-38ac-44e6-9336-36edd99ddaf4"
      },
      "execution_count": null,
      "outputs": [
        {
          "output_type": "stream",
          "name": "stdout",
          "text": [
            "['Д*о*п*у*с*т*и*м', ',', 'м*е*н*я']\n"
          ]
        }
      ]
    },
    {
      "cell_type": "markdown",
      "source": [
        "# Как найти все делители числа?"
      ],
      "metadata": {
        "id": "Sp96SjzX1-Ra"
      }
    },
    {
      "cell_type": "code",
      "source": [
        "num = int(input(\"Введите число: \"))\n",
        "count = 0\n",
        "\n",
        "for i in range(1, num+1):\n",
        "    if num % i == 0 and i % 2 == 0:\n",
        "        count += 1\n",
        "\n",
        "print(\"Количество делителей числа\", num, \"равно\", count)"
      ],
      "metadata": {
        "colab": {
          "base_uri": "https://localhost:8080/"
        },
        "id": "D2co4vey2GJ0",
        "outputId": "96e0b917-6ca6-4964-fee2-24412ec88e26"
      },
      "execution_count": null,
      "outputs": [
        {
          "output_type": "stream",
          "name": "stdout",
          "text": [
            "Введите число: 20\n",
            "Количество делителей числа 20 равно 4\n"
          ]
        }
      ]
    }
  ]
}