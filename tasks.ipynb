{
  "cells": [
    {
      "cell_type": "markdown",
      "metadata": {
        "id": "view-in-github",
        "colab_type": "text"
      },
      "source": [
        "<a href=\"https://colab.research.google.com/github/mullagalievdeniz/ege_tasks/blob/main/tasks.ipynb\" target=\"_parent\"><img src=\"https://colab.research.google.com/assets/colab-badge.svg\" alt=\"Open In Colab\"/></a>"
      ]
    },
    {
      "cell_type": "markdown",
      "metadata": {
        "id": "yaNzfdz56SvO"
      },
      "source": [
        "#### ЕГЭ по информатике"
      ]
    },
    {
      "cell_type": "markdown",
      "source": [
        "# 26 задание"
      ],
      "metadata": {
        "id": "4_bcEQHy3n2_"
      }
    },
    {
      "cell_type": "markdown",
      "source": [
        "Системный администратор раз в неделю создаёт архив пользовательских файлов. Выделяемый объем памяти рассчитывается, как\n",
        "общий объем файлов за вычетом количественно 20% файлов – 10% составляют самые мелкие файлы и 10 % составляют самые\n",
        "крупные файлы. Известно, какой объём занимает файл каждого пользователя. Определите объем выделенного дискового\n",
        "пространства и размер самого крупного из сохраненных файлов. В случае если 10% является нецелым числом, берется целая\n",
        "часть от деления количества файлов на 10. Входные данные.\n",
        "В первой строке входного файла 2-1.txt находится число N – количество пользователей (натуральное число, 10 ≤ N ≤ 10000). В\n",
        "следующих N строках находятся значения объёмов файлов каждого пользователя (все числа натуральные, не превышающие 100),\n",
        "каждое в отдельной строке. Запишите в ответе два числа: сначала объем сохраненных файлов, затем размер наибольшего\n",
        "сохраненного файла"
      ],
      "metadata": {
        "id": "If54sqq0EuXO"
      }
    },
    {
      "cell_type": "code",
      "source": [
        "f = open('26.txt')\n",
        "N - int(f.readline())\n",
        "data = sorted(map(int, f))\n",
        "print(sum(data[N//10: N - N // 10]))  # общий объём\n",
        "print(data[N - N//10 - 1]) # самый последний т.е наибольший элемент"
      ],
      "metadata": {
        "id": "_hvKFR6kAgov"
      },
      "execution_count": null,
      "outputs": []
    },
    {
      "cell_type": "markdown",
      "source": [
        "По итогам проверочной работы учащиеся школ города получили определённое количество баллов, различное у каждого из\n",
        "участников. K учеников с самым высоким результатом относят к группе отличников, а K следующих за ними – к группе\n",
        "хорошистов. По заданной информации о результатах каждого из учащихся, а также количеству учащихся в каждой группе\n",
        "определите целую часть среднего балла в группе отличников и группе хорошистов.\n",
        "Входные и выходные данные. В первой строке входного файла 2-2.txt находится два числа, записанные через пробел: N –\n",
        "общее количество результатов учащихся (натуральное число, не превышающее 10 000), K – количество учащихся в каждой из\n",
        "групп. В следующих N строках находятся количества баллов конкретных учащихся (все числа натуральные, не превышающие\n",
        "1000), каждое в отдельной строке. Запишите в ответе два числа: сначала целую часть среднего балла у хорошистов, а затем\n",
        "целую часть среднего балла у отличников."
      ],
      "metadata": {
        "id": "Zv4h3NxjF9lm"
      }
    },
    {
      "cell_type": "code",
      "source": [
        "f = open('26.txt')\n",
        "N, K = map(int, f.readline().split())\n",
        "data = [int(line) for line in f]\n",
        "data.sort(reverse = True)\n",
        "\n",
        "otls = data[0:K]\n",
        "chors = data[K:2*K]\n",
        "\n",
        "print(sum(otls) / len(otls))\n",
        "print(sum(chors) / len(chors))\n",
        "\n"
      ],
      "metadata": {
        "id": "hh-68jTdFLIL"
      },
      "execution_count": null,
      "outputs": []
    },
    {
      "cell_type": "markdown",
      "source": [
        "Робот складывает монеты в ящики. Задача робота заполнить как можно большее количество ящиков монетами в количестве 90 штук. Роботу по конвейеру поступают корзины с монетами. В каждой корзине может быть от 1 до 99 монет. Известно, что робот может высыпать в ящик содержимое не более двух корзин. Корзина должна быть высыпана в ящик полностью. Необходимо определить, сколько ящиков можно заполнить монетами так, чтобы в каждом из них было ровно по 90 монет.\n",
        "\n",
        "Входные данные представлены в файле 26.txt следующим образом. В первой строке записано число N – количество корзин, в каждой из последующих N строк число K – количество монет в каждой корзине.\n",
        "\n",
        "В качестве ответа дать одно число – количество ящиков, заполненными 90 монетами."
      ],
      "metadata": {
        "id": "3mexcKQNW6dM"
      }
    },
    {
      "cell_type": "code",
      "source": [
        "file = open(\"kurs26-monetu.txt\")\n",
        "N = int(file.readline())\n",
        "number = [0]*100\n",
        "for line in file:\n",
        "    coin = int(line)\n",
        "    number[coin] += 1\n",
        "s = 0\n",
        "for coin in range(1, 45):\n",
        "    s += min(number[coin], number[90-coin])\n",
        "s += number[45] // 2\n",
        "s += number[90]\n",
        "print(s)"
      ],
      "metadata": {
        "id": "zZVCK9ixWnwN"
      },
      "execution_count": null,
      "outputs": []
    },
    {
      "cell_type": "code",
      "source": [
        "with open(\"kurs26-monetu.txt\") as F:\n",
        "  n = int(F.readline())\n",
        "  mas = []\n",
        "  for i in range(n):\n",
        "    monet = F.readline()\n",
        "    mas.append(int(monet))\n",
        "\n",
        "kol = 0\n",
        "for i in range(n-1):\n",
        "  for j in range(i+1, n):\n",
        "    if mas[i] + mas[j] == 90:\n",
        "      kol +=1\n",
        "      mas[j] = 0\n",
        "      mas[i] = 0\n",
        "print(kol)"
      ],
      "metadata": {
        "id": "AVS452B-bQlE"
      },
      "execution_count": null,
      "outputs": []
    },
    {
      "cell_type": "code",
      "source": [
        "mn = [int(x) for x in f]\n",
        "k = 0\n",
        "for i in range(n-1):\n",
        "    for j in range(i+1, n):\n",
        "        if mn[i] + mn[j] == 75:\n",
        "            k += 1\n",
        "            mn[j] = mn[i] = 0\n",
        "\n",
        "print(k)\n",
        "\n"
      ],
      "metadata": {
        "id": "tqQqD-URghqe"
      },
      "execution_count": null,
      "outputs": []
    },
    {
      "cell_type": "markdown",
      "source": [
        "Организация купила для своих сотрудников все места в нескольких подряд идущих рядах на концертной площадке. Данные о том какие места уже распределены между сотрудниками хранятся в файле. Найдите ряд с наибольшим номером, в котором есть пять соседних подряд идущих свободных мест, таких что слева и справа от них в том же ряду места уже распределены (заняты). Гарантируется, что есть хотя бы один ряд, удовлетворяющий условию.\n",
        "\n",
        "В первой строке входного файланаходится одно число:  – количество занятых мест (натуральное число, не превышающее ). В следующих  строках находятся пары чисел: ряд и место выкупленного билета, не превышающие .\n",
        "В ответе запишите через пробел два целых числа: номер ряда и наименьший номер места из найденных в этом ряду подходящих пятёрок."
      ],
      "metadata": {
        "id": "ZNB93xG2dbn5"
      }
    },
    {
      "cell_type": "code",
      "source": [
        "f = open('26.txt')\n",
        "N = int(file.readline())\n",
        "H = [[] for row in range(25001)]\n",
        "\n",
        "for line in file:\n",
        "  row_no, no = map(int, line.split())\n",
        "  H[row_no].append(no)\n",
        "\n",
        "for row in H:\n",
        "  row.sort()\n",
        "\n",
        "\n",
        "for k in range(len(H)):\n",
        "  row = H[k]\n",
        "  for i in range(len(row)-1):\n",
        "    a, b = row[i], row[i+1]\n",
        "    if b - a == 5 + 1: # расстояния между занятыми местами. нужно же 5\n",
        "      print(k, a+1)\n",
        "      break\n",
        "\n"
      ],
      "metadata": {
        "id": "Ev1yT6oEbXx_"
      },
      "execution_count": null,
      "outputs": []
    },
    {
      "cell_type": "code",
      "source": [
        "file = open(\"26_4.txt\")\n",
        "N = int(file.readline())\n",
        "H = [[] for row in range(25001)]\n",
        "for line in file:\n",
        "    row_no, no = map(int, line.split())\n",
        "    H[row_no].append(no)\n",
        "for k in range(len(H)):\n",
        "    row = H[k]\n",
        "    row.sort()\n",
        "    for i in range(len(row)-1):\n",
        "        a, b = row[i], row[i+1]\n",
        "        if row[i+1] - row[i] == 5 + 1:\n",
        "            last = (k, row[i]+1)\n",
        "            break\n",
        "print(last)"
      ],
      "metadata": {
        "id": "3esG2Whhgh0e"
      },
      "execution_count": null,
      "outputs": []
    },
    {
      "cell_type": "markdown",
      "source": [
        "На складе лежат пакеты с углём различного веса и стоимости. Вес и стоимость записаны на каждом пакете как натуральные\n",
        "числа: вес не превосходит 100, стоимость не превосходит 10000. Для транспортировки отбираются K пакетов с самой низкой\n",
        "ценой угля за единицу веса; при равной стоимости за единицу веса выбираются пакеты с большим весом. По заданной\n",
        "информации о пакетах с углём и количестве транспортируемых пакетов определите суммарный вес угля в отправленных\n",
        "пакетах и стоимость самого тяжёлого отправленного пакета.\n",
        "Входные данные представлены в файле 2-4.txt следующим образом. В первой строке через пробел записаны числа N -\n",
        "количество пакетов на складе (натуральное число, не превышающее 1000) и K – количество пакетов на отправку (натуральное\n",
        "число, не превосходящее 100). В каждой из последующих N строк через пробел записаны два числа – вес и стоимость каждого\n",
        "пакета. Запишите в ответе два числа – сначала суммарный вес угля в отправленных пакетах, затем стоимость самого тяжёлого\n",
        "отправленного пакета.\n",
        "Пример организации исходных данных во входном файле:"
      ],
      "metadata": {
        "id": "GP244LmILUJ4"
      }
    },
    {
      "cell_type": "code",
      "source": [
        "f = open('26.txt')\n",
        "N, K = map(int, f.readline().split())\n",
        "\n",
        "W = [None] * N\n",
        "C = [None] * N\n",
        "\n",
        "for i in range(N):\n",
        "  W[i], C[i] = map(int, file.readline().split())\n",
        "\n",
        "for k in range(N-1):\n",
        "  for i in range(N-1):\n",
        "    if (C[i] / W[i] > C[i+1] / W[i+1] or\n",
        "        C[i] / W[i] == C[i+1] / W[i+1] and\n",
        "        W[i] < W[i+1]):\n",
        "      W[i], W[i+1] == W[i+1], W[i]\n",
        "      C[i], C[i+1] == C[i+1], C[i]\n",
        "\n",
        "\n",
        "print(sum(W[:K]))\n",
        "print(C[W[:K].index(max(W[:K]))])\n"
      ],
      "metadata": {
        "id": "PxlMwSvcJRGv"
      },
      "execution_count": null,
      "outputs": []
    },
    {
      "cell_type": "code",
      "source": [
        "file = open(\"kurs26-2-4.txt\")\n",
        "N, K = map(int, file.readline().split())\n",
        "data = [tuple(map(int, line.split())) for line in file]\n",
        "data.sort(key=lambda p: (p[1]/p[0], -p[0]))\n",
        "print(sum(w for w, c in data[:K]))  #weight and cost\n",
        "print(max(data[:K], key=lambda p: p[0])[1])"
      ],
      "metadata": {
        "id": "eBCgOKKzShyH"
      },
      "execution_count": null,
      "outputs": []
    },
    {
      "cell_type": "code",
      "source": [
        "f = open('26.txt')\n",
        "N, K = map(int, f.readline().split())\n",
        "data = [tuple(map(int, file.readline().split())) for i in range(N)]\n",
        "data.sort()"
      ],
      "metadata": {
        "id": "QsENUMVwOgG2"
      },
      "execution_count": null,
      "outputs": []
    },
    {
      "cell_type": "code",
      "source": [
        "with open(\"1.txt\") as Fin:\n",
        "  data = Fin.readlines()\n",
        "S, x = map( int, data[0].split() )\n",
        "del data[0]\n",
        "data = sorted( list(map(int, data)) )\n",
        "total = 0\n",
        "for i, val in enumerate(data):\n",
        "  if total + val > S: break\n",
        "    total += val\n",
        "print(i)\n",
        "delta = S - total\n",
        "candidates = [x for x in data if x - data[i-1] <= delta]\n",
        "print(max(candidates))"
      ],
      "metadata": {
        "id": "o2JJ5Reb3sFE"
      },
      "execution_count": null,
      "outputs": []
    },
    {
      "cell_type": "code",
      "source": [],
      "metadata": {
        "id": "oWiaA45mWK_l"
      },
      "execution_count": null,
      "outputs": []
    },
    {
      "cell_type": "markdown",
      "source": [
        "досрочный ЕГЭ"
      ],
      "metadata": {
        "id": "KtxaFNKmRUiv"
      }
    },
    {
      "cell_type": "code",
      "source": [
        "f = open('26.txt')\n",
        "K = int(f.readline()) # количество ячеек багажа\n",
        "N = int(f.readline()) # количество\n",
        "a = []\n",
        "\n",
        "for i in range(N):\n",
        "  st, end = map(int, f.readline().split())\n",
        "  a.append([st, end])\n",
        "a.sort()\n",
        "\n",
        "# окончание времени хранения багажа в ячейках\n",
        "camera = [0] * K\n",
        "count = 0\n",
        "last = 0\n",
        "for i in range(N):\n",
        "  st, end = a[i]\n",
        "  for j in range(K):\n",
        "    if camera[j] < st: # ячейка не сразу освобождается\n",
        "      camera[j] = end\n",
        "      count += 1\n",
        "      last = j+1 # так как индексы с 0 же\n",
        "      break\n",
        "\n",
        "print(count, last)\n",
        "\n"
      ],
      "metadata": {
        "id": "IuIWilZRRW5s"
      },
      "execution_count": null,
      "outputs": []
    },
    {
      "cell_type": "code",
      "source": [
        "file = open('26.txt')\n",
        "S, N = [int(x) for x in file.readline().split()]\n",
        "\n",
        "# [file.readline() for i in range(N)]\n",
        "A = sorted([int(line) for line in file if line.rstrip()])\n",
        "total = 0\n",
        "i = 0\n",
        "while total + A[i] <= S: # всё вместе с тем файлом влезает\n",
        "  total += A[i]\n",
        "  i += 1\n",
        "print(i)  # количество файлов\n",
        "total -= A[i-1] # удаляем последний реально добавленный файл\n",
        "delta = S - total # пространство без последнего добавленного файла\n",
        "max_file = max(A[k] for k in range(i, len(A)) if A[k] <= delta)\n",
        "print(max_file)"
      ],
      "metadata": {
        "id": "KbXeVl9c-05E"
      },
      "execution_count": null,
      "outputs": []
    },
    {
      "cell_type": "code",
      "source": [
        "file = open('26.txt')\n",
        "N, K = map(int, file.readline().split())\n",
        "data = [int(line) for line in file]\n",
        "# участвуют в распродаже - K дорогих товаров\n",
        "data.sort(reverse=True) # по убыванию\n",
        "print(data[K]) # самый дорогой товар вне распродажи\n",
        "print(int(sum(data[:K]) * 0.2)) # сумма всех скидок"
      ],
      "metadata": {
        "id": "-RXJRzIqCxyY"
      },
      "execution_count": null,
      "outputs": []
    },
    {
      "cell_type": "code",
      "source": [
        "f = open('26.txt')\n",
        "n = int(f.readline())\n",
        "a = []\n",
        "b = []\n",
        "\n",
        "for line in file:\n",
        "  if int(line) > 350:\n",
        "    a.append(int(line))\n",
        "  else:\n",
        "    b.append(int(line))\n",
        "a.sort()\n",
        "skidka1 = sum(a[0:len(a)//3]) * 0.75\n",
        "\n",
        "a.sort(reverse=True)\n",
        "stoimost = 0\n",
        "for i in range(2, len(a), 3): # каждый 3 товар\n",
        "  check = a[i-2] + a[i-1] + a[i] * 0.25\n",
        "  if check == int(check):\n",
        "    stoimost += check\n",
        "  else:\n",
        "    stoimost += int(check) + 1\n",
        "\n",
        "print(stoimost + sum(b)) # ответ А\n",
        "print(int(sum(a) + sum(b) - skidka1)+1) # Ответ Б - общая сумма одним чеком\n"
      ],
      "metadata": {
        "id": "pYUxXYzTxYdC"
      },
      "execution_count": null,
      "outputs": []
    },
    {
      "cell_type": "code",
      "source": [
        "file = open('26.txt')\n",
        "N = map(int, file.readline().split())\n",
        "A = [int(line) for line in file]\n"
      ],
      "metadata": {
        "id": "YTxrvqQiENQr"
      },
      "execution_count": null,
      "outputs": []
    },
    {
      "cell_type": "code",
      "source": [
        "a = '12345678990'\n",
        "print(a[-2:])"
      ],
      "metadata": {
        "colab": {
          "base_uri": "https://localhost:8080/"
        },
        "id": "TyKvhth3FiXp",
        "outputId": "61d9eec8-8250-4ddc-8d3c-659b552b8f6b"
      },
      "execution_count": null,
      "outputs": [
        {
          "output_type": "stream",
          "name": "stdout",
          "text": [
            "90\n"
          ]
        }
      ]
    },
    {
      "cell_type": "markdown",
      "source": [
        "Магазин предоставляет оптовому покупателю скидку по следующим правилам:\n",
        "− на каждый второй товар ценой больше 50 рублей предоставляется скидка 15 %;\n",
        "− цена покупки каждого товара со скидкой округляется вверх до целого числа рублей;\n",
        "− порядок товаров в списке определяет магазин и делает это так, чтобы общая сумма скидки была наименьшей.\n",
        "Вам необходимо определить общую цену закупки с учётом скидки и цену самого дорогого товара, на который будет предоставлена скидка.\n",
        "Входные данные. Первая строка входного файла содержит число N – общее количество купленных товаров. Каждая из следующих N строк содержит одно целое число – цену товара в рублях. В ответе запишите два целых числа: сначала общую цену покупки с учётом скидки, затем цену самого дорогого товара, на который предоставлена скидка."
      ],
      "metadata": {
        "id": "5iKYPvuWBsXF"
      }
    },
    {
      "cell_type": "code",
      "source": [
        "import math\n",
        "\n",
        "f = open('kurs26.txt')\n",
        "N = int(f.readline())\n",
        "\n",
        "s = 0 # сумма всей покупки\n",
        "m = 0 # цена самого дорого товара\n",
        "sale = [] # продукты со скидкой\n",
        "\n",
        "for x in f:\n",
        "    x = int(x)\n",
        "    if x > 210:\n",
        "        sale.append(x)\n",
        "    else:\n",
        "        s += x\n",
        "\n",
        "sale.sort()\n",
        "\n",
        "for i in range(len(sale)):\n",
        "    if i < len(sale) // 2:\n",
        "        s += sale[i] * 0.7\n",
        "        m = sale[i]\n",
        "    else:\n",
        "        s += sale[i]\n",
        "\n",
        "\n",
        "print(math.ceil(s), m)\n",
        "\n"
      ],
      "metadata": {
        "id": "Y36iUybbJ7Ac"
      },
      "execution_count": null,
      "outputs": []
    },
    {
      "cell_type": "code",
      "source": [
        "import math\n",
        "file = open('26.txt')\n",
        "N = int(file.readline())\n",
        "goods = [int(file.readline()) for i in range(N)] # все товары\n",
        "less = [x for x in goods if x <= 50] # нет скидки\n",
        "more = [x for x in goods if x > 50]\n",
        "K = len(more)\n",
        "more.sort()\n",
        "# discount = [math.ceil(x * 0.85) for x in more[0:K//2]] # каждый второй товар больше 50 рублей будет получать скидку\n",
        "discount = [int(x ** 0.15) for x in more[0:K//2]] # скидку округляем вниз, товаров со скидкой K // 2 штук\n",
        "print(sum(less) + sum(more) - sum(discount)) # общая стоимость покупки\n",
        "print(more[K // 2 - 1])\n"
      ],
      "metadata": {
        "id": "X6qLp-jEKLbo"
      },
      "execution_count": null,
      "outputs": []
    },
    {
      "cell_type": "code",
      "source": [
        "file = open('26.txt')\n",
        "N = int(file.readline())\n",
        "data = [int(line) for line in file]\n",
        "data.sort()\n",
        "median = data[N//2]\n",
        "mean = sum(data) / N\n",
        "print(sum(mean <= x <= median for x in data))\n",
        "\n",
        "k = 0\n",
        "for x in data:\n",
        "  if mean <= x <= median:\n",
        "    k += 1\n",
        "\n",
        "print(k)"
      ],
      "metadata": {
        "id": "vuHvVu_pPBW4"
      },
      "execution_count": null,
      "outputs": []
    },
    {
      "cell_type": "markdown",
      "metadata": {
        "id": "OZRmJOPLklQ1"
      },
      "source": [
        "# 15 задание"
      ]
    },
    {
      "cell_type": "code",
      "source": [
        "def F(a, x):\n",
        "  return x & a != 0 or x & 13 != 0 or x & 39 == 0\n",
        "\n",
        "for a in range(0, 2**6):\n",
        "  flag = True\n",
        "  for x in range(0, 2**6):\n",
        "    if not F(a, x):\n",
        "      flag = flag and F(a, x)\n",
        "  if flag:\n",
        "    print(a)\n",
        "\n",
        "\n",
        "\n"
      ],
      "metadata": {
        "id": "mdYvQpIryDHu"
      },
      "execution_count": null,
      "outputs": []
    },
    {
      "cell_type": "code",
      "source": [
        "def f(a, x, y):\n",
        "  return (4*x + y < a) or (x < y) or (22 <= x)\n",
        "\n",
        "for a in range(1, 1000):\n",
        "  if all(f(a, x, y) for x in range(0, 100) for y in range(0, 100)):\n",
        "    print(a)\n",
        "    break"
      ],
      "metadata": {
        "colab": {
          "base_uri": "https://localhost:8080/"
        },
        "id": "H3EcAccHHA85",
        "outputId": "1d12f8f1-6cc8-4f33-9028-38bcdd85f77b"
      },
      "execution_count": null,
      "outputs": [
        {
          "output_type": "stream",
          "name": "stdout",
          "text": [
            "106\n"
          ]
        }
      ]
    },
    {
      "cell_type": "code",
      "source": [
        "def f(a, x, y):\n",
        "  return (x**2 + y**2 > 128) or (y < -1*x + a)\n",
        "\n",
        "for a in range(1, 1000):\n",
        "  if all(f(a, x, y) for x in range(0, 100) for y in range(0, 1000)):\n",
        "    print(a)\n",
        "    break"
      ],
      "metadata": {
        "colab": {
          "base_uri": "https://localhost:8080/"
        },
        "id": "hfOr7ufYHhJU",
        "outputId": "cea4802d-ea7c-4929-8ebe-e1ce28e9e0de"
      },
      "execution_count": null,
      "outputs": [
        {
          "output_type": "stream",
          "name": "stdout",
          "text": [
            "17\n"
          ]
        }
      ]
    },
    {
      "cell_type": "code",
      "source": [
        "def f(x, y, a):\n",
        "  return (x >= 12) or (3*x < y) or (x*y < a)\n",
        "\n",
        "for a in range(0, 1000):\n",
        "  if all(f(x, y, a) for x in range(0, 100) for y in range(0, 100)):\n",
        "    print(a)\n",
        "    break"
      ],
      "metadata": {
        "colab": {
          "base_uri": "https://localhost:8080/"
        },
        "id": "E4b9PX1sL2yW",
        "outputId": "1b8f69a5-77cc-435a-aa0a-dcfa653d6fe5"
      },
      "execution_count": null,
      "outputs": [
        {
          "output_type": "stream",
          "name": "stdout",
          "text": [
            "364\n"
          ]
        }
      ]
    },
    {
      "cell_type": "code",
      "source": [
        "def f(x, a, y):\n",
        "  return (x < 4) or (x >= 20) or (y >= (3*x + a)) or (y < 100)\n",
        "\n",
        "for a in range(0, 10000):\n",
        "  if all(f(x, a, y) for x in range(1, 100) for y in range(1, 100)):\n",
        "    print(a)"
      ],
      "metadata": {
        "id": "XE_Q_BXrFDsE"
      },
      "execution_count": null,
      "outputs": []
    },
    {
      "cell_type": "code",
      "source": [
        "def f(x, y, a):\n",
        "  return (84 != 2*x + y) or (a < x) or (a < y)\n",
        "\n",
        "for a in range(0, 100):\n",
        "  if all(f(x, y, a) for x in range(0, 100) for y in range(0, 100)):\n",
        "    print(a)"
      ],
      "metadata": {
        "id": "8-7tiR_VEniV"
      },
      "execution_count": null,
      "outputs": []
    },
    {
      "cell_type": "code",
      "source": [
        "def F(a, x):\n",
        "  return x & a != 0 or x & 13 != 0 or x & 39 == 0\n",
        "\n",
        "for a in range(0, 2**6):\n",
        "  if all([F(a,x) for x in range(0, 2 ** 6)]):\n",
        "    print(a)\n"
      ],
      "metadata": {
        "colab": {
          "base_uri": "https://localhost:8080/"
        },
        "id": "Mc5HDdaK4oje",
        "outputId": "c678ae55-5d06-4d37-8b1b-4c9a86f1a623"
      },
      "execution_count": null,
      "outputs": [
        {
          "output_type": "stream",
          "name": "stdout",
          "text": [
            "34\n",
            "35\n",
            "38\n",
            "39\n",
            "42\n",
            "43\n",
            "46\n",
            "47\n",
            "50\n",
            "51\n",
            "54\n",
            "55\n",
            "58\n",
            "59\n",
            "62\n",
            "63\n"
          ]
        }
      ]
    },
    {
      "cell_type": "markdown",
      "source": [
        "отрезки"
      ],
      "metadata": {
        "id": "i72f8D7x9-5l"
      }
    },
    {
      "cell_type": "code",
      "source": [
        "def F(a, b, x):\n",
        "    if a <= x <= b:\n",
        "        return True\n",
        "    else:\n",
        "        return False\n",
        "\n",
        "mn=10**9\n",
        "\n",
        "for a in range(0, 100):\n",
        "    for b in range(a, 100):\n",
        "        k=0\n",
        "        for i in range(1, 200):\n",
        "            x = i/2\n",
        "            if not( (F(10, 15, x) or F(20, 27, x)) ) or F(a, b, x):\n",
        "                k=k+1\n",
        "\n",
        "        if k==199:\n",
        "            mn=min(mn, b-a)\n",
        "print(mn)"
      ],
      "metadata": {
        "id": "73JO3gAhkV7V"
      },
      "execution_count": null,
      "outputs": []
    },
    {
      "cell_type": "code",
      "source": [
        "def F(A, x):\n",
        "    return (x in P) <= ((x in Q and x not in A) <= (x not in P))\n",
        "\n",
        "P = range(117, 158+1)\n",
        "Q = range(129, 180+1)\n",
        "m = 100000\n",
        "for a in range(117, 180 + 1):\n",
        "    for b in range(a + 1, 180 + 1):\n",
        "        A = range(a, b + 1)\n",
        "        if all(F(A, x) for x in range(115, 190)):\n",
        "            m = min(b - a, m)\n",
        "print(m)"
      ],
      "metadata": {
        "colab": {
          "base_uri": "https://localhost:8080/"
        },
        "id": "kVeaDlVi6q8r",
        "outputId": "0d6e05a4-7288-4c4c-c751-e6570e42cdce"
      },
      "execution_count": null,
      "outputs": [
        {
          "output_type": "stream",
          "name": "stdout",
          "text": [
            "29\n"
          ]
        }
      ]
    },
    {
      "cell_type": "code",
      "source": [
        "P = range(15, 39+1)\n",
        "Q = range(44, 57+1)\n",
        "\n",
        "def f(x, A):\n",
        "  return ((x in P) <= (x in A)) and ((x in Q) <= (x in A))\n",
        "\n",
        "for a in range(15, 57+1):\n",
        "  for b in range(a + 1, 57+1):\n",
        "  A = range(a, b+1)\n",
        "  if all(f(x, A) for x in range())"
      ],
      "metadata": {
        "id": "qfxdPE99YSo9"
      },
      "execution_count": null,
      "outputs": []
    },
    {
      "cell_type": "code",
      "source": [
        "def f(x, a, b):\n",
        "  return ((a <= x <= b) <= (x**2 <= 25)) and ((x**2 <= 9) <= (a <= x <= b))\n",
        "d = 10000\n",
        "for a in range(-100, 100):\n",
        "  for b in range(a, 100):\n",
        "    for x in range(-100, 100):\n",
        "      if not f(x, a, b):\n",
        "        break\n",
        "    else:\n",
        "      d = min(d, b-a)\n",
        "\n",
        "print(d)\n",
        "\n"
      ],
      "metadata": {
        "colab": {
          "base_uri": "https://localhost:8080/"
        },
        "id": "6fWrn1fmJRts",
        "outputId": "a3c4d25b-cbfe-4f2d-e55b-18f8eead6c0d"
      },
      "execution_count": null,
      "outputs": [
        {
          "output_type": "stream",
          "name": "stdout",
          "text": [
            "6\n"
          ]
        }
      ]
    },
    {
      "cell_type": "code",
      "source": [
        "def f(x, a, b):\n",
        "  return ((a <= x <= b) <= (x * x <= 121)) and ((x*x <= 49) <= (a <= x <= b))\n",
        "lens = []\n",
        "d = 1000\n",
        "for a in range(-121*49, 121*49):\n",
        "  for b in range(a, 121*49):\n",
        "    for x in range(-121*49, 121*49):\n",
        "      if f(x, a, b):\n",
        "        break\n",
        "    else:\n",
        "      d = min(d, b-a)\n",
        "\n",
        "print(d)\n"
      ],
      "metadata": {
        "colab": {
          "base_uri": "https://localhost:8080/"
        },
        "id": "kUslDfq_KrI9",
        "outputId": "2b72a64c-c507-4162-8655-b4d337e9ad89"
      },
      "execution_count": null,
      "outputs": [
        {
          "output_type": "stream",
          "name": "stdout",
          "text": [
            "1000\n"
          ]
        }
      ]
    },
    {
      "cell_type": "code",
      "source": [
        "def f(x, a):\n",
        "  return (x & a == 0) <= ((x & 60 != 0) <= (x & 105 != 0))\n",
        "\n",
        "for a in range(0, 100):\n",
        "  if all(f(x, a) for x in range(0, 100)):\n",
        "    print(a)\n",
        "    break"
      ],
      "metadata": {
        "colab": {
          "base_uri": "https://localhost:8080/"
        },
        "id": "sg21wLjSNpf7",
        "outputId": "03bb8092-473e-4aab-ba9e-272f9c5a33f9"
      },
      "execution_count": null,
      "outputs": [
        {
          "output_type": "stream",
          "name": "stdout",
          "text": [
            "20\n"
          ]
        }
      ]
    },
    {
      "cell_type": "code",
      "source": [
        "def f(x, a):\n",
        "  return ((x % 3 == 0) <= (x % 11 != 0)) or (x + a >= 80)\n",
        "\n",
        "for a in range(1, 100):\n",
        "  if all(f(x, a) for x in range(0, 1000)):\n",
        "    print(a)\n",
        "    break"
      ],
      "metadata": {
        "colab": {
          "base_uri": "https://localhost:8080/"
        },
        "id": "_oo1tA2xQOM3",
        "outputId": "f58f90e0-91ae-41a2-cc57-f6fcfe8e7ef1"
      },
      "execution_count": null,
      "outputs": [
        {
          "output_type": "stream",
          "name": "stdout",
          "text": [
            "80\n"
          ]
        }
      ]
    },
    {
      "cell_type": "code",
      "source": [
        "def f(x, a):\n",
        "  return (a % 11 == 0) and ((870 % x == 0) <= ((a % x != 0) <= (1980 % x != 0)))\n",
        "\n",
        "for a in range(1, 1000+1):\n",
        "  if all(f(x, a) for x in range(1, 10000)):\n",
        "    print(a)"
      ],
      "metadata": {
        "colab": {
          "base_uri": "https://localhost:8080/"
        },
        "id": "vopLAh16R_TB",
        "outputId": "fb588b0b-28f4-4e3e-c025-d62f7fb66070"
      },
      "execution_count": null,
      "outputs": [
        {
          "output_type": "stream",
          "name": "stdout",
          "text": [
            "330\n",
            "660\n",
            "990\n"
          ]
        }
      ]
    },
    {
      "cell_type": "code",
      "source": [
        "def f(x, a):\n",
        "  return (x % a != 0) <= ((x % 21 == 0) <= (x % 14 != 0))\n",
        "\n",
        "for a in range(1, 1000):\n",
        "  if all(f(x, a) for x in range(0, 1000)):\n",
        "    print(a)"
      ],
      "metadata": {
        "colab": {
          "base_uri": "https://localhost:8080/"
        },
        "id": "W3gX0XTjTEr2",
        "outputId": "cf91492d-2014-425e-92ae-54207ba1da9e"
      },
      "execution_count": null,
      "outputs": [
        {
          "output_type": "stream",
          "name": "stdout",
          "text": [
            "1\n",
            "2\n",
            "3\n",
            "6\n",
            "7\n",
            "14\n",
            "21\n",
            "42\n"
          ]
        }
      ]
    },
    {
      "cell_type": "code",
      "source": [
        "def f(x):\n",
        "    return ((x%3==0)<=(x%11!=0))or(x+a>=80)\n",
        "for a in range(1,100):\n",
        "    if all(f(x)==1 for x in range(1,1000)):\n",
        "        print(a)"
      ],
      "metadata": {
        "id": "lb1AyjuORIzk"
      },
      "execution_count": null,
      "outputs": []
    },
    {
      "cell_type": "code",
      "source": [
        "def f(x, y, a):\n",
        "  return ((x <= 3) <= (x*x <= a)) and ((y*y <= a) <= (y <= 3))\n",
        "\n",
        "for a in range(0, 100):\n",
        "  if all(f(x, y, a) for x in range(0, 100) for y in range(0, 100)):\n",
        "    print(a)"
      ],
      "metadata": {
        "colab": {
          "base_uri": "https://localhost:8080/"
        },
        "id": "L3Q5S48aFVM4",
        "outputId": "573b9aec-3635-46ff-8613-885c6e350312"
      },
      "execution_count": null,
      "outputs": [
        {
          "output_type": "stream",
          "name": "stdout",
          "text": [
            "9\n",
            "10\n",
            "11\n",
            "12\n",
            "13\n",
            "14\n",
            "15\n"
          ]
        }
      ]
    },
    {
      "cell_type": "markdown",
      "source": [
        "координатная плоскость"
      ],
      "metadata": {
        "id": "h1ERDUSLELFa"
      }
    },
    {
      "cell_type": "code",
      "source": [
        "def F(x, y, A):\n",
        "    return (x > 3 or x**2 <= A) and (y**2 > A or y <= 3)\n",
        "\n",
        "for A in range(0, 100):\n",
        "    if all(F(x, y, A) for x in range(1, 100) for y in range(1, 100)):\n",
        "        print(A)"
      ],
      "metadata": {
        "id": "4nIMFz0zEKts"
      },
      "execution_count": null,
      "outputs": []
    },
    {
      "cell_type": "code",
      "source": [
        "def f(x, y, a):\n",
        "  return (y + 2*x < a) or (y + x > 6) or (y-x < 4)\n",
        "\n",
        "for a in range(0, 100):\n",
        "  if all(f(x, y, a) for x in range(0, 100) for y in range(0, 100)):\n",
        "    print(a)"
      ],
      "metadata": {
        "id": "JQ4dYnr2F6BP"
      },
      "execution_count": null,
      "outputs": []
    },
    {
      "cell_type": "code",
      "source": [
        "def f(x, y, a):\n",
        "  return ((x <= 3) <= (x**2 <= a)) and ((y**2 <= a) <= (y <= 3))\n",
        "\n",
        "for a in range(0, 100):\n",
        "  if all(f(x, y, a) for x in range(0, 100) for y in range(0, 100)):\n",
        "    print(a)"
      ],
      "metadata": {
        "colab": {
          "base_uri": "https://localhost:8080/"
        },
        "id": "pGckEt4vGb8A",
        "outputId": "120c25a8-0fff-4607-b0a9-dc298b1aab46"
      },
      "execution_count": null,
      "outputs": [
        {
          "output_type": "stream",
          "name": "stdout",
          "text": [
            "9\n",
            "10\n",
            "11\n",
            "12\n",
            "13\n",
            "14\n",
            "15\n"
          ]
        }
      ]
    },
    {
      "cell_type": "code",
      "source": [
        "def f(x, y, a):\n",
        "  return ((x <= 4) <= (x**2 <= a)) and ((y**2 <= a) <= (y <= 4))\n",
        "\n",
        "for a in range(0, 100):\n",
        "  if all(f(x, y, a) for x in range(0, 100) for y in range(0, 100)):\n",
        "    print(a)\n",
        "    break"
      ],
      "metadata": {
        "colab": {
          "base_uri": "https://localhost:8080/"
        },
        "id": "B2U9jaoCHuL2",
        "outputId": "028be342-d44b-4e02-d3c5-1a1e8c0078e2"
      },
      "execution_count": null,
      "outputs": [
        {
          "output_type": "stream",
          "name": "stdout",
          "text": [
            "16\n"
          ]
        }
      ]
    },
    {
      "cell_type": "code",
      "source": [
        "def f(x, y, a):\n",
        "  return (6*y - 2*x > a) or (x + 4*y < 80) or (2*y-3*x < -72)\n",
        "\n",
        "for a in range(0, 100):\n",
        "  if all(f(x, y, a) for x in range(0, 100) for y in range(0, 100)):\n",
        "    print(a)"
      ],
      "metadata": {
        "colab": {
          "base_uri": "https://localhost:8080/"
        },
        "id": "8tYchL5QIIoT",
        "outputId": "372dc044-3425-4b0f-ba0d-a32d408cb04a"
      },
      "execution_count": null,
      "outputs": [
        {
          "output_type": "stream",
          "name": "stdout",
          "text": [
            "0\n",
            "1\n",
            "2\n",
            "3\n",
            "4\n",
            "5\n",
            "6\n",
            "7\n"
          ]
        }
      ]
    },
    {
      "cell_type": "code",
      "source": [
        "def f(x, a):\n",
        "  return ((x % 3 == 0) <= (not(x % 9 == 0))) or (x + a >= 108)\n",
        "\n",
        "for a in range(0, 10000):\n",
        "  if all(f(x, a) for x in range(0, 100)):\n",
        "    print(a)\n",
        "    break"
      ],
      "metadata": {
        "colab": {
          "base_uri": "https://localhost:8080/"
        },
        "id": "qx3S-UtXG3kl",
        "outputId": "eaa5eec5-aed7-4529-ae3e-e52ada8b7945"
      },
      "execution_count": null,
      "outputs": [
        {
          "output_type": "stream",
          "name": "stdout",
          "text": [
            "108\n"
          ]
        }
      ]
    },
    {
      "cell_type": "code",
      "source": [],
      "metadata": {
        "id": "Ef4yAc8pImTv"
      },
      "execution_count": null,
      "outputs": []
    },
    {
      "cell_type": "code",
      "source": [
        "def F(x, y, a):\n",
        "  return (y + 2*x < a or 3*y + 2*x > 120 or 3*y - x > 30)\n",
        "\n",
        "for a in range(1, 180):\n",
        "  if all(F(x, y, a) for x in range(0, 60) for y in range(0, 60)):\n",
        "    print(a)\n",
        "    break"
      ],
      "metadata": {
        "colab": {
          "base_uri": "https://localhost:8080/"
        },
        "id": "nhax8UTJGlF1",
        "outputId": "7d2efab7-30af-4c61-afdc-301c7dd4633e"
      },
      "execution_count": null,
      "outputs": [
        {
          "output_type": "stream",
          "name": "stdout",
          "text": [
            "119\n"
          ]
        }
      ]
    },
    {
      "cell_type": "code",
      "source": [
        "limit = 60\n",
        "for A in range(3 ** limit):\n",
        "  if all(y+2*x < A or 3*y + 2*x > 120 or 3*y - x> 30 for x in range(1, limit) for y in range(1, limit)):\n",
        "    print(A)\n",
        "    break\n"
      ],
      "metadata": {
        "colab": {
          "base_uri": "https://localhost:8080/"
        },
        "id": "PLptgQ7qITZG",
        "outputId": "13330fbb-9d6e-483b-b13c-44b86b122290"
      },
      "execution_count": null,
      "outputs": [
        {
          "output_type": "stream",
          "name": "stdout",
          "text": [
            "118\n"
          ]
        }
      ]
    },
    {
      "cell_type": "markdown",
      "source": [
        "ДЕЛ\n",
        "\n",
        "x % A == 0 or x % 6 != 0 or x % 9 != 0"
      ],
      "metadata": {
        "id": "5QR_9enoJ7RW"
      }
    },
    {
      "cell_type": "code",
      "source": [
        "def f(x, a):\n",
        "  return (x % a == 0) <= ((x % 20 == 0) or (x % 37 == 0))\n",
        "\n",
        "\n",
        "for a in range(1, 20*37):\n",
        "  if all(f(x, a) for x in range(0, 20*37)):\n",
        "    print(a)\n",
        "    break\n",
        "\n",
        "\n"
      ],
      "metadata": {
        "colab": {
          "base_uri": "https://localhost:8080/"
        },
        "id": "8WsbzEGWJzJK",
        "outputId": "657be4ac-d174-4a4b-af8b-c82491869470"
      },
      "execution_count": null,
      "outputs": [
        {
          "output_type": "stream",
          "name": "stdout",
          "text": [
            "20\n"
          ]
        }
      ]
    },
    {
      "cell_type": "code",
      "source": [
        "def f(x, a):\n",
        "  return ((not x % a == 0) and (x % 21 == 0)) <= (x % 14 == 0)\n",
        "\n",
        "for a in range(1, 14*21):\n",
        "  if all(f(x, a) for x in range(0, 14*21)):\n",
        "    print(a)\n"
      ],
      "metadata": {
        "colab": {
          "base_uri": "https://localhost:8080/"
        },
        "id": "02j5w4CmLOQg",
        "outputId": "bb439ce9-861d-466d-c45a-a7731af28e4e"
      },
      "execution_count": null,
      "outputs": [
        {
          "output_type": "stream",
          "name": "stdout",
          "text": [
            "1\n",
            "3\n",
            "7\n",
            "21\n"
          ]
        }
      ]
    },
    {
      "cell_type": "markdown",
      "metadata": {
        "id": "nHq3PNtQlB3y"
      },
      "source": [
        "\n",
        "Дел (m, n) -> натуральное число n делится без остатка на натуральное число m\n",
        "для какого числа a формула тождественно истинна (принимает 1 при любом значение x)"
      ]
    },
    {
      "cell_type": "code",
      "execution_count": null,
      "metadata": {
        "colab": {
          "base_uri": "https://localhost:8080/"
        },
        "id": "K-tIECtGkrCT",
        "outputId": "cd9b7ab8-ae4f-4d6c-a9c8-680cf3f2cbad"
      },
      "outputs": [
        {
          "output_type": "stream",
          "name": "stdout",
          "text": [
            "90\n",
            "180\n",
            "270\n",
            "360\n",
            "450\n",
            "540\n",
            "630\n",
            "720\n",
            "810\n",
            "900\n",
            "990\n"
          ]
        }
      ],
      "source": [
        "for a in range(1, 1000):\n",
        "  flag = 1 # значение a подходит\n",
        "  for x in range(1, 10000):  # если хотя бы в одном варианте из 10к есть не 1, то мы пропускаем итерацию\n",
        "    f = (a%9==0) and ((280 % x == 0) <= ((a % x != 0) <= (730 % x != 0)))\n",
        "    if f == 0:\n",
        "      flag = 0\n",
        "      break\n",
        "\n",
        "  if flag:\n",
        "    print(a)"
      ]
    },
    {
      "cell_type": "code",
      "source": [
        "for a in range(1, 100):\n",
        "  for x in range(1, 100000):\n",
        "    f = ((x % 34 == 0) and (not(x % 51 == 0))) <= ((not(x % a == 0)) or (x % 51 == 0))\n",
        "    if f == 0:\n",
        "      break\n",
        "  else:\n",
        "    print(a)"
      ],
      "metadata": {
        "colab": {
          "base_uri": "https://localhost:8080/"
        },
        "id": "y14m79DCm23_",
        "outputId": "2efe74c2-339c-4790-b7fc-97c775769923"
      },
      "execution_count": null,
      "outputs": [
        {
          "output_type": "stream",
          "name": "stdout",
          "text": [
            "3\n",
            "6\n",
            "9\n",
            "12\n",
            "15\n",
            "18\n",
            "21\n",
            "24\n",
            "27\n",
            "30\n",
            "33\n",
            "36\n",
            "39\n",
            "42\n",
            "45\n",
            "48\n",
            "51\n",
            "54\n",
            "57\n",
            "60\n",
            "63\n",
            "66\n",
            "69\n",
            "72\n",
            "75\n",
            "78\n",
            "81\n",
            "84\n",
            "87\n",
            "90\n",
            "93\n",
            "96\n",
            "99\n"
          ]
        }
      ]
    },
    {
      "cell_type": "code",
      "source": [
        "def f(x):\n",
        "  return ((x % 84 != 0) or (x % 90 != 0)) <= (not(x % a == 0))\n",
        "\n",
        "\n",
        "for a in range(1, 10000):\n",
        "  if all(f(x) == 1 for x in range(1, 1000000)):\n",
        "    print(a)"
      ],
      "metadata": {
        "colab": {
          "base_uri": "https://localhost:8080/"
        },
        "id": "VS20T2XqpNCO",
        "outputId": "8fea7505-e77b-4756-e86c-db421fcfd78c"
      },
      "execution_count": null,
      "outputs": [
        {
          "output_type": "stream",
          "name": "stdout",
          "text": [
            "1260\n",
            "2520\n",
            "3780\n",
            "5040\n",
            "6300\n",
            "7560\n",
            "8820\n"
          ]
        }
      ]
    },
    {
      "cell_type": "code",
      "source": [
        "def f(x):\n",
        "  return (x & 41 == 0) <= ((x & 119 != 0) <= (x & a != 0))\n",
        "\n",
        "for a in range(1, 100):\n",
        "  if all(f(x)==1 for x in range(1, 1000)):\n",
        "    print(a)"
      ],
      "metadata": {
        "colab": {
          "base_uri": "https://localhost:8080/"
        },
        "id": "dJtlNRfSrZNd",
        "outputId": "83d8e68f-0ad3-49aa-a665-e9ce57bd4ae6"
      },
      "execution_count": null,
      "outputs": [
        {
          "output_type": "stream",
          "name": "stdout",
          "text": [
            "86\n",
            "87\n",
            "94\n",
            "95\n"
          ]
        }
      ]
    },
    {
      "cell_type": "code",
      "source": [
        "def f(x):\n",
        "  return (((x & 13 != 0) or (x & a != 0)) <= (x & 13 != 0)) or ((x & a != 0) and (x & 39 == 0))\n",
        "\n",
        "for a in range(1, 100):\n",
        "  if all(f(x)==1 for x in range(1, 1000)):\n",
        "    print(a)"
      ],
      "metadata": {
        "colab": {
          "base_uri": "https://localhost:8080/"
        },
        "id": "H6fiNMpPr76m",
        "outputId": "abcb799a-e2de-447d-9953-7f2afb2e3d88"
      },
      "execution_count": null,
      "outputs": [
        {
          "output_type": "stream",
          "name": "stdout",
          "text": [
            "1\n",
            "4\n",
            "5\n",
            "8\n",
            "9\n",
            "12\n",
            "13\n"
          ]
        }
      ]
    },
    {
      "cell_type": "markdown",
      "source": [
        "тождественно ложно при поразрядной конъюнкции"
      ],
      "metadata": {
        "id": "w5CPKotixUp8"
      }
    },
    {
      "cell_type": "code",
      "source": [
        "def f(x):\n",
        "  return (x & a == 0) and (x & 41 != 0) and (x & 33 == 0)\n",
        "\n",
        "for a in range(1, 100):\n",
        "  if all(f(x) == 0 for x in range(1, 10000)):\n",
        "    print(a)"
      ],
      "metadata": {
        "colab": {
          "base_uri": "https://localhost:8080/"
        },
        "id": "EuQUtkZpw9Xl",
        "outputId": "2f2fe445-844e-4d27-d78a-c167dfcd2010"
      },
      "execution_count": null,
      "outputs": [
        {
          "output_type": "stream",
          "name": "stdout",
          "text": [
            "8\n",
            "9\n",
            "10\n",
            "11\n",
            "12\n",
            "13\n",
            "14\n",
            "15\n",
            "24\n",
            "25\n",
            "26\n",
            "27\n",
            "28\n",
            "29\n",
            "30\n",
            "31\n",
            "40\n",
            "41\n",
            "42\n",
            "43\n",
            "44\n",
            "45\n",
            "46\n",
            "47\n",
            "56\n",
            "57\n",
            "58\n",
            "59\n",
            "60\n",
            "61\n",
            "62\n",
            "63\n",
            "72\n",
            "73\n",
            "74\n",
            "75\n",
            "76\n",
            "77\n",
            "78\n",
            "79\n",
            "88\n",
            "89\n",
            "90\n",
            "91\n",
            "92\n",
            "93\n",
            "94\n",
            "95\n"
          ]
        }
      ]
    },
    {
      "cell_type": "code",
      "source": [
        "def f(x):\n",
        "  B = (x & 17 != 0) <= ((x & a != 0)<=(x & 58 != 0))\n",
        "  A =\n",
        "  return B <="
      ],
      "metadata": {
        "id": "8DEyulADxclW"
      },
      "execution_count": null,
      "outputs": []
    },
    {
      "cell_type": "code",
      "source": [
        "for a in range(1, 1000):\n",
        "  flag = 1\n",
        "  for x in range(1, 10000):\n",
        "    for y in range(1, 10000):\n",
        "      f = (4*x + y > 115) or (x > 3*y) or (x + 4*y < a)\n",
        "      if f:\n",
        "        flag = 0\n",
        "        break\n",
        "  if flag:\n",
        "    print(a)\n"
      ],
      "metadata": {
        "id": "oJkLFYISuzo8"
      },
      "execution_count": null,
      "outputs": []
    },
    {
      "cell_type": "markdown",
      "metadata": {
        "id": "X_5lb91UfRsJ"
      },
      "source": [
        "# 27 задание"
      ]
    },
    {
      "cell_type": "code",
      "source": [
        "dec_map = {}\n",
        "file = open('27-177a.txt').readlines()\n",
        "massiv1 = [int(x) for x in file]\n",
        "\n",
        "# dec_map[massiv1[0]] == massiv1[len(massiv1)-1]\n",
        "\n",
        "for p in range(len(massiv1) - 1):\n",
        "  dec_map[file[p]] = file[p+1]\n",
        "\n",
        "print(dec_map)\n"
      ],
      "metadata": {
        "colab": {
          "base_uri": "https://localhost:8080/"
        },
        "id": "OB0nYQH2uxkz",
        "outputId": "1f5831de-ec07-4be1-adc5-532a5b76baf5"
      },
      "execution_count": null,
      "outputs": [
        {
          "output_type": "stream",
          "name": "stdout",
          "text": [
            "{'20\\n': '9\\n', '9\\n': '6\\n', '4\\n': '8\\n', '8\\n': '10\\n', '6\\n': '1\\n', '10\\n': '0\\n', '7\\n': '4\\n', '3\\n': '6\\n', '1\\n': '8\\n', '0\\n': '8\\n'}\n"
          ]
        }
      ]
    },
    {
      "cell_type": "code",
      "source": [
        "file_data = [int(x) for x in open('27-a.txt')]\n",
        "l_num = file_data[0]\n",
        "file_data.remove(file_data[0])\n",
        "dup = []\n",
        "\n",
        "def checker(k):\n",
        "    otr = []\n",
        "    pol = []\n",
        "    for i in k:\n",
        "        if i > 0:\n",
        "            pol.append(i)\n",
        "        elif i < 0:\n",
        "            otr.append(i)\n",
        "        elif i == 0:\n",
        "            continue\n",
        "\n",
        "    return len(pol) == len(otr)\n",
        "\n",
        "\n",
        "def get_next_number(num, g_num):\n",
        "    ind = file_data.index(num)\n",
        "\n",
        "\n",
        "for x in file_data:\n",
        "    k = 0\n",
        "    c = 1\n",
        "    h_list = []\n",
        "    while k != l_num - 1:\n",
        "        f_num = get_next_number(x, c)\n",
        "        h_list.append(f_num)\n",
        "        if checker:\n",
        "            get\n",
        "\n",
        "\n",
        "\n",
        "\n"
      ],
      "metadata": {
        "id": "kJ9n8VufgSon"
      },
      "execution_count": null,
      "outputs": []
    },
    {
      "cell_type": "code",
      "source": [
        "file = [int(x) for x in open('27-177a.txt')]\n",
        "print(file)\n",
        "ng = []\n",
        "sums = []\n",
        "ng.append((file[0], file[len(file)-1]))\n",
        "for x in range(len(file)-1):\n",
        "  ng.append((file[x], file[x+1]))\n",
        "\n",
        "for z in file:\n",
        "  for k in file:\n",
        "    if (k, z) in ng and (z, k) in ng:\n",
        "      continue\n",
        "    sums.append(k+z)\n",
        "\n",
        "print(sum(sums))\n",
        "\n",
        "\n",
        "\n",
        "\n",
        "\n",
        "\n",
        "\n",
        "\n"
      ],
      "metadata": {
        "colab": {
          "base_uri": "https://localhost:8080/"
        },
        "id": "PLrw0QrAWVN6",
        "outputId": "4e8e45c9-050e-4dcd-a7c8-3fad55f68bea"
      },
      "execution_count": null,
      "outputs": [
        {
          "output_type": "stream",
          "name": "stdout",
          "text": [
            "[20, 9, 4, 8, 9, 6, 10, 7, 10, 3, 6, 7, 4, 8, 1, 6, 1, 8, 10, 0, 8]\n",
            "5658\n"
          ]
        }
      ]
    },
    {
      "cell_type": "code",
      "execution_count": null,
      "metadata": {
        "id": "jKfLTDARfV8V"
      },
      "outputs": [],
      "source": [
        "f = open('27.txt')\n",
        "n = int(f.readline())\n",
        "a = [int(s) for s in f]\n",
        "par = []\n",
        "cnt = 0\n",
        "for i in range(len(a)):\n",
        "  for j in range(i + 1, n):\n",
        "    if (a[i] + a[j]) % 6 == 0:\n",
        "      cnt += 1\n",
        "print(cnt)"
      ]
    },
    {
      "cell_type": "markdown",
      "metadata": {
        "id": "x0fVapsRj9vH"
      },
      "source": [
        "Выбрать из каждой пары ровно 1 число, чтоб сумма была максимальной и не делилась на 3"
      ]
    },
    {
      "cell_type": "code",
      "execution_count": null,
      "metadata": {
        "id": "5r33Me7ogmSS"
      },
      "outputs": [],
      "source": [
        "file = open('271.txt')\n",
        "n = int(file.readline())\n",
        "m = 0\n",
        "rmin = 10 ** 5\n",
        "\n",
        "\n",
        "for i in range(n):\n",
        "  a, b = map(int, file.readline().split())\n",
        "  m += max(a, b)\n",
        "  r = abs(a - b)\n",
        "  if r % 3 == 0 and r < rmin:\n",
        "    rmin = r\n",
        "\n",
        "if m % 3 == 0:\n",
        "  print(m)\n",
        "else:\n",
        "  print(s - m  )"
      ]
    },
    {
      "cell_type": "code",
      "execution_count": null,
      "metadata": {
        "colab": {
          "base_uri": "https://localhost:8080/"
        },
        "id": "fAR0EWh1npwp",
        "outputId": "8b2cc5e2-bd3c-4403-aeb0-dee29e719351"
      },
      "outputs": [
        {
          "name": "stdout",
          "output_type": "stream",
          "text": [
            "20\n",
            "[(20, 702), (823, 702), (707, 702), (71, 702), (570, 702), (666, 702), (232, 702), (702, 20), (702, 823), (702, 707), (702, 71), (702, 570), (702, 666), (702, 232), (702, 886), (702, 636), (702, 287), (702, 88), (702, 214), (702, 827), (702, 876), (702, 18), (702, 704), (702, 227), (702, 89), (702, 595), (702, 411), (886, 702), (636, 702), (287, 702), (88, 702), (214, 702), (827, 702), (876, 702), (18, 702), (704, 702), (227, 702), (89, 702), (595, 702), (411, 702)]\n"
          ]
        }
      ],
      "source": [
        "from itertools import *\n",
        "cnt = 0\n",
        "dup = []\n",
        "nums = [int(x) for x in open('27.txt')]\n",
        "perm_nums = []\n",
        "ans = []\n",
        "\n",
        "for n in product(nums, repeat=2):\n",
        "  if n[0] != n[1]:\n",
        "      perm_nums.append(n)\n",
        "\n",
        "for par in perm_nums:\n",
        "  if (par[0] * par[1]) % 26 == 0:\n",
        "    cnt += 1\n",
        "    ans.append(par)\n",
        "\n",
        "print(cnt // 2)\n",
        "print(ans)\n"
      ]
    },
    {
      "cell_type": "markdown",
      "source": [
        "# 25 задание\n"
      ],
      "metadata": {
        "id": "xWdLcGJ64qmq"
      }
    },
    {
      "cell_type": "markdown",
      "source": [
        "# маски чисел"
      ],
      "metadata": {
        "id": "_h9ELiUnztU_"
      }
    },
    {
      "cell_type": "code",
      "source": [
        "from fnmatch import *\n",
        "\n",
        "for x in range(0, 10**9, 27):\n",
        "  if fnmatch(str(x), '12345?7?8'):\n",
        "    print(x, x // 27)"
      ],
      "metadata": {
        "colab": {
          "base_uri": "https://localhost:8080/"
        },
        "id": "Dgnp2s9Rzz3o",
        "outputId": "ff3542c5-b6e3-4fcf-d3ce-8e2c8c8d9c27"
      },
      "execution_count": null,
      "outputs": [
        {
          "output_type": "stream",
          "name": "stdout",
          "text": [
            "123452748 4572324\n",
            "123455718 4572434\n",
            "123456798 4572474\n",
            "123459768 4572584\n"
          ]
        }
      ]
    },
    {
      "cell_type": "code",
      "source": [
        "A = {int(f'12345{x}7{y}8') for x in range(10) for y in range(10)}\n",
        "B = {x for x in range(0, 10**9, 27)}\n",
        "\n",
        "for i in B:\n",
        "  if i in A:\n",
        "    print(i)"
      ],
      "metadata": {
        "colab": {
          "base_uri": "https://localhost:8080/"
        },
        "id": "vQTsAWgY11CC",
        "outputId": "b93b4233-ae7e-40f1-83e9-2336dc799a3a"
      },
      "execution_count": null,
      "outputs": [
        {
          "output_type": "stream",
          "name": "stdout",
          "text": [
            "123452748\n",
            "123455718\n",
            "123456798\n",
            "123459768\n"
          ]
        }
      ]
    },
    {
      "cell_type": "code",
      "source": [
        "for x in range(0, 10**9, 27):\n",
        "  s = str(x)\n",
        "  if x % 27 == 0 and \\\n",
        "  s[:5] == '12345' and s[6] == '7' and s[-1] == '8':\n",
        "    print(x)"
      ],
      "metadata": {
        "colab": {
          "base_uri": "https://localhost:8080/"
        },
        "id": "E7F8CroP7vMu",
        "outputId": "6c204c89-d81e-4ac7-c814-e2e2fa6cc66e"
      },
      "execution_count": null,
      "outputs": [
        {
          "output_type": "stream",
          "name": "stdout",
          "text": [
            "123452748\n",
            "123455718\n",
            "123456798\n",
            "123459768\n"
          ]
        }
      ]
    },
    {
      "cell_type": "code",
      "source": [
        "#\"12345?7?8\"\n",
        "for a in range(10):\n",
        "    for b in range(10):\n",
        "        x = int(f\"12345{a}7{b}8\")\n",
        "        if x % 27 == 0:\n",
        "            print(x)"
      ],
      "metadata": {
        "colab": {
          "base_uri": "https://localhost:8080/"
        },
        "id": "aMA6fZD1_8Cn",
        "outputId": "ee3292cf-0cf4-4889-f1de-abdd9facb081"
      },
      "execution_count": null,
      "outputs": [
        {
          "output_type": "stream",
          "name": "stdout",
          "text": [
            "123452748\n",
            "123455718\n",
            "123456798\n",
            "123459768\n"
          ]
        }
      ]
    },
    {
      "cell_type": "code",
      "source": [
        "from fnmatch import *\n",
        "\n",
        "for x in range(0, 10**10, 2023):\n",
        "  if fnmatch(str(x), '1?5719*6'):\n",
        "    print(x, x // 2023)"
      ],
      "metadata": {
        "colab": {
          "base_uri": "https://localhost:8080/"
        },
        "id": "sqIm0S7sAa0e",
        "outputId": "d3449767-9df8-464b-e820-5d695db64a84"
      },
      "execution_count": null,
      "outputs": [
        {
          "output_type": "stream",
          "name": "stdout",
          "text": [
            "115719646 57202\n",
            "1257197396 621452\n",
            "1357194286 670882\n",
            "1457191176 720312\n",
            "1857198966 918042\n",
            "1957195856 967472\n"
          ]
        }
      ]
    },
    {
      "cell_type": "code",
      "source": [
        "for x in range(0, 10**10, 7411):\n",
        "  if fnmatch(str(x), '8?779*9') and str(x).count('0') > 0:\n",
        "    print(x, x//7411)"
      ],
      "metadata": {
        "colab": {
          "base_uri": "https://localhost:8080/"
        },
        "id": "ex0EN_vYJJ4h",
        "outputId": "09675076-55f9-404f-dd64-b292779a0213"
      },
      "execution_count": null,
      "outputs": [
        {
          "output_type": "stream",
          "name": "stdout",
          "text": [
            "807799 109\n",
            "807791589 108999\n",
            "8077908479 1089989\n",
            "8077982589 1089999\n",
            "8377905759 1130469\n",
            "8677903039 1170949\n",
            "8977900319 1211429\n"
          ]
        }
      ]
    },
    {
      "cell_type": "code",
      "source": [
        "from fnmatch import *\n",
        "x = 55000\n",
        "count = 0\n",
        "\n",
        "while count < 4:\n",
        "  if fnmatch(str(x), '5*97*5?'):\n",
        "    divs2 = [d for d in range(1, x + 1) if x % d == 0 and d % 2 == 0]\n",
        "    if len(divs2) >= 5:\n",
        "      print(x, sum(divs2))\n",
        "      count += 1\n",
        "  x += 1\n"
      ],
      "metadata": {
        "colab": {
          "base_uri": "https://localhost:8080/"
        },
        "id": "CLS7YjknLs1q",
        "outputId": "3d5d6393-3ad4-4ec2-f208-6f60751774bd"
      },
      "execution_count": null,
      "outputs": [
        {
          "output_type": "stream",
          "name": "stdout",
          "text": [
            "59750 74880\n",
            "59752 131712\n",
            "59754 83328\n",
            "509750 636480\n"
          ]
        }
      ]
    },
    {
      "cell_type": "code",
      "source": [
        "for x in range(0, 10**10, 7411):\n",
        "  s = str(x)\n",
        "  if len(s) < 6: continue\n",
        "  if '0' not in s: continue\n",
        "  a, b, c, d, e, *_, f = s\n",
        "  if a+b+c+d+e+f == '87799':\n",
        "    print(x, x // 7411)"
      ],
      "metadata": {
        "id": "PJnS9cXGJ27P"
      },
      "execution_count": null,
      "outputs": []
    },
    {
      "cell_type": "code",
      "source": [
        "for x in range(0, 10**10, 2023):\n",
        "  # 1?5716 * 6\n",
        "  s = str(x)\n",
        "  if s[0] == '1' and s[2:6] == '5719' and s[-1] == '6':\n",
        "    print(x, x // 2023)"
      ],
      "metadata": {
        "colab": {
          "base_uri": "https://localhost:8080/"
        },
        "id": "O7oAnORQFiGB",
        "outputId": "2b2f2a03-9e61-4bc9-8d95-ddf1b40d19f5"
      },
      "execution_count": null,
      "outputs": [
        {
          "output_type": "stream",
          "name": "stdout",
          "text": [
            "115719646 57202\n",
            "1257197396 621452\n",
            "1357194286 670882\n",
            "1457191176 720312\n",
            "1857198966 918042\n",
            "1957195856 967472\n"
          ]
        }
      ]
    },
    {
      "cell_type": "code",
      "source": [
        "for x in range(0, 10**10, 2023):\n",
        "  s = str(x)\n",
        "  if fnmatch(s, '1?2139*4'):\n",
        "    print(x, x // 2023)"
      ],
      "metadata": {
        "colab": {
          "base_uri": "https://localhost:8080/"
        },
        "id": "QvtvZdUUGqXa",
        "outputId": "564a3bd9-6a8f-4424-eafc-dfc3809c684f"
      },
      "execution_count": null,
      "outputs": [
        {
          "output_type": "stream",
          "name": "stdout",
          "text": [
            "162139404 80148\n",
            "1321399324 653188\n",
            "1421396214 702618\n",
            "1521393104 752048\n"
          ]
        }
      ]
    },
    {
      "cell_type": "markdown",
      "source": [
        "количество делителей"
      ],
      "metadata": {
        "id": "xXGEoTZH6yQj"
      }
    },
    {
      "cell_type": "code",
      "source": [
        "dels = [d for d in range(1, n+1) if n % d == 0]"
      ],
      "metadata": {
        "id": "OiEbGH-y6Xw-"
      },
      "execution_count": null,
      "outputs": []
    },
    {
      "cell_type": "code",
      "source": [
        "for i in range(194_567, 194_570+1):\n",
        "  divs = [d for d in range(1, i+1) if i % d == 0 and d % 2 != 0]\n",
        "  if len(divs) == 4:\n",
        "    print(i, divs)"
      ],
      "metadata": {
        "colab": {
          "base_uri": "https://localhost:8080/"
        },
        "id": "IMBFPetv4IqT",
        "outputId": "7a54a8d8-82f2-4fe9-cd39-25bb0e7714f5"
      },
      "execution_count": null,
      "outputs": [
        {
          "output_type": "stream",
          "name": "stdout",
          "text": [
            "194567 [1, 103, 1889, 194567]\n",
            "194570 [1, 5, 19457, 97285]\n"
          ]
        }
      ]
    },
    {
      "cell_type": "markdown",
      "source": [
        "имеющие 4 различных делителя"
      ],
      "metadata": {
        "id": "iXfRh94y8AL8"
      }
    },
    {
      "cell_type": "code",
      "source": [
        "for x in range(194_455, 194_500 + 1):\n",
        "  divs = [d for d in range(1, x + 1) if x % d == 0]\n",
        "  if len(divs) == 4:\n",
        "    print(*divs)"
      ],
      "metadata": {
        "colab": {
          "base_uri": "https://localhost:8080/"
        },
        "id": "13dIPtZY7YZ-",
        "outputId": "7a19a6b8-edff-49eb-ffb9-7378d64b4d12"
      },
      "execution_count": null,
      "outputs": [
        {
          "output_type": "stream",
          "name": "stdout",
          "text": [
            "1 5 38891 194455\n",
            "1 163 1193 194459\n",
            "1 139 1399 194461\n",
            "1 2 97231 194462\n",
            "1 113 1721 194473\n",
            "1 439 443 194477\n",
            "1 2 97241 194482\n",
            "1 43 4523 194489\n",
            "1 11 17681 194491\n"
          ]
        }
      ]
    },
    {
      "cell_type": "code",
      "source": [
        "for x in range(904_528, 997_438 + 1):\n",
        "  divs = [d for d in range(1, x + 1) if x % d == 0]\n",
        "  if len(divs) == 5:\n",
        "    print(*divs)"
      ],
      "metadata": {
        "colab": {
          "base_uri": "https://localhost:8080/",
          "height": 297
        },
        "id": "S7YjIuiOCvxs",
        "outputId": "dd8408ff-e5a5-4632-fb0c-68ca1380c492"
      },
      "execution_count": null,
      "outputs": [
        {
          "output_type": "error",
          "ename": "KeyboardInterrupt",
          "evalue": "",
          "traceback": [
            "\u001b[0;31m---------------------------------------------------------------------------\u001b[0m",
            "\u001b[0;31mKeyboardInterrupt\u001b[0m                         Traceback (most recent call last)",
            "\u001b[0;32m<ipython-input-5-82c53af62786>\u001b[0m in \u001b[0;36m<cell line: 1>\u001b[0;34m()\u001b[0m\n\u001b[1;32m      1\u001b[0m \u001b[0;32mfor\u001b[0m \u001b[0mx\u001b[0m \u001b[0;32min\u001b[0m \u001b[0mrange\u001b[0m\u001b[0;34m(\u001b[0m\u001b[0;36m904_528\u001b[0m\u001b[0;34m,\u001b[0m \u001b[0;36m997_438\u001b[0m \u001b[0;34m+\u001b[0m \u001b[0;36m1\u001b[0m\u001b[0;34m)\u001b[0m\u001b[0;34m:\u001b[0m\u001b[0;34m\u001b[0m\u001b[0;34m\u001b[0m\u001b[0m\n\u001b[0;32m----> 2\u001b[0;31m   \u001b[0mdivs\u001b[0m \u001b[0;34m=\u001b[0m \u001b[0;34m[\u001b[0m\u001b[0md\u001b[0m \u001b[0;32mfor\u001b[0m \u001b[0md\u001b[0m \u001b[0;32min\u001b[0m \u001b[0mrange\u001b[0m\u001b[0;34m(\u001b[0m\u001b[0;36m1\u001b[0m\u001b[0;34m,\u001b[0m \u001b[0mx\u001b[0m \u001b[0;34m+\u001b[0m \u001b[0;36m1\u001b[0m\u001b[0;34m)\u001b[0m \u001b[0;32mif\u001b[0m \u001b[0mx\u001b[0m \u001b[0;34m%\u001b[0m \u001b[0md\u001b[0m \u001b[0;34m==\u001b[0m \u001b[0;36m0\u001b[0m\u001b[0;34m]\u001b[0m\u001b[0;34m\u001b[0m\u001b[0;34m\u001b[0m\u001b[0m\n\u001b[0m\u001b[1;32m      3\u001b[0m   \u001b[0;32mif\u001b[0m \u001b[0mlen\u001b[0m\u001b[0;34m(\u001b[0m\u001b[0mdivs\u001b[0m\u001b[0;34m)\u001b[0m \u001b[0;34m==\u001b[0m \u001b[0;36m5\u001b[0m\u001b[0;34m:\u001b[0m\u001b[0;34m\u001b[0m\u001b[0;34m\u001b[0m\u001b[0m\n\u001b[1;32m      4\u001b[0m     \u001b[0mprint\u001b[0m\u001b[0;34m(\u001b[0m\u001b[0;34m*\u001b[0m\u001b[0mdivs\u001b[0m\u001b[0;34m)\u001b[0m\u001b[0;34m\u001b[0m\u001b[0;34m\u001b[0m\u001b[0m\n",
            "\u001b[0;32m<ipython-input-5-82c53af62786>\u001b[0m in \u001b[0;36m<listcomp>\u001b[0;34m(.0)\u001b[0m\n\u001b[1;32m      1\u001b[0m \u001b[0;32mfor\u001b[0m \u001b[0mx\u001b[0m \u001b[0;32min\u001b[0m \u001b[0mrange\u001b[0m\u001b[0;34m(\u001b[0m\u001b[0;36m904_528\u001b[0m\u001b[0;34m,\u001b[0m \u001b[0;36m997_438\u001b[0m \u001b[0;34m+\u001b[0m \u001b[0;36m1\u001b[0m\u001b[0;34m)\u001b[0m\u001b[0;34m:\u001b[0m\u001b[0;34m\u001b[0m\u001b[0;34m\u001b[0m\u001b[0m\n\u001b[0;32m----> 2\u001b[0;31m   \u001b[0mdivs\u001b[0m \u001b[0;34m=\u001b[0m \u001b[0;34m[\u001b[0m\u001b[0md\u001b[0m \u001b[0;32mfor\u001b[0m \u001b[0md\u001b[0m \u001b[0;32min\u001b[0m \u001b[0mrange\u001b[0m\u001b[0;34m(\u001b[0m\u001b[0;36m1\u001b[0m\u001b[0;34m,\u001b[0m \u001b[0mx\u001b[0m \u001b[0;34m+\u001b[0m \u001b[0;36m1\u001b[0m\u001b[0;34m)\u001b[0m \u001b[0;32mif\u001b[0m \u001b[0mx\u001b[0m \u001b[0;34m%\u001b[0m \u001b[0md\u001b[0m \u001b[0;34m==\u001b[0m \u001b[0;36m0\u001b[0m\u001b[0;34m]\u001b[0m\u001b[0;34m\u001b[0m\u001b[0;34m\u001b[0m\u001b[0m\n\u001b[0m\u001b[1;32m      3\u001b[0m   \u001b[0;32mif\u001b[0m \u001b[0mlen\u001b[0m\u001b[0;34m(\u001b[0m\u001b[0mdivs\u001b[0m\u001b[0;34m)\u001b[0m \u001b[0;34m==\u001b[0m \u001b[0;36m5\u001b[0m\u001b[0;34m:\u001b[0m\u001b[0;34m\u001b[0m\u001b[0;34m\u001b[0m\u001b[0m\n\u001b[1;32m      4\u001b[0m     \u001b[0mprint\u001b[0m\u001b[0;34m(\u001b[0m\u001b[0;34m*\u001b[0m\u001b[0mdivs\u001b[0m\u001b[0;34m)\u001b[0m\u001b[0;34m\u001b[0m\u001b[0;34m\u001b[0m\u001b[0m\n",
            "\u001b[0;31mKeyboardInterrupt\u001b[0m: "
          ]
        }
      ]
    },
    {
      "cell_type": "markdown",
      "source": [
        "Среди целых чисел, принадлежащих числовому отрезку [228224; 531135], найдите числа,\n",
        "среди делителей которых есть хотя бы 4 различных куба натуральных нечетных чисел.\n",
        "Для каждого найденного числа запишите в ответе само число, количество таких\n",
        "делителей и наибольший из них. В качестве делителей не рассматривать число 1 и само\n",
        "исследуемое число. Так, например, для числа 8 учитываются только делители 2 и 4."
      ],
      "metadata": {
        "id": "OvwHLNko81I8"
      }
    },
    {
      "cell_type": "code",
      "source": [
        "for x in range(228_224, 531_135+1):\n",
        "  d = 3 # начинаем с нечётного числа\n",
        "  divs = []\n",
        "  while d**3 < x:\n",
        "    if x % d **3 == 0:\n",
        "      divs.append(d ** 3)\n",
        "    d += 2 # потому что числа нечётные\n",
        "  if len(divs) >= 4:\n",
        "    print(x, len(divs), max(divs))"
      ],
      "metadata": {
        "colab": {
          "base_uri": "https://localhost:8080/"
        },
        "id": "Am2Gbyu5-cqZ",
        "outputId": "0cf48ba7-fa80-440a-fc63-424da3ecc671"
      },
      "execution_count": null,
      "outputs": [
        {
          "output_type": "stream",
          "name": "stdout",
          "text": [
            "250047 4 9261\n",
            "273375 5 91125\n",
            "364500 5 91125\n",
            "421875 4 15625\n",
            "455625 5 91125\n",
            "500094 5 250047\n"
          ]
        }
      ]
    },
    {
      "cell_type": "code",
      "source": [
        "ans = []\n",
        "\n",
        "def to_six(x):\n",
        "  s = ''\n",
        "  while x != 0:\n",
        "    s += str(x % 6)\n",
        "    x = x // 6\n",
        "\n",
        "  return s[::-1]\n",
        "\n",
        "def check(x):\n",
        "  s_num = to_six(x)\n",
        "  return (s_num[-1] != str(x)[-1] and (x % 11 == 0 or x % 12 == 0 or x % 17 == 0))\n",
        "\n",
        "for i in range(7747, 25121+1):\n",
        "  if check(i):\n",
        "    ans.append(i)\n",
        "\n",
        "\n",
        "print(len(ans), max(ans))"
      ],
      "metadata": {
        "colab": {
          "base_uri": "https://localhost:8080/"
        },
        "id": "cKXmr_cj7gxE",
        "outputId": "bcf7e1ab-f3ea-4976-8a4f-c98d82a42c52"
      },
      "execution_count": null,
      "outputs": [
        {
          "output_type": "stream",
          "name": "stdout",
          "text": [
            "2998 25116\n"
          ]
        }
      ]
    },
    {
      "cell_type": "code",
      "source": [
        "def check(divs: list):\n",
        "  s1 = s2 = 0\n",
        "  for d in divs:\n",
        "    if d % 2 == 0:\n",
        "      s1 += 1\n",
        "    else:\n",
        "      s2 += 1\n",
        "  return (s1==s2==5)\n",
        "\n",
        "\n",
        "\n",
        "for x in range(1_000_000, 5_000_000+1):\n",
        "  divs = [d for d in range(1, x+1) if x % d == 0]\n",
        "  if len(divs) == 10:\n",
        "    if check(divs):\n",
        "      print(x)\n"
      ],
      "metadata": {
        "id": "BCtwPL0_Bzy4"
      },
      "execution_count": null,
      "outputs": []
    },
    {
      "cell_type": "code",
      "source": [
        "print(to_six(9)[-1])"
      ],
      "metadata": {
        "colab": {
          "base_uri": "https://localhost:8080/"
        },
        "id": "QBkrc-mB9YuE",
        "outputId": "4e31cf8e-41c8-4f15-eb41-6f6c4a091461"
      },
      "execution_count": null,
      "outputs": [
        {
          "output_type": "stream",
          "name": "stdout",
          "text": [
            "3\n"
          ]
        }
      ]
    },
    {
      "cell_type": "code",
      "source": [
        "for x in range(228_224, 531_135 + 1):\n",
        "    divs = [d**3 for d in range(3, int(x ** (1/3)), 2)\n",
        "             if x % d**3 == 0]\n",
        "    if len(divs) >= 4:\n",
        "        print(x, len(divs), divs[-1])"
      ],
      "metadata": {
        "id": "c7Y1sN4HAe7v"
      },
      "execution_count": null,
      "outputs": []
    },
    {
      "cell_type": "code",
      "source": [],
      "metadata": {
        "id": "BRWMyqFOLzN_"
      },
      "execution_count": null,
      "outputs": []
    },
    {
      "cell_type": "code",
      "source": [
        "A = range(904528, 997438 + 1)\n",
        "p = 3 # простые числа\n",
        "\n",
        "while p ** 4 < 10 ** 6:\n",
        "  # отсев\n",
        "  if all(p % d != 0 for d in range(2, int(p**0.5))):\n",
        "    x = p ** 4\n",
        "    if x in A:\n",
        "      print(1, p, p**2, p**3, x)\n",
        "  p += 2\n"
      ],
      "metadata": {
        "colab": {
          "base_uri": "https://localhost:8080/"
        },
        "id": "d9oA9xykB4Jz",
        "outputId": "b5673876-437e-49b2-bd29-fc641ab0c582"
      },
      "execution_count": null,
      "outputs": [
        {
          "output_type": "stream",
          "name": "stdout",
          "text": [
            "1 31 961 29791 923521\n"
          ]
        }
      ]
    },
    {
      "cell_type": "code",
      "source": [
        "for x in range(904528, 997438 + 1):\n",
        "    divs1 = [d for d in range(1, int(x**0.5)+1) if x % d == 0]\n",
        "    divs2 = [x // d for d in divs1 if d**2 != x]\n",
        "    print(divs1, divs2)\n",
        "    break\n",
        "    divs = divs1 + divs2[::-1]\n",
        "    if len(divs) == 5:\n",
        "        print(*divs)"
      ],
      "metadata": {
        "id": "6kuMIk6fHQ3e",
        "colab": {
          "base_uri": "https://localhost:8080/"
        },
        "outputId": "37f95cd3-6349-4ec9-ed29-3e5d8a4f84c7"
      },
      "execution_count": null,
      "outputs": [
        {
          "output_type": "stream",
          "name": "stdout",
          "text": [
            "[1, 2, 4, 8, 16] [904528, 452264, 226132, 113066, 56533]\n"
          ]
        }
      ]
    },
    {
      "cell_type": "code",
      "source": [
        "for x in range(1500000, 3000000+1):\n",
        "  divs1 = [d for d in range(1, int(x**0.5)+1) if x % d == 0 and d % 2 != 0]\n",
        "  divs2 = [x // d for d in divs1 if d**2 != x and d % 2 != 0]\n",
        "  divs = divs1 + divs2[::-1]\n",
        "  if len(divs) == 7:\n",
        "    print(x)"
      ],
      "metadata": {
        "colab": {
          "base_uri": "https://localhost:8080/"
        },
        "id": "V1xF-5a75EhY",
        "outputId": "b9f88626-2f87-4dd9-a157-20ca1c35e01a"
      },
      "execution_count": null,
      "outputs": [
        {
          "output_type": "stream",
          "name": "stdout",
          "text": [
            "1771561\n"
          ]
        }
      ]
    },
    {
      "cell_type": "code",
      "source": [
        "from math import sqrt\n",
        "def simpl(n):\n",
        "  nDel = 0\n",
        "  for d in range(2, round(sqrt(n)) + 1):\n",
        "    if n % d == 0:\n",
        "      nDel += 1\n",
        "      break\n",
        "  if nDel == 0:\n",
        "    return True\n",
        "  else:\n",
        "    return False"
      ],
      "metadata": {
        "id": "LB5fweywNGU6"
      },
      "execution_count": null,
      "outputs": []
    },
    {
      "cell_type": "code",
      "source": [
        "def is_simple(x): #проверка на простоту\n",
        "  if x % 2 == 0:\n",
        "    return False\n",
        "  d = 3\n",
        "  while d ** 2 <= x:\n",
        "    if x % d == 0:\n",
        "      return False\n",
        "    d += 2\n",
        "  return True\n",
        "\n",
        "\n",
        "n = 1\n",
        "for x in range(3_532_001, 3_532_160, 2):\n",
        "  if is_simple(x):\n",
        "    print(n, x)\n",
        "    n += 1\n",
        "\n"
      ],
      "metadata": {
        "colab": {
          "base_uri": "https://localhost:8080/"
        },
        "id": "JERbg-bHLRJZ",
        "outputId": "fa88ceb0-aa9c-48e6-fbe3-e4ce31a28bf5"
      },
      "execution_count": null,
      "outputs": [
        {
          "output_type": "stream",
          "name": "stdout",
          "text": [
            "1 3532007\n",
            "2 3532019\n",
            "3 3532021\n",
            "4 3532033\n",
            "5 3532049\n",
            "6 3532091\n",
            "7 3532103\n",
            "8 3532121\n",
            "9 3532147\n"
          ]
        }
      ]
    },
    {
      "cell_type": "code",
      "source": [
        "def check(x):\n",
        "  if x % 2 == 0:\n",
        "    return False\n",
        "  d = 3\n",
        "  while d ** 2 <= x:\n",
        "    if x % d == 0:\n",
        "      return False\n",
        "    d += 2\n",
        "  return True\n",
        "\n",
        "for n in range(3175777, 3175811+1):\n",
        "  if check(n):\n",
        "    print(n)"
      ],
      "metadata": {
        "colab": {
          "base_uri": "https://localhost:8080/"
        },
        "id": "uh-ohCEt3MHH",
        "outputId": "a3ed33f1-6bde-4e03-a194-cbb374cb12c3"
      },
      "execution_count": null,
      "outputs": [
        {
          "output_type": "stream",
          "name": "stdout",
          "text": [
            "3175789\n",
            "3175801\n",
            "3175811\n"
          ]
        }
      ]
    },
    {
      "cell_type": "code",
      "source": [
        "def is_simple(x):\n",
        "    return all(x % d != 0 for d in range(2, int(x**0.5) + 1))\n",
        "\n",
        "A = []\n",
        "for x in range(573_213, 575_340 + 1):\n",
        "    d = 2\n",
        "    while d**2 <= x and x % d != 0:\n",
        "        d += 1\n",
        "    if x % d == 0:\n",
        "        d2 = x // d\n",
        "        if d2 != d and is_simple(d2):\n",
        "            A.append([1, d, d2, x])\n",
        "the_divs = min(A, key=sum)\n",
        "print(sum(the_divs), the_divs[-2])"
      ],
      "metadata": {
        "id": "rjrT5pp7Om_F"
      },
      "execution_count": null,
      "outputs": []
    },
    {
      "cell_type": "code",
      "source": [
        "A = []\n",
        "for x in range(573_213, 575_340 + 1):\n",
        "  print(x)\n",
        "  divs1 = [d for d in range(1, int(x**0.5)) if x % d == 0]\n",
        "  print(divs1)\n",
        "  divs2 = [x // d for d in divs1 if x != d*d]\n",
        "  print(divs2)\n",
        "  divs = divs1 + divs2[::-1]\n",
        "  if len(divs) == 4:\n",
        "    A.append(sum(divs))\n",
        "    break\n",
        "\n",
        "the_divs = min(A, key=sum)\n",
        "print(the_divs)"
      ],
      "metadata": {
        "colab": {
          "base_uri": "https://localhost:8080/",
          "height": 245
        },
        "id": "ZDKJcKQdQaoo",
        "outputId": "f395011a-4447-49f6-fdd8-3c8e4b8edc37"
      },
      "execution_count": null,
      "outputs": [
        {
          "output_type": "stream",
          "name": "stdout",
          "text": [
            "573213\n",
            "[1, 3]\n",
            "[573213, 191071]\n"
          ]
        },
        {
          "output_type": "error",
          "ename": "TypeError",
          "evalue": "'int' object is not iterable",
          "traceback": [
            "\u001b[0;31m---------------------------------------------------------------------------\u001b[0m",
            "\u001b[0;31mTypeError\u001b[0m                                 Traceback (most recent call last)",
            "\u001b[0;32m<ipython-input-14-7fdc9f545bd1>\u001b[0m in \u001b[0;36m<cell line: 13>\u001b[0;34m()\u001b[0m\n\u001b[1;32m     11\u001b[0m     \u001b[0;32mbreak\u001b[0m\u001b[0;34m\u001b[0m\u001b[0;34m\u001b[0m\u001b[0m\n\u001b[1;32m     12\u001b[0m \u001b[0;34m\u001b[0m\u001b[0m\n\u001b[0;32m---> 13\u001b[0;31m \u001b[0mthe_divs\u001b[0m \u001b[0;34m=\u001b[0m \u001b[0mmin\u001b[0m\u001b[0;34m(\u001b[0m\u001b[0mA\u001b[0m\u001b[0;34m,\u001b[0m \u001b[0mkey\u001b[0m\u001b[0;34m=\u001b[0m\u001b[0msum\u001b[0m\u001b[0;34m)\u001b[0m\u001b[0;34m\u001b[0m\u001b[0;34m\u001b[0m\u001b[0m\n\u001b[0m\u001b[1;32m     14\u001b[0m \u001b[0mprint\u001b[0m\u001b[0;34m(\u001b[0m\u001b[0mthe_divs\u001b[0m\u001b[0;34m)\u001b[0m\u001b[0;34m\u001b[0m\u001b[0;34m\u001b[0m\u001b[0m\n",
            "\u001b[0;31mTypeError\u001b[0m: 'int' object is not iterable"
          ]
        }
      ]
    },
    {
      "cell_type": "code",
      "source": [
        "A = []\n",
        "for x in range(351_627, 428_763 + 1):\n",
        "    divs1 = [d for d in range(1, int(x**0.5) + 1) if x % d == 0]\n",
        "    divs2 = [x // d for d in divs1 if x != d*d]\n",
        "    divs = divs1 + divs2[::-1]\n",
        "    if len(divs) == 4:\n",
        "        A.append(x)\n",
        "print(len(A), sum(A)/len(A))"
      ],
      "metadata": {
        "id": "isKxrfa7UGhd"
      },
      "execution_count": null,
      "outputs": []
    },
    {
      "cell_type": "code",
      "source": [
        "n = 0\n",
        "x = 700_001\n",
        "while n < 3:\n",
        "    divs1 = [d for d in range(2, int(x**0.5) + 1) if x % d == 0]\n",
        "    divs2 = [x // d for d in divs1 if x != d*d]\n",
        "    divs = divs1 + divs2[::-1]\n",
        "    M = sum(divs)\n",
        "    if M > 10**6:\n",
        "        print(x, M)\n",
        "        n += 1\n",
        "    x += 1"
      ],
      "metadata": {
        "id": "JHRIyVcbWthi"
      },
      "execution_count": null,
      "outputs": []
    },
    {
      "cell_type": "markdown",
      "source": [],
      "metadata": {
        "id": "dvLG8RwO6x2u"
      }
    },
    {
      "cell_type": "code",
      "source": [
        "from fnmatch import *\n",
        "\n",
        "for x in range(0, 10**10, 3147):\n",
        "  if fnmatch(str(x), '1*4302?1'):\n",
        "     print(x, x // 3147)"
      ],
      "metadata": {
        "id": "uzFiQgz04vxJ"
      },
      "execution_count": null,
      "outputs": []
    },
    {
      "cell_type": "code",
      "source": [
        "from fnmatch import *\n",
        "\n",
        "for x in range(0, 10**9, 17): # перебираем только числа, кратные 17-ти\n",
        "  if fnmatch(str(x), '23?456?89'):\n",
        "    print(x, x // 17)\n"
      ],
      "metadata": {
        "id": "DiEn1mYR41N7",
        "colab": {
          "base_uri": "https://localhost:8080/"
        },
        "outputId": "d95ca823-673d-45d7-ce8c-4cb203f1fde0"
      },
      "execution_count": null,
      "outputs": [
        {
          "output_type": "stream",
          "name": "stdout",
          "text": [
            "231456989 13615117\n",
            "232456589 13673917\n",
            "233456189 13732717\n",
            "236456689 13909217\n",
            "237456289 13968017\n"
          ]
        }
      ]
    },
    {
      "cell_type": "code",
      "source": [
        "for x in range(0, 10**9, 169):\n",
        "  if fnmatch(str(x), '345*789?'):\n",
        "    print(x, x//169)"
      ],
      "metadata": {
        "colab": {
          "base_uri": "https://localhost:8080/"
        },
        "id": "HHCwDB1Q6tLP",
        "outputId": "f3721cda-a50b-4d7f-f357-3a6c09b21c10"
      },
      "execution_count": null,
      "outputs": [
        {
          "output_type": "stream",
          "name": "stdout",
          "text": [
            "345017894 2041526\n",
            "345307898 2043242\n",
            "345367893 2043597\n",
            "345657897 2045313\n",
            "345717892 2045668\n"
          ]
        }
      ]
    },
    {
      "cell_type": "code",
      "source": [
        "for x in range(0, 10**6, 51):\n",
        "  if fnmatch(str(x), '56*98*'):\n",
        "    print(x, x//51)"
      ],
      "metadata": {
        "colab": {
          "base_uri": "https://localhost:8080/"
        },
        "id": "qLGITPLu7Uy6",
        "outputId": "aadb3759-839d-4023-9091-a5f46fa8ebe4"
      },
      "execution_count": null,
      "outputs": [
        {
          "output_type": "stream",
          "name": "stdout",
          "text": [
            "560898 10998\n",
            "562989 11039\n",
            "565998 11098\n",
            "567987 11137\n",
            "569823 11173\n",
            "569874 11174\n"
          ]
        }
      ]
    },
    {
      "cell_type": "code",
      "source": [
        "for x in range(102, 10**6, 51): # важно начать с числа, кратного 51!\n",
        "  s = str(x)\n",
        "  if s[0] + s[1] == '56' and '98' in s:\n",
        "    print(x, x//51)"
      ],
      "metadata": {
        "colab": {
          "base_uri": "https://localhost:8080/"
        },
        "id": "wMhI9r1M8Cn1",
        "outputId": "c26a0777-8e4f-4e59-bd77-7ab702b48fee"
      },
      "execution_count": null,
      "outputs": [
        {
          "output_type": "stream",
          "name": "stdout",
          "text": [
            "560898 10998\n",
            "562989 11039\n",
            "565998 11098\n",
            "567987 11137\n",
            "569823 11173\n",
            "569874 11174\n"
          ]
        }
      ]
    },
    {
      "cell_type": "markdown",
      "source": [
        "наименьшие 7 чисел, кратных 6, 7 и 8. Также выведите сумму его делителей"
      ],
      "metadata": {
        "id": "dSS4ldJX87VW"
      }
    },
    {
      "cell_type": "code",
      "source": [
        "def div(x):\n",
        "  d = set()\n",
        "  for i in range(1, int(x**0.5) + 1):\n",
        "    if x % i == 0:\n",
        "      d.add(i)\n",
        "      d.add(x // i)\n",
        "  return sorted(d)\n",
        "\n",
        "\n",
        "c = 0\n",
        "for x in range(0, 10**7):\n",
        "  if fnmatch(str(x), '?8*8*?8') and x % 6 == 0 and x % 7 == 0 and x % 8 == 0:\n",
        "    c+=1\n",
        "    print(x, sum(list(div(x))))\n",
        "    if c == 7:\n",
        "      break"
      ],
      "metadata": {
        "colab": {
          "base_uri": "https://localhost:8080/"
        },
        "id": "5sMUuL1A8nRk",
        "outputId": "4dba4184-88a1-4d23-8916-edb43dc13f59"
      },
      "execution_count": null,
      "outputs": [
        {
          "output_type": "stream",
          "name": "stdout",
          "text": [
            "38808 133380\n",
            "48888 152880\n",
            "185808 565440\n",
            "188328 576000\n",
            "288288 1100736\n",
            "384888 1152000\n",
            "388248 1109760\n"
          ]
        }
      ]
    },
    {
      "cell_type": "markdown",
      "source": [
        "7 наибольших чисел, которые кратны 217. и выведите сумму нечётных делителей числа"
      ],
      "metadata": {
        "id": "aXZj4c8o--Sq"
      }
    },
    {
      "cell_type": "code",
      "source": [
        "def div(x):\n",
        "  d = set()\n",
        "  for i in range(1, int(x**0.5) + 1):\n",
        "    if x % i == 0:\n",
        "      d.add(i)\n",
        "      d.add(x // i)\n",
        "  return sorted(d)\n",
        "\n",
        "\n",
        "for x in range(0, 10**7, 217):\n",
        "  if fnmatch(str(x), '27?7*'):\n",
        "    dels = [i for i in div(x) if i % 2 != 0]\n",
        "    print(x, sum(dels))\n"
      ],
      "metadata": {
        "id": "vU7B6u1m-wCb"
      },
      "execution_count": null,
      "outputs": []
    },
    {
      "cell_type": "markdown",
      "source": [
        "шестнадцатеричная маска 1?DEC?CED\n",
        "деление на 79-16\n",
        "\n",
        "ответ записать в порядке убывания"
      ],
      "metadata": {
        "id": "rXTrMVSaBCdx"
      }
    },
    {
      "cell_type": "code",
      "source": [
        "b = []\n",
        "for c1 in '0123456789abcdef':\n",
        "  for c2 in '0123456789abcdef':\n",
        "    a = int(f'1{c1}ded{c2}ced', 16)\n",
        "    if a % 121 == 0:\n",
        "      b += [(a, a//121)]\n",
        "\n",
        "\n",
        "for x in b[::-1]:\n",
        "  print(*x)"
      ],
      "metadata": {
        "colab": {
          "base_uri": "https://localhost:8080/"
        },
        "id": "JnagZ0fiBQLs",
        "outputId": "0f76ccd5-5b52-451a-e38f-3efbd51883c3"
      },
      "execution_count": null,
      "outputs": [
        {
          "output_type": "stream",
          "name": "stdout",
          "text": [
            "8555171053 70703893\n",
            "6407666925 52955925\n",
            "5065538797 41863957\n"
          ]
        }
      ]
    },
    {
      "cell_type": "code",
      "source": [
        "for x in range(0, 10**10, 121):\n",
        "  if fnmatch(hex(x)[2:], '1?ded?ced'):\n",
        "    print(x, x//121)"
      ],
      "metadata": {
        "id": "UE6v8VuQCf4j"
      },
      "execution_count": null,
      "outputs": []
    },
    {
      "cell_type": "markdown",
      "source": [
        "ч - произвольная чётная цифра, Н - произвольная нечётная цифра"
      ],
      "metadata": {
        "id": "9vuXH2stC9eA"
      }
    },
    {
      "cell_type": "code",
      "source": [
        "for x in range(0, 10**8, 2023):\n",
        "  if fnmatch(str(x), '11[02468]??[13579]11'):    # [] - 1 символ из набора\n",
        "    print(x, x//2023)"
      ],
      "metadata": {
        "colab": {
          "base_uri": "https://localhost:8080/"
        },
        "id": "uXckI2y3DeZA",
        "outputId": "e3bab8b6-c152-4d7a-8923-4e95c9724e99"
      },
      "execution_count": null,
      "outputs": [
        {
          "output_type": "stream",
          "name": "stdout",
          "text": [
            "11039511 5457\n",
            "11444111 5657\n",
            "11848711 5857\n"
          ]
        }
      ]
    },
    {
      "cell_type": "code",
      "source": [
        "for x in range(0, 10**8, 206):\n",
        "  if fnmatch(str(x), '123*[13579][02468]56'):\n",
        "    print(x, x//206)"
      ],
      "metadata": {
        "colab": {
          "base_uri": "https://localhost:8080/"
        },
        "id": "XvYkz4U4D-05",
        "outputId": "8d5be3bb-6a4f-44b7-b614-6bec7410a93f"
      },
      "execution_count": null,
      "outputs": [
        {
          "output_type": "stream",
          "name": "stdout",
          "text": [
            "1231056 5976\n",
            "12313856 59776\n",
            "12355056 59976\n",
            "12375656 60076\n"
          ]
        }
      ]
    },
    {
      "cell_type": "markdown",
      "source": [
        "# Методы Хирьянова"
      ],
      "metadata": {
        "id": "BpGUKKcNvLJ5"
      }
    },
    {
      "cell_type": "code",
      "source": [
        "from functools import cache\n",
        "\n",
        "@cache\n",
        "def W(x):\n",
        "  if x >= 29: return -1\n",
        "  return -min(W(p) for p in [x+1, x*2])\n",
        "\n",
        "@cache\n",
        "def T(x):\n",
        "  if x >= 29: return 0\n",
        "  if W(x) == -1: return max(T(p) for p in [x+1, x*2])\n",
        "  return 1 + min(T(p) for p in [x+1, x*2] if W(p) == -1)\n",
        "\n",
        "for x in range(1, 29):\n",
        "  print(x, W(x), T(x), 'внимание' if W(x) * T(x) in {-1, +2, -2} else '')"
      ],
      "metadata": {
        "id": "unRZoKH4Esb6"
      },
      "execution_count": null,
      "outputs": []
    },
    {
      "cell_type": "code",
      "source": [
        "from functools import cache\n",
        "\n",
        "def pos(x, y):\n",
        "    return [(x+1, y), (x*2, y), (x, y+1), (x, y*2)]\n",
        "\n",
        "@cache\n",
        "def W(x, y):\n",
        "    if x + y >= 63: return -1\n",
        "    return -min(W(*p) for p in pos(x, y))\n",
        "\n",
        "@cache\n",
        "def T(x, y):\n",
        "    if x + y >= 63:\n",
        "        return 0\n",
        "    if W(x, y) == -1:\n",
        "        return max(T(*p) for p in pos(x, y))\n",
        "    return 1 + min(T(*p) for p in pos(x, y) if W(*p) == -1)\n",
        "\n",
        "for y in range(1, 57):\n",
        "    w = W(5, y)\n",
        "    t = T(5, y)\n",
        "    print(y, w, t, \"внимание!\" if w*t in {-1, +2, -2} else \"\")"
      ],
      "metadata": {
        "colab": {
          "base_uri": "https://localhost:8080/"
        },
        "id": "ewjJLmeLzVjH",
        "outputId": "53828a18-fa38-4671-cef4-ebb8e5b4ff21"
      },
      "execution_count": null,
      "outputs": [
        {
          "output_type": "stream",
          "name": "stdout",
          "text": [
            "1 1 9 \n",
            "2 1 8 \n",
            "3 1 8 \n",
            "4 -1 7 \n",
            "5 1 7 \n",
            "6 1 6 \n",
            "7 1 6 \n",
            "8 1 5 \n",
            "9 1 7 \n",
            "10 -1 6 \n",
            "11 1 5 \n",
            "12 1 6 \n",
            "13 1 6 \n",
            "14 -1 5 \n",
            "15 1 5 \n",
            "16 1 8 \n",
            "17 -1 7 \n",
            "18 1 4 \n",
            "19 -1 6 \n",
            "20 1 6 \n",
            "21 1 5 \n",
            "22 -1 4 \n",
            "23 1 4 \n",
            "24 1 3 \n",
            "25 -1 2 внимание!\n",
            "26 1 2 внимание!\n",
            "27 -1 2 внимание!\n",
            "28 1 2 внимание!\n",
            "29 1 1 \n",
            "30 1 1 \n",
            "31 1 1 \n",
            "32 1 1 \n",
            "33 1 1 \n",
            "34 1 1 \n",
            "35 1 1 \n",
            "36 1 1 \n",
            "37 1 1 \n",
            "38 1 1 \n",
            "39 1 1 \n",
            "40 1 1 \n",
            "41 1 1 \n",
            "42 1 1 \n",
            "43 1 1 \n",
            "44 1 1 \n",
            "45 1 1 \n",
            "46 1 1 \n",
            "47 1 1 \n",
            "48 1 1 \n",
            "49 1 1 \n",
            "50 1 1 \n",
            "51 1 1 \n",
            "52 1 1 \n",
            "53 1 1 \n",
            "54 1 1 \n",
            "55 1 1 \n",
            "56 1 1 \n"
          ]
        }
      ]
    },
    {
      "cell_type": "code",
      "source": [
        "from itertools import *\n",
        "\n",
        "def pos(x, y):\n",
        "    return [(x+1, y), (x*2, y), (x, y+1), (x, y*2)]\n",
        "\n",
        "M = 63 # ограничитель\n",
        "Universe = set(product(range(1, M*2), range(1, M*2))) # множество всех чисел\n"
      ],
      "metadata": {
        "id": "TsoTSVOE2-i7"
      },
      "execution_count": null,
      "outputs": []
    },
    {
      "cell_type": "code",
      "source": [
        "def pos(x, y):\n",
        "    return [(x+1, y), (x*2, y), (x, y+1), (x, y*2)]\n",
        "M = 63\n",
        "U = {(x, y) for x in range(1, M*2) for y in range(1, M*2)}\n",
        "GO = {(x, y) for x, y in U if x + y >= M}\n",
        "GP = U - GO\n",
        "W1 = {(x, y) for x, y in GP\n",
        "        if any(p in GO for p in pos(x, y))}\n",
        "L1 = {(x, y) for x, y in GP\n",
        "          if all(p in W1 for p in pos(x, y))}\n",
        "W2 = {(x, y) for x, y in GP - W1\n",
        "        if any(p in L1 for p in pos(x, y))}\n",
        "L2 = {(x, y) for x, y in GP - L1\n",
        "          if all(p in W1 or p in W2 for p in pos(x, y))}\n",
        "\n",
        "print(\"20:\", [y for y in range(M) if (5, y) in W2])\n",
        "print(\"21:\", [y for y in range(M) if (5, y) in L2])"
      ],
      "metadata": {
        "id": "mM3qFu15-Gfk"
      },
      "execution_count": null,
      "outputs": []
    },
    {
      "cell_type": "code",
      "source": [
        "def game(x, y, d: \"допустимая глубина погружения\"):\n",
        "    if x + y >= 65:\n",
        "        return \"GO\"\n",
        "    if d < 0:  # ограничение рекурсии\n",
        "        return \"Unknown\"\n",
        "    if (game(x+1, y, d-1) == \"GO\" or game(x, y+1, d-1) == \"GO\" or\n",
        "        game(x+y, y, d-1) == \"GO\" or game(x, y+x, d-1) == \"GO\"):\n",
        "        return \"W1\"\n",
        "    if (game(x+1, y, d-1) == \"W1\" and game(x, y+1, d-1) == \"W1\" and\n",
        "        game(x+y, y, d-1) == \"W1\" and game(x, y+x, d-1) == \"W1\"):\n",
        "        return \"L1\"\n",
        "    if (game(x+1, y, d-1) == \"L1\" or game(x, y+1, d-1) == \"L1\" or\n",
        "        game(x+y, y, d-1) == \"L1\" or game(x, y+x, d-1) == \"L1\"):\n",
        "        return \"W2\"\n",
        "    if (game(x+1, y, d-1) in (\"W1\", \"W2\") and game(x, y+1, d-1) in (\"W1\", \"W2\") and\n",
        "        game(x+y, y, d-1) in (\"W1\", \"W2\") and game(x, y+x, d-1) in (\"W1\", \"W2\")):\n",
        "        return \"L2\"\n",
        "    return \"Unknown\"\n",
        "\n",
        "for y in range(1, 53 + 1):\n",
        "    print((11, y), game(11, y, 4))"
      ],
      "metadata": {
        "colab": {
          "base_uri": "https://localhost:8080/"
        },
        "id": "IaVTl-GIGwPl",
        "outputId": "8ca33524-bf6e-40ee-91c5-2384f72af88a"
      },
      "execution_count": null,
      "outputs": [
        {
          "output_type": "stream",
          "name": "stdout",
          "text": [
            "(11, 1) Unknown\n",
            "(11, 2) Unknown\n",
            "(11, 3) Unknown\n",
            "(11, 4) Unknown\n",
            "(11, 5) Unknown\n",
            "(11, 6) Unknown\n",
            "(11, 7) Unknown\n",
            "(11, 8) Unknown\n",
            "(11, 9) Unknown\n",
            "(11, 10) Unknown\n",
            "(11, 11) Unknown\n",
            "(11, 12) Unknown\n",
            "(11, 13) Unknown\n",
            "(11, 14) W2\n",
            "(11, 15) Unknown\n",
            "(11, 16) Unknown\n",
            "(11, 17) Unknown\n",
            "(11, 18) Unknown\n",
            "(11, 19) Unknown\n",
            "(11, 20) Unknown\n",
            "(11, 21) Unknown\n",
            "(11, 22) Unknown\n",
            "(11, 23) Unknown\n",
            "(11, 24) Unknown\n",
            "(11, 25) L2\n",
            "(11, 26) W2\n",
            "(11, 27) W1\n",
            "(11, 28) W1\n",
            "(11, 29) W1\n",
            "(11, 30) W1\n",
            "(11, 31) W1\n",
            "(11, 32) W1\n",
            "(11, 33) W1\n",
            "(11, 34) W1\n",
            "(11, 35) W1\n",
            "(11, 36) W1\n",
            "(11, 37) W1\n",
            "(11, 38) W1\n",
            "(11, 39) W1\n",
            "(11, 40) W1\n",
            "(11, 41) W1\n",
            "(11, 42) W1\n",
            "(11, 43) W1\n",
            "(11, 44) W1\n",
            "(11, 45) W1\n",
            "(11, 46) W1\n",
            "(11, 47) W1\n",
            "(11, 48) W1\n",
            "(11, 49) W1\n",
            "(11, 50) W1\n",
            "(11, 51) W1\n",
            "(11, 52) W1\n",
            "(11, 53) W1\n"
          ]
        }
      ]
    },
    {
      "cell_type": "markdown",
      "metadata": {
        "id": "eKsc8QeG0HCM"
      },
      "source": [
        "# 19-21 теория игр\n"
      ]
    },
    {
      "cell_type": "code",
      "source": [
        "from functools import cache\n",
        "def P(x):\n",
        "  return [x+1, x*2]  # возвращаем значения x\n",
        "\n",
        "@cache\n",
        "def w(x):  # функция победы\n",
        "  if x >= 29:\n",
        "    return -1\n",
        "  return -min(w(p) for p in P(x))\n",
        "\n",
        "@cache\n",
        "def T(x):  # время для выигрыша\n",
        "  if x >= 29:\n",
        "    return 0\n",
        "  elif w(x) == 1:\n",
        "    return 1 + min(T(p) for p in P(x) if w(p) == -1)\n",
        "  else:\n",
        "    return max(T(p) for p in P(x))\n",
        "\n",
        "for x in range(1, 29):\n",
        "  print(x, w(x), T(x), 'внимание!' if w(x) * T(x) in {-1, +2, -2} else \"\")  # проигрышная одноходовка, выигрышная двухходовка, проигрышная двухходовка\n"
      ],
      "metadata": {
        "colab": {
          "base_uri": "https://localhost:8080/"
        },
        "id": "HNqGPslo0Cnv",
        "outputId": "e166f7c1-4e4e-4d12-b0db-d25755cd4401"
      },
      "execution_count": null,
      "outputs": [
        {
          "output_type": "stream",
          "name": "stdout",
          "text": [
            "1 -1 6 \n",
            "2 1 6 \n",
            "3 -1 5 \n",
            "4 1 5 \n",
            "5 1 4 \n",
            "6 1 3 \n",
            "7 1 2 внимание!\n",
            "8 -1 4 \n",
            "9 1 4 \n",
            "10 -1 3 \n",
            "11 1 3 \n",
            "12 -1 2 внимание!\n",
            "13 1 2 внимание!\n",
            "14 -1 1 внимание!\n",
            "15 1 1 \n",
            "16 1 1 \n",
            "17 1 1 \n",
            "18 1 1 \n",
            "19 1 1 \n",
            "20 1 1 \n",
            "21 1 1 \n",
            "22 1 1 \n",
            "23 1 1 \n",
            "24 1 1 \n",
            "25 1 1 \n",
            "26 1 1 \n",
            "27 1 1 \n",
            "28 1 1 \n"
          ]
        }
      ]
    },
    {
      "cell_type": "code",
      "source": [
        "def f(s, p):\n",
        "  if s >= 65 and p == 2:\n",
        "    return True\n",
        "  if (s >= 65 and p != 2) or (s < 65 and p == 2):\n",
        "    return False\n",
        "  return f(s+1, p+1) or f(s+4, p+1) or f(s*3, p+1)\n",
        "\n",
        "for s in range(1, 54):\n",
        "  if f(s, 0):\n",
        "    print(s)\n",
        "    break"
      ],
      "metadata": {
        "colab": {
          "base_uri": "https://localhost:8080/"
        },
        "id": "j9sPye-UyPXw",
        "outputId": "e2a4934d-0758-42ec-b3b7-686904a83bee"
      },
      "execution_count": null,
      "outputs": [
        {
          "output_type": "stream",
          "name": "stdout",
          "text": [
            "8\n"
          ]
        }
      ]
    },
    {
      "cell_type": "code",
      "source": [
        "from functools import cache\n",
        "\n",
        "@cache\n",
        "def f(s1, s2, p):\n",
        "  if s1+s2 >= 62 and p == 2:\n",
        "    return True\n",
        "  if (s1+s2 >= 62 and p != 2) or (s1+s2 < 62 and p == 2):\n",
        "    return False\n",
        "\n",
        "  return f(s1+1, s2, p+1) or f(s1, s2+1 , p+1) or f(s1+s2, s2, p+1) or f(s1, s2+s1, p+1)\n",
        "\n",
        "for s in range(1, 48):\n",
        "  if f(14, s, 0):\n",
        "    print(s)\n",
        "    break\n"
      ],
      "metadata": {
        "colab": {
          "base_uri": "https://localhost:8080/"
        },
        "id": "3sY5gyMpT6ZW",
        "outputId": "12069f80-2e87-42ef-bdff-85cb9d85ceed"
      },
      "execution_count": null,
      "outputs": [
        {
          "output_type": "stream",
          "name": "stdout",
          "text": [
            "10\n"
          ]
        }
      ]
    },
    {
      "cell_type": "code",
      "source": [
        "from functools import cache\n",
        "\n",
        "@cache\n",
        "def f(s1, s2, p):\n",
        "  if s1+s2 >= 62 and p == 3:\n",
        "    return True\n",
        "  if (s1+s2 >= 62 and p != 3) or (s1+s2 < 62 and p == 3):\n",
        "    return False\n",
        "\n",
        "  if p % 2 != 0:\n",
        "    return f(s1+1, s2, p+1) and f(s1, s2+1 , p+1) and f(s1+s2, s2, p+1) and f(s1, s2+s1, p+1)\n",
        "  else:\n",
        "    return f(s1+1, s2, p+1) or f(s1, s2+1 , p+1) or f(s1+s2, s2, p+1) or f(s1, s2+s1, p+1)\n",
        "\n",
        "\n",
        "for s in range(1, 48):\n",
        "  if f(14, s, 0):\n",
        "    print(s)\n",
        "\n"
      ],
      "metadata": {
        "colab": {
          "base_uri": "https://localhost:8080/"
        },
        "id": "pVUAYu5gU6DE",
        "outputId": "be025b15-9ff9-45d5-c177-416858f0a9e3"
      },
      "execution_count": null,
      "outputs": [
        {
          "output_type": "stream",
          "name": "stdout",
          "text": [
            "11\n",
            "23\n"
          ]
        }
      ]
    },
    {
      "cell_type": "code",
      "source": [
        "from functools import cache\n",
        "\n",
        "@cache\n",
        "def f(s1, s2, p):\n",
        "  if s1+s2 >= 62 and (p == 2 or p == 4):\n",
        "    return True\n",
        "  if (s1+s2 >= 62 and p != 2 and p != 4) or (s1+s2 < 62 and p == 4):\n",
        "    return False\n",
        "\n",
        "  if p % 2 == 0:\n",
        "    return f(s1+1, s2, p+1) and f(s1, s2+1 , p+1) and f(s1+s2, s2, p+1) and f(s1, s2+s1, p+1)\n",
        "  else:\n",
        "    return f(s1+1, s2, p+1) or f(s1, s2+1 , p+1) or f(s1+s2, s2, p+1) or f(s1, s2+s1, p+1)\n",
        "\n",
        "\n",
        "for s in range(1, 48):\n",
        "  if f(14, s, 0):\n",
        "    print(s)\n",
        "\n"
      ],
      "metadata": {
        "colab": {
          "base_uri": "https://localhost:8080/"
        },
        "id": "kea69sDzVNwX",
        "outputId": "d6287241-36f6-4b64-d102-0aefef10ccc7"
      },
      "execution_count": null,
      "outputs": [
        {
          "output_type": "stream",
          "name": "stdout",
          "text": [
            "22\n"
          ]
        }
      ]
    },
    {
      "cell_type": "code",
      "source": [
        "from functools import cache\n",
        "\n",
        "@cache\n",
        "def f(s1, s2, p):\n",
        "  if s1+s2 >= 59 and p == 1:\n",
        "    return True\n",
        "  if (s1+s2 >= 59 and p != 1) or (s1+s2 < 59 and p == 1):\n",
        "    return False\n",
        "\n",
        "  return f(s1+1, s2, p+1) or f(s1, s2+1 , p+1) or f(s1*2, s2, p+1) or f(s1, s2*2, p+1)\n",
        "\n",
        "for s in range(1, 54):\n",
        "  if f(5, s, 0):\n",
        "    print(s)\n",
        "    break\n"
      ],
      "metadata": {
        "colab": {
          "base_uri": "https://localhost:8080/"
        },
        "id": "0uW5n7u7VbcD",
        "outputId": "ea473ecb-4205-4bcc-d77e-680e22175833"
      },
      "execution_count": null,
      "outputs": [
        {
          "output_type": "stream",
          "name": "stdout",
          "text": [
            "27\n"
          ]
        }
      ]
    },
    {
      "cell_type": "code",
      "source": [
        "from functools import cache\n",
        "\n",
        "@cache\n",
        "def f(s1, s2, p):\n",
        "  if s1+s2 >= 59 and p == 3:\n",
        "    return True\n",
        "  if (s1+s2 >= 59 and p != 3) or (s1+s2 < 59 and p == 3):\n",
        "    return False\n",
        "  if p % 2 != 0:\n",
        "    return f(s1+1, s2, p+1) and f(s1, s2+1 , p+1) and f(s1*2, s2, p+1) and f(s1, s2*2, p+1)\n",
        "  else:\n",
        "    return f(s1+1, s2, p+1) or f(s1, s2+1 , p+1) or f(s1*2, s2, p+1) or f(s1, s2*2, p+1)\n",
        "for s in range(1, 54):\n",
        "  if f(5, s, 0):\n",
        "    print(s)\n",
        "\n"
      ],
      "metadata": {
        "colab": {
          "base_uri": "https://localhost:8080/"
        },
        "id": "h8d_5fvzWBpc",
        "outputId": "212881e0-dd57-4d85-cfc8-fd2ae1a17dfe"
      },
      "execution_count": null,
      "outputs": [
        {
          "output_type": "stream",
          "name": "stdout",
          "text": [
            "24\n",
            "26\n"
          ]
        }
      ]
    },
    {
      "cell_type": "code",
      "source": [
        "from functools import cache\n",
        "\n",
        "@cache\n",
        "def f(s1, s2, p):\n",
        "  if s1+s2 >= 59 and (p == 2 or p == 4):\n",
        "    return True\n",
        "  if (s1+s2 >= 59 and p != 2 and p != 4) or (s1+s2 < 59 and p == 4):\n",
        "    return False\n",
        "  if p % 2 == 0:\n",
        "    return f(s1+1, s2, p+1) and f(s1, s2+1 , p+1) and f(s1*2, s2, p+1) and f(s1, s2*2, p+1)\n",
        "  else:\n",
        "    return f(s1+1, s2, p+1) or f(s1, s2+1 , p+1) or f(s1*2, s2, p+1) or f(s1, s2*2, p+1)\n",
        "for s in range(1, 54):\n",
        "  if f(5, s, 0):\n",
        "    print(s)\n",
        "\n"
      ],
      "metadata": {
        "colab": {
          "base_uri": "https://localhost:8080/"
        },
        "id": "1OCpskQkWdKb",
        "outputId": "438e5f8d-2543-41ce-c693-46a42dc5d3b5"
      },
      "execution_count": null,
      "outputs": [
        {
          "output_type": "stream",
          "name": "stdout",
          "text": [
            "23\n",
            "25\n"
          ]
        }
      ]
    },
    {
      "cell_type": "code",
      "source": [
        "from functools import cache\n",
        "\n",
        "@cache\n",
        "def f(s1, s2, p):\n",
        "  if s1+s2 >= 120 and p == 2:\n",
        "    return True\n",
        "  if (s1+s2 >= 120 and p != 2) or (s1+s2 < 120 and p == 2):\n",
        "    return False\n",
        "  return f(s1+1, s2, p+1) or f(s1, s2+1 , p+1) or f(s1+3, s2, p+1) or f(s1, s2+3, p+1) or f(s1*2, s2, p+1) or f(s1, s2*2, p+1)\n",
        "\n",
        "\n",
        "for s in range(1, 111):\n",
        "  if f(9, s, 0):\n",
        "    print(s)\n",
        "    break\n",
        "\n"
      ],
      "metadata": {
        "colab": {
          "base_uri": "https://localhost:8080/"
        },
        "id": "Hy6vgwtQWtVZ",
        "outputId": "8483044f-1715-4963-b3ac-e47262d159a0"
      },
      "execution_count": null,
      "outputs": [
        {
          "output_type": "stream",
          "name": "stdout",
          "text": [
            "28\n"
          ]
        }
      ]
    },
    {
      "cell_type": "code",
      "source": [
        "from functools import cache\n",
        "\n",
        "@cache\n",
        "def f(s1, s2, p):\n",
        "  if s1+s2 >= 120 and p == 3:\n",
        "    return True\n",
        "  if (s1+s2 >= 120 and p != 3) or (s1+s2 < 120 and p == 3):\n",
        "    return False\n",
        "\n",
        "  if p % 2 != 0:\n",
        "    return f(s1+1, s2, p+1) and f(s1, s2+1 , p+1) and f(s1+3, s2, p+1) and f(s1, s2+3, p+1) and f(s1*2, s2, p+1) and f(s1, s2*2, p+1)\n",
        "  else:\n",
        "    return f(s1+1, s2, p+1) or f(s1, s2+1 , p+1) or f(s1+3, s2, p+1) or f(s1, s2+3, p+1) or f(s1*2, s2, p+1) or f(s1, s2*2, p+1)\n",
        "\n",
        "for s in range(1, 111):\n",
        "  if f(9, s, 0):\n",
        "    print(s)\n",
        "\n",
        "\n"
      ],
      "metadata": {
        "colab": {
          "base_uri": "https://localhost:8080/"
        },
        "id": "fwFqAawiXXyI",
        "outputId": "876bf1db-37e4-4f17-a82a-fbb641998351"
      },
      "execution_count": null,
      "outputs": [
        {
          "output_type": "stream",
          "name": "stdout",
          "text": [
            "52\n",
            "54\n"
          ]
        }
      ]
    },
    {
      "cell_type": "code",
      "source": [
        "from functools import cache\n",
        "\n",
        "@cache\n",
        "def f(s1, s2, p):\n",
        "  if s1+s2 >= 120 and (p == 2 or p == 4):\n",
        "    return True\n",
        "  if (s1+s2 >= 120 and p != 2 and p != 4) or (s1+s2 < 120 and p == 4):\n",
        "    return False\n",
        "\n",
        "  if p % 2 == 0:\n",
        "    return f(s1+1, s2, p+1) and f(s1, s2+1 , p+1) and f(s1+3, s2, p+1) and f(s1, s2+3, p+1) and f(s1*2, s2, p+1) and f(s1, s2*2, p+1)\n",
        "  else:\n",
        "    return f(s1+1, s2, p+1) or f(s1, s2+1 , p+1) or f(s1+3, s2, p+1) or f(s1, s2+3, p+1) or f(s1*2, s2, p+1) or f(s1, s2*2, p+1)\n",
        "\n",
        "for s in range(1, 111):\n",
        "  if f(9, s, 0):\n",
        "    print(s)\n",
        "\n",
        "\n"
      ],
      "metadata": {
        "colab": {
          "base_uri": "https://localhost:8080/"
        },
        "id": "XK3AZBCcXtbt",
        "outputId": "812fddf4-58da-4ccb-9b04-33b191aa19a7"
      },
      "execution_count": null,
      "outputs": [
        {
          "output_type": "stream",
          "name": "stdout",
          "text": [
            "53\n",
            "55\n"
          ]
        }
      ]
    },
    {
      "cell_type": "code",
      "source": [
        "def f(s, p):\n",
        "  if s >= 43 and p == 2:\n",
        "    return True\n",
        "  if (s >= 43 and p != 2) or (s < 43 and p == 2):\n",
        "    return False\n",
        "\n",
        "  if p % 2 == 0:\n",
        "    return f(s+1, p+1) and f(s+4, p+1) and f(s*3, p+1)\n",
        "  else:\n",
        "    return f(s+1, p+1) or f(s+4, p+1) or f(s*3, p+1)\n",
        "\n",
        "for s in range(1, 43):\n",
        "  if f(s, 0):\n",
        "    print(s)\n",
        "    break"
      ],
      "metadata": {
        "colab": {
          "base_uri": "https://localhost:8080/"
        },
        "id": "2Brl8XeTPj1y",
        "outputId": "5ec36008-67f1-4e9c-c83d-8abd820bb8d1"
      },
      "execution_count": null,
      "outputs": [
        {
          "output_type": "stream",
          "name": "stdout",
          "text": [
            "14\n"
          ]
        }
      ]
    },
    {
      "cell_type": "code",
      "source": [
        "def f(s, p):\n",
        "  if s >= 43 and p == 3:\n",
        "    return True\n",
        "  if (s >= 43 and p != 3) or (s < 43 and p == 3):\n",
        "    return False\n",
        "\n",
        "  if p % 2 != 0:\n",
        "    return f(s+1, p+1) and f(s+4, p+1) and f(s*3, p+1)\n",
        "  else:\n",
        "    return f(s+1, p+1) or f(s+4, p+1) or f(s*3, p+1)\n",
        "\n",
        "for s in range(1, 43):\n",
        "  if f(s, 0):\n",
        "    print(s)\n"
      ],
      "metadata": {
        "colab": {
          "base_uri": "https://localhost:8080/"
        },
        "id": "ZVpqIQP0QgTv",
        "outputId": "1bd33864-9a8a-45d2-b15e-3512a6966718"
      },
      "execution_count": null,
      "outputs": [
        {
          "output_type": "stream",
          "name": "stdout",
          "text": [
            "10\n",
            "13\n"
          ]
        }
      ]
    },
    {
      "cell_type": "code",
      "source": [
        "def f(s, p):\n",
        "  if s >= 43 and (p == 2 or p == 4):\n",
        "    return True\n",
        "  if (s >= 43 and p != 2 and p != 4) or (s < 43 and p == 4):\n",
        "    return False\n",
        "\n",
        "  if p % 2 == 0:\n",
        "    return f(s+1, p+1) and f(s+4, p+1) and f(s*3, p+1)\n",
        "  else:\n",
        "    return f(s+1, p+1) or f(s+4, p+1) or f(s*3, p+1)\n",
        "\n",
        "for s in range(1, 43):\n",
        "  if f(s, 0):\n",
        "    print(s)\n",
        "    break"
      ],
      "metadata": {
        "id": "cvJP3CVhQ5G7",
        "outputId": "dc63a494-c0f7-4b98-86d2-a677544808a8",
        "colab": {
          "base_uri": "https://localhost:8080/"
        }
      },
      "execution_count": null,
      "outputs": [
        {
          "output_type": "stream",
          "name": "stdout",
          "text": [
            "9\n"
          ]
        }
      ]
    },
    {
      "cell_type": "code",
      "source": [
        "def f(s, p):\n",
        "  if s >= 202 and p == 2:\n",
        "    return True\n",
        "  if (s >= 202 and p != 2) or (s < 202 and p == 2):\n",
        "    return False\n",
        "\n",
        "  if p % 2 == 0:\n",
        "    return f(s+1, p+1) and f(s+4, p+1) and f(s*3, p+1)\n",
        "  else:\n",
        "    return f(s+1, p+1) or f(s+4, p+1) or f(s*3, p+1)\n",
        "\n",
        "for s in range(1, 202):\n",
        "  if f(s, 0):\n",
        "    print(s)\n",
        "    break"
      ],
      "metadata": {
        "colab": {
          "base_uri": "https://localhost:8080/"
        },
        "id": "vFJMp5XxQrgp",
        "outputId": "d007381c-0d0f-4e15-c3da-615611f96a3a"
      },
      "execution_count": null,
      "outputs": [
        {
          "output_type": "stream",
          "name": "stdout",
          "text": [
            "67\n"
          ]
        }
      ]
    },
    {
      "cell_type": "code",
      "source": [
        "def f(s, p):\n",
        "  if s >= 202 and p == 3:\n",
        "    return True\n",
        "  if (s >= 202 and p != 3) or (s < 202 and p == 3):\n",
        "    return False\n",
        "\n",
        "  if p % 2 != 0:\n",
        "    return f(s+1, p+1) and f(s+4, p+1) and f(s*3, p+1)\n",
        "  else:\n",
        "    return f(s+1, p+1) or f(s+4, p+1) or f(s*3, p+1)\n",
        "\n",
        "for s in range(1, 202):\n",
        "  if f(s, 0):\n",
        "    print(s)"
      ],
      "metadata": {
        "colab": {
          "base_uri": "https://localhost:8080/"
        },
        "id": "8T9pPqmARb6P",
        "outputId": "b2080a77-ee80-4ba3-ff14-d1ed74a4e3cb"
      },
      "execution_count": null,
      "outputs": [
        {
          "output_type": "stream",
          "name": "stdout",
          "text": [
            "63\n",
            "66\n"
          ]
        }
      ]
    },
    {
      "cell_type": "code",
      "source": [
        "from functools import cache\n",
        "\n",
        "\n",
        "@cache\n",
        "def f(s, p):\n",
        "  if s >= 202 and (p == 2 or p == 4):\n",
        "    return True\n",
        "  if (s >= 202 and p != 2 and p != 4) or (s < 202 and p == 34):\n",
        "    return False\n",
        "\n",
        "  if p % 2 == 0:\n",
        "    return f(s+1, p+1) and f(s+4, p+1) and f(s*3, p+1)\n",
        "  else:\n",
        "    return f(s+1, p+1) or f(s+4, p+1) or f(s*3, p+1)\n",
        "\n",
        "for s in range(1, 202):\n",
        "  if f(s, 0):\n",
        "    print(s)"
      ],
      "metadata": {
        "colab": {
          "base_uri": "https://localhost:8080/"
        },
        "id": "mnIqxWWsRpTW",
        "outputId": "791d0b11-3885-4381-f906-de5ca21e64ab"
      },
      "execution_count": null,
      "outputs": [
        {
          "output_type": "stream",
          "name": "stdout",
          "text": [
            "62\n",
            "65\n",
            "67\n"
          ]
        }
      ]
    },
    {
      "cell_type": "code",
      "source": [
        "def f(s, p):\n",
        "  if s >= 205 and p == 2:\n",
        "    return True\n",
        "  if (s >= 205 and p != 2) or (s < 205 and p == 2):\n",
        "    return False\n",
        "\n",
        "  if p % 2 == 0:\n",
        "    return f(s+1, p+1) and f(s+5, p+1) and f(s*4, p+1)\n",
        "  else:\n",
        "    return f(s+1, p+1) or f(s+5, p+1) or f(s*4, p+1)\n",
        "\n",
        "for s in range(1, 205):\n",
        "  if f(s, 0):\n",
        "    print(s)\n",
        "    break\n"
      ],
      "metadata": {
        "colab": {
          "base_uri": "https://localhost:8080/"
        },
        "id": "AA7xoBA9SqBY",
        "outputId": "a971e795-854b-4bd3-c1d3-070d8e73e59d"
      },
      "execution_count": null,
      "outputs": [
        {
          "output_type": "stream",
          "name": "stdout",
          "text": [
            "51\n"
          ]
        }
      ]
    },
    {
      "cell_type": "code",
      "source": [
        "from functools import cache\n",
        "\n",
        "@cache\n",
        "def f(s, p):\n",
        "  if s >= 205 and p == 3:\n",
        "    return True\n",
        "  if (s >= 205 and p != 3) or (s < 205 and p == 3):\n",
        "    return False\n",
        "\n",
        "  if p % 2 != 0:\n",
        "    return f(s+1, p+1) and f(s+5, p+1) and f(s*4, p+1)\n",
        "  else:\n",
        "    return f(s+1, p+1) or f(s+5, p+1) or f(s*4, p+1)\n",
        "\n",
        "for s in range(1, 205):\n",
        "  if f(s, 0):\n",
        "    print(s)\n"
      ],
      "metadata": {
        "colab": {
          "base_uri": "https://localhost:8080/"
        },
        "id": "RpT4GY2HTjLa",
        "outputId": "dd9d8d7b-98c4-4547-c353-0a60a8e4f25a"
      },
      "execution_count": null,
      "outputs": [
        {
          "output_type": "stream",
          "name": "stdout",
          "text": [
            "46\n",
            "50\n"
          ]
        }
      ]
    },
    {
      "cell_type": "code",
      "source": [
        "from functools import cache\n",
        "@cache\n",
        "def f(s, p):\n",
        "  if s >= 149 and (p == 2 or p == 4):\n",
        "    return True\n",
        "  if (s >= 149 and p != 2 and p != 4) or (s < 149 and p == 4):\n",
        "    return False\n",
        "\n",
        "  if p % 2 == 0:\n",
        "    return f(s+1, p+1) and f(s*2, p+1)\n",
        "  else:\n",
        "    return f(s+1, p+1) or f(s*2, p+1)\n",
        "\n",
        "for s in range(0, 149):\n",
        "  if f(s, 0):\n",
        "    print(s)"
      ],
      "metadata": {
        "colab": {
          "base_uri": "https://localhost:8080/"
        },
        "id": "TYJSPwnQfCLF",
        "outputId": "2be2d391-16ed-4f67-e61c-5f9fccfe0fe8"
      },
      "execution_count": null,
      "outputs": [
        {
          "output_type": "stream",
          "name": "stdout",
          "text": [
            "72\n",
            "74\n"
          ]
        }
      ]
    },
    {
      "cell_type": "code",
      "source": [
        "from functools import cache\n",
        "\n",
        "@cache\n",
        "def f(s, p):\n",
        "  if s >= 205 and (p == 2 or p == 4):\n",
        "    return True\n",
        "  if (s >= 205 and p != 2 and p != 4) or (s < 205 and p == 4):\n",
        "    return False\n",
        "\n",
        "  if p % 2 == 0:\n",
        "    return f(s+1, p+1) and f(s+5, p+1) and f(s*4, p+1)\n",
        "  else:\n",
        "    return f(s+1, p+1) or f(s+5, p+1) or f(s*4, p+1)\n",
        "\n",
        "for s in range(1, 205):\n",
        "  if f(s, 0):\n",
        "    print(s)\n"
      ],
      "metadata": {
        "colab": {
          "base_uri": "https://localhost:8080/"
        },
        "id": "-U1SYs2kTxVz",
        "outputId": "6c40c840-5bab-47a6-d743-f250d6068157"
      },
      "execution_count": null,
      "outputs": [
        {
          "output_type": "stream",
          "name": "stdout",
          "text": [
            "45\n",
            "49\n",
            "51\n"
          ]
        }
      ]
    },
    {
      "cell_type": "code",
      "source": [
        "def f(s, p):\n",
        "  if s >= 177 and p == 2:\n",
        "    return True\n",
        "  if (s >= 177 and p != 2) or (s < 177 and p == 2):\n",
        "    return False\n",
        "  if s % 2 == 0:\n",
        "    return f(s+1, p+1) and f(s*2, p+1)\n",
        "  else:\n",
        "    return f(s+1, p+1) or f(s*2, p+1)\n",
        "\n",
        "for s in range(1, 177):\n",
        "  if f(s, 0):\n",
        "    print(s)\n",
        "    break"
      ],
      "metadata": {
        "colab": {
          "base_uri": "https://localhost:8080/"
        },
        "id": "4GPKkwmGRJMw",
        "outputId": "d09db645-5997-41cc-c41b-801f1db412cf"
      },
      "execution_count": null,
      "outputs": [
        {
          "output_type": "stream",
          "name": "stdout",
          "text": [
            "88\n"
          ]
        }
      ]
    },
    {
      "cell_type": "markdown",
      "source": [
        "20"
      ],
      "metadata": {
        "id": "YDlzl-uNQS6D"
      }
    },
    {
      "cell_type": "code",
      "source": [
        "def f(s, p):\n",
        "  if s >= 177 and p == 3:\n",
        "    return True\n",
        "  if (s >= 177 and p != 3) or (s < 177 and p == 3):\n",
        "    return False\n",
        "\n",
        "  if p % 2 != 0:\n",
        "    return f(s+1, p+1) and f(s*2, p+1)\n",
        "  else:\n",
        "    return f(s+1, p+1) or f(s*2, p+1)\n",
        "\n",
        "for s in range(1, 177):\n",
        "  if f(s, 0):\n",
        "    print(s)\n"
      ],
      "metadata": {
        "colab": {
          "base_uri": "https://localhost:8080/"
        },
        "id": "xQlMav58OaH5",
        "outputId": "86503472-7638-44dd-ace4-f9578227bb93"
      },
      "execution_count": null,
      "outputs": [
        {
          "output_type": "stream",
          "name": "stdout",
          "text": [
            "44\n",
            "87\n"
          ]
        }
      ]
    },
    {
      "cell_type": "markdown",
      "source": [
        "21"
      ],
      "metadata": {
        "id": "n1VU2zxmQVoD"
      }
    },
    {
      "cell_type": "code",
      "source": [
        "def f(s, p):\n",
        "  if s >= 177 and (p == 2 or p == 4):\n",
        "    return True\n",
        "  if (s >= 177 and p != 2 and p != 4) or (s < 177 and p == 4):\n",
        "    return False\n",
        "\n",
        "  if p % 2 == 0:\n",
        "    return f(s+1, p+1) and f(s*2, p+1)\n",
        "  else:\n",
        "    return f(s+1, p+1) or f(s*2, p+1)\n",
        "\n",
        "for s in range(0, 177):\n",
        "  if f(s, 0):\n",
        "    print(s)"
      ],
      "metadata": {
        "colab": {
          "base_uri": "https://localhost:8080/"
        },
        "id": "1By6rsYHQSYl",
        "outputId": "00371763-46e6-4293-8ee7-750fe9791d37"
      },
      "execution_count": null,
      "outputs": [
        {
          "output_type": "stream",
          "name": "stdout",
          "text": [
            "86\n",
            "88\n"
          ]
        }
      ]
    },
    {
      "cell_type": "code",
      "source": [
        "from functools import cache\n",
        "import sys\n",
        "\n",
        "sys.setrecursionlimit(1000)\n",
        "\n",
        "@cache\n",
        "def f(s1, s2, p):\n",
        "  if s1+s2 >= 38 and p == 3:\n",
        "    return True\n",
        "  if (s1+s2 >= 38 and p != 3) and (s1+s2 < 38 and p == 3):\n",
        "    return False\n",
        "\n",
        "  if p % 2 != 0:\n",
        "    return f(s1+2, s2, p+1) and f(s1+s2, s2, p+1) and f(s1, s2+2, p+1) and f(s1, s2+s1, p+1)\n",
        "  else:\n",
        "    return f(s1+2, s2, p+1) or f(s1+s2, s2, p+1) or f(s1, s2+2, p+1) or f(s1, s2+s1, p+1)\n",
        "\n",
        "for s2 in range(1, 15):\n",
        "  if f(8, s2, 0):\n",
        "    print(s2)"
      ],
      "metadata": {
        "id": "smme16_1SDpI"
      },
      "execution_count": null,
      "outputs": []
    },
    {
      "cell_type": "code",
      "source": [
        "def f(s1, s2, p):\n",
        "  if s1+s2 >= 86 and p == 2:\n",
        "    return True\n",
        "  if (s1+s2 >= 86 and p != 2) or (s1+s2 < 86 and p == 2):\n",
        "    return False\n",
        "  return f(s1+3, s2, p+1) or f(s1*2, s2, p+1) or f(s1, s2+3, p+1) or f(s1, s2 * 2, p+1)\n",
        "\n",
        " # if p % 2 == 0:\n",
        "  #  return f(s1+3, s2, p+1) and f(s1*2, s2, p+1) and f(s1, s2+3, p+1) and f(s1, s2 * 2, p+1)\n",
        " # else:\n",
        "#    return f(s1+3, s2, p+1) or f(s1*2, s2, p+1) or f(s1, s2+3, p+1) or f(s1, s2 * 2, p+1)\n",
        "\n",
        "for s2 in range(1, 80):\n",
        "  if f(6, s2, 0):\n",
        "    print(s2)\n",
        "    break\n"
      ],
      "metadata": {
        "colab": {
          "base_uri": "https://localhost:8080/"
        },
        "id": "B7VXwBDMUGlJ",
        "outputId": "941e0039-37ff-4204-8c4d-a1717c3009ac"
      },
      "execution_count": null,
      "outputs": [
        {
          "output_type": "stream",
          "name": "stdout",
          "text": [
            "20\n"
          ]
        }
      ]
    },
    {
      "cell_type": "code",
      "source": [
        "def f(s1, s2, p):\n",
        "  if s1+s2 >= 86 and p == 3:\n",
        "    return True\n",
        "  if (s1+s2 >= 86 and p != 3) or (s1+s2 < 86 and p == 3):\n",
        "    return False\n",
        "\n",
        "  if p % 2 != 0:\n",
        "    return f(s1+3, s2, p+1) and f(s1*2, s2, p+1) and f(s1, s2+3, p+1) and f(s1, s2 * 2, p+1)\n",
        "  else:\n",
        "    return f(s1+3, s2, p+1) or f(s1*2, s2, p+1) or f(s1, s2+3, p+1) or f(s1, s2 * 2, p+1)\n",
        "\n",
        "for s2 in range(1, 80):\n",
        "  if f(6, s2, 0):\n",
        "    print(s2)\n",
        "\n"
      ],
      "metadata": {
        "colab": {
          "base_uri": "https://localhost:8080/"
        },
        "id": "RPk7JXVdVPzJ",
        "outputId": "6c4ae3b2-22f8-4704-b4d3-a7e28bd8059b"
      },
      "execution_count": null,
      "outputs": [
        {
          "output_type": "stream",
          "name": "stdout",
          "text": [
            "36\n",
            "37\n",
            "38\n"
          ]
        }
      ]
    },
    {
      "cell_type": "code",
      "source": [
        "def f(s1, s2, p):\n",
        "  if s1+s2 >= 86 and (p == 2 or p == 4):\n",
        "    return True\n",
        "  if (s1+s2 >= 86 and p != 2 and p != 4) or (s1+s2 < 86 and p == 4):\n",
        "    return False\n",
        "\n",
        "  if p % 2 == 0:\n",
        "    return f(s1+3, s2, p+1) and f(s1*2, s2, p+1) and f(s1, s2+3, p+1) and f(s1, s2 * 2, p+1)\n",
        "  else:\n",
        "    return f(s1+3, s2, p+1) or f(s1*2, s2, p+1) or f(s1, s2+3, p+1) or f(s1, s2 * 2, p+1)\n",
        "\n",
        "for s2 in range(1, 80):\n",
        "  if f(6, s2, 0):\n",
        "    print(s2)\n",
        "\n"
      ],
      "metadata": {
        "colab": {
          "base_uri": "https://localhost:8080/"
        },
        "id": "pp4Zyb4PV1gl",
        "outputId": "a0c8153c-fc1e-4ff9-cfe6-b4e01ba8f4f5"
      },
      "execution_count": null,
      "outputs": [
        {
          "output_type": "stream",
          "name": "stdout",
          "text": [
            "33\n",
            "34\n",
            "35\n",
            "39\n"
          ]
        }
      ]
    },
    {
      "cell_type": "markdown",
      "metadata": {
        "id": "4cSEgorIhZ00"
      },
      "source": [
        "#9 задание"
      ]
    },
    {
      "cell_type": "markdown",
      "metadata": {
        "id": "S8TbjmSgkMVS"
      },
      "source": [
        "найдите количество троек, которые могут образовать арифиметическую прогресссию, и разность которых не равна 0"
      ]
    },
    {
      "cell_type": "code",
      "execution_count": null,
      "metadata": {
        "colab": {
          "base_uri": "https://localhost:8080/",
          "height": 245
        },
        "id": "ToUGuai2heIP",
        "outputId": "4470fd19-4e50-49c3-a6ea-0a13231ac5c4"
      },
      "outputs": [
        {
          "ename": "FileNotFoundError",
          "evalue": "[Errno 2] No such file or directory: 'file.txt'",
          "output_type": "error",
          "traceback": [
            "\u001b[0;31m---------------------------------------------------------------------------\u001b[0m",
            "\u001b[0;31mFileNotFoundError\u001b[0m                         Traceback (most recent call last)",
            "\u001b[0;32m<ipython-input-1-1d79687afe66>\u001b[0m in \u001b[0;36m<cell line: 1>\u001b[0;34m()\u001b[0m\n\u001b[0;32m----> 1\u001b[0;31m \u001b[0mfile\u001b[0m \u001b[0;34m=\u001b[0m \u001b[0mopen\u001b[0m\u001b[0;34m(\u001b[0m\u001b[0;34m'file.txt'\u001b[0m\u001b[0;34m)\u001b[0m\u001b[0;34m.\u001b[0m\u001b[0mreadline\u001b[0m\u001b[0;34m(\u001b[0m\u001b[0;34m)\u001b[0m\u001b[0;34m\u001b[0m\u001b[0;34m\u001b[0m\u001b[0m\n\u001b[0m\u001b[1;32m      2\u001b[0m \u001b[0mc\u001b[0m \u001b[0;34m=\u001b[0m \u001b[0;36m0\u001b[0m\u001b[0;34m\u001b[0m\u001b[0;34m\u001b[0m\u001b[0m\n\u001b[1;32m      3\u001b[0m \u001b[0;32mfor\u001b[0m \u001b[0mi\u001b[0m \u001b[0;32min\u001b[0m \u001b[0mfile\u001b[0m\u001b[0;34m:\u001b[0m\u001b[0;34m\u001b[0m\u001b[0;34m\u001b[0m\u001b[0m\n\u001b[1;32m      4\u001b[0m   \u001b[0ml\u001b[0m \u001b[0;34m=\u001b[0m \u001b[0msorted\u001b[0m\u001b[0;34m(\u001b[0m\u001b[0mint\u001b[0m\u001b[0;34m(\u001b[0m\u001b[0mnum\u001b[0m\u001b[0;34m)\u001b[0m \u001b[0;32mfor\u001b[0m \u001b[0mnum\u001b[0m \u001b[0;32min\u001b[0m \u001b[0mi\u001b[0m\u001b[0;34m.\u001b[0m\u001b[0msplit\u001b[0m\u001b[0;34m(\u001b[0m\u001b[0;34m)\u001b[0m\u001b[0;34m)\u001b[0m\u001b[0;34m\u001b[0m\u001b[0;34m\u001b[0m\u001b[0m\n\u001b[1;32m      5\u001b[0m   \u001b[0;32mif\u001b[0m \u001b[0ml\u001b[0m\u001b[0;34m[\u001b[0m\u001b[0;36m2\u001b[0m\u001b[0;34m]\u001b[0m \u001b[0;34m-\u001b[0m \u001b[0ml\u001b[0m\u001b[0;34m[\u001b[0m\u001b[0;36m1\u001b[0m\u001b[0;34m]\u001b[0m \u001b[0;34m==\u001b[0m \u001b[0ml\u001b[0m\u001b[0;34m[\u001b[0m\u001b[0;36m1\u001b[0m\u001b[0;34m]\u001b[0m \u001b[0;34m-\u001b[0m \u001b[0ml\u001b[0m\u001b[0;34m[\u001b[0m\u001b[0;36m0\u001b[0m\u001b[0;34m]\u001b[0m \u001b[0;32mand\u001b[0m \u001b[0ml\u001b[0m\u001b[0;34m[\u001b[0m\u001b[0;36m1\u001b[0m\u001b[0;34m]\u001b[0m \u001b[0;34m-\u001b[0m \u001b[0ml\u001b[0m\u001b[0;34m[\u001b[0m\u001b[0;36m0\u001b[0m\u001b[0;34m]\u001b[0m \u001b[0;34m!=\u001b[0m \u001b[0;36m0\u001b[0m\u001b[0;34m:\u001b[0m\u001b[0;34m\u001b[0m\u001b[0;34m\u001b[0m\u001b[0m\n",
            "\u001b[0;31mFileNotFoundError\u001b[0m: [Errno 2] No such file or directory: 'file.txt'"
          ]
        }
      ],
      "source": [
        "file = open('file.txt').readline()\n",
        "c = 0\n",
        "for i in file:\n",
        "  l = sorted(int(num) for num in i.split())\n",
        "  if l[2] - l[1] == l[1] - l[0] and l[1] - l[0] != 0:\n",
        "    c+=1\n",
        "print(c)\n",
        "\n"
      ]
    },
    {
      "cell_type": "markdown",
      "metadata": {
        "id": "QHfVkKUe646w"
      },
      "source": [
        "В файле электронной таблицы 9-223.xls в каждой строке записаны семь натуральных чисел. Определите количество строк таблицы, для чисел которых выполнены оба условия:\n",
        "– в строке есть одно число, которое повторяется трижды, остальные четыре числа различны;\n",
        "– среднее арифметическое неповторяющихся чисел строки не больше повторяющегося числа.\n",
        "В ответе запишите только число."
      ]
    },
    {
      "cell_type": "code",
      "execution_count": null,
      "metadata": {
        "colab": {
          "base_uri": "https://localhost:8080/"
        },
        "id": "nGeDivfn9ird",
        "outputId": "69e47902-3394-44d8-e744-9ce703411d94"
      },
      "outputs": [
        {
          "name": "stdout",
          "output_type": "stream",
          "text": [
            "36\n"
          ]
        }
      ],
      "source": [
        "file = open('9-1.txt')\n",
        "c = 0\n",
        "\n",
        "def check1(line):\n",
        "  p = []\n",
        "  for k in line:\n",
        "    p.append(line.count(k))\n",
        "  if p.count(1) == 4 and p.count(3) == 3:\n",
        "    return True\n",
        "  else:\n",
        "    return False\n",
        "\n",
        "def check2(line):\n",
        "  p = []\n",
        "  h = 0\n",
        "  for k in line:\n",
        "    if line.count(k) == 1:\n",
        "      p.append(k)\n",
        "    elif line.count(k) == 3:\n",
        "      h = k\n",
        "  sum1 = sum(p) / len(p)\n",
        "  return sum1, h\n",
        "\n",
        "for i in file:\n",
        "  line = (sorted(int(num) for num in i.split()))\n",
        "  sum1, h = check2(line)\n",
        "  if sum1 <= h and check1(line):\n",
        "    c += 1\n",
        "\n",
        "\n",
        "print(c)"
      ]
    },
    {
      "cell_type": "code",
      "execution_count": null,
      "metadata": {
        "colab": {
          "base_uri": "https://localhost:8080/"
        },
        "id": "elzkWKcR80pG",
        "outputId": "4e46706b-a8c8-4281-c08d-a9b12d51e201"
      },
      "outputs": [
        {
          "name": "stdout",
          "output_type": "stream",
          "text": [
            "2\n"
          ]
        }
      ],
      "source": [
        "a = [1, 2, 1, 2]\n",
        "print(a.count(1))"
      ]
    },
    {
      "cell_type": "markdown",
      "metadata": {
        "id": "Scv-64Ub2Yrp"
      },
      "source": [
        "=2*МАКС(A1:C1)^2"
      ]
    },
    {
      "cell_type": "code",
      "execution_count": null,
      "metadata": {
        "colab": {
          "base_uri": "https://localhost:8080/"
        },
        "id": "ze5MwG7H1WJR",
        "outputId": "7cf67d21-e045-41e0-9b5d-680def187cf5"
      },
      "outputs": [
        {
          "name": "stdout",
          "output_type": "stream",
          "text": [
            "3924\n"
          ]
        }
      ],
      "source": [
        "file = open('9.txt')\n",
        "c = 0\n",
        "\n",
        "for i in file:\n",
        "  line = sorted(int(num) for num in i.split())\n",
        "  if line[2] ** 2 > (line[0] ** 2 + line[1] ** 2):\n",
        "    c += 1\n",
        "\n",
        "\n",
        "print(c)"
      ]
    },
    {
      "cell_type": "code",
      "execution_count": null,
      "metadata": {
        "id": "bUAIp6XmvjZP"
      },
      "outputs": [],
      "source": [
        "file = open('9.csv')\n",
        "n = 0\n",
        "for line in file:\n",
        "  nums = map(int, line.split(\",\"))\n",
        "  a, b, c, d = sorted(nums)\n",
        "  n += (a+b) ** 2 <= b ** 2 + c ** 2\n",
        "\n",
        "print(n)\n"
      ]
    },
    {
      "cell_type": "code",
      "execution_count": null,
      "metadata": {
        "id": "VF0WzocNk4Ha"
      },
      "outputs": [],
      "source": [
        "file = open('file.txt').readline()\n",
        "c = 0\n",
        "for i in file:\n",
        "  l = sorted(int(num) for num in i.split())\n",
        "  if l[3] > l[2] + l[1] + l[0]:\n",
        "    if l[0] + l[1] == l[2] + l[3] or l[0] + l[2] == l[1] + l[3] or l[0] + l[3] == l[1] + l[2]:\n",
        "      c+=1\n",
        "print(c)\n",
        "\n"
      ]
    },
    {
      "cell_type": "code",
      "execution_count": null,
      "metadata": {
        "id": "T-S4MO-4nRIF"
      },
      "outputs": [],
      "source": [
        "file = open('9-227.txt')\n",
        "count = 0\n",
        "for i in file:\n",
        "  num_list = sorted(int(num) for num in i.split())\n",
        "  print(num_list)\n",
        "  a = set(num_list)\n",
        "  if len(a) == 3:\n",
        "    sum_1 = num_list[0] + num_list[1]\n",
        "    sum_2 = num_list[2] + num_list[3]\n",
        "    if sum_2 / sum_1 > 2:\n",
        "      if max(num_list) % min(num_list) != 0:\n",
        "        count += 1\n",
        "print(count)\n",
        "\n",
        "\n"
      ]
    },
    {
      "cell_type": "code",
      "execution_count": null,
      "metadata": {
        "id": "2-s7dhs_zRdB"
      },
      "outputs": [],
      "source": [
        "from collections import Counter\n",
        "\n",
        "file = open('9-226.txt')\n",
        "count = 0\n",
        "sums = {}\n",
        "ans = {}\n",
        "\n",
        "for i in file:\n",
        "  count += 1\n",
        "  sums[count] = sorted(int(num) for num in i.split())\n",
        "\n",
        "for key in sums:\n",
        "  #count = Counter(sums[key])\n",
        "  count = set(sums[key])\n",
        "  if len(count) == 5:\n",
        "    #print((''.join(map(str, sums[key]))))\n",
        "    if (''.join(map(str, sums[key]))).count(str(max(sums[key]))) == 1:\n",
        "      ans[key] = sum(sums[key])\n",
        "\n",
        "\n",
        "\n",
        "print(ans)"
      ]
    },
    {
      "cell_type": "markdown",
      "metadata": {
        "id": "jf82pd9Wkxmm"
      },
      "source": []
    },
    {
      "cell_type": "markdown",
      "metadata": {
        "id": "ugRhBSbO4X3W"
      },
      "source": [
        "# 2 задание\n"
      ]
    },
    {
      "cell_type": "code",
      "source": [
        "print('x y w z')\n",
        "for x in 0, 1:\n",
        "  for y in 0, 1:\n",
        "    for w in 0, 1:\n",
        "      for z in 0, 1:\n",
        "        f = x and ((not y) and z and (not w) or y and (not z))\n",
        "        if f:\n",
        "          print(x, y, w, z)"
      ],
      "metadata": {
        "colab": {
          "base_uri": "https://localhost:8080/"
        },
        "id": "At8fHAjHb0iS",
        "outputId": "4233572a-83fa-4eb6-d80d-c696586cd088"
      },
      "execution_count": null,
      "outputs": [
        {
          "output_type": "stream",
          "name": "stdout",
          "text": [
            "x y w z\n",
            "1 0 0 1\n",
            "1 1 0 0\n",
            "1 1 1 0\n"
          ]
        }
      ]
    },
    {
      "cell_type": "code",
      "source": [
        "print('x y w z')\n",
        "for x in 0, 1:\n",
        "  for y in 0, 1:\n",
        "    for w in 0, 1:\n",
        "      for z in 0, 1:\n",
        "        f = (not(x <= y)) or (x == z) or w\n",
        "        if f == 0:\n",
        "          print(x, y, w, z)"
      ],
      "metadata": {
        "colab": {
          "base_uri": "https://localhost:8080/"
        },
        "id": "rK_gctgtFV2F",
        "outputId": "ad39ae83-ab68-4ee4-f2b0-0e03e665477e"
      },
      "execution_count": null,
      "outputs": [
        {
          "output_type": "stream",
          "name": "stdout",
          "text": [
            "x y w z\n",
            "0 0 0 1\n",
            "0 1 0 1\n",
            "1 1 0 0\n"
          ]
        }
      ]
    },
    {
      "cell_type": "code",
      "source": [
        "print('x y w z')\n",
        "for x in 0, 1:\n",
        "  for y in 0, 1:\n",
        "    for w in 0, 1:\n",
        "      for z in 0, 1:\n",
        "        f = not(y <= x) or (y == w) or z\n",
        "        if f == 0:\n",
        "          print(x, y, w, z)"
      ],
      "metadata": {
        "colab": {
          "base_uri": "https://localhost:8080/"
        },
        "id": "UZK_-F9KGDbz",
        "outputId": "42922129-ae87-404d-9cfa-be57563aa92c"
      },
      "execution_count": null,
      "outputs": [
        {
          "output_type": "stream",
          "name": "stdout",
          "text": [
            "x y w z\n",
            "0 0 1 0\n",
            "1 0 1 0\n",
            "1 1 0 0\n"
          ]
        }
      ]
    },
    {
      "cell_type": "code",
      "source": [
        "print('x y w z')\n",
        "for x in 0, 1:\n",
        "  for y in 0, 1:\n",
        "    for w in 0, 1:\n",
        "      for z in 0, 1:\n",
        "        f = not(x <= y) or ((not(w)) <= (not(z))) or w\n",
        "        if f == 0:\n",
        "          print(x, y, w, z)"
      ],
      "metadata": {
        "colab": {
          "base_uri": "https://localhost:8080/"
        },
        "id": "jSsRzrMfGgTw",
        "outputId": "ec29f592-ee55-41e3-cd1e-1a09b05d1f46"
      },
      "execution_count": null,
      "outputs": [
        {
          "output_type": "stream",
          "name": "stdout",
          "text": [
            "x y w z\n",
            "0 0 0 1\n",
            "0 1 0 1\n",
            "1 1 0 1\n"
          ]
        }
      ]
    },
    {
      "cell_type": "code",
      "source": [
        "print('x y w z')\n",
        "for x in 0, 1:\n",
        "  for y in 0, 1:\n",
        "    for w in 0, 1:\n",
        "      for z in 0, 1:\n",
        "        f = (x and (not(y))) or (y == z) or (not(w))\n",
        "        if f == 0:\n",
        "          print(x, y, w, z)"
      ],
      "metadata": {
        "colab": {
          "base_uri": "https://localhost:8080/"
        },
        "id": "7ZCLZ0ffX_ot",
        "outputId": "ca54253b-d162-4378-fe8e-65dfb9bd02f6"
      },
      "execution_count": null,
      "outputs": [
        {
          "output_type": "stream",
          "name": "stdout",
          "text": [
            "x y w z\n",
            "0 0 1 1\n",
            "0 1 1 0\n",
            "1 1 1 0\n"
          ]
        }
      ]
    },
    {
      "cell_type": "code",
      "source": [
        "print('x y w z')\n",
        "for x in 0, 1:\n",
        "  for y in 0, 1:\n",
        "    for z in 0, 1:\n",
        "      for w in 0, 1:\n",
        "        f = ((not x) or y or z) and (x or (not z) or (not w))\n",
        "        if f == 0:\n",
        "          print(x, y, w, z)"
      ],
      "metadata": {
        "colab": {
          "base_uri": "https://localhost:8080/"
        },
        "id": "RoenGB1GcyGq",
        "outputId": "ba1a3afe-85be-4299-d0e4-8cd5e1961fd3"
      },
      "execution_count": null,
      "outputs": [
        {
          "output_type": "stream",
          "name": "stdout",
          "text": [
            "x y w z\n",
            "0 0 1 1\n",
            "0 1 1 1\n",
            "1 0 0 0\n",
            "1 0 1 0\n"
          ]
        }
      ]
    },
    {
      "cell_type": "code",
      "source": [
        "print('x y w z')\n",
        "for x in 0, 1:\n",
        "  for y in 0, 1:\n",
        "    for w in 0, 1:\n",
        "      for z in 0, 1:\n",
        "        f = (x and z) or (((not w) or x) == ((not z) or y))\n",
        "        if f == 0:\n",
        "          print(x, y, w, z)"
      ],
      "metadata": {
        "colab": {
          "base_uri": "https://localhost:8080/"
        },
        "id": "Dlet29gXdZhL",
        "outputId": "3a7ec2e8-742d-45ae-cc30-6434d816e3bf"
      },
      "execution_count": null,
      "outputs": [
        {
          "output_type": "stream",
          "name": "stdout",
          "text": [
            "x y w z\n",
            "0 0 0 1\n",
            "0 0 1 0\n",
            "0 1 1 0\n",
            "0 1 1 1\n"
          ]
        }
      ]
    },
    {
      "cell_type": "code",
      "source": [
        "print('x y w z')\n",
        "for x in 0, 1:\n",
        "  for y in 0, 1:\n",
        "    for w in 0, 1:\n",
        "      for z in 0, 1:\n",
        "        f = ((x <= y) and (y <= w)) or (z == (x or y))\n",
        "        if f == 0:\n",
        "          print(x, y, w, z)"
      ],
      "metadata": {
        "colab": {
          "base_uri": "https://localhost:8080/"
        },
        "id": "k41CghKPeCrA",
        "outputId": "0946bdbd-fa2a-4846-886f-98eb7e7acddf"
      },
      "execution_count": null,
      "outputs": [
        {
          "output_type": "stream",
          "name": "stdout",
          "text": [
            "x y w z\n",
            "0 1 0 0\n",
            "1 0 0 0\n",
            "1 0 1 0\n",
            "1 1 0 0\n"
          ]
        }
      ]
    },
    {
      "cell_type": "code",
      "source": [
        "print('x y w z')\n",
        "for x in 0, 1:\n",
        "  for y in 0, 1:\n",
        "    for z in 0, 1:\n",
        "      for w in 0, 1:\n",
        "        f = (x or (not(y))) and (not(y == z)) and (not(w))\n",
        "        if f:\n",
        "          print(x, y, w, z)"
      ],
      "metadata": {
        "colab": {
          "base_uri": "https://localhost:8080/"
        },
        "id": "ZKo3Ay_37NbR",
        "outputId": "3b5457dd-1067-4220-e985-1641c007bd4d"
      },
      "execution_count": null,
      "outputs": [
        {
          "output_type": "stream",
          "name": "stdout",
          "text": [
            "x y w z\n",
            "0 0 0 1\n",
            "1 0 0 1\n",
            "1 1 0 0\n"
          ]
        }
      ]
    },
    {
      "cell_type": "code",
      "source": [
        "print('x y w z')\n",
        "for x in 0, 1:\n",
        "  for y in 0, 1:\n",
        "    for w in 0, 1:\n",
        "      for z in 0, 1:\n",
        "        f = (x and (not(y))) or (y == z) or w\n",
        "        if f == 0:\n",
        "          print(x, y, w, z)"
      ],
      "metadata": {
        "colab": {
          "base_uri": "https://localhost:8080/"
        },
        "id": "uYtr8Q4kELhC",
        "outputId": "355f86b9-0a79-4388-e0ae-d62feb4a54a6"
      },
      "execution_count": null,
      "outputs": [
        {
          "output_type": "stream",
          "name": "stdout",
          "text": [
            "x y w z\n",
            "0 0 0 1\n",
            "0 1 0 0\n",
            "1 1 0 0\n"
          ]
        }
      ]
    },
    {
      "cell_type": "code",
      "source": [
        "from itertools import product\n",
        "def f1():\n",
        "  return not x or y or (w != z)\n",
        "\n",
        "def f2():\n",
        "  return (not x or y) == (w and (not(z)))\n",
        "\n",
        "for x, y, w, z in product([0, 1], repeat = 4):\n",
        "  if f1() == f2():\n",
        "    print(x, y, w, z)"
      ],
      "metadata": {
        "colab": {
          "base_uri": "https://localhost:8080/"
        },
        "id": "C1BtuJs0I4yT",
        "outputId": "e24def0e-a434-4ba1-b939-66c06c85d331"
      },
      "execution_count": null,
      "outputs": [
        {
          "output_type": "stream",
          "name": "stdout",
          "text": [
            "0 0 1 0\n",
            "0 1 1 0\n",
            "1 0 0 1\n",
            "1 1 1 0\n"
          ]
        }
      ]
    },
    {
      "cell_type": "code",
      "execution_count": null,
      "metadata": {
        "id": "TT9qWrwt_Td1"
      },
      "outputs": [],
      "source": [
        "for a, b, c, d, e in product([0, 1], repeat=5):\n",
        "    rows = [(0, 0, a, b),\n",
        "            (0, c, d, 0),\n",
        "            (1, 1, 1, e)]\n",
        "    values = (1, 1, 0)\n",
        "    if len(set(rows)) != len(rows):\n",
        "        continue  # есть совпадающие строки\n",
        "    for perm in permutations('xyzw'):\n",
        "        if all([f(**dict(zip(perm, row))) == val\n",
        "                for row, val in zip(rows, values)]):\n",
        "            print(*perm)"
      ]
    },
    {
      "cell_type": "code",
      "source": [
        "from itertools import *\n",
        "def f(x, y, z, w):\n",
        "  return (x and (not y)) or (y == z) or (not w)\n",
        "\n",
        "\n",
        "for a, b, c, d, e in product([0, 1], repeat = 5):\n",
        "  rows = [(a, 0, b, c),\n",
        "          (1, 0, d, 0),\n",
        "          (1, e, 0, 0)]\n",
        "  values = (0, 0, 0)\n",
        "  if len(set(rows)) != len(rows):\n",
        "            continue\n",
        "  for p in permutations('xyzw'):\n",
        "            if all([f(**dict(zip(p, row))) == val for row, val in zip(rows, values)]):\n",
        "              print(*p)"
      ],
      "metadata": {
        "colab": {
          "base_uri": "https://localhost:8080/"
        },
        "id": "ks41hd-DeseR",
        "outputId": "51d99d10-5859-411c-cec2-03967ce85672"
      },
      "execution_count": null,
      "outputs": [
        {
          "output_type": "stream",
          "name": "stdout",
          "text": [
            "w z y x\n"
          ]
        }
      ]
    },
    {
      "cell_type": "code",
      "source": [
        "def f(x, y, z, w):\n",
        "  return ((x <= y) == (y <= (not w))) or ((not z) and w)\n",
        "\n",
        "for a, b, c, d, e, f in product([0, 1], repeat = 6):\n",
        "  rows = [(a, b, c, 0),\n",
        "          (0, d, e, 0),\n",
        "          (0, f, 0, 0)]\n",
        "  values = (0, 0, 0)\n",
        "  if len(set(rows)) != len(rows):\n",
        "    continue\n",
        "  for p in permutations('xyzw'):\n",
        "    if all([f(**dict(zip(p, row))) == val for row, val in zip(rows, values)]):\n",
        "      print(*p)"
      ],
      "metadata": {
        "colab": {
          "base_uri": "https://localhost:8080/",
          "height": 297
        },
        "id": "1DyGMKy-hxLv",
        "outputId": "92f5ed4c-a0f6-4e15-d734-55ec186c3cce"
      },
      "execution_count": null,
      "outputs": [
        {
          "output_type": "error",
          "ename": "TypeError",
          "evalue": "'int' object is not callable",
          "traceback": [
            "\u001b[0;31m---------------------------------------------------------------------------\u001b[0m",
            "\u001b[0;31mTypeError\u001b[0m                                 Traceback (most recent call last)",
            "\u001b[0;32m<ipython-input-11-831b359d02dc>\u001b[0m in \u001b[0;36m<cell line: 4>\u001b[0;34m()\u001b[0m\n\u001b[1;32m     10\u001b[0m     \u001b[0;32mcontinue\u001b[0m\u001b[0;34m\u001b[0m\u001b[0;34m\u001b[0m\u001b[0m\n\u001b[1;32m     11\u001b[0m   \u001b[0;32mfor\u001b[0m \u001b[0mp\u001b[0m \u001b[0;32min\u001b[0m \u001b[0mpermutations\u001b[0m\u001b[0;34m(\u001b[0m\u001b[0;34m'xyzw'\u001b[0m\u001b[0;34m)\u001b[0m\u001b[0;34m:\u001b[0m\u001b[0;34m\u001b[0m\u001b[0;34m\u001b[0m\u001b[0m\n\u001b[0;32m---> 12\u001b[0;31m     \u001b[0;32mif\u001b[0m \u001b[0mall\u001b[0m\u001b[0;34m(\u001b[0m\u001b[0;34m[\u001b[0m\u001b[0mf\u001b[0m\u001b[0;34m(\u001b[0m\u001b[0;34m**\u001b[0m\u001b[0mdict\u001b[0m\u001b[0;34m(\u001b[0m\u001b[0mzip\u001b[0m\u001b[0;34m(\u001b[0m\u001b[0mp\u001b[0m\u001b[0;34m,\u001b[0m \u001b[0mrow\u001b[0m\u001b[0;34m)\u001b[0m\u001b[0;34m)\u001b[0m\u001b[0;34m)\u001b[0m \u001b[0;34m==\u001b[0m \u001b[0mval\u001b[0m \u001b[0;32mfor\u001b[0m \u001b[0mrow\u001b[0m\u001b[0;34m,\u001b[0m \u001b[0mval\u001b[0m \u001b[0;32min\u001b[0m \u001b[0mzip\u001b[0m\u001b[0;34m(\u001b[0m\u001b[0mrows\u001b[0m\u001b[0;34m,\u001b[0m \u001b[0mvalues\u001b[0m\u001b[0;34m)\u001b[0m\u001b[0;34m]\u001b[0m\u001b[0;34m)\u001b[0m\u001b[0;34m:\u001b[0m\u001b[0;34m\u001b[0m\u001b[0;34m\u001b[0m\u001b[0m\n\u001b[0m\u001b[1;32m     13\u001b[0m       \u001b[0mprint\u001b[0m\u001b[0;34m(\u001b[0m\u001b[0;34m*\u001b[0m\u001b[0mp\u001b[0m\u001b[0;34m)\u001b[0m\u001b[0;34m\u001b[0m\u001b[0;34m\u001b[0m\u001b[0m\n",
            "\u001b[0;32m<ipython-input-11-831b359d02dc>\u001b[0m in \u001b[0;36m<listcomp>\u001b[0;34m(.0)\u001b[0m\n\u001b[1;32m     10\u001b[0m     \u001b[0;32mcontinue\u001b[0m\u001b[0;34m\u001b[0m\u001b[0;34m\u001b[0m\u001b[0m\n\u001b[1;32m     11\u001b[0m   \u001b[0;32mfor\u001b[0m \u001b[0mp\u001b[0m \u001b[0;32min\u001b[0m \u001b[0mpermutations\u001b[0m\u001b[0;34m(\u001b[0m\u001b[0;34m'xyzw'\u001b[0m\u001b[0;34m)\u001b[0m\u001b[0;34m:\u001b[0m\u001b[0;34m\u001b[0m\u001b[0;34m\u001b[0m\u001b[0m\n\u001b[0;32m---> 12\u001b[0;31m     \u001b[0;32mif\u001b[0m \u001b[0mall\u001b[0m\u001b[0;34m(\u001b[0m\u001b[0;34m[\u001b[0m\u001b[0mf\u001b[0m\u001b[0;34m(\u001b[0m\u001b[0;34m**\u001b[0m\u001b[0mdict\u001b[0m\u001b[0;34m(\u001b[0m\u001b[0mzip\u001b[0m\u001b[0;34m(\u001b[0m\u001b[0mp\u001b[0m\u001b[0;34m,\u001b[0m \u001b[0mrow\u001b[0m\u001b[0;34m)\u001b[0m\u001b[0;34m)\u001b[0m\u001b[0;34m)\u001b[0m \u001b[0;34m==\u001b[0m \u001b[0mval\u001b[0m \u001b[0;32mfor\u001b[0m \u001b[0mrow\u001b[0m\u001b[0;34m,\u001b[0m \u001b[0mval\u001b[0m \u001b[0;32min\u001b[0m \u001b[0mzip\u001b[0m\u001b[0;34m(\u001b[0m\u001b[0mrows\u001b[0m\u001b[0;34m,\u001b[0m \u001b[0mvalues\u001b[0m\u001b[0;34m)\u001b[0m\u001b[0;34m]\u001b[0m\u001b[0;34m)\u001b[0m\u001b[0;34m:\u001b[0m\u001b[0;34m\u001b[0m\u001b[0;34m\u001b[0m\u001b[0m\n\u001b[0m\u001b[1;32m     13\u001b[0m       \u001b[0mprint\u001b[0m\u001b[0;34m(\u001b[0m\u001b[0;34m*\u001b[0m\u001b[0mp\u001b[0m\u001b[0;34m)\u001b[0m\u001b[0;34m\u001b[0m\u001b[0;34m\u001b[0m\u001b[0m\n",
            "\u001b[0;31mTypeError\u001b[0m: 'int' object is not callable"
          ]
        }
      ]
    },
    {
      "cell_type": "code",
      "source": [
        "print('x y w z')\n",
        "for x in 0, 1:\n",
        "  for y in 0, 1:\n",
        "    for w in 0, 1:\n",
        "      for z in 0, 1:\n",
        "        f = ((not x) and (not y)) or (y == z) or (not w)\n",
        "        if f == 0:\n",
        "          print(x, y, w, z)"
      ],
      "metadata": {
        "colab": {
          "base_uri": "https://localhost:8080/"
        },
        "id": "aoa6WIupgb33",
        "outputId": "e1604a27-2b43-47e7-aadf-9ec2909f15f8"
      },
      "execution_count": null,
      "outputs": [
        {
          "output_type": "stream",
          "name": "stdout",
          "text": [
            "x y w z\n",
            "0 1 1 0\n",
            "1 0 1 1\n",
            "1 1 1 0\n"
          ]
        }
      ]
    },
    {
      "cell_type": "code",
      "source": [
        "print('x y w z')\n",
        "for x in 0, 1:\n",
        "  for y in 0, 1:\n",
        "    for w in 0, 1:\n",
        "      for z in 0, 1:\n",
        "        f = ((x <= y) == (y <= (not w))) or ((not z) and w)\n",
        "        if f == 0:\n",
        "          print(x, y, w, z)"
      ],
      "metadata": {
        "colab": {
          "base_uri": "https://localhost:8080/"
        },
        "id": "UukN2Aeeg9u9",
        "outputId": "aaf0d5be-07b7-4315-f37c-d4d05342a2a2"
      },
      "execution_count": null,
      "outputs": [
        {
          "output_type": "stream",
          "name": "stdout",
          "text": [
            "x y w z\n",
            "0 1 1 1\n",
            "1 0 0 0\n",
            "1 0 0 1\n",
            "1 0 1 1\n",
            "1 1 1 1\n"
          ]
        }
      ]
    },
    {
      "cell_type": "code",
      "execution_count": null,
      "metadata": {
        "id": "FUy8mVFL_u9S"
      },
      "outputs": [],
      "source": [
        "from itertools import *\n",
        "\n",
        "def f(x, y, z, w):\n",
        "    return (x or y and not z) and not w\n",
        "\n",
        "for c in permutations('xyzw'):\n",
        "    for t in '10001', '00101', '01010':\n",
        "        d = {c[i]: int(t[i]) for i in range(4)}\n",
        "        if f(**d) != int(t[4]):\n",
        "            break\n",
        "    else:\n",
        "        print(*c)"
      ]
    },
    {
      "cell_type": "code",
      "execution_count": null,
      "metadata": {
        "colab": {
          "base_uri": "https://localhost:8080/"
        },
        "id": "h6b82BzRATkO",
        "outputId": "3492ab40-274a-453b-ea95-caa94684d1ce"
      },
      "outputs": [
        {
          "name": "stdout",
          "output_type": "stream",
          "text": [
            "x y w z\n",
            "0 0 0 1\n",
            "0 0 1 1\n",
            "1 0 0 1\n",
            "1 0 1 1\n",
            "1 1 0 0\n",
            "1 1 0 1\n"
          ]
        }
      ],
      "source": [
        "import itertools as it\n",
        "print('x y w z')\n",
        "for x in 0, 1:\n",
        "  for y in 0, 1:\n",
        "    for w in 0, 1:\n",
        "      for z in 0, 1:\n",
        "        F = ((x or w) <= (w or not y)) == (not z or y)\n",
        "        if F == 0:\n",
        "          print(x, y, w, z)"
      ]
    },
    {
      "cell_type": "code",
      "execution_count": null,
      "metadata": {
        "colab": {
          "base_uri": "https://localhost:8080/"
        },
        "id": "FhhdHaE1C-ha",
        "outputId": "6e8f9414-e663-47bb-f597-c4a63d42b6cf"
      },
      "outputs": [
        {
          "name": "stdout",
          "output_type": "stream",
          "text": [
            "x y w z\n",
            "0 0 0 1\n",
            "0 0 1 1\n",
            "1 0 0 0\n",
            "1 0 1 1\n",
            "1 1 0 0\n",
            "1 1 0 1\n"
          ]
        }
      ],
      "source": [
        "print('x y w z')\n",
        "for x in 0, 1:\n",
        "  for y in 0, 1:\n",
        "    for w in 0, 1:\n",
        "      for z in 0, 1:\n",
        "        F = ((x and y) <= (z and w) and (not y and z)) == (not x or w)\n",
        "        if F == 1:\n",
        "          print(x, y, w, z)"
      ]
    },
    {
      "cell_type": "code",
      "execution_count": null,
      "metadata": {
        "colab": {
          "base_uri": "https://localhost:8080/"
        },
        "id": "B3TNeWyRFGNR",
        "outputId": "b5cbe6cc-b4c9-4ed9-cd99-7d6dc874a85e"
      },
      "outputs": [
        {
          "name": "stdout",
          "output_type": "stream",
          "text": [
            "x y w z\n",
            "0 0 1 0\n",
            "0 1 1 0\n",
            "1 0 0 0\n",
            "1 0 0 1\n",
            "1 1 0 0\n",
            "1 1 0 1\n"
          ]
        }
      ],
      "source": [
        "print('x y w z')\n",
        "for x in 0, 1:\n",
        "  for y in 0, 1:\n",
        "    for w in 0, 1:\n",
        "      for z in 0, 1:\n",
        "        F = ((x != w) <= (z and not x)) or (y and w and z)\n",
        "        if F == 0:\n",
        "          print(x, y, w , z)"
      ]
    },
    {
      "cell_type": "code",
      "execution_count": null,
      "metadata": {
        "colab": {
          "base_uri": "https://localhost:8080/"
        },
        "id": "jF33M29Cu53D",
        "outputId": "5972e4ee-2763-4d99-8bc6-3f8b52492da8"
      },
      "outputs": [
        {
          "name": "stdout",
          "output_type": "stream",
          "text": [
            "x y z w\n",
            "1 0 0 0\n",
            "1 0 1 0\n",
            "1 0 1 1\n"
          ]
        }
      ],
      "source": [
        "print('x y z w')\n",
        "for x in 0, 1:\n",
        "  for y in 0, 1:\n",
        "    for z in 0, 1:\n",
        "      for w in 0, 1:\n",
        "        F = not x or y or (not z and w)\n",
        "        if F == 0:\n",
        "          print(x, y, z, w)"
      ]
    },
    {
      "cell_type": "code",
      "execution_count": null,
      "metadata": {
        "colab": {
          "base_uri": "https://localhost:8080/"
        },
        "id": "cpbT9Q2z0FDA",
        "outputId": "39d394d6-c1fe-42ff-ef63-066650004ea3"
      },
      "outputs": [
        {
          "name": "stdout",
          "output_type": "stream",
          "text": [
            "x y w z\n",
            "1 0 0 0\n",
            "1 0 0 1\n",
            "1 1 0 0\n",
            "1 1 1 0\n"
          ]
        }
      ],
      "source": [
        "print('x y w z')\n",
        "for x in 0, 1:\n",
        "  for y in 0, 1:\n",
        "    for w in 0, 1:\n",
        "      for z in 0, 1:\n",
        "        F = (x <= (not w)) and (y <= x) and z\n",
        "        if F == 1:\n",
        "          print(z, x, y, w)"
      ]
    },
    {
      "cell_type": "code",
      "execution_count": null,
      "metadata": {
        "colab": {
          "base_uri": "https://localhost:8080/"
        },
        "id": "21SrQegB4AgM",
        "outputId": "646b8aeb-dfc5-42f5-da71-80c75dd2a67b"
      },
      "outputs": [
        {
          "name": "stdout",
          "output_type": "stream",
          "text": [
            "1 0 0 0\n",
            "1 0 0 1\n",
            "1 1 0 0\n",
            "1 1 1 0\n"
          ]
        }
      ],
      "source": [
        "import itertools as it\n",
        "T = [[1, 0, 0, 0],\n",
        "     [1, 1, 0, 0],\n",
        "     [1, 1, 1, 0]]\n",
        "\n",
        "for x, y, z, w in it.product([0, 1], repeat=4):\n",
        "  F = (x <= (not w)) and (y <= x) and z\n",
        "  if F == 1:\n",
        "    print(z, x, y, w)"
      ]
    },
    {
      "cell_type": "code",
      "execution_count": null,
      "metadata": {
        "id": "Ch989DrD_R21"
      },
      "outputs": [],
      "source": []
    },
    {
      "cell_type": "markdown",
      "metadata": {
        "id": "VTWJCIcjzGXf"
      },
      "source": []
    },
    {
      "cell_type": "code",
      "execution_count": null,
      "metadata": {
        "colab": {
          "base_uri": "https://localhost:8080/"
        },
        "id": "_n9fo2ZI4irL",
        "outputId": "b8976d22-2a8d-4d4e-eedd-8c04cabdac7f"
      },
      "outputs": [
        {
          "name": "stdout",
          "output_type": "stream",
          "text": [
            "x y z\n",
            "0 0 0 0\n",
            "0 0 1 0\n",
            "0 1 0 0\n",
            "0 1 1 0\n",
            "1 0 0 1\n",
            "1 0 1 0\n",
            "1 1 0 1\n",
            "1 1 1 1\n"
          ]
        }
      ],
      "source": [
        "print('x y z')\n",
        "for x in range(0, 2):\n",
        "  for y in range(0, 2):\n",
        "    for z in range(0, 2):\n",
        "      res = not z and x or x and y\n",
        "      print(x, y, z, res)"
      ]
    },
    {
      "cell_type": "code",
      "execution_count": null,
      "metadata": {
        "colab": {
          "base_uri": "https://localhost:8080/"
        },
        "id": "ZgAovqVF7C9D",
        "outputId": "bec1ba2d-8b3c-47a5-9bd5-91e9e9d9e522"
      },
      "outputs": [
        {
          "name": "stdout",
          "output_type": "stream",
          "text": [
            "0\t0\t0\t0\n",
            "0\t0\t1\t0\n",
            "0\t1\t0\t0\n",
            "0\t1\t1\t0\n",
            "1\t0\t0\t1\n",
            "1\t0\t1\t0\n",
            "1\t1\t0\t1\n",
            "1\t1\t1\t1\n"
          ]
        }
      ],
      "source": [
        "for x in 0, 1:\n",
        "  for y in 0, 1:\n",
        "    for z in 0, 1:\n",
        "      F = not z and x or x and y\n",
        "      print(x, y, z, F, sep='\\t')\n"
      ]
    },
    {
      "cell_type": "code",
      "execution_count": null,
      "metadata": {
        "colab": {
          "base_uri": "https://localhost:8080/"
        },
        "id": "jlXzSMad9Dhu",
        "outputId": "8e2c5612-74d7-4ed9-c6bd-55617a3cf6af"
      },
      "outputs": [
        {
          "name": "stdout",
          "output_type": "stream",
          "text": [
            "x y z\n",
            "0 0 0\n",
            "0 1 0\n",
            "0 1 1\n"
          ]
        }
      ],
      "source": [
        "print('x y z')\n",
        "for x in range(0, 2):\n",
        "  for y in range(0, 2):\n",
        "    for z in range(0, 2):\n",
        "      if (not x and y and z) or (not x and not z) == 1:\n",
        "        print(x, y, z)"
      ]
    },
    {
      "cell_type": "markdown",
      "metadata": {
        "id": "m_N7K1SEb5Zy"
      },
      "source": [
        "# 24 задание\n"
      ]
    },
    {
      "cell_type": "markdown",
      "source": [
        "## динамический подсчёт"
      ],
      "metadata": {
        "id": "BsQNkezLUhOu"
      }
    },
    {
      "cell_type": "markdown",
      "source": [
        "длина цепочки, стостоящей из символов a c d f"
      ],
      "metadata": {
        "id": "iSSEn6puU7y_"
      }
    },
    {
      "cell_type": "code",
      "source": [
        "s = open('24.txt').readline()\n",
        "m = [0]*len(s)\n",
        "\n",
        "for i in range(len(s)):\n",
        "  if s[i]  in 'ACDF':\n",
        "    m[i] = m[i-1] + 1\n",
        "\n",
        "print(max(m))\n"
      ],
      "metadata": {
        "id": "JP7YQCFFUk-R"
      },
      "execution_count": null,
      "outputs": []
    },
    {
      "cell_type": "markdown",
      "source": [
        "каждые 2 соседних символа различны:"
      ],
      "metadata": {
        "id": "pPy_K3XZVdwA"
      }
    },
    {
      "cell_type": "code",
      "source": [
        "s = open('24.txt').readline()\n",
        "m = [1]*len(s)\n",
        "\n",
        "for i in range(1, len(s)):\n",
        "  if s[i] != s[i-1]:\n",
        "    m[i] = m[i-1] + 1\n",
        "\n",
        "print(max(m))"
      ],
      "metadata": {
        "id": "dPDQzBrNViHV"
      },
      "execution_count": null,
      "outputs": []
    },
    {
      "cell_type": "markdown",
      "source": [
        "цепочка из одинаковых символов - символ, из которой строится подцепочка и затем длину"
      ],
      "metadata": {
        "id": "fhSxN8nPXRpv"
      }
    },
    {
      "cell_type": "code",
      "source": [
        "s = open('24.txt').readline()\n",
        "m = [1]*len(s)\n",
        "\n",
        "for i in range(1, len(s)):\n",
        "  if s[i] == s[i-1]:\n",
        "    m[i] = m[i-1] + 1\n",
        "    if m[i] == 9:\n",
        "      print(s[i], m[i])\n",
        "\n",
        "print(max(m))"
      ],
      "metadata": {
        "id": "pH2O45NOXRIs"
      },
      "execution_count": null,
      "outputs": []
    },
    {
      "cell_type": "markdown",
      "source": [
        "цепочка, в котором символы идут в порядке возрастания"
      ],
      "metadata": {
        "id": "awcwPbZpYU93"
      }
    },
    {
      "cell_type": "code",
      "source": [
        "s = open('24.txt').readline()\n",
        "m = [1]*len(s)\n",
        "\n",
        "for i in range(1, len(s)):\n",
        "  if s[i] > s[i-1]:\n",
        "    m[i] = m[i-1] + 1\n",
        "\n",
        "print(max(m))"
      ],
      "metadata": {
        "id": "lmFSnL3PYaUD"
      },
      "execution_count": null,
      "outputs": []
    },
    {
      "cell_type": "code",
      "source": [
        "s = open('24.txt').readline()\n",
        "m = [1]*len(s)\n",
        "\n",
        "for i in range(1, len(s)):\n",
        "  if s[i] <= s[i-1]:\n",
        "    m[i] = m[i-1] + 1\n",
        "    if m[i] == 19:\n",
        "      print(s[i-18:i+1]) # срез на последние 19 символов\n",
        "\n",
        "print(max(m))"
      ],
      "metadata": {
        "id": "uu__7lJ0ZEhm"
      },
      "execution_count": null,
      "outputs": []
    },
    {
      "cell_type": "markdown",
      "source": [
        "среди символов нет сочетания ST"
      ],
      "metadata": {
        "id": "nK_9Eq4AZx3J"
      }
    },
    {
      "cell_type": "code",
      "source": [
        "s = open('24.txt').readline()\n",
        "m = [1]*len(s)\n",
        "\n",
        "for i in range(1, len(s)):\n",
        "  if s[i-1] + s[i] != 'ST':\n",
        "    m[i] = m[i-1] + 1\n",
        "\n",
        "print(max(m))"
      ],
      "metadata": {
        "id": "Vt_Y_k1tZuib"
      },
      "execution_count": null,
      "outputs": []
    },
    {
      "cell_type": "markdown",
      "source": [
        "нет сочетания PPP"
      ],
      "metadata": {
        "id": "Q7kcri3_aUrA"
      }
    },
    {
      "cell_type": "code",
      "source": [
        "s = open('24.txt').readline()\n",
        "m = [2]*len(s)\n",
        "\n",
        "for i in range(2, len(s)):\n",
        "  if s[i-2] + s[i-1] + s[i] != 'PPP':\n",
        "    m[i] = m[i-1] + 1\n",
        "\n",
        "print(max(m))"
      ],
      "metadata": {
        "id": "FrqaA5Mwaggm"
      },
      "execution_count": null,
      "outputs": []
    },
    {
      "cell_type": "markdown",
      "source": [
        "идущие подряд пары символов ZX или ZY - (пары символов)"
      ],
      "metadata": {
        "id": "E88dMt5Ya-MD"
      }
    },
    {
      "cell_type": "code",
      "source": [
        "s = open('24.txt').readline()\n",
        "m = [0]*len(s)\n",
        "\n",
        "for i in range(1, len(s)):\n",
        "  if s[i-1] + s[i] == 'ZX' or s[i-1] + s[i] == 'ZY':\n",
        "    m[i] = m[i-2] + 1\n",
        "print(max(m))"
      ],
      "metadata": {
        "id": "tpcs3HNUbGL0"
      },
      "execution_count": null,
      "outputs": []
    },
    {
      "cell_type": "markdown",
      "source": [
        "идущие подряд пары символов AA или CC"
      ],
      "metadata": {
        "id": "QG6hw04w6pby"
      }
    },
    {
      "cell_type": "code",
      "source": [
        "s = open('24.txt').readline()\n",
        "m = [0] * len(s)\n",
        "\n",
        "for i in range(1, len(s)):\n",
        "  if s[i-1] + s[i] == 'AA' or s[i-1] + s[i] == 'CC':\n",
        "    m[i] = m[i-2] + 1\n",
        "print(max(m))"
      ],
      "metadata": {
        "id": "Y5p0brTz6vQf"
      },
      "execution_count": null,
      "outputs": []
    },
    {
      "cell_type": "markdown",
      "metadata": {
        "id": "VsO-07b1Wlz5"
      },
      "source": [
        "Текстовый файл 24-279.txt состоит не более чем из 106 символов и содержит только заглавные буквы латинского алфавита и десятичные цифры. Определите максимальное количество идущих подряд символов, которые могут представлять запись числа в шестнадцатеричной системе счисления. Незначащие нули учитывать не следует."
      ]
    },
    {
      "cell_type": "code",
      "execution_count": null,
      "metadata": {
        "colab": {
          "base_uri": "https://localhost:8080/"
        },
        "id": "Kr0GoAaLkl73",
        "outputId": "19984655-2394-447d-a772-9aab8cd7d975"
      },
      "outputs": [
        {
          "name": "stdout",
          "output_type": "stream",
          "text": [
            "21\n"
          ]
        }
      ],
      "source": [
        "file = open('24-279.txt').readline()\n",
        "c = m = 0\n",
        "\n",
        "def check(s):\n",
        "  if s in '0123456789ABCDEF':\n",
        "    return True\n",
        "  else:\n",
        "    return False\n",
        "\n",
        "\n",
        "for i in range(len(file)):\n",
        "  if check(file[i]):\n",
        "    c += 1\n",
        "  else:\n",
        "    c = 0\n",
        "  m = max(m, c)\n",
        "\n",
        "print(m)\n",
        "\n"
      ]
    },
    {
      "cell_type": "code",
      "execution_count": null,
      "metadata": {
        "colab": {
          "base_uri": "https://localhost:8080/"
        },
        "id": "i91rrnplupgX",
        "outputId": "72864077-305b-45db-ccc5-31f685d192cf"
      },
      "outputs": [
        {
          "name": "stdout",
          "output_type": "stream",
          "text": [
            "112\n"
          ]
        }
      ],
      "source": [
        "file = open('24.txt').readline()\n",
        "c = m = 0\n",
        "s = 0\n",
        "for i in file:\n",
        "  if i == 'A':\n",
        "    s = 1\n",
        "    c = 0\n",
        "\n",
        "  elif i == 'Z':\n",
        "    s = 0\n",
        "    m = max(m, c)\n",
        "\n",
        "  elif s == 1:\n",
        "    c += 1\n",
        "\n",
        "print(m)\n"
      ]
    },
    {
      "cell_type": "code",
      "execution_count": null,
      "metadata": {
        "colab": {
          "base_uri": "https://localhost:8080/"
        },
        "id": "l6M13Bxowelt",
        "outputId": "1aa55f48-0060-407e-aebe-077ab9426568"
      },
      "outputs": [
        {
          "name": "stdout",
          "output_type": "stream",
          "text": [
            "114\n"
          ]
        }
      ],
      "source": [
        "F=open('24.txt', 'r')\n",
        "st=F.readline()\n",
        "fl_s=0\n",
        "k=0\n",
        "mx=0\n",
        "for i in range (len(st)):\n",
        "    if st[i]==\"A\":\n",
        "        fl_s=1\n",
        "        k=0\n",
        "    elif st[i]==\"Z\":\n",
        "        fl_s=0\n",
        "        if k>mx:\n",
        "            mx=k\n",
        "    elif fl_s==1:\n",
        "        k+=1\n",
        "print (mx+2)"
      ]
    },
    {
      "cell_type": "code",
      "execution_count": null,
      "metadata": {
        "colab": {
          "base_uri": "https://localhost:8080/"
        },
        "id": "Bf32ijDoEMUp",
        "outputId": "17eaa52f-b577-45bc-d7b9-269c60f69162"
      },
      "outputs": [
        {
          "name": "stdout",
          "output_type": "stream",
          "text": [
            "1\n"
          ]
        }
      ],
      "source": [
        "file = open('24.txt').readline()\n",
        "\n",
        "glasn = ['A', 'E', 'O']\n",
        "sogl = ['B', 'C', 'D']\n",
        "c = m = 0\n",
        "\n",
        "for i in range(len(file)-1):\n",
        "  if file[i] in glasn and file[i+1] in sogl:\n",
        "    c += 1\n",
        "    m = max(m, c)\n",
        "  else:\n",
        "    c = 0\n",
        "\n",
        "print(m)"
      ]
    },
    {
      "cell_type": "markdown",
      "metadata": {
        "id": "rB1yjHzCtLID"
      },
      "source": [
        "Определите количество строк, в которых буквы S и T встречаются одинаково часто?"
      ]
    },
    {
      "cell_type": "code",
      "execution_count": null,
      "metadata": {
        "id": "MT3ZhSrvtWo1"
      },
      "outputs": [],
      "source": [
        "file = open('24.txt')\n",
        "n = 0\n",
        "# lines = file.readlines()\n",
        "# lines = [line.strip() for line in file] rstrip убирает пустоты справа\n",
        "for line in file:\n",
        "  line = line.rstrip()\n",
        "  if line.count('S') == line.count('T'):\n",
        "    n += 1\n",
        "\n",
        "print(n)"
      ]
    },
    {
      "cell_type": "code",
      "execution_count": null,
      "metadata": {
        "id": "dFo9F2CpyOCM"
      },
      "outputs": [],
      "source": [
        "file = open('24.txt')\n",
        "\n",
        "def is_palindrome(s):\n",
        "  return s == s[::-1]\n",
        "\n",
        "def is_just_palindrome(s):\n",
        "  for i in range(len(s)):\n",
        "    for k in range(i+1, len(s)):\n",
        "      p = s[:i] + s[k] + s[i+1:k] + s[i] + s[k+1:]\n",
        "      if is_palindrome(p):\n",
        "        return True\n",
        "  return False\n",
        "\n",
        "def is_jsut_palindrome7_in_line(line):\n",
        "  for pos in range(0, len(line) - 7 + 1):\n",
        "    s = line[pos:pos+7]\n",
        "    if is_just_palindrome(s):\n",
        "      return True\n",
        "  return False\n",
        "\n",
        "for line in file:\n",
        "  n += is_just_palindrome7_in_line(line)\n",
        "print(n)\n",
        "\n"
      ]
    },
    {
      "cell_type": "markdown",
      "metadata": {
        "id": "PED66Z4R18Ww"
      },
      "source": [
        "В текстовом файле находится цепочка из символов, в которую могут входить заглавные буквы латинского алфавита A…Z. Найдите длину самой длинной подцепочки, в которой буквы расположены в алфавитном неубывающем порядке. Если в файле несколько подходящих цепочек одинаковой длины, нужно взять первую из них. В ответе укажите через пробел сначала длину подцепочки, затем символ, с которого она начинается и затем  символ, которым она заканчивается.\n",
        "\n",
        "Например в последовательности AZQDMMPUABCDAZ такая подцепочка DMMPU длиной 5."
      ]
    },
    {
      "cell_type": "code",
      "execution_count": null,
      "metadata": {
        "id": "xkDgBvvT2BQc"
      },
      "outputs": [],
      "source": [
        "file = open('24.txt')\n",
        "\n",
        "pos = 0\n",
        "start = 0\n",
        "end = 0\n",
        "max_len_pos = 0\n",
        "\n",
        "for i in range(1, len(file)):\n",
        "  if file[i] >= file[i-1]:\n",
        "    if (i - start + 1) > max_len: # текущая длина\n",
        "      max_len = i - start + 1\n",
        "      max_len_pos = start\n",
        "  else:\n",
        "    start = i\n",
        "\n",
        "print(max_len, file[max_len_pos], file[max_len_pos + max_len - 1])"
      ]
    },
    {
      "cell_type": "markdown",
      "metadata": {
        "id": "IJNm0V-laULY"
      },
      "source": [
        "В текстовом файле находится цепочка из символов, в которую могут входить заглавные буквы латинского алфавита A…Z. Найдите длину самой длинной подцепочки, в которой есть ровно три буквы Z (не обязательно стоящие рядом)."
      ]
    },
    {
      "cell_type": "code",
      "execution_count": null,
      "metadata": {
        "colab": {
          "base_uri": "https://localhost:8080/"
        },
        "id": "4gGTLDO6aWuc",
        "outputId": "aab492e5-21d8-4315-e429-4fce00ee6788"
      },
      "outputs": [
        {
          "name": "stdout",
          "output_type": "stream",
          "text": [
            "0\n"
          ]
        }
      ],
      "source": [
        "file = open('24_3.txt').readline()\n",
        "c = z = m = 0\n",
        "for i in file:\n",
        "  c += 1\n",
        "  if i == 'Z':\n",
        "    z += 1\n",
        "\n",
        "  if z == 3:\n",
        "    m = max(m ,c)\n",
        "    z = 0\n",
        "    c = 0\n",
        "\n",
        "print(m)\n"
      ]
    },
    {
      "cell_type": "code",
      "execution_count": null,
      "metadata": {
        "id": "X_BKuMozbRu_"
      },
      "outputs": [],
      "source": [
        "file = open('24-1.txt').readline()\n",
        "\n",
        "c = m = 0\n",
        "\n",
        "for i in range(len(file)-1):\n",
        "  if file[i]"
      ]
    },
    {
      "cell_type": "markdown",
      "metadata": {
        "id": "nXFZg2Nqb-9m"
      },
      "source": [
        "Цепочка из символов латинского алфавита A B C D E F. Найдите длину самой длинной подцепочки, состоящей из из символов A C D F (в произвольном порядке)"
      ]
    },
    {
      "cell_type": "code",
      "execution_count": null,
      "metadata": {
        "id": "_eaTQuj4b8S2"
      },
      "outputs": [],
      "source": [
        "file = open('text.file').readline()\n",
        "file = file.replace('B', ' ').replace('E', ' ')\n",
        "print(max(len(nums) for nums in file.split()))"
      ]
    },
    {
      "cell_type": "markdown",
      "metadata": {
        "id": "-OQ4GEM9biBx"
      },
      "source": [
        "состоят из X Y Z, каждые 2 соседних символа различны"
      ]
    },
    {
      "cell_type": "code",
      "execution_count": null,
      "metadata": {
        "id": "5HI_dteybheZ"
      },
      "outputs": [],
      "source": [
        "file = open('24.txt')\n",
        "text = file.read().strip()\n",
        "\n",
        "for c in 'XYZ':\n",
        "  while 'XX' in s:\n",
        "    s = s.replace(c*2, c + ' ' + c)\n",
        "w = s.split()\n",
        "n = len(max(W, key=len))\n",
        "print(m)"
      ]
    },
    {
      "cell_type": "code",
      "execution_count": null,
      "metadata": {
        "id": "f1Dj1Re7fMxb"
      },
      "outputs": [],
      "source": [
        "file = open('24-1.txt').readline()\n",
        "c = m = 1\n",
        "for i in range(len(file)-1):\n",
        "  if file[i] == file[i+1]:\n",
        "    c += 1\n",
        "    m = max(m, c)\n",
        "  else:\n",
        "    c = 1\n",
        "print(m)\n"
      ]
    },
    {
      "cell_type": "code",
      "execution_count": null,
      "metadata": {
        "colab": {
          "base_uri": "https://localhost:8080/"
        },
        "id": "jk6QqVnEcmzp",
        "outputId": "8c617b17-ee83-48cb-e55e-effcdc45636d"
      },
      "outputs": [
        {
          "name": "stdout",
          "output_type": "stream",
          "text": [
            "44\n"
          ]
        }
      ],
      "source": [
        "file = open('k7a-4.txt').readline()\n",
        "c = m = 1\n",
        "\n",
        "for i in range(len(file)):\n",
        "  if file[i] != 'D':\n",
        "    c += 1\n",
        "    m = max(m, c)\n",
        "  else:\n",
        "    c = 0\n",
        "\n",
        "print(m)"
      ]
    },
    {
      "cell_type": "markdown",
      "metadata": {
        "id": "FQpSrrHMivOD"
      },
      "source": [
        "не содержащей символа D"
      ]
    },
    {
      "cell_type": "code",
      "execution_count": null,
      "metadata": {
        "id": "Ytu6HjW0i1xq"
      },
      "outputs": [],
      "source": [
        "file = open('24.txt')\n",
        "text = file.read().strip()\n",
        "words = text.split('D')\n",
        "print(len(max(words, key=len)))"
      ]
    },
    {
      "cell_type": "code",
      "execution_count": null,
      "metadata": {
        "colab": {
          "base_uri": "https://localhost:8080/"
        },
        "id": "KCYF3infkFPa",
        "outputId": "2e049b1f-545f-46da-fc2a-9da8194c4c85"
      },
      "outputs": [
        {
          "name": "stdout",
          "output_type": "stream",
          "text": [
            "16\n"
          ]
        }
      ],
      "source": [
        "file = open('k7a-1.txt').readline()\n",
        "c = m = 1\n",
        "for i in range(len(file)):\n",
        "  if file[i] == 'D' or file[i] == 'E':\n",
        "    c = 0\n",
        "  else:\n",
        "    c += 1\n",
        "    m = max(m, c)\n",
        "\n",
        "print(m)"
      ]
    },
    {
      "cell_type": "code",
      "execution_count": null,
      "metadata": {
        "id": "3qFpGiFyoj2Z"
      },
      "outputs": [],
      "source": [
        "string = open(\"24.txt\").readline().replace(\"D\", \" \").replace(\"E\", \" \")\n",
        "words = string.split()\n",
        "print(len(max(words, key=len)))"
      ]
    },
    {
      "cell_type": "code",
      "execution_count": null,
      "metadata": {
        "colab": {
          "base_uri": "https://localhost:8080/",
          "height": 227
        },
        "id": "dPSVy4b2sK7F",
        "outputId": "ad99e14d-69b0-446f-a38b-4965b81dc502"
      },
      "outputs": [
        {
          "ename": "FileNotFoundError",
          "evalue": "[Errno 2] No such file or directory: '24.txt'",
          "output_type": "error",
          "traceback": [
            "\u001b[0;31m---------------------------------------------------------------------------\u001b[0m",
            "\u001b[0;31mFileNotFoundError\u001b[0m                         Traceback (most recent call last)",
            "\u001b[0;32m<ipython-input-2-e71e664f40be>\u001b[0m in \u001b[0;36m<cell line: 2>\u001b[0;34m()\u001b[0m\n\u001b[1;32m      1\u001b[0m \u001b[0;32mimport\u001b[0m \u001b[0mre\u001b[0m\u001b[0;34m\u001b[0m\u001b[0;34m\u001b[0m\u001b[0m\n\u001b[0;32m----> 2\u001b[0;31m \u001b[0mfile\u001b[0m \u001b[0;34m=\u001b[0m \u001b[0mopen\u001b[0m\u001b[0;34m(\u001b[0m\u001b[0;34m'24.txt'\u001b[0m\u001b[0;34m)\u001b[0m\u001b[0;34m.\u001b[0m\u001b[0mread\u001b[0m\u001b[0;34m(\u001b[0m\u001b[0;34m)\u001b[0m\u001b[0;34m\u001b[0m\u001b[0;34m\u001b[0m\u001b[0m\n\u001b[0m\u001b[1;32m      3\u001b[0m \u001b[0mstring_list\u001b[0m \u001b[0;34m=\u001b[0m \u001b[0mre\u001b[0m\u001b[0;34m.\u001b[0m\u001b[0mfindall\u001b[0m\u001b[0;34m(\u001b[0m\u001b[0;34mr'A.*?A'\u001b[0m\u001b[0;34m,\u001b[0m \u001b[0mfile\u001b[0m\u001b[0;34m)\u001b[0m\u001b[0;34m\u001b[0m\u001b[0;34m\u001b[0m\u001b[0m\n\u001b[1;32m      4\u001b[0m \u001b[0mprint\u001b[0m\u001b[0;34m(\u001b[0m\u001b[0mlen\u001b[0m\u001b[0;34m(\u001b[0m\u001b[0mstring_list\u001b[0m\u001b[0;34m)\u001b[0m\u001b[0;34m)\u001b[0m\u001b[0;34m\u001b[0m\u001b[0;34m\u001b[0m\u001b[0m\n",
            "\u001b[0;31mFileNotFoundError\u001b[0m: [Errno 2] No such file or directory: '24.txt'"
          ]
        }
      ],
      "source": [
        "import re\n",
        "file = open('24.txt').read()\n",
        "string_list = re.findall(r'A.*?A', file)\n",
        "print(len(string_list))"
      ]
    },
    {
      "cell_type": "markdown",
      "metadata": {
        "id": "O8hkHp4aosNB"
      },
      "source": [
        "минимальная длина AF подстроки. АF подстрока - последовательность символов ABCDEF ограниченные в начале символом A, а в конце символом F"
      ]
    },
    {
      "cell_type": "code",
      "execution_count": null,
      "metadata": {
        "id": "_xIKvJbfpKIr"
      },
      "outputs": [],
      "source": [
        "file = open('24.txt').read().rstrip()\n",
        "\n",
        "state = 1 # ждём A и игнорируем буквы F\n",
        "for c in file:\n",
        "  if state == 1:\n",
        "    if c == 'A':\n",
        "      n = 1\n",
        "      state = 2 # теперь ждём F\n",
        "  elif state == 2:\n",
        "    if c == 'A':\n",
        "      n = 1\n",
        "    elif c != 'F':\n",
        "      n += 1\n",
        "      state = 1\n",
        "      if n != 2:  #больше чем AF\n",
        "        m = min(m , n)\n",
        "    else:\n",
        "      n += 1\n",
        "\n",
        "print(m)\n"
      ]
    },
    {
      "cell_type": "code",
      "execution_count": null,
      "metadata": {
        "id": "lVaMA7cXwl0U"
      },
      "outputs": [],
      "source": [
        "file = open(\"24-2.txt\")\n",
        "text = file.read().rstrip()\n",
        "wait_F = False\n",
        "m = len(text)\n",
        "for c in text:\n",
        "    if c == 'A':\n",
        "        n = 1\n",
        "        wait_F = True\n",
        "    elif wait_F:\n",
        "        n += 1\n",
        "        if c == 'F':\n",
        "            wait_F = False\n",
        "            if n != 2:  # больше чем AF\n",
        "                m = min(m, n)\n",
        "print(m)"
      ]
    },
    {
      "cell_type": "markdown",
      "metadata": {
        "id": "M6fG778HdSTu"
      },
      "source": [
        "Файл содержит только заглавные буквы. Определить максимальное количество идущих подряд символов, среди которых нет сочетания ST\n",
        "\n",
        "S может включаться в подстроку"
      ]
    },
    {
      "cell_type": "code",
      "execution_count": null,
      "metadata": {
        "id": "aAYKbeSNc2LF"
      },
      "outputs": [],
      "source": [
        "file = open('24.txt').readline()\n",
        "file = file.replace('ST', 'S T')\n",
        "answer = []\n",
        "for i in file.split():\n",
        "  answer.append(len(i))\n",
        "\n",
        "print(max(answer))\n"
      ]
    },
    {
      "cell_type": "markdown",
      "metadata": {
        "id": "UaPDIGyGeXWX"
      },
      "source": [
        "среди которых нет сочеитания KEGE"
      ]
    },
    {
      "cell_type": "code",
      "execution_count": null,
      "metadata": {
        "colab": {
          "base_uri": "https://localhost:8080/"
        },
        "id": "P2Ra17oId-HY",
        "outputId": "bf11af42-4f0f-4cd1-c2ec-98da7182d285"
      },
      "outputs": [
        {
          "name": "stdout",
          "output_type": "stream",
          "text": [
            "['abcdfghjk', 'j', 'l', 'llls;l', 'l;ls;l', ';ls;l;ls;l', ';ls;l;sl;', ';l;']\n"
          ]
        }
      ],
      "source": [
        "file = open('24.txt').readline()\n",
        "file = file.replace('KEGE', 'KEG EGE')\n",
        "answer = []\n",
        "for i in file.split():\n",
        "  answer.append(len(i))\n",
        "\n",
        "print(max(answer))"
      ]
    },
    {
      "cell_type": "markdown",
      "metadata": {
        "id": "DZ28KGVRflXf"
      },
      "source": [
        "нет сочетания символов PPP\n",
        "\n",
        "(если сочетане начинается и заканчивается на одну и ту же букву, необходимо сделать несколько замен в цикле!)"
      ]
    },
    {
      "cell_type": "code",
      "execution_count": null,
      "metadata": {
        "id": "X_EiCFxIfUQy"
      },
      "outputs": [],
      "source": [
        "file = open('24.txt').readline()\n",
        "while 'PPP' in file:\n",
        "  file = file.replace('PPP', 'PP PP')\n",
        "\n",
        "answer = []\n",
        "for word in file.split():\n",
        "  answer.append(len(word))\n",
        "\n",
        "print(max(answer))"
      ]
    },
    {
      "cell_type": "markdown",
      "metadata": {
        "id": "ndicEuR_i5Aw"
      },
      "source": [
        "Буквы латинского алфавита и десятичные цифры. Найти длину последовательности, состоящей из одинаковых символов. Если несколько цепочек подходящей длины, возьмите первую из них. Выведите символ из которого строитсмя подцепочка и через пробел - длину"
      ]
    },
    {
      "cell_type": "code",
      "execution_count": null,
      "metadata": {
        "id": "Xsern0VdiAOZ"
      },
      "outputs": [],
      "source": [
        "file = open('24.txt').readline()\n",
        "c = m = 1 # строка состоит минимум из 1 символа\n",
        "char = ''\n",
        "for i in range(len(file)-1):\n",
        "  if file[i] == file[i+1]:\n",
        "    c += 1\n",
        "    if c > m:\n",
        "      m = c\n",
        "      char = file[i]\n",
        "  else:\n",
        "    c = 1\n",
        "\n",
        "print(char, m)\n"
      ]
    },
    {
      "cell_type": "code",
      "execution_count": null,
      "metadata": {
        "colab": {
          "base_uri": "https://localhost:8080/"
        },
        "id": "dHntgvlukSAH",
        "outputId": "a67f0902-65cb-407c-c4dc-a4b80207cd90"
      },
      "outputs": [
        {
          "name": "stdout",
          "output_type": "stream",
          "text": [
            "302\n"
          ]
        }
      ],
      "source": [
        "file = open('24-263.txt').readline()\n",
        "c = m = 1\n",
        "\n",
        "for i in range(len(file)-1):\n",
        "  if file[i] != file[i+1]:\n",
        "    c += 1\n",
        "    if c > m:\n",
        "      m = c\n",
        "  else:\n",
        "    c = 1\n",
        "\n",
        "print(m)"
      ]
    },
    {
      "cell_type": "code",
      "execution_count": null,
      "metadata": {
        "colab": {
          "base_uri": "https://localhost:8080/"
        },
        "id": "Yd-8xOtwmuA8",
        "outputId": "120d4cf2-424a-4d26-a937-ff077d4479c1"
      },
      "outputs": [
        {
          "name": "stdout",
          "output_type": "stream",
          "text": [
            "18\n"
          ]
        }
      ],
      "source": [
        "s = open('24-264.txt').readline()\n",
        "c = m = 1\n",
        "\n",
        "\n",
        "def check(a):\n",
        "  try:\n",
        "    ts = int(a)\n",
        "    return False\n",
        "  except Exception:\n",
        "    return True\n",
        "\n",
        "\n",
        "for i in range(len(s)-1):\n",
        "  a1 = check(s[i])\n",
        "  a2 = check(s[i+1])\n",
        "  if a1 != a2:\n",
        "    c += 1\n",
        "    m = max(m, c)\n",
        "  else:\n",
        "    c = 1\n",
        "\n",
        "print(m)\n",
        "\n",
        "\n"
      ]
    },
    {
      "cell_type": "markdown",
      "metadata": {
        "id": "GHzmsxyOxyfA"
      },
      "source": [
        "максимальная длина цепочки EBCFEBCF (последний фрагмент может быть неполным)"
      ]
    },
    {
      "cell_type": "code",
      "execution_count": null,
      "metadata": {
        "id": "5uIEC1Scyukd"
      },
      "outputs": [],
      "source": [
        "file = open('24.txt').read().strip()\n",
        "pattern = 'EBCF'\n",
        "for i in range(len(s)):\n",
        "  if s[i] in pattern:\n",
        "    pos = pattern.find(s[i])\n",
        "    if pattern[pos-1] == s[i-1]:  # предыдущая буква\n",
        "      n += 1\n",
        "    else:\n",
        "      n = 0\n"
      ]
    },
    {
      "cell_type": "code",
      "execution_count": null,
      "metadata": {
        "id": "3zxzNSKw1ktW"
      },
      "outputs": [],
      "source": [
        "file = open(\"k7b-4.txt\")\n",
        "pattern = \"EBCF\"\n",
        "s = file.read().rstrip()\n",
        "n = -10\n",
        "m = 0\n",
        "for i in range(1, len(s)):\n",
        "    # если слева от текущей та, которая слева по паттерну:\n",
        "    if s[i] in \"EBCF\" and s[i-1] == \"EBCF\"[\"EBCF\".find(s[i])-1]:\n",
        "        n += 1\n",
        "        m = max(m, n)\n",
        "    elif s[i] == 'E':\n",
        "        n = 1\n",
        "print(m)"
      ]
    },
    {
      "cell_type": "markdown",
      "metadata": {
        "id": "bwmoadJ8geY1"
      },
      "source": [
        "Опеделите максимальное количество символов, идущих друг за другом в строго возрастающем порядке"
      ]
    },
    {
      "cell_type": "code",
      "execution_count": null,
      "metadata": {
        "id": "uNRz-uo3goHQ"
      },
      "outputs": [],
      "source": [
        "s = open('24.txt').readline()\n",
        "c = m = 1\n",
        "\n",
        "for i in range(len(s)-1):\n",
        "  if s[i] < i[i+1]:\n",
        "    c += 1\n",
        "    m = max(c, m)\n",
        "  else:\n",
        "    c = 1\n",
        "\n",
        "print(m)"
      ]
    },
    {
      "cell_type": "markdown",
      "metadata": {
        "id": "ioPTFrBPjTZx"
      },
      "source": [
        "Максимальное количество символов, идущих обратном в алфавитном порядке X Y Z"
      ]
    },
    {
      "cell_type": "code",
      "execution_count": null,
      "metadata": {
        "id": "mtmqDjr3jp_X"
      },
      "outputs": [],
      "source": [
        "s = open('24.txt').readline()\n",
        "c = m = 1\n",
        "\n",
        "for i in range(len(s)-1):\n",
        "  if s[i+1] <= s[i]:\n",
        "    c+=1\n",
        "    m = max(m, c)\n",
        "  else:\n",
        "    c = 1\n",
        "print(m)"
      ]
    },
    {
      "cell_type": "markdown",
      "metadata": {
        "id": "Dntl4U9ikpE2"
      },
      "source": [
        "Строка из заглавных латинских букв X Y Z, определите максимальное количество идущих пар символов ZX или ZY"
      ]
    },
    {
      "cell_type": "code",
      "execution_count": null,
      "metadata": {
        "colab": {
          "base_uri": "https://localhost:8080/"
        },
        "id": "AqTEWfifkEnM",
        "outputId": "e248c39d-9375-4e28-88e9-1e134dc7d563"
      },
      "outputs": [
        {
          "data": {
            "text/plain": [
              "True"
            ]
          },
          "execution_count": 7,
          "metadata": {},
          "output_type": "execute_result"
        }
      ],
      "source": [
        "s = open('22.txt').readline()\n",
        "s = s.replace('ZX', '*').replace('ZY', '*')\n",
        "s = s.replace('X', ' ').replace('Y', ' ').replace('Z', ' ')\n",
        "answer = []\n",
        "for c in s.split():\n",
        "  answer.append(len(c))\n",
        "\n",
        "print(max(answer))\n"
      ]
    },
    {
      "cell_type": "code",
      "execution_count": null,
      "metadata": {
        "colab": {
          "base_uri": "https://localhost:8080/"
        },
        "id": "_Dy6Ao9lli6X",
        "outputId": "0aff9288-94c6-4668-f890-675d8cb1b888"
      },
      "outputs": [
        {
          "name": "stdout",
          "output_type": "stream",
          "text": [
            "54\n"
          ]
        }
      ],
      "source": [
        "s = open('24_12254.txt').readline()\n",
        "c = m = 1\n",
        "\n",
        "for i in range(len(s)-1):\n",
        "  if (s[i] + s[i+1]) in ['SQ', 'RS', 'QR']:\n",
        "    c+=1\n",
        "    m = max(c, m)\n",
        "  else:\n",
        "    c = 1\n",
        "\n",
        "print(m)"
      ]
    },
    {
      "cell_type": "markdown",
      "metadata": {
        "id": "CYdVpT1AsOdT"
      },
      "source": [
        "Текстовый файл состоит из символов T, U, V, W, X, Y и Z.\n",
        "\n",
        "Определите в прилагаемом файле минимальное количество идущих подряд символов (длину непрерывной подпоследовательности), среди которых символ X встречается не менее 500 раз, а символ Y не встречается совсем.\n",
        "\n",
        "Для выполнения этого задания следует написать программу."
      ]
    },
    {
      "cell_type": "code",
      "execution_count": null,
      "metadata": {
        "colab": {
          "base_uri": "https://localhost:8080/"
        },
        "id": "co3LE7URp-2l",
        "outputId": "6479b0ad-af28-4764-a8e0-7e0ff56f8d5e"
      },
      "outputs": [
        {
          "name": "stdout",
          "output_type": "stream",
          "text": [
            "d\n",
            "68507\n"
          ]
        }
      ],
      "source": [
        "s = open('24_11954.txt').readline()\n",
        "s = s.replace('Y', ' ')\n",
        "answer = []\n",
        "for i in s.split():\n",
        "  if i.count('X') > 500:\n",
        "    print('d')\n",
        "    answer.append(len(i))\n",
        "\n",
        "print(min(answer))\n"
      ]
    },
    {
      "cell_type": "markdown",
      "metadata": {
        "id": "ukfVzv8cgGl6"
      },
      "source": [
        "определите количество строк, в которых буква K встречается чаще, чем буква U"
      ]
    },
    {
      "cell_type": "code",
      "execution_count": null,
      "metadata": {
        "id": "nUddMDmVf-yw"
      },
      "outputs": [],
      "source": [
        "file = open('24.txt', encoding='utf8')\n",
        "n = 0\n",
        "for line in file.read():  #split() //  splitlines()\n",
        "  if line.count('K') > line.count('U'):\n",
        "    n+=1\n",
        "\n",
        "print(n)"
      ]
    },
    {
      "cell_type": "markdown",
      "metadata": {
        "id": "VZCTAzshpGj_"
      },
      "source": [
        "длину самой длинной подцепочки, состоящей из одинкаовых символов"
      ]
    },
    {
      "cell_type": "code",
      "execution_count": null,
      "metadata": {
        "colab": {
          "base_uri": "https://localhost:8080/"
        },
        "id": "O1_Gy7ZAnRuq",
        "outputId": "fb91d967-5f48-4c07-b525-a9152a9c07fc"
      },
      "outputs": [
        {
          "name": "stdout",
          "output_type": "stream",
          "text": [
            "4\n"
          ]
        }
      ],
      "source": [
        "file = open('z.txt')\n",
        "file = file.read()\n",
        "n = m = 0\n",
        "\n",
        "\n",
        "for i in range(1, len(file)):\n",
        "  if file[i] == file[i-1]:\n",
        "    n += 1\n",
        "    m = max(n, m)\n",
        "  else:\n",
        "    n = 1\n",
        "\n",
        "\n",
        "print(m)"
      ]
    },
    {
      "cell_type": "markdown",
      "metadata": {
        "id": "XbzUEcyls41H"
      },
      "source": [
        "максимальная длина последовательности, состоящей ищ символов S (хоты бы 1 символ есть в подстроке)"
      ]
    },
    {
      "cell_type": "code",
      "execution_count": null,
      "metadata": {
        "colab": {
          "base_uri": "https://localhost:8080/"
        },
        "id": "H-uZaP1bsOgc",
        "outputId": "522e0a6b-cbe3-4af0-86ca-bbbae091a1fe"
      },
      "outputs": [
        {
          "name": "stdout",
          "output_type": "stream",
          "text": [
            "10\n"
          ]
        }
      ],
      "source": [
        "file = open('24-5.txt')\n",
        "file = file.read().rstrip()\n",
        "\n",
        "n = m = 0\n",
        "\n",
        "for i in range(0, len(file)):  #начинаем с индекса 0, т.к нет i-1\n",
        "  if file[i] == 'R':\n",
        "    n+=1\n",
        "  else:\n",
        "    n = 0\n",
        "  m = max(m, n)\n",
        "\n",
        "print(m)"
      ]
    },
    {
      "cell_type": "code",
      "execution_count": null,
      "metadata": {
        "colab": {
          "base_uri": "https://localhost:8080/"
        },
        "id": "P88YOFnMgzoP",
        "outputId": "e85b993c-bf13-4153-82e8-33df173fcd1e"
      },
      "outputs": [
        {
          "name": "stdout",
          "output_type": "stream",
          "text": [
            "10\n"
          ]
        }
      ],
      "source": [
        "file = open('24-5.txt').readline()\n",
        "c = m = 1\n",
        "for i in range(len(file)):\n",
        "  if file[i] == 'R':\n",
        "    c += 1\n",
        "  else:\n",
        "    c = 0\n",
        "  m = max(m , c)\n",
        "\n",
        "print(m)"
      ]
    },
    {
      "cell_type": "code",
      "execution_count": null,
      "metadata": {
        "id": "6mN6O61fuibx"
      },
      "outputs": [],
      "source": [
        "file = open('24.txt')\n",
        "file = file.read().rstrip()\n",
        "\n",
        "words = file.replace('R', ' ').replace('T', ' ').split()\n",
        "print(max(words, key=len))"
      ]
    },
    {
      "cell_type": "markdown",
      "metadata": {
        "id": "CQFeMq_0xZA9"
      },
      "source": [
        "FSWZ ровно 3 буквы F, не обязательно стоящие рядом"
      ]
    },
    {
      "cell_type": "code",
      "execution_count": null,
      "metadata": {
        "id": "qILvbc9vw8h5"
      },
      "outputs": [],
      "source": [
        "file = open('24.txt')\n",
        "text = file.read().rstrip()\n",
        "\n",
        "words = text.split('F')\n",
        "A = [len(word) for word in words]\n",
        "for i in range(len(A)):\n",
        "  x = A[i] + A[i+1] + A[i+2] + A[i+3] + 3\n",
        "  m = max(m , x)\n",
        "\n",
        "print(m)"
      ]
    },
    {
      "cell_type": "markdown",
      "metadata": {
        "id": "7HXQ0iCxsQod"
      },
      "source": [
        "Определите длину подстроки, в которой комбинация AB встречается ровно 21 раз"
      ]
    },
    {
      "cell_type": "code",
      "execution_count": null,
      "metadata": {
        "colab": {
          "base_uri": "https://localhost:8080/"
        },
        "id": "i1j7xfaYsRrU",
        "outputId": "19be117c-2b20-463e-ea04-2eef65d4367b"
      },
      "outputs": [
        {
          "name": "stdout",
          "output_type": "stream",
          "text": [
            "['', 'SHGS', 'D', 'KKJKJ', 'SDJDHJHDJH', '', 'AJHDJHJDH', '', 'A']\n",
            "54\n"
          ]
        }
      ],
      "source": [
        "\n",
        "s = 'ABSHGSABDABKKJKJABSDJDHJHDJHABABAJHDJHJDHABABA'\n",
        "s = s.split('AB')\n",
        "print(s)\n",
        "for i in range(len(s)-21):\n",
        "  c = 0\n",
        "  for j in range(i, i+22):\n",
        "    c+=len(s[j])\n",
        "  m = max(m, c)\n",
        "\n",
        "print(m)"
      ]
    },
    {
      "cell_type": "code",
      "execution_count": null,
      "metadata": {
        "colab": {
          "base_uri": "https://localhost:8080/"
        },
        "id": "KMKLQlAWzuBe",
        "outputId": "385d8299-36e4-470c-9374-87efacc9bea4"
      },
      "outputs": [
        {
          "name": "stdout",
          "output_type": "stream",
          "text": [
            "6\n"
          ]
        }
      ],
      "source": [
        "file = open('24-3.txt').readline()\n",
        "c = m = 1\n",
        "for i in range(len(file)-1):\n",
        "  if ord(file[i]) < ord(file[i+1]):\n",
        "    c += 1\n",
        "    m = max(m, c)\n",
        "  else:\n",
        "    c = 1\n",
        "\n",
        "print(m)\n"
      ]
    },
    {
      "cell_type": "code",
      "execution_count": null,
      "metadata": {
        "colab": {
          "base_uri": "https://localhost:8080/"
        },
        "id": "TCIOv_02fFfV",
        "outputId": "ab78bc01-fe8c-416c-f50a-0e8aed2f78c6"
      },
      "outputs": [
        {
          "name": "stdout",
          "output_type": "stream",
          "text": [
            "8\n"
          ]
        }
      ],
      "source": [
        "file = open('24-1.txt').readline()\n",
        "\n",
        "c= m = 1\n",
        "for i in range(len(file)-1):\n",
        "  if file[i+1] < file[i]:\n",
        "    c += 1\n",
        "    m = max(m,c)\n",
        "  else:\n",
        "    c = 1\n",
        "\n",
        "print(m)"
      ]
    },
    {
      "cell_type": "markdown",
      "metadata": {
        "id": "qzjtppUUDHgN"
      },
      "source": [
        "#14 задание\n"
      ]
    },
    {
      "cell_type": "markdown",
      "metadata": {
        "id": "WOK1zR3DIHK_"
      },
      "source": []
    },
    {
      "cell_type": "code",
      "execution_count": null,
      "metadata": {
        "colab": {
          "base_uri": "https://localhost:8080/"
        },
        "id": "QFynWI4qqcrE",
        "outputId": "02a9673d-56fa-4a25-a125-a15bc2450d6e"
      },
      "outputs": [
        {
          "name": "stdout",
          "output_type": "stream",
          "text": [
            "7\n"
          ]
        }
      ],
      "source": [
        "x = 9**12 + 3**8 - 3\n",
        "s = ''\n",
        "while x != 0:\n",
        "  s += str(x % 3)\n",
        "  x = x // 3\n",
        "\n",
        "s = s[::-1]\n",
        "print(s.count('2'))\n"
      ]
    },
    {
      "cell_type": "code",
      "source": [
        "for x in '0123456789abcdefghijkkl':\n",
        "  num = int(f'2{x}{x}341011', 23) + int(f'220{x}4', 23) + int(f'110{x}6', 23)\n",
        "  if num % 22 == 0:\n",
        "    print(num // 22)"
      ],
      "metadata": {
        "colab": {
          "base_uri": "https://localhost:8080/"
        },
        "id": "ufy9J9p1Nrgq",
        "outputId": "dea1d388-4ba0-43fa-a1e0-281718c7d2aa"
      },
      "execution_count": null,
      "outputs": [
        {
          "output_type": "stream",
          "name": "stdout",
          "text": [
            "7766124214\n",
            "9542554905\n"
          ]
        }
      ]
    },
    {
      "cell_type": "code",
      "source": [
        "for x in '0123456789abcdefghijklmno':\n",
        "  num = int(f'1{x}2{x}3{x}4{x}5', 25) + int(f'2{x}024', 25) + int(f'1{x}099', 25)\n",
        "  if num % 24 == 0:\n",
        "    print(num // 24)"
      ],
      "metadata": {
        "colab": {
          "base_uri": "https://localhost:8080/"
        },
        "id": "Tc1KSTkOOkk_",
        "outputId": "ace71776-0979-4611-93b9-a1ae7ee239ec"
      },
      "execution_count": null,
      "outputs": [
        {
          "output_type": "stream",
          "name": "stdout",
          "text": [
            "6632993607\n",
            "7651881632\n",
            "8670769657\n",
            "9689657682\n",
            "10708545707\n",
            "11727433732\n"
          ]
        }
      ]
    },
    {
      "cell_type": "code",
      "source": [
        "for x in '0123456789abcdefghijklmno':\n",
        "  num = int(f'1{x}2{x}3{x}4{x}5', 25) + int(f'2{x}024', 25) + int(f'1{x}099', 25)\n",
        "  if num % 24 == 0:\n",
        "    print(num, num // 24)"
      ],
      "metadata": {
        "colab": {
          "base_uri": "https://localhost:8080/"
        },
        "id": "-JdGOP6EhyZQ",
        "outputId": "0a3c5184-6c88-423c-879e-b730d54c936b"
      },
      "execution_count": null,
      "outputs": [
        {
          "output_type": "stream",
          "name": "stdout",
          "text": [
            "159191846568 6632993607\n",
            "183645159168 7651881632\n",
            "208098471768 8670769657\n",
            "232551784368 9689657682\n",
            "257005096968 10708545707\n",
            "281458409568 11727433732\n"
          ]
        }
      ]
    },
    {
      "cell_type": "code",
      "source": [
        "a = '0123456789abcdefghijklmno'\n",
        "for x in a:\n",
        "    s1 = int('1' + x + '2' + x + '3' + x + '4' + x + '5', 25)\n",
        "    s2 = int('2' + x + '024', 25)\n",
        "    s3 = int('1' + x + '099', 25)\n",
        "    if (s1 + s2 + s3) % 24 == 0:\n",
        "        print((s1 + s2 + s3) // 24, s1+s2+s3)\n"
      ],
      "metadata": {
        "colab": {
          "base_uri": "https://localhost:8080/"
        },
        "id": "YnNGRhPWkn8U",
        "outputId": "54eba1cc-eaa5-417d-c0d0-1bbcf47f716e"
      },
      "execution_count": null,
      "outputs": [
        {
          "output_type": "stream",
          "name": "stdout",
          "text": [
            "6632993607 159191846568\n",
            "7651881632 183645159168\n",
            "8670769657 208098471768\n",
            "9689657682 232551784368\n",
            "10708545707 257005096968\n",
            "11727433732 281458409568\n"
          ]
        }
      ]
    },
    {
      "cell_type": "code",
      "source": [
        "x = 7*5**123 + 6*5**111 - 5*25**50 + 4*125**30 - 3*5**10\n",
        "s = ''\n",
        "while x != 0:\n",
        "  s += str(x % 5)\n",
        "  x = x // 5\n",
        "\n",
        "# s = s[::-1]\n",
        "print(s.count('4'))"
      ],
      "metadata": {
        "colab": {
          "base_uri": "https://localhost:8080/"
        },
        "id": "CnlrsGywYZbw",
        "outputId": "ff277268-2dce-4be7-dc98-334e1fd0d332"
      },
      "execution_count": null,
      "outputs": [
        {
          "output_type": "stream",
          "name": "stdout",
          "text": [
            "89\n"
          ]
        }
      ]
    },
    {
      "cell_type": "code",
      "source": [
        "for x in range(57):\n",
        "  for y in range(57):\n",
        "    num = 53*57**7 + 3*57**6 + x*57**5 + 6*57**4 + 6*57**3 + y*57**2 + 3*57**1 + 5\n",
        "    if num % 56 == 0 and y*"
      ],
      "metadata": {
        "id": "dAQkS0aDWjDz"
      },
      "execution_count": null,
      "outputs": []
    },
    {
      "cell_type": "code",
      "execution_count": null,
      "metadata": {
        "colab": {
          "base_uri": "https://localhost:8080/"
        },
        "id": "pMqEPlZnJ_lP",
        "outputId": "f3e1d40b-2de7-4bbe-817a-62a9cc3e7795"
      },
      "outputs": [
        {
          "name": "stdout",
          "output_type": "stream",
          "text": [
            "23\n"
          ]
        }
      ],
      "source": [
        "x = 7*5**123 + 6*5**11 - 5*25**50 + 4*125**30 - 3*5**10\n",
        "s = ''\n",
        "\n",
        "while x != 0:\n",
        "  s += str(x % 5)\n",
        "  x = x // 5\n",
        "\n",
        "s = s[::-1]\n",
        "print(s.count('4'))"
      ]
    },
    {
      "cell_type": "code",
      "execution_count": null,
      "metadata": {
        "colab": {
          "base_uri": "https://localhost:8080/"
        },
        "id": "pmZEtuHfrM7Y",
        "outputId": "68ab45a3-e2c9-45f8-f540-07cc10be1e9b"
      },
      "outputs": [
        {
          "name": "stdout",
          "output_type": "stream",
          "text": [
            "148\n"
          ]
        }
      ],
      "source": [
        "for x in '0123456':\n",
        "  for y in '0123456':\n",
        "    number = int(y+x+'320', 7) + int('1'+x+'3'+y+'3', 9)\n",
        "    if number % 181 == 0:\n",
        "      print(number//181)"
      ]
    },
    {
      "cell_type": "code",
      "execution_count": null,
      "metadata": {
        "colab": {
          "base_uri": "https://localhost:8080/"
        },
        "id": "GJAyxonDsPjt",
        "outputId": "04b6a09f-573e-4691-c5c8-2358a0db757e"
      },
      "outputs": [
        {
          "name": "stdout",
          "output_type": "stream",
          "text": [
            "174\n"
          ]
        }
      ],
      "source": [
        "for x in '0123456789A':\n",
        "  number = int('95' + x + '2', 11) + int(x + '458', 12)\n",
        "  if number % 136 == 0:\n",
        "    print(number // 136)"
      ]
    },
    {
      "cell_type": "code",
      "execution_count": null,
      "metadata": {
        "colab": {
          "base_uri": "https://localhost:8080/"
        },
        "id": "HPFoJ6L2udb1",
        "outputId": "1c9ac5db-93b4-4ee7-e0b9-a62581fd4531"
      },
      "outputs": [
        {
          "name": "stdout",
          "output_type": "stream",
          "text": [
            "368599039\n"
          ]
        }
      ],
      "source": [
        "answer = []\n",
        "for x in '0123456789ABCDEFGHI':\n",
        "  num = int(f'78{x}79643', 19) + int(f'25{x}43', 19) + int(f'63{x}5', 19)\n",
        "  if num % 18 == 0:\n",
        "    answer.append(num//18)\n",
        "\n",
        "print(min(answer))"
      ]
    },
    {
      "cell_type": "code",
      "execution_count": null,
      "metadata": {
        "colab": {
          "base_uri": "https://localhost:8080/"
        },
        "id": "V1p8WbsysxBA",
        "outputId": "ea4df0f5-2323-45a4-ec15-ec6f4b35d0e6"
      },
      "outputs": [
        {
          "name": "stdout",
          "output_type": "stream",
          "text": [
            "10\n"
          ]
        }
      ],
      "source": [
        "x = 125**4 + 25**8 - 30\n",
        "s = ''\n",
        "while x != 0:\n",
        "  s += str(x % 5)\n",
        "  x = x // 5\n",
        "s = s[::-1]\n",
        "print(s.count('4'))"
      ]
    },
    {
      "cell_type": "code",
      "execution_count": null,
      "metadata": {
        "colab": {
          "base_uri": "https://localhost:8080/"
        },
        "id": "UZ1TnkDDtTe7",
        "outputId": "1b315fe1-5935-4295-bdb6-31f31e53b457"
      },
      "outputs": [
        {
          "name": "stdout",
          "output_type": "stream",
          "text": [
            "2778\n"
          ]
        }
      ],
      "source": [
        "for x in '0123456789A':\n",
        "  for y in '0123456789A':\n",
        "    number = int(f'{x}341{y}', 11) + int(f'56{x}1{y}', 19)\n",
        "    if number % 305 == 0:\n",
        "      print(number // 305)"
      ]
    },
    {
      "cell_type": "code",
      "execution_count": null,
      "metadata": {
        "colab": {
          "base_uri": "https://localhost:8080/"
        },
        "id": "pZUXkhcyIQ5g",
        "outputId": "8cb3dedc-6cca-4138-b136-0a77766c4ab5"
      },
      "outputs": [
        {
          "name": "stdout",
          "output_type": "stream",
          "text": [
            "19\n"
          ]
        }
      ],
      "source": [
        "n = 0\n",
        "x = 216 ** 10 + 6 ** 12 - 24\n",
        "while x != 0:\n",
        "  d = x % 6  # последняя цифра в 6-ричной сс\n",
        "  if d == 0:  # обработка этой цифры\n",
        "    n += 1\n",
        "  x = x // 6  # её зачёркивание и извлечение\n",
        "print(n)"
      ]
    },
    {
      "cell_type": "code",
      "execution_count": null,
      "metadata": {
        "id": "ihvRb9DHJpaf"
      },
      "outputs": [],
      "source": [
        "n = 0\n",
        "x = 216 ** 10 + 6 ** 12 - 24\n",
        "while x != 0:\n",
        "  d = x % 6  # последняя цифра в 6-ричной сс\n",
        "  if d == 0:  # обработка этой цифры\n",
        "    n += 1\n",
        "  x = x // 6  # её зачёркивание и извлечение\n",
        "print(n)"
      ]
    },
    {
      "cell_type": "code",
      "execution_count": null,
      "metadata": {
        "colab": {
          "base_uri": "https://localhost:8080/"
        },
        "id": "1kWJfF3bDKHW",
        "outputId": "74d53c70-52d3-4b2c-b00c-1f8e146fe594"
      },
      "outputs": [
        {
          "name": "stdout",
          "output_type": "stream",
          "text": [
            "2013\n"
          ]
        }
      ],
      "source": [
        "x = 4**2014 + 2**2015 - 8\n",
        "count = 0\n",
        "while x:\n",
        " if x % 2 == 1: count += 1\n",
        " x //= 2\n",
        "print( count )"
      ]
    },
    {
      "cell_type": "code",
      "execution_count": null,
      "metadata": {
        "colab": {
          "base_uri": "https://localhost:8080/"
        },
        "id": "o-eKia3TJy78",
        "outputId": "d240702c-4a17-4e52-c45f-013824b12347"
      },
      "outputs": [
        {
          "name": "stdout",
          "output_type": "stream",
          "text": [
            "6\n"
          ]
        }
      ],
      "source": [
        "for n in range(4, 20):\n",
        "  if int('132', n) + 0o13 == int('124', n+1):\n",
        "    print(n)"
      ]
    },
    {
      "cell_type": "code",
      "execution_count": null,
      "metadata": {
        "id": "NraX2y1oAIBI"
      },
      "outputs": [],
      "source": [
        "x = 49**7 + 7**21 - 7\n",
        "count = 0\n",
        "while x > 0:\n",
        "  if x % 7 == 6:\n",
        "    count +=1\n",
        "  x //=7\n",
        "  print(count)"
      ]
    },
    {
      "cell_type": "code",
      "execution_count": null,
      "metadata": {
        "colab": {
          "base_uri": "https://localhost:8080/"
        },
        "id": "S4Y-bej_EGCe",
        "outputId": "f7088f67-899d-4680-80b7-fa5ba08dd748"
      },
      "outputs": [
        {
          "name": "stdout",
          "output_type": "stream",
          "text": [
            "519\n"
          ]
        }
      ],
      "source": [
        "s = 4**512 + 8**512 - 2**128 - 250\n",
        "x = bin(s) [2:]\n",
        "n = x.count(\"0\")\n",
        "print (n)"
      ]
    },
    {
      "cell_type": "code",
      "execution_count": null,
      "metadata": {
        "colab": {
          "base_uri": "https://localhost:8080/"
        },
        "id": "MNaFGNY_FHZe",
        "outputId": "a40ab8f3-89f6-4b10-c486-68f87ad52993"
      },
      "outputs": [
        {
          "data": {
            "text/plain": [
              "15"
            ]
          },
          "execution_count": 6,
          "metadata": {},
          "output_type": "execute_result"
        }
      ],
      "source": [
        "x = 3 * 4 ** 38 + 2 * 4 ** 23 + 4 ** 20 + 3*4**5 + 2 * 4 ** 4 +1\n",
        "hex(x)[2:].count('0')"
      ]
    },
    {
      "cell_type": "code",
      "execution_count": null,
      "metadata": {
        "colab": {
          "base_uri": "https://localhost:8080/"
        },
        "id": "5UCbJGaMGJB2",
        "outputId": "746f20f5-9d97-4443-e9e9-12dc24f03404"
      },
      "outputs": [
        {
          "name": "stdout",
          "output_type": "stream",
          "text": [
            "4024\n"
          ]
        }
      ],
      "source": [
        "x = 4 ** 2014 - 2 ** 2015 - 8\n",
        "b = bin(x)[2:]\n",
        "print(b.count('1'))"
      ]
    },
    {
      "cell_type": "code",
      "execution_count": null,
      "metadata": {
        "colab": {
          "base_uri": "https://localhost:8080/"
        },
        "id": "hLnbnX4xFlOU",
        "outputId": "9ebad026-9007-4168-e981-465f8727364e"
      },
      "outputs": [
        {
          "name": "stdout",
          "output_type": "stream",
          "text": [
            "38\n"
          ]
        }
      ],
      "source": [
        "x = 9 ** 11 * 81 ** 5 - 27 ** 3 - 27\n",
        "count = 0\n",
        "while x > 0:\n",
        "  if x % 3 == 2:\n",
        "    count += 1\n",
        "  x //= 3\n",
        "\n",
        "print(count)"
      ]
    },
    {
      "cell_type": "code",
      "execution_count": null,
      "metadata": {
        "id": "8xrixJSfORCS"
      },
      "outputs": [],
      "source": []
    },
    {
      "cell_type": "markdown",
      "metadata": {
        "id": "MTKpKp6RXkVQ"
      },
      "source": [
        "Значение арифметического выражения:  записали в системе счисления с основанием 6. При этом в записи оказалось 20 цифр 5. При каком минимальном целом положительном X это возможно?"
      ]
    },
    {
      "cell_type": "code",
      "execution_count": null,
      "metadata": {
        "id": "ZWMhzbjeWwrw"
      },
      "outputs": [],
      "source": [
        "for x in range(1, 1000):\n",
        "    y = 216 ** 5 + 36 ** 2 - x\n",
        "    s = \"\"\n",
        "    while y != 0:\n",
        "        s += str(y % 6)\n",
        "        y //= 6\n",
        "    s = s[::-1]\n",
        "    if s.count(\"20\") == 5:\n",
        "        print(x)\n",
        "        break"
      ]
    },
    {
      "cell_type": "code",
      "execution_count": null,
      "metadata": {
        "colab": {
          "base_uri": "https://localhost:8080/"
        },
        "id": "XHKRuu-pXsyo",
        "outputId": "8e139c48-5d01-473b-cc93-6dfaa458cec3"
      },
      "outputs": [
        {
          "name": "stdout",
          "output_type": "stream",
          "text": [
            "4096\n"
          ]
        }
      ],
      "source": [
        "answer = []\n",
        "for x in range(0, 10000):\n",
        "  y = 512 ** 12 + 2 ** 12 - x\n",
        "  s = ''\n",
        "  while y != 0:\n",
        "    s += str(y%8)\n",
        "    y  //= 8\n",
        "    s = s[::1]\n",
        "    if s.count('0') == 33:\n",
        "      answer.append(x)\n",
        "      break\n",
        "\n",
        "print(max(answer))"
      ]
    },
    {
      "cell_type": "code",
      "execution_count": null,
      "metadata": {
        "colab": {
          "base_uri": "https://localhost:8080/"
        },
        "id": "ZQ9MKgF0cNXZ",
        "outputId": "c7371765-1056-4115-863d-56a92030c9d4"
      },
      "outputs": [
        {
          "name": "stdout",
          "output_type": "stream",
          "text": [
            "6 77888\n"
          ]
        }
      ],
      "source": [
        "for x in '0123456789abcdfgh':\n",
        "  a = int(f'9009{x}', 18) + int(f'2257{x}', 18)\n",
        "  if a % 15 == 0:\n",
        "    print(x, a//15)"
      ]
    },
    {
      "cell_type": "code",
      "execution_count": null,
      "metadata": {
        "colab": {
          "base_uri": "https://localhost:8080/"
        },
        "id": "ToCtY4JYdFOe",
        "outputId": "8f6e3b15-5f1a-498e-bae6-5b57cfd18aeb"
      },
      "outputs": [
        {
          "name": "stdout",
          "output_type": "stream",
          "text": [
            "9\n"
          ]
        }
      ],
      "source": [
        "for n in range(2, 40):\n",
        "  if n ** 2 + 2*n + 3 == 9 * (n+2) + 3:\n",
        "    print(n)"
      ]
    },
    {
      "cell_type": "code",
      "execution_count": null,
      "metadata": {
        "colab": {
          "base_uri": "https://localhost:8080/"
        },
        "id": "soj2PWmJdm2P",
        "outputId": "5b9b7f9d-2bc2-4f9e-c017-a03912efa68c"
      },
      "outputs": [
        {
          "name": "stdout",
          "output_type": "stream",
          "text": [
            "11\n"
          ]
        }
      ],
      "source": [
        "for n in range(2, 40):\n",
        "  if 56 % n == 1 and 45 % n == 1:\n",
        "    print(n)"
      ]
    },
    {
      "cell_type": "code",
      "execution_count": null,
      "metadata": {
        "colab": {
          "base_uri": "https://localhost:8080/"
        },
        "id": "4kJcKNNheGxe",
        "outputId": "66609ba1-0b48-45e9-ca67-fcbe36b3cb1f"
      },
      "outputs": [
        {
          "name": "stdout",
          "output_type": "stream",
          "text": [
            "0\n"
          ]
        }
      ],
      "source": [
        "x = 17 ** 5 + 85 ** 8 - 10\n",
        "a = []\n",
        "while x > 0:\n",
        "  a = [x%17]\n",
        "  x //= 17\n",
        "print(a.count(16))"
      ]
    },
    {
      "cell_type": "code",
      "execution_count": null,
      "metadata": {
        "colab": {
          "base_uri": "https://localhost:8080/"
        },
        "id": "VYxEarULfP4L",
        "outputId": "88525563-387a-465e-ec3c-cc3cd9cd5aad"
      },
      "outputs": [
        {
          "name": "stdout",
          "output_type": "stream",
          "text": [
            "8 7691\n"
          ]
        }
      ],
      "source": [
        "for x in '0123456789abcdfg':\n",
        "  y = int('1B4' + x + '6', 17) + int('1'+x+'2'+x, 17)\n",
        "  if y % 19 == 0:\n",
        "    print(x, y//19)"
      ]
    },
    {
      "cell_type": "code",
      "execution_count": null,
      "metadata": {
        "colab": {
          "base_uri": "https://localhost:8080/"
        },
        "id": "WA_n3fpxJ5vg",
        "outputId": "658e46d0-3b8f-471c-cae3-f896cc475451"
      },
      "outputs": [
        {
          "name": "stdout",
          "output_type": "stream",
          "text": [
            "29000\n",
            "31461\n",
            "33922\n",
            "36383\n",
            "38844\n",
            "41305\n"
          ]
        }
      ],
      "source": [
        "for x in '0123456789abcdfg':\n",
        "  y = int('1'+x+'2'+x+'9', 17) + int('3' + x + 'C1' + x, 17)\n",
        "  if y % 12 == 0:\n",
        "    print(y//12)"
      ]
    },
    {
      "cell_type": "code",
      "execution_count": null,
      "metadata": {
        "colab": {
          "base_uri": "https://localhost:8080/"
        },
        "id": "SdqnkVxJK9fh",
        "outputId": "c95a1003-067c-44b4-d1de-83604f4ef67f"
      },
      "outputs": [
        {
          "name": "stdout",
          "output_type": "stream",
          "text": [
            "2401\n"
          ]
        }
      ],
      "source": [
        "ans = []\n",
        "for x in range(1, 10000):\n",
        "  y = 343 ** 8 + 49 ** 2 - x\n",
        "  s = ''\n",
        "  while y != 0:\n",
        "    s += str(y%7)\n",
        "    y //= 7\n",
        "    s = s[::1]\n",
        "    if s.count('0') == 21:\n",
        "      ans.append(x)\n",
        "      break\n",
        "print(max(ans))"
      ]
    },
    {
      "cell_type": "code",
      "execution_count": null,
      "metadata": {
        "id": "8NYbwqi_MaXj"
      },
      "outputs": [],
      "source": [
        "for x in '0123456789abcdefg':\n",
        "  y = int(f'8{x}5678', 25) + int(f'457{x}69', 25) + int(f'145{x}1', 25)\n",
        "  if y % 23 == 0:\n",
        "      print(x, y // 23)\n"
      ]
    },
    {
      "cell_type": "code",
      "execution_count": null,
      "metadata": {
        "colab": {
          "base_uri": "https://localhost:8080/"
        },
        "id": "ZUfHtw9CpPQS",
        "outputId": "25bfb35d-3f89-4bd4-f823-bc91b879cb9b"
      },
      "outputs": [
        {
          "name": "stdout",
          "output_type": "stream",
          "text": [
            "13\n"
          ]
        }
      ],
      "source": [
        "x = (9**7)+(3**21) - 19\n",
        "s = ''\n",
        "while x != 0:\n",
        "    s += str(x % 3)\n",
        "    x //= 3\n",
        "s = s[::-1]\n",
        "print(s.count(\"2\"))"
      ]
    },
    {
      "cell_type": "code",
      "execution_count": null,
      "metadata": {
        "id": "vcSW4DZWrds0"
      },
      "outputs": [],
      "source": [
        "result_search = []\n",
        "for x in '0123456789AB':\n",
        "    for y in '0123456789AB':\n",
        "        t = int(y + 'AA' + x, 12) + int(x + '02' + y, 14)\n",
        "        if t % 80 == 0:\n",
        "            result_search.append(t)\n",
        "if result_search:\n",
        "    print(min(result_search) // 80)"
      ]
    },
    {
      "cell_type": "code",
      "execution_count": null,
      "metadata": {
        "colab": {
          "base_uri": "https://localhost:8080/"
        },
        "id": "g8Oqu27fv8_c",
        "outputId": "cc3244ac-0b92-470e-9237-ffdf4852535b"
      },
      "outputs": [
        {
          "name": "stdout",
          "output_type": "stream",
          "text": [
            "43166\n"
          ]
        }
      ],
      "source": [
        "ans = []\n",
        "for y in '0123456789ABCDE':\n",
        "  s = int(f'ABCD{y}', 15) + int(f'123{y}4', 15)\n",
        "  if s % 14 == 0:\n",
        "    ans.append(s//14)\n",
        "\n",
        "print(min(ans))"
      ]
    },
    {
      "cell_type": "code",
      "execution_count": null,
      "metadata": {
        "colab": {
          "base_uri": "https://localhost:8080/"
        },
        "id": "efMmavj7glsw",
        "outputId": "f69fb0e0-aa21-4978-dce4-3b4670211504"
      },
      "outputs": [
        {
          "name": "stdout",
          "output_type": "stream",
          "text": [
            "8 7691\n"
          ]
        }
      ],
      "source": [
        "for x in '0123456789abcdfg':\n",
        "  y = int('1B4' + x + '6', 17) + int('1'+x+'2'+x, 17)\n",
        "  if y % 19 == 0:\n",
        "    print(x, y//19)"
      ]
    },
    {
      "cell_type": "code",
      "execution_count": null,
      "metadata": {
        "colab": {
          "base_uri": "https://localhost:8080/"
        },
        "id": "zdi5dB7FG_ak",
        "outputId": "f5b42b89-3ab0-4545-904a-d0ac60976df7"
      },
      "outputs": [
        {
          "name": "stdout",
          "output_type": "stream",
          "text": [
            "5 116071912\n",
            "c 116073712\n"
          ]
        }
      ],
      "source": [
        "for x in '0123456789abcde':\n",
        "  y = int('97968' + x + '15', 15) + int('7' + x + '233', 15)\n",
        "  if y % 14 == 0:\n",
        "    print(x, y//14)"
      ]
    },
    {
      "cell_type": "markdown",
      "metadata": {
        "id": "XKJtLqn8TsVs"
      },
      "source": [
        "Значение арифметического выражения: 4910 + 730 – 49— записали в системе счисления с основанием 7. Сколько цифр «6» содержится в этой записи?\n"
      ]
    },
    {
      "cell_type": "code",
      "execution_count": null,
      "metadata": {
        "colab": {
          "base_uri": "https://localhost:8080/"
        },
        "id": "7GMHe6i5TkfG",
        "outputId": "f1d7668d-f56d-4c03-d5bc-730865b88fbd"
      },
      "outputs": [
        {
          "name": "stdout",
          "output_type": "stream",
          "text": [
            "18\n"
          ]
        }
      ],
      "source": [
        "x = 49**10 + 7**30 - 49\n",
        "s = ''\n",
        "while x != 0:\n",
        "    s += str(x % 7)\n",
        "    x //= 7\n",
        "s = s[::-1]\n",
        "print(s.count(\"6\"))"
      ]
    },
    {
      "cell_type": "markdown",
      "metadata": {
        "id": "35VddDrDlSLw"
      },
      "source": [
        "# 13 задание\n"
      ]
    },
    {
      "cell_type": "code",
      "execution_count": null,
      "metadata": {
        "colab": {
          "base_uri": "https://localhost:8080/"
        },
        "id": "zYert5qllVEf",
        "outputId": "4d6e1b84-5cb9-42b2-a9d9-2954b9bd95a8"
      },
      "outputs": [
        {
          "name": "stdout",
          "output_type": "stream",
          "text": [
            "135.12.168.0/21\n"
          ]
        }
      ],
      "source": [
        "from ipaddress import *\n",
        "net = ip_network('135.12.171.214/255.255.248.0', 0)\n",
        "print(net)"
      ]
    },
    {
      "cell_type": "code",
      "source": [
        "from ipaddress import *\n",
        "\n",
        "c = 0\n",
        "def count(network):\n",
        "    for ip in network:\n",
        "        ips = [bin(int(t))[2:] for t in str(ip).split('.')]\n",
        "        return (ips[-1].count('1') + ips[-2].count('1') > 3)\n",
        "\n",
        "for a in range(0, 256):\n",
        "    network = ip_network(f'183.192.{a}.0/255.255.252.0', 0)\n",
        "    if count(network):\n",
        "        print(a)\n",
        "        break\n",
        "\n"
      ],
      "metadata": {
        "id": "DidRoP8rLZGw"
      },
      "execution_count": null,
      "outputs": []
    },
    {
      "cell_type": "code",
      "source": [
        "from ipaddress import *\n",
        "\n",
        "c = 0\n",
        "net = ip_network('112.154.133.208/255.255.252.0', 0)\n",
        "for ip in net.hosts():\n",
        "    ips = [bin(int(t))[2:] for t in str(ip).split('.')]\n",
        "    nuls = ips[-1].count('0') + ips[-2].count('0')\n",
        "    if ips[0].count('1') + ips[1].count('1') <= nuls and nuls % 2 != 0:\n",
        "        c += 1\n",
        "\n",
        "print(c)\n",
        "\n",
        "\n"
      ],
      "metadata": {
        "id": "CwR_MSyoLFOC",
        "colab": {
          "base_uri": "https://localhost:8080/"
        },
        "outputId": "8b48a140-59ce-40f8-ecbc-9eebfc7f9592"
      },
      "execution_count": null,
      "outputs": [
        {
          "output_type": "stream",
          "name": "stdout",
          "text": [
            "466\n"
          ]
        }
      ]
    },
    {
      "cell_type": "code",
      "source": [
        "from ipaddress import *\n",
        "\n",
        "c = 0\n",
        "net = ip_network('116.29.170.89/255.255.255.224', 0)\n",
        "for ip in net:\n",
        "    r = f'{ip:b}'[16:]\n",
        "    l = f'{ip:b}'[:16]\n",
        "    if l.count('1') >= r.count('1'):\n",
        "        c += 1\n",
        "\n",
        "print(c)\n"
      ],
      "metadata": {
        "id": "lOUgbyMESDFS"
      },
      "execution_count": null,
      "outputs": []
    },
    {
      "cell_type": "markdown",
      "metadata": {
        "id": "Dn5jsUzDMwnb"
      },
      "source": [
        "Сколько ip адресов имеют ровно 2 одинвковых по значению байта:?"
      ]
    },
    {
      "cell_type": "code",
      "execution_count": null,
      "metadata": {
        "colab": {
          "base_uri": "https://localhost:8080/"
        },
        "id": "gWiuOd_NMNyf",
        "outputId": "af47cf76-9dca-42fe-b8ec-6a00eb3edfc8"
      },
      "outputs": [
        {
          "name": "stdout",
          "output_type": "stream",
          "text": [
            "40638\n"
          ]
        }
      ],
      "source": [
        "from ipaddress import *\n",
        "k = 0\n",
        "net = ip_network('117.32.0.0/255.224.0.0')\n",
        "for ip in net.hosts():\n",
        "  b = str(ip).split('.')\n",
        "  if len(set(b)) == 3:\n",
        "    k += 1\n",
        "\n",
        "print(k)"
      ]
    },
    {
      "cell_type": "code",
      "execution_count": null,
      "metadata": {
        "colab": {
          "base_uri": "https://localhost:8080/",
          "height": 245
        },
        "id": "6ZdpBmXYoHRf",
        "outputId": "2842545b-d0b6-42e4-d855-1f4fce2cb44d"
      },
      "outputs": [
        {
          "ename": "TypeError",
          "evalue": "'method' object is not iterable",
          "output_type": "error",
          "traceback": [
            "\u001b[0;31m---------------------------------------------------------------------------\u001b[0m",
            "\u001b[0;31mTypeError\u001b[0m                                 Traceback (most recent call last)",
            "\u001b[0;32m<ipython-input-36-a955f9bc056b>\u001b[0m in \u001b[0;36m<cell line: 4>\u001b[0;34m()\u001b[0m\n\u001b[1;32m      2\u001b[0m \u001b[0mnet\u001b[0m \u001b[0;34m=\u001b[0m \u001b[0mip_network\u001b[0m\u001b[0;34m(\u001b[0m\u001b[0;34m'192.168.32.160/255.255.255.240'\u001b[0m\u001b[0;34m)\u001b[0m\u001b[0;34m\u001b[0m\u001b[0;34m\u001b[0m\u001b[0m\n\u001b[1;32m      3\u001b[0m \u001b[0mc\u001b[0m \u001b[0;34m=\u001b[0m \u001b[0;36m0\u001b[0m\u001b[0;34m\u001b[0m\u001b[0;34m\u001b[0m\u001b[0m\n\u001b[0;32m----> 4\u001b[0;31m \u001b[0;32mfor\u001b[0m \u001b[0mip\u001b[0m \u001b[0;32min\u001b[0m \u001b[0mnet\u001b[0m\u001b[0;34m.\u001b[0m\u001b[0mhosts\u001b[0m\u001b[0;34m:\u001b[0m\u001b[0;34m\u001b[0m\u001b[0;34m\u001b[0m\u001b[0m\n\u001b[0m\u001b[1;32m      5\u001b[0m   \u001b[0mip_list\u001b[0m \u001b[0;34m=\u001b[0m \u001b[0mlist\u001b[0m\u001b[0;34m(\u001b[0m\u001b[0mmap\u001b[0m\u001b[0;34m(\u001b[0m\u001b[0mint\u001b[0m\u001b[0;34m,\u001b[0m \u001b[0mstr\u001b[0m\u001b[0;34m(\u001b[0m\u001b[0mip\u001b[0m\u001b[0;34m)\u001b[0m\u001b[0;34m.\u001b[0m\u001b[0msplit\u001b[0m\u001b[0;34m(\u001b[0m\u001b[0;34m'.'\u001b[0m\u001b[0;34m)\u001b[0m\u001b[0;34m)\u001b[0m\u001b[0;34m)\u001b[0m\u001b[0;34m\u001b[0m\u001b[0;34m\u001b[0m\u001b[0m\n\u001b[1;32m      6\u001b[0m   \u001b[0mip_list\u001b[0m \u001b[0;34m=\u001b[0m \u001b[0;34m[\u001b[0m\u001b[0mbin\u001b[0m\u001b[0;34m(\u001b[0m\u001b[0mnew_ip\u001b[0m\u001b[0;34m)\u001b[0m\u001b[0;34m[\u001b[0m\u001b[0;36m2\u001b[0m\u001b[0;34m:\u001b[0m\u001b[0;34m]\u001b[0m \u001b[0;32mfor\u001b[0m \u001b[0mnew_ip\u001b[0m \u001b[0;32min\u001b[0m \u001b[0mip_list\u001b[0m\u001b[0;34m]\u001b[0m\u001b[0;34m\u001b[0m\u001b[0;34m\u001b[0m\u001b[0m\n",
            "\u001b[0;31mTypeError\u001b[0m: 'method' object is not iterable"
          ]
        }
      ],
      "source": [
        "from ipaddress import *\n",
        "net = ip_network('192.168.32.160/255.255.255.240')\n",
        "c = 0\n",
        "for ip in net.hosts:\n",
        "  ip_list = list(map(int, str(ip).split('.')))\n",
        "  ip_list = [bin(new_ip)[2:] for new_ip in ip_list]\n",
        "  if ''.join(ip_list).count('0') > 21:\n",
        "    c+=1\n",
        "print(c)"
      ]
    },
    {
      "cell_type": "code",
      "execution_count": null,
      "metadata": {
        "colab": {
          "base_uri": "https://localhost:8080/"
        },
        "id": "6ZD5Rk55F5cv",
        "outputId": "d24a9843-3ded-44a3-e7b4-b1726c9af81f"
      },
      "outputs": [
        {
          "name": "stdout",
          "output_type": "stream",
          "text": [
            "131072\n"
          ]
        }
      ],
      "source": [
        "from ipaddress import *\n",
        "k = 0\n",
        "net = ip_network('98.116.0.0/255.252.0.0', 0)\n",
        "for ip in net:\n",
        "  ip_list = str(ip).split('.')\n",
        "  ip_list = list(map(int, ip_list))\n",
        "  binary_ip_list = []\n",
        "  for new_ip in ip_list:\n",
        "    binary_ip_list.append(bin(new_ip)[2:])\n",
        "  binary_ip = ''.join(binary_ip_list)\n",
        "  if binary_ip.count('0') % 2 == 0:\n",
        "    k+=1\n",
        "\n",
        "print(k)\n",
        "\n"
      ]
    },
    {
      "cell_type": "code",
      "execution_count": null,
      "metadata": {
        "colab": {
          "base_uri": "https://localhost:8080/"
        },
        "id": "Y524wJ5NJo1q",
        "outputId": "ae957f04-b8f0-4164-c488-df235d7019fb"
      },
      "outputs": [
        {
          "name": "stdout",
          "output_type": "stream",
          "text": [
            "['10001110', '1101100', '111000', '1110000'] <class 'str'>\n",
            "['10001110', '1101100', '111000', '1110001'] <class 'str'>\n",
            "['10001110', '1101100', '111000', '1110010'] <class 'str'>\n",
            "['10001110', '1101100', '111000', '1110011'] <class 'str'>\n",
            "['10001110', '1101100', '111000', '1110100'] <class 'str'>\n",
            "['10001110', '1101100', '111000', '1110101'] <class 'str'>\n",
            "['10001110', '1101100', '111000', '1110110'] <class 'str'>\n",
            "['10001110', '1101100', '111000', '1110111'] <class 'str'>\n",
            "['10001110', '1101100', '111000', '1111000'] <class 'str'>\n",
            "['10001110', '1101100', '111000', '1111001'] <class 'str'>\n",
            "['10001110', '1101100', '111000', '1111010'] <class 'str'>\n",
            "['10001110', '1101100', '111000', '1111011'] <class 'str'>\n",
            "['10001110', '1101100', '111000', '1111100'] <class 'str'>\n",
            "['10001110', '1101100', '111000', '1111101'] <class 'str'>\n",
            "['10001110', '1101100', '111000', '1111110'] <class 'str'>\n",
            "['10001110', '1101100', '111000', '1111111'] <class 'str'>\n",
            "5\n"
          ]
        }
      ],
      "source": [
        "from ipaddress import *\n",
        "k = 0\n",
        "\n",
        "net = ip_network('142.108.56.118/255.255.255.240', 0)\n",
        "for ip in net:\n",
        "  ip_list = list(map(int, str(ip).split('.')))\n",
        "  binary_ips = [bin(new_ip)[2:] for new_ip in ip_list]\n",
        "  print(binary_ips, type(binary_ips[0]))\n",
        "  if binary_ips[0].count('1') + binary_ips[1].count('1') < binary_ips[2].count('1') + binary_ips[3].count('1'):\n",
        "    k += 1\n",
        "\n",
        "print(k)\n"
      ]
    },
    {
      "cell_type": "code",
      "execution_count": null,
      "metadata": {
        "id": "0EThEmCVJo8U"
      },
      "outputs": [],
      "source": [
        "from ipaddress import *\n",
        "ans = []\n",
        "\n",
        "net = ip_network('249.0.33.87/255.252.0.0', 0)\n",
        "for ip in net"
      ]
    },
    {
      "cell_type": "code",
      "execution_count": null,
      "metadata": {
        "colab": {
          "base_uri": "https://localhost:8080/"
        },
        "id": "RqybuCzhROtP",
        "outputId": "86f0276f-d915-463e-c220-3de95a82503e"
      },
      "outputs": [
        {
          "name": "stdout",
          "output_type": "stream",
          "text": [
            "217.9.128.0/18\n"
          ]
        }
      ],
      "source": [
        "from ipaddress import *\n",
        "net = ip_network('217.9.142.131/255.255.192.0', 0)\n",
        "print(net)"
      ]
    },
    {
      "cell_type": "code",
      "execution_count": null,
      "metadata": {
        "id": "ZzsxWtfrRs_T"
      },
      "outputs": [],
      "source": [
        "from ipaddress import *\n",
        "for mask in range(33):\n",
        "  net = ip_network(f'156.32.140.138/{mask}', 0)\n",
        "  print(net, net.netmask)"
      ]
    },
    {
      "cell_type": "code",
      "source": [
        "from functools import cache\n",
        "from ipaddress import *\n",
        "ans = []\n",
        "\n",
        "@cache\n",
        "def count_ips(ip, mask):\n",
        "  net = ip_network(f'{ip}/{mask}', 0)\n",
        "  c = 0\n",
        "  for ip in net:\n",
        "    bin_ip = f'{ip:b}'\n",
        "    if bin_ip.count('1') % 2 == 0:\n",
        "      c += 1\n",
        "  ans.append(c)\n",
        "\n",
        "\n",
        "for mask1 in range(33):\n",
        "  for mask2 in range(33):\n",
        "    net1 = ip_network(f'154.63.206.129/{mask1}', 0)\n",
        "    net2 = ip_network(f'154.63.100.75/{mask2}', 0)\n",
        "    if net1 == net2:\n",
        "      count_ips(str(net1).split('/')[0], str(net1.netmask))\n",
        "\n",
        "print(min(ans))"
      ],
      "metadata": {
        "id": "KrI3PR93BFgL"
      },
      "execution_count": null,
      "outputs": []
    },
    {
      "cell_type": "code",
      "execution_count": null,
      "metadata": {
        "colab": {
          "base_uri": "https://localhost:8080/"
        },
        "id": "i4H7qwfISmBh",
        "outputId": "9729f461-92fa-48de-a092-daa5b9ed48b7"
      },
      "outputs": [
        {
          "name": "stdout",
          "output_type": "stream",
          "text": [
            "224.184.32.160/28\n",
            "224.184.32.160/28\n",
            "224.184.32.160/28\n",
            "224.184.32.160/28\n",
            "224.184.32.160/28\n",
            "224.184.32.160/28\n",
            "224.184.32.160/28\n",
            "224.184.32.160/28\n",
            "224.184.32.160/28\n",
            "224.184.32.160/28\n",
            "224.184.32.160/28\n",
            "224.184.32.160/28\n",
            "224.184.32.160/28\n",
            "224.184.32.160/28\n",
            "224.184.32.160/28\n",
            "224.184.32.160/28\n",
            "224.184.32.160/28\n",
            "224.184.32.160/28\n",
            "224.184.32.160/28\n",
            "224.184.32.160/28\n",
            "224.184.32.160/28\n",
            "224.184.32.160/28\n",
            "224.184.32.160/28\n",
            "224.184.32.160/28\n",
            "224.184.32.160/28\n",
            "224.184.32.160/28\n",
            "224.184.32.160/28\n",
            "224.184.32.160/28\n",
            "224.184.32.160/28\n",
            "224.184.32.160/28\n",
            "224.184.32.160/28\n",
            "224.184.32.160/28\n",
            "224.184.32.160/28\n"
          ]
        }
      ],
      "source": [
        "from ipaddress import *\n",
        "for i in range(33):\n",
        "  net = ip_network('224.184.32.160/255.255.255.240', 0)\n",
        "  print(net)"
      ]
    },
    {
      "cell_type": "code",
      "execution_count": null,
      "metadata": {
        "id": "EtMfM_dtiizo"
      },
      "outputs": [],
      "source": [
        "from ipaddress import *\n",
        "ans = []\n",
        "for mask in range(14):\n",
        "  net = ip_network(f'255.255.255.240/{mask}', 0)\n",
        "  print(net, net.netmask)\n",
        "  ans.append(net)\n",
        "\n",
        "print(len(ans))"
      ]
    },
    {
      "cell_type": "markdown",
      "metadata": {
        "id": "emWqlrRm1f9F"
      },
      "source": [
        "для узла с адресом 111.81.208.27 адрес в сети равен 111.81.192.0 Чему равно наименьшее возможное занчение третьего слева байта маски?"
      ]
    },
    {
      "cell_type": "code",
      "execution_count": null,
      "metadata": {
        "colab": {
          "base_uri": "https://localhost:8080/"
        },
        "id": "oOrHdBi80xoj",
        "outputId": "ed68ce3d-d0da-40de-bd7a-5af507d85429"
      },
      "outputs": [
        {
          "name": "stdout",
          "output_type": "stream",
          "text": [
            "0.0.0.0/0 0.0.0.0\n",
            "0.0.0.0/1 128.0.0.0\n",
            "64.0.0.0/2 192.0.0.0\n",
            "96.0.0.0/3 224.0.0.0\n",
            "96.0.0.0/4 240.0.0.0\n",
            "104.0.0.0/5 248.0.0.0\n",
            "108.0.0.0/6 252.0.0.0\n",
            "110.0.0.0/7 254.0.0.0\n",
            "111.0.0.0/8 255.0.0.0\n",
            "111.0.0.0/9 255.128.0.0\n",
            "111.64.0.0/10 255.192.0.0\n",
            "111.64.0.0/11 255.224.0.0\n",
            "111.80.0.0/12 255.240.0.0\n",
            "111.80.0.0/13 255.248.0.0\n",
            "111.80.0.0/14 255.252.0.0\n",
            "111.80.0.0/15 255.254.0.0\n",
            "111.81.0.0/16 255.255.0.0\n",
            "111.81.128.0/17 255.255.128.0\n",
            "111.81.192.0/18 255.255.192.0\n",
            "111.81.192.0/19 255.255.224.0\n",
            "111.81.208.0/20 255.255.240.0\n",
            "111.81.208.0/21 255.255.248.0\n",
            "111.81.208.0/22 255.255.252.0\n",
            "111.81.208.0/23 255.255.254.0\n",
            "111.81.208.0/24 255.255.255.0\n",
            "111.81.208.0/25 255.255.255.128\n",
            "111.81.208.0/26 255.255.255.192\n",
            "111.81.208.0/27 255.255.255.224\n",
            "111.81.208.16/28 255.255.255.240\n",
            "111.81.208.24/29 255.255.255.248\n",
            "111.81.208.24/30 255.255.255.252\n",
            "111.81.208.26/31 255.255.255.254\n",
            "111.81.208.27/32 255.255.255.255\n"
          ]
        }
      ],
      "source": [
        "from ipaddress import *\n",
        "for mask in range(33):\n",
        "  net = ip_network(f'111.81.208.27/{mask}', 0)\n",
        "  print(net, net.netmask)"
      ]
    },
    {
      "cell_type": "markdown",
      "metadata": {
        "id": "iOP9Okvw403x"
      },
      "source": [
        "Для узла с ip адресом 148.195.140.28 адрес сети равен 148.195.140.0. Найдите наименьшее количество единиц в двочиной запси маски подсети"
      ]
    },
    {
      "cell_type": "code",
      "execution_count": null,
      "metadata": {
        "colab": {
          "base_uri": "https://localhost:8080/"
        },
        "id": "sEJ3N0oC11XF",
        "outputId": "c96e473a-cb31-4f33-866c-dabfcce08447"
      },
      "outputs": [
        {
          "name": "stdout",
          "output_type": "stream",
          "text": [
            "0.0.0.0/0\n",
            "128.0.0.0/1\n",
            "128.0.0.0/2\n",
            "128.0.0.0/3\n",
            "144.0.0.0/4\n",
            "144.0.0.0/5\n",
            "148.0.0.0/6\n",
            "148.0.0.0/7\n",
            "148.0.0.0/8\n",
            "148.128.0.0/9\n",
            "148.192.0.0/10\n",
            "148.192.0.0/11\n",
            "148.192.0.0/12\n",
            "148.192.0.0/13\n",
            "148.192.0.0/14\n",
            "148.194.0.0/15\n",
            "148.195.0.0/16\n",
            "148.195.128.0/17\n",
            "148.195.128.0/18\n",
            "148.195.128.0/19\n",
            "148.195.128.0/20\n",
            "148.195.136.0/21\n",
            "148.195.140.0/22\n",
            "148.195.140.0/23\n",
            "148.195.140.0/24\n",
            "148.195.140.0/25\n",
            "148.195.140.0/26\n",
            "148.195.140.0/27\n",
            "148.195.140.16/28\n",
            "148.195.140.24/29\n",
            "148.195.140.28/30\n",
            "148.195.140.28/31\n",
            "148.195.140.28/32\n"
          ]
        }
      ],
      "source": [
        "from ipaddress import *\n",
        "ans = []\n",
        "for mask in range(33):\n",
        "  net = ip_network(f'148.195.140.28/{mask}', 0)\n",
        "  print(net)\n",
        "\n"
      ]
    },
    {
      "cell_type": "code",
      "execution_count": null,
      "metadata": {
        "id": "i3KTXcX930hM"
      },
      "outputs": [],
      "source": [
        "from ipaddress import *\n",
        "\n",
        "for mask in range(33):\n",
        "  net = ip_network(f'')"
      ]
    },
    {
      "cell_type": "code",
      "source": [
        "from ipaddress import ip_network, ip_interface\n",
        "\n",
        "# Ваши IP-адреса\n",
        "ip1 = '154.63.100.75'\n",
        "ip2 = '154.63.206.129'\n",
        "\n",
        "# Создаем сетевые объекты\n",
        "net1 = ip_network(ip1, strict=False)\n",
        "net2 = ip_network(ip2, strict=False)\n",
        "\n",
        "net = net1.overlaps(net2)\n",
        "print(net)\n"
      ],
      "metadata": {
        "id": "VXBZTs4BJeBB",
        "colab": {
          "base_uri": "https://localhost:8080/"
        },
        "outputId": "651c0e01-513c-4152-95d1-260990046c9d"
      },
      "execution_count": null,
      "outputs": [
        {
          "output_type": "stream",
          "name": "stdout",
          "text": [
            "False\n"
          ]
        }
      ]
    },
    {
      "cell_type": "code",
      "source": [
        "from ipaddress import *\n",
        "\n",
        "net = IPv4Network('0.0.0.0/255.255.224.0', 0)\n",
        "ip = IPv4Address('206.158.124.67')\n",
        "\n",
        "if ip in net:\n",
        "  print('a')"
      ],
      "metadata": {
        "id": "XYb1OHz0G5u8"
      },
      "execution_count": null,
      "outputs": []
    },
    {
      "cell_type": "code",
      "source": [
        "from ipaddress import *\n",
        "\n",
        "for a in range(1, 256):\n",
        "  net = ip_network(f'183.192.{a}.0/255.255.252.0', 0)\n",
        "  for ip in net:\n",
        "    bin_ip = [bin(int(t))[2:] for t in str(ip).split('.')]\n",
        "    if bin_ip[3].count('1') + bin_ip[2].count('1') > 3:\n",
        "\n"
      ],
      "metadata": {
        "colab": {
          "base_uri": "https://localhost:8080/"
        },
        "id": "fxrERVwmMAHw",
        "outputId": "d68f0f62-2d92-48dc-edab-e652f7e7cca4"
      },
      "execution_count": null,
      "outputs": [
        {
          "output_type": "stream",
          "name": "stdout",
          "text": [
            "1\n",
            "2\n",
            "3\n",
            "4\n",
            "5\n",
            "6\n",
            "7\n",
            "8\n",
            "9\n",
            "10\n",
            "11\n",
            "12\n",
            "13\n",
            "14\n",
            "15\n",
            "16\n",
            "17\n",
            "18\n",
            "19\n",
            "20\n",
            "21\n",
            "22\n",
            "23\n",
            "24\n",
            "25\n",
            "26\n",
            "27\n",
            "28\n",
            "29\n",
            "30\n",
            "31\n",
            "32\n",
            "33\n",
            "34\n",
            "35\n",
            "36\n",
            "37\n",
            "38\n",
            "39\n",
            "40\n",
            "41\n",
            "42\n",
            "43\n",
            "44\n",
            "45\n",
            "46\n",
            "47\n",
            "48\n",
            "49\n",
            "50\n",
            "51\n",
            "52\n",
            "53\n",
            "54\n",
            "55\n",
            "56\n",
            "57\n",
            "58\n",
            "59\n",
            "60\n",
            "61\n",
            "62\n",
            "63\n",
            "64\n",
            "65\n",
            "66\n",
            "67\n",
            "68\n",
            "69\n",
            "70\n",
            "71\n",
            "72\n",
            "73\n",
            "74\n",
            "75\n",
            "76\n",
            "77\n",
            "78\n",
            "79\n",
            "80\n",
            "81\n",
            "82\n",
            "83\n",
            "84\n",
            "85\n",
            "86\n",
            "87\n",
            "88\n",
            "89\n",
            "90\n",
            "91\n",
            "92\n",
            "93\n",
            "94\n",
            "95\n",
            "96\n",
            "97\n",
            "98\n",
            "99\n",
            "100\n",
            "101\n",
            "102\n",
            "103\n",
            "104\n",
            "105\n",
            "106\n",
            "107\n",
            "108\n",
            "109\n",
            "110\n",
            "111\n",
            "112\n",
            "113\n",
            "114\n",
            "115\n",
            "116\n",
            "117\n",
            "118\n",
            "119\n",
            "120\n",
            "121\n",
            "122\n",
            "123\n",
            "124\n",
            "125\n",
            "126\n",
            "127\n",
            "128\n",
            "129\n",
            "130\n",
            "131\n",
            "132\n",
            "133\n",
            "134\n",
            "135\n",
            "136\n",
            "137\n",
            "138\n",
            "139\n",
            "140\n",
            "141\n",
            "142\n",
            "143\n",
            "144\n",
            "145\n",
            "146\n",
            "147\n",
            "148\n",
            "149\n",
            "150\n",
            "151\n",
            "152\n",
            "153\n",
            "154\n",
            "155\n",
            "156\n",
            "157\n",
            "158\n",
            "159\n",
            "160\n",
            "161\n",
            "162\n",
            "163\n",
            "164\n",
            "165\n",
            "166\n",
            "167\n",
            "168\n",
            "169\n",
            "170\n",
            "171\n",
            "172\n",
            "173\n",
            "174\n",
            "175\n",
            "176\n",
            "177\n",
            "178\n",
            "179\n",
            "180\n",
            "181\n",
            "182\n",
            "183\n",
            "184\n",
            "185\n",
            "186\n",
            "187\n",
            "188\n",
            "189\n",
            "190\n",
            "191\n",
            "192\n",
            "193\n",
            "194\n",
            "195\n",
            "196\n",
            "197\n",
            "198\n",
            "199\n",
            "200\n",
            "201\n",
            "202\n",
            "203\n",
            "204\n",
            "205\n",
            "206\n",
            "207\n",
            "208\n",
            "209\n",
            "210\n",
            "211\n",
            "212\n",
            "213\n",
            "214\n",
            "215\n",
            "216\n",
            "217\n",
            "218\n",
            "219\n",
            "220\n",
            "221\n",
            "222\n",
            "223\n",
            "224\n",
            "225\n",
            "226\n",
            "227\n",
            "228\n",
            "229\n",
            "230\n",
            "231\n",
            "232\n",
            "233\n",
            "234\n",
            "235\n",
            "236\n",
            "237\n",
            "238\n",
            "239\n",
            "240\n",
            "241\n",
            "242\n",
            "243\n",
            "244\n",
            "245\n",
            "246\n",
            "247\n",
            "248\n",
            "249\n",
            "250\n",
            "251\n",
            "252\n",
            "253\n",
            "254\n",
            "255\n"
          ]
        }
      ]
    },
    {
      "cell_type": "code",
      "execution_count": null,
      "metadata": {
        "colab": {
          "base_uri": "https://localhost:8080/"
        },
        "id": "vs4PATtu3ZZV",
        "outputId": "17e43028-3ed9-48cd-c162-912041675ee3"
      },
      "outputs": [
        {
          "name": "stdout",
          "output_type": "stream",
          "text": [
            "10010100.11000011.10001100.00011100\n",
            "\n",
            "10010100.11000011.10001100.00000000\n"
          ]
        }
      ],
      "source": [
        "print('.'.join(f'{x:>08b}' for x in [148, 195, 140, 28]))\n",
        "print()\n",
        "print('.'.join(f'{x:>08b}' for x in [148, 195, 140, 0]))"
      ]
    },
    {
      "cell_type": "markdown",
      "metadata": {
        "id": "QC6nJvEkw8tD"
      },
      "source": [
        "Задание 2"
      ]
    },
    {
      "cell_type": "code",
      "execution_count": null,
      "metadata": {
        "colab": {
          "base_uri": "https://localhost:8080/"
        },
        "id": "YeN6yuj8w-sf",
        "outputId": "3643d407-aa6f-4328-b3cb-3aad81201816"
      },
      "outputs": [
        {
          "name": "stdout",
          "output_type": "stream",
          "text": [
            "x y w z\n",
            "0 0 1 1\n",
            "0 1 0 1\n",
            "1 0 0 0\n",
            "1 0 1 0\n"
          ]
        }
      ],
      "source": [
        "print('x y w z')\n",
        "for x in range(0, 2):\n",
        "  for y in range(0, 2):\n",
        "    for w in range(0, 2):\n",
        "      for z in range(0, 2):\n",
        "        if not((not(x) == z) <= (y == (w or x))):\n",
        "              print(x, y, w, z)"
      ]
    },
    {
      "cell_type": "code",
      "execution_count": null,
      "metadata": {
        "colab": {
          "base_uri": "https://localhost:8080/"
        },
        "id": "1A-ruLzkX_dy",
        "outputId": "ab7159e7-b0f1-46df-f159-5a8ab1eaf036"
      },
      "outputs": [
        {
          "name": "stdout",
          "output_type": "stream",
          "text": [
            "x y w z\n",
            "0 0 1 0\n",
            "0 0 1 1\n",
            "1 0 1 1\n"
          ]
        }
      ],
      "source": [
        "print('x y w z')\n",
        "for x in range(0, 2):\n",
        "  for y in range(0, 2):\n",
        "    for w in range(0, 2):\n",
        "      for z in range(0, 2):\n",
        "        if (not(x) or z) and not(not(w) or y) and not(y):\n",
        "              print(x, y, w, z)"
      ]
    },
    {
      "cell_type": "markdown",
      "metadata": {
        "id": "vC-97IGmN6iH"
      },
      "source": [
        "# 17 задание\n"
      ]
    },
    {
      "cell_type": "code",
      "execution_count": null,
      "metadata": {
        "colab": {
          "base_uri": "https://localhost:8080/"
        },
        "id": "LKpjjcVneVLR",
        "outputId": "f815b3a2-f24d-4514-a685-fad7d1703660"
      },
      "outputs": [
        {
          "name": "stdout",
          "output_type": "stream",
          "text": [
            "524\n"
          ]
        }
      ],
      "source": [
        "file = [int(x) for x in open('17.txt')]\n",
        "ans = []\n",
        "sp = []\n",
        "count = 0\n",
        "\n",
        "\n",
        "def check1(a):\n",
        "  for i in a:\n",
        "    if len(str(i)) == 5:\n",
        "      return True\n",
        "  else:\n",
        "    return False\n",
        "\n",
        "for k in file:\n",
        "  if str(k)[-3:] == '238':\n",
        "    sp.append(k)\n",
        "\n",
        "for i in range(len(file)-2):\n",
        "   a = [file[i], file[i+1], file[i+2]]\n",
        "   if (a[0] % 3 == 0 and a[1] % 3 == 0 and a[2] % 3 != 0) or (a[1] % 3 == 0 and a[2] % 3 == 0 and a[0] % 3 != 0) or (a[0] % 3 == 0 and a[2] % 3 == 0 and a[1] % 3 != 0):\n",
        "    if check1(a):\n",
        "      if sum(a) > max(sp):\n",
        "        count += 1\n",
        "\n",
        "print(count)\n",
        "\n"
      ]
    },
    {
      "cell_type": "code",
      "execution_count": null,
      "metadata": {
        "colab": {
          "base_uri": "https://localhost:8080/",
          "height": 193
        },
        "id": "aXbGlhbo2Oj6",
        "outputId": "3060583a-4006-4555-8c15-c61c12b0e020"
      },
      "outputs": [
        {
          "name": "stdout",
          "output_type": "stream",
          "text": [
            "18094.529411764706\n"
          ]
        },
        {
          "ename": "ValueError",
          "evalue": "min() arg is an empty sequence",
          "output_type": "error",
          "traceback": [
            "\u001b[0;31m---------------------------------------------------------------------------\u001b[0m",
            "\u001b[0;31mValueError\u001b[0m                                Traceback (most recent call last)",
            "\u001b[0;32m<ipython-input-13-9bd1e341c1d0>\u001b[0m in \u001b[0;36m<cell line: 60>\u001b[0;34m()\u001b[0m\n\u001b[1;32m     58\u001b[0m \u001b[0;34m\u001b[0m\u001b[0m\n\u001b[1;32m     59\u001b[0m \u001b[0;34m\u001b[0m\u001b[0m\n\u001b[0;32m---> 60\u001b[0;31m \u001b[0mprint\u001b[0m\u001b[0;34m(\u001b[0m\u001b[0mlen\u001b[0m\u001b[0;34m(\u001b[0m\u001b[0mans\u001b[0m\u001b[0;34m)\u001b[0m\u001b[0;34m,\u001b[0m \u001b[0mmin\u001b[0m\u001b[0;34m(\u001b[0m\u001b[0mans\u001b[0m\u001b[0;34m)\u001b[0m\u001b[0;34m)\u001b[0m\u001b[0;34m\u001b[0m\u001b[0;34m\u001b[0m\u001b[0m\n\u001b[0m",
            "\u001b[0;31mValueError\u001b[0m: min() arg is an empty sequence"
          ]
        }
      ],
      "source": [
        "a = [int(x) for x in open('17-390.txt')]\n",
        "nums1 = []\n",
        "sum1 = 0\n",
        "ans = []\n",
        "\n",
        "\n",
        "def check1(l):\n",
        "  c = 0\n",
        "  for g in l:\n",
        "    if len(str(g)) == 3:\n",
        "      continue\n",
        "    else:\n",
        "      c += 1\n",
        "      if c > 1:\n",
        "        return False\n",
        "  else:\n",
        "    return True\n",
        "\n",
        "\n",
        "def check2(l):\n",
        "  c = 0\n",
        "  j = 0\n",
        "  for g in l:\n",
        "    if g % 11 == 0:\n",
        "      c += 1\n",
        "    elif g % 3 == 0:\n",
        "      j += 1\n",
        "  if c > j:\n",
        "    return True\n",
        "  else:\n",
        "    return False\n",
        "\n",
        "def check3(l):\n",
        "  for g in l:\n",
        "    if g > sum1:\n",
        "      continue\n",
        "    else:\n",
        "      return False\n",
        "  else:\n",
        "    return True\n",
        "\n",
        "for t in a:\n",
        "  if str(t)[-3:] == '271':\n",
        "    nums1.append(t)\n",
        "\n",
        "for k in nums1:\n",
        "  sum1 += k\n",
        "\n",
        "sum1 = sum1 / len(nums1)\n",
        "print(sum1)\n",
        "\n",
        "for i in range(len(a)-2):\n",
        "  sp = [abs(a[i]), abs(a[i+1]), abs(a[i+2])]\n",
        "  if check1(sp):\n",
        "    if check2(sp):\n",
        "      if check3(sp):\n",
        "        ans.append(sum(sp))\n",
        "\n",
        "\n",
        "print(len(ans), min(ans))"
      ]
    },
    {
      "cell_type": "code",
      "execution_count": null,
      "metadata": {
        "colab": {
          "base_uri": "https://localhost:8080/"
        },
        "id": "01yizWet2Ksb",
        "outputId": "46f8411f-8736-4481-ac7b-ee067db1243d"
      },
      "outputs": [
        {
          "name": "stdout",
          "output_type": "stream",
          "text": [
            "1\n"
          ]
        }
      ],
      "source": []
    },
    {
      "cell_type": "code",
      "execution_count": null,
      "metadata": {
        "id": "5vRELrmiM5lH"
      },
      "outputs": [],
      "source": [
        "a = [int(x) for x in open('17.txt')]\n",
        "digits = {}\n",
        "dup = []\n",
        "min_nums = []\n",
        "\n",
        "for d in a:\n",
        "  digits[d] = sum(map(int, str(d)))\n",
        "\n",
        "for key, value in digits.values():\n",
        "  if value in dup:\n",
        "\n",
        "\n",
        "\n"
      ]
    },
    {
      "cell_type": "code",
      "execution_count": null,
      "metadata": {
        "colab": {
          "base_uri": "https://localhost:8080/"
        },
        "id": "X1f5Nre7gEjd",
        "outputId": "dd2875da-c765-4cbb-c5d8-b3d87feafee7"
      },
      "outputs": [
        {
          "name": "stdout",
          "output_type": "stream",
          "text": [
            "56\n"
          ]
        }
      ],
      "source": [
        "a = '45471656'\n",
        "print(a[-2:])"
      ]
    },
    {
      "cell_type": "code",
      "execution_count": null,
      "metadata": {
        "id": "yH1H0AJl382R"
      },
      "outputs": [],
      "source": [
        "a = [int(x) for x in open('17.txt')]\n",
        "ans = []\n",
        "\n",
        "for i in range(len(a)-1):\n",
        "  if abs(a[i]%3)==0 or abs(a[i+1]%3)==0:\n",
        "    ans.append(a[i]+a[i+1])\n",
        "\n",
        "print(len(ans), max(ans))"
      ]
    },
    {
      "cell_type": "code",
      "execution_count": null,
      "metadata": {
        "id": "Yz8KWTPw_cct"
      },
      "outputs": [],
      "source": [
        "a = [int(x) for x in open('17.txt')]\n",
        "ans =[]\n",
        "for i in range(len(a)-1):\n",
        "  if a[i-1]-a[i]%2==0 and (a[i]%31==0 or a[i+1]%31==0):\n",
        "    ans.append(a[i]+a[i+1])\n",
        "print(len(ans), max(ans))"
      ]
    },
    {
      "cell_type": "code",
      "execution_count": null,
      "metadata": {
        "colab": {
          "base_uri": "https://localhost:8080/"
        },
        "id": "os1GnEEC0igx",
        "outputId": "dc0cdf31-271f-48a8-89f3-1be5b9f19487"
      },
      "outputs": [
        {
          "name": "stdout",
          "output_type": "stream",
          "text": [
            "5678937 19984\n"
          ]
        }
      ],
      "source": [
        "count = m = 0\n",
        "f = open('17.txt')\n",
        "l = [int(i) for i in f]\n",
        "for i in range(len(l) - 1):\n",
        "    for j in range(i + 1, len(l)):\n",
        "        if l[i] * l[j] % 26 == 0:\n",
        "            count += 1\n",
        "            m = max(m, l[i] + l[j])\n",
        "print(count, m)"
      ]
    },
    {
      "cell_type": "code",
      "execution_count": null,
      "metadata": {
        "colab": {
          "base_uri": "https://localhost:8080/"
        },
        "id": "USITeSQ93pwe",
        "outputId": "021c7e27-c9ff-4a38-ff3d-c17cafe056b3"
      },
      "outputs": [
        {
          "name": "stdout",
          "output_type": "stream",
          "text": [
            "1 19908\n"
          ]
        }
      ],
      "source": [
        "count = m = 0\n",
        "a = [int(x) for x in open('17.txt')]\n",
        "for i in range(len(a) - 1):\n",
        "  for l in range(i+1, len(a)):\n",
        "    if (a[i] + a [l]) % 126 == 0:\n",
        "      count =+ 1\n",
        "      m = max(m, a[i]+a[l])\n",
        "\n",
        "print(count, m)\n"
      ]
    },
    {
      "cell_type": "code",
      "execution_count": null,
      "metadata": {
        "colab": {
          "base_uri": "https://localhost:8080/"
        },
        "id": "Y609gFbecSl_",
        "outputId": "dbbc8153-5600-4f5a-93cf-a6433bd057e6"
      },
      "outputs": [
        {
          "name": "stdout",
          "output_type": "stream",
          "text": [
            "0 0\n"
          ]
        }
      ],
      "source": [
        "from math import sqrt\n",
        "k = []\n",
        "a = [int(x) for x in open('17.txt')]\n",
        "for i in range(len(a)-2):\n",
        "  if (sqrt(a[i]*a[i] + a[i+1]*a[i+1]) == sqrt(a[i+2] * a[i+2])):\n",
        "    k.append(a[i] + a[i+1] + a[i+2])\n",
        "\n",
        "try:\n",
        "  print(len(k), max(k))\n",
        "except Exception as ValueError:\n",
        "    print(0, 0)"
      ]
    },
    {
      "cell_type": "markdown",
      "metadata": {
        "id": "gWMrnhOGJVke"
      },
      "source": [
        "В файле содержится последовательность из 10 000 целых положительных чисел. Каждое число не превышает 10 000. Определите и запишите в ответе сначала количество пар элементов последовательности, для которых произведение элементов не кратно 14, затем максимальную из сумм элементов таких пар. В данной задаче под парой подразумевается два различных элемента последовательности. Порядок элементов в паре не важен."
      ]
    },
    {
      "cell_type": "code",
      "execution_count": null,
      "metadata": {
        "colab": {
          "base_uri": "https://localhost:8080/"
        },
        "id": "2XKoGatrGp-y",
        "outputId": "bc2c575e-624b-4899-d116-105265a6ca5f"
      },
      "outputs": [
        {
          "name": "stdout",
          "output_type": "stream",
          "text": [
            "40436496 19873\n",
            "40436496\n"
          ]
        }
      ],
      "source": [
        "a = [int(x) for x in open('17.txt')]\n",
        "k = []\n",
        "count = 0\n",
        "for i in range(len(a)-1):\n",
        "  for j in range(i+1, len(a)):\n",
        "    if a[i] * a[j] % 14 != 0:\n",
        "      count += 1\n",
        "      k.append(a[i] + a[i+1])\n",
        "\n",
        "print(len(k), max(k))\n",
        "print(count)"
      ]
    },
    {
      "cell_type": "markdown",
      "metadata": {
        "id": "gO7abqUAMdVP"
      },
      "source": [
        "Файл содержит последовательность целых чисел, по модулю не превышающих 10 000. Назовём парой два идущих подряд элемента последовательности.\n",
        "\n",
        "Задание 17\n",
        "\n",
        "Определите количество пар, для которых выполняются следующие условия:\n",
        "\n",
        "— запись элементов пары заканчивается одной и той же цифрой;\n",
        "\n",
        "— ровно один элемент из пары делится без остатка на 7;\n",
        "\n",
        "— сумма квадратов элементов пары не превышает квадрат наименьшего из элементов последовательности, запись которых заканчивается цифрой 7.\n",
        "\n",
        "В ответе запишите два числа: сначала количество найденных пар, затем максимальную величину суммы квадратов элементов этих пар."
      ]
    },
    {
      "cell_type": "code",
      "execution_count": null,
      "metadata": {
        "colab": {
          "base_uri": "https://localhost:8080/",
          "height": 245
        },
        "id": "zbHmTgkOJYc4",
        "outputId": "62f6f53c-5f8a-4777-d59d-36b8059baf69"
      },
      "outputs": [
        {
          "ename": "FileNotFoundError",
          "evalue": "ignored",
          "output_type": "error",
          "traceback": [
            "\u001b[0;31m---------------------------------------------------------------------------\u001b[0m",
            "\u001b[0;31mFileNotFoundError\u001b[0m                         Traceback (most recent call last)",
            "\u001b[0;32m<ipython-input-1-8137c7a3a666>\u001b[0m in \u001b[0;36m<cell line: 1>\u001b[0;34m()\u001b[0m\n\u001b[0;32m----> 1\u001b[0;31m \u001b[0ma\u001b[0m \u001b[0;34m=\u001b[0m \u001b[0;34m[\u001b[0m\u001b[0mint\u001b[0m\u001b[0;34m(\u001b[0m\u001b[0mx\u001b[0m\u001b[0;34m)\u001b[0m \u001b[0;32mfor\u001b[0m \u001b[0mx\u001b[0m \u001b[0;32min\u001b[0m \u001b[0mopen\u001b[0m\u001b[0;34m(\u001b[0m\u001b[0;34m'17.txt'\u001b[0m\u001b[0;34m)\u001b[0m\u001b[0;34m]\u001b[0m\u001b[0;34m\u001b[0m\u001b[0;34m\u001b[0m\u001b[0m\n\u001b[0m\u001b[1;32m      2\u001b[0m \u001b[0mk\u001b[0m \u001b[0;34m=\u001b[0m \u001b[0;34m[\u001b[0m\u001b[0;34m]\u001b[0m\u001b[0;34m\u001b[0m\u001b[0;34m\u001b[0m\u001b[0m\n\u001b[1;32m      3\u001b[0m \u001b[0mp\u001b[0m \u001b[0;34m=\u001b[0m \u001b[0;34m[\u001b[0m\u001b[0;34m]\u001b[0m\u001b[0;34m\u001b[0m\u001b[0;34m\u001b[0m\u001b[0m\n\u001b[1;32m      4\u001b[0m \u001b[0;34m\u001b[0m\u001b[0m\n\u001b[1;32m      5\u001b[0m \u001b[0;32mfor\u001b[0m \u001b[0mn\u001b[0m \u001b[0;32min\u001b[0m \u001b[0mrange\u001b[0m\u001b[0;34m(\u001b[0m\u001b[0mlen\u001b[0m\u001b[0;34m(\u001b[0m\u001b[0ma\u001b[0m\u001b[0;34m)\u001b[0m\u001b[0;34m)\u001b[0m\u001b[0;34m:\u001b[0m\u001b[0;34m\u001b[0m\u001b[0;34m\u001b[0m\u001b[0m\n",
            "\u001b[0;31mFileNotFoundError\u001b[0m: [Errno 2] No such file or directory: '17.txt'"
          ]
        }
      ],
      "source": [
        "a = [int(x) for x in open('17.txt')]\n",
        "k = []\n",
        "p = []\n",
        "\n",
        "for n in range(len(a)):\n",
        "  if str(a[n])[-1] == '7':\n",
        "    p.append(n)\n",
        "\n",
        "for i in range(len(a)-1):\n",
        "  if str(a[i])[-1] == str(a[i+1])[-1]:\n",
        "    if abs(a[i]) % 7 == 0 or abs(a[i+1]) % 7 == 0:\n",
        "      if (abs(a[i]) * abs(a[i]) + abs(a[i+1]) * abs(a[i+1]))<= min(p):\n",
        "        k.append(abs(a[i]) * abs(a[i]) + abs(a[i+1]) * abs(a[i+1]))\n",
        "\n",
        "print(len(k), max(k))\n"
      ]
    },
    {
      "cell_type": "code",
      "execution_count": null,
      "metadata": {
        "colab": {
          "base_uri": "https://localhost:8080/"
        },
        "id": "n6brAlFsJTTy",
        "outputId": "caf64682-f913-4388-9e0f-8131f792db11"
      },
      "outputs": [
        {
          "name": "stdout",
          "output_type": "stream",
          "text": [
            "5044\n",
            "1061 14847\n",
            "1061 14847\n"
          ]
        }
      ],
      "source": [
        "a = [int(x) for x in open('17.txt')]\n",
        "k = []\n",
        "z = []\n",
        "b = 0\n",
        "maxx = 0\n",
        "\n",
        "for x in range(0, len(a)):\n",
        "  if a[x] % 2 != 0:\n",
        "    z.append(a[x])\n",
        "\n",
        "med = sum(z) // len(z)\n",
        "print(med)\n",
        "\n",
        "for i in range(len(a)-1):\n",
        "  if (a[i] % 5 == 0 and a[i+1] < med) or (a[i+1] % 5 == 0 and a[i] < med):\n",
        "    k.append(a[i] + a[i+1])\n",
        "    b += 1\n",
        "    if a[i] + a[i+1] > maxx:\n",
        "      maxx = a[i] + a[i+1]\n",
        "\n",
        "\n",
        "print(len(k), max(k))\n",
        "print(b, maxx)"
      ]
    },
    {
      "cell_type": "code",
      "execution_count": null,
      "metadata": {
        "colab": {
          "base_uri": "https://localhost:8080/"
        },
        "id": "FkRFtAJ9J6O4",
        "outputId": "da9a8132-0739-409e-a53f-3885be382586"
      },
      "outputs": [
        {
          "name": "stdout",
          "output_type": "stream",
          "text": [
            "1061 14847\n"
          ]
        }
      ],
      "source": [
        "a = [int(x) for x in open('17.txt')]\n",
        "ans = []\n",
        "\n",
        "for i in range(len(a)-1):\n",
        "  if (a[i] + a[i+1]) % 3 == 0 and (a[i]+a[i+1]) % 6 != 0 and abs(a[i] * a[i+1])%10 == 8:\n",
        "    ans.append(a[i] + a[i+1])\n",
        "print(len(ans), max(ans))"
      ]
    },
    {
      "cell_type": "markdown",
      "metadata": {
        "id": "jMgaKct8MlZZ"
      },
      "source": [
        "Количество троек"
      ]
    },
    {
      "cell_type": "code",
      "execution_count": null,
      "metadata": {
        "id": "K-yMOJjUMiuv"
      },
      "outputs": [],
      "source": [
        "a = [int(x) for x in open('17.txt')]\n",
        "ans = []\n",
        "for i in range(len(a) - 2):\n",
        "  if (a[i] * a[i+1] * a[i+2]) % 7 == 0 and abs(a[i] + a[i+1] + a[i+2]) % 10 == 6:\n",
        "    ans.append(a[i] + a[i+1] + a[i+2])\n",
        "\n",
        "print(len(ans), max(ans))"
      ]
    },
    {
      "cell_type": "code",
      "execution_count": null,
      "metadata": {
        "id": "ropvQalIN5WS"
      },
      "outputs": [],
      "source": [
        "a = [int(x) for x in open('17.txt')]\n",
        "ans = []\n",
        "ans2 = []\n",
        "for i in range(len(a) - 2):\n",
        "  if (a[i] * a[i+1] * a[i+2]) % 7 == 0 and abs(a[i] + a[i+1] + a[i+2]) % 10 == 6:\n",
        "    ans.append(a[i] + a[i+1] + a[i+2])\n",
        "    ans2.append(a[i] * a[i+1] * a[i+2])\n",
        "\n",
        "print(len(ans), max(ans))"
      ]
    },
    {
      "cell_type": "code",
      "execution_count": null,
      "metadata": {
        "id": "28p3kj4eOnlV"
      },
      "outputs": [],
      "source": [
        "a = [int(x) for x in open('17.txt')]\n",
        "ans = []\n",
        "for i in range(len(a)):\n",
        "  #if oct(a[i])[-1] == '7' and oct(a[i])[-2]!='2' пример восьмиричной записи\n",
        "  if a[i] % 8 == 7 and a[i] // 8 % 8 !=2:  #последняя цифра 7, а предпоследняя не 2. На 8 т.к восьмиричная запись чисел\n",
        "\n",
        "     ans.append(a[i])"
      ]
    },
    {
      "cell_type": "markdown",
      "metadata": {
        "id": "Df_ZPA0QQYl8"
      },
      "source": [
        "множество элементов последовательности, для которых сумма цифр кратна 3"
      ]
    },
    {
      "cell_type": "code",
      "execution_count": null,
      "metadata": {
        "id": "Wt1JE4mkQXDK"
      },
      "outputs": [],
      "source": [
        "a = [int(x) for x in open('17.txt')]\n",
        "ans = []\n",
        "\n",
        "for i in range(len(a)):\n",
        "  s = sum(map(int, str(a[i])))\n",
        "  #s = sum(int(x) for x in str(a[i]))\n",
        "  if s % 3 == 0:\n",
        "    ans.append(a[i])\n",
        "\n",
        "\n",
        "print(len(ans), max(ans))"
      ]
    },
    {
      "cell_type": "markdown",
      "metadata": {
        "id": "Dy9WOL_NRSqZ"
      },
      "source": [
        "следующие условия: - запись в троичной системе содержит 3 двойки, запись в семиричной системе не содержит нулей"
      ]
    },
    {
      "cell_type": "code",
      "execution_count": null,
      "metadata": {
        "id": "_8xDV0WBRf89"
      },
      "outputs": [],
      "source": [
        "a = [int(x) for x in open('17.txt')]\n",
        "ans = []\n",
        "\n",
        "def f(x):\n",
        "  k = 0\n",
        "  while x > 0:\n",
        "    # провека наличия 3 двоек в троичной системе\n",
        "    if x % 3 == 2: k +=1\n",
        "    x = x // 3\n",
        "  return k == 3 # если True - k=3\n",
        "def g(x):\n",
        "  k = 0\n",
        "  while x > 0:\n",
        "    # провека наличия нулей в семиричной системе\n",
        "    if x % 7 == 0: k +=1\n",
        "    x = x // 7\n",
        "  return k == 0 # если True - k=7\n",
        "\n",
        "for i in range(len(a)):\n",
        "  if f(a[i]) and g(a[i]):\n",
        "    ans.append(a[i])\n",
        "\n",
        "\n",
        "print(len(ans), min(ans))"
      ]
    },
    {
      "cell_type": "markdown",
      "metadata": {
        "id": "T7BIXyUzTsDS"
      },
      "source": [
        "многоэтапный поиск\n",
        "\n",
        "\n",
        "(оба элемента больше, чем среднее арифметичнское всех чисел в файле)"
      ]
    },
    {
      "cell_type": "code",
      "execution_count": null,
      "metadata": {
        "id": "eWX3cSXTUEmN"
      },
      "outputs": [],
      "source": [
        "a = [int(x) for x in open('17.txt')]\n",
        "ans = []\n",
        "avg = sum(a) / len(a) #считаем среднее арифметическое\n",
        "for i in range(len(a) - 1):\n",
        "  if a[i] > avg and a[i+1] > avg and abs(a[i] + a[i+1]) % 100==31:\n",
        "    ans.append(a[i] + a[i + 1])\n",
        "\n",
        "print(len(ans), max(ans))\n"
      ]
    },
    {
      "cell_type": "code",
      "execution_count": null,
      "metadata": {
        "id": "UeyyHXOPbRYY"
      },
      "outputs": [],
      "source": [
        "a = [int(x) for x in open('17.txt')]\n",
        "ans = []\n",
        "\n",
        "mx = max([x for x in a if x%2!=0])\n",
        "mn = min([x for x in a if x%2!=0])\n",
        "\n",
        "for i in range(len(a) - 1):\n",
        "  if (a[i] + a[i+1]) % 2 == 0 and a[i] + a[i+1] > mn+mx:\n",
        "    ans.append(a[i] + a[i+1])\n",
        "\n",
        "print(len(a), min(ans))\n",
        "\n"
      ]
    },
    {
      "cell_type": "markdown",
      "metadata": {
        "id": "JbetwewnlaB2"
      },
      "source": [
        "Определите и запишите в ответе сначала количество пар элементов, в которых сумма квадратов элементов пары имеет нечётное значение, меньшее 80, затем среди таких пар определите пару с максимальной суммой элементов и запишите минимальное из чисел в ней"
      ]
    },
    {
      "cell_type": "code",
      "execution_count": null,
      "metadata": {
        "id": "F5ID0eukjZfq"
      },
      "outputs": [],
      "source": [
        "a = [int(x) for x in open('17.txt')]\n",
        "ans = []\n",
        "\n",
        "for i in range(len(a) - 1):\n",
        "  if (a[i] ** 2 + a[i+1]**2) % 2 !=0 and a[i]**2 + a[i+1]**2 <80:\n",
        "    ans.append([a[i], a[i+1]])\n",
        "\n",
        "M = max(ans, key=sum)\n",
        "print(len(ans), M)"
      ]
    },
    {
      "cell_type": "markdown",
      "metadata": {
        "id": "DLrl-6vi0W1B"
      },
      "source": []
    },
    {
      "cell_type": "markdown",
      "metadata": {
        "id": "m1uLkKvMyqPG"
      },
      "source": [
        "# 16 Задание"
      ]
    },
    {
      "cell_type": "code",
      "execution_count": null,
      "metadata": {
        "colab": {
          "base_uri": "https://localhost:8080/"
        },
        "id": "e917qKNbx2KH",
        "outputId": "193c7d49-606c-46b2-c8a4-abbbeda61a2a"
      },
      "outputs": [
        {
          "name": "stdout",
          "output_type": "stream",
          "text": [
            "5\n"
          ]
        }
      ],
      "source": [
        "def F(n):\n",
        "  if n == 1:\n",
        "    return 5\n",
        "  elif n == 2:\n",
        "    return 5\n",
        "  elif n > 2:\n",
        "    return 5*F(n-1) - 4*F(n-2)\n",
        "\n",
        "print(F(13))"
      ]
    },
    {
      "cell_type": "code",
      "source": [
        "import sys\n",
        "from functools import *\n",
        "\n",
        "sys.setrecursionlimit(10000)\n",
        "\n",
        "@cache\n",
        "def F(x):\n",
        "  if x == 1:\n",
        "    return 5\n",
        "  elif x > 1:\n",
        "    return 2*x + 1 + F(x-1)\n",
        "\n",
        "print(F(2024)-F(2022))"
      ],
      "metadata": {
        "colab": {
          "base_uri": "https://localhost:8080/"
        },
        "id": "IL5XsktDH7Lm",
        "outputId": "6a902e53-d936-4d2a-9b2e-b9ce3519c357"
      },
      "execution_count": null,
      "outputs": [
        {
          "output_type": "stream",
          "name": "stdout",
          "text": [
            "8096\n"
          ]
        }
      ]
    },
    {
      "cell_type": "code",
      "source": [
        "from functools import *\n",
        "import sys\n",
        "\n",
        "sys.setrecursionlimit(10000)\n",
        "\n",
        "@cache\n",
        "def F(n):\n",
        "  if n == 1:\n",
        "    return 3\n",
        "  elif n > 1:\n",
        "    return 3*n + 2 * F(n-1)\n",
        "\n",
        "print(F(2024) - 4*F(2022))"
      ],
      "metadata": {
        "colab": {
          "base_uri": "https://localhost:8080/"
        },
        "id": "P3HJS0vCIdNK",
        "outputId": "22c774c2-46b0-4ff1-b7e0-b4186ab10514"
      },
      "execution_count": null,
      "outputs": [
        {
          "output_type": "stream",
          "name": "stdout",
          "text": [
            "18210\n"
          ]
        }
      ]
    },
    {
      "cell_type": "code",
      "execution_count": null,
      "metadata": {
        "colab": {
          "base_uri": "https://localhost:8080/"
        },
        "id": "pDezdBVBJVpC",
        "outputId": "18259b17-fc98-440c-f338-61cd3c7e1432"
      },
      "outputs": [
        {
          "name": "stdout",
          "output_type": "stream",
          "text": [
            "50\n"
          ]
        }
      ],
      "source": [
        "import sys\n",
        "sys.setrecursionlimit(1000000)\n",
        "def F(n):\n",
        "  if n == 1:\n",
        "    return 1\n",
        "  elif n > 1:\n",
        "    return n + F(n - 1)\n",
        "\n",
        "c = 0\n",
        "for r in range(1, 101):\n",
        "  if (F(2023) // F(r)) % 2 == 0:\n",
        "    c += 1\n",
        "\n",
        "print(c)\n"
      ]
    },
    {
      "cell_type": "code",
      "execution_count": null,
      "metadata": {
        "colab": {
          "base_uri": "https://localhost:8080/"
        },
        "id": "50B9eJCsqiAM",
        "outputId": "71667f32-e138-44ba-e02b-d00bbc3c9b6b"
      },
      "outputs": [
        {
          "name": "stdout",
          "output_type": "stream",
          "text": [
            "80847\n"
          ]
        }
      ],
      "source": [
        "import sys\n",
        "sys.setrecursionlimit(100000000)\n",
        "def F(n):\n",
        "  if n == 1:\n",
        "    return 4\n",
        "  elif n > 1:\n",
        "    return 3*n + F(n-1)\n",
        "\n",
        "print(F(1049)-F(1023))"
      ]
    },
    {
      "cell_type": "code",
      "execution_count": null,
      "metadata": {
        "colab": {
          "base_uri": "https://localhost:8080/"
        },
        "id": "xg14ExZhzmxt",
        "outputId": "401ea4eb-4da6-45c9-9477-99ecfc7bcd42"
      },
      "outputs": [
        {
          "name": "stdout",
          "output_type": "stream",
          "text": [
            "120\n"
          ]
        }
      ],
      "source": [
        "def F(n):\n",
        "  if n == 1:\n",
        "    return 1\n",
        "  elif n > 1:\n",
        "    return  F(n-1) * n\n",
        "\n",
        "print(F(5))"
      ]
    },
    {
      "cell_type": "code",
      "execution_count": null,
      "metadata": {
        "colab": {
          "base_uri": "https://localhost:8080/"
        },
        "id": "mLtHW-Pgz58L",
        "outputId": "ceafb61e-e441-40a8-8641-30a3126f7b4b"
      },
      "outputs": [
        {
          "name": "stdout",
          "output_type": "stream",
          "text": [
            "97\n"
          ]
        }
      ],
      "source": [
        "def F(n):\n",
        "  if n <= 2:\n",
        "    return 1\n",
        "  elif n > 2:\n",
        "    return F(n-1)+3*F(n-2)\n",
        "\n",
        "print(F(7))\n"
      ]
    },
    {
      "cell_type": "code",
      "execution_count": null,
      "metadata": {
        "id": "l0JfKKHKxJwf"
      },
      "outputs": [],
      "source": [
        "def F(n):\n",
        "  if n <= 1:\n",
        "    return 42\n",
        "  elif n>1 and n % 2 == 0:\n",
        "     return F(n-2) + F(n-3)\n",
        "  else:\n",
        "     return F(n-1) + F(n-3)\n",
        "\n",
        "print(F(99))"
      ]
    },
    {
      "cell_type": "code",
      "execution_count": null,
      "metadata": {
        "colab": {
          "base_uri": "https://localhost:8080/"
        },
        "id": "doYCQCYiZPFZ",
        "outputId": "8797d94d-c4cf-4959-ffd1-ee58b159f271"
      },
      "outputs": [
        {
          "name": "stdout",
          "output_type": "stream",
          "text": [
            "80847\n"
          ]
        }
      ],
      "source": [
        "def F(n):\n",
        "    if n == 1:\n",
        "        return 4\n",
        "    result = 0\n",
        "    for i in range(1, n+1):\n",
        "        result += 3*i\n",
        "    return result\n",
        "\n",
        "print(F(1049) - F(1023))\n"
      ]
    },
    {
      "cell_type": "code",
      "execution_count": null,
      "metadata": {
        "colab": {
          "base_uri": "https://localhost:8080/"
        },
        "id": "hVL24ffMhxQD",
        "outputId": "f193c63f-1709-496e-9d37-b33b32e8fe21"
      },
      "outputs": [
        {
          "name": "stdout",
          "output_type": "stream",
          "text": [
            "26\n"
          ]
        }
      ],
      "source": [
        "def F(n):\n",
        "  if n == 1:\n",
        "    return 1\n",
        "  elif n > 1:\n",
        "    return 3 * F(n-1) + 2 + n\n",
        "\n",
        "print(F(3))"
      ]
    },
    {
      "cell_type": "code",
      "execution_count": null,
      "metadata": {
        "colab": {
          "base_uri": "https://localhost:8080/"
        },
        "id": "EKtaIHTtiOdw",
        "outputId": "30838dfa-2560-4912-b6d0-285f086ff90d"
      },
      "outputs": [
        {
          "name": "stdout",
          "output_type": "stream",
          "text": [
            "7285\n"
          ]
        }
      ],
      "source": [
        "def F(n):\n",
        "  if n == 1:\n",
        "    return 1\n",
        "  elif n == 2:\n",
        "    return 1\n",
        "  elif n > 2:\n",
        "    return F(n-1) * n + F(n-2) * (n-1)\n",
        "\n",
        "print(F(7))"
      ]
    },
    {
      "cell_type": "code",
      "execution_count": null,
      "metadata": {
        "colab": {
          "base_uri": "https://localhost:8080/"
        },
        "id": "fb3zwVjCjLkL",
        "outputId": "0ac42d62-ea36-46a6-9b23-e142ff3cca0a"
      },
      "outputs": [
        {
          "name": "stdout",
          "output_type": "stream",
          "text": [
            "2024\n"
          ]
        }
      ],
      "source": [
        "def F(n):\n",
        "  if n >= 2025:\n",
        "    return n\n",
        "  elif n < 2025:\n",
        "    return n + F(n+2)\n",
        "\n",
        "print(F(2022)-F(2023))"
      ]
    },
    {
      "cell_type": "markdown",
      "metadata": {
        "id": "piH2BB9nkS8P"
      },
      "source": [
        "Две рекурсивные функции"
      ]
    },
    {
      "cell_type": "code",
      "execution_count": null,
      "metadata": {
        "colab": {
          "base_uri": "https://localhost:8080/"
        },
        "id": "U-wei_qHkIf8",
        "outputId": "a12f8dd9-b5c4-49c9-8418-b4ccc34bcc72"
      },
      "outputs": [
        {
          "name": "stdout",
          "output_type": "stream",
          "text": [
            "12\n"
          ]
        }
      ],
      "source": [
        "def F(n):\n",
        "  if n <= 2:\n",
        "    return 1\n",
        "  return G(n-2)\n",
        "\n",
        "def G(n):\n",
        "  if n <= 1:\n",
        "    return 1\n",
        "  return F(n-1) + n + 1\n",
        "\n",
        "print(F(8))\n"
      ]
    },
    {
      "cell_type": "code",
      "execution_count": null,
      "metadata": {
        "colab": {
          "base_uri": "https://localhost:8080/"
        },
        "id": "3qfEBrGHlGQS",
        "outputId": "54bd9b43-4732-49be-e1c9-3174206086be"
      },
      "outputs": [
        {
          "name": "stdout",
          "output_type": "stream",
          "text": [
            "1657159\n"
          ]
        }
      ],
      "source": [
        "def F(n):\n",
        "  if n <= 5:\n",
        "    return 2 * n\n",
        "  elif n > 5 and n % 2 == 0:\n",
        "    return F(n-2) + 2 * F(n//2) - n\n",
        "  elif n > 5 and n % 2 != 0:\n",
        "    return F(n-1) + F(n-2) + n\n",
        "\n",
        "print(F(79)+F(98))"
      ]
    },
    {
      "cell_type": "markdown",
      "metadata": {
        "id": "i_RwHtA_ogLa"
      },
      "source": [
        "как перевести в математическую формулу?\n",
        "если n > 1  -- 1\n",
        "если n >= 1: 2 + F(n-1) + F(n-2)"
      ]
    },
    {
      "cell_type": "code",
      "execution_count": null,
      "metadata": {
        "id": "VMW6kFkWmwaj"
      },
      "outputs": [],
      "source": [
        "def F(n):\n",
        "  print('*')\n",
        "  if n >= 1:\n",
        "    print('*')\n",
        "    F(n-1)\n",
        "    F(n-2)"
      ]
    },
    {
      "cell_type": "code",
      "execution_count": null,
      "metadata": {
        "colab": {
          "base_uri": "https://localhost:8080/"
        },
        "id": "JHd6Ciqape29",
        "outputId": "214f7011-8ed8-4783-bfe2-bd9230e1575c"
      },
      "outputs": [
        {
          "name": "stdout",
          "output_type": "stream",
          "text": [
            "0 0\n",
            "1 3\n",
            "2 9\n",
            "3 22\n",
            "4 45\n",
            "5 85\n",
            "6 152\n",
            "7 263\n",
            "8 445\n",
            "9 742\n",
            "10 1225\n",
            "11 2009\n",
            "12 3280\n",
            "13 5339\n",
            "14 8673\n",
            "15 14070\n",
            "16 22805\n",
            "17 36941\n",
            "18 59816\n",
            "19 96831\n",
            "20 156725\n",
            "21 253638\n",
            "22 410449\n",
            "23 664177\n",
            "24 1074720\n",
            "25 1738995\n",
            "26 2813817\n",
            "27 4552918\n",
            "28 7366845\n",
            "29 11919877\n"
          ]
        }
      ],
      "source": [
        "'''\n",
        "def F(n):\n",
        "  print(3*n)\n",
        "  if n > 1:\n",
        "    print(n-2)\n",
        "    F(n-1)\n",
        "    F(n-2)\n",
        "'''\n",
        "\n",
        "def f(n):\n",
        "  s = 3*n\n",
        "  if n > 1:\n",
        "    s+= n-2\n",
        "    s += f(n-1)\n",
        "    s += f(n-2)\n",
        "  return s\n",
        "\n",
        "for n in range(30):\n",
        "  print(n, f(n))\n",
        "\n"
      ]
    },
    {
      "cell_type": "code",
      "execution_count": null,
      "metadata": {
        "colab": {
          "base_uri": "https://localhost:8080/"
        },
        "id": "h0zaxJUs4hy8",
        "outputId": "ddef49ce-2507-4258-9dae-d630db41bc76"
      },
      "outputs": [
        {
          "name": "stdout",
          "output_type": "stream",
          "text": [
            "1 3\n",
            "2 3\n",
            "3 10\n",
            "4 24\n",
            "5 45\n",
            "6 71\n",
            "7 109\n",
            "8 166\n",
            "9 249\n",
            "10 363\n",
            "11 520\n",
            "12 739\n",
            "13 1046\n",
            "14 1472\n",
            "15 2060\n",
            "16 2872\n",
            "17 3996\n",
            "18 5551\n",
            "19 7699\n",
            "20 10664\n",
            "21 14758\n",
            "22 20412\n",
            "23 28219\n",
            "24 38996\n",
            "25 53872\n",
            "26 74407\n",
            "27 102754\n",
            "28 141883\n",
            "29 195893\n",
            "30 270443\n",
            "31 373345\n",
            "32 515381\n",
            "33 711432\n",
            "34 982038\n",
            "35 1355551\n",
            "36 1871105\n",
            "37 2582715\n",
            "38 3564936\n",
            "39 4920675\n",
            "40 6791973\n",
            "41 9374886\n",
            "42 12940025\n",
            "43 17860908\n",
            "44 24653094\n",
            "45 34028198\n",
            "46 46968446\n",
            "47 64829582\n",
            "48 89482909\n",
            "49 123511345\n"
          ]
        }
      ],
      "source": [
        "def F(n):\n",
        "  s = 2*n + 1\n",
        "  if n > 1:\n",
        "    s += 3*n - 8\n",
        "    s += F(n-1)\n",
        "    s += F(n-4)\n",
        "\n",
        "  return s\n",
        "\n",
        "for i in range(1, 50):\n",
        "  print(i, F(i))"
      ]
    },
    {
      "cell_type": "code",
      "execution_count": null,
      "metadata": {
        "colab": {
          "base_uri": "https://localhost:8080/"
        },
        "id": "kAUf-eaoxozA",
        "outputId": "0d3f165d-2abf-4052-e88f-6c2ff5503672"
      },
      "outputs": [
        {
          "name": "stdout",
          "output_type": "stream",
          "text": [
            "14\n",
            "13\n",
            "12\n",
            "6\n",
            "7\n",
            "6\n",
            "3\n"
          ]
        }
      ],
      "source": [
        "def G(n):\n",
        "  print(n)\n",
        "  if n % 3 != 0:\n",
        "    G(n-1)\n",
        "    G(n//2)\n",
        "\n",
        "G(14)"
      ]
    },
    {
      "cell_type": "markdown",
      "metadata": {
        "id": "RMhn61HCy6Mt"
      },
      "source": [
        "обозначим через mod(a, b)..."
      ]
    },
    {
      "cell_type": "code",
      "execution_count": null,
      "metadata": {
        "colab": {
          "base_uri": "https://localhost:8080/"
        },
        "id": "Xg9nvlC6yYLI",
        "outputId": "8f300906-40dd-440f-cae2-1f3dc13aaa51"
      },
      "outputs": [
        {
          "name": "stdout",
          "output_type": "stream",
          "text": [
            "7972\n"
          ]
        }
      ],
      "source": [
        "def F(n):\n",
        "  if n == 0:\n",
        "    return 1\n",
        "  elif n % 5 == 0:\n",
        "    return n // 5 + F(n//5)\n",
        "  else:\n",
        "    return n % 5 + F(n-1)\n",
        "n = 0\n",
        "while F(n) != 2021:\n",
        "  n+=1\n",
        "print(n)"
      ]
    },
    {
      "cell_type": "code",
      "execution_count": null,
      "metadata": {
        "colab": {
          "base_uri": "https://localhost:8080/"
        },
        "id": "mRVtW95iWfd0",
        "outputId": "b7746c24-0ea7-463f-dfdc-77e195652541"
      },
      "outputs": [
        {
          "name": "stdout",
          "output_type": "stream",
          "text": [
            "2113\n"
          ]
        }
      ],
      "source": [
        "def F(n):\n",
        "  if n < 2:\n",
        "    return 1\n",
        "  elif n % 2 == 0 and n > 1:\n",
        "    return 2*F(n-1)\n",
        "  elif n % 2 != 0 and n > 1:\n",
        "    return 4*n + F(n-2)\n",
        "\n",
        "print(F(45))"
      ]
    },
    {
      "cell_type": "code",
      "execution_count": null,
      "metadata": {
        "colab": {
          "base_uri": "https://localhost:8080/",
          "height": 355
        },
        "id": "Ob6KQXOVW2GU",
        "outputId": "60ecba40-5789-42ec-d36c-95f24d367e34"
      },
      "outputs": [
        {
          "ename": "TypeError",
          "evalue": "ignored",
          "output_type": "error",
          "traceback": [
            "\u001b[0;31m---------------------------------------------------------------------------\u001b[0m",
            "\u001b[0;31mTypeError\u001b[0m                                 Traceback (most recent call last)",
            "\u001b[0;32m<ipython-input-7-31a8ae2ecc86>\u001b[0m in \u001b[0;36m<cell line: 12>\u001b[0;34m()\u001b[0m\n\u001b[1;32m     10\u001b[0m     \u001b[0;32mreturn\u001b[0m \u001b[0mF\u001b[0m\u001b[0;34m(\u001b[0m\u001b[0mn\u001b[0m\u001b[0;34m-\u001b[0m\u001b[0;36m1\u001b[0m\u001b[0;34m)\u001b[0m \u001b[0;34m+\u001b[0m \u001b[0mG\u001b[0m\u001b[0;34m(\u001b[0m\u001b[0mn\u001b[0m\u001b[0;34m-\u001b[0m\u001b[0;36m1\u001b[0m\u001b[0;34m)\u001b[0m \u001b[0;34m+\u001b[0m \u001b[0mn\u001b[0m\u001b[0;34m\u001b[0m\u001b[0;34m\u001b[0m\u001b[0m\n\u001b[1;32m     11\u001b[0m \u001b[0;34m\u001b[0m\u001b[0m\n\u001b[0;32m---> 12\u001b[0;31m \u001b[0mprint\u001b[0m\u001b[0;34m(\u001b[0m\u001b[0mG\u001b[0m\u001b[0;34m(\u001b[0m\u001b[0;36m36\u001b[0m\u001b[0;34m)\u001b[0m\u001b[0;34m)\u001b[0m\u001b[0;34m\u001b[0m\u001b[0;34m\u001b[0m\u001b[0m\n\u001b[0m",
            "\u001b[0;32m<ipython-input-7-31a8ae2ecc86>\u001b[0m in \u001b[0;36mG\u001b[0;34m(n)\u001b[0m\n\u001b[1;32m      8\u001b[0m \u001b[0;32mdef\u001b[0m \u001b[0mG\u001b[0m\u001b[0;34m(\u001b[0m\u001b[0mn\u001b[0m\u001b[0;34m)\u001b[0m\u001b[0;34m:\u001b[0m\u001b[0;34m\u001b[0m\u001b[0;34m\u001b[0m\u001b[0m\n\u001b[1;32m      9\u001b[0m   \u001b[0;32mif\u001b[0m \u001b[0mn\u001b[0m \u001b[0;34m>\u001b[0m \u001b[0;36m1\u001b[0m\u001b[0;34m:\u001b[0m\u001b[0;34m\u001b[0m\u001b[0;34m\u001b[0m\u001b[0m\n\u001b[0;32m---> 10\u001b[0;31m     \u001b[0;32mreturn\u001b[0m \u001b[0mF\u001b[0m\u001b[0;34m(\u001b[0m\u001b[0mn\u001b[0m\u001b[0;34m-\u001b[0m\u001b[0;36m1\u001b[0m\u001b[0;34m)\u001b[0m \u001b[0;34m+\u001b[0m \u001b[0mG\u001b[0m\u001b[0;34m(\u001b[0m\u001b[0mn\u001b[0m\u001b[0;34m-\u001b[0m\u001b[0;36m1\u001b[0m\u001b[0;34m)\u001b[0m \u001b[0;34m+\u001b[0m \u001b[0mn\u001b[0m\u001b[0;34m\u001b[0m\u001b[0;34m\u001b[0m\u001b[0m\n\u001b[0m\u001b[1;32m     11\u001b[0m \u001b[0;34m\u001b[0m\u001b[0m\n\u001b[1;32m     12\u001b[0m \u001b[0mprint\u001b[0m\u001b[0;34m(\u001b[0m\u001b[0mG\u001b[0m\u001b[0;34m(\u001b[0m\u001b[0;36m36\u001b[0m\u001b[0;34m)\u001b[0m\u001b[0;34m)\u001b[0m\u001b[0;34m\u001b[0m\u001b[0;34m\u001b[0m\u001b[0m\n",
            "\u001b[0;32m<ipython-input-7-31a8ae2ecc86>\u001b[0m in \u001b[0;36mF\u001b[0;34m(n)\u001b[0m\n\u001b[1;32m      3\u001b[0m     \u001b[0;32mreturn\u001b[0m \u001b[0mG\u001b[0m\u001b[0;34m(\u001b[0m\u001b[0mn\u001b[0m\u001b[0;34m)\u001b[0m\u001b[0;34m\u001b[0m\u001b[0;34m\u001b[0m\u001b[0m\n\u001b[1;32m      4\u001b[0m   \u001b[0;32melif\u001b[0m \u001b[0mn\u001b[0m \u001b[0;34m>\u001b[0m \u001b[0;36m1\u001b[0m\u001b[0;34m:\u001b[0m\u001b[0;34m\u001b[0m\u001b[0;34m\u001b[0m\u001b[0m\n\u001b[0;32m----> 5\u001b[0;31m     \u001b[0mk\u001b[0m \u001b[0;34m=\u001b[0m \u001b[0mG\u001b[0m\u001b[0;34m(\u001b[0m\u001b[0mn\u001b[0m\u001b[0;34m-\u001b[0m\u001b[0;36m1\u001b[0m\u001b[0;34m)\u001b[0m\u001b[0;34m\u001b[0m\u001b[0;34m\u001b[0m\u001b[0m\n\u001b[0m\u001b[1;32m      6\u001b[0m     \u001b[0;32mreturn\u001b[0m \u001b[0mF\u001b[0m\u001b[0;34m(\u001b[0m\u001b[0mn\u001b[0m\u001b[0;34m-\u001b[0m\u001b[0;36m1\u001b[0m\u001b[0;34m)\u001b[0m \u001b[0;34m-\u001b[0m \u001b[0;36m2\u001b[0m \u001b[0;34m*\u001b[0m \u001b[0mk\u001b[0m\u001b[0;34m\u001b[0m\u001b[0;34m\u001b[0m\u001b[0m\n\u001b[1;32m      7\u001b[0m \u001b[0;34m\u001b[0m\u001b[0m\n",
            "\u001b[0;32m<ipython-input-7-31a8ae2ecc86>\u001b[0m in \u001b[0;36mG\u001b[0;34m(n)\u001b[0m\n\u001b[1;32m      8\u001b[0m \u001b[0;32mdef\u001b[0m \u001b[0mG\u001b[0m\u001b[0;34m(\u001b[0m\u001b[0mn\u001b[0m\u001b[0;34m)\u001b[0m\u001b[0;34m:\u001b[0m\u001b[0;34m\u001b[0m\u001b[0;34m\u001b[0m\u001b[0m\n\u001b[1;32m      9\u001b[0m   \u001b[0;32mif\u001b[0m \u001b[0mn\u001b[0m \u001b[0;34m>\u001b[0m \u001b[0;36m1\u001b[0m\u001b[0;34m:\u001b[0m\u001b[0;34m\u001b[0m\u001b[0;34m\u001b[0m\u001b[0m\n\u001b[0;32m---> 10\u001b[0;31m     \u001b[0;32mreturn\u001b[0m \u001b[0mF\u001b[0m\u001b[0;34m(\u001b[0m\u001b[0mn\u001b[0m\u001b[0;34m-\u001b[0m\u001b[0;36m1\u001b[0m\u001b[0;34m)\u001b[0m \u001b[0;34m+\u001b[0m \u001b[0mG\u001b[0m\u001b[0;34m(\u001b[0m\u001b[0mn\u001b[0m\u001b[0;34m-\u001b[0m\u001b[0;36m1\u001b[0m\u001b[0;34m)\u001b[0m \u001b[0;34m+\u001b[0m \u001b[0mn\u001b[0m\u001b[0;34m\u001b[0m\u001b[0;34m\u001b[0m\u001b[0m\n\u001b[0m\u001b[1;32m     11\u001b[0m \u001b[0;34m\u001b[0m\u001b[0m\n\u001b[1;32m     12\u001b[0m \u001b[0mprint\u001b[0m\u001b[0;34m(\u001b[0m\u001b[0mG\u001b[0m\u001b[0;34m(\u001b[0m\u001b[0;36m36\u001b[0m\u001b[0;34m)\u001b[0m\u001b[0;34m)\u001b[0m\u001b[0;34m\u001b[0m\u001b[0;34m\u001b[0m\u001b[0m\n",
            "\u001b[0;32m<ipython-input-7-31a8ae2ecc86>\u001b[0m in \u001b[0;36mF\u001b[0;34m(n)\u001b[0m\n\u001b[1;32m      3\u001b[0m     \u001b[0;32mreturn\u001b[0m \u001b[0mG\u001b[0m\u001b[0;34m(\u001b[0m\u001b[0mn\u001b[0m\u001b[0;34m)\u001b[0m\u001b[0;34m\u001b[0m\u001b[0;34m\u001b[0m\u001b[0m\n\u001b[1;32m      4\u001b[0m   \u001b[0;32melif\u001b[0m \u001b[0mn\u001b[0m \u001b[0;34m>\u001b[0m \u001b[0;36m1\u001b[0m\u001b[0;34m:\u001b[0m\u001b[0;34m\u001b[0m\u001b[0;34m\u001b[0m\u001b[0m\n\u001b[0;32m----> 5\u001b[0;31m     \u001b[0mk\u001b[0m \u001b[0;34m=\u001b[0m \u001b[0mG\u001b[0m\u001b[0;34m(\u001b[0m\u001b[0mn\u001b[0m\u001b[0;34m-\u001b[0m\u001b[0;36m1\u001b[0m\u001b[0;34m)\u001b[0m\u001b[0;34m\u001b[0m\u001b[0;34m\u001b[0m\u001b[0m\n\u001b[0m\u001b[1;32m      6\u001b[0m     \u001b[0;32mreturn\u001b[0m \u001b[0mF\u001b[0m\u001b[0;34m(\u001b[0m\u001b[0mn\u001b[0m\u001b[0;34m-\u001b[0m\u001b[0;36m1\u001b[0m\u001b[0;34m)\u001b[0m \u001b[0;34m-\u001b[0m \u001b[0;36m2\u001b[0m \u001b[0;34m*\u001b[0m \u001b[0mk\u001b[0m\u001b[0;34m\u001b[0m\u001b[0;34m\u001b[0m\u001b[0m\n\u001b[1;32m      7\u001b[0m \u001b[0;34m\u001b[0m\u001b[0m\n",
            "\u001b[0;32m<ipython-input-7-31a8ae2ecc86>\u001b[0m in \u001b[0;36mG\u001b[0;34m(n)\u001b[0m\n\u001b[1;32m      8\u001b[0m \u001b[0;32mdef\u001b[0m \u001b[0mG\u001b[0m\u001b[0;34m(\u001b[0m\u001b[0mn\u001b[0m\u001b[0;34m)\u001b[0m\u001b[0;34m:\u001b[0m\u001b[0;34m\u001b[0m\u001b[0;34m\u001b[0m\u001b[0m\n\u001b[1;32m      9\u001b[0m   \u001b[0;32mif\u001b[0m \u001b[0mn\u001b[0m \u001b[0;34m>\u001b[0m \u001b[0;36m1\u001b[0m\u001b[0;34m:\u001b[0m\u001b[0;34m\u001b[0m\u001b[0;34m\u001b[0m\u001b[0m\n\u001b[0;32m---> 10\u001b[0;31m     \u001b[0;32mreturn\u001b[0m \u001b[0mF\u001b[0m\u001b[0;34m(\u001b[0m\u001b[0mn\u001b[0m\u001b[0;34m-\u001b[0m\u001b[0;36m1\u001b[0m\u001b[0;34m)\u001b[0m \u001b[0;34m+\u001b[0m \u001b[0mG\u001b[0m\u001b[0;34m(\u001b[0m\u001b[0mn\u001b[0m\u001b[0;34m-\u001b[0m\u001b[0;36m1\u001b[0m\u001b[0;34m)\u001b[0m \u001b[0;34m+\u001b[0m \u001b[0mn\u001b[0m\u001b[0;34m\u001b[0m\u001b[0;34m\u001b[0m\u001b[0m\n\u001b[0m\u001b[1;32m     11\u001b[0m \u001b[0;34m\u001b[0m\u001b[0m\n\u001b[1;32m     12\u001b[0m \u001b[0mprint\u001b[0m\u001b[0;34m(\u001b[0m\u001b[0mG\u001b[0m\u001b[0;34m(\u001b[0m\u001b[0;36m36\u001b[0m\u001b[0;34m)\u001b[0m\u001b[0;34m)\u001b[0m\u001b[0;34m\u001b[0m\u001b[0;34m\u001b[0m\u001b[0m\n",
            "\u001b[0;32m<ipython-input-7-31a8ae2ecc86>\u001b[0m in \u001b[0;36mF\u001b[0;34m(n)\u001b[0m\n\u001b[1;32m      3\u001b[0m     \u001b[0;32mreturn\u001b[0m \u001b[0mG\u001b[0m\u001b[0;34m(\u001b[0m\u001b[0mn\u001b[0m\u001b[0;34m)\u001b[0m\u001b[0;34m\u001b[0m\u001b[0;34m\u001b[0m\u001b[0m\n\u001b[1;32m      4\u001b[0m   \u001b[0;32melif\u001b[0m \u001b[0mn\u001b[0m \u001b[0;34m>\u001b[0m \u001b[0;36m1\u001b[0m\u001b[0;34m:\u001b[0m\u001b[0;34m\u001b[0m\u001b[0;34m\u001b[0m\u001b[0m\n\u001b[0;32m----> 5\u001b[0;31m     \u001b[0mk\u001b[0m \u001b[0;34m=\u001b[0m \u001b[0mG\u001b[0m\u001b[0;34m(\u001b[0m\u001b[0mn\u001b[0m\u001b[0;34m-\u001b[0m\u001b[0;36m1\u001b[0m\u001b[0;34m)\u001b[0m\u001b[0;34m\u001b[0m\u001b[0;34m\u001b[0m\u001b[0m\n\u001b[0m\u001b[1;32m      6\u001b[0m     \u001b[0;32mreturn\u001b[0m \u001b[0mF\u001b[0m\u001b[0;34m(\u001b[0m\u001b[0mn\u001b[0m\u001b[0;34m-\u001b[0m\u001b[0;36m1\u001b[0m\u001b[0;34m)\u001b[0m \u001b[0;34m-\u001b[0m \u001b[0;36m2\u001b[0m \u001b[0;34m*\u001b[0m \u001b[0mk\u001b[0m\u001b[0;34m\u001b[0m\u001b[0;34m\u001b[0m\u001b[0m\n\u001b[1;32m      7\u001b[0m \u001b[0;34m\u001b[0m\u001b[0m\n",
            "\u001b[0;32m<ipython-input-7-31a8ae2ecc86>\u001b[0m in \u001b[0;36mG\u001b[0;34m(n)\u001b[0m\n\u001b[1;32m      8\u001b[0m \u001b[0;32mdef\u001b[0m \u001b[0mG\u001b[0m\u001b[0;34m(\u001b[0m\u001b[0mn\u001b[0m\u001b[0;34m)\u001b[0m\u001b[0;34m:\u001b[0m\u001b[0;34m\u001b[0m\u001b[0;34m\u001b[0m\u001b[0m\n\u001b[1;32m      9\u001b[0m   \u001b[0;32mif\u001b[0m \u001b[0mn\u001b[0m \u001b[0;34m>\u001b[0m \u001b[0;36m1\u001b[0m\u001b[0;34m:\u001b[0m\u001b[0;34m\u001b[0m\u001b[0;34m\u001b[0m\u001b[0m\n\u001b[0;32m---> 10\u001b[0;31m     \u001b[0;32mreturn\u001b[0m \u001b[0mF\u001b[0m\u001b[0;34m(\u001b[0m\u001b[0mn\u001b[0m\u001b[0;34m-\u001b[0m\u001b[0;36m1\u001b[0m\u001b[0;34m)\u001b[0m \u001b[0;34m+\u001b[0m \u001b[0mG\u001b[0m\u001b[0;34m(\u001b[0m\u001b[0mn\u001b[0m\u001b[0;34m-\u001b[0m\u001b[0;36m1\u001b[0m\u001b[0;34m)\u001b[0m \u001b[0;34m+\u001b[0m \u001b[0mn\u001b[0m\u001b[0;34m\u001b[0m\u001b[0;34m\u001b[0m\u001b[0m\n\u001b[0m\u001b[1;32m     11\u001b[0m \u001b[0;34m\u001b[0m\u001b[0m\n\u001b[1;32m     12\u001b[0m \u001b[0mprint\u001b[0m\u001b[0;34m(\u001b[0m\u001b[0mG\u001b[0m\u001b[0;34m(\u001b[0m\u001b[0;36m36\u001b[0m\u001b[0;34m)\u001b[0m\u001b[0;34m)\u001b[0m\u001b[0;34m\u001b[0m\u001b[0;34m\u001b[0m\u001b[0m\n",
            "\u001b[0;32m<ipython-input-7-31a8ae2ecc86>\u001b[0m in \u001b[0;36mF\u001b[0;34m(n)\u001b[0m\n\u001b[1;32m      3\u001b[0m     \u001b[0;32mreturn\u001b[0m \u001b[0mG\u001b[0m\u001b[0;34m(\u001b[0m\u001b[0mn\u001b[0m\u001b[0;34m)\u001b[0m\u001b[0;34m\u001b[0m\u001b[0;34m\u001b[0m\u001b[0m\n\u001b[1;32m      4\u001b[0m   \u001b[0;32melif\u001b[0m \u001b[0mn\u001b[0m \u001b[0;34m>\u001b[0m \u001b[0;36m1\u001b[0m\u001b[0;34m:\u001b[0m\u001b[0;34m\u001b[0m\u001b[0;34m\u001b[0m\u001b[0m\n\u001b[0;32m----> 5\u001b[0;31m     \u001b[0mk\u001b[0m \u001b[0;34m=\u001b[0m \u001b[0mG\u001b[0m\u001b[0;34m(\u001b[0m\u001b[0mn\u001b[0m\u001b[0;34m-\u001b[0m\u001b[0;36m1\u001b[0m\u001b[0;34m)\u001b[0m\u001b[0;34m\u001b[0m\u001b[0;34m\u001b[0m\u001b[0m\n\u001b[0m\u001b[1;32m      6\u001b[0m     \u001b[0;32mreturn\u001b[0m \u001b[0mF\u001b[0m\u001b[0;34m(\u001b[0m\u001b[0mn\u001b[0m\u001b[0;34m-\u001b[0m\u001b[0;36m1\u001b[0m\u001b[0;34m)\u001b[0m \u001b[0;34m-\u001b[0m \u001b[0;36m2\u001b[0m \u001b[0;34m*\u001b[0m \u001b[0mk\u001b[0m\u001b[0;34m\u001b[0m\u001b[0;34m\u001b[0m\u001b[0m\n\u001b[1;32m      7\u001b[0m \u001b[0;34m\u001b[0m\u001b[0m\n",
            "\u001b[0;32m<ipython-input-7-31a8ae2ecc86>\u001b[0m in \u001b[0;36mG\u001b[0;34m(n)\u001b[0m\n\u001b[1;32m      8\u001b[0m \u001b[0;32mdef\u001b[0m \u001b[0mG\u001b[0m\u001b[0;34m(\u001b[0m\u001b[0mn\u001b[0m\u001b[0;34m)\u001b[0m\u001b[0;34m:\u001b[0m\u001b[0;34m\u001b[0m\u001b[0;34m\u001b[0m\u001b[0m\n\u001b[1;32m      9\u001b[0m   \u001b[0;32mif\u001b[0m \u001b[0mn\u001b[0m \u001b[0;34m>\u001b[0m \u001b[0;36m1\u001b[0m\u001b[0;34m:\u001b[0m\u001b[0;34m\u001b[0m\u001b[0;34m\u001b[0m\u001b[0m\n\u001b[0;32m---> 10\u001b[0;31m     \u001b[0;32mreturn\u001b[0m \u001b[0mF\u001b[0m\u001b[0;34m(\u001b[0m\u001b[0mn\u001b[0m\u001b[0;34m-\u001b[0m\u001b[0;36m1\u001b[0m\u001b[0;34m)\u001b[0m \u001b[0;34m+\u001b[0m \u001b[0mG\u001b[0m\u001b[0;34m(\u001b[0m\u001b[0mn\u001b[0m\u001b[0;34m-\u001b[0m\u001b[0;36m1\u001b[0m\u001b[0;34m)\u001b[0m \u001b[0;34m+\u001b[0m \u001b[0mn\u001b[0m\u001b[0;34m\u001b[0m\u001b[0;34m\u001b[0m\u001b[0m\n\u001b[0m\u001b[1;32m     11\u001b[0m \u001b[0;34m\u001b[0m\u001b[0m\n\u001b[1;32m     12\u001b[0m \u001b[0mprint\u001b[0m\u001b[0;34m(\u001b[0m\u001b[0mG\u001b[0m\u001b[0;34m(\u001b[0m\u001b[0;36m36\u001b[0m\u001b[0;34m)\u001b[0m\u001b[0;34m)\u001b[0m\u001b[0;34m\u001b[0m\u001b[0;34m\u001b[0m\u001b[0m\n",
            "\u001b[0;32m<ipython-input-7-31a8ae2ecc86>\u001b[0m in \u001b[0;36mF\u001b[0;34m(n)\u001b[0m\n\u001b[1;32m      3\u001b[0m     \u001b[0;32mreturn\u001b[0m \u001b[0mG\u001b[0m\u001b[0;34m(\u001b[0m\u001b[0mn\u001b[0m\u001b[0;34m)\u001b[0m\u001b[0;34m\u001b[0m\u001b[0;34m\u001b[0m\u001b[0m\n\u001b[1;32m      4\u001b[0m   \u001b[0;32melif\u001b[0m \u001b[0mn\u001b[0m \u001b[0;34m>\u001b[0m \u001b[0;36m1\u001b[0m\u001b[0;34m:\u001b[0m\u001b[0;34m\u001b[0m\u001b[0;34m\u001b[0m\u001b[0m\n\u001b[0;32m----> 5\u001b[0;31m     \u001b[0mk\u001b[0m \u001b[0;34m=\u001b[0m \u001b[0mG\u001b[0m\u001b[0;34m(\u001b[0m\u001b[0mn\u001b[0m\u001b[0;34m-\u001b[0m\u001b[0;36m1\u001b[0m\u001b[0;34m)\u001b[0m\u001b[0;34m\u001b[0m\u001b[0;34m\u001b[0m\u001b[0m\n\u001b[0m\u001b[1;32m      6\u001b[0m     \u001b[0;32mreturn\u001b[0m \u001b[0mF\u001b[0m\u001b[0;34m(\u001b[0m\u001b[0mn\u001b[0m\u001b[0;34m-\u001b[0m\u001b[0;36m1\u001b[0m\u001b[0;34m)\u001b[0m \u001b[0;34m-\u001b[0m \u001b[0;36m2\u001b[0m \u001b[0;34m*\u001b[0m \u001b[0mk\u001b[0m\u001b[0;34m\u001b[0m\u001b[0;34m\u001b[0m\u001b[0m\n\u001b[1;32m      7\u001b[0m \u001b[0;34m\u001b[0m\u001b[0m\n",
            "\u001b[0;32m<ipython-input-7-31a8ae2ecc86>\u001b[0m in \u001b[0;36mG\u001b[0;34m(n)\u001b[0m\n\u001b[1;32m      8\u001b[0m \u001b[0;32mdef\u001b[0m \u001b[0mG\u001b[0m\u001b[0;34m(\u001b[0m\u001b[0mn\u001b[0m\u001b[0;34m)\u001b[0m\u001b[0;34m:\u001b[0m\u001b[0;34m\u001b[0m\u001b[0;34m\u001b[0m\u001b[0m\n\u001b[1;32m      9\u001b[0m   \u001b[0;32mif\u001b[0m \u001b[0mn\u001b[0m \u001b[0;34m>\u001b[0m \u001b[0;36m1\u001b[0m\u001b[0;34m:\u001b[0m\u001b[0;34m\u001b[0m\u001b[0;34m\u001b[0m\u001b[0m\n\u001b[0;32m---> 10\u001b[0;31m     \u001b[0;32mreturn\u001b[0m \u001b[0mF\u001b[0m\u001b[0;34m(\u001b[0m\u001b[0mn\u001b[0m\u001b[0;34m-\u001b[0m\u001b[0;36m1\u001b[0m\u001b[0;34m)\u001b[0m \u001b[0;34m+\u001b[0m \u001b[0mG\u001b[0m\u001b[0;34m(\u001b[0m\u001b[0mn\u001b[0m\u001b[0;34m-\u001b[0m\u001b[0;36m1\u001b[0m\u001b[0;34m)\u001b[0m \u001b[0;34m+\u001b[0m \u001b[0mn\u001b[0m\u001b[0;34m\u001b[0m\u001b[0;34m\u001b[0m\u001b[0m\n\u001b[0m\u001b[1;32m     11\u001b[0m \u001b[0;34m\u001b[0m\u001b[0m\n\u001b[1;32m     12\u001b[0m \u001b[0mprint\u001b[0m\u001b[0;34m(\u001b[0m\u001b[0mG\u001b[0m\u001b[0;34m(\u001b[0m\u001b[0;36m36\u001b[0m\u001b[0;34m)\u001b[0m\u001b[0;34m)\u001b[0m\u001b[0;34m\u001b[0m\u001b[0;34m\u001b[0m\u001b[0m\n",
            "\u001b[0;32m<ipython-input-7-31a8ae2ecc86>\u001b[0m in \u001b[0;36mF\u001b[0;34m(n)\u001b[0m\n\u001b[1;32m      3\u001b[0m     \u001b[0;32mreturn\u001b[0m \u001b[0mG\u001b[0m\u001b[0;34m(\u001b[0m\u001b[0mn\u001b[0m\u001b[0;34m)\u001b[0m\u001b[0;34m\u001b[0m\u001b[0;34m\u001b[0m\u001b[0m\n\u001b[1;32m      4\u001b[0m   \u001b[0;32melif\u001b[0m \u001b[0mn\u001b[0m \u001b[0;34m>\u001b[0m \u001b[0;36m1\u001b[0m\u001b[0;34m:\u001b[0m\u001b[0;34m\u001b[0m\u001b[0;34m\u001b[0m\u001b[0m\n\u001b[0;32m----> 5\u001b[0;31m     \u001b[0mk\u001b[0m \u001b[0;34m=\u001b[0m \u001b[0mG\u001b[0m\u001b[0;34m(\u001b[0m\u001b[0mn\u001b[0m\u001b[0;34m-\u001b[0m\u001b[0;36m1\u001b[0m\u001b[0;34m)\u001b[0m\u001b[0;34m\u001b[0m\u001b[0;34m\u001b[0m\u001b[0m\n\u001b[0m\u001b[1;32m      6\u001b[0m     \u001b[0;32mreturn\u001b[0m \u001b[0mF\u001b[0m\u001b[0;34m(\u001b[0m\u001b[0mn\u001b[0m\u001b[0;34m-\u001b[0m\u001b[0;36m1\u001b[0m\u001b[0;34m)\u001b[0m \u001b[0;34m-\u001b[0m \u001b[0;36m2\u001b[0m \u001b[0;34m*\u001b[0m \u001b[0mk\u001b[0m\u001b[0;34m\u001b[0m\u001b[0;34m\u001b[0m\u001b[0m\n\u001b[1;32m      7\u001b[0m \u001b[0;34m\u001b[0m\u001b[0m\n",
            "\u001b[0;32m<ipython-input-7-31a8ae2ecc86>\u001b[0m in \u001b[0;36mG\u001b[0;34m(n)\u001b[0m\n\u001b[1;32m      8\u001b[0m \u001b[0;32mdef\u001b[0m \u001b[0mG\u001b[0m\u001b[0;34m(\u001b[0m\u001b[0mn\u001b[0m\u001b[0;34m)\u001b[0m\u001b[0;34m:\u001b[0m\u001b[0;34m\u001b[0m\u001b[0;34m\u001b[0m\u001b[0m\n\u001b[1;32m      9\u001b[0m   \u001b[0;32mif\u001b[0m \u001b[0mn\u001b[0m \u001b[0;34m>\u001b[0m \u001b[0;36m1\u001b[0m\u001b[0;34m:\u001b[0m\u001b[0;34m\u001b[0m\u001b[0;34m\u001b[0m\u001b[0m\n\u001b[0;32m---> 10\u001b[0;31m     \u001b[0;32mreturn\u001b[0m \u001b[0mF\u001b[0m\u001b[0;34m(\u001b[0m\u001b[0mn\u001b[0m\u001b[0;34m-\u001b[0m\u001b[0;36m1\u001b[0m\u001b[0;34m)\u001b[0m \u001b[0;34m+\u001b[0m \u001b[0mG\u001b[0m\u001b[0;34m(\u001b[0m\u001b[0mn\u001b[0m\u001b[0;34m-\u001b[0m\u001b[0;36m1\u001b[0m\u001b[0;34m)\u001b[0m \u001b[0;34m+\u001b[0m \u001b[0mn\u001b[0m\u001b[0;34m\u001b[0m\u001b[0;34m\u001b[0m\u001b[0m\n\u001b[0m\u001b[1;32m     11\u001b[0m \u001b[0;34m\u001b[0m\u001b[0m\n\u001b[1;32m     12\u001b[0m \u001b[0mprint\u001b[0m\u001b[0;34m(\u001b[0m\u001b[0mG\u001b[0m\u001b[0;34m(\u001b[0m\u001b[0;36m36\u001b[0m\u001b[0;34m)\u001b[0m\u001b[0;34m)\u001b[0m\u001b[0;34m\u001b[0m\u001b[0;34m\u001b[0m\u001b[0m\n",
            "\u001b[0;32m<ipython-input-7-31a8ae2ecc86>\u001b[0m in \u001b[0;36mF\u001b[0;34m(n)\u001b[0m\n\u001b[1;32m      3\u001b[0m     \u001b[0;32mreturn\u001b[0m \u001b[0mG\u001b[0m\u001b[0;34m(\u001b[0m\u001b[0mn\u001b[0m\u001b[0;34m)\u001b[0m\u001b[0;34m\u001b[0m\u001b[0;34m\u001b[0m\u001b[0m\n\u001b[1;32m      4\u001b[0m   \u001b[0;32melif\u001b[0m \u001b[0mn\u001b[0m \u001b[0;34m>\u001b[0m \u001b[0;36m1\u001b[0m\u001b[0;34m:\u001b[0m\u001b[0;34m\u001b[0m\u001b[0;34m\u001b[0m\u001b[0m\n\u001b[0;32m----> 5\u001b[0;31m     \u001b[0mk\u001b[0m \u001b[0;34m=\u001b[0m \u001b[0mG\u001b[0m\u001b[0;34m(\u001b[0m\u001b[0mn\u001b[0m\u001b[0;34m-\u001b[0m\u001b[0;36m1\u001b[0m\u001b[0;34m)\u001b[0m\u001b[0;34m\u001b[0m\u001b[0;34m\u001b[0m\u001b[0m\n\u001b[0m\u001b[1;32m      6\u001b[0m     \u001b[0;32mreturn\u001b[0m \u001b[0mF\u001b[0m\u001b[0;34m(\u001b[0m\u001b[0mn\u001b[0m\u001b[0;34m-\u001b[0m\u001b[0;36m1\u001b[0m\u001b[0;34m)\u001b[0m \u001b[0;34m-\u001b[0m \u001b[0;36m2\u001b[0m \u001b[0;34m*\u001b[0m \u001b[0mk\u001b[0m\u001b[0;34m\u001b[0m\u001b[0;34m\u001b[0m\u001b[0m\n\u001b[1;32m      7\u001b[0m \u001b[0;34m\u001b[0m\u001b[0m\n",
            "\u001b[0;32m<ipython-input-7-31a8ae2ecc86>\u001b[0m in \u001b[0;36mG\u001b[0;34m(n)\u001b[0m\n\u001b[1;32m      8\u001b[0m \u001b[0;32mdef\u001b[0m \u001b[0mG\u001b[0m\u001b[0;34m(\u001b[0m\u001b[0mn\u001b[0m\u001b[0;34m)\u001b[0m\u001b[0;34m:\u001b[0m\u001b[0;34m\u001b[0m\u001b[0;34m\u001b[0m\u001b[0m\n\u001b[1;32m      9\u001b[0m   \u001b[0;32mif\u001b[0m \u001b[0mn\u001b[0m \u001b[0;34m>\u001b[0m \u001b[0;36m1\u001b[0m\u001b[0;34m:\u001b[0m\u001b[0;34m\u001b[0m\u001b[0;34m\u001b[0m\u001b[0m\n\u001b[0;32m---> 10\u001b[0;31m     \u001b[0;32mreturn\u001b[0m \u001b[0mF\u001b[0m\u001b[0;34m(\u001b[0m\u001b[0mn\u001b[0m\u001b[0;34m-\u001b[0m\u001b[0;36m1\u001b[0m\u001b[0;34m)\u001b[0m \u001b[0;34m+\u001b[0m \u001b[0mG\u001b[0m\u001b[0;34m(\u001b[0m\u001b[0mn\u001b[0m\u001b[0;34m-\u001b[0m\u001b[0;36m1\u001b[0m\u001b[0;34m)\u001b[0m \u001b[0;34m+\u001b[0m \u001b[0mn\u001b[0m\u001b[0;34m\u001b[0m\u001b[0;34m\u001b[0m\u001b[0m\n\u001b[0m\u001b[1;32m     11\u001b[0m \u001b[0;34m\u001b[0m\u001b[0m\n\u001b[1;32m     12\u001b[0m \u001b[0mprint\u001b[0m\u001b[0;34m(\u001b[0m\u001b[0mG\u001b[0m\u001b[0;34m(\u001b[0m\u001b[0;36m36\u001b[0m\u001b[0;34m)\u001b[0m\u001b[0;34m)\u001b[0m\u001b[0;34m\u001b[0m\u001b[0;34m\u001b[0m\u001b[0m\n",
            "\u001b[0;32m<ipython-input-7-31a8ae2ecc86>\u001b[0m in \u001b[0;36mF\u001b[0;34m(n)\u001b[0m\n\u001b[1;32m      3\u001b[0m     \u001b[0;32mreturn\u001b[0m \u001b[0mG\u001b[0m\u001b[0;34m(\u001b[0m\u001b[0mn\u001b[0m\u001b[0;34m)\u001b[0m\u001b[0;34m\u001b[0m\u001b[0;34m\u001b[0m\u001b[0m\n\u001b[1;32m      4\u001b[0m   \u001b[0;32melif\u001b[0m \u001b[0mn\u001b[0m \u001b[0;34m>\u001b[0m \u001b[0;36m1\u001b[0m\u001b[0;34m:\u001b[0m\u001b[0;34m\u001b[0m\u001b[0;34m\u001b[0m\u001b[0m\n\u001b[0;32m----> 5\u001b[0;31m     \u001b[0mk\u001b[0m \u001b[0;34m=\u001b[0m \u001b[0mG\u001b[0m\u001b[0;34m(\u001b[0m\u001b[0mn\u001b[0m\u001b[0;34m-\u001b[0m\u001b[0;36m1\u001b[0m\u001b[0;34m)\u001b[0m\u001b[0;34m\u001b[0m\u001b[0;34m\u001b[0m\u001b[0m\n\u001b[0m\u001b[1;32m      6\u001b[0m     \u001b[0;32mreturn\u001b[0m \u001b[0mF\u001b[0m\u001b[0;34m(\u001b[0m\u001b[0mn\u001b[0m\u001b[0;34m-\u001b[0m\u001b[0;36m1\u001b[0m\u001b[0;34m)\u001b[0m \u001b[0;34m-\u001b[0m \u001b[0;36m2\u001b[0m \u001b[0;34m*\u001b[0m \u001b[0mk\u001b[0m\u001b[0;34m\u001b[0m\u001b[0;34m\u001b[0m\u001b[0m\n\u001b[1;32m      7\u001b[0m \u001b[0;34m\u001b[0m\u001b[0m\n",
            "\u001b[0;32m<ipython-input-7-31a8ae2ecc86>\u001b[0m in \u001b[0;36mG\u001b[0;34m(n)\u001b[0m\n\u001b[1;32m      8\u001b[0m \u001b[0;32mdef\u001b[0m \u001b[0mG\u001b[0m\u001b[0;34m(\u001b[0m\u001b[0mn\u001b[0m\u001b[0;34m)\u001b[0m\u001b[0;34m:\u001b[0m\u001b[0;34m\u001b[0m\u001b[0;34m\u001b[0m\u001b[0m\n\u001b[1;32m      9\u001b[0m   \u001b[0;32mif\u001b[0m \u001b[0mn\u001b[0m \u001b[0;34m>\u001b[0m \u001b[0;36m1\u001b[0m\u001b[0;34m:\u001b[0m\u001b[0;34m\u001b[0m\u001b[0;34m\u001b[0m\u001b[0m\n\u001b[0;32m---> 10\u001b[0;31m     \u001b[0;32mreturn\u001b[0m \u001b[0mF\u001b[0m\u001b[0;34m(\u001b[0m\u001b[0mn\u001b[0m\u001b[0;34m-\u001b[0m\u001b[0;36m1\u001b[0m\u001b[0;34m)\u001b[0m \u001b[0;34m+\u001b[0m \u001b[0mG\u001b[0m\u001b[0;34m(\u001b[0m\u001b[0mn\u001b[0m\u001b[0;34m-\u001b[0m\u001b[0;36m1\u001b[0m\u001b[0;34m)\u001b[0m \u001b[0;34m+\u001b[0m \u001b[0mn\u001b[0m\u001b[0;34m\u001b[0m\u001b[0;34m\u001b[0m\u001b[0m\n\u001b[0m\u001b[1;32m     11\u001b[0m \u001b[0;34m\u001b[0m\u001b[0m\n\u001b[1;32m     12\u001b[0m \u001b[0mprint\u001b[0m\u001b[0;34m(\u001b[0m\u001b[0mG\u001b[0m\u001b[0;34m(\u001b[0m\u001b[0;36m36\u001b[0m\u001b[0;34m)\u001b[0m\u001b[0;34m)\u001b[0m\u001b[0;34m\u001b[0m\u001b[0;34m\u001b[0m\u001b[0m\n",
            "\u001b[0;32m<ipython-input-7-31a8ae2ecc86>\u001b[0m in \u001b[0;36mF\u001b[0;34m(n)\u001b[0m\n\u001b[1;32m      3\u001b[0m     \u001b[0;32mreturn\u001b[0m \u001b[0mG\u001b[0m\u001b[0;34m(\u001b[0m\u001b[0mn\u001b[0m\u001b[0;34m)\u001b[0m\u001b[0;34m\u001b[0m\u001b[0;34m\u001b[0m\u001b[0m\n\u001b[1;32m      4\u001b[0m   \u001b[0;32melif\u001b[0m \u001b[0mn\u001b[0m \u001b[0;34m>\u001b[0m \u001b[0;36m1\u001b[0m\u001b[0;34m:\u001b[0m\u001b[0;34m\u001b[0m\u001b[0;34m\u001b[0m\u001b[0m\n\u001b[0;32m----> 5\u001b[0;31m     \u001b[0mk\u001b[0m \u001b[0;34m=\u001b[0m \u001b[0mG\u001b[0m\u001b[0;34m(\u001b[0m\u001b[0mn\u001b[0m\u001b[0;34m-\u001b[0m\u001b[0;36m1\u001b[0m\u001b[0;34m)\u001b[0m\u001b[0;34m\u001b[0m\u001b[0;34m\u001b[0m\u001b[0m\n\u001b[0m\u001b[1;32m      6\u001b[0m     \u001b[0;32mreturn\u001b[0m \u001b[0mF\u001b[0m\u001b[0;34m(\u001b[0m\u001b[0mn\u001b[0m\u001b[0;34m-\u001b[0m\u001b[0;36m1\u001b[0m\u001b[0;34m)\u001b[0m \u001b[0;34m-\u001b[0m \u001b[0;36m2\u001b[0m \u001b[0;34m*\u001b[0m \u001b[0mk\u001b[0m\u001b[0;34m\u001b[0m\u001b[0;34m\u001b[0m\u001b[0m\n\u001b[1;32m      7\u001b[0m \u001b[0;34m\u001b[0m\u001b[0m\n",
            "\u001b[0;32m<ipython-input-7-31a8ae2ecc86>\u001b[0m in \u001b[0;36mG\u001b[0;34m(n)\u001b[0m\n\u001b[1;32m      8\u001b[0m \u001b[0;32mdef\u001b[0m \u001b[0mG\u001b[0m\u001b[0;34m(\u001b[0m\u001b[0mn\u001b[0m\u001b[0;34m)\u001b[0m\u001b[0;34m:\u001b[0m\u001b[0;34m\u001b[0m\u001b[0;34m\u001b[0m\u001b[0m\n\u001b[1;32m      9\u001b[0m   \u001b[0;32mif\u001b[0m \u001b[0mn\u001b[0m \u001b[0;34m>\u001b[0m \u001b[0;36m1\u001b[0m\u001b[0;34m:\u001b[0m\u001b[0;34m\u001b[0m\u001b[0;34m\u001b[0m\u001b[0m\n\u001b[0;32m---> 10\u001b[0;31m     \u001b[0;32mreturn\u001b[0m \u001b[0mF\u001b[0m\u001b[0;34m(\u001b[0m\u001b[0mn\u001b[0m\u001b[0;34m-\u001b[0m\u001b[0;36m1\u001b[0m\u001b[0;34m)\u001b[0m \u001b[0;34m+\u001b[0m \u001b[0mG\u001b[0m\u001b[0;34m(\u001b[0m\u001b[0mn\u001b[0m\u001b[0;34m-\u001b[0m\u001b[0;36m1\u001b[0m\u001b[0;34m)\u001b[0m \u001b[0;34m+\u001b[0m \u001b[0mn\u001b[0m\u001b[0;34m\u001b[0m\u001b[0;34m\u001b[0m\u001b[0m\n\u001b[0m\u001b[1;32m     11\u001b[0m \u001b[0;34m\u001b[0m\u001b[0m\n\u001b[1;32m     12\u001b[0m \u001b[0mprint\u001b[0m\u001b[0;34m(\u001b[0m\u001b[0mG\u001b[0m\u001b[0;34m(\u001b[0m\u001b[0;36m36\u001b[0m\u001b[0;34m)\u001b[0m\u001b[0;34m)\u001b[0m\u001b[0;34m\u001b[0m\u001b[0;34m\u001b[0m\u001b[0m\n",
            "\u001b[0;32m<ipython-input-7-31a8ae2ecc86>\u001b[0m in \u001b[0;36mF\u001b[0;34m(n)\u001b[0m\n\u001b[1;32m      3\u001b[0m     \u001b[0;32mreturn\u001b[0m \u001b[0mG\u001b[0m\u001b[0;34m(\u001b[0m\u001b[0mn\u001b[0m\u001b[0;34m)\u001b[0m\u001b[0;34m\u001b[0m\u001b[0;34m\u001b[0m\u001b[0m\n\u001b[1;32m      4\u001b[0m   \u001b[0;32melif\u001b[0m \u001b[0mn\u001b[0m \u001b[0;34m>\u001b[0m \u001b[0;36m1\u001b[0m\u001b[0;34m:\u001b[0m\u001b[0;34m\u001b[0m\u001b[0;34m\u001b[0m\u001b[0m\n\u001b[0;32m----> 5\u001b[0;31m     \u001b[0mk\u001b[0m \u001b[0;34m=\u001b[0m \u001b[0mG\u001b[0m\u001b[0;34m(\u001b[0m\u001b[0mn\u001b[0m\u001b[0;34m-\u001b[0m\u001b[0;36m1\u001b[0m\u001b[0;34m)\u001b[0m\u001b[0;34m\u001b[0m\u001b[0;34m\u001b[0m\u001b[0m\n\u001b[0m\u001b[1;32m      6\u001b[0m     \u001b[0;32mreturn\u001b[0m \u001b[0mF\u001b[0m\u001b[0;34m(\u001b[0m\u001b[0mn\u001b[0m\u001b[0;34m-\u001b[0m\u001b[0;36m1\u001b[0m\u001b[0;34m)\u001b[0m \u001b[0;34m-\u001b[0m \u001b[0;36m2\u001b[0m \u001b[0;34m*\u001b[0m \u001b[0mk\u001b[0m\u001b[0;34m\u001b[0m\u001b[0;34m\u001b[0m\u001b[0m\n\u001b[1;32m      7\u001b[0m \u001b[0;34m\u001b[0m\u001b[0m\n",
            "\u001b[0;32m<ipython-input-7-31a8ae2ecc86>\u001b[0m in \u001b[0;36mG\u001b[0;34m(n)\u001b[0m\n\u001b[1;32m      8\u001b[0m \u001b[0;32mdef\u001b[0m \u001b[0mG\u001b[0m\u001b[0;34m(\u001b[0m\u001b[0mn\u001b[0m\u001b[0;34m)\u001b[0m\u001b[0;34m:\u001b[0m\u001b[0;34m\u001b[0m\u001b[0;34m\u001b[0m\u001b[0m\n\u001b[1;32m      9\u001b[0m   \u001b[0;32mif\u001b[0m \u001b[0mn\u001b[0m \u001b[0;34m>\u001b[0m \u001b[0;36m1\u001b[0m\u001b[0;34m:\u001b[0m\u001b[0;34m\u001b[0m\u001b[0;34m\u001b[0m\u001b[0m\n\u001b[0;32m---> 10\u001b[0;31m     \u001b[0;32mreturn\u001b[0m \u001b[0mF\u001b[0m\u001b[0;34m(\u001b[0m\u001b[0mn\u001b[0m\u001b[0;34m-\u001b[0m\u001b[0;36m1\u001b[0m\u001b[0;34m)\u001b[0m \u001b[0;34m+\u001b[0m \u001b[0mG\u001b[0m\u001b[0;34m(\u001b[0m\u001b[0mn\u001b[0m\u001b[0;34m-\u001b[0m\u001b[0;36m1\u001b[0m\u001b[0;34m)\u001b[0m \u001b[0;34m+\u001b[0m \u001b[0mn\u001b[0m\u001b[0;34m\u001b[0m\u001b[0;34m\u001b[0m\u001b[0m\n\u001b[0m\u001b[1;32m     11\u001b[0m \u001b[0;34m\u001b[0m\u001b[0m\n\u001b[1;32m     12\u001b[0m \u001b[0mprint\u001b[0m\u001b[0;34m(\u001b[0m\u001b[0mG\u001b[0m\u001b[0;34m(\u001b[0m\u001b[0;36m36\u001b[0m\u001b[0;34m)\u001b[0m\u001b[0;34m)\u001b[0m\u001b[0;34m\u001b[0m\u001b[0;34m\u001b[0m\u001b[0m\n",
            "\u001b[0;32m<ipython-input-7-31a8ae2ecc86>\u001b[0m in \u001b[0;36mF\u001b[0;34m(n)\u001b[0m\n\u001b[1;32m      3\u001b[0m     \u001b[0;32mreturn\u001b[0m \u001b[0mG\u001b[0m\u001b[0;34m(\u001b[0m\u001b[0mn\u001b[0m\u001b[0;34m)\u001b[0m\u001b[0;34m\u001b[0m\u001b[0;34m\u001b[0m\u001b[0m\n\u001b[1;32m      4\u001b[0m   \u001b[0;32melif\u001b[0m \u001b[0mn\u001b[0m \u001b[0;34m>\u001b[0m \u001b[0;36m1\u001b[0m\u001b[0;34m:\u001b[0m\u001b[0;34m\u001b[0m\u001b[0;34m\u001b[0m\u001b[0m\n\u001b[0;32m----> 5\u001b[0;31m     \u001b[0mk\u001b[0m \u001b[0;34m=\u001b[0m \u001b[0mG\u001b[0m\u001b[0;34m(\u001b[0m\u001b[0mn\u001b[0m\u001b[0;34m-\u001b[0m\u001b[0;36m1\u001b[0m\u001b[0;34m)\u001b[0m\u001b[0;34m\u001b[0m\u001b[0;34m\u001b[0m\u001b[0m\n\u001b[0m\u001b[1;32m      6\u001b[0m     \u001b[0;32mreturn\u001b[0m \u001b[0mF\u001b[0m\u001b[0;34m(\u001b[0m\u001b[0mn\u001b[0m\u001b[0;34m-\u001b[0m\u001b[0;36m1\u001b[0m\u001b[0;34m)\u001b[0m \u001b[0;34m-\u001b[0m \u001b[0;36m2\u001b[0m \u001b[0;34m*\u001b[0m \u001b[0mk\u001b[0m\u001b[0;34m\u001b[0m\u001b[0;34m\u001b[0m\u001b[0m\n\u001b[1;32m      7\u001b[0m \u001b[0;34m\u001b[0m\u001b[0m\n",
            "\u001b[0;32m<ipython-input-7-31a8ae2ecc86>\u001b[0m in \u001b[0;36mG\u001b[0;34m(n)\u001b[0m\n\u001b[1;32m      8\u001b[0m \u001b[0;32mdef\u001b[0m \u001b[0mG\u001b[0m\u001b[0;34m(\u001b[0m\u001b[0mn\u001b[0m\u001b[0;34m)\u001b[0m\u001b[0;34m:\u001b[0m\u001b[0;34m\u001b[0m\u001b[0;34m\u001b[0m\u001b[0m\n\u001b[1;32m      9\u001b[0m   \u001b[0;32mif\u001b[0m \u001b[0mn\u001b[0m \u001b[0;34m>\u001b[0m \u001b[0;36m1\u001b[0m\u001b[0;34m:\u001b[0m\u001b[0;34m\u001b[0m\u001b[0;34m\u001b[0m\u001b[0m\n\u001b[0;32m---> 10\u001b[0;31m     \u001b[0;32mreturn\u001b[0m \u001b[0mF\u001b[0m\u001b[0;34m(\u001b[0m\u001b[0mn\u001b[0m\u001b[0;34m-\u001b[0m\u001b[0;36m1\u001b[0m\u001b[0;34m)\u001b[0m \u001b[0;34m+\u001b[0m \u001b[0mG\u001b[0m\u001b[0;34m(\u001b[0m\u001b[0mn\u001b[0m\u001b[0;34m-\u001b[0m\u001b[0;36m1\u001b[0m\u001b[0;34m)\u001b[0m \u001b[0;34m+\u001b[0m \u001b[0mn\u001b[0m\u001b[0;34m\u001b[0m\u001b[0;34m\u001b[0m\u001b[0m\n\u001b[0m\u001b[1;32m     11\u001b[0m \u001b[0;34m\u001b[0m\u001b[0m\n\u001b[1;32m     12\u001b[0m \u001b[0mprint\u001b[0m\u001b[0;34m(\u001b[0m\u001b[0mG\u001b[0m\u001b[0;34m(\u001b[0m\u001b[0;36m36\u001b[0m\u001b[0;34m)\u001b[0m\u001b[0;34m)\u001b[0m\u001b[0;34m\u001b[0m\u001b[0;34m\u001b[0m\u001b[0m\n",
            "\u001b[0;32m<ipython-input-7-31a8ae2ecc86>\u001b[0m in \u001b[0;36mF\u001b[0;34m(n)\u001b[0m\n\u001b[1;32m      3\u001b[0m     \u001b[0;32mreturn\u001b[0m \u001b[0mG\u001b[0m\u001b[0;34m(\u001b[0m\u001b[0mn\u001b[0m\u001b[0;34m)\u001b[0m\u001b[0;34m\u001b[0m\u001b[0;34m\u001b[0m\u001b[0m\n\u001b[1;32m      4\u001b[0m   \u001b[0;32melif\u001b[0m \u001b[0mn\u001b[0m \u001b[0;34m>\u001b[0m \u001b[0;36m1\u001b[0m\u001b[0;34m:\u001b[0m\u001b[0;34m\u001b[0m\u001b[0;34m\u001b[0m\u001b[0m\n\u001b[0;32m----> 5\u001b[0;31m     \u001b[0mk\u001b[0m \u001b[0;34m=\u001b[0m \u001b[0mG\u001b[0m\u001b[0;34m(\u001b[0m\u001b[0mn\u001b[0m\u001b[0;34m-\u001b[0m\u001b[0;36m1\u001b[0m\u001b[0;34m)\u001b[0m\u001b[0;34m\u001b[0m\u001b[0;34m\u001b[0m\u001b[0m\n\u001b[0m\u001b[1;32m      6\u001b[0m     \u001b[0;32mreturn\u001b[0m \u001b[0mF\u001b[0m\u001b[0;34m(\u001b[0m\u001b[0mn\u001b[0m\u001b[0;34m-\u001b[0m\u001b[0;36m1\u001b[0m\u001b[0;34m)\u001b[0m \u001b[0;34m-\u001b[0m \u001b[0;36m2\u001b[0m \u001b[0;34m*\u001b[0m \u001b[0mk\u001b[0m\u001b[0;34m\u001b[0m\u001b[0;34m\u001b[0m\u001b[0m\n\u001b[1;32m      7\u001b[0m \u001b[0;34m\u001b[0m\u001b[0m\n",
            "\u001b[0;32m<ipython-input-7-31a8ae2ecc86>\u001b[0m in \u001b[0;36mG\u001b[0;34m(n)\u001b[0m\n\u001b[1;32m      8\u001b[0m \u001b[0;32mdef\u001b[0m \u001b[0mG\u001b[0m\u001b[0;34m(\u001b[0m\u001b[0mn\u001b[0m\u001b[0;34m)\u001b[0m\u001b[0;34m:\u001b[0m\u001b[0;34m\u001b[0m\u001b[0;34m\u001b[0m\u001b[0m\n\u001b[1;32m      9\u001b[0m   \u001b[0;32mif\u001b[0m \u001b[0mn\u001b[0m \u001b[0;34m>\u001b[0m \u001b[0;36m1\u001b[0m\u001b[0;34m:\u001b[0m\u001b[0;34m\u001b[0m\u001b[0;34m\u001b[0m\u001b[0m\n\u001b[0;32m---> 10\u001b[0;31m     \u001b[0;32mreturn\u001b[0m \u001b[0mF\u001b[0m\u001b[0;34m(\u001b[0m\u001b[0mn\u001b[0m\u001b[0;34m-\u001b[0m\u001b[0;36m1\u001b[0m\u001b[0;34m)\u001b[0m \u001b[0;34m+\u001b[0m \u001b[0mG\u001b[0m\u001b[0;34m(\u001b[0m\u001b[0mn\u001b[0m\u001b[0;34m-\u001b[0m\u001b[0;36m1\u001b[0m\u001b[0;34m)\u001b[0m \u001b[0;34m+\u001b[0m \u001b[0mn\u001b[0m\u001b[0;34m\u001b[0m\u001b[0;34m\u001b[0m\u001b[0m\n\u001b[0m\u001b[1;32m     11\u001b[0m \u001b[0;34m\u001b[0m\u001b[0m\n\u001b[1;32m     12\u001b[0m \u001b[0mprint\u001b[0m\u001b[0;34m(\u001b[0m\u001b[0mG\u001b[0m\u001b[0;34m(\u001b[0m\u001b[0;36m36\u001b[0m\u001b[0;34m)\u001b[0m\u001b[0;34m)\u001b[0m\u001b[0;34m\u001b[0m\u001b[0;34m\u001b[0m\u001b[0m\n",
            "\u001b[0;32m<ipython-input-7-31a8ae2ecc86>\u001b[0m in \u001b[0;36mF\u001b[0;34m(n)\u001b[0m\n\u001b[1;32m      3\u001b[0m     \u001b[0;32mreturn\u001b[0m \u001b[0mG\u001b[0m\u001b[0;34m(\u001b[0m\u001b[0mn\u001b[0m\u001b[0;34m)\u001b[0m\u001b[0;34m\u001b[0m\u001b[0;34m\u001b[0m\u001b[0m\n\u001b[1;32m      4\u001b[0m   \u001b[0;32melif\u001b[0m \u001b[0mn\u001b[0m \u001b[0;34m>\u001b[0m \u001b[0;36m1\u001b[0m\u001b[0;34m:\u001b[0m\u001b[0;34m\u001b[0m\u001b[0;34m\u001b[0m\u001b[0m\n\u001b[0;32m----> 5\u001b[0;31m     \u001b[0mk\u001b[0m \u001b[0;34m=\u001b[0m \u001b[0mG\u001b[0m\u001b[0;34m(\u001b[0m\u001b[0mn\u001b[0m\u001b[0;34m-\u001b[0m\u001b[0;36m1\u001b[0m\u001b[0;34m)\u001b[0m\u001b[0;34m\u001b[0m\u001b[0;34m\u001b[0m\u001b[0m\n\u001b[0m\u001b[1;32m      6\u001b[0m     \u001b[0;32mreturn\u001b[0m \u001b[0mF\u001b[0m\u001b[0;34m(\u001b[0m\u001b[0mn\u001b[0m\u001b[0;34m-\u001b[0m\u001b[0;36m1\u001b[0m\u001b[0;34m)\u001b[0m \u001b[0;34m-\u001b[0m \u001b[0;36m2\u001b[0m \u001b[0;34m*\u001b[0m \u001b[0mk\u001b[0m\u001b[0;34m\u001b[0m\u001b[0;34m\u001b[0m\u001b[0m\n\u001b[1;32m      7\u001b[0m \u001b[0;34m\u001b[0m\u001b[0m\n",
            "\u001b[0;32m<ipython-input-7-31a8ae2ecc86>\u001b[0m in \u001b[0;36mG\u001b[0;34m(n)\u001b[0m\n\u001b[1;32m      8\u001b[0m \u001b[0;32mdef\u001b[0m \u001b[0mG\u001b[0m\u001b[0;34m(\u001b[0m\u001b[0mn\u001b[0m\u001b[0;34m)\u001b[0m\u001b[0;34m:\u001b[0m\u001b[0;34m\u001b[0m\u001b[0;34m\u001b[0m\u001b[0m\n\u001b[1;32m      9\u001b[0m   \u001b[0;32mif\u001b[0m \u001b[0mn\u001b[0m \u001b[0;34m>\u001b[0m \u001b[0;36m1\u001b[0m\u001b[0;34m:\u001b[0m\u001b[0;34m\u001b[0m\u001b[0;34m\u001b[0m\u001b[0m\n\u001b[0;32m---> 10\u001b[0;31m     \u001b[0;32mreturn\u001b[0m \u001b[0mF\u001b[0m\u001b[0;34m(\u001b[0m\u001b[0mn\u001b[0m\u001b[0;34m-\u001b[0m\u001b[0;36m1\u001b[0m\u001b[0;34m)\u001b[0m \u001b[0;34m+\u001b[0m \u001b[0mG\u001b[0m\u001b[0;34m(\u001b[0m\u001b[0mn\u001b[0m\u001b[0;34m-\u001b[0m\u001b[0;36m1\u001b[0m\u001b[0;34m)\u001b[0m \u001b[0;34m+\u001b[0m \u001b[0mn\u001b[0m\u001b[0;34m\u001b[0m\u001b[0;34m\u001b[0m\u001b[0m\n\u001b[0m\u001b[1;32m     11\u001b[0m \u001b[0;34m\u001b[0m\u001b[0m\n\u001b[1;32m     12\u001b[0m \u001b[0mprint\u001b[0m\u001b[0;34m(\u001b[0m\u001b[0mG\u001b[0m\u001b[0;34m(\u001b[0m\u001b[0;36m36\u001b[0m\u001b[0;34m)\u001b[0m\u001b[0;34m)\u001b[0m\u001b[0;34m\u001b[0m\u001b[0;34m\u001b[0m\u001b[0m\n",
            "\u001b[0;32m<ipython-input-7-31a8ae2ecc86>\u001b[0m in \u001b[0;36mF\u001b[0;34m(n)\u001b[0m\n\u001b[1;32m      3\u001b[0m     \u001b[0;32mreturn\u001b[0m \u001b[0mG\u001b[0m\u001b[0;34m(\u001b[0m\u001b[0mn\u001b[0m\u001b[0;34m)\u001b[0m\u001b[0;34m\u001b[0m\u001b[0;34m\u001b[0m\u001b[0m\n\u001b[1;32m      4\u001b[0m   \u001b[0;32melif\u001b[0m \u001b[0mn\u001b[0m \u001b[0;34m>\u001b[0m \u001b[0;36m1\u001b[0m\u001b[0;34m:\u001b[0m\u001b[0;34m\u001b[0m\u001b[0;34m\u001b[0m\u001b[0m\n\u001b[0;32m----> 5\u001b[0;31m     \u001b[0mk\u001b[0m \u001b[0;34m=\u001b[0m \u001b[0mG\u001b[0m\u001b[0;34m(\u001b[0m\u001b[0mn\u001b[0m\u001b[0;34m-\u001b[0m\u001b[0;36m1\u001b[0m\u001b[0;34m)\u001b[0m\u001b[0;34m\u001b[0m\u001b[0;34m\u001b[0m\u001b[0m\n\u001b[0m\u001b[1;32m      6\u001b[0m     \u001b[0;32mreturn\u001b[0m \u001b[0mF\u001b[0m\u001b[0;34m(\u001b[0m\u001b[0mn\u001b[0m\u001b[0;34m-\u001b[0m\u001b[0;36m1\u001b[0m\u001b[0;34m)\u001b[0m \u001b[0;34m-\u001b[0m \u001b[0;36m2\u001b[0m \u001b[0;34m*\u001b[0m \u001b[0mk\u001b[0m\u001b[0;34m\u001b[0m\u001b[0;34m\u001b[0m\u001b[0m\n\u001b[1;32m      7\u001b[0m \u001b[0;34m\u001b[0m\u001b[0m\n",
            "\u001b[0;32m<ipython-input-7-31a8ae2ecc86>\u001b[0m in \u001b[0;36mG\u001b[0;34m(n)\u001b[0m\n\u001b[1;32m      8\u001b[0m \u001b[0;32mdef\u001b[0m \u001b[0mG\u001b[0m\u001b[0;34m(\u001b[0m\u001b[0mn\u001b[0m\u001b[0;34m)\u001b[0m\u001b[0;34m:\u001b[0m\u001b[0;34m\u001b[0m\u001b[0;34m\u001b[0m\u001b[0m\n\u001b[1;32m      9\u001b[0m   \u001b[0;32mif\u001b[0m \u001b[0mn\u001b[0m \u001b[0;34m>\u001b[0m \u001b[0;36m1\u001b[0m\u001b[0;34m:\u001b[0m\u001b[0;34m\u001b[0m\u001b[0;34m\u001b[0m\u001b[0m\n\u001b[0;32m---> 10\u001b[0;31m     \u001b[0;32mreturn\u001b[0m \u001b[0mF\u001b[0m\u001b[0;34m(\u001b[0m\u001b[0mn\u001b[0m\u001b[0;34m-\u001b[0m\u001b[0;36m1\u001b[0m\u001b[0;34m)\u001b[0m \u001b[0;34m+\u001b[0m \u001b[0mG\u001b[0m\u001b[0;34m(\u001b[0m\u001b[0mn\u001b[0m\u001b[0;34m-\u001b[0m\u001b[0;36m1\u001b[0m\u001b[0;34m)\u001b[0m \u001b[0;34m+\u001b[0m \u001b[0mn\u001b[0m\u001b[0;34m\u001b[0m\u001b[0;34m\u001b[0m\u001b[0m\n\u001b[0m\u001b[1;32m     11\u001b[0m \u001b[0;34m\u001b[0m\u001b[0m\n\u001b[1;32m     12\u001b[0m \u001b[0mprint\u001b[0m\u001b[0;34m(\u001b[0m\u001b[0mG\u001b[0m\u001b[0;34m(\u001b[0m\u001b[0;36m36\u001b[0m\u001b[0;34m)\u001b[0m\u001b[0;34m)\u001b[0m\u001b[0;34m\u001b[0m\u001b[0;34m\u001b[0m\u001b[0m\n",
            "\u001b[0;32m<ipython-input-7-31a8ae2ecc86>\u001b[0m in \u001b[0;36mF\u001b[0;34m(n)\u001b[0m\n\u001b[1;32m      3\u001b[0m     \u001b[0;32mreturn\u001b[0m \u001b[0mG\u001b[0m\u001b[0;34m(\u001b[0m\u001b[0mn\u001b[0m\u001b[0;34m)\u001b[0m\u001b[0;34m\u001b[0m\u001b[0;34m\u001b[0m\u001b[0m\n\u001b[1;32m      4\u001b[0m   \u001b[0;32melif\u001b[0m \u001b[0mn\u001b[0m \u001b[0;34m>\u001b[0m \u001b[0;36m1\u001b[0m\u001b[0;34m:\u001b[0m\u001b[0;34m\u001b[0m\u001b[0;34m\u001b[0m\u001b[0m\n\u001b[0;32m----> 5\u001b[0;31m     \u001b[0mk\u001b[0m \u001b[0;34m=\u001b[0m \u001b[0mG\u001b[0m\u001b[0;34m(\u001b[0m\u001b[0mn\u001b[0m\u001b[0;34m-\u001b[0m\u001b[0;36m1\u001b[0m\u001b[0;34m)\u001b[0m\u001b[0;34m\u001b[0m\u001b[0;34m\u001b[0m\u001b[0m\n\u001b[0m\u001b[1;32m      6\u001b[0m     \u001b[0;32mreturn\u001b[0m \u001b[0mF\u001b[0m\u001b[0;34m(\u001b[0m\u001b[0mn\u001b[0m\u001b[0;34m-\u001b[0m\u001b[0;36m1\u001b[0m\u001b[0;34m)\u001b[0m \u001b[0;34m-\u001b[0m \u001b[0;36m2\u001b[0m \u001b[0;34m*\u001b[0m \u001b[0mk\u001b[0m\u001b[0;34m\u001b[0m\u001b[0;34m\u001b[0m\u001b[0m\n\u001b[1;32m      7\u001b[0m \u001b[0;34m\u001b[0m\u001b[0m\n",
            "\u001b[0;32m<ipython-input-7-31a8ae2ecc86>\u001b[0m in \u001b[0;36mG\u001b[0;34m(n)\u001b[0m\n\u001b[1;32m      8\u001b[0m \u001b[0;32mdef\u001b[0m \u001b[0mG\u001b[0m\u001b[0;34m(\u001b[0m\u001b[0mn\u001b[0m\u001b[0;34m)\u001b[0m\u001b[0;34m:\u001b[0m\u001b[0;34m\u001b[0m\u001b[0;34m\u001b[0m\u001b[0m\n\u001b[1;32m      9\u001b[0m   \u001b[0;32mif\u001b[0m \u001b[0mn\u001b[0m \u001b[0;34m>\u001b[0m \u001b[0;36m1\u001b[0m\u001b[0;34m:\u001b[0m\u001b[0;34m\u001b[0m\u001b[0;34m\u001b[0m\u001b[0m\n\u001b[0;32m---> 10\u001b[0;31m     \u001b[0;32mreturn\u001b[0m \u001b[0mF\u001b[0m\u001b[0;34m(\u001b[0m\u001b[0mn\u001b[0m\u001b[0;34m-\u001b[0m\u001b[0;36m1\u001b[0m\u001b[0;34m)\u001b[0m \u001b[0;34m+\u001b[0m \u001b[0mG\u001b[0m\u001b[0;34m(\u001b[0m\u001b[0mn\u001b[0m\u001b[0;34m-\u001b[0m\u001b[0;36m1\u001b[0m\u001b[0;34m)\u001b[0m \u001b[0;34m+\u001b[0m \u001b[0mn\u001b[0m\u001b[0;34m\u001b[0m\u001b[0;34m\u001b[0m\u001b[0m\n\u001b[0m\u001b[1;32m     11\u001b[0m \u001b[0;34m\u001b[0m\u001b[0m\n\u001b[1;32m     12\u001b[0m \u001b[0mprint\u001b[0m\u001b[0;34m(\u001b[0m\u001b[0mG\u001b[0m\u001b[0;34m(\u001b[0m\u001b[0;36m36\u001b[0m\u001b[0;34m)\u001b[0m\u001b[0;34m)\u001b[0m\u001b[0;34m\u001b[0m\u001b[0;34m\u001b[0m\u001b[0m\n",
            "\u001b[0;32m<ipython-input-7-31a8ae2ecc86>\u001b[0m in \u001b[0;36mF\u001b[0;34m(n)\u001b[0m\n\u001b[1;32m      3\u001b[0m     \u001b[0;32mreturn\u001b[0m \u001b[0mG\u001b[0m\u001b[0;34m(\u001b[0m\u001b[0mn\u001b[0m\u001b[0;34m)\u001b[0m\u001b[0;34m\u001b[0m\u001b[0;34m\u001b[0m\u001b[0m\n\u001b[1;32m      4\u001b[0m   \u001b[0;32melif\u001b[0m \u001b[0mn\u001b[0m \u001b[0;34m>\u001b[0m \u001b[0;36m1\u001b[0m\u001b[0;34m:\u001b[0m\u001b[0;34m\u001b[0m\u001b[0;34m\u001b[0m\u001b[0m\n\u001b[0;32m----> 5\u001b[0;31m     \u001b[0mk\u001b[0m \u001b[0;34m=\u001b[0m \u001b[0mG\u001b[0m\u001b[0;34m(\u001b[0m\u001b[0mn\u001b[0m\u001b[0;34m-\u001b[0m\u001b[0;36m1\u001b[0m\u001b[0;34m)\u001b[0m\u001b[0;34m\u001b[0m\u001b[0;34m\u001b[0m\u001b[0m\n\u001b[0m\u001b[1;32m      6\u001b[0m     \u001b[0;32mreturn\u001b[0m \u001b[0mF\u001b[0m\u001b[0;34m(\u001b[0m\u001b[0mn\u001b[0m\u001b[0;34m-\u001b[0m\u001b[0;36m1\u001b[0m\u001b[0;34m)\u001b[0m \u001b[0;34m-\u001b[0m \u001b[0;36m2\u001b[0m \u001b[0;34m*\u001b[0m \u001b[0mk\u001b[0m\u001b[0;34m\u001b[0m\u001b[0;34m\u001b[0m\u001b[0m\n\u001b[1;32m      7\u001b[0m \u001b[0;34m\u001b[0m\u001b[0m\n",
            "\u001b[0;32m<ipython-input-7-31a8ae2ecc86>\u001b[0m in \u001b[0;36mG\u001b[0;34m(n)\u001b[0m\n\u001b[1;32m      8\u001b[0m \u001b[0;32mdef\u001b[0m \u001b[0mG\u001b[0m\u001b[0;34m(\u001b[0m\u001b[0mn\u001b[0m\u001b[0;34m)\u001b[0m\u001b[0;34m:\u001b[0m\u001b[0;34m\u001b[0m\u001b[0;34m\u001b[0m\u001b[0m\n\u001b[1;32m      9\u001b[0m   \u001b[0;32mif\u001b[0m \u001b[0mn\u001b[0m \u001b[0;34m>\u001b[0m \u001b[0;36m1\u001b[0m\u001b[0;34m:\u001b[0m\u001b[0;34m\u001b[0m\u001b[0;34m\u001b[0m\u001b[0m\n\u001b[0;32m---> 10\u001b[0;31m     \u001b[0;32mreturn\u001b[0m \u001b[0mF\u001b[0m\u001b[0;34m(\u001b[0m\u001b[0mn\u001b[0m\u001b[0;34m-\u001b[0m\u001b[0;36m1\u001b[0m\u001b[0;34m)\u001b[0m \u001b[0;34m+\u001b[0m \u001b[0mG\u001b[0m\u001b[0;34m(\u001b[0m\u001b[0mn\u001b[0m\u001b[0;34m-\u001b[0m\u001b[0;36m1\u001b[0m\u001b[0;34m)\u001b[0m \u001b[0;34m+\u001b[0m \u001b[0mn\u001b[0m\u001b[0;34m\u001b[0m\u001b[0;34m\u001b[0m\u001b[0m\n\u001b[0m\u001b[1;32m     11\u001b[0m \u001b[0;34m\u001b[0m\u001b[0m\n\u001b[1;32m     12\u001b[0m \u001b[0mprint\u001b[0m\u001b[0;34m(\u001b[0m\u001b[0mG\u001b[0m\u001b[0;34m(\u001b[0m\u001b[0;36m36\u001b[0m\u001b[0;34m)\u001b[0m\u001b[0;34m)\u001b[0m\u001b[0;34m\u001b[0m\u001b[0;34m\u001b[0m\u001b[0m\n",
            "\u001b[0;32m<ipython-input-7-31a8ae2ecc86>\u001b[0m in \u001b[0;36mF\u001b[0;34m(n)\u001b[0m\n\u001b[1;32m      3\u001b[0m     \u001b[0;32mreturn\u001b[0m \u001b[0mG\u001b[0m\u001b[0;34m(\u001b[0m\u001b[0mn\u001b[0m\u001b[0;34m)\u001b[0m\u001b[0;34m\u001b[0m\u001b[0;34m\u001b[0m\u001b[0m\n\u001b[1;32m      4\u001b[0m   \u001b[0;32melif\u001b[0m \u001b[0mn\u001b[0m \u001b[0;34m>\u001b[0m \u001b[0;36m1\u001b[0m\u001b[0;34m:\u001b[0m\u001b[0;34m\u001b[0m\u001b[0;34m\u001b[0m\u001b[0m\n\u001b[0;32m----> 5\u001b[0;31m     \u001b[0mk\u001b[0m \u001b[0;34m=\u001b[0m \u001b[0mG\u001b[0m\u001b[0;34m(\u001b[0m\u001b[0mn\u001b[0m\u001b[0;34m-\u001b[0m\u001b[0;36m1\u001b[0m\u001b[0;34m)\u001b[0m\u001b[0;34m\u001b[0m\u001b[0;34m\u001b[0m\u001b[0m\n\u001b[0m\u001b[1;32m      6\u001b[0m     \u001b[0;32mreturn\u001b[0m \u001b[0mF\u001b[0m\u001b[0;34m(\u001b[0m\u001b[0mn\u001b[0m\u001b[0;34m-\u001b[0m\u001b[0;36m1\u001b[0m\u001b[0;34m)\u001b[0m \u001b[0;34m-\u001b[0m \u001b[0;36m2\u001b[0m \u001b[0;34m*\u001b[0m \u001b[0mk\u001b[0m\u001b[0;34m\u001b[0m\u001b[0;34m\u001b[0m\u001b[0m\n\u001b[1;32m      7\u001b[0m \u001b[0;34m\u001b[0m\u001b[0m\n",
            "\u001b[0;32m<ipython-input-7-31a8ae2ecc86>\u001b[0m in \u001b[0;36mG\u001b[0;34m(n)\u001b[0m\n\u001b[1;32m      8\u001b[0m \u001b[0;32mdef\u001b[0m \u001b[0mG\u001b[0m\u001b[0;34m(\u001b[0m\u001b[0mn\u001b[0m\u001b[0;34m)\u001b[0m\u001b[0;34m:\u001b[0m\u001b[0;34m\u001b[0m\u001b[0;34m\u001b[0m\u001b[0m\n\u001b[1;32m      9\u001b[0m   \u001b[0;32mif\u001b[0m \u001b[0mn\u001b[0m \u001b[0;34m>\u001b[0m \u001b[0;36m1\u001b[0m\u001b[0;34m:\u001b[0m\u001b[0;34m\u001b[0m\u001b[0;34m\u001b[0m\u001b[0m\n\u001b[0;32m---> 10\u001b[0;31m     \u001b[0;32mreturn\u001b[0m \u001b[0mF\u001b[0m\u001b[0;34m(\u001b[0m\u001b[0mn\u001b[0m\u001b[0;34m-\u001b[0m\u001b[0;36m1\u001b[0m\u001b[0;34m)\u001b[0m \u001b[0;34m+\u001b[0m \u001b[0mG\u001b[0m\u001b[0;34m(\u001b[0m\u001b[0mn\u001b[0m\u001b[0;34m-\u001b[0m\u001b[0;36m1\u001b[0m\u001b[0;34m)\u001b[0m \u001b[0;34m+\u001b[0m \u001b[0mn\u001b[0m\u001b[0;34m\u001b[0m\u001b[0;34m\u001b[0m\u001b[0m\n\u001b[0m\u001b[1;32m     11\u001b[0m \u001b[0;34m\u001b[0m\u001b[0m\n\u001b[1;32m     12\u001b[0m \u001b[0mprint\u001b[0m\u001b[0;34m(\u001b[0m\u001b[0mG\u001b[0m\u001b[0;34m(\u001b[0m\u001b[0;36m36\u001b[0m\u001b[0;34m)\u001b[0m\u001b[0;34m)\u001b[0m\u001b[0;34m\u001b[0m\u001b[0;34m\u001b[0m\u001b[0m\n",
            "\u001b[0;31mTypeError\u001b[0m: unsupported operand type(s) for +: 'NoneType' and 'NoneType'"
          ]
        }
      ],
      "source": [
        "def F(n):\n",
        "  if n == 1:\n",
        "    return G(n)\n",
        "  elif n > 1:\n",
        "    k = G(n-1)\n",
        "    return F(n-1) - 2 * k\n",
        "\n",
        "def G(n):\n",
        "  if n > 1:\n",
        "    return F(n-1) + G(n-1) + n\n",
        "\n",
        "print(G(36))"
      ]
    },
    {
      "cell_type": "code",
      "execution_count": null,
      "metadata": {
        "colab": {
          "base_uri": "https://localhost:8080/"
        },
        "id": "ZyeIr0OEXbwW",
        "outputId": "b5222c68-c17a-46a0-eeb7-a539419e1bf8"
      },
      "outputs": [
        {
          "name": "stdout",
          "output_type": "stream",
          "text": [
            "1164\n"
          ]
        }
      ],
      "source": [
        "def F(n):\n",
        "  if n == 1:\n",
        "    return 1\n",
        "  elif n == 2:\n",
        "    return 1\n",
        "  elif n % 2 == 0 and n > 2:\n",
        "    return n * F(n-1) + 2\n",
        "  elif n > 2 and n % 2 != 0:\n",
        "    return 1 + F(n-2) + F(n-1)\n",
        "\n",
        "print(F(9))"
      ]
    },
    {
      "cell_type": "code",
      "execution_count": null,
      "metadata": {
        "colab": {
          "base_uri": "https://localhost:8080/"
        },
        "id": "utmYz0uyz3zw",
        "outputId": "f189b4f7-9273-4731-db0d-ddec484c6c8b"
      },
      "outputs": [
        {
          "name": "stdout",
          "output_type": "stream",
          "text": [
            "13\n"
          ]
        }
      ],
      "source": [
        "def F(n):\n",
        "  if n < 4:\n",
        "    return n-1\n",
        "  elif n >= 4 and n % 3 == 0:\n",
        "    return n + 2*F(n-1)\n",
        "  elif n >= 4 and n % 3 != 0:\n",
        "    return F(n-2) + F(n-3)\n",
        "\n",
        "print(sum(map(int, str(F(25)))))"
      ]
    },
    {
      "cell_type": "code",
      "execution_count": null,
      "metadata": {
        "colab": {
          "base_uri": "https://localhost:8080/"
        },
        "id": "Vs6jmFZu0onT",
        "outputId": "dd1052f1-fb7c-4308-a341-bd4a57a6537c"
      },
      "outputs": [
        {
          "name": "stdout",
          "output_type": "stream",
          "text": [
            "96631265\n"
          ]
        }
      ],
      "source": [
        "ans = []\n",
        "def F(n):\n",
        "  ans.append('*')\n",
        "  if n >=1:\n",
        "    ans.append('*')\n",
        "    F(n-1)\n",
        "    F(n-2)\n",
        "    ans.append('*')\n",
        "\n",
        "F(35)\n",
        "print(len(ans))"
      ]
    },
    {
      "cell_type": "code",
      "execution_count": null,
      "metadata": {
        "colab": {
          "base_uri": "https://localhost:8080/"
        },
        "id": "tUWndlQp4Ss3",
        "outputId": "f64e1f51-1459-451d-9cf9-6ab27eab1a95"
      },
      "outputs": [
        {
          "name": "stdout",
          "output_type": "stream",
          "text": [
            "9920.0\n"
          ]
        }
      ],
      "source": [
        "F = [None] * 5000\n",
        "for n in range(0, 4):\n",
        "    F[n] = n - 1\n",
        "for n in range(4, 5000, 2):\n",
        "    F[n] = F[n-2] + n/2 - F[n-4]\n",
        "\n",
        "print(F[4952] + 2*F[4958] + F[4964])"
      ]
    },
    {
      "cell_type": "code",
      "execution_count": null,
      "metadata": {
        "colab": {
          "base_uri": "https://localhost:8080/",
          "height": 355
        },
        "id": "PmTAL4u31pNB",
        "outputId": "5e13683c-2286-4427-ca3e-c94d43ad59c7"
      },
      "outputs": [
        {
          "ename": "KeyboardInterrupt",
          "evalue": "ignored",
          "output_type": "error",
          "traceback": [
            "\u001b[0;31m---------------------------------------------------------------------------\u001b[0m",
            "\u001b[0;31mKeyboardInterrupt\u001b[0m                         Traceback (most recent call last)",
            "\u001b[0;32m<ipython-input-9-6e928990425e>\u001b[0m in \u001b[0;36m<cell line: 13>\u001b[0;34m()\u001b[0m\n\u001b[1;32m     11\u001b[0m     \u001b[0;32mreturn\u001b[0m \u001b[0mG\u001b[0m\u001b[0;34m(\u001b[0m\u001b[0mn\u001b[0m\u001b[0;34m-\u001b[0m\u001b[0;36m1\u001b[0m\u001b[0;34m)\u001b[0m \u001b[0;34m-\u001b[0m \u001b[0mF\u001b[0m\u001b[0;34m(\u001b[0m\u001b[0mn\u001b[0m\u001b[0;34m-\u001b[0m\u001b[0;36m1\u001b[0m\u001b[0;34m)\u001b[0m\u001b[0;34m\u001b[0m\u001b[0;34m\u001b[0m\u001b[0m\n\u001b[1;32m     12\u001b[0m \u001b[0;34m\u001b[0m\u001b[0m\n\u001b[0;32m---> 13\u001b[0;31m \u001b[0mprint\u001b[0m\u001b[0;34m(\u001b[0m\u001b[0mG\u001b[0m\u001b[0;34m(\u001b[0m\u001b[0;36m34\u001b[0m\u001b[0;34m)\u001b[0m\u001b[0;34m)\u001b[0m\u001b[0;34m\u001b[0m\u001b[0;34m\u001b[0m\u001b[0m\n\u001b[0m",
            "\u001b[0;32m<ipython-input-9-6e928990425e>\u001b[0m in \u001b[0;36mG\u001b[0;34m(n)\u001b[0m\n\u001b[1;32m      9\u001b[0m     \u001b[0;32mreturn\u001b[0m \u001b[0;36m0\u001b[0m\u001b[0;34m\u001b[0m\u001b[0;34m\u001b[0m\u001b[0m\n\u001b[1;32m     10\u001b[0m   \u001b[0;32mif\u001b[0m \u001b[0mn\u001b[0m \u001b[0;34m>\u001b[0m \u001b[0;36m1\u001b[0m\u001b[0;34m:\u001b[0m\u001b[0;34m\u001b[0m\u001b[0;34m\u001b[0m\u001b[0m\n\u001b[0;32m---> 11\u001b[0;31m     \u001b[0;32mreturn\u001b[0m \u001b[0mG\u001b[0m\u001b[0;34m(\u001b[0m\u001b[0mn\u001b[0m\u001b[0;34m-\u001b[0m\u001b[0;36m1\u001b[0m\u001b[0;34m)\u001b[0m \u001b[0;34m-\u001b[0m \u001b[0mF\u001b[0m\u001b[0;34m(\u001b[0m\u001b[0mn\u001b[0m\u001b[0;34m-\u001b[0m\u001b[0;36m1\u001b[0m\u001b[0;34m)\u001b[0m\u001b[0;34m\u001b[0m\u001b[0;34m\u001b[0m\u001b[0m\n\u001b[0m\u001b[1;32m     12\u001b[0m \u001b[0;34m\u001b[0m\u001b[0m\n\u001b[1;32m     13\u001b[0m \u001b[0mprint\u001b[0m\u001b[0;34m(\u001b[0m\u001b[0mG\u001b[0m\u001b[0;34m(\u001b[0m\u001b[0;36m34\u001b[0m\u001b[0;34m)\u001b[0m\u001b[0;34m)\u001b[0m\u001b[0;34m\u001b[0m\u001b[0;34m\u001b[0m\u001b[0m\n",
            "\u001b[0;32m<ipython-input-9-6e928990425e>\u001b[0m in \u001b[0;36mG\u001b[0;34m(n)\u001b[0m\n\u001b[1;32m      9\u001b[0m     \u001b[0;32mreturn\u001b[0m \u001b[0;36m0\u001b[0m\u001b[0;34m\u001b[0m\u001b[0;34m\u001b[0m\u001b[0m\n\u001b[1;32m     10\u001b[0m   \u001b[0;32mif\u001b[0m \u001b[0mn\u001b[0m \u001b[0;34m>\u001b[0m \u001b[0;36m1\u001b[0m\u001b[0;34m:\u001b[0m\u001b[0;34m\u001b[0m\u001b[0;34m\u001b[0m\u001b[0m\n\u001b[0;32m---> 11\u001b[0;31m     \u001b[0;32mreturn\u001b[0m \u001b[0mG\u001b[0m\u001b[0;34m(\u001b[0m\u001b[0mn\u001b[0m\u001b[0;34m-\u001b[0m\u001b[0;36m1\u001b[0m\u001b[0;34m)\u001b[0m \u001b[0;34m-\u001b[0m \u001b[0mF\u001b[0m\u001b[0;34m(\u001b[0m\u001b[0mn\u001b[0m\u001b[0;34m-\u001b[0m\u001b[0;36m1\u001b[0m\u001b[0;34m)\u001b[0m\u001b[0;34m\u001b[0m\u001b[0;34m\u001b[0m\u001b[0m\n\u001b[0m\u001b[1;32m     12\u001b[0m \u001b[0;34m\u001b[0m\u001b[0m\n\u001b[1;32m     13\u001b[0m \u001b[0mprint\u001b[0m\u001b[0;34m(\u001b[0m\u001b[0mG\u001b[0m\u001b[0;34m(\u001b[0m\u001b[0;36m34\u001b[0m\u001b[0;34m)\u001b[0m\u001b[0;34m)\u001b[0m\u001b[0;34m\u001b[0m\u001b[0;34m\u001b[0m\u001b[0m\n",
            "\u001b[0;32m<ipython-input-9-6e928990425e>\u001b[0m in \u001b[0;36mG\u001b[0;34m(n)\u001b[0m\n\u001b[1;32m      9\u001b[0m     \u001b[0;32mreturn\u001b[0m \u001b[0;36m0\u001b[0m\u001b[0;34m\u001b[0m\u001b[0;34m\u001b[0m\u001b[0m\n\u001b[1;32m     10\u001b[0m   \u001b[0;32mif\u001b[0m \u001b[0mn\u001b[0m \u001b[0;34m>\u001b[0m \u001b[0;36m1\u001b[0m\u001b[0;34m:\u001b[0m\u001b[0;34m\u001b[0m\u001b[0;34m\u001b[0m\u001b[0m\n\u001b[0;32m---> 11\u001b[0;31m     \u001b[0;32mreturn\u001b[0m \u001b[0mG\u001b[0m\u001b[0;34m(\u001b[0m\u001b[0mn\u001b[0m\u001b[0;34m-\u001b[0m\u001b[0;36m1\u001b[0m\u001b[0;34m)\u001b[0m \u001b[0;34m-\u001b[0m \u001b[0mF\u001b[0m\u001b[0;34m(\u001b[0m\u001b[0mn\u001b[0m\u001b[0;34m-\u001b[0m\u001b[0;36m1\u001b[0m\u001b[0;34m)\u001b[0m\u001b[0;34m\u001b[0m\u001b[0;34m\u001b[0m\u001b[0m\n\u001b[0m\u001b[1;32m     12\u001b[0m \u001b[0;34m\u001b[0m\u001b[0m\n\u001b[1;32m     13\u001b[0m \u001b[0mprint\u001b[0m\u001b[0;34m(\u001b[0m\u001b[0mG\u001b[0m\u001b[0;34m(\u001b[0m\u001b[0;36m34\u001b[0m\u001b[0;34m)\u001b[0m\u001b[0;34m)\u001b[0m\u001b[0;34m\u001b[0m\u001b[0;34m\u001b[0m\u001b[0m\n",
            "\u001b[0;32m<ipython-input-9-6e928990425e>\u001b[0m in \u001b[0;36mG\u001b[0;34m(n)\u001b[0m\n\u001b[1;32m      9\u001b[0m     \u001b[0;32mreturn\u001b[0m \u001b[0;36m0\u001b[0m\u001b[0;34m\u001b[0m\u001b[0;34m\u001b[0m\u001b[0m\n\u001b[1;32m     10\u001b[0m   \u001b[0;32mif\u001b[0m \u001b[0mn\u001b[0m \u001b[0;34m>\u001b[0m \u001b[0;36m1\u001b[0m\u001b[0;34m:\u001b[0m\u001b[0;34m\u001b[0m\u001b[0;34m\u001b[0m\u001b[0m\n\u001b[0;32m---> 11\u001b[0;31m     \u001b[0;32mreturn\u001b[0m \u001b[0mG\u001b[0m\u001b[0;34m(\u001b[0m\u001b[0mn\u001b[0m\u001b[0;34m-\u001b[0m\u001b[0;36m1\u001b[0m\u001b[0;34m)\u001b[0m \u001b[0;34m-\u001b[0m \u001b[0mF\u001b[0m\u001b[0;34m(\u001b[0m\u001b[0mn\u001b[0m\u001b[0;34m-\u001b[0m\u001b[0;36m1\u001b[0m\u001b[0;34m)\u001b[0m\u001b[0;34m\u001b[0m\u001b[0;34m\u001b[0m\u001b[0m\n\u001b[0m\u001b[1;32m     12\u001b[0m \u001b[0;34m\u001b[0m\u001b[0m\n\u001b[1;32m     13\u001b[0m \u001b[0mprint\u001b[0m\u001b[0;34m(\u001b[0m\u001b[0mG\u001b[0m\u001b[0;34m(\u001b[0m\u001b[0;36m34\u001b[0m\u001b[0;34m)\u001b[0m\u001b[0;34m)\u001b[0m\u001b[0;34m\u001b[0m\u001b[0;34m\u001b[0m\u001b[0m\n",
            "\u001b[0;32m<ipython-input-9-6e928990425e>\u001b[0m in \u001b[0;36mG\u001b[0;34m(n)\u001b[0m\n\u001b[1;32m      9\u001b[0m     \u001b[0;32mreturn\u001b[0m \u001b[0;36m0\u001b[0m\u001b[0;34m\u001b[0m\u001b[0;34m\u001b[0m\u001b[0m\n\u001b[1;32m     10\u001b[0m   \u001b[0;32mif\u001b[0m \u001b[0mn\u001b[0m \u001b[0;34m>\u001b[0m \u001b[0;36m1\u001b[0m\u001b[0;34m:\u001b[0m\u001b[0;34m\u001b[0m\u001b[0;34m\u001b[0m\u001b[0m\n\u001b[0;32m---> 11\u001b[0;31m     \u001b[0;32mreturn\u001b[0m \u001b[0mG\u001b[0m\u001b[0;34m(\u001b[0m\u001b[0mn\u001b[0m\u001b[0;34m-\u001b[0m\u001b[0;36m1\u001b[0m\u001b[0;34m)\u001b[0m \u001b[0;34m-\u001b[0m \u001b[0mF\u001b[0m\u001b[0;34m(\u001b[0m\u001b[0mn\u001b[0m\u001b[0;34m-\u001b[0m\u001b[0;36m1\u001b[0m\u001b[0;34m)\u001b[0m\u001b[0;34m\u001b[0m\u001b[0;34m\u001b[0m\u001b[0m\n\u001b[0m\u001b[1;32m     12\u001b[0m \u001b[0;34m\u001b[0m\u001b[0m\n\u001b[1;32m     13\u001b[0m \u001b[0mprint\u001b[0m\u001b[0;34m(\u001b[0m\u001b[0mG\u001b[0m\u001b[0;34m(\u001b[0m\u001b[0;36m34\u001b[0m\u001b[0;34m)\u001b[0m\u001b[0;34m)\u001b[0m\u001b[0;34m\u001b[0m\u001b[0;34m\u001b[0m\u001b[0m\n",
            "\u001b[0;32m<ipython-input-9-6e928990425e>\u001b[0m in \u001b[0;36mG\u001b[0;34m(n)\u001b[0m\n\u001b[1;32m      9\u001b[0m     \u001b[0;32mreturn\u001b[0m \u001b[0;36m0\u001b[0m\u001b[0;34m\u001b[0m\u001b[0;34m\u001b[0m\u001b[0m\n\u001b[1;32m     10\u001b[0m   \u001b[0;32mif\u001b[0m \u001b[0mn\u001b[0m \u001b[0;34m>\u001b[0m \u001b[0;36m1\u001b[0m\u001b[0;34m:\u001b[0m\u001b[0;34m\u001b[0m\u001b[0;34m\u001b[0m\u001b[0m\n\u001b[0;32m---> 11\u001b[0;31m     \u001b[0;32mreturn\u001b[0m \u001b[0mG\u001b[0m\u001b[0;34m(\u001b[0m\u001b[0mn\u001b[0m\u001b[0;34m-\u001b[0m\u001b[0;36m1\u001b[0m\u001b[0;34m)\u001b[0m \u001b[0;34m-\u001b[0m \u001b[0mF\u001b[0m\u001b[0;34m(\u001b[0m\u001b[0mn\u001b[0m\u001b[0;34m-\u001b[0m\u001b[0;36m1\u001b[0m\u001b[0;34m)\u001b[0m\u001b[0;34m\u001b[0m\u001b[0;34m\u001b[0m\u001b[0m\n\u001b[0m\u001b[1;32m     12\u001b[0m \u001b[0;34m\u001b[0m\u001b[0m\n\u001b[1;32m     13\u001b[0m \u001b[0mprint\u001b[0m\u001b[0;34m(\u001b[0m\u001b[0mG\u001b[0m\u001b[0;34m(\u001b[0m\u001b[0;36m34\u001b[0m\u001b[0;34m)\u001b[0m\u001b[0;34m)\u001b[0m\u001b[0;34m\u001b[0m\u001b[0;34m\u001b[0m\u001b[0m\n",
            "\u001b[0;32m<ipython-input-9-6e928990425e>\u001b[0m in \u001b[0;36mG\u001b[0;34m(n)\u001b[0m\n\u001b[1;32m      9\u001b[0m     \u001b[0;32mreturn\u001b[0m \u001b[0;36m0\u001b[0m\u001b[0;34m\u001b[0m\u001b[0;34m\u001b[0m\u001b[0m\n\u001b[1;32m     10\u001b[0m   \u001b[0;32mif\u001b[0m \u001b[0mn\u001b[0m \u001b[0;34m>\u001b[0m \u001b[0;36m1\u001b[0m\u001b[0;34m:\u001b[0m\u001b[0;34m\u001b[0m\u001b[0;34m\u001b[0m\u001b[0m\n\u001b[0;32m---> 11\u001b[0;31m     \u001b[0;32mreturn\u001b[0m \u001b[0mG\u001b[0m\u001b[0;34m(\u001b[0m\u001b[0mn\u001b[0m\u001b[0;34m-\u001b[0m\u001b[0;36m1\u001b[0m\u001b[0;34m)\u001b[0m \u001b[0;34m-\u001b[0m \u001b[0mF\u001b[0m\u001b[0;34m(\u001b[0m\u001b[0mn\u001b[0m\u001b[0;34m-\u001b[0m\u001b[0;36m1\u001b[0m\u001b[0;34m)\u001b[0m\u001b[0;34m\u001b[0m\u001b[0;34m\u001b[0m\u001b[0m\n\u001b[0m\u001b[1;32m     12\u001b[0m \u001b[0;34m\u001b[0m\u001b[0m\n\u001b[1;32m     13\u001b[0m \u001b[0mprint\u001b[0m\u001b[0;34m(\u001b[0m\u001b[0mG\u001b[0m\u001b[0;34m(\u001b[0m\u001b[0;36m34\u001b[0m\u001b[0;34m)\u001b[0m\u001b[0;34m)\u001b[0m\u001b[0;34m\u001b[0m\u001b[0;34m\u001b[0m\u001b[0m\n",
            "\u001b[0;32m<ipython-input-9-6e928990425e>\u001b[0m in \u001b[0;36mG\u001b[0;34m(n)\u001b[0m\n\u001b[1;32m      9\u001b[0m     \u001b[0;32mreturn\u001b[0m \u001b[0;36m0\u001b[0m\u001b[0;34m\u001b[0m\u001b[0;34m\u001b[0m\u001b[0m\n\u001b[1;32m     10\u001b[0m   \u001b[0;32mif\u001b[0m \u001b[0mn\u001b[0m \u001b[0;34m>\u001b[0m \u001b[0;36m1\u001b[0m\u001b[0;34m:\u001b[0m\u001b[0;34m\u001b[0m\u001b[0;34m\u001b[0m\u001b[0m\n\u001b[0;32m---> 11\u001b[0;31m     \u001b[0;32mreturn\u001b[0m \u001b[0mG\u001b[0m\u001b[0;34m(\u001b[0m\u001b[0mn\u001b[0m\u001b[0;34m-\u001b[0m\u001b[0;36m1\u001b[0m\u001b[0;34m)\u001b[0m \u001b[0;34m-\u001b[0m \u001b[0mF\u001b[0m\u001b[0;34m(\u001b[0m\u001b[0mn\u001b[0m\u001b[0;34m-\u001b[0m\u001b[0;36m1\u001b[0m\u001b[0;34m)\u001b[0m\u001b[0;34m\u001b[0m\u001b[0;34m\u001b[0m\u001b[0m\n\u001b[0m\u001b[1;32m     12\u001b[0m \u001b[0;34m\u001b[0m\u001b[0m\n\u001b[1;32m     13\u001b[0m \u001b[0mprint\u001b[0m\u001b[0;34m(\u001b[0m\u001b[0mG\u001b[0m\u001b[0;34m(\u001b[0m\u001b[0;36m34\u001b[0m\u001b[0;34m)\u001b[0m\u001b[0;34m)\u001b[0m\u001b[0;34m\u001b[0m\u001b[0;34m\u001b[0m\u001b[0m\n",
            "\u001b[0;32m<ipython-input-9-6e928990425e>\u001b[0m in \u001b[0;36mG\u001b[0;34m(n)\u001b[0m\n\u001b[1;32m      9\u001b[0m     \u001b[0;32mreturn\u001b[0m \u001b[0;36m0\u001b[0m\u001b[0;34m\u001b[0m\u001b[0;34m\u001b[0m\u001b[0m\n\u001b[1;32m     10\u001b[0m   \u001b[0;32mif\u001b[0m \u001b[0mn\u001b[0m \u001b[0;34m>\u001b[0m \u001b[0;36m1\u001b[0m\u001b[0;34m:\u001b[0m\u001b[0;34m\u001b[0m\u001b[0;34m\u001b[0m\u001b[0m\n\u001b[0;32m---> 11\u001b[0;31m     \u001b[0;32mreturn\u001b[0m \u001b[0mG\u001b[0m\u001b[0;34m(\u001b[0m\u001b[0mn\u001b[0m\u001b[0;34m-\u001b[0m\u001b[0;36m1\u001b[0m\u001b[0;34m)\u001b[0m \u001b[0;34m-\u001b[0m \u001b[0mF\u001b[0m\u001b[0;34m(\u001b[0m\u001b[0mn\u001b[0m\u001b[0;34m-\u001b[0m\u001b[0;36m1\u001b[0m\u001b[0;34m)\u001b[0m\u001b[0;34m\u001b[0m\u001b[0;34m\u001b[0m\u001b[0m\n\u001b[0m\u001b[1;32m     12\u001b[0m \u001b[0;34m\u001b[0m\u001b[0m\n\u001b[1;32m     13\u001b[0m \u001b[0mprint\u001b[0m\u001b[0;34m(\u001b[0m\u001b[0mG\u001b[0m\u001b[0;34m(\u001b[0m\u001b[0;36m34\u001b[0m\u001b[0;34m)\u001b[0m\u001b[0;34m)\u001b[0m\u001b[0;34m\u001b[0m\u001b[0;34m\u001b[0m\u001b[0m\n",
            "\u001b[0;32m<ipython-input-9-6e928990425e>\u001b[0m in \u001b[0;36mF\u001b[0;34m(n)\u001b[0m\n\u001b[1;32m      3\u001b[0m     \u001b[0;32mreturn\u001b[0m \u001b[0;36m1\u001b[0m\u001b[0;34m\u001b[0m\u001b[0;34m\u001b[0m\u001b[0m\n\u001b[1;32m      4\u001b[0m   \u001b[0;32mif\u001b[0m \u001b[0mn\u001b[0m \u001b[0;34m>\u001b[0m \u001b[0;36m1\u001b[0m\u001b[0;34m:\u001b[0m\u001b[0;34m\u001b[0m\u001b[0;34m\u001b[0m\u001b[0m\n\u001b[0;32m----> 5\u001b[0;31m     \u001b[0;32mreturn\u001b[0m \u001b[0mF\u001b[0m\u001b[0;34m(\u001b[0m\u001b[0mn\u001b[0m\u001b[0;34m-\u001b[0m\u001b[0;36m1\u001b[0m\u001b[0;34m)\u001b[0m \u001b[0;34m-\u001b[0m \u001b[0mG\u001b[0m\u001b[0;34m(\u001b[0m\u001b[0mn\u001b[0m\u001b[0;34m-\u001b[0m\u001b[0;36m1\u001b[0m\u001b[0;34m)\u001b[0m\u001b[0;34m\u001b[0m\u001b[0;34m\u001b[0m\u001b[0m\n\u001b[0m\u001b[1;32m      6\u001b[0m \u001b[0;34m\u001b[0m\u001b[0m\n\u001b[1;32m      7\u001b[0m \u001b[0;32mdef\u001b[0m \u001b[0mG\u001b[0m\u001b[0;34m(\u001b[0m\u001b[0mn\u001b[0m\u001b[0;34m)\u001b[0m\u001b[0;34m:\u001b[0m\u001b[0;34m\u001b[0m\u001b[0;34m\u001b[0m\u001b[0m\n",
            "\u001b[0;32m<ipython-input-9-6e928990425e>\u001b[0m in \u001b[0;36mG\u001b[0;34m(n)\u001b[0m\n\u001b[1;32m      9\u001b[0m     \u001b[0;32mreturn\u001b[0m \u001b[0;36m0\u001b[0m\u001b[0;34m\u001b[0m\u001b[0;34m\u001b[0m\u001b[0m\n\u001b[1;32m     10\u001b[0m   \u001b[0;32mif\u001b[0m \u001b[0mn\u001b[0m \u001b[0;34m>\u001b[0m \u001b[0;36m1\u001b[0m\u001b[0;34m:\u001b[0m\u001b[0;34m\u001b[0m\u001b[0;34m\u001b[0m\u001b[0m\n\u001b[0;32m---> 11\u001b[0;31m     \u001b[0;32mreturn\u001b[0m \u001b[0mG\u001b[0m\u001b[0;34m(\u001b[0m\u001b[0mn\u001b[0m\u001b[0;34m-\u001b[0m\u001b[0;36m1\u001b[0m\u001b[0;34m)\u001b[0m \u001b[0;34m-\u001b[0m \u001b[0mF\u001b[0m\u001b[0;34m(\u001b[0m\u001b[0mn\u001b[0m\u001b[0;34m-\u001b[0m\u001b[0;36m1\u001b[0m\u001b[0;34m)\u001b[0m\u001b[0;34m\u001b[0m\u001b[0;34m\u001b[0m\u001b[0m\n\u001b[0m\u001b[1;32m     12\u001b[0m \u001b[0;34m\u001b[0m\u001b[0m\n\u001b[1;32m     13\u001b[0m \u001b[0mprint\u001b[0m\u001b[0;34m(\u001b[0m\u001b[0mG\u001b[0m\u001b[0;34m(\u001b[0m\u001b[0;36m34\u001b[0m\u001b[0;34m)\u001b[0m\u001b[0;34m)\u001b[0m\u001b[0;34m\u001b[0m\u001b[0;34m\u001b[0m\u001b[0m\n",
            "\u001b[0;32m<ipython-input-9-6e928990425e>\u001b[0m in \u001b[0;36mG\u001b[0;34m(n)\u001b[0m\n\u001b[1;32m      9\u001b[0m     \u001b[0;32mreturn\u001b[0m \u001b[0;36m0\u001b[0m\u001b[0;34m\u001b[0m\u001b[0;34m\u001b[0m\u001b[0m\n\u001b[1;32m     10\u001b[0m   \u001b[0;32mif\u001b[0m \u001b[0mn\u001b[0m \u001b[0;34m>\u001b[0m \u001b[0;36m1\u001b[0m\u001b[0;34m:\u001b[0m\u001b[0;34m\u001b[0m\u001b[0;34m\u001b[0m\u001b[0m\n\u001b[0;32m---> 11\u001b[0;31m     \u001b[0;32mreturn\u001b[0m \u001b[0mG\u001b[0m\u001b[0;34m(\u001b[0m\u001b[0mn\u001b[0m\u001b[0;34m-\u001b[0m\u001b[0;36m1\u001b[0m\u001b[0;34m)\u001b[0m \u001b[0;34m-\u001b[0m \u001b[0mF\u001b[0m\u001b[0;34m(\u001b[0m\u001b[0mn\u001b[0m\u001b[0;34m-\u001b[0m\u001b[0;36m1\u001b[0m\u001b[0;34m)\u001b[0m\u001b[0;34m\u001b[0m\u001b[0;34m\u001b[0m\u001b[0m\n\u001b[0m\u001b[1;32m     12\u001b[0m \u001b[0;34m\u001b[0m\u001b[0m\n\u001b[1;32m     13\u001b[0m \u001b[0mprint\u001b[0m\u001b[0;34m(\u001b[0m\u001b[0mG\u001b[0m\u001b[0;34m(\u001b[0m\u001b[0;36m34\u001b[0m\u001b[0;34m)\u001b[0m\u001b[0;34m)\u001b[0m\u001b[0;34m\u001b[0m\u001b[0;34m\u001b[0m\u001b[0m\n",
            "\u001b[0;32m<ipython-input-9-6e928990425e>\u001b[0m in \u001b[0;36mG\u001b[0;34m(n)\u001b[0m\n\u001b[1;32m      9\u001b[0m     \u001b[0;32mreturn\u001b[0m \u001b[0;36m0\u001b[0m\u001b[0;34m\u001b[0m\u001b[0;34m\u001b[0m\u001b[0m\n\u001b[1;32m     10\u001b[0m   \u001b[0;32mif\u001b[0m \u001b[0mn\u001b[0m \u001b[0;34m>\u001b[0m \u001b[0;36m1\u001b[0m\u001b[0;34m:\u001b[0m\u001b[0;34m\u001b[0m\u001b[0;34m\u001b[0m\u001b[0m\n\u001b[0;32m---> 11\u001b[0;31m     \u001b[0;32mreturn\u001b[0m \u001b[0mG\u001b[0m\u001b[0;34m(\u001b[0m\u001b[0mn\u001b[0m\u001b[0;34m-\u001b[0m\u001b[0;36m1\u001b[0m\u001b[0;34m)\u001b[0m \u001b[0;34m-\u001b[0m \u001b[0mF\u001b[0m\u001b[0;34m(\u001b[0m\u001b[0mn\u001b[0m\u001b[0;34m-\u001b[0m\u001b[0;36m1\u001b[0m\u001b[0;34m)\u001b[0m\u001b[0;34m\u001b[0m\u001b[0;34m\u001b[0m\u001b[0m\n\u001b[0m\u001b[1;32m     12\u001b[0m \u001b[0;34m\u001b[0m\u001b[0m\n\u001b[1;32m     13\u001b[0m \u001b[0mprint\u001b[0m\u001b[0;34m(\u001b[0m\u001b[0mG\u001b[0m\u001b[0;34m(\u001b[0m\u001b[0;36m34\u001b[0m\u001b[0;34m)\u001b[0m\u001b[0;34m)\u001b[0m\u001b[0;34m\u001b[0m\u001b[0;34m\u001b[0m\u001b[0m\n",
            "\u001b[0;32m<ipython-input-9-6e928990425e>\u001b[0m in \u001b[0;36mF\u001b[0;34m(n)\u001b[0m\n\u001b[1;32m      3\u001b[0m     \u001b[0;32mreturn\u001b[0m \u001b[0;36m1\u001b[0m\u001b[0;34m\u001b[0m\u001b[0;34m\u001b[0m\u001b[0m\n\u001b[1;32m      4\u001b[0m   \u001b[0;32mif\u001b[0m \u001b[0mn\u001b[0m \u001b[0;34m>\u001b[0m \u001b[0;36m1\u001b[0m\u001b[0;34m:\u001b[0m\u001b[0;34m\u001b[0m\u001b[0;34m\u001b[0m\u001b[0m\n\u001b[0;32m----> 5\u001b[0;31m     \u001b[0;32mreturn\u001b[0m \u001b[0mF\u001b[0m\u001b[0;34m(\u001b[0m\u001b[0mn\u001b[0m\u001b[0;34m-\u001b[0m\u001b[0;36m1\u001b[0m\u001b[0;34m)\u001b[0m \u001b[0;34m-\u001b[0m \u001b[0mG\u001b[0m\u001b[0;34m(\u001b[0m\u001b[0mn\u001b[0m\u001b[0;34m-\u001b[0m\u001b[0;36m1\u001b[0m\u001b[0;34m)\u001b[0m\u001b[0;34m\u001b[0m\u001b[0;34m\u001b[0m\u001b[0m\n\u001b[0m\u001b[1;32m      6\u001b[0m \u001b[0;34m\u001b[0m\u001b[0m\n\u001b[1;32m      7\u001b[0m \u001b[0;32mdef\u001b[0m \u001b[0mG\u001b[0m\u001b[0;34m(\u001b[0m\u001b[0mn\u001b[0m\u001b[0;34m)\u001b[0m\u001b[0;34m:\u001b[0m\u001b[0;34m\u001b[0m\u001b[0;34m\u001b[0m\u001b[0m\n",
            "\u001b[0;32m<ipython-input-9-6e928990425e>\u001b[0m in \u001b[0;36mG\u001b[0;34m(n)\u001b[0m\n\u001b[1;32m      9\u001b[0m     \u001b[0;32mreturn\u001b[0m \u001b[0;36m0\u001b[0m\u001b[0;34m\u001b[0m\u001b[0;34m\u001b[0m\u001b[0m\n\u001b[1;32m     10\u001b[0m   \u001b[0;32mif\u001b[0m \u001b[0mn\u001b[0m \u001b[0;34m>\u001b[0m \u001b[0;36m1\u001b[0m\u001b[0;34m:\u001b[0m\u001b[0;34m\u001b[0m\u001b[0;34m\u001b[0m\u001b[0m\n\u001b[0;32m---> 11\u001b[0;31m     \u001b[0;32mreturn\u001b[0m \u001b[0mG\u001b[0m\u001b[0;34m(\u001b[0m\u001b[0mn\u001b[0m\u001b[0;34m-\u001b[0m\u001b[0;36m1\u001b[0m\u001b[0;34m)\u001b[0m \u001b[0;34m-\u001b[0m \u001b[0mF\u001b[0m\u001b[0;34m(\u001b[0m\u001b[0mn\u001b[0m\u001b[0;34m-\u001b[0m\u001b[0;36m1\u001b[0m\u001b[0;34m)\u001b[0m\u001b[0;34m\u001b[0m\u001b[0;34m\u001b[0m\u001b[0m\n\u001b[0m\u001b[1;32m     12\u001b[0m \u001b[0;34m\u001b[0m\u001b[0m\n\u001b[1;32m     13\u001b[0m \u001b[0mprint\u001b[0m\u001b[0;34m(\u001b[0m\u001b[0mG\u001b[0m\u001b[0;34m(\u001b[0m\u001b[0;36m34\u001b[0m\u001b[0;34m)\u001b[0m\u001b[0;34m)\u001b[0m\u001b[0;34m\u001b[0m\u001b[0;34m\u001b[0m\u001b[0m\n",
            "\u001b[0;32m<ipython-input-9-6e928990425e>\u001b[0m in \u001b[0;36mG\u001b[0;34m(n)\u001b[0m\n\u001b[1;32m      9\u001b[0m     \u001b[0;32mreturn\u001b[0m \u001b[0;36m0\u001b[0m\u001b[0;34m\u001b[0m\u001b[0;34m\u001b[0m\u001b[0m\n\u001b[1;32m     10\u001b[0m   \u001b[0;32mif\u001b[0m \u001b[0mn\u001b[0m \u001b[0;34m>\u001b[0m \u001b[0;36m1\u001b[0m\u001b[0;34m:\u001b[0m\u001b[0;34m\u001b[0m\u001b[0;34m\u001b[0m\u001b[0m\n\u001b[0;32m---> 11\u001b[0;31m     \u001b[0;32mreturn\u001b[0m \u001b[0mG\u001b[0m\u001b[0;34m(\u001b[0m\u001b[0mn\u001b[0m\u001b[0;34m-\u001b[0m\u001b[0;36m1\u001b[0m\u001b[0;34m)\u001b[0m \u001b[0;34m-\u001b[0m \u001b[0mF\u001b[0m\u001b[0;34m(\u001b[0m\u001b[0mn\u001b[0m\u001b[0;34m-\u001b[0m\u001b[0;36m1\u001b[0m\u001b[0;34m)\u001b[0m\u001b[0;34m\u001b[0m\u001b[0;34m\u001b[0m\u001b[0m\n\u001b[0m\u001b[1;32m     12\u001b[0m \u001b[0;34m\u001b[0m\u001b[0m\n\u001b[1;32m     13\u001b[0m \u001b[0mprint\u001b[0m\u001b[0;34m(\u001b[0m\u001b[0mG\u001b[0m\u001b[0;34m(\u001b[0m\u001b[0;36m34\u001b[0m\u001b[0;34m)\u001b[0m\u001b[0;34m)\u001b[0m\u001b[0;34m\u001b[0m\u001b[0;34m\u001b[0m\u001b[0m\n",
            "\u001b[0;32m<ipython-input-9-6e928990425e>\u001b[0m in \u001b[0;36mF\u001b[0;34m(n)\u001b[0m\n\u001b[1;32m      3\u001b[0m     \u001b[0;32mreturn\u001b[0m \u001b[0;36m1\u001b[0m\u001b[0;34m\u001b[0m\u001b[0;34m\u001b[0m\u001b[0m\n\u001b[1;32m      4\u001b[0m   \u001b[0;32mif\u001b[0m \u001b[0mn\u001b[0m \u001b[0;34m>\u001b[0m \u001b[0;36m1\u001b[0m\u001b[0;34m:\u001b[0m\u001b[0;34m\u001b[0m\u001b[0;34m\u001b[0m\u001b[0m\n\u001b[0;32m----> 5\u001b[0;31m     \u001b[0;32mreturn\u001b[0m \u001b[0mF\u001b[0m\u001b[0;34m(\u001b[0m\u001b[0mn\u001b[0m\u001b[0;34m-\u001b[0m\u001b[0;36m1\u001b[0m\u001b[0;34m)\u001b[0m \u001b[0;34m-\u001b[0m \u001b[0mG\u001b[0m\u001b[0;34m(\u001b[0m\u001b[0mn\u001b[0m\u001b[0;34m-\u001b[0m\u001b[0;36m1\u001b[0m\u001b[0;34m)\u001b[0m\u001b[0;34m\u001b[0m\u001b[0;34m\u001b[0m\u001b[0m\n\u001b[0m\u001b[1;32m      6\u001b[0m \u001b[0;34m\u001b[0m\u001b[0m\n\u001b[1;32m      7\u001b[0m \u001b[0;32mdef\u001b[0m \u001b[0mG\u001b[0m\u001b[0;34m(\u001b[0m\u001b[0mn\u001b[0m\u001b[0;34m)\u001b[0m\u001b[0;34m:\u001b[0m\u001b[0;34m\u001b[0m\u001b[0;34m\u001b[0m\u001b[0m\n",
            "\u001b[0;32m<ipython-input-9-6e928990425e>\u001b[0m in \u001b[0;36mF\u001b[0;34m(n)\u001b[0m\n\u001b[1;32m      3\u001b[0m     \u001b[0;32mreturn\u001b[0m \u001b[0;36m1\u001b[0m\u001b[0;34m\u001b[0m\u001b[0;34m\u001b[0m\u001b[0m\n\u001b[1;32m      4\u001b[0m   \u001b[0;32mif\u001b[0m \u001b[0mn\u001b[0m \u001b[0;34m>\u001b[0m \u001b[0;36m1\u001b[0m\u001b[0;34m:\u001b[0m\u001b[0;34m\u001b[0m\u001b[0;34m\u001b[0m\u001b[0m\n\u001b[0;32m----> 5\u001b[0;31m     \u001b[0;32mreturn\u001b[0m \u001b[0mF\u001b[0m\u001b[0;34m(\u001b[0m\u001b[0mn\u001b[0m\u001b[0;34m-\u001b[0m\u001b[0;36m1\u001b[0m\u001b[0;34m)\u001b[0m \u001b[0;34m-\u001b[0m \u001b[0mG\u001b[0m\u001b[0;34m(\u001b[0m\u001b[0mn\u001b[0m\u001b[0;34m-\u001b[0m\u001b[0;36m1\u001b[0m\u001b[0;34m)\u001b[0m\u001b[0;34m\u001b[0m\u001b[0;34m\u001b[0m\u001b[0m\n\u001b[0m\u001b[1;32m      6\u001b[0m \u001b[0;34m\u001b[0m\u001b[0m\n\u001b[1;32m      7\u001b[0m \u001b[0;32mdef\u001b[0m \u001b[0mG\u001b[0m\u001b[0;34m(\u001b[0m\u001b[0mn\u001b[0m\u001b[0;34m)\u001b[0m\u001b[0;34m:\u001b[0m\u001b[0;34m\u001b[0m\u001b[0;34m\u001b[0m\u001b[0m\n",
            "\u001b[0;32m<ipython-input-9-6e928990425e>\u001b[0m in \u001b[0;36mG\u001b[0;34m(n)\u001b[0m\n\u001b[1;32m      9\u001b[0m     \u001b[0;32mreturn\u001b[0m \u001b[0;36m0\u001b[0m\u001b[0;34m\u001b[0m\u001b[0;34m\u001b[0m\u001b[0m\n\u001b[1;32m     10\u001b[0m   \u001b[0;32mif\u001b[0m \u001b[0mn\u001b[0m \u001b[0;34m>\u001b[0m \u001b[0;36m1\u001b[0m\u001b[0;34m:\u001b[0m\u001b[0;34m\u001b[0m\u001b[0;34m\u001b[0m\u001b[0m\n\u001b[0;32m---> 11\u001b[0;31m     \u001b[0;32mreturn\u001b[0m \u001b[0mG\u001b[0m\u001b[0;34m(\u001b[0m\u001b[0mn\u001b[0m\u001b[0;34m-\u001b[0m\u001b[0;36m1\u001b[0m\u001b[0;34m)\u001b[0m \u001b[0;34m-\u001b[0m \u001b[0mF\u001b[0m\u001b[0;34m(\u001b[0m\u001b[0mn\u001b[0m\u001b[0;34m-\u001b[0m\u001b[0;36m1\u001b[0m\u001b[0;34m)\u001b[0m\u001b[0;34m\u001b[0m\u001b[0;34m\u001b[0m\u001b[0m\n\u001b[0m\u001b[1;32m     12\u001b[0m \u001b[0;34m\u001b[0m\u001b[0m\n\u001b[1;32m     13\u001b[0m \u001b[0mprint\u001b[0m\u001b[0;34m(\u001b[0m\u001b[0mG\u001b[0m\u001b[0;34m(\u001b[0m\u001b[0;36m34\u001b[0m\u001b[0;34m)\u001b[0m\u001b[0;34m)\u001b[0m\u001b[0;34m\u001b[0m\u001b[0;34m\u001b[0m\u001b[0m\n",
            "\u001b[0;32m<ipython-input-9-6e928990425e>\u001b[0m in \u001b[0;36mF\u001b[0;34m(n)\u001b[0m\n\u001b[1;32m      3\u001b[0m     \u001b[0;32mreturn\u001b[0m \u001b[0;36m1\u001b[0m\u001b[0;34m\u001b[0m\u001b[0;34m\u001b[0m\u001b[0m\n\u001b[1;32m      4\u001b[0m   \u001b[0;32mif\u001b[0m \u001b[0mn\u001b[0m \u001b[0;34m>\u001b[0m \u001b[0;36m1\u001b[0m\u001b[0;34m:\u001b[0m\u001b[0;34m\u001b[0m\u001b[0;34m\u001b[0m\u001b[0m\n\u001b[0;32m----> 5\u001b[0;31m     \u001b[0;32mreturn\u001b[0m \u001b[0mF\u001b[0m\u001b[0;34m(\u001b[0m\u001b[0mn\u001b[0m\u001b[0;34m-\u001b[0m\u001b[0;36m1\u001b[0m\u001b[0;34m)\u001b[0m \u001b[0;34m-\u001b[0m \u001b[0mG\u001b[0m\u001b[0;34m(\u001b[0m\u001b[0mn\u001b[0m\u001b[0;34m-\u001b[0m\u001b[0;36m1\u001b[0m\u001b[0;34m)\u001b[0m\u001b[0;34m\u001b[0m\u001b[0;34m\u001b[0m\u001b[0m\n\u001b[0m\u001b[1;32m      6\u001b[0m \u001b[0;34m\u001b[0m\u001b[0m\n\u001b[1;32m      7\u001b[0m \u001b[0;32mdef\u001b[0m \u001b[0mG\u001b[0m\u001b[0;34m(\u001b[0m\u001b[0mn\u001b[0m\u001b[0;34m)\u001b[0m\u001b[0;34m:\u001b[0m\u001b[0;34m\u001b[0m\u001b[0;34m\u001b[0m\u001b[0m\n",
            "\u001b[0;32m<ipython-input-9-6e928990425e>\u001b[0m in \u001b[0;36mF\u001b[0;34m(n)\u001b[0m\n\u001b[1;32m      3\u001b[0m     \u001b[0;32mreturn\u001b[0m \u001b[0;36m1\u001b[0m\u001b[0;34m\u001b[0m\u001b[0;34m\u001b[0m\u001b[0m\n\u001b[1;32m      4\u001b[0m   \u001b[0;32mif\u001b[0m \u001b[0mn\u001b[0m \u001b[0;34m>\u001b[0m \u001b[0;36m1\u001b[0m\u001b[0;34m:\u001b[0m\u001b[0;34m\u001b[0m\u001b[0;34m\u001b[0m\u001b[0m\n\u001b[0;32m----> 5\u001b[0;31m     \u001b[0;32mreturn\u001b[0m \u001b[0mF\u001b[0m\u001b[0;34m(\u001b[0m\u001b[0mn\u001b[0m\u001b[0;34m-\u001b[0m\u001b[0;36m1\u001b[0m\u001b[0;34m)\u001b[0m \u001b[0;34m-\u001b[0m \u001b[0mG\u001b[0m\u001b[0;34m(\u001b[0m\u001b[0mn\u001b[0m\u001b[0;34m-\u001b[0m\u001b[0;36m1\u001b[0m\u001b[0;34m)\u001b[0m\u001b[0;34m\u001b[0m\u001b[0;34m\u001b[0m\u001b[0m\n\u001b[0m\u001b[1;32m      6\u001b[0m \u001b[0;34m\u001b[0m\u001b[0m\n\u001b[1;32m      7\u001b[0m \u001b[0;32mdef\u001b[0m \u001b[0mG\u001b[0m\u001b[0;34m(\u001b[0m\u001b[0mn\u001b[0m\u001b[0;34m)\u001b[0m\u001b[0;34m:\u001b[0m\u001b[0;34m\u001b[0m\u001b[0;34m\u001b[0m\u001b[0m\n",
            "\u001b[0;32m<ipython-input-9-6e928990425e>\u001b[0m in \u001b[0;36mF\u001b[0;34m(n)\u001b[0m\n\u001b[1;32m      3\u001b[0m     \u001b[0;32mreturn\u001b[0m \u001b[0;36m1\u001b[0m\u001b[0;34m\u001b[0m\u001b[0;34m\u001b[0m\u001b[0m\n\u001b[1;32m      4\u001b[0m   \u001b[0;32mif\u001b[0m \u001b[0mn\u001b[0m \u001b[0;34m>\u001b[0m \u001b[0;36m1\u001b[0m\u001b[0;34m:\u001b[0m\u001b[0;34m\u001b[0m\u001b[0;34m\u001b[0m\u001b[0m\n\u001b[0;32m----> 5\u001b[0;31m     \u001b[0;32mreturn\u001b[0m \u001b[0mF\u001b[0m\u001b[0;34m(\u001b[0m\u001b[0mn\u001b[0m\u001b[0;34m-\u001b[0m\u001b[0;36m1\u001b[0m\u001b[0;34m)\u001b[0m \u001b[0;34m-\u001b[0m \u001b[0mG\u001b[0m\u001b[0;34m(\u001b[0m\u001b[0mn\u001b[0m\u001b[0;34m-\u001b[0m\u001b[0;36m1\u001b[0m\u001b[0;34m)\u001b[0m\u001b[0;34m\u001b[0m\u001b[0;34m\u001b[0m\u001b[0m\n\u001b[0m\u001b[1;32m      6\u001b[0m \u001b[0;34m\u001b[0m\u001b[0m\n\u001b[1;32m      7\u001b[0m \u001b[0;32mdef\u001b[0m \u001b[0mG\u001b[0m\u001b[0;34m(\u001b[0m\u001b[0mn\u001b[0m\u001b[0;34m)\u001b[0m\u001b[0;34m:\u001b[0m\u001b[0;34m\u001b[0m\u001b[0;34m\u001b[0m\u001b[0m\n",
            "\u001b[0;32m<ipython-input-9-6e928990425e>\u001b[0m in \u001b[0;36mG\u001b[0;34m(n)\u001b[0m\n\u001b[1;32m      9\u001b[0m     \u001b[0;32mreturn\u001b[0m \u001b[0;36m0\u001b[0m\u001b[0;34m\u001b[0m\u001b[0;34m\u001b[0m\u001b[0m\n\u001b[1;32m     10\u001b[0m   \u001b[0;32mif\u001b[0m \u001b[0mn\u001b[0m \u001b[0;34m>\u001b[0m \u001b[0;36m1\u001b[0m\u001b[0;34m:\u001b[0m\u001b[0;34m\u001b[0m\u001b[0;34m\u001b[0m\u001b[0m\n\u001b[0;32m---> 11\u001b[0;31m     \u001b[0;32mreturn\u001b[0m \u001b[0mG\u001b[0m\u001b[0;34m(\u001b[0m\u001b[0mn\u001b[0m\u001b[0;34m-\u001b[0m\u001b[0;36m1\u001b[0m\u001b[0;34m)\u001b[0m \u001b[0;34m-\u001b[0m \u001b[0mF\u001b[0m\u001b[0;34m(\u001b[0m\u001b[0mn\u001b[0m\u001b[0;34m-\u001b[0m\u001b[0;36m1\u001b[0m\u001b[0;34m)\u001b[0m\u001b[0;34m\u001b[0m\u001b[0;34m\u001b[0m\u001b[0m\n\u001b[0m\u001b[1;32m     12\u001b[0m \u001b[0;34m\u001b[0m\u001b[0m\n\u001b[1;32m     13\u001b[0m \u001b[0mprint\u001b[0m\u001b[0;34m(\u001b[0m\u001b[0mG\u001b[0m\u001b[0;34m(\u001b[0m\u001b[0;36m34\u001b[0m\u001b[0;34m)\u001b[0m\u001b[0;34m)\u001b[0m\u001b[0;34m\u001b[0m\u001b[0;34m\u001b[0m\u001b[0m\n",
            "\u001b[0;32m<ipython-input-9-6e928990425e>\u001b[0m in \u001b[0;36mG\u001b[0;34m(n)\u001b[0m\n\u001b[1;32m      9\u001b[0m     \u001b[0;32mreturn\u001b[0m \u001b[0;36m0\u001b[0m\u001b[0;34m\u001b[0m\u001b[0;34m\u001b[0m\u001b[0m\n\u001b[1;32m     10\u001b[0m   \u001b[0;32mif\u001b[0m \u001b[0mn\u001b[0m \u001b[0;34m>\u001b[0m \u001b[0;36m1\u001b[0m\u001b[0;34m:\u001b[0m\u001b[0;34m\u001b[0m\u001b[0;34m\u001b[0m\u001b[0m\n\u001b[0;32m---> 11\u001b[0;31m     \u001b[0;32mreturn\u001b[0m \u001b[0mG\u001b[0m\u001b[0;34m(\u001b[0m\u001b[0mn\u001b[0m\u001b[0;34m-\u001b[0m\u001b[0;36m1\u001b[0m\u001b[0;34m)\u001b[0m \u001b[0;34m-\u001b[0m \u001b[0mF\u001b[0m\u001b[0;34m(\u001b[0m\u001b[0mn\u001b[0m\u001b[0;34m-\u001b[0m\u001b[0;36m1\u001b[0m\u001b[0;34m)\u001b[0m\u001b[0;34m\u001b[0m\u001b[0;34m\u001b[0m\u001b[0m\n\u001b[0m\u001b[1;32m     12\u001b[0m \u001b[0;34m\u001b[0m\u001b[0m\n\u001b[1;32m     13\u001b[0m \u001b[0mprint\u001b[0m\u001b[0;34m(\u001b[0m\u001b[0mG\u001b[0m\u001b[0;34m(\u001b[0m\u001b[0;36m34\u001b[0m\u001b[0;34m)\u001b[0m\u001b[0;34m)\u001b[0m\u001b[0;34m\u001b[0m\u001b[0;34m\u001b[0m\u001b[0m\n",
            "\u001b[0;32m<ipython-input-9-6e928990425e>\u001b[0m in \u001b[0;36mF\u001b[0;34m(n)\u001b[0m\n\u001b[1;32m      3\u001b[0m     \u001b[0;32mreturn\u001b[0m \u001b[0;36m1\u001b[0m\u001b[0;34m\u001b[0m\u001b[0;34m\u001b[0m\u001b[0m\n\u001b[1;32m      4\u001b[0m   \u001b[0;32mif\u001b[0m \u001b[0mn\u001b[0m \u001b[0;34m>\u001b[0m \u001b[0;36m1\u001b[0m\u001b[0;34m:\u001b[0m\u001b[0;34m\u001b[0m\u001b[0;34m\u001b[0m\u001b[0m\n\u001b[0;32m----> 5\u001b[0;31m     \u001b[0;32mreturn\u001b[0m \u001b[0mF\u001b[0m\u001b[0;34m(\u001b[0m\u001b[0mn\u001b[0m\u001b[0;34m-\u001b[0m\u001b[0;36m1\u001b[0m\u001b[0;34m)\u001b[0m \u001b[0;34m-\u001b[0m \u001b[0mG\u001b[0m\u001b[0;34m(\u001b[0m\u001b[0mn\u001b[0m\u001b[0;34m-\u001b[0m\u001b[0;36m1\u001b[0m\u001b[0;34m)\u001b[0m\u001b[0;34m\u001b[0m\u001b[0;34m\u001b[0m\u001b[0m\n\u001b[0m\u001b[1;32m      6\u001b[0m \u001b[0;34m\u001b[0m\u001b[0m\n\u001b[1;32m      7\u001b[0m \u001b[0;32mdef\u001b[0m \u001b[0mG\u001b[0m\u001b[0;34m(\u001b[0m\u001b[0mn\u001b[0m\u001b[0;34m)\u001b[0m\u001b[0;34m:\u001b[0m\u001b[0;34m\u001b[0m\u001b[0;34m\u001b[0m\u001b[0m\n",
            "\u001b[0;32m<ipython-input-9-6e928990425e>\u001b[0m in \u001b[0;36mG\u001b[0;34m(n)\u001b[0m\n\u001b[1;32m      9\u001b[0m     \u001b[0;32mreturn\u001b[0m \u001b[0;36m0\u001b[0m\u001b[0;34m\u001b[0m\u001b[0;34m\u001b[0m\u001b[0m\n\u001b[1;32m     10\u001b[0m   \u001b[0;32mif\u001b[0m \u001b[0mn\u001b[0m \u001b[0;34m>\u001b[0m \u001b[0;36m1\u001b[0m\u001b[0;34m:\u001b[0m\u001b[0;34m\u001b[0m\u001b[0;34m\u001b[0m\u001b[0m\n\u001b[0;32m---> 11\u001b[0;31m     \u001b[0;32mreturn\u001b[0m \u001b[0mG\u001b[0m\u001b[0;34m(\u001b[0m\u001b[0mn\u001b[0m\u001b[0;34m-\u001b[0m\u001b[0;36m1\u001b[0m\u001b[0;34m)\u001b[0m \u001b[0;34m-\u001b[0m \u001b[0mF\u001b[0m\u001b[0;34m(\u001b[0m\u001b[0mn\u001b[0m\u001b[0;34m-\u001b[0m\u001b[0;36m1\u001b[0m\u001b[0;34m)\u001b[0m\u001b[0;34m\u001b[0m\u001b[0;34m\u001b[0m\u001b[0m\n\u001b[0m\u001b[1;32m     12\u001b[0m \u001b[0;34m\u001b[0m\u001b[0m\n\u001b[1;32m     13\u001b[0m \u001b[0mprint\u001b[0m\u001b[0;34m(\u001b[0m\u001b[0mG\u001b[0m\u001b[0;34m(\u001b[0m\u001b[0;36m34\u001b[0m\u001b[0;34m)\u001b[0m\u001b[0;34m)\u001b[0m\u001b[0;34m\u001b[0m\u001b[0;34m\u001b[0m\u001b[0m\n",
            "\u001b[0;32m<ipython-input-9-6e928990425e>\u001b[0m in \u001b[0;36mF\u001b[0;34m(n)\u001b[0m\n\u001b[1;32m      3\u001b[0m     \u001b[0;32mreturn\u001b[0m \u001b[0;36m1\u001b[0m\u001b[0;34m\u001b[0m\u001b[0;34m\u001b[0m\u001b[0m\n\u001b[1;32m      4\u001b[0m   \u001b[0;32mif\u001b[0m \u001b[0mn\u001b[0m \u001b[0;34m>\u001b[0m \u001b[0;36m1\u001b[0m\u001b[0;34m:\u001b[0m\u001b[0;34m\u001b[0m\u001b[0;34m\u001b[0m\u001b[0m\n\u001b[0;32m----> 5\u001b[0;31m     \u001b[0;32mreturn\u001b[0m \u001b[0mF\u001b[0m\u001b[0;34m(\u001b[0m\u001b[0mn\u001b[0m\u001b[0;34m-\u001b[0m\u001b[0;36m1\u001b[0m\u001b[0;34m)\u001b[0m \u001b[0;34m-\u001b[0m \u001b[0mG\u001b[0m\u001b[0;34m(\u001b[0m\u001b[0mn\u001b[0m\u001b[0;34m-\u001b[0m\u001b[0;36m1\u001b[0m\u001b[0;34m)\u001b[0m\u001b[0;34m\u001b[0m\u001b[0;34m\u001b[0m\u001b[0m\n\u001b[0m\u001b[1;32m      6\u001b[0m \u001b[0;34m\u001b[0m\u001b[0m\n\u001b[1;32m      7\u001b[0m \u001b[0;32mdef\u001b[0m \u001b[0mG\u001b[0m\u001b[0;34m(\u001b[0m\u001b[0mn\u001b[0m\u001b[0;34m)\u001b[0m\u001b[0;34m:\u001b[0m\u001b[0;34m\u001b[0m\u001b[0;34m\u001b[0m\u001b[0m\n",
            "\u001b[0;32m<ipython-input-9-6e928990425e>\u001b[0m in \u001b[0;36mG\u001b[0;34m(n)\u001b[0m\n\u001b[1;32m      9\u001b[0m     \u001b[0;32mreturn\u001b[0m \u001b[0;36m0\u001b[0m\u001b[0;34m\u001b[0m\u001b[0;34m\u001b[0m\u001b[0m\n\u001b[1;32m     10\u001b[0m   \u001b[0;32mif\u001b[0m \u001b[0mn\u001b[0m \u001b[0;34m>\u001b[0m \u001b[0;36m1\u001b[0m\u001b[0;34m:\u001b[0m\u001b[0;34m\u001b[0m\u001b[0;34m\u001b[0m\u001b[0m\n\u001b[0;32m---> 11\u001b[0;31m     \u001b[0;32mreturn\u001b[0m \u001b[0mG\u001b[0m\u001b[0;34m(\u001b[0m\u001b[0mn\u001b[0m\u001b[0;34m-\u001b[0m\u001b[0;36m1\u001b[0m\u001b[0;34m)\u001b[0m \u001b[0;34m-\u001b[0m \u001b[0mF\u001b[0m\u001b[0;34m(\u001b[0m\u001b[0mn\u001b[0m\u001b[0;34m-\u001b[0m\u001b[0;36m1\u001b[0m\u001b[0;34m)\u001b[0m\u001b[0;34m\u001b[0m\u001b[0;34m\u001b[0m\u001b[0m\n\u001b[0m\u001b[1;32m     12\u001b[0m \u001b[0;34m\u001b[0m\u001b[0m\n\u001b[1;32m     13\u001b[0m \u001b[0mprint\u001b[0m\u001b[0;34m(\u001b[0m\u001b[0mG\u001b[0m\u001b[0;34m(\u001b[0m\u001b[0;36m34\u001b[0m\u001b[0;34m)\u001b[0m\u001b[0;34m)\u001b[0m\u001b[0;34m\u001b[0m\u001b[0;34m\u001b[0m\u001b[0m\n",
            "\u001b[0;32m<ipython-input-9-6e928990425e>\u001b[0m in \u001b[0;36mG\u001b[0;34m(n)\u001b[0m\n\u001b[1;32m      9\u001b[0m     \u001b[0;32mreturn\u001b[0m \u001b[0;36m0\u001b[0m\u001b[0;34m\u001b[0m\u001b[0;34m\u001b[0m\u001b[0m\n\u001b[1;32m     10\u001b[0m   \u001b[0;32mif\u001b[0m \u001b[0mn\u001b[0m \u001b[0;34m>\u001b[0m \u001b[0;36m1\u001b[0m\u001b[0;34m:\u001b[0m\u001b[0;34m\u001b[0m\u001b[0;34m\u001b[0m\u001b[0m\n\u001b[0;32m---> 11\u001b[0;31m     \u001b[0;32mreturn\u001b[0m \u001b[0mG\u001b[0m\u001b[0;34m(\u001b[0m\u001b[0mn\u001b[0m\u001b[0;34m-\u001b[0m\u001b[0;36m1\u001b[0m\u001b[0;34m)\u001b[0m \u001b[0;34m-\u001b[0m \u001b[0mF\u001b[0m\u001b[0;34m(\u001b[0m\u001b[0mn\u001b[0m\u001b[0;34m-\u001b[0m\u001b[0;36m1\u001b[0m\u001b[0;34m)\u001b[0m\u001b[0;34m\u001b[0m\u001b[0;34m\u001b[0m\u001b[0m\n\u001b[0m\u001b[1;32m     12\u001b[0m \u001b[0;34m\u001b[0m\u001b[0m\n\u001b[1;32m     13\u001b[0m \u001b[0mprint\u001b[0m\u001b[0;34m(\u001b[0m\u001b[0mG\u001b[0m\u001b[0;34m(\u001b[0m\u001b[0;36m34\u001b[0m\u001b[0;34m)\u001b[0m\u001b[0;34m)\u001b[0m\u001b[0;34m\u001b[0m\u001b[0;34m\u001b[0m\u001b[0m\n",
            "\u001b[0;32m<ipython-input-9-6e928990425e>\u001b[0m in \u001b[0;36mG\u001b[0;34m(n)\u001b[0m\n\u001b[1;32m      9\u001b[0m     \u001b[0;32mreturn\u001b[0m \u001b[0;36m0\u001b[0m\u001b[0;34m\u001b[0m\u001b[0;34m\u001b[0m\u001b[0m\n\u001b[1;32m     10\u001b[0m   \u001b[0;32mif\u001b[0m \u001b[0mn\u001b[0m \u001b[0;34m>\u001b[0m \u001b[0;36m1\u001b[0m\u001b[0;34m:\u001b[0m\u001b[0;34m\u001b[0m\u001b[0;34m\u001b[0m\u001b[0m\n\u001b[0;32m---> 11\u001b[0;31m     \u001b[0;32mreturn\u001b[0m \u001b[0mG\u001b[0m\u001b[0;34m(\u001b[0m\u001b[0mn\u001b[0m\u001b[0;34m-\u001b[0m\u001b[0;36m1\u001b[0m\u001b[0;34m)\u001b[0m \u001b[0;34m-\u001b[0m \u001b[0mF\u001b[0m\u001b[0;34m(\u001b[0m\u001b[0mn\u001b[0m\u001b[0;34m-\u001b[0m\u001b[0;36m1\u001b[0m\u001b[0;34m)\u001b[0m\u001b[0;34m\u001b[0m\u001b[0;34m\u001b[0m\u001b[0m\n\u001b[0m\u001b[1;32m     12\u001b[0m \u001b[0;34m\u001b[0m\u001b[0m\n\u001b[1;32m     13\u001b[0m \u001b[0mprint\u001b[0m\u001b[0;34m(\u001b[0m\u001b[0mG\u001b[0m\u001b[0;34m(\u001b[0m\u001b[0;36m34\u001b[0m\u001b[0;34m)\u001b[0m\u001b[0;34m)\u001b[0m\u001b[0;34m\u001b[0m\u001b[0;34m\u001b[0m\u001b[0m\n",
            "\u001b[0;32m<ipython-input-9-6e928990425e>\u001b[0m in \u001b[0;36mG\u001b[0;34m(n)\u001b[0m\n\u001b[1;32m      9\u001b[0m     \u001b[0;32mreturn\u001b[0m \u001b[0;36m0\u001b[0m\u001b[0;34m\u001b[0m\u001b[0;34m\u001b[0m\u001b[0m\n\u001b[1;32m     10\u001b[0m   \u001b[0;32mif\u001b[0m \u001b[0mn\u001b[0m \u001b[0;34m>\u001b[0m \u001b[0;36m1\u001b[0m\u001b[0;34m:\u001b[0m\u001b[0;34m\u001b[0m\u001b[0;34m\u001b[0m\u001b[0m\n\u001b[0;32m---> 11\u001b[0;31m     \u001b[0;32mreturn\u001b[0m \u001b[0mG\u001b[0m\u001b[0;34m(\u001b[0m\u001b[0mn\u001b[0m\u001b[0;34m-\u001b[0m\u001b[0;36m1\u001b[0m\u001b[0;34m)\u001b[0m \u001b[0;34m-\u001b[0m \u001b[0mF\u001b[0m\u001b[0;34m(\u001b[0m\u001b[0mn\u001b[0m\u001b[0;34m-\u001b[0m\u001b[0;36m1\u001b[0m\u001b[0;34m)\u001b[0m\u001b[0;34m\u001b[0m\u001b[0;34m\u001b[0m\u001b[0m\n\u001b[0m\u001b[1;32m     12\u001b[0m \u001b[0;34m\u001b[0m\u001b[0m\n\u001b[1;32m     13\u001b[0m \u001b[0mprint\u001b[0m\u001b[0;34m(\u001b[0m\u001b[0mG\u001b[0m\u001b[0;34m(\u001b[0m\u001b[0;36m34\u001b[0m\u001b[0;34m)\u001b[0m\u001b[0;34m)\u001b[0m\u001b[0;34m\u001b[0m\u001b[0;34m\u001b[0m\u001b[0m\n",
            "\u001b[0;32m<ipython-input-9-6e928990425e>\u001b[0m in \u001b[0;36mG\u001b[0;34m(n)\u001b[0m\n\u001b[1;32m      9\u001b[0m     \u001b[0;32mreturn\u001b[0m \u001b[0;36m0\u001b[0m\u001b[0;34m\u001b[0m\u001b[0;34m\u001b[0m\u001b[0m\n\u001b[1;32m     10\u001b[0m   \u001b[0;32mif\u001b[0m \u001b[0mn\u001b[0m \u001b[0;34m>\u001b[0m \u001b[0;36m1\u001b[0m\u001b[0;34m:\u001b[0m\u001b[0;34m\u001b[0m\u001b[0;34m\u001b[0m\u001b[0m\n\u001b[0;32m---> 11\u001b[0;31m     \u001b[0;32mreturn\u001b[0m \u001b[0mG\u001b[0m\u001b[0;34m(\u001b[0m\u001b[0mn\u001b[0m\u001b[0;34m-\u001b[0m\u001b[0;36m1\u001b[0m\u001b[0;34m)\u001b[0m \u001b[0;34m-\u001b[0m \u001b[0mF\u001b[0m\u001b[0;34m(\u001b[0m\u001b[0mn\u001b[0m\u001b[0;34m-\u001b[0m\u001b[0;36m1\u001b[0m\u001b[0;34m)\u001b[0m\u001b[0;34m\u001b[0m\u001b[0;34m\u001b[0m\u001b[0m\n\u001b[0m\u001b[1;32m     12\u001b[0m \u001b[0;34m\u001b[0m\u001b[0m\n\u001b[1;32m     13\u001b[0m \u001b[0mprint\u001b[0m\u001b[0;34m(\u001b[0m\u001b[0mG\u001b[0m\u001b[0;34m(\u001b[0m\u001b[0;36m34\u001b[0m\u001b[0;34m)\u001b[0m\u001b[0;34m)\u001b[0m\u001b[0;34m\u001b[0m\u001b[0;34m\u001b[0m\u001b[0m\n",
            "\u001b[0;31mKeyboardInterrupt\u001b[0m: "
          ]
        }
      ],
      "source": [
        "def F(n):\n",
        "  if n == 1:\n",
        "    return 1\n",
        "  if n > 1:\n",
        "    return F(n-1) - G(n-1)\n",
        "\n",
        "def G(n):\n",
        "  if n == 1:\n",
        "    return 0\n",
        "  if n > 1:\n",
        "    return G(n-1) - F(n-1)\n",
        "\n",
        "print(G(34))"
      ]
    },
    {
      "cell_type": "markdown",
      "metadata": {
        "id": "1k-oLHBfdnPg"
      },
      "source": [
        "**5 задание**"
      ]
    },
    {
      "cell_type": "markdown",
      "metadata": {
        "id": "1S3GzCD4gcDG"
      },
      "source": [
        "На вход алгоритма подаётся натуральное число N. Алгоритм строит по нему новое число R следующим образом.\n",
        "\n",
        "1.  Строится двоичная запись числа N.\n",
        "\n",
        "2.  К этой записи дописываются справа ещё два разряда по следующему правилу:\n",
        "\n",
        "а)  складываются все цифры двоичной записи числа N, и остаток от деления суммы на 2 дописывается в конец числа (справа). Например, запись 11100 преобразуется в запись 111001;\n",
        "\n",
        "б)  над этой записью производятся те же действия  — справа дописывается остаток от деления суммы цифр на 2.\n",
        "\n",
        "Полученная таким образом запись (в ней на два разряда больше, чем в записи исходного числа N) является двоичной записью результирующего числа R.\n",
        "\n",
        "Укажите такое наименьшее число N, для которого результат работы алгоритма больше числа 77. В ответе это число запишите в десятичной системе счисления."
      ]
    },
    {
      "cell_type": "code",
      "execution_count": null,
      "metadata": {
        "colab": {
          "base_uri": "https://localhost:8080/"
        },
        "id": "eM_fPhREdpN6",
        "outputId": "08481501-c64b-4d84-fbb2-6a9193c964c2"
      },
      "outputs": [
        {
          "name": "stdout",
          "output_type": "stream",
          "text": [
            "19\n"
          ]
        }
      ],
      "source": [
        "def f(s):\n",
        "    summa = 0\n",
        "    for i in range(len(s)):\n",
        "        summa += int(s[i])\n",
        "    return summa\n",
        "for n in range(1, 100):\n",
        "    s = bin(n)[2:]  # перевод в двоичную систему\n",
        "    s = str(s)\n",
        "    s = s + str(f(s) % 2)\n",
        "    s = s + str(f(s) % 2)\n",
        "    r = int(s, 2)  # перевод в десятичную систему\n",
        "    if r > 77:\n",
        "        print(n)\n",
        "        break"
      ]
    },
    {
      "cell_type": "code",
      "execution_count": null,
      "metadata": {
        "colab": {
          "base_uri": "https://localhost:8080/"
        },
        "id": "z6kzT4Vrgi48",
        "outputId": "83e90e11-e036-418f-b69d-6a7ed1297e7a"
      },
      "outputs": [
        {
          "name": "stdout",
          "output_type": "stream",
          "text": [
            "43\n"
          ]
        }
      ],
      "source": [
        "for n in range(2, 100): # на­чи­на­ем с 2, так как число 1 имеет толь­ко одну цифру\n",
        "    s = bin(n)[2:]  # пе­ре­вод в дво­ич­ную си­сте­му\n",
        "    s = str(s)\n",
        "    s += str(s.count(\"1\") % 2)\n",
        "    s += str(s.count(\"1\") % 2)\n",
        "    r = int(s, 2)  # пе­ре­вод в де­ся­тич­ную си­сте­му\n",
        "    if r > 170:\n",
        "        print(n)\n",
        "        break"
      ]
    },
    {
      "cell_type": "code",
      "execution_count": null,
      "metadata": {
        "id": "LE97SUkyU086"
      },
      "outputs": [],
      "source": [
        "for i in range(1000, 10000):\n",
        "  f = str(i)\n",
        "  s1 = int(f[0]) * int(f[1])\n",
        "  s2 = int(f[2]) * int(f[3])\n",
        "  if s1 > s2:\n",
        "    h = str(s1) + str(s2)\n",
        "  else:\n",
        "    h = str(s2) + str(s1)\n",
        "  if int(h) == 124:\n",
        "    print(i)"
      ]
    },
    {
      "cell_type": "markdown",
      "metadata": {
        "id": "i27xY8ASZ0ku"
      },
      "source": [
        "На вход алгоритма подается натуральное число N. Алгоритм строит по нему новое число R следующим образом.\n",
        "\n",
        "1)  Строится троичная запись числа N.\n",
        "\n",
        "2)  Если N не кратно 3, то остаток от деления на 3 умножается на 5, переводится в троичную запись и дописывается в конец числа.\n",
        "\n",
        "3)  Результат R переводится в десятичную систему счисления и выводится на экран.\n",
        "\n",
        "Укажите минимальное число N, после обработки которого автомат получается число, большее 146."
      ]
    },
    {
      "cell_type": "code",
      "execution_count": null,
      "metadata": {
        "colab": {
          "base_uri": "https://localhost:8080/"
        },
        "id": "61QyzJ24YEgx",
        "outputId": "09504a03-53d4-4796-89e3-176af639b733"
      },
      "outputs": [
        {
          "name": "stdout",
          "output_type": "stream",
          "text": [
            "8\n"
          ]
        }
      ],
      "source": [
        "for i in range(1, 100):\n",
        "    n = i\n",
        "    m = 0\n",
        "    r = 0\n",
        "    s = \"\"\n",
        "    t = \"\"\n",
        "    while n > 0: # пе­ре­вод в тро­ич­ную си­сте­му\n",
        "        s += str(n % 3)\n",
        "        n //= 3\n",
        "    s = s[::-1]\n",
        "    if i % 3 != 0:\n",
        "        m = i % 3 * 5\n",
        "        while m > 0:\n",
        "            t += str(m % 3)\n",
        "            m //= 3\n",
        "        t = t[::-1]\n",
        "    s += t\n",
        "    r = int(s,3)\n",
        "    if r > 146:\n",
        "        print(i)\n",
        "        break"
      ]
    },
    {
      "cell_type": "code",
      "execution_count": null,
      "metadata": {
        "colab": {
          "base_uri": "https://localhost:8080/"
        },
        "id": "C_KAG_oLjbF1",
        "outputId": "13c4b355-450a-458a-b892-bcdd8f82359b"
      },
      "outputs": [
        {
          "name": "stdout",
          "output_type": "stream",
          "text": [
            "9\n"
          ]
        }
      ],
      "source": [
        "n = 0\n",
        "s = 0\n",
        "while s <= 35:\n",
        "  n += 1\n",
        "  s += 4\n",
        "print(n)"
      ]
    },
    {
      "cell_type": "code",
      "execution_count": null,
      "metadata": {
        "colab": {
          "base_uri": "https://localhost:8080/"
        },
        "id": "kX4msg3Ncjdt",
        "outputId": "3e80f787-460a-43a8-e2d0-216432a8046c"
      },
      "outputs": [
        {
          "name": "stdout",
          "output_type": "stream",
          "text": [
            "62\n"
          ]
        }
      ],
      "source": [
        "ans = []\n",
        "for i in range(0, 1000):\n",
        "  n = bin(i)[2:]\n",
        "  if sum(map(int, str(n))) % 2 == 0:\n",
        "    n1 = '10' + str(n)\n",
        "    n2 = n1[0:-1] + '1'\n",
        "  elif sum(map(int, str(n))) % 2 != 0:\n",
        "    n1 = '1' + str(n)\n",
        "    n2 = n1[0:-2] + '10'\n",
        "\n",
        "  r = int(n2, 2)\n",
        "  if r > 60:\n",
        "    ans.append(r)\n",
        "\n",
        "\n",
        "print(min(ans))\n"
      ]
    },
    {
      "cell_type": "code",
      "execution_count": null,
      "metadata": {
        "colab": {
          "base_uri": "https://localhost:8080/"
        },
        "id": "lMuEhlF-d0jN",
        "outputId": "79d9ab78-121d-455e-e582-15ef54def880"
      },
      "outputs": [
        {
          "name": "stdout",
          "output_type": "stream",
          "text": [
            "14\n"
          ]
        }
      ],
      "source": [
        "a = '1110'\n",
        "print(int(a, 2))"
      ]
    },
    {
      "cell_type": "markdown",
      "metadata": {
        "id": "zom4eTp88fkK"
      },
      "source": [
        "Прикол задание 27))"
      ]
    },
    {
      "cell_type": "code",
      "execution_count": null,
      "metadata": {
        "colab": {
          "base_uri": "https://localhost:8080/"
        },
        "id": "_pe1wvhP8huZ",
        "outputId": "5ae8b3dd-15de-4b04-c888-309df5fec6da"
      },
      "outputs": [
        {
          "name": "stdout",
          "output_type": "stream",
          "text": [
            "89\n"
          ]
        }
      ],
      "source": [
        "f = open('27-A.txt')\n",
        "s = f.readlines()\n",
        "count = 0\n",
        "for i in range(1, len(s)):\n",
        "    for j in range(i, len(s)):\n",
        "        if (int(s[i]) * int(s[j])) % 1000000 == 0 and i != j and (int(s[i]) * int(s[j])) % 10000000 != 0:\n",
        "            count += 1\n",
        "print(count)"
      ]
    },
    {
      "cell_type": "markdown",
      "metadata": {
        "id": "eok63-nPAFrq"
      },
      "source": [
        "Задание 24"
      ]
    },
    {
      "cell_type": "code",
      "execution_count": null,
      "metadata": {
        "colab": {
          "base_uri": "https://localhost:8080/"
        },
        "id": "g3VaeqIg-9hK",
        "outputId": "c4d84d82-ed4b-432d-d6a6-17b3f6c3737c"
      },
      "outputs": [
        {
          "name": "stdout",
          "output_type": "stream",
          "text": [
            "K\n"
          ]
        }
      ],
      "source": [
        "from collections import Counter\n",
        "l = ''\n",
        "f = open('24.txt').read()\n",
        "for i in range(len(f)-2):\n",
        "    if f[i] == f[i+1]:\n",
        "        l += f[i+2]\n",
        "print(Counter(l).most_common()[0][0])"
      ]
    },
    {
      "cell_type": "code",
      "execution_count": null,
      "metadata": {
        "id": "9eonn0XmAUu8"
      },
      "outputs": [],
      "source": [
        "h = open('24.txt').read()\n",
        "for i in range(len(f)-2):\n",
        "  if f[i] == 'A' and f[i+1] == 'B':\n",
        "    while"
      ]
    },
    {
      "cell_type": "markdown",
      "metadata": {
        "id": "luJ1EuomNobK"
      },
      "source": [
        "# 12 задание"
      ]
    },
    {
      "cell_type": "code",
      "source": [
        "for n in range(3, 10000+1):\n",
        "  s = '1' + n*'2'\n",
        "  while '12' in s or '3322' in s or '2222' in s:\n",
        "    if '12' in s:\n",
        "      s = s.replace('12', '33', 1)\n",
        "    elif '2222' in s:\n",
        "      s = s.replace('2222', '1', 1)\n",
        "    elif '3322' in s:\n",
        "      s = s.replace('3322', '21', 1)\n",
        "\n",
        "  if sum(map(int, s)) == 218:\n",
        "    print(n)\n",
        "    break"
      ],
      "metadata": {
        "colab": {
          "base_uri": "https://localhost:8080/"
        },
        "id": "ZYFyp72AKWrp",
        "outputId": "6636421d-5c47-44e2-f072-ebe6511dbe32"
      },
      "execution_count": null,
      "outputs": [
        {
          "output_type": "stream",
          "name": "stdout",
          "text": [
            "177\n"
          ]
        }
      ]
    },
    {
      "cell_type": "code",
      "source": [
        "for n in range(3, 10000):\n",
        "  s = '1' + n*'2'\n",
        "  while '12' in s or '5522' in s or '2222' in s:\n",
        "    if '12' in s:\n",
        "      s = s.replace('12', '55', 1)\n",
        "    elif '2222' in s:\n",
        "      s = s.replace('2222', '1', 1)\n",
        "    elif '5522' in s:\n",
        "      s = s.replace('5522', '21', 1)\n",
        "\n",
        "  if sum(map(int, s)) == 142:\n",
        "    print(n)\n",
        "    break"
      ],
      "metadata": {
        "colab": {
          "base_uri": "https://localhost:8080/"
        },
        "id": "epEiU7gOLb_z",
        "outputId": "dff6c08c-c8ee-4a84-a834-77aa31041341"
      },
      "execution_count": null,
      "outputs": [
        {
          "output_type": "stream",
          "name": "stdout",
          "text": [
            "67\n"
          ]
        }
      ]
    },
    {
      "cell_type": "code",
      "execution_count": null,
      "metadata": {
        "colab": {
          "base_uri": "https://localhost:8080/"
        },
        "id": "-ZcwiiiofT7x",
        "outputId": "4c91b2e6-96e9-40ff-f0b6-6f3d94514fc9"
      },
      "outputs": [
        {
          "name": "stdout",
          "output_type": "stream",
          "text": [
            "56\n"
          ]
        }
      ],
      "source": [
        "ans = []\n",
        "for n in range(3, 10000):\n",
        "  s = '5'+n*'2'\n",
        "  while '52' in s or '2222' in s or '1122' in s:\n",
        "    if '52' in s:\n",
        "      s = s.replace('52', '11')\n",
        "    elif '2222' in s:\n",
        "      s = s.replace('2222', '5')\n",
        "    elif '1122' in s:\n",
        "      s = s.replace('1122', '25')\n",
        "\n",
        "    if sum(map(int, s)) == 64:\n",
        "      ans.append(n)\n",
        "\n",
        "print(max(ans))"
      ]
    },
    {
      "cell_type": "code",
      "execution_count": null,
      "metadata": {
        "colab": {
          "base_uri": "https://localhost:8080/"
        },
        "id": "IczRRTUJKbOk",
        "outputId": "09a73578-ba61-4e56-e295-6e582b07b1cb"
      },
      "outputs": [
        {
          "name": "stdout",
          "output_type": "stream",
          "text": [
            "3\n",
            "32\n",
            "21\n",
            "22\n",
            "3\n",
            "213\n",
            "2132\n",
            "221\n",
            "3\n",
            "32\n",
            "2213\n",
            "22132\n",
            "31\n",
            "32\n",
            "21\n",
            "313\n",
            "3132\n",
            "321\n",
            "21\n",
            "22\n",
            "3213\n",
            "32132\n",
            "211\n",
            "22\n",
            "3\n",
            "2113\n",
            "21132\n",
            "221\n",
            "21133\n",
            "211332\n",
            "211321\n",
            "221\n",
            "3\n",
            "2113213\n",
            "21132132\n",
            "2211\n",
            "3\n",
            "32\n",
            "22113\n",
            "221132\n",
            "31\n",
            "221133\n",
            "2211332\n",
            "2211321\n",
            "31\n",
            "32\n",
            "22113213\n",
            "221132132\n",
            "311\n",
            "32\n",
            "21\n",
            "3113\n",
            "31132\n",
            "321\n",
            "31133\n",
            "311332\n",
            "311321\n",
            "321\n",
            "21\n",
            "3113213\n",
            "31132132\n",
            "3211\n",
            "21\n",
            "22\n",
            "32113\n",
            "321132\n",
            "211\n",
            "22\n",
            "3\n",
            "2113\n",
            "21132\n",
            "221\n",
            "3\n",
            "32\n",
            "2213\n",
            "22132\n",
            "31\n",
            "32\n",
            "21\n",
            "313\n",
            "3132\n",
            "321\n",
            "3133\n",
            "31332\n",
            "31321\n",
            "321\n",
            "21\n",
            "313213\n",
            "3132132\n",
            "3211\n",
            "21\n",
            "22\n",
            "32113\n",
            "321132\n",
            "211\n",
            "22\n",
            "3\n",
            "2113\n",
            "21132\n",
            "221\n",
            "3\n",
            "32\n",
            "2213\n",
            "22132\n",
            "31\n",
            "32\n",
            "21\n",
            "313\n",
            "3132\n",
            "321\n",
            "3133\n",
            "31332\n",
            "31321\n",
            "321\n",
            "21\n",
            "313213\n",
            "3132132\n",
            "3211\n",
            "21\n",
            "22\n",
            "32113\n",
            "321132\n",
            "211\n",
            "22\n",
            "3\n",
            "2113\n",
            "21132\n",
            "221\n",
            "3\n",
            "32\n",
            "2213\n",
            "22132\n",
            "31\n",
            "32\n",
            "21\n",
            "313\n",
            "3132\n",
            "321\n",
            "3133\n",
            "31332\n",
            "31321\n",
            "321\n",
            "21\n",
            "313213\n",
            "3132132\n",
            "3211\n",
            "21\n",
            "22\n",
            "32113\n",
            "321132\n",
            "211\n",
            "22\n",
            "3\n",
            "2113\n",
            "21132\n",
            "221\n",
            "3\n",
            "32\n",
            "2213\n",
            "22132\n",
            "31\n",
            "32\n",
            "21\n",
            "313\n",
            "3132\n",
            "321\n",
            "3133\n",
            "31332\n",
            "31321\n",
            "321\n",
            "21\n",
            "313213\n",
            "3132132\n",
            "3211\n",
            "21\n",
            "22\n",
            "32113\n",
            "321132\n",
            "211\n",
            "22\n",
            "3\n",
            "2113\n",
            "21132\n",
            "221\n",
            "3\n",
            "32\n",
            "2213\n",
            "22132\n",
            "31\n",
            "32\n",
            "21\n",
            "313\n",
            "3132\n",
            "321\n",
            "3133\n",
            "31332\n",
            "31321\n",
            "321\n",
            "21\n",
            "313213\n",
            "3132132\n",
            "3211\n",
            "21\n",
            "22\n",
            "32113\n",
            "321132\n",
            "211\n",
            "22\n",
            "3\n",
            "2113\n",
            "21132\n",
            "221\n",
            "3\n",
            "32\n",
            "2213\n",
            "22132\n",
            "31\n",
            "32\n",
            "21\n",
            "313\n",
            "3132\n",
            "321\n",
            "3133\n",
            "31332\n",
            "31321\n",
            "321\n",
            "21\n",
            "313213\n",
            "3132132\n",
            "3211\n",
            "21\n",
            "22\n",
            "32113\n",
            "321132\n",
            "211\n",
            "22\n",
            "3\n",
            "2113\n",
            "21132\n",
            "221\n",
            "3\n",
            "32\n",
            "2213\n",
            "22132\n",
            "31\n",
            "32\n",
            "21\n",
            "313\n",
            "3132\n",
            "321\n",
            "3133\n",
            "31332\n",
            "31321\n",
            "321\n",
            "21\n",
            "313213\n",
            "3132132\n",
            "3211\n",
            "21\n",
            "22\n",
            "32113\n",
            "321132\n",
            "211\n",
            "22\n",
            "3\n",
            "2113\n",
            "21132\n",
            "221\n",
            "3\n",
            "32\n",
            "2213\n",
            "22132\n",
            "31\n",
            "32\n",
            "21\n",
            "313\n",
            "3132\n",
            "321\n",
            "3133\n",
            "31332\n",
            "31321\n",
            "321\n",
            "21\n",
            "313213\n",
            "3132132\n",
            "3211\n",
            "21\n",
            "22\n",
            "32113\n",
            "321132\n",
            "211\n",
            "22\n",
            "3\n",
            "2113\n",
            "21132\n",
            "221\n",
            "3\n",
            "32\n",
            "2213\n",
            "22132\n",
            "31\n",
            "32\n",
            "21\n",
            "313\n",
            "3132\n",
            "321\n",
            "3133\n",
            "31332\n",
            "31321\n",
            "321\n",
            "21\n",
            "313213\n",
            "3132132\n",
            "3211\n",
            "21\n",
            "22\n",
            "32113\n",
            "321132\n",
            "211\n",
            "22\n",
            "3\n",
            "2113\n",
            "21132\n",
            "221\n",
            "3\n",
            "32\n",
            "2213\n",
            "22132\n",
            "31\n",
            "32\n",
            "21\n",
            "313\n",
            "3132\n",
            "321\n",
            "3133\n",
            "31332\n",
            "31321\n",
            "321\n",
            "21\n",
            "313213\n",
            "3132132\n",
            "3211\n",
            "21\n",
            "22\n",
            "32113\n",
            "321132\n",
            "211\n",
            "22\n",
            "3\n",
            "2113\n",
            "21132\n",
            "221\n",
            "3\n",
            "32\n",
            "2213\n",
            "22132\n",
            "31\n",
            "32\n",
            "21\n",
            "313\n",
            "3132\n",
            "321\n",
            "3133\n",
            "31332\n",
            "31321\n",
            "321\n",
            "21\n",
            "313213\n",
            "3132132\n",
            "3211\n",
            "21\n",
            "22\n",
            "32113\n",
            "321132\n",
            "211\n",
            "22\n",
            "3\n",
            "2113\n",
            "21132\n",
            "221\n",
            "3\n",
            "32\n",
            "2213\n",
            "22132\n",
            "31\n",
            "32\n",
            "21\n",
            "313\n",
            "3132\n",
            "321\n",
            "3133\n",
            "31332\n",
            "31321\n",
            "321\n",
            "21\n",
            "313213\n",
            "3132132\n",
            "3211\n",
            "21\n",
            "22\n",
            "32113\n",
            "321132\n",
            "211\n",
            "22\n",
            "3\n",
            "2113\n",
            "21132\n",
            "221\n",
            "3\n",
            "32\n",
            "2213\n",
            "22132\n",
            "31\n",
            "32\n",
            "21\n",
            "313\n",
            "3132\n",
            "321\n",
            "3133\n",
            "31332\n",
            "31321\n",
            "321\n",
            "21\n",
            "313213\n",
            "3132132\n",
            "3211\n",
            "21\n",
            "22\n",
            "32113\n",
            "321132\n",
            "211\n",
            "22\n",
            "3\n",
            "2113\n",
            "21132\n",
            "221\n",
            "3\n",
            "32\n",
            "2213\n",
            "22132\n",
            "31\n",
            "32\n",
            "21\n",
            "313\n",
            "3132\n",
            "321\n",
            "3133\n",
            "31332\n",
            "31321\n",
            "321\n",
            "21\n",
            "313213\n",
            "3132132\n",
            "3211\n",
            "21\n",
            "22\n",
            "32113\n",
            "321132\n",
            "211\n",
            "22\n",
            "3\n",
            "2113\n",
            "21132\n",
            "221\n",
            "3\n",
            "32\n",
            "2213\n",
            "22132\n",
            "31\n",
            "32\n",
            "21\n",
            "313\n",
            "3132\n",
            "321\n",
            "3133\n",
            "31332\n",
            "31321\n",
            "321\n",
            "21\n",
            "313213\n",
            "3132132\n",
            "3211\n",
            "21\n",
            "22\n",
            "32113\n",
            "321132\n",
            "211\n",
            "22\n",
            "3\n",
            "2113\n",
            "21132\n",
            "221\n",
            "3\n",
            "32\n",
            "2213\n",
            "22132\n",
            "31\n",
            "32\n",
            "21\n",
            "313\n",
            "3132\n",
            "321\n",
            "3133\n",
            "31332\n",
            "31321\n",
            "321\n",
            "21\n",
            "313213\n",
            "3132132\n",
            "3211\n",
            "21\n",
            "22\n",
            "32113\n",
            "321132\n",
            "211\n",
            "22\n",
            "3\n",
            "2113\n",
            "21132\n",
            "221\n",
            "3\n",
            "32\n",
            "2213\n",
            "22132\n",
            "31\n",
            "32\n",
            "21\n",
            "313\n",
            "3132\n",
            "321\n",
            "3133\n",
            "31332\n",
            "31321\n",
            "321\n",
            "21\n",
            "313213\n",
            "3132132\n",
            "3211\n",
            "21\n",
            "22\n",
            "32113\n",
            "321132\n",
            "211\n",
            "22\n",
            "3\n",
            "2113\n",
            "21132\n",
            "221\n",
            "3\n",
            "32\n",
            "2213\n",
            "22132\n",
            "31\n",
            "32\n",
            "21\n",
            "313\n",
            "3132\n",
            "321\n",
            "3133\n",
            "31332\n",
            "31321\n",
            "321\n",
            "21\n",
            "313213\n",
            "3132132\n",
            "3211\n",
            "21\n",
            "22\n",
            "32113\n",
            "321132\n",
            "211\n",
            "22\n",
            "3\n",
            "2113\n",
            "21132\n",
            "221\n",
            "3\n",
            "32\n",
            "2213\n",
            "22132\n",
            "31\n",
            "32\n",
            "21\n",
            "313\n",
            "3132\n",
            "321\n",
            "3133\n",
            "31332\n",
            "31321\n",
            "321\n",
            "21\n",
            "313213\n",
            "3132132\n",
            "3211\n",
            "21\n",
            "22\n",
            "32113\n",
            "321132\n",
            "211\n",
            "22\n",
            "3\n",
            "2113\n",
            "21132\n",
            "221\n",
            "3\n",
            "32\n",
            "2213\n",
            "22132\n",
            "31\n",
            "32\n",
            "21\n",
            "313\n",
            "3132\n",
            "321\n",
            "3133\n",
            "31332\n",
            "31321\n",
            "321\n",
            "21\n",
            "313213\n",
            "3132132\n",
            "3211\n",
            "21\n",
            "22\n",
            "32113\n",
            "321132\n",
            "211\n",
            "22\n",
            "3\n",
            "2113\n",
            "21132\n",
            "221\n",
            "3\n",
            "32\n",
            "2213\n",
            "22132\n",
            "31\n",
            "32\n",
            "21\n",
            "313\n",
            "3132\n",
            "321\n",
            "3133\n",
            "31332\n",
            "31321\n",
            "321\n",
            "21\n",
            "313213\n",
            "3132132\n",
            "3211\n",
            "21\n",
            "22\n",
            "32113\n",
            "321132\n",
            "211\n",
            "22\n",
            "3\n",
            "2113\n",
            "21132\n",
            "221\n",
            "3\n",
            "32\n",
            "2213\n",
            "22132\n",
            "31\n",
            "32\n",
            "21\n",
            "313\n",
            "3132\n",
            "321\n",
            "3133\n",
            "31332\n",
            "31321\n",
            "321\n",
            "21\n",
            "313213\n",
            "3132132\n",
            "3211\n",
            "21\n",
            "22\n",
            "32113\n",
            "321132\n",
            "211\n",
            "22\n",
            "3\n",
            "2113\n",
            "21132\n",
            "221\n",
            "3\n",
            "32\n",
            "2213\n",
            "22132\n",
            "31\n",
            "32\n",
            "21\n",
            "313\n",
            "3132\n",
            "321\n",
            "3133\n",
            "31332\n",
            "31321\n",
            "321\n",
            "21\n",
            "313213\n",
            "3132132\n",
            "3211\n",
            "21\n",
            "22\n",
            "32113\n",
            "321132\n",
            "211\n",
            "22\n",
            "3\n",
            "2113\n",
            "21132\n",
            "221\n",
            "3\n",
            "32\n",
            "2213\n",
            "22132\n",
            "31\n",
            "32\n",
            "21\n",
            "313\n",
            "3132\n",
            "321\n",
            "3133\n",
            "31332\n",
            "31321\n",
            "321\n",
            "21\n",
            "313213\n",
            "3132132\n",
            "3211\n",
            "21\n",
            "22\n",
            "32113\n",
            "321132\n",
            "211\n",
            "22\n",
            "3\n",
            "2113\n",
            "21132\n",
            "221\n",
            "3\n",
            "32\n",
            "2213\n",
            "22132\n",
            "31\n",
            "32\n",
            "21\n",
            "313\n",
            "3132\n",
            "321\n",
            "3133\n",
            "31332\n",
            "31321\n",
            "321\n",
            "21\n",
            "313213\n",
            "3132132\n",
            "3211\n",
            "21\n",
            "22\n",
            "32113\n",
            "321132\n",
            "211\n",
            "22\n",
            "3\n",
            "2113\n",
            "21132\n",
            "221\n",
            "3\n",
            "32\n",
            "2213\n",
            "22132\n",
            "31\n",
            "32\n",
            "21\n",
            "313\n",
            "3132\n",
            "321\n",
            "3133\n",
            "31332\n",
            "31321\n",
            "321\n",
            "21\n",
            "313213\n",
            "3132132\n",
            "3211\n",
            "21\n",
            "22\n",
            "32113\n",
            "321132\n",
            "211\n",
            "22\n",
            "3\n",
            "2113\n",
            "21132\n",
            "221\n",
            "3\n",
            "32\n",
            "2213\n",
            "22132\n",
            "31\n",
            "32\n",
            "21\n",
            "313\n",
            "3132\n",
            "321\n",
            "3133\n",
            "31332\n",
            "31321\n",
            "321\n",
            "21\n",
            "313213\n",
            "3132132\n",
            "3211\n",
            "21\n",
            "22\n",
            "32113\n",
            "321132\n",
            "211\n",
            "22\n",
            "3\n",
            "2113\n",
            "21132\n",
            "221\n",
            "3\n",
            "32\n",
            "2213\n",
            "22132\n",
            "31\n",
            "32\n",
            "21\n",
            "313\n",
            "3132\n",
            "321\n",
            "3133\n",
            "31332\n",
            "31321\n",
            "321\n",
            "21\n",
            "313213\n",
            "3132132\n",
            "3211\n",
            "21\n",
            "22\n",
            "32113\n",
            "321132\n",
            "211\n",
            "22\n",
            "3\n",
            "2113\n",
            "21132\n",
            "221\n",
            "3\n",
            "32\n",
            "2213\n",
            "22132\n",
            "31\n",
            "32\n",
            "21\n",
            "313\n",
            "3132\n",
            "321\n",
            "3133\n",
            "31332\n",
            "31321\n",
            "321\n",
            "21\n",
            "313213\n",
            "3132132\n",
            "3211\n",
            "21\n",
            "22\n",
            "32113\n",
            "321132\n",
            "211\n",
            "22\n",
            "3\n",
            "2113\n",
            "21132\n",
            "221\n",
            "3\n",
            "32\n",
            "2213\n",
            "22132\n",
            "31\n",
            "32\n",
            "21\n",
            "313\n",
            "3132\n",
            "321\n",
            "3133\n",
            "31332\n",
            "31321\n",
            "321\n",
            "21\n",
            "313213\n",
            "3132132\n",
            "3211\n",
            "21\n",
            "22\n",
            "32113\n",
            "321132\n",
            "211\n",
            "22\n",
            "3\n",
            "2113\n",
            "21132\n",
            "221\n",
            "3\n",
            "32\n",
            "2213\n",
            "22132\n",
            "31\n",
            "32\n",
            "21\n",
            "313\n",
            "3132\n",
            "321\n",
            "3133\n",
            "31332\n",
            "31321\n",
            "321\n",
            "21\n",
            "313213\n",
            "3132132\n",
            "3211\n",
            "21\n",
            "22\n",
            "32113\n",
            "321132\n",
            "211\n",
            "22\n",
            "3\n",
            "2113\n",
            "21132\n",
            "221\n",
            "3\n",
            "32\n",
            "2213\n",
            "22132\n",
            "31\n",
            "32\n",
            "21\n",
            "313\n",
            "3132\n",
            "321\n",
            "3133\n",
            "31332\n",
            "31321\n",
            "321\n",
            "21\n",
            "313213\n",
            "3132132\n",
            "3211\n",
            "21\n",
            "22\n",
            "32113\n",
            "321132\n",
            "211\n",
            "22\n",
            "3\n",
            "2113\n",
            "21132\n",
            "221\n",
            "3\n",
            "32\n",
            "2213\n",
            "22132\n",
            "31\n",
            "32\n",
            "21\n",
            "313\n",
            "3132\n",
            "321\n",
            "3133\n",
            "31332\n",
            "31321\n",
            "321\n",
            "21\n",
            "313213\n",
            "3132132\n",
            "3211\n",
            "21\n",
            "22\n",
            "32113\n",
            "321132\n",
            "211\n",
            "22\n",
            "3\n",
            "2113\n",
            "21132\n",
            "221\n",
            "3\n",
            "32\n",
            "9\n"
          ]
        }
      ],
      "source": [
        "ans = []\n",
        "for n in range(3, 1000+1):\n",
        "  s = '1' + '2'*n\n",
        "  while '12' in s or '322' in s or '222' in s:\n",
        "    if '12' in s:\n",
        "      s = s.replace('12', '2', 1)\n",
        "    if '322' in s:\n",
        "      s = s.replace('322', '21', 1)\n",
        "    if '222' in s:\n",
        "      s = s.replace('222', '3', 1)\n",
        "  print(s)\n",
        "  ans.append(len(s))\n",
        "\n",
        "print(max(ans))\n",
        "\n"
      ]
    },
    {
      "cell_type": "code",
      "execution_count": null,
      "metadata": {
        "id": "J5XUGXjmkjtM"
      },
      "outputs": [],
      "source": [
        "for n in range(4, 10000):\n",
        "    s = '1' + '8' * n\n",
        "    while '18' in s or '388' in s or '888' in s:\n",
        "        if '18' in s:\n",
        "            s = s.replace('18', '8', 1)\n",
        "        if '388' in s:\n",
        "            s = s.replace('388', '81', 1)\n",
        "        if '888' in s:\n",
        "            s = s.replace('888', '3', 1)\n",
        "    if s.count(\"1\") == 3:\n",
        "        print(n)\n",
        "        break"
      ]
    },
    {
      "cell_type": "code",
      "execution_count": null,
      "metadata": {
        "id": "VhcdMaW0C-GG"
      },
      "outputs": [],
      "source": [
        "limit = 50\n",
        "for x in range(limit):\n",
        "  for y in range(limit):\n",
        "    for z in range(limit):\n",
        "      s = '0' + '1'*x + '2'*y + '3'*z + '0'\n",
        "      while '00' not in s:\n",
        "        s = s.replace('01', '210', 1)\n",
        "        s = s.replace('02', '3101', 1)\n",
        "        s = s.replace('03', '2012', 1)\n",
        "\n",
        "      if (s.count('1') == 111 and s.count('2') == 101 and s.count('3') == 35):\n",
        "        print(x+y+z+2)\n"
      ]
    },
    {
      "cell_type": "code",
      "execution_count": null,
      "metadata": {
        "id": "FvWmvoEENxoC"
      },
      "outputs": [],
      "source": [
        "s = '8' * 58\n",
        "while '2222' in s or '8888' in s:\n",
        "  if '2222' in s:\n",
        "    s = s.replace('2222', '88', 1)\n",
        "  else:\n",
        "    s = s.replace('8888', '22', 1)\n",
        "\n",
        "print(s)"
      ]
    },
    {
      "cell_type": "code",
      "execution_count": null,
      "metadata": {
        "colab": {
          "base_uri": "https://localhost:8080/"
        },
        "id": "MER88hmnN4tT",
        "outputId": "7d883342-12a1-47e5-8f40-ed03b8707e34"
      },
      "outputs": [
        {
          "name": "stdout",
          "output_type": "stream",
          "text": [
            "15\n",
            "32\n",
            "49\n",
            "66\n",
            "83\n"
          ]
        }
      ],
      "source": [
        "for n in range(0, 100):\n",
        "  s = '>' + '1'*37 + '2'*n + '3'*37\n",
        "  while '>1' in s or '>2' in s or '>3' in s:\n",
        "    if '>1' in s:\n",
        "      s = s.replace('>1', '33>', 1)\n",
        "    elif '>2' in s:\n",
        "      s = s.replace('>2', '2>')\n",
        "    elif '>3' in s:\n",
        "      s = s.replace('>3', '1>', 1)\n",
        "\n",
        "  sk = s.count('1') + s.count('2')*2 + s.count('3')*3\n",
        "  if sk % 17 == 0:\n",
        "    print(n)\n"
      ]
    },
    {
      "cell_type": "code",
      "execution_count": null,
      "metadata": {
        "colab": {
          "base_uri": "https://localhost:8080/",
          "height": 227
        },
        "id": "ADg6F1Nz1fEp",
        "outputId": "4d493bad-0448-4f10-cbd2-562df889f466"
      },
      "outputs": [
        {
          "ename": "KeyboardInterrupt",
          "evalue": "",
          "output_type": "error",
          "traceback": [
            "\u001b[0;31m---------------------------------------------------------------------------\u001b[0m",
            "\u001b[0;31mKeyboardInterrupt\u001b[0m                         Traceback (most recent call last)",
            "\u001b[0;32m<ipython-input-27-8713bab37922>\u001b[0m in \u001b[0;36m<cell line: 1>\u001b[0;34m()\u001b[0m\n\u001b[1;32m      9\u001b[0m       \u001b[0ms\u001b[0m \u001b[0;34m=\u001b[0m \u001b[0ms\u001b[0m\u001b[0;34m.\u001b[0m\u001b[0mreplace\u001b[0m\u001b[0;34m(\u001b[0m\u001b[0;34m'73'\u001b[0m\u001b[0;34m,\u001b[0m \u001b[0;34m'17'\u001b[0m\u001b[0;34m)\u001b[0m\u001b[0;34m\u001b[0m\u001b[0;34m\u001b[0m\u001b[0m\n\u001b[1;32m     10\u001b[0m \u001b[0;34m\u001b[0m\u001b[0m\n\u001b[0;32m---> 11\u001b[0;31m     \u001b[0;32mif\u001b[0m \u001b[0mint\u001b[0m\u001b[0;34m(\u001b[0m\u001b[0ms\u001b[0m\u001b[0;34m)\u001b[0m \u001b[0;34m==\u001b[0m \u001b[0;36m9\u001b[0m\u001b[0;34m*\u001b[0m\u001b[0mn\u001b[0m\u001b[0;34m:\u001b[0m\u001b[0;34m\u001b[0m\u001b[0;34m\u001b[0m\u001b[0m\n\u001b[0m\u001b[1;32m     12\u001b[0m       \u001b[0mprint\u001b[0m\u001b[0;34m(\u001b[0m\u001b[0mn\u001b[0m\u001b[0;34m)\u001b[0m\u001b[0;34m\u001b[0m\u001b[0;34m\u001b[0m\u001b[0m\n",
            "\u001b[0;31mKeyboardInterrupt\u001b[0m: "
          ]
        }
      ],
      "source": [
        "for n in range(0, 1000):\n",
        "  s = '7' + '1'*(n+1) + '2'*(n+2) + '3'*(n+3)\n",
        "  while '71' in s or '72' in s or '73' in s:\n",
        "    if '71' in s:\n",
        "      s = s.replace('71', '227')\n",
        "    elif '72' in s:\n",
        "      s = s.replace('72', '37')\n",
        "    elif '73' in s:\n",
        "      s = s.replace('73', '17')\n",
        "\n",
        "    if int(s) == 9*n:\n",
        "      print(n)"
      ]
    },
    {
      "cell_type": "code",
      "execution_count": null,
      "metadata": {
        "id": "udeuY4g6N5iS"
      },
      "outputs": [],
      "source": [
        "for x in range(50):\n",
        "  for y in range(50):\n",
        "    for z in range(50):\n",
        "      s = '0' + '1'*x + '2'*y + '3'*z + '0'\n",
        "      while '01' in s or '02' in s or '03' in s:\n",
        "        s = s.replace('01', '310', 1)\n",
        "        s = s.replace('02', '1201', 1)\n",
        "        s = s.replace('03', '3022', 1)\n",
        "\n",
        "      if(s.count('1')==59 and s.count('2')==25 and s.count('3')==42 and '0' in s):\n",
        "        print(x)"
      ]
    },
    {
      "cell_type": "code",
      "execution_count": null,
      "metadata": {
        "colab": {
          "base_uri": "https://localhost:8080/"
        },
        "id": "jINDIJMSrsT6",
        "outputId": "db0e704a-43a6-40a2-e1ba-eddf3e377c92"
      },
      "outputs": [
        {
          "name": "stdout",
          "output_type": "stream",
          "text": [
            "110\n"
          ]
        }
      ],
      "source": [
        "s = '>' + 10*'1' + 20*'2' + 30*'3'\n",
        "while '>1' in s or '>2' in s or '>3' in s:\n",
        "  if '>1' in s:\n",
        "    s = s.replace('>1', '22>', 1)\n",
        "  if '>2' in s:\n",
        "    s = s.replace('>2', '2>', 1)\n",
        "  if '>3' in s:\n",
        "    s = s.replace('>3', '1>', 1)\n",
        "\n",
        "print(sum(int(d) for d in s if d != '>'))"
      ]
    },
    {
      "cell_type": "markdown",
      "metadata": {
        "id": "BMB3Z4sEQ0gH"
      },
      "source": [
        "Исполнитель Редактор получает на вход строку цифр и преобразует её. Редактор может выполнять две команды, в обеих командах v и w обозначают цепочки цифр.\n",
        "\n",
        "А)  заменить (v, w).\n",
        "\n",
        "Эта команда заменяет в строке первое слева вхождение цепочки v на цепочку w. Например, выполнение команды\n",
        "\n",
        "заменить (111, 27)\n",
        "\n",
        "преобразует строку 05111150 в строку 0527150.\n",
        "\n",
        "Если в строке нет вхождений цепочки v, то выполнение команды заменить (v, w) не меняет эту строку.\n",
        "\n",
        "Б)  нашлось (v).\n",
        "\n",
        "Эта команда проверяет, встречается ли цепочка v в строке исполнителя Редактор. Если она встречается, то команда возвращает логическое значение «истина», в противном случае возвращает значение «ложь». Строка исполнителя при этом не изменяется.\n",
        "\n",
        "\n",
        "\n",
        "Дана программа для редактора:\n",
        "\n",
        "\n",
        "\n",
        "НАЧАЛО\n",
        "\n",
        "   ПОКА НЕ нашлось (00)\n",
        "\n",
        "      заменить (012, 30)\n",
        "\n",
        "      ЕСЛИ нашлось (011)\n",
        "\n",
        "      ТО\n",
        "\n",
        "          заменить (011, 20)\n",
        "\n",
        "          заменить (022, 40)\n",
        "\n",
        "      ИНАЧЕ\n",
        "\n",
        "          заменить (01, 10)\n",
        "\n",
        "          заменить (02, 101)\n",
        "\n",
        "      КОНЕЦ ЕСЛИ\n",
        "\n",
        "   КОНЕЦ ПОКА\n",
        "\n",
        "КОНЕЦ\n",
        "\n",
        "\n",
        "\n",
        "Известно, что исходная строка A содержала ровно два нуля  — на первом и на последнем месте, а также по 10 единиц и двоек. После выполнения данной программы получилась строка B, содержащая 6 единиц и 5 двоек. Какое наибольшее количество четвёрок может быть в строке B?\n",
        "\n",
        "Спрятать решение\n",
        "Решение."
      ]
    },
    {
      "cell_type": "code",
      "execution_count": null,
      "metadata": {
        "colab": {
          "base_uri": "https://localhost:8080/"
        },
        "id": "EbdWhq7zQ-cp",
        "outputId": "a17a6b35-452c-4d5b-cd94-99d970489571"
      },
      "outputs": [
        {
          "name": "stdout",
          "output_type": "stream",
          "text": [
            "2\n"
          ]
        }
      ],
      "source": [
        "from itertools import product\n",
        "b=0\n",
        "for i in product ('12', repeat=20):\n",
        "    s='0'+ ''.join(i) + '0'\n",
        "    if s.count('1') == 10 and s.count('2') == 10:\n",
        "        while not '00' in s:\n",
        "            s = s.replace('012','30')\n",
        "            if '011' in s:\n",
        "                s = s.replace('011','20')\n",
        "                s = s.replace('022','40')\n",
        "            else:\n",
        "                s = s.replace('01','10')\n",
        "                s = s.replace('02','101')\n",
        "        if s.count('1') == 6 and s.count('2') == 5:\n",
        "            b=max(b,s.count('4'))\n",
        "print(b)"
      ]
    },
    {
      "cell_type": "code",
      "execution_count": null,
      "metadata": {
        "id": "N0w38xiROEl0"
      },
      "outputs": [],
      "source": [
        "b = 0\n",
        "for x in range(50):\n",
        "  for i in range(50):\n",
        "    s = '0' + '1'*x + 2*'y' + '0'\n",
        "    while not '00' in s:\n",
        "      s = s.replace('012', '30', 1)\n",
        "    if '011' in s:\n",
        "      s = s.replace('011', '20', 1)\n",
        "      s = s.replace('022', '40', 1)\n",
        "    else:\n",
        "      s = s.replace('01', '10', 1)\n",
        "      s = s.replace('02', '101', 1)\n",
        "\n",
        "    if(s.count('1') == 6 and s.count('2') == 5):\n",
        "      b = max(b, s.count('4'))\n",
        "\n",
        "print(b)"
      ]
    },
    {
      "cell_type": "code",
      "execution_count": null,
      "metadata": {
        "colab": {
          "base_uri": "https://localhost:8080/",
          "height": 887
        },
        "id": "1vIVkomn3WnJ",
        "outputId": "5176abee-d51e-473c-badb-6118c29726f3"
      },
      "outputs": [
        {
          "name": "stdout",
          "output_type": "stream",
          "text": [
            "107\n",
            "109\n",
            "111\n",
            "113\n",
            "115\n",
            "117\n",
            "119\n",
            "121\n",
            "123\n",
            "125\n",
            "127\n",
            "129\n",
            "131\n",
            "133\n",
            "135\n",
            "137\n",
            "139\n",
            "141\n",
            "143\n",
            "145\n",
            "147\n",
            "149\n",
            "151\n",
            "153\n",
            "155\n",
            "157\n",
            "159\n",
            "161\n",
            "163\n",
            "165\n",
            "167\n",
            "169\n",
            "171\n",
            "173\n",
            "175\n",
            "177\n",
            "179\n"
          ]
        },
        {
          "ename": "KeyboardInterrupt",
          "evalue": "",
          "output_type": "error",
          "traceback": [
            "\u001b[0;31m---------------------------------------------------------------------------\u001b[0m",
            "\u001b[0;31mKeyboardInterrupt\u001b[0m                         Traceback (most recent call last)",
            "\u001b[0;32m<ipython-input-9-900d56794c34>\u001b[0m in \u001b[0;36m<cell line: 2>\u001b[0;34m()\u001b[0m\n\u001b[1;32m     10\u001b[0m       \u001b[0ms\u001b[0m \u001b[0;34m=\u001b[0m \u001b[0ms\u001b[0m\u001b[0;34m.\u001b[0m\u001b[0mreplace\u001b[0m\u001b[0;34m(\u001b[0m\u001b[0;34m'3322'\u001b[0m\u001b[0;34m,\u001b[0m \u001b[0;34m'21'\u001b[0m\u001b[0;34m,\u001b[0m \u001b[0;36m1\u001b[0m\u001b[0;34m)\u001b[0m\u001b[0;34m\u001b[0m\u001b[0;34m\u001b[0m\u001b[0m\n\u001b[1;32m     11\u001b[0m \u001b[0;34m\u001b[0m\u001b[0m\n\u001b[0;32m---> 12\u001b[0;31m     \u001b[0;32mif\u001b[0m \u001b[0msum\u001b[0m\u001b[0;34m(\u001b[0m\u001b[0mmap\u001b[0m\u001b[0;34m(\u001b[0m\u001b[0mint\u001b[0m\u001b[0;34m,\u001b[0m \u001b[0ms\u001b[0m\u001b[0;34m)\u001b[0m\u001b[0;34m)\u001b[0m \u001b[0;34m==\u001b[0m \u001b[0;36m218\u001b[0m\u001b[0;34m:\u001b[0m\u001b[0;34m\u001b[0m\u001b[0;34m\u001b[0m\u001b[0m\n\u001b[0m\u001b[1;32m     13\u001b[0m       \u001b[0mans\u001b[0m\u001b[0;34m.\u001b[0m\u001b[0mappend\u001b[0m\u001b[0;34m(\u001b[0m\u001b[0mn\u001b[0m\u001b[0;34m)\u001b[0m\u001b[0;34m\u001b[0m\u001b[0;34m\u001b[0m\u001b[0m\n\u001b[1;32m     14\u001b[0m       \u001b[0mprint\u001b[0m\u001b[0;34m(\u001b[0m\u001b[0mn\u001b[0m\u001b[0;34m)\u001b[0m\u001b[0;34m\u001b[0m\u001b[0;34m\u001b[0m\u001b[0m\n",
            "\u001b[0;31mKeyboardInterrupt\u001b[0m: "
          ]
        }
      ],
      "source": [
        "ans = []\n",
        "for n in range(4, 10000+1):\n",
        "  s = '1' + n*'2'\n",
        "  while '12' in s or '3322' in s or '2222' in s:\n",
        "    if '12' in s:\n",
        "      s = s.replace('12', '33', 1)\n",
        "    elif '2222' in s:\n",
        "      s = s.replace('2222', '1', 1)\n",
        "    elif '3322' in s:\n",
        "      s = s.replace('3322', '21', 1)\n",
        "\n",
        "    if sum(map(int, s)) == 218:\n",
        "      ans.append(n)\n",
        "      print(n)\n",
        "\n",
        "\n",
        "print(min(ans))\n",
        "\n",
        "\n",
        "\n"
      ]
    },
    {
      "cell_type": "markdown",
      "metadata": {
        "id": "bUEXZ1DQ1y60"
      },
      "source": [
        "# 5 Задание\n"
      ]
    },
    {
      "cell_type": "code",
      "execution_count": null,
      "metadata": {
        "id": "COjeZ-VyclHu",
        "colab": {
          "base_uri": "https://localhost:8080/"
        },
        "outputId": "34d3836c-0205-425f-d8c2-669f9544e67f"
      },
      "outputs": [
        {
          "output_type": "stream",
          "name": "stdout",
          "text": [
            "1\n",
            "2\n",
            "3\n",
            "4\n",
            "5\n",
            "6\n",
            "7\n",
            "8\n",
            "9\n",
            "10\n",
            "11\n",
            "12\n",
            "13\n",
            "14\n",
            "15\n",
            "16\n",
            "17\n",
            "21\n",
            "25\n",
            "29\n",
            "33\n",
            "37\n",
            "41\n",
            "45\n",
            "49\n",
            "53\n",
            "57\n",
            "61\n"
          ]
        }
      ],
      "source": [
        "def transfrom(x):\n",
        "  s = ''\n",
        "  while x != 0:\n",
        "    s += str(x % 4)\n",
        "    x = x // 4\n",
        "\n",
        "  s = s[::-1]\n",
        "  return s\n",
        "\n",
        "\n",
        "for n in range(1, 100):\n",
        "  s = transfrom(n)\n",
        "  if n % 4 == 0:\n",
        "    s = s + s[-2:]\n",
        "  else:\n",
        "    s = s + transfrom((n % 4) * 2)\n",
        "\n",
        "  res = int(s, 4)\n",
        "  if res < 261:\n",
        "    print(n)\n",
        "\n"
      ]
    },
    {
      "cell_type": "code",
      "source": [
        " x = 111111\n",
        " while x != 0:\n",
        "  s += str(x % 4)\n",
        "  x = x // 4\n",
        "\n",
        "s = s[::-1]\n",
        "print(s)"
      ],
      "metadata": {
        "colab": {
          "base_uri": "https://localhost:8080/"
        },
        "id": "D52YMZ-dclPi",
        "outputId": "859f833b-7000-4fbf-eb2f-46ae512e6b92"
      },
      "execution_count": null,
      "outputs": [
        {
          "output_type": "stream",
          "name": "stdout",
          "text": [
            "123020013\n"
          ]
        }
      ]
    },
    {
      "cell_type": "code",
      "execution_count": null,
      "metadata": {
        "colab": {
          "base_uri": "https://localhost:8080/"
        },
        "id": "pN6tktT113ch",
        "outputId": "bdba61ce-1222-4e3d-d268-53c47ae4d41e"
      },
      "outputs": [
        {
          "name": "stdout",
          "output_type": "stream",
          "text": [
            "{256, 512, 4096, 2048, 1024}\n",
            "5\n"
          ]
        }
      ],
      "source": [
        "A = set()\n",
        "for N in range(500, 5000):\n",
        "  N2 = bin(N)[2:]\n",
        "  x2 = N2[1:].lstrip('0')\n",
        "  if x2 == '': x2 = '0'\n",
        "  x = int(x2, 2)\n",
        "  A.add(N - x)\n",
        "print(A)\n",
        "print(len(A))\n"
      ]
    },
    {
      "cell_type": "code",
      "execution_count": null,
      "metadata": {
        "colab": {
          "base_uri": "https://localhost:8080/"
        },
        "id": "AconENES6nNF",
        "outputId": "d1b8f4b7-34cf-45a1-beee-04648a65def7"
      },
      "outputs": [
        {
          "name": "stdout",
          "output_type": "stream",
          "text": [
            "9\n",
            "39\n",
            "69\n",
            "99\n"
          ]
        }
      ],
      "source": [
        "for x in range(0, 100):\n",
        "  a = str(x % 2)\n",
        "  b = str(x % 3)\n",
        "  c = str(x % 5)\n",
        "  num = int(a+b+c)\n",
        "  if num == 104:\n",
        "    print(x)"
      ]
    },
    {
      "cell_type": "code",
      "execution_count": null,
      "metadata": {
        "colab": {
          "base_uri": "https://localhost:8080/"
        },
        "id": "mHpgTaYpBnkt",
        "outputId": "e64415a5-6e83-4a4c-ee36-62eab79357d8"
      },
      "outputs": [
        {
          "name": "stdout",
          "output_type": "stream",
          "text": [
            "11\n"
          ]
        }
      ],
      "source": [
        "s = ''\n",
        "for i in range(1, 100):\n",
        "  n2 = bin(i)[2:]\n",
        "  if i % 3 == 0:\n",
        "    n2 = n2 + str(n2[-3:])\n",
        "  else:\n",
        "    k = (i % 3) * 3\n",
        "    t = bin(k)[2:]\n",
        "    n2 = n2 + str(t)\n",
        "  if int(n2, 2) > 75:\n",
        "    print(i)\n",
        "    break"
      ]
    },
    {
      "cell_type": "code",
      "execution_count": null,
      "metadata": {
        "colab": {
          "base_uri": "https://localhost:8080/"
        },
        "id": "7q8kWVMrLq8n",
        "outputId": "dae6728a-a451-4a06-84a6-a1a857cddd0a"
      },
      "outputs": [
        {
          "name": "stdout",
          "output_type": "stream",
          "text": [
            "21\n",
            "40\n",
            "46\n"
          ]
        }
      ],
      "source": [
        "for i in range(2, 1000):\n",
        "  if i % 4 == 0:\n",
        "    a1 = i / 2\n",
        "  else:\n",
        "    a1 = i -1\n",
        "\n",
        "  if a1 % 5 == 0:\n",
        "    a2 = a1 / 5\n",
        "  else:\n",
        "    a2 = a1 - 1\n",
        "\n",
        "  if a2 % 3 == 0:\n",
        "    a3 = a2 / 3\n",
        "  else:\n",
        "    a3 = a2 -1\n",
        "\n",
        "  if a3 == 3:\n",
        "    print(i)"
      ]
    },
    {
      "cell_type": "code",
      "execution_count": null,
      "metadata": {
        "colab": {
          "base_uri": "https://localhost:8080/"
        },
        "id": "I9t0oqxCByns",
        "outputId": "e68f01cd-9c41-4c40-f9c8-655b47214cee"
      },
      "outputs": [
        {
          "name": "stdout",
          "output_type": "stream",
          "text": [
            "6\n"
          ]
        }
      ],
      "source": [
        "a = '123456'\n",
        "print(a[-1])"
      ]
    },
    {
      "cell_type": "code",
      "execution_count": null,
      "metadata": {
        "id": "6lw5e4CQ87B7"
      },
      "outputs": [],
      "source": [
        "for i in range(1, 100):\n",
        "  n2 = bin(i)[2:]\n",
        "  n3 = str(n2) + str(n2)[-1]\n",
        "  if n3.count('1') % 2 == 0:\n",
        "    n3 = n3 + '0'\n",
        "  else:\n",
        "    n3 = n3 + '1'\n",
        "\n",
        "  if n3.count('1') % 2 == 0:\n",
        "    n3 = n3 + '0'\n",
        "  else:\n",
        "    n3 = n3 + '1'\n",
        "\n",
        "  r = int(n3, 2)\n",
        "  if r > 150:\n",
        "    print(i)\n"
      ]
    },
    {
      "cell_type": "code",
      "execution_count": null,
      "metadata": {
        "id": "0_EWZV2GCbR4"
      },
      "outputs": [],
      "source": [
        "for i in range(0, 100):\n",
        "  n = bin(i)[2:]\n",
        "  if i % 2 == 0:\n",
        "    n1 = str(n) + '01'\n",
        "  else:\n",
        "    n1 = str(n) + '10'\n",
        "\n",
        "  r = int(n1, 2)\n",
        "  if r > 73:\n",
        "    print(i)"
      ]
    },
    {
      "cell_type": "code",
      "execution_count": null,
      "metadata": {
        "id": "mksRbd22CbZN"
      },
      "outputs": [],
      "source": [
        "for i in range(0, 100):\n",
        "  n = bin(i)[2:]\n",
        "  n1 = str(n) + str(n)[-1]\n",
        "  if n1.count('1') % 2 == 0:\n",
        "    n2 = n1 + '0'\n",
        "  else:\n",
        "    n2 = n1 + '1'\n",
        "  if n2.count('1') % 2 == 0:\n",
        "    n2 = n2 + '0'\n",
        "  else:\n",
        "    n2 = n2 + '1'\n",
        "\n",
        "    r = int(n2, 2)\n",
        "    if r > 150:\n",
        "      print(i)\n",
        "\n"
      ]
    },
    {
      "cell_type": "code",
      "execution_count": null,
      "metadata": {
        "id": "zTRBHVNkgxCN"
      },
      "outputs": [],
      "source": [
        "for i in range(1, 100):\n",
        "  n2 = bin(i)[2:]\n",
        "  n3 = str(n2) + str(n2)[-1]\n",
        "  if n3.count('1') % 2 == 0:\n",
        "    n3 = n3 + '0'\n",
        "  else:\n",
        "    n3 = n3 + '1'\n",
        "\n",
        "  if n3.count('1') % 2 == 0:\n",
        "    n4 = n3 + '0'\n",
        "  else:\n",
        "    n4 = n3 + '1'\n",
        "\n",
        "  r = int(n4, 2)\n",
        "  if r > 150:\n",
        "    print(i)\n"
      ]
    },
    {
      "cell_type": "markdown",
      "metadata": {
        "id": "dib34oZX-8fC"
      },
      "source": [
        "# 8 задание\n"
      ]
    },
    {
      "cell_type": "code",
      "execution_count": null,
      "metadata": {
        "id": "WUCXOuZQ-_sd"
      },
      "outputs": [],
      "source": [
        "count = 0\n",
        "for a in \"кран\":\n",
        "  for b in \"кран\":\n",
        "    for c in \"кран\":\n",
        "      X = a + b + c\n",
        "      if \"а\" in X:\n",
        "          count += 1\n",
        "print(count)"
      ]
    },
    {
      "cell_type": "code",
      "source": [
        "from itertools import *\n",
        "c = 0\n",
        "k = 0\n",
        "for p in product('АЕИКЛПР', repeat=6):\n",
        "  c += 1\n",
        "  if c % 2 == 0 and p[0] != 'К' and p.count('И') >= 2:\n",
        "    k += 1\n",
        "\n",
        "print(k)\n"
      ],
      "metadata": {
        "colab": {
          "base_uri": "https://localhost:8080/"
        },
        "id": "zkWKgnHPYvUR",
        "outputId": "be70f48c-69d2-4d54-cbc3-bbba15602769"
      },
      "execution_count": null,
      "outputs": [
        {
          "output_type": "stream",
          "name": "stdout",
          "text": [
            "10892\n"
          ]
        }
      ]
    },
    {
      "cell_type": "code",
      "source": [
        "from itertools import *\n",
        "c = k = 0\n",
        "\n",
        "for p in product('АВИОРТФ', repeat=6):\n",
        "  c += 1\n",
        "  if c % 2 == 0 and p[0] != 'О' and p.count('Р') == 2:\n",
        "    k += 1\n",
        "\n",
        "print(k)"
      ],
      "metadata": {
        "colab": {
          "base_uri": "https://localhost:8080/"
        },
        "id": "Ve76aQmiZv3p",
        "outputId": "b07a2e79-e3fd-4e7e-c6d3-a637f72e458b"
      },
      "execution_count": null,
      "outputs": [
        {
          "output_type": "stream",
          "name": "stdout",
          "text": [
            "8640\n"
          ]
        }
      ]
    },
    {
      "cell_type": "code",
      "execution_count": null,
      "metadata": {
        "colab": {
          "base_uri": "https://localhost:8080/"
        },
        "id": "umYNfrtEIetg",
        "outputId": "302701dd-f1e3-49db-807e-9b2c052e826f"
      },
      "outputs": [
        {
          "name": "stdout",
          "output_type": "stream",
          "text": [
            "('И', 'М', 'Р', 'А')\n"
          ]
        }
      ],
      "source": [
        "from itertools import product\n",
        "c = 0\n",
        "for p in product('АИРМЯ', repeat=4):\n",
        "  c += 1\n",
        "  if c == 211:\n",
        "    print(p)\n"
      ]
    },
    {
      "cell_type": "code",
      "execution_count": null,
      "metadata": {
        "colab": {
          "base_uri": "https://localhost:8080/"
        },
        "id": "hD2-MSre-lKF",
        "outputId": "8499ddf1-3baf-499d-da03-dac30b0fae46"
      },
      "outputs": [
        {
          "name": "stdout",
          "output_type": "stream",
          "text": [
            "4\n"
          ]
        }
      ],
      "source": [
        "from itertools import product\n",
        "count = 0\n",
        "for p in product('0123', repeat=3):\n",
        "  if int(p[0]) - 1 >= int(p[1]):\n",
        "    if int(p[1]) - 1 >= int(p[2]):\n",
        "      count += 1\n",
        "\n",
        "print(count)\n"
      ]
    },
    {
      "cell_type": "markdown",
      "metadata": {
        "id": "jOR7NfL_VpD6"
      },
      "source": [
        "Шифр кодового замка представляет собой последовательность из пяти символов, каждый из которых является цифрой от 1 до 4. Сколько различных вариантов шифра можно задать, если известно, что цифра 1 встречается ровно два раза, а каждая из других допустимых цифр может встречаться в шифре любое количество раз или не встречаться совсем?"
      ]
    },
    {
      "cell_type": "code",
      "execution_count": null,
      "metadata": {
        "colab": {
          "base_uri": "https://localhost:8080/"
        },
        "id": "dLAauMGTVqfz",
        "outputId": "82772391-faaf-4377-ca7b-742851478874"
      },
      "outputs": [
        {
          "name": "stdout",
          "output_type": "stream",
          "text": [
            "270\n"
          ]
        }
      ],
      "source": [
        "from itertools import product\n",
        "count = 0\n",
        "a = '1234'\n",
        "for p in product(a, repeat=5):\n",
        "  if p.count('1') == 2:\n",
        "    count += 1\n",
        "\n",
        "print(count)\n"
      ]
    },
    {
      "cell_type": "code",
      "execution_count": null,
      "metadata": {
        "colab": {
          "base_uri": "https://localhost:8080/"
        },
        "id": "YZZTKF0sKGub",
        "outputId": "8c272133-a903-47b9-8da8-19de24bd31bc"
      },
      "outputs": [
        {
          "name": "stdout",
          "output_type": "stream",
          "text": [
            "229\n"
          ]
        }
      ],
      "source": [
        "from itertools import *\n",
        "d = dict(zip((''.join(p) for p in product('АБЗИ', repeat=4)), count(1)))\n",
        "print(d['ИЗБА'])"
      ]
    },
    {
      "cell_type": "code",
      "execution_count": null,
      "metadata": {
        "colab": {
          "base_uri": "https://localhost:8080/"
        },
        "id": "1AdYBDG7S61L",
        "outputId": "cf0884f3-1873-49dc-acb8-62eae5d3cd65"
      },
      "outputs": [
        {
          "name": "stdout",
          "output_type": "stream",
          "text": [
            "25\n"
          ]
        }
      ],
      "source": [
        "import itertools\n",
        "count = 0\n",
        "ans_count = 0\n",
        "for word in itertools.product('БЖОУФЦЮ', repeat=4):\n",
        "  count += 1\n",
        "  if ''.join(word)[0:2] == 'ЖО' and count % 2 == 0:\n",
        "    ans_count += 1\n",
        "\n",
        "print(ans_count)\n",
        "\n"
      ]
    },
    {
      "cell_type": "code",
      "execution_count": null,
      "metadata": {
        "colab": {
          "base_uri": "https://localhost:8080/"
        },
        "id": "IvnoMrMoTgqx",
        "outputId": "310192d0-04bd-418f-f1b0-a90d31b0634b"
      },
      "outputs": [
        {
          "name": "stdout",
          "output_type": "stream",
          "text": [
            "ab\n"
          ]
        }
      ],
      "source": [
        "a = 'abcdf'\n",
        "print(a[0:2])"
      ]
    },
    {
      "cell_type": "code",
      "execution_count": null,
      "metadata": {
        "colab": {
          "base_uri": "https://localhost:8080/"
        },
        "id": "UDEimXg0LLk0",
        "outputId": "7e4c4a28-dfbd-4fbc-cb3c-98acc3454800"
      },
      "outputs": [
        {
          "name": "stdout",
          "output_type": "stream",
          "text": [
            "150000\n"
          ]
        }
      ],
      "source": [
        "k = 0\n",
        "for p in itertools.product('ЧИСТЫЙРАЗУМ', repeat=5):\n",
        "  if p.count('Й') <= 1:\n",
        "    k += 1\n",
        "print(k)"
      ]
    },
    {
      "cell_type": "code",
      "execution_count": null,
      "metadata": {
        "id": "F9-JFpbZMsAT"
      },
      "outputs": [],
      "source": []
    },
    {
      "cell_type": "code",
      "execution_count": null,
      "metadata": {
        "colab": {
          "base_uri": "https://localhost:8080/",
          "height": 245
        },
        "id": "jaoVYxSuHs3d",
        "outputId": "a3872606-da38-4f50-a350-04fcccb35ba0"
      },
      "outputs": [
        {
          "ename": "NameError",
          "evalue": "ignored",
          "output_type": "error",
          "traceback": [
            "\u001b[0;31m---------------------------------------------------------------------------\u001b[0m",
            "\u001b[0;31mNameError\u001b[0m                                 Traceback (most recent call last)",
            "\u001b[0;32m<ipython-input-5-1f40917df623>\u001b[0m in \u001b[0;36m<cell line: 2>\u001b[0;34m()\u001b[0m\n\u001b[1;32m      1\u001b[0m \u001b[0mk\u001b[0m\u001b[0;34m=\u001b[0m \u001b[0;36m0\u001b[0m\u001b[0;34m\u001b[0m\u001b[0;34m\u001b[0m\u001b[0m\n\u001b[0;32m----> 2\u001b[0;31m \u001b[0;32mfor\u001b[0m \u001b[0mp\u001b[0m \u001b[0;32min\u001b[0m \u001b[0mitertools\u001b[0m\u001b[0;34m.\u001b[0m\u001b[0mproduct\u001b[0m\u001b[0;34m(\u001b[0m\u001b[0;34m'КAСТ'\u001b[0m\u001b[0;34m,\u001b[0m \u001b[0mrepeat\u001b[0m\u001b[0;34m=\u001b[0m\u001b[0;36m5\u001b[0m\u001b[0;34m)\u001b[0m\u001b[0;34m:\u001b[0m\u001b[0;34m\u001b[0m\u001b[0;34m\u001b[0m\u001b[0m\n\u001b[0m\u001b[1;32m      3\u001b[0m   \u001b[0;32mif\u001b[0m \u001b[0mp\u001b[0m\u001b[0;34m.\u001b[0m\u001b[0mcount\u001b[0m\u001b[0;34m(\u001b[0m\u001b[0;34m'A'\u001b[0m\u001b[0;34m)\u001b[0m \u001b[0;34m==\u001b[0m \u001b[0;36m1\u001b[0m \u001b[0;32mor\u001b[0m \u001b[0mp\u001b[0m\u001b[0;34m.\u001b[0m\u001b[0mcount\u001b[0m\u001b[0;34m(\u001b[0m\u001b[0;34m'A'\u001b[0m\u001b[0;34m)\u001b[0m \u001b[0;34m==\u001b[0m \u001b[0;36m2\u001b[0m\u001b[0;34m:\u001b[0m\u001b[0;34m\u001b[0m\u001b[0;34m\u001b[0m\u001b[0m\n\u001b[1;32m      4\u001b[0m     \u001b[0mk\u001b[0m \u001b[0;34m+=\u001b[0m \u001b[0;36m1\u001b[0m\u001b[0;34m\u001b[0m\u001b[0;34m\u001b[0m\u001b[0m\n\u001b[1;32m      5\u001b[0m \u001b[0;34m\u001b[0m\u001b[0m\n",
            "\u001b[0;31mNameError\u001b[0m: name 'itertools' is not defined"
          ]
        }
      ],
      "source": [
        "k= 0\n",
        "for p in itertools.product('КAСТ', repeat=5):\n",
        "  if p.count('A') == 1 or p.count('A') == 2:\n",
        "    k += 1\n",
        "\n",
        "print(k)"
      ]
    },
    {
      "cell_type": "code",
      "execution_count": null,
      "metadata": {
        "colab": {
          "base_uri": "https://localhost:8080/"
        },
        "id": "p9d5fgsrSZeh",
        "outputId": "21f3be98-3caa-445a-cecc-0b143505a6e8"
      },
      "outputs": [
        {
          "name": "stdout",
          "output_type": "stream",
          "text": [
            "84\n"
          ]
        }
      ],
      "source": [
        "from itertools import *\n",
        "S = set(''.join(p) for p in permutations(\"KAПKAН\"))\n",
        "s1 = {word for word in S if 'AA' not in word}\n",
        "s2 = {word for word in s1 if 'KK' not in word}\n",
        "print(len(s2))"
      ]
    },
    {
      "cell_type": "code",
      "execution_count": null,
      "metadata": {
        "colab": {
          "base_uri": "https://localhost:8080/"
        },
        "id": "U0BEOgBdUrdB",
        "outputId": "4d7759cd-28fd-4da1-f8e1-1356749e9251"
      },
      "outputs": [
        {
          "data": {
            "text/plain": [
              "2711"
            ]
          },
          "execution_count": 18,
          "metadata": {},
          "output_type": "execute_result"
        }
      ],
      "source": [
        "\n",
        "d = dict(zip((''.join(p) for p in product(\"АКЛОШ\", repeat=5)), count(1)))\n",
        "d[\"ШКОЛА\"]"
      ]
    },
    {
      "cell_type": "code",
      "execution_count": null,
      "metadata": {
        "colab": {
          "base_uri": "https://localhost:8080/"
        },
        "id": "GQ4sDYjLXbbd",
        "outputId": "7c6164f2-b3b9-4ebc-b246-2605b341999d"
      },
      "outputs": [
        {
          "name": "stdout",
          "output_type": "stream",
          "text": [
            "2711\n"
          ]
        }
      ],
      "source": [
        "n = 0\n",
        "for a in \"аклош\":\n",
        "  for b in \"аклош\":\n",
        "    for c in \"аклош\":\n",
        "      for d in \"аклош\":\n",
        "        for e in \"аклош\":\n",
        "          x = a + b + c + d + e\n",
        "          n += 1\n",
        "          if x == 'школа':\n",
        "            print(n)\n"
      ]
    },
    {
      "cell_type": "code",
      "execution_count": null,
      "metadata": {
        "colab": {
          "base_uri": "https://localhost:8080/"
        },
        "id": "7NeMa8Oiaw-d",
        "outputId": "4b11c0d9-4264-469a-a549-38b7588c7996"
      },
      "outputs": [
        {
          "name": "stdout",
          "output_type": "stream",
          "text": [
            "2961\n"
          ]
        }
      ],
      "source": [
        "k = 0\n",
        "for x in range(0o10000, 0o100000):\n",
        "    s = oct(x)[2:]\n",
        "    if (s.count('6') == 1\n",
        "        and all(b + '6' not in s for b in '1357')\n",
        "        and all('6' + b not in s for b in '1357')):\n",
        "        k += 1\n",
        "print(k)"
      ]
    },
    {
      "cell_type": "code",
      "execution_count": null,
      "metadata": {
        "colab": {
          "base_uri": "https://localhost:8080/"
        },
        "id": "CiEM3bENKfNk",
        "outputId": "3dcf23bb-50bb-4356-9fda-0a05c19098ce"
      },
      "outputs": [
        {
          "name": "stdout",
          "output_type": "stream",
          "text": [
            "240\n"
          ]
        }
      ],
      "source": [
        "from itertools import *\n",
        "a = permutations('ФОКСИК')\n",
        "b = set(a)\n",
        "k = 0\n",
        "for c in b:\n",
        "  w = ''.join(c)\n",
        "  if w.count('ОИ') or w.count('ИО') > 0:\n",
        "    k += 1\n",
        "print(len(b) - k)\n"
      ]
    },
    {
      "cell_type": "code",
      "execution_count": null,
      "metadata": {
        "colab": {
          "base_uri": "https://localhost:8080/"
        },
        "id": "BZzORtkbI_Xc",
        "outputId": "c4c8e094-6142-471c-b56d-fddebafd3665"
      },
      "outputs": [
        {
          "name": "stdout",
          "output_type": "stream",
          "text": [
            "37\n"
          ]
        }
      ],
      "source": [
        "from itertools import *\n",
        "print(sum(1 for p in product(\"КАСТ\", repeat=3) if \"А\" in p))"
      ]
    },
    {
      "cell_type": "code",
      "execution_count": null,
      "metadata": {
        "colab": {
          "base_uri": "https://localhost:8080/"
        },
        "id": "yhEEtb_fD89s",
        "outputId": "c8c32134-a282-4ea9-9871-e42111466d43"
      },
      "outputs": [
        {
          "name": "stdout",
          "output_type": "stream",
          "text": [
            "0 1\n",
            "1 2\n",
            "2 3\n",
            "3 4\n",
            "4 5\n",
            "5 6\n",
            "6 7\n",
            "7 8\n",
            "8 9\n"
          ]
        }
      ],
      "source": [
        "import itertools\n",
        "for x, y in itertools.pairwise([0, 1, 2, 3, 4, 5, 6, 7, 8, 9]):\n",
        "  print(x, y)"
      ]
    },
    {
      "cell_type": "code",
      "execution_count": null,
      "metadata": {
        "id": "12BpSXl0GhC1"
      },
      "outputs": [],
      "source": [
        "s = itertools.permutations('ABCDE')\n",
        "while True:\n",
        "  print(next(s))"
      ]
    },
    {
      "cell_type": "code",
      "execution_count": null,
      "metadata": {
        "colab": {
          "base_uri": "https://localhost:8080/"
        },
        "id": "oZi3IW9bq7bk",
        "outputId": "1f23e93c-501b-45fa-fc54-53111a2c842d"
      },
      "outputs": [
        {
          "name": "stdout",
          "output_type": "stream",
          "text": [
            "1458\n"
          ]
        }
      ],
      "source": [
        "import itertools\n",
        "r = []\n",
        "count = 0\n",
        "s = itertools.product('КРОТ', repeat=6)\n",
        "for i in s:\n",
        "  r.append(i)\n",
        "\n",
        "for n in r:\n",
        "  if n.count('О') == 1:\n",
        "    count += 1\n",
        "print(count)\n"
      ]
    },
    {
      "cell_type": "code",
      "execution_count": null,
      "metadata": {
        "colab": {
          "base_uri": "https://localhost:8080/"
        },
        "id": "LjLH7NHYsd-Y",
        "outputId": "cae022dc-37e9-4c40-ffb7-72a55e48d507"
      },
      "outputs": [
        {
          "name": "stdout",
          "output_type": "stream",
          "text": [
            "160\n"
          ]
        }
      ],
      "source": [
        "import itertools\n",
        "s = itertools.product('ЭТАН', repeat = 5)\n",
        "a = []\n",
        "count = 0\n",
        "\n",
        "for i in s:\n",
        "  a.append(i)\n",
        "\n",
        "for n in a:\n",
        "  if (n.count('Э') == 1 and n.count('А') == 0) or (n.count('Э') == 0 and n.count('А') == 1):\n",
        "    count += 1\n",
        "\n",
        "print(count)"
      ]
    },
    {
      "cell_type": "code",
      "execution_count": null,
      "metadata": {
        "colab": {
          "base_uri": "https://localhost:8080/"
        },
        "id": "Z6KgYqucvn0q",
        "outputId": "4c845f6a-9775-4fc8-c7aa-078916184d45"
      },
      "outputs": [
        {
          "data": {
            "text/plain": [
              "158"
            ]
          },
          "execution_count": 19,
          "metadata": {},
          "output_type": "execute_result"
        }
      ],
      "source": [
        "d = dict(zip((''.join(p) for p in product(\"АИКР\", repeat=5)), count(1)))\n",
        "d[\"АКИРИ\"]"
      ]
    },
    {
      "cell_type": "code",
      "execution_count": null,
      "metadata": {
        "colab": {
          "base_uri": "https://localhost:8080/"
        },
        "id": "mhBVXeyixdBb",
        "outputId": "6188a0d4-1efa-4367-fbfe-7d21197325dd"
      },
      "outputs": [
        {
          "name": "stdout",
          "output_type": "stream",
          "text": [
            "211\n"
          ]
        }
      ],
      "source": [
        "d = dict(zip((''.join(p) for p in product('КОСФ', repeat=4)), count(1)))\n",
        "print(d['ФОКС'])"
      ]
    },
    {
      "cell_type": "code",
      "execution_count": null,
      "metadata": {
        "id": "a70ZsPary8GG"
      },
      "outputs": [],
      "source": [
        "d = dict((zip(''.join(p) for p in product(''))))"
      ]
    },
    {
      "cell_type": "code",
      "execution_count": null,
      "metadata": {
        "id": "3yrJWo8-OzAf"
      },
      "outputs": [],
      "source": [
        "from itertools import *\n",
        "k=0\n",
        "for p in product('ЁИКЛНОС',repeat=5):\n",
        "  k+=1\n",
        "  p=''.join(p)\n",
        "  if p.count('Ё')>=2 and p[0]!='О' and p[1]=='К':\n",
        "    print(p,k)"
      ]
    },
    {
      "cell_type": "code",
      "execution_count": null,
      "metadata": {
        "colab": {
          "base_uri": "https://localhost:8080/"
        },
        "id": "LuvFcbBjO606",
        "outputId": "9eb968dc-d5f0-4eae-ec21-fe69c7342d72"
      },
      "outputs": [
        {
          "name": "stdout",
          "output_type": "stream",
          "text": [
            "0\n"
          ]
        }
      ],
      "source": [
        "k = 0\n",
        "for p in itertools.product('ДЕВИАЦИЯ', repeat=8):\n",
        "  if (p[0] == 'Е' or p[0] == 'И' or p[0] == 'А' or p[0] == 'Я') and (p[-1] == 'Д' or p[-1] == 'В' or p[-1] == 'Ц'):\n",
        "    if p.count('ДЕ') >= 1:\n",
        "      k+=1\n",
        "print(k)"
      ]
    },
    {
      "cell_type": "code",
      "execution_count": null,
      "metadata": {
        "colab": {
          "base_uri": "https://localhost:8080/"
        },
        "id": "ucEcCtHCHOCw",
        "outputId": "51ab41fc-333c-4267-b1df-a93f95c582ed"
      },
      "outputs": [
        {
          "name": "stdout",
          "output_type": "stream",
          "text": [
            "128\n"
          ]
        }
      ],
      "source": [
        "import itertools\n",
        "k = 0\n",
        "for word in itertools.product('ЛЕТО', repeat=4):\n",
        "  if word[0] == 'Л' or word[0] == 'Т':\n",
        "    k += 1\n",
        "\n",
        "print(k)"
      ]
    },
    {
      "cell_type": "code",
      "execution_count": null,
      "metadata": {
        "colab": {
          "base_uri": "https://localhost:8080/"
        },
        "id": "x075sWW6Hpe4",
        "outputId": "48af6673-96d4-45cd-d357-6243c256c9fd"
      },
      "outputs": [
        {
          "name": "stdout",
          "output_type": "stream",
          "text": [
            "256\n"
          ]
        }
      ],
      "source": [
        "import itertools\n",
        "k = 0\n",
        "for word in itertools.product('КУМА', repeat = 5):\n",
        "  if (word[0] == 'К' or word[0] == 'М') and (word[-1] == 'А' or word[-1] == 'У'):\n",
        "    k += 1\n",
        "\n",
        "print(k)"
      ]
    },
    {
      "cell_type": "code",
      "execution_count": null,
      "metadata": {
        "colab": {
          "base_uri": "https://localhost:8080/"
        },
        "id": "FZZIP37wIGWu",
        "outputId": "8972667a-b51a-4709-b7d0-af737378cfcc"
      },
      "outputs": [
        {
          "name": "stdout",
          "output_type": "stream",
          "text": [
            "324\n"
          ]
        }
      ],
      "source": [
        "import itertools\n",
        "k = 0\n",
        "for word in itertools.product('АВСХ', repeat = 5):\n",
        "  if (word[0] != 'Х' and word[1] != 'Х' and word[2] != 'Х' and word[3] != 'Х') and (word[4] == 'Х' or word[4] != 'Х'):\n",
        "    k+=1\n",
        "\n",
        "print(k)"
      ]
    },
    {
      "cell_type": "code",
      "execution_count": null,
      "metadata": {
        "colab": {
          "base_uri": "https://localhost:8080/"
        },
        "id": "eUCVoX_GI1YW",
        "outputId": "b1d055bf-e1cf-440e-b523-6ee8c39398bf"
      },
      "outputs": [
        {
          "name": "stdout",
          "output_type": "stream",
          "text": [
            "576\n"
          ]
        }
      ],
      "source": [
        "import itertools\n",
        "k = 0\n",
        "for word in itertools.product('АБВГЭЮЯ', repeat=5):\n",
        "  if (word[0] == 'Э' or word[0] == 'Ю' or word[0] == 'Я') and (word[1] != 'Э' and word[1] != 'Ю' and word[1] != 'Я' and word[2] != 'Э' and word[2] != 'Ю' and word[2] != 'Я' and\n",
        "                                                               word[3] != 'Э' and word[3] != 'Ю' and word[3] != 'Я') and (word[4] == 'Э' or word[4] == 'Ю' or word[4] == 'Я'):\n",
        "                                                               k+=1\n",
        "print(k)"
      ]
    },
    {
      "cell_type": "code",
      "execution_count": null,
      "metadata": {
        "colab": {
          "base_uri": "https://localhost:8080/",
          "height": 245
        },
        "id": "xM3c3nXnKCIP",
        "outputId": "b4335750-46cb-4940-8a0e-c9316f14c10a"
      },
      "outputs": [
        {
          "ename": "ValueError",
          "evalue": "ignored",
          "output_type": "error",
          "traceback": [
            "\u001b[0;31m---------------------------------------------------------------------------\u001b[0m",
            "\u001b[0;31mValueError\u001b[0m                                Traceback (most recent call last)",
            "\u001b[0;32m<ipython-input-26-67f028ba9898>\u001b[0m in \u001b[0;36m<cell line: 4>\u001b[0;34m()\u001b[0m\n\u001b[1;32m      5\u001b[0m   \u001b[0;32mif\u001b[0m \u001b[0mword\u001b[0m\u001b[0;34m.\u001b[0m\u001b[0mcount\u001b[0m\u001b[0;34m(\u001b[0m\u001b[0;34m'Й'\u001b[0m\u001b[0;34m)\u001b[0m \u001b[0;34m<=\u001b[0m \u001b[0;36m1\u001b[0m\u001b[0;34m:\u001b[0m\u001b[0;34m\u001b[0m\u001b[0;34m\u001b[0m\u001b[0m\n\u001b[1;32m      6\u001b[0m     \u001b[0;32mif\u001b[0m \u001b[0mword\u001b[0m\u001b[0;34m[\u001b[0m\u001b[0;36m0\u001b[0m\u001b[0;34m]\u001b[0m \u001b[0;34m!=\u001b[0m \u001b[0;34m'Й'\u001b[0m \u001b[0;32mand\u001b[0m \u001b[0mword\u001b[0m\u001b[0;34m[\u001b[0m\u001b[0;34m-\u001b[0m\u001b[0;36m1\u001b[0m\u001b[0;34m]\u001b[0m \u001b[0;34m!=\u001b[0m \u001b[0;34m'Й'\u001b[0m\u001b[0;34m:\u001b[0m\u001b[0;34m\u001b[0m\u001b[0;34m\u001b[0m\u001b[0m\n\u001b[0;32m----> 7\u001b[0;31m       \u001b[0mnumber\u001b[0m \u001b[0;34m=\u001b[0m \u001b[0mint\u001b[0m\u001b[0;34m(\u001b[0m\u001b[0mword\u001b[0m\u001b[0;34m.\u001b[0m\u001b[0mindex\u001b[0m\u001b[0;34m(\u001b[0m\u001b[0;34m'Й'\u001b[0m\u001b[0;34m)\u001b[0m\u001b[0;34m)\u001b[0m\u001b[0;34m\u001b[0m\u001b[0;34m\u001b[0m\u001b[0m\n\u001b[0m\u001b[1;32m      8\u001b[0m       \u001b[0;32mif\u001b[0m \u001b[0mword\u001b[0m\u001b[0;34m[\u001b[0m\u001b[0mnumber\u001b[0m \u001b[0;34m+\u001b[0m \u001b[0;36m1\u001b[0m\u001b[0;34m]\u001b[0m \u001b[0;34m!=\u001b[0m \u001b[0;34m'И'\u001b[0m \u001b[0;32mand\u001b[0m \u001b[0mword\u001b[0m\u001b[0;34m[\u001b[0m\u001b[0mnumber\u001b[0m \u001b[0;34m-\u001b[0m \u001b[0;36m1\u001b[0m\u001b[0;34m]\u001b[0m \u001b[0;34m!=\u001b[0m \u001b[0;34m'И'\u001b[0m\u001b[0;34m:\u001b[0m\u001b[0;34m\u001b[0m\u001b[0;34m\u001b[0m\u001b[0m\n\u001b[1;32m      9\u001b[0m         \u001b[0mk\u001b[0m \u001b[0;34m+=\u001b[0m \u001b[0;36m1\u001b[0m\u001b[0;34m\u001b[0m\u001b[0;34m\u001b[0m\u001b[0m\n",
            "\u001b[0;31mValueError\u001b[0m: tuple.index(x): x not in tuple"
          ]
        }
      ],
      "source": [
        "import itertools\n",
        "k = 0\n",
        "\n",
        "for word in itertools.product('ТИМОФЕЙ', repeat = 5):\n",
        "  if word.count('Й') <= 1:\n",
        "    if word[0] != 'Й' and word[-1] != 'Й':\n",
        "      number = word.index('Й')\n",
        "      if word[number + 1] != 'И' and word[number - 1] != 'И':\n",
        "        k += 1\n",
        "\n",
        "\n",
        "print(k)"
      ]
    },
    {
      "cell_type": "code",
      "execution_count": null,
      "metadata": {
        "colab": {
          "base_uri": "https://localhost:8080/"
        },
        "id": "Svwf98ByMWSn",
        "outputId": "d5edfc7b-aa51-4d19-f298-b4773290925d"
      },
      "outputs": [
        {
          "name": "stdout",
          "output_type": "stream",
          "text": [
            "1215\n"
          ]
        }
      ],
      "source": [
        "import itertools\n",
        "k = 0\n",
        "\n",
        "for word in itertools.product('КАНТ', repeat=6):\n",
        "  if word.count('К') == 2:\n",
        "    k += 1\n",
        "\n",
        "\n",
        "print(k)"
      ]
    },
    {
      "cell_type": "code",
      "execution_count": null,
      "metadata": {
        "id": "oGXhiXGvM0yk"
      },
      "outputs": [],
      "source": []
    },
    {
      "cell_type": "code",
      "execution_count": null,
      "metadata": {
        "colab": {
          "base_uri": "https://localhost:8080/"
        },
        "id": "-aTTl7RSPo35",
        "outputId": "ae94d5ec-b5f0-409c-f8fa-a1cf690bc42f"
      },
      "outputs": [
        {
          "name": "stdout",
          "output_type": "stream",
          "text": [
            "140544\n"
          ]
        }
      ],
      "source": [
        "counter = 0\n",
        "for a in 'АИЕЯ':\n",
        "  for middle in product('ДЕВИАЦЯ', repeat = 6):\n",
        "    for b in 'ДВЦ':\n",
        "      word = a + ''.join(middle) + b\n",
        "      if 'ДЕ' in word:\n",
        "        counter +=1\n",
        "\n",
        "print(counter)"
      ]
    },
    {
      "cell_type": "code",
      "execution_count": null,
      "metadata": {
        "id": "_sKrBD_fGz1m",
        "colab": {
          "base_uri": "https://localhost:8080/"
        },
        "outputId": "982bd1eb-4c78-4728-ebcf-06a89ed2d564"
      },
      "outputs": [
        {
          "output_type": "stream",
          "name": "stdout",
          "text": [
            "298\n"
          ]
        }
      ],
      "source": [
        "def k(a, b):\n",
        "  if a == b:\n",
        "    return 1\n",
        "  elif a > b or a == 11 or b == 1 or a == 17 or b == 17:\n",
        "    return 0\n",
        "  else:\n",
        "    return k(a+1, b) + k(a+4, b) + k(a*2, b)\n",
        "\n",
        "print(k(3, 24))"
      ]
    },
    {
      "cell_type": "markdown",
      "metadata": {
        "id": "X4K7iHJ1Icn4"
      },
      "source": [
        "# 23 задание\n"
      ]
    },
    {
      "cell_type": "code",
      "execution_count": null,
      "metadata": {
        "colab": {
          "base_uri": "https://localhost:8080/"
        },
        "id": "Sy29hDTEUVyR",
        "outputId": "44d80d0f-51f5-444c-8668-509cebddded7"
      },
      "outputs": [
        {
          "name": "stdout",
          "output_type": "stream",
          "text": [
            "13\n"
          ]
        }
      ],
      "source": [
        "def K(a, b):\n",
        "  if a==b:\n",
        "    return 1\n",
        "  elif a > b or a == 26 or b == 26:\n",
        "    return 0\n",
        "  else:\n",
        "    return K(a+1, b) + K(a*2+1, b)\n",
        "\n",
        "print(K(1, 27))\n"
      ]
    },
    {
      "cell_type": "code",
      "source": [
        "def k(a, b):\n",
        "  if a == b:\n",
        "    return 1\n",
        "  elif a > b or a == 18 or b == 18:\n",
        "    return 0\n",
        "  else:\n",
        "    return k(a+1, b) + k(a+4, b) + k(a*2, b)\n",
        "\n",
        "print(k(4, 11) * k(11, 28))"
      ],
      "metadata": {
        "colab": {
          "base_uri": "https://localhost:8080/"
        },
        "id": "LMiPwPGqI7j3",
        "outputId": "c7ea8472-174b-4c67-fbc9-0fb5d5f15708"
      },
      "execution_count": null,
      "outputs": [
        {
          "output_type": "stream",
          "name": "stdout",
          "text": [
            "483\n"
          ]
        }
      ]
    },
    {
      "cell_type": "code",
      "execution_count": null,
      "metadata": {
        "colab": {
          "base_uri": "https://localhost:8080/"
        },
        "id": "iqEgb3uhI9fK",
        "outputId": "b221112d-ebe4-437d-a978-4113c47ab650"
      },
      "outputs": [
        {
          "name": "stdout",
          "output_type": "stream",
          "text": [
            "75\n"
          ]
        }
      ],
      "source": [
        "def k(a, b):\n",
        "  if a == b:\n",
        "    return 1\n",
        "  elif a > b:\n",
        "    return 0\n",
        "  else:\n",
        "    return k(a+1, b) + k(a+2, b) + k(a+5, b)\n",
        "\n",
        "print(k(21, 30))"
      ]
    },
    {
      "cell_type": "code",
      "execution_count": null,
      "metadata": {
        "colab": {
          "base_uri": "https://localhost:8080/"
        },
        "id": "1VQDhLhlrRZQ",
        "outputId": "3104429c-587e-4597-c96c-a1ce1d3048fb"
      },
      "outputs": [
        {
          "name": "stdout",
          "output_type": "stream",
          "text": [
            "3454\n"
          ]
        }
      ],
      "source": [
        "def K(a, b):\n",
        "  if a == b:\n",
        "    return 1\n",
        "  elif a > b:\n",
        "    return 0\n",
        "  else:\n",
        "    return K(a+1, b) + K(a*2, b) + K(a*3, b)\n",
        "\n",
        "\n",
        "print(K(3, 89))"
      ]
    },
    {
      "cell_type": "markdown",
      "metadata": {
        "id": "e_PrOKN1T8xA"
      },
      "source": [
        "Реккурентное решение"
      ]
    },
    {
      "cell_type": "code",
      "execution_count": null,
      "metadata": {
        "colab": {
          "base_uri": "https://localhost:8080/"
        },
        "id": "S9sZJr6aIh5Q",
        "outputId": "7c23eff6-b6bb-48f4-9dc7-0fda7c4ed289"
      },
      "outputs": [
        {
          "name": "stdout",
          "output_type": "stream",
          "text": [
            "88\n"
          ]
        }
      ],
      "source": [
        "def K(a, b):\n",
        "  if a == b:\n",
        "    return 1\n",
        "  elif a > b:\n",
        "    return 0\n",
        "  else:\n",
        "    return K(a, b-1) + K(a, b-3)\n",
        "\n",
        "print(K(1, 14))"
      ]
    },
    {
      "cell_type": "code",
      "execution_count": null,
      "metadata": {
        "colab": {
          "base_uri": "https://localhost:8080/"
        },
        "id": "mi-GUg43E7tA",
        "outputId": "71b88a39-1c3c-4757-fd6f-c6fac574c997"
      },
      "outputs": [
        {
          "name": "stdout",
          "output_type": "stream",
          "text": [
            "38\n"
          ]
        }
      ],
      "source": [
        "def K(a, b):\n",
        "  if a == b:\n",
        "    return 1\n",
        "  elif a > b or b == 10 or a == 10:\n",
        "    return 0\n",
        "  else:\n",
        "    return K(a+1, b) + K(a*2, b)\n",
        "\n",
        "print(K(1, 25) * K(25, 28))\n"
      ]
    },
    {
      "cell_type": "code",
      "execution_count": null,
      "metadata": {
        "colab": {
          "base_uri": "https://localhost:8080/"
        },
        "id": "cptmrP7dFuMs",
        "outputId": "fc54964a-7e30-4d09-f464-f796e97a15d6"
      },
      "outputs": [
        {
          "name": "stdout",
          "output_type": "stream",
          "text": [
            "46\n"
          ]
        }
      ],
      "source": [
        "def k(a, b):\n",
        "  if a == b:\n",
        "    return 1\n",
        "  elif a > b:\n",
        "    return 0\n",
        "  else:\n",
        "    return k(a*3, b) + k(a+2, b) + k(a+3, b)\n",
        "\n",
        "print(k(2, 15) * k(15, 21))"
      ]
    },
    {
      "cell_type": "code",
      "execution_count": null,
      "metadata": {
        "colab": {
          "base_uri": "https://localhost:8080/"
        },
        "id": "Wxwp50FdGHts",
        "outputId": "958b7e3f-c331-4bcc-cb0c-fe08007a54c6"
      },
      "outputs": [
        {
          "name": "stdout",
          "output_type": "stream",
          "text": [
            "264\n"
          ]
        }
      ],
      "source": [
        "def k(a, b):\n",
        "  if a == b:\n",
        "    return 1\n",
        "  elif a > b:\n",
        "    return 0\n",
        "  else:\n",
        "    return k(a+3, b) + k(a+2, b) + k(a*2, b)\n",
        "\n",
        "print(k(10, 18) * k(18, 36))"
      ]
    },
    {
      "cell_type": "code",
      "execution_count": null,
      "metadata": {
        "colab": {
          "base_uri": "https://localhost:8080/"
        },
        "id": "KdKP76MMGimD",
        "outputId": "f491b686-a2bc-45c7-eea4-848a20e79297"
      },
      "outputs": [
        {
          "name": "stdout",
          "output_type": "stream",
          "text": [
            "105\n"
          ]
        }
      ],
      "source": [
        "def k(a, b):\n",
        "  if a == b:\n",
        "    return 1\n",
        "  elif a > b or a == 18 or b == 18:\n",
        "    return 0\n",
        "  else:\n",
        "    return k(a+1, b) + k(a*2, b) + k(a*3, b)\n",
        "\n",
        "print(k(2, 12) * k(12, 36))"
      ]
    },
    {
      "cell_type": "code",
      "execution_count": null,
      "metadata": {
        "colab": {
          "base_uri": "https://localhost:8080/"
        },
        "id": "vHy3vSWjJHbP",
        "outputId": "0e9d8ad5-26d8-4dd0-f60f-0aa388693dc6"
      },
      "outputs": [
        {
          "name": "stdout",
          "output_type": "stream",
          "text": [
            "116\n"
          ]
        }
      ],
      "source": [
        "def k(a, b):\n",
        "  if a == b:\n",
        "    return 1\n",
        "  elif a > b or a == 24 or b == 24:\n",
        "    return 0\n",
        "  else:\n",
        "    return k(a+1, b) + k(a*2, b) + k(a*a, b)\n",
        "\n",
        "print(k(2, 16) * k(16, 38))"
      ]
    },
    {
      "cell_type": "code",
      "execution_count": null,
      "metadata": {
        "colab": {
          "base_uri": "https://localhost:8080/"
        },
        "id": "nTDXusA1JkVL",
        "outputId": "6fc3f96b-8aeb-4da7-8aca-e5e4a6c78f85"
      },
      "outputs": [
        {
          "name": "stdout",
          "output_type": "stream",
          "text": [
            "304\n"
          ]
        }
      ],
      "source": [
        "def k(a, b):\n",
        "  if a == b:\n",
        "    return 1\n",
        "  elif a > b or a == 18 or b == 18:\n",
        "    return 0\n",
        "  else:\n",
        "    return k(a+1, b) + k(a*2, b) + k(a*3, b)\n",
        "\n",
        "print(k(1, 12) * k(12, 39))"
      ]
    },
    {
      "cell_type": "code",
      "execution_count": null,
      "metadata": {
        "id": "pzbX8TbSKSKI"
      },
      "outputs": [],
      "source": [
        "def k(a, b):\n",
        "  if a == b:\n",
        "    return 1\n",
        "  elif a > b:\n",
        "    return 0"
      ]
    },
    {
      "cell_type": "markdown",
      "metadata": {
        "id": "tBZiCoJYUBHo"
      },
      "source": [
        "Динамическое программирование"
      ]
    },
    {
      "cell_type": "code",
      "execution_count": null,
      "metadata": {
        "colab": {
          "base_uri": "https://localhost:8080/"
        },
        "id": "p5_j7NXxUFih",
        "outputId": "4ce3079a-db73-4ed9-9cd6-276eacaea1c2"
      },
      "outputs": [
        {
          "name": "stdout",
          "output_type": "stream",
          "text": [
            "88\n"
          ]
        }
      ],
      "source": [
        "K = [0, 1, 1, 1] + [None] * 11\n",
        "# 0 способов попасть в 0, 1 способ в 1, 1 способ в 2, 1 способ в 3\n",
        "for n in range(4, 15):\n",
        "  K[n] = K[n-1] + K[n-3]\n",
        "\n",
        "print(K[14])"
      ]
    },
    {
      "cell_type": "markdown",
      "metadata": {
        "id": "R10o7z_jZU5L"
      },
      "source": [
        "прибавить 1, прибавить 2. исходное число 1 - результат 20, траектория содержит 10"
      ]
    },
    {
      "cell_type": "code",
      "execution_count": null,
      "metadata": {
        "colab": {
          "base_uri": "https://localhost:8080/"
        },
        "id": "tVnaQUsHYYYg",
        "outputId": "ea601930-d620-4cc4-b08f-6c18be1a3189"
      },
      "outputs": [
        {
          "name": "stdout",
          "output_type": "stream",
          "text": [
            "28\n"
          ]
        }
      ],
      "source": [
        "def K(a, b):\n",
        "  if a > b:\n",
        "    return 0\n",
        "  elif a == b:\n",
        "    return 1\n",
        "  else:\n",
        "    return K(a+1, b) + K(a*2, b)\n",
        "\n",
        "print(K(1, 10) * K(10, 20))"
      ]
    },
    {
      "cell_type": "code",
      "execution_count": null,
      "metadata": {
        "id": "rBWObeOecrQQ"
      },
      "outputs": [],
      "source": [
        "\n",
        "K1 = [0, 1] * [None] * (20+1-2)\n",
        "# в город 1 - 1 способ, в город 0 - 0 способов\n",
        "K2 = [0] * 10 + [1] + [None] * (20+1-11)  # 0 и 20 включительно\n",
        "# из г.10 до 9 включительно 0 способов попасть\n",
        "###\n",
        "\n"
      ]
    },
    {
      "cell_type": "code",
      "execution_count": null,
      "metadata": {
        "colab": {
          "base_uri": "https://localhost:8080/",
          "height": 210
        },
        "id": "QPNPc2qSdkSf",
        "outputId": "534f7f23-a086-4d75-bef6-8d3abd6289c0"
      },
      "outputs": [
        {
          "ename": "TypeError",
          "evalue": "ignored",
          "output_type": "error",
          "traceback": [
            "\u001b[0;31m---------------------------------------------------------------------------\u001b[0m",
            "\u001b[0;31mTypeError\u001b[0m                                 Traceback (most recent call last)",
            "\u001b[0;32m<ipython-input-7-6e8ca921903c>\u001b[0m in \u001b[0;36m<cell line: 10>\u001b[0;34m()\u001b[0m\n\u001b[1;32m      8\u001b[0m \u001b[0mK10\u001b[0m\u001b[0;34m[\u001b[0m\u001b[0;36m10\u001b[0m\u001b[0;34m]\u001b[0m \u001b[0;34m=\u001b[0m \u001b[0;36m1\u001b[0m\u001b[0;34m\u001b[0m\u001b[0;34m\u001b[0m\u001b[0m\n\u001b[1;32m      9\u001b[0m \u001b[0;34m\u001b[0m\u001b[0m\n\u001b[0;32m---> 10\u001b[0;31m \u001b[0mprint\u001b[0m\u001b[0;34m(\u001b[0m\u001b[0mK1\u001b[0m\u001b[0;34m[\u001b[0m\u001b[0;36m10\u001b[0m\u001b[0;34m]\u001b[0m \u001b[0;34m*\u001b[0m \u001b[0mK10\u001b[0m\u001b[0;34m[\u001b[0m\u001b[0;36m20\u001b[0m\u001b[0;34m]\u001b[0m\u001b[0;34m)\u001b[0m\u001b[0;34m\u001b[0m\u001b[0;34m\u001b[0m\u001b[0m\n\u001b[0m",
            "\u001b[0;31mTypeError\u001b[0m: unsupported operand type(s) for *: 'NoneType' and 'NoneType'"
          ]
        }
      ],
      "source": [
        "K1 = [None] * 21\n",
        "K1[0] = 0\n",
        "K1[1] = 1\n",
        "K10 = [None] * 21\n",
        "for i in range(0, 10):\n",
        "    K10[i] = 0\n",
        "K10[10] = 1"
      ]
    },
    {
      "cell_type": "code",
      "execution_count": null,
      "metadata": {
        "id": "a8f7lhwlenYd"
      },
      "outputs": [],
      "source": [
        "K1 = [None] * 21\n",
        "K1[0] = 0\n",
        "K1[1] = 1\n",
        "K10 = [None] * 21\n",
        "for i in range(0, 10):\n",
        "    K10[i] = 0\n",
        "K10[10] = 1"
      ]
    },
    {
      "cell_type": "code",
      "execution_count": null,
      "metadata": {
        "id": "VNtChQvIfr7b"
      },
      "outputs": [],
      "source": [
        "K1 = [0] * 21\n",
        "K1[1] = 1\n",
        "for n in range(2, 21):\n",
        "    K1[n] = K1[n-1] + (0 if n % 2 == 1 else K1[n//2])\n",
        "K10 = [0] * 21\n",
        "K10[10] = 1\n",
        "for n in range(11, 21):\n",
        "    K10[n] = K10[n-1] + (0 if n % 2 == 1 else K10[n//2])\n",
        "print(K1[10] * K10[20])"
      ]
    },
    {
      "cell_type": "markdown",
      "metadata": {
        "id": "Us2AnJNUYfpB"
      },
      "source": [
        "# 18 задание\n"
      ]
    },
    {
      "cell_type": "markdown",
      "metadata": {
        "id": "sbU5Bx-ZYlOd"
      },
      "source": [
        "=$Лист1.B2 + МАКС(A2; B1)"
      ]
    },
    {
      "cell_type": "markdown",
      "metadata": {
        "id": "6bIe7A_qSjhI"
      },
      "source": [
        "=$Лист1.E5 + МАКС(E4; D4)\n",
        "\n",
        "https://u.foxford.ngcdn.ru/uploads/inner_file/file/215820/30-11.xlsx\n"
      ]
    },
    {
      "cell_type": "markdown",
      "metadata": {
        "id": "FZhWdhVyWUhY"
      },
      "source": [
        "=A23+ЕСЛИ(ОСТАТ(A2;3)=0;A2;0)\n"
      ]
    },
    {
      "cell_type": "markdown",
      "metadata": {
        "id": "LeMeb3HV-4Rj"
      },
      "source": [
        "# Занятия\n"
      ]
    },
    {
      "cell_type": "code",
      "execution_count": null,
      "metadata": {
        "id": "oeZ6QZi--9ie"
      },
      "outputs": [],
      "source": [
        "file = open('data1.txt')\n",
        "data = [float(x.replace(',', '.')) for x in file]\n",
        "maxsum = 0\n",
        "s = data[0]\n",
        "for i in range(1, len(data)):\n",
        "    if data[i] < data[i-1]:  # descending\n",
        "        s = s + data[i]\n",
        "    else:\n",
        "        s = data[i]\n",
        "    if s > maxsum:\n",
        "        maxsum = s\n",
        "print(maxsum)"
      ]
    },
    {
      "cell_type": "markdown",
      "metadata": {
        "id": "DGsBIwSIexIo"
      },
      "source": [
        "7.12\n"
      ]
    },
    {
      "cell_type": "code",
      "execution_count": null,
      "metadata": {
        "id": "sVrRlYwkjUzL"
      },
      "outputs": [],
      "source": []
    },
    {
      "cell_type": "markdown",
      "metadata": {
        "id": "GoR3Cv1CDV76"
      },
      "source": [
        "Сколько существует восьмеричных шестизначных чисел, в которых все цифры различны, никакие две чётные или две нечётные цифры не стоят рядом и десятичная запись которых делится на 5?"
      ]
    },
    {
      "cell_type": "code",
      "execution_count": null,
      "metadata": {
        "colab": {
          "base_uri": "https://localhost:8080/"
        },
        "id": "dV5SOVe9C_dN",
        "outputId": "469d38aa-13a6-42d8-9cac-33626c3fea56"
      },
      "outputs": [
        {
          "name": "stdout",
          "output_type": "stream",
          "text": [
            "12240\n"
          ]
        }
      ],
      "source": [
        "import itertools\n",
        "count = 0\n",
        "\n",
        "for num in itertools.product('01234567', repeat=6):\n",
        "  if num[0] != '0':\n",
        "    if len(set(num)) == 6:\n",
        "      for i in range(5):\n",
        "        if int(num[i]) % 2 != int(num[i+1]) % 2:\n",
        "          if int(num[i], 8) % 5 == 0:\n",
        "            count += 1\n",
        "\n",
        "\n",
        "print(count)"
      ]
    },
    {
      "cell_type": "code",
      "execution_count": null,
      "metadata": {
        "id": "0K7aFYLyuIoy"
      },
      "outputs": [],
      "source": [
        "130977 / 297 - ceil((ceil(log2(1810)) * 213) / 8)"
      ]
    },
    {
      "cell_type": "markdown",
      "metadata": {
        "id": "eaS3dHbAanod"
      },
      "source": [
        "# Работа со строками"
      ]
    },
    {
      "cell_type": "code",
      "execution_count": null,
      "metadata": {
        "colab": {
          "base_uri": "https://localhost:8080/"
        },
        "id": "BjSahW49ar_i",
        "outputId": "6f696070-f6e3-476c-81b7-b54998603ffc"
      },
      "outputs": [
        {
          "name": "stdout",
          "output_type": "stream",
          "text": [
            "Ӕ\n"
          ]
        }
      ],
      "source": [
        "print(chr(1236))"
      ]
    },
    {
      "cell_type": "code",
      "execution_count": null,
      "metadata": {
        "colab": {
          "base_uri": "https://localhost:8080/"
        },
        "id": "of-wfdo3azKI",
        "outputId": "bbb16d65-c887-4cee-870e-1ef1572bb18f"
      },
      "outputs": [
        {
          "name": "stdout",
          "output_type": "stream",
          "text": [
            "74\n"
          ]
        }
      ],
      "source": [
        "print(ord('J'))"
      ]
    },
    {
      "cell_type": "code",
      "execution_count": null,
      "metadata": {
        "colab": {
          "base_uri": "https://localhost:8080/"
        },
        "id": "XnUcQnPcc3cm",
        "outputId": "96354077-20dc-4f1b-91bd-30dc8e570c3e"
      },
      "outputs": [
        {
          "name": "stdout",
          "output_type": "stream",
          "text": [
            "2\n"
          ]
        }
      ],
      "source": [
        "s = 'abracadabra'\n",
        "print(s.find('ra'))"
      ]
    },
    {
      "cell_type": "code",
      "execution_count": null,
      "metadata": {
        "id": "GsjFBmvFdQj9"
      },
      "outputs": [],
      "source": [
        "print(s.rfind('ra'))\n"
      ]
    },
    {
      "cell_type": "code",
      "execution_count": null,
      "metadata": {
        "colab": {
          "base_uri": "https://localhost:8080/"
        },
        "id": "iWbwoZYWd6Vx",
        "outputId": "5ccde1d0-38ac-44e6-9336-36edd99ddaf4"
      },
      "outputs": [
        {
          "name": "stdout",
          "output_type": "stream",
          "text": [
            "['Д*о*п*у*с*т*и*м', ',', 'м*е*н*я']\n"
          ]
        }
      ],
      "source": [
        "a = ['Допустим', ',', 'меня']\n",
        "a = map('*'.join, a)\n",
        "print(list(a))"
      ]
    },
    {
      "cell_type": "markdown",
      "metadata": {
        "id": "Sp96SjzX1-Ra"
      },
      "source": [
        "# Как найти все делители числа?"
      ]
    },
    {
      "cell_type": "code",
      "execution_count": null,
      "metadata": {
        "colab": {
          "base_uri": "https://localhost:8080/"
        },
        "id": "D2co4vey2GJ0",
        "outputId": "96e0b917-6ca6-4964-fee2-24412ec88e26"
      },
      "outputs": [
        {
          "name": "stdout",
          "output_type": "stream",
          "text": [
            "Введите число: 20\n",
            "Количество делителей числа 20 равно 4\n"
          ]
        }
      ],
      "source": [
        "num = int(input(\"Введите число: \"))\n",
        "count = 0\n",
        "\n",
        "for i in range(1, num+1):\n",
        "    if num % i == 0 and i % 2 == 0:\n",
        "        count += 1\n",
        "\n",
        "print(\"Количество делителей числа\", num, \"равно\", count)"
      ]
    },
    {
      "cell_type": "code",
      "source": [
        "def is_sorted(A):\n",
        "  N = len(A)\n",
        "  for i in range(0, N-1):\n",
        "    if A[i] > A[i+1]:\n",
        "      return False\n",
        "  else:\n",
        "      return True\n",
        "\n",
        "print(is_sorted([1, 20, 1, 2, 3, 4, 12, 2, 1]))\n"
      ],
      "metadata": {
        "colab": {
          "base_uri": "https://localhost:8080/"
        },
        "id": "godYjTAuESLh",
        "outputId": "e5e1b144-b5a4-49fa-f882-3d4c28a91c69"
      },
      "execution_count": null,
      "outputs": [
        {
          "output_type": "stream",
          "name": "stdout",
          "text": [
            "False\n"
          ]
        }
      ]
    },
    {
      "cell_type": "code",
      "source": [
        "def is_sorted(A):\n",
        "  N = len(A)\n",
        "  flag = True\n",
        "  for i in range(0, N-1):\n",
        "    if A[i] > A[i+1]:\n",
        "      flag = False\n",
        "  return flag"
      ],
      "metadata": {
        "id": "4ADLeU70F_wN"
      },
      "execution_count": null,
      "outputs": []
    },
    {
      "cell_type": "markdown",
      "source": [
        "сортировка дурака\n"
      ],
      "metadata": {
        "id": "r5fezoICGWMd"
      }
    },
    {
      "cell_type": "code",
      "source": [
        "def is_sorted(A):\n",
        "  N = len(A)\n",
        "  flag = True\n",
        "  for i in range(0, N-1):\n",
        "    if A[i] > A[i+1]:       #увидел бардак, сразу сам исправил\n",
        "      A[i], A[i+1] = A[i+1], A[i]\n",
        "      flag = False\n",
        "  return flag"
      ],
      "metadata": {
        "id": "IMlfvoLzGaGO"
      },
      "execution_count": null,
      "outputs": []
    },
    {
      "cell_type": "code",
      "source": [
        "def fool_sort(A):\n",
        "    N = len(A)\n",
        "    i = 0\n",
        "    while i < N-1:\n",
        "        if A[i] > A[i+1]:  # увидел бардак - исправь!\n",
        "            A[i], A[i+1] = A[i+1], A[i]\n",
        "            i = 0\n",
        "        else:\n",
        "            i += 1\n",
        "\n",
        "A = [6, 3, 2, 1, 4, 5, 8, 7]\n",
        "print(A)\n",
        "fool_sort(A)\n",
        "print(A)"
      ],
      "metadata": {
        "id": "gSknvMDdIWqV"
      },
      "execution_count": null,
      "outputs": []
    },
    {
      "cell_type": "markdown",
      "source": [
        "пузырёк"
      ],
      "metadata": {
        "id": "3zfjKSVPJjwU"
      }
    },
    {
      "cell_type": "code",
      "source": [
        "import sys\n",
        "def bubble_sort(A):\n",
        "    N = len(A)\n",
        "    i = 0\n",
        "    is_sorted = False\n",
        "    while not is_sorted:\n",
        "      is_sorted = True\n",
        "      for i in range(0, N-1):\n",
        "        if A[i] > A[i+1]:\n",
        "            A[i], A[i+1] = A[i+1], A[i]\n",
        "            is_sorted = False\n",
        "            print(A, file=sys.stderr)\n",
        "\n",
        "A = [1, 2, 13, 23, 2112, 4, 5, 63, 45, 123, 1]\n",
        "bubble_s"
      ],
      "metadata": {
        "colab": {
          "base_uri": "https://localhost:8080/"
        },
        "id": "_BPFuXsGJmbH",
        "outputId": "0cfe3fdd-735a-47b6-dd53-1a18bf6d4bab"
      },
      "execution_count": null,
      "outputs": [
        {
          "output_type": "stream",
          "name": "stdout",
          "text": [
            "a None\n"
          ]
        },
        {
          "output_type": "stream",
          "name": "stderr",
          "text": [
            "[1, 2, 13, 23, 4, 2112, 5, 63, 45, 123, 1]\n",
            "[1, 2, 13, 23, 4, 5, 2112, 63, 45, 123, 1]\n",
            "[1, 2, 13, 23, 4, 5, 63, 2112, 45, 123, 1]\n",
            "[1, 2, 13, 23, 4, 5, 63, 45, 2112, 123, 1]\n",
            "[1, 2, 13, 23, 4, 5, 63, 45, 123, 2112, 1]\n",
            "[1, 2, 13, 23, 4, 5, 63, 45, 123, 1, 2112]\n",
            "[1, 2, 13, 4, 23, 5, 63, 45, 123, 1, 2112]\n",
            "[1, 2, 13, 4, 5, 23, 63, 45, 123, 1, 2112]\n",
            "[1, 2, 13, 4, 5, 23, 45, 63, 123, 1, 2112]\n",
            "[1, 2, 13, 4, 5, 23, 45, 63, 1, 123, 2112]\n",
            "[1, 2, 4, 13, 5, 23, 45, 63, 1, 123, 2112]\n",
            "[1, 2, 4, 5, 13, 23, 45, 63, 1, 123, 2112]\n",
            "[1, 2, 4, 5, 13, 23, 45, 1, 63, 123, 2112]\n",
            "[1, 2, 4, 5, 13, 23, 1, 45, 63, 123, 2112]\n",
            "[1, 2, 4, 5, 13, 1, 23, 45, 63, 123, 2112]\n",
            "[1, 2, 4, 5, 1, 13, 23, 45, 63, 123, 2112]\n",
            "[1, 2, 4, 1, 5, 13, 23, 45, 63, 123, 2112]\n",
            "[1, 2, 1, 4, 5, 13, 23, 45, 63, 123, 2112]\n",
            "[1, 1, 2, 4, 5, 13, 23, 45, 63, 123, 2112]\n"
          ]
        }
      ]
    },
    {
      "cell_type": "code",
      "source": [
        "import random\n",
        "A = list(range(10))\n",
        "random.shuffle(A)\n",
        "print(A)\n",
        "A = sorted(A, key = lambda x: x % 10)\n",
        "print(A)"
      ],
      "metadata": {
        "colab": {
          "base_uri": "https://localhost:8080/"
        },
        "id": "6iDsI9WKOaiY",
        "outputId": "0092e50c-dcd5-447b-bb8d-c205e82a4d71"
      },
      "execution_count": null,
      "outputs": [
        {
          "output_type": "stream",
          "name": "stdout",
          "text": [
            "[7, 2, 1, 4, 5, 8, 0, 9, 3, 6]\n",
            "[0, 1, 2, 3, 4, 5, 6, 7, 8, 9]\n"
          ]
        }
      ]
    },
    {
      "cell_type": "code",
      "source": [
        "numbers = [int(x) for x in open('zad.txt').readline()]"
      ],
      "metadata": {
        "id": "V_m2hfFSY-N2"
      },
      "execution_count": null,
      "outputs": []
    },
    {
      "cell_type": "code",
      "source": [
        "N, *numbers = map(int, open(\"san-1.txt\"))\n",
        "numbers.sort(reverse=True)\n",
        "print(numbers[:10])\n",
        "print(numbers[-10:])"
      ],
      "metadata": {
        "id": "FKAirFrLcGJg"
      },
      "execution_count": null,
      "outputs": []
    },
    {
      "cell_type": "markdown",
      "metadata": {
        "id": "1Yh9jhwDzYZ-"
      },
      "source": [
        "# Статград варианты"
      ]
    },
    {
      "cell_type": "markdown",
      "metadata": {
        "id": "DykYtytAzcxb"
      },
      "source": [
        "## 19.12\n"
      ]
    },
    {
      "cell_type": "code",
      "execution_count": null,
      "metadata": {
        "colab": {
          "base_uri": "https://localhost:8080/"
        },
        "id": "KyPLtzmZzikL",
        "outputId": "8bfeddb5-a87b-45ca-b81f-fd30bc1b1686"
      },
      "outputs": [
        {
          "name": "stdout",
          "output_type": "stream",
          "text": [
            "19\n"
          ]
        }
      ],
      "source": [
        "ans = []\n",
        "for n in range(10_000):\n",
        "  n1 = bin(n)[2:]\n",
        "  n2 = n1 + bin(n%4)[2:]\n",
        "  r = int(n2, 2)\n",
        "  ans.append(r)\n",
        "\n",
        "nums = [0] * 100000\n",
        "\n",
        "for i in ans:\n",
        "  nums[i] = 1\n",
        "\n",
        "\n",
        "c = m = 0\n",
        "for j in nums:\n",
        "  c += 1\n",
        "  if j == 1:\n",
        "    m += 1\n",
        "\n",
        "  if c == 49:\n",
        "    break\n",
        "\n",
        "\n",
        "print(m)\n",
        "\n",
        "\n",
        "\n"
      ]
    },
    {
      "cell_type": "code",
      "execution_count": null,
      "metadata": {
        "id": "qmRTyuov4ayy"
      },
      "outputs": [],
      "source": [
        "from itertools import product\n",
        "from collections import Counter\n",
        "\n",
        "count = 0\n",
        "def check1(num):\n",
        "  for i in range(len(num)-1):\n",
        "    if (int(num[i]) % 2 == 0 and int(num[i+1]) % 2 != 0) or (int(num[i]) % 2 != 0 and int(num[i+1]) % 2 == 0):\n",
        "      return True\n",
        "\n",
        "def check2(num):\n",
        "  val = Counter(num)\n",
        "  for k in num:\n",
        "    if val[k] < 4:\n",
        "      continue\n",
        "    else:\n",
        "      return False\n",
        "  else:\n",
        "    return True\n",
        "\n",
        "for num1 in product('12345678', repeat=11):\n",
        "  num = ''.join(num1)\n",
        "  if check1(num):\n",
        "    if check2(num):\n",
        "      count += 1\n",
        "\n",
        "\n",
        "\n",
        "\n",
        "print(count)"
      ]
    },
    {
      "cell_type": "code",
      "execution_count": null,
      "metadata": {
        "colab": {
          "base_uri": "https://localhost:8080/"
        },
        "id": "0Pjma9RO7aDY",
        "outputId": "f8a82bab-9515-4eaa-ba94-bc76e4872b5f"
      },
      "outputs": [
        {
          "name": "stdout",
          "output_type": "stream",
          "text": [
            "241920\n"
          ]
        }
      ],
      "source": [
        "from itertools import *\n",
        "a0 = '2468'\n",
        "a1 = '1357'\n",
        "k = 0\n",
        "\n",
        "for x in product(a0, a1, a0, a1, a0, a1, a0, a1, a0):\n",
        "  s = ''.join(x)\n",
        "  if all(s.count(x)<=3 for x in s):\n",
        "    k += 1\n",
        "\n",
        "print(k)"
      ]
    },
    {
      "cell_type": "code",
      "execution_count": null,
      "metadata": {
        "colab": {
          "base_uri": "https://localhost:8080/"
        },
        "id": "5FXkmlar9Dhf",
        "outputId": "d1fea6d5-854a-4a71-81d6-63d62338ee4e"
      },
      "outputs": [
        {
          "name": "stdout",
          "output_type": "stream",
          "text": [
            "0\n",
            "1444\n"
          ]
        }
      ],
      "source": [
        "def f(a, n):\n",
        "  return sum(a[i]*n**i for i in range(len(a)))\n",
        "\n",
        "for x in range(39):\n",
        "  for y in range(39):\n",
        "    a = f([5,8,x,7,2,3,y,4,9], 39)\n",
        "    if a % 38 == 0:\n",
        "      b = y * 39 + x\n",
        "      if int(b ** 0.5) ** 2 == b:\n",
        "        print(b)\n"
      ]
    },
    {
      "cell_type": "code",
      "execution_count": null,
      "metadata": {
        "colab": {
          "base_uri": "https://localhost:8080/"
        },
        "id": "4fvDWvW5-4-R",
        "outputId": "f16b2ae5-104b-4274-f61c-a24ac2e8cb82"
      },
      "outputs": [
        {
          "name": "stdout",
          "output_type": "stream",
          "text": [
            "0\n",
            "1521\n"
          ]
        }
      ],
      "source": [
        "def f(a, n):\n",
        "  a = a[::-1]\n",
        "  return sum(a[i]*n**i for i in range(len(a)))\n",
        "\n",
        "for x in range(40):\n",
        "  for y in range(40):\n",
        "    a = f([5, 7, x, 6, 9, 2, y, 1, 9], 40)\n",
        "    if a % 39 == 0:\n",
        "      b = y * 40 + x\n",
        "      if int(b ** 0.5) ** 2 == b:\n",
        "        print(b)\n"
      ]
    },
    {
      "cell_type": "code",
      "execution_count": null,
      "metadata": {
        "colab": {
          "base_uri": "https://localhost:8080/",
          "height": 331
        },
        "id": "jPjbuydhEXiA",
        "outputId": "c469c12f-95e6-4cff-e9b0-3bc60f1f20ab"
      },
      "outputs": [
        {
          "ename": "TypeError",
          "evalue": "'int' object is not callable",
          "output_type": "error",
          "traceback": [
            "\u001b[0;31m---------------------------------------------------------------------------\u001b[0m",
            "\u001b[0;31mTypeError\u001b[0m                                 Traceback (most recent call last)",
            "\u001b[0;32m<ipython-input-40-d3303feebd68>\u001b[0m in \u001b[0;36m<cell line: 6>\u001b[0;34m()\u001b[0m\n\u001b[1;32m     11\u001b[0m   \u001b[0;32mif\u001b[0m \u001b[0mlen\u001b[0m\u001b[0;34m(\u001b[0m\u001b[0mset\u001b[0m\u001b[0;34m(\u001b[0m\u001b[0mt\u001b[0m\u001b[0;34m)\u001b[0m\u001b[0;34m)\u001b[0m \u001b[0;34m==\u001b[0m \u001b[0mlen\u001b[0m\u001b[0;34m(\u001b[0m\u001b[0mt\u001b[0m\u001b[0;34m)\u001b[0m\u001b[0;34m:\u001b[0m\u001b[0;34m\u001b[0m\u001b[0;34m\u001b[0m\u001b[0m\n\u001b[1;32m     12\u001b[0m     \u001b[0;32mfor\u001b[0m \u001b[0mp\u001b[0m \u001b[0;32min\u001b[0m \u001b[0mpermutations\u001b[0m\u001b[0;34m(\u001b[0m\u001b[0;34m'xywzu'\u001b[0m\u001b[0;34m)\u001b[0m\u001b[0;34m:\u001b[0m\u001b[0;34m\u001b[0m\u001b[0;34m\u001b[0m\u001b[0m\n\u001b[0;32m---> 13\u001b[0;31m       \u001b[0;32mif\u001b[0m \u001b[0;34m[\u001b[0m\u001b[0mc\u001b[0m\u001b[0;34m(\u001b[0m\u001b[0;34m**\u001b[0m\u001b[0mdict\u001b[0m\u001b[0;34m(\u001b[0m\u001b[0mzip\u001b[0m\u001b[0;34m(\u001b[0m\u001b[0mp\u001b[0m\u001b[0;34m,\u001b[0m\u001b[0mr\u001b[0m\u001b[0;34m)\u001b[0m\u001b[0;34m)\u001b[0m\u001b[0;34m)\u001b[0m \u001b[0;32mfor\u001b[0m \u001b[0mr\u001b[0m \u001b[0;32min\u001b[0m \u001b[0mt\u001b[0m\u001b[0;34m]\u001b[0m \u001b[0;34m==\u001b[0m \u001b[0;34m[\u001b[0m\u001b[0;36m0\u001b[0m\u001b[0;34m,\u001b[0m\u001b[0;36m0\u001b[0m\u001b[0;34m,\u001b[0m\u001b[0;36m0\u001b[0m\u001b[0;34m]\u001b[0m\u001b[0;34m:\u001b[0m\u001b[0;34m\u001b[0m\u001b[0;34m\u001b[0m\u001b[0m\n\u001b[0m\u001b[1;32m     14\u001b[0m         \u001b[0mprint\u001b[0m\u001b[0;34m(\u001b[0m\u001b[0mp\u001b[0m\u001b[0;34m)\u001b[0m\u001b[0;34m\u001b[0m\u001b[0;34m\u001b[0m\u001b[0m\n",
            "\u001b[0;32m<ipython-input-40-d3303feebd68>\u001b[0m in \u001b[0;36m<listcomp>\u001b[0;34m(.0)\u001b[0m\n\u001b[1;32m     11\u001b[0m   \u001b[0;32mif\u001b[0m \u001b[0mlen\u001b[0m\u001b[0;34m(\u001b[0m\u001b[0mset\u001b[0m\u001b[0;34m(\u001b[0m\u001b[0mt\u001b[0m\u001b[0;34m)\u001b[0m\u001b[0;34m)\u001b[0m \u001b[0;34m==\u001b[0m \u001b[0mlen\u001b[0m\u001b[0;34m(\u001b[0m\u001b[0mt\u001b[0m\u001b[0;34m)\u001b[0m\u001b[0;34m:\u001b[0m\u001b[0;34m\u001b[0m\u001b[0;34m\u001b[0m\u001b[0m\n\u001b[1;32m     12\u001b[0m     \u001b[0;32mfor\u001b[0m \u001b[0mp\u001b[0m \u001b[0;32min\u001b[0m \u001b[0mpermutations\u001b[0m\u001b[0;34m(\u001b[0m\u001b[0;34m'xywzu'\u001b[0m\u001b[0;34m)\u001b[0m\u001b[0;34m:\u001b[0m\u001b[0;34m\u001b[0m\u001b[0;34m\u001b[0m\u001b[0m\n\u001b[0;32m---> 13\u001b[0;31m       \u001b[0;32mif\u001b[0m \u001b[0;34m[\u001b[0m\u001b[0mc\u001b[0m\u001b[0;34m(\u001b[0m\u001b[0;34m**\u001b[0m\u001b[0mdict\u001b[0m\u001b[0;34m(\u001b[0m\u001b[0mzip\u001b[0m\u001b[0;34m(\u001b[0m\u001b[0mp\u001b[0m\u001b[0;34m,\u001b[0m\u001b[0mr\u001b[0m\u001b[0;34m)\u001b[0m\u001b[0;34m)\u001b[0m\u001b[0;34m)\u001b[0m \u001b[0;32mfor\u001b[0m \u001b[0mr\u001b[0m \u001b[0;32min\u001b[0m \u001b[0mt\u001b[0m\u001b[0;34m]\u001b[0m \u001b[0;34m==\u001b[0m \u001b[0;34m[\u001b[0m\u001b[0;36m0\u001b[0m\u001b[0;34m,\u001b[0m\u001b[0;36m0\u001b[0m\u001b[0;34m,\u001b[0m\u001b[0;36m0\u001b[0m\u001b[0;34m]\u001b[0m\u001b[0;34m:\u001b[0m\u001b[0;34m\u001b[0m\u001b[0;34m\u001b[0m\u001b[0m\n\u001b[0m\u001b[1;32m     14\u001b[0m         \u001b[0mprint\u001b[0m\u001b[0;34m(\u001b[0m\u001b[0mp\u001b[0m\u001b[0;34m)\u001b[0m\u001b[0;34m\u001b[0m\u001b[0;34m\u001b[0m\u001b[0m\n",
            "\u001b[0;31mTypeError\u001b[0m: 'int' object is not callable"
          ]
        }
      ],
      "source": [
        "from itertools import *\n",
        "\n",
        "def c(w, x, y, z, u):\n",
        "  return ((x <= y) and (z == (not w))) <= (u == (x or z))\n",
        "\n",
        "for a, b, c, d, e, f, g, h in product([0, 1], repeat=8):\n",
        "  t = [(0, a, 0, 0, 0),\n",
        "       (0, b, c, 0, 0),\n",
        "       (d, 0, 0, 0 ,e),\n",
        "       (f, 0, g, h, 0)]\n",
        "  if len(set(t)) == len(t):\n",
        "    for p in permutations('xywzu'):\n",
        "      if [c(**dict(zip(p,r))) for r in t] == [0,0,0]:\n",
        "        print(p)"
      ]
    },
    {
      "cell_type": "code",
      "execution_count": null,
      "metadata": {
        "colab": {
          "base_uri": "https://localhost:8080/"
        },
        "id": "hgj5M15j-GUR",
        "outputId": "28b3be54-55dd-4e7b-f541-8ec1620dde11"
      },
      "outputs": [
        {
          "name": "stdout",
          "output_type": "stream",
          "text": [
            "100430211 31913\n",
            "176430261 56063\n",
            "1374430221 436743\n",
            "1450430271 460893\n",
            "1973430201 627083\n"
          ]
        }
      ],
      "source": [
        "from fnmatch import *\n",
        "\n",
        "for x in range(0, 10**10, 3147):\n",
        "  if fnmatch(str(x), '1*4302?1'):\n",
        "     print(x, x // 3147)"
      ]
    },
    {
      "cell_type": "code",
      "execution_count": null,
      "metadata": {
        "id": "da5pr4XT-RWb"
      },
      "outputs": [],
      "source": [
        "file = open('24.txt').readline()\n",
        "\n",
        "c = m = d=  0\n",
        "for i in file:\n",
        "  c += 1\n",
        "  if i == 'C' or i == 'D':\n",
        "    d += 1\n",
        "  if d == 2:\n",
        "    m = max(m, c)\n",
        "    c = 0\n",
        "\n",
        "\n",
        "print(m)"
      ]
    }
  ],
  "metadata": {
    "colab": {
      "provenance": [],
      "toc_visible": true,
      "authorship_tag": "ABX9TyN3sj+HX+F2eKAaML+GeTGF",
      "include_colab_link": true
    },
    "kernelspec": {
      "display_name": "Python 3",
      "name": "python3"
    },
    "language_info": {
      "name": "python"
    }
  },
  "nbformat": 4,
  "nbformat_minor": 0
}